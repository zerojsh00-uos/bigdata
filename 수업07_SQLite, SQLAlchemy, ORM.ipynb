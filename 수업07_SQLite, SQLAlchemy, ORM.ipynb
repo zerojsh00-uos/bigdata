{
 "cells": [
  {
   "cell_type": "markdown",
   "metadata": {},
   "source": [
    "## SQL 실습"
   ]
  },
  {
   "cell_type": "code",
   "execution_count": 1,
   "metadata": {},
   "outputs": [],
   "source": [
    "import sqlite3"
   ]
  },
  {
   "cell_type": "markdown",
   "metadata": {},
   "source": [
    "- connect : DB API에 접속하기 위한 과정, cursor를 리턴한다.\n",
    "- cursor : fetch를 하기 위한 과정"
   ]
  },
  {
   "cell_type": "code",
   "execution_count": 2,
   "metadata": {},
   "outputs": [],
   "source": [
    "# sqlite3와 connect !\n",
    "conn = sqlite3.connect(\":memory:\") # memory에 임시적으로 !\n",
    "cur = conn.cursor()"
   ]
  },
  {
   "cell_type": "code",
   "execution_count": 3,
   "metadata": {},
   "outputs": [
    {
     "data": {
      "text/plain": [
       "<sqlite3.Cursor at 0x112045ea0>"
      ]
     },
     "execution_count": 3,
     "metadata": {},
     "output_type": "execute_result"
    }
   ],
   "source": [
    "cur.executescript(\n",
    "\"\"\"\n",
    "    CREATE TABLE Artist(\n",
    "        id INTEGER NOT NULL PRIMARY KEY AUTOINCREMENT UNIQUE,\n",
    "        name TEXT\n",
    "    ) ;\n",
    "    \n",
    "    CREATE TABLE Genre(\n",
    "        id INTEGER NOT NULL PRIMARY KEY AUTOINCREMENT UNIQUE,\n",
    "        name TEXT\n",
    "    ) ;\n",
    "    \n",
    "    CREATE TABLE Album(\n",
    "        id INTEGER NOT NULL PRIMARY KEY AUTOINCREMENT UNIQUE,\n",
    "        title TEXT,\n",
    "        artist_id INTEGER\n",
    "    ) ;\n",
    "    \n",
    "    CREATE TABLE Track(\n",
    "        id INTEGER NOT NULL PRIMARY KEY AUTOINCREMENT UNIQUE,\n",
    "        title TEXT,\n",
    "        length INTEGER,\n",
    "        rating INTEGER,\n",
    "        count INTEGER,\n",
    "        album_id INTEGER,\n",
    "        genre_id INTEGER\n",
    "    ) ;\n",
    "\"\"\"\n",
    ")"
   ]
  },
  {
   "cell_type": "code",
   "execution_count": 4,
   "metadata": {},
   "outputs": [
    {
     "data": {
      "text/plain": [
       "<sqlite3.Cursor at 0x112045ea0>"
      ]
     },
     "execution_count": 4,
     "metadata": {},
     "output_type": "execute_result"
    }
   ],
   "source": [
    "cur.executescript(\n",
    "\"\"\"\n",
    "    INSERT INTO Artist (name) VALUES('Led Zepplin');\n",
    "    INSERT INTO Artist (name) VALUES('AC/DC');\n",
    "    INSERT INTO Artist (name) VALUES('Simon');\n",
    "    INSERT INTO Artist (name) VALUES('Lucy');\n",
    "    INSERT INTO Artist (name) VALUES('James');\n",
    "    INSERT INTO Artist (name) VALUES('Erin');\n",
    "    \n",
    "    INSERT INTO Genre (name) VALUES('Rock');\n",
    "    INSERT INTO Genre (name) VALUES('Metal');\n",
    "\"\"\"\n",
    ")"
   ]
  },
  {
   "cell_type": "code",
   "execution_count": 5,
   "metadata": {},
   "outputs": [
    {
     "data": {
      "text/plain": [
       "<sqlite3.Cursor at 0x112045ea0>"
      ]
     },
     "execution_count": 5,
     "metadata": {},
     "output_type": "execute_result"
    }
   ],
   "source": [
    "cur.executescript(\n",
    "\"\"\"\n",
    "    INSERT INTO Album (title, artist_id) VALUES ('Who Made Who', 1);\n",
    "    INSERT INTO Album (title, artist_id) VALUES ('IV', 2);\n",
    "    INSERT INTO Album (title, artist_id) VALUES ('Simon Dominic', 3);\n",
    "    INSERT INTO Album (title, artist_id) VALUES ('Simon Dominic', 4);\n",
    "    INSERT INTO Album (title, artist_id) VALUES ('Lucy Dominic', 5);\n",
    "    INSERT INTO Album (title, artist_id) VALUES ('Lucy Dominic', 6);\n",
    "\"\"\"\n",
    ")"
   ]
  },
  {
   "cell_type": "code",
   "execution_count": 6,
   "metadata": {},
   "outputs": [
    {
     "data": {
      "text/plain": [
       "<sqlite3.Cursor at 0x112045ea0>"
      ]
     },
     "execution_count": 6,
     "metadata": {},
     "output_type": "execute_result"
    }
   ],
   "source": [
    "cur.executescript(\n",
    "\"\"\"\n",
    "    INSERT INTO Track (title, rating, length, count, album_id, genre_id) VALUES ('Black Dog', 5, 297, 0, 2, 1);\n",
    "    INSERT INTO Track (title, rating, length, count, album_id, genre_id) VALUES ('Stairway', 5, 482, 0, 2, 1);\n",
    "    INSERT INTO Track (title, rating, length, count, album_id, genre_id) VALUES ('About to Rock', 5, 313, 0, 1, 2);\n",
    "    INSERT INTO Track (title, rating, length, count, album_id, genre_id) VALUES ('Who Made Who', 5, 207, 0, 1, 2);\n",
    "    INSERT INTO Track (title, rating, length, count, album_id, genre_id) VALUES ('Simon', 5, 313, 0, 3, 2);\n",
    "    INSERT INTO Track (title, rating, length, count, album_id, genre_id) VALUES ('Lucy', 5, 207, 0, 4, 2);\n",
    "\"\"\"\n",
    ")"
   ]
  },
  {
   "cell_type": "code",
   "execution_count": 7,
   "metadata": {
    "scrolled": true
   },
   "outputs": [
    {
     "data": {
      "text/plain": [
       "[(1, 'Who Made Who', 1),\n",
       " (2, 'IV', 2),\n",
       " (3, 'Simon Dominic', 3),\n",
       " (4, 'Simon Dominic', 4),\n",
       " (5, 'Lucy Dominic', 5),\n",
       " (6, 'Lucy Dominic', 6)]"
      ]
     },
     "execution_count": 7,
     "metadata": {},
     "output_type": "execute_result"
    }
   ],
   "source": [
    "cur.execute('SELECT * FROM Album')\n",
    "cur.fetchall()"
   ]
  },
  {
   "cell_type": "code",
   "execution_count": 8,
   "metadata": {
    "scrolled": true
   },
   "outputs": [
    {
     "data": {
      "text/plain": [
       "[(1, 'Black Dog', 297, 5, 0, 2, 1),\n",
       " (2, 'Stairway', 482, 5, 0, 2, 1),\n",
       " (3, 'About to Rock', 313, 5, 0, 1, 2),\n",
       " (4, 'Who Made Who', 207, 5, 0, 1, 2),\n",
       " (5, 'Simon', 313, 5, 0, 3, 2),\n",
       " (6, 'Lucy', 207, 5, 0, 4, 2)]"
      ]
     },
     "execution_count": 8,
     "metadata": {},
     "output_type": "execute_result"
    }
   ],
   "source": [
    "cur.execute('SELECT * FROM Track')\n",
    "cur.fetchall()"
   ]
  },
  {
   "cell_type": "code",
   "execution_count": 9,
   "metadata": {
    "scrolled": true
   },
   "outputs": [],
   "source": [
    "# cur.executescript(\n",
    "# \"\"\"\n",
    "#     DROP TABLE Artist;\n",
    "#     DROP TABLE Album;\n",
    "#     DROP TABLE Genre;\n",
    "#     DROP TABLE Track;\n",
    "# \"\"\"\n",
    "# )"
   ]
  },
  {
   "cell_type": "code",
   "execution_count": 10,
   "metadata": {},
   "outputs": [],
   "source": [
    "cur.close()"
   ]
  },
  {
   "cell_type": "markdown",
   "metadata": {},
   "source": [
    "---"
   ]
  },
  {
   "cell_type": "markdown",
   "metadata": {},
   "source": [
    "## JOIN"
   ]
  },
  {
   "cell_type": "code",
   "execution_count": 11,
   "metadata": {},
   "outputs": [],
   "source": [
    "# sqlite3와 connect !\n",
    "conn = sqlite3.connect(\":memory:\") # memory에 임시적으로 !\n",
    "cur = conn.cursor()"
   ]
  },
  {
   "cell_type": "code",
   "execution_count": 12,
   "metadata": {},
   "outputs": [
    {
     "data": {
      "text/plain": [
       "<sqlite3.Cursor at 0x1120b4030>"
      ]
     },
     "execution_count": 12,
     "metadata": {},
     "output_type": "execute_result"
    }
   ],
   "source": [
    "cur.executescript(\n",
    "\"\"\"\n",
    "    CREATE TABLE Artist(\n",
    "        id INTEGER NOT NULL PRIMARY KEY AUTOINCREMENT UNIQUE,\n",
    "        name TEXT\n",
    "    ) ;\n",
    "    \n",
    "    CREATE TABLE Genre(\n",
    "        id INTEGER NOT NULL PRIMARY KEY AUTOINCREMENT UNIQUE,\n",
    "        name TEXT\n",
    "    ) ;\n",
    "    \n",
    "    CREATE TABLE Album(\n",
    "        id INTEGER NOT NULL PRIMARY KEY AUTOINCREMENT UNIQUE,\n",
    "        title TEXT,\n",
    "        artist_id INTEGER\n",
    "    ) ;\n",
    "    \n",
    "    CREATE TABLE Track(\n",
    "        id INTEGER NOT NULL PRIMARY KEY AUTOINCREMENT UNIQUE,\n",
    "        title TEXT,\n",
    "        length INTEGER,\n",
    "        rating INTEGER,\n",
    "        count INTEGER,\n",
    "        album_id INTEGER,\n",
    "        genre_id INTEGER\n",
    "    ) ;\n",
    "\"\"\"\n",
    ")\n",
    "\n",
    "cur.executescript(\n",
    "\"\"\"\n",
    "    INSERT INTO Artist (name) VALUES('artist01');\n",
    "    INSERT INTO Artist (name) VALUES('artist02');\n",
    "    INSERT INTO Artist (name) VALUES('artist03');\n",
    "    INSERT INTO Artist (name) VALUES('artist04');\n",
    "    INSERT INTO Artist (name) VALUES('artist05');\n",
    "    INSERT INTO Artist (name) VALUES('artist06');\n",
    "    \n",
    "    INSERT INTO Genre (name) VALUES('Rock');\n",
    "    INSERT INTO Genre (name) VALUES('Metal');\n",
    "\"\"\"\n",
    ")\n",
    "cur.executescript(\n",
    "\"\"\"\n",
    "    INSERT INTO Album (title, artist_id) VALUES ('Who Made Who', 1);\n",
    "    INSERT INTO Album (title, artist_id) VALUES ('IV', 2);\n",
    "    INSERT INTO Album (title, artist_id) VALUES ('Simon Dominic', 3);\n",
    "    INSERT INTO Album (title, artist_id) VALUES ('Simon Dominic', 4);\n",
    "    INSERT INTO Album (title, artist_id) VALUES ('Lucy Dominic', 5);\n",
    "    INSERT INTO Album (title, artist_id) VALUES ('Lucy Dominic', 6);\n",
    "\"\"\"\n",
    ")\n",
    "cur.executescript(\n",
    "\"\"\"\n",
    "    INSERT INTO Track (title, rating, length, count, album_id, genre_id) VALUES ('Black Dog', 5, 297, 0, 2, 1);\n",
    "    INSERT INTO Track (title, rating, length, count, album_id, genre_id) VALUES ('Stairway', 5, 482, 0, 2, 1);\n",
    "    INSERT INTO Track (title, rating, length, count, album_id, genre_id) VALUES ('About to Rock', 5, 313, 0, 1, 2);\n",
    "    INSERT INTO Track (title, rating, length, count, album_id, genre_id) VALUES ('Who Made Who', 5, 207, 0, 1, 2);\n",
    "    INSERT INTO Track (title, rating, length, count, album_id, genre_id) VALUES ('Simon', 5, 313, 0, 3, 2);\n",
    "    INSERT INTO Track (title, rating, length, count, album_id, genre_id) VALUES ('Lucy', 5, 207, 0, 4, 2);\n",
    "\"\"\"\n",
    ")"
   ]
  },
  {
   "cell_type": "code",
   "execution_count": 13,
   "metadata": {},
   "outputs": [
    {
     "name": "stdout",
     "output_type": "stream",
     "text": [
      "(1, 'artist01', 1, 'Who Made Who', 1)\n",
      "(1, 'artist01', 2, 'IV', 2)\n",
      "(1, 'artist01', 3, 'Simon Dominic', 3)\n",
      "(1, 'artist01', 4, 'Simon Dominic', 4)\n",
      "(1, 'artist01', 5, 'Lucy Dominic', 5)\n",
      "(1, 'artist01', 6, 'Lucy Dominic', 6)\n",
      "(2, 'artist02', 1, 'Who Made Who', 1)\n",
      "(2, 'artist02', 2, 'IV', 2)\n",
      "(2, 'artist02', 3, 'Simon Dominic', 3)\n",
      "(2, 'artist02', 4, 'Simon Dominic', 4)\n",
      "(2, 'artist02', 5, 'Lucy Dominic', 5)\n",
      "(2, 'artist02', 6, 'Lucy Dominic', 6)\n",
      "(3, 'artist03', 1, 'Who Made Who', 1)\n",
      "(3, 'artist03', 2, 'IV', 2)\n",
      "(3, 'artist03', 3, 'Simon Dominic', 3)\n",
      "(3, 'artist03', 4, 'Simon Dominic', 4)\n",
      "(3, 'artist03', 5, 'Lucy Dominic', 5)\n",
      "(3, 'artist03', 6, 'Lucy Dominic', 6)\n",
      "(4, 'artist04', 1, 'Who Made Who', 1)\n",
      "(4, 'artist04', 2, 'IV', 2)\n",
      "(4, 'artist04', 3, 'Simon Dominic', 3)\n",
      "(4, 'artist04', 4, 'Simon Dominic', 4)\n",
      "(4, 'artist04', 5, 'Lucy Dominic', 5)\n",
      "(4, 'artist04', 6, 'Lucy Dominic', 6)\n",
      "(5, 'artist05', 1, 'Who Made Who', 1)\n",
      "(5, 'artist05', 2, 'IV', 2)\n",
      "(5, 'artist05', 3, 'Simon Dominic', 3)\n",
      "(5, 'artist05', 4, 'Simon Dominic', 4)\n",
      "(5, 'artist05', 5, 'Lucy Dominic', 5)\n",
      "(5, 'artist05', 6, 'Lucy Dominic', 6)\n",
      "(6, 'artist06', 1, 'Who Made Who', 1)\n",
      "(6, 'artist06', 2, 'IV', 2)\n",
      "(6, 'artist06', 3, 'Simon Dominic', 3)\n",
      "(6, 'artist06', 4, 'Simon Dominic', 4)\n",
      "(6, 'artist06', 5, 'Lucy Dominic', 5)\n",
      "(6, 'artist06', 6, 'Lucy Dominic', 6)\n"
     ]
    }
   ],
   "source": [
    "# 크로스 조인\n",
    "\n",
    "cur.execute('SELECT * FROM Artist, Album') # cur.execute('SELECT * FROM Artist cross join Album')\n",
    "for row in cur.fetchall():\n",
    "    print(row)"
   ]
  },
  {
   "cell_type": "markdown",
   "metadata": {},
   "source": [
    "Artist와 Album을 크로스 조인해보았다. 크로스 조인은 N x M 으로 묶여서 나타나므로 매우 비효율적이다. 그래서 아래와 같이 Inner Join으로 처리하는 것이 좋다."
   ]
  },
  {
   "cell_type": "code",
   "execution_count": 14,
   "metadata": {},
   "outputs": [
    {
     "name": "stdout",
     "output_type": "stream",
     "text": [
      "(1, 'artist01', 1, 'Who Made Who', 1)\n",
      "(2, 'artist02', 2, 'IV', 2)\n",
      "(3, 'artist03', 3, 'Simon Dominic', 3)\n",
      "(4, 'artist04', 4, 'Simon Dominic', 4)\n",
      "(5, 'artist05', 5, 'Lucy Dominic', 5)\n",
      "(6, 'artist06', 6, 'Lucy Dominic', 6)\n"
     ]
    }
   ],
   "source": [
    "# Inner Join _ Artist - Album\n",
    "\n",
    "cur.execute(\"SELECT * FROM Artist JOIN Album on Artist.id=Album.artist_id\")\n",
    "for row in cur.fetchall():\n",
    "    print(row)"
   ]
  },
  {
   "cell_type": "code",
   "execution_count": 15,
   "metadata": {},
   "outputs": [
    {
     "name": "stdout",
     "output_type": "stream",
     "text": [
      "(2, 'IV', 2, 1, 'Black Dog', 297, 5, 0, 2, 1)\n",
      "(2, 'IV', 2, 2, 'Stairway', 482, 5, 0, 2, 1)\n",
      "(1, 'Who Made Who', 1, 3, 'About to Rock', 313, 5, 0, 1, 2)\n",
      "(1, 'Who Made Who', 1, 4, 'Who Made Who', 207, 5, 0, 1, 2)\n",
      "(3, 'Simon Dominic', 3, 5, 'Simon', 313, 5, 0, 3, 2)\n",
      "(4, 'Simon Dominic', 4, 6, 'Lucy', 207, 5, 0, 4, 2)\n"
     ]
    }
   ],
   "source": [
    "# Inner Join _ Album - Track\n",
    "\n",
    "cur.execute(\"SELECT * FROM Album JOIN Track on Album.id=Track.album_id\")\n",
    "for row in cur.fetchall():\n",
    "    print(row)"
   ]
  },
  {
   "cell_type": "code",
   "execution_count": 16,
   "metadata": {},
   "outputs": [
    {
     "name": "stdout",
     "output_type": "stream",
     "text": [
      "(1, 'Black Dog', 297, 5, 0, 2, 1, 2, 'IV', 2, 1, 'Rock', 2, 'artist02')\n",
      "(2, 'Stairway', 482, 5, 0, 2, 1, 2, 'IV', 2, 1, 'Rock', 2, 'artist02')\n",
      "(3, 'About to Rock', 313, 5, 0, 1, 2, 1, 'Who Made Who', 1, 2, 'Metal', 1, 'artist01')\n",
      "(4, 'Who Made Who', 207, 5, 0, 1, 2, 1, 'Who Made Who', 1, 2, 'Metal', 1, 'artist01')\n",
      "(5, 'Simon', 313, 5, 0, 3, 2, 3, 'Simon Dominic', 3, 2, 'Metal', 3, 'artist03')\n",
      "(6, 'Lucy', 207, 5, 0, 4, 2, 4, 'Simon Dominic', 4, 2, 'Metal', 4, 'artist04')\n"
     ]
    }
   ],
   "source": [
    "# 여러번 하는 Inner Join\n",
    "\n",
    "cur.execute(\"SELECT *\\\n",
    "            FROM Track JOIN Album JOIN Genre JOIN Artist\\\n",
    "            ON Track.album_id = Album.id and \\\n",
    "            Track.genre_id = Genre.id and \\\n",
    "            Album.artist_id = Artist.id\")\n",
    "for row in cur.fetchall():\n",
    "    print(row)"
   ]
  },
  {
   "cell_type": "code",
   "execution_count": 17,
   "metadata": {
    "scrolled": true
   },
   "outputs": [
    {
     "name": "stdout",
     "output_type": "stream",
     "text": [
      "[트랙 타이틀] : Black Dog       |  [아티스트] : artist02             |  [앨범 타이틀] : IV                   |  [장르] : Rock       |  \n",
      "[트랙 타이틀] : Stairway        |  [아티스트] : artist02             |  [앨범 타이틀] : IV                   |  [장르] : Rock       |  \n",
      "[트랙 타이틀] : About to Rock   |  [아티스트] : artist01             |  [앨범 타이틀] : Who Made Who         |  [장르] : Metal      |  \n",
      "[트랙 타이틀] : Who Made Who    |  [아티스트] : artist01             |  [앨범 타이틀] : Who Made Who         |  [장르] : Metal      |  \n",
      "[트랙 타이틀] : Simon           |  [아티스트] : artist03             |  [앨범 타이틀] : Simon Dominic        |  [장르] : Metal      |  \n",
      "[트랙 타이틀] : Lucy            |  [아티스트] : artist04             |  [앨범 타이틀] : Simon Dominic        |  [장르] : Metal      |  \n"
     ]
    }
   ],
   "source": [
    "# 여러번 하는 Inner Join\n",
    "\n",
    "cur.execute(\"SELECT Track.title, Artist.name, Album.title, Genre.name \\\n",
    "            FROM Track JOIN Album JOIN Genre JOIN Artist\\\n",
    "            ON Track.album_id = Album.id and \\\n",
    "            Track.genre_id = Genre.id and \\\n",
    "            Album.artist_id = Artist.id\")\n",
    "for row in cur.fetchall():\n",
    "    print('[트랙 타이틀] : {:15s} | '.format(row[0]), end = \" \")\n",
    "    print('[아티스트] : {:20s} | '.format(row[1]), end = \" \")\n",
    "    print('[앨범 타이틀] : {:20s} | '.format(row[2]), end = \" \")\n",
    "    print('[장르] : {:10s} | '.format(row[3]), end = \" \")\n",
    "    print()"
   ]
  },
  {
   "cell_type": "code",
   "execution_count": 18,
   "metadata": {},
   "outputs": [
    {
     "data": {
      "text/plain": [
       "<sqlite3.Cursor at 0x1120b4030>"
      ]
     },
     "execution_count": 18,
     "metadata": {},
     "output_type": "execute_result"
    }
   ],
   "source": [
    "# Left Join _ Album - Track\n",
    "\n",
    "cur.execute('INSERT INTO Track (title) VALUES (\"테스트를 위해 아무거나 !\")')"
   ]
  },
  {
   "cell_type": "code",
   "execution_count": 19,
   "metadata": {
    "scrolled": true
   },
   "outputs": [
    {
     "name": "stdout",
     "output_type": "stream",
     "text": [
      "(1, 'Black Dog', 297, 5, 0, 2, 1, 2, 'IV', 2)\n",
      "(2, 'Stairway', 482, 5, 0, 2, 1, 2, 'IV', 2)\n",
      "(3, 'About to Rock', 313, 5, 0, 1, 2, 1, 'Who Made Who', 1)\n",
      "(4, 'Who Made Who', 207, 5, 0, 1, 2, 1, 'Who Made Who', 1)\n",
      "(5, 'Simon', 313, 5, 0, 3, 2, 3, 'Simon Dominic', 3)\n",
      "(6, 'Lucy', 207, 5, 0, 4, 2, 4, 'Simon Dominic', 4)\n",
      "(7, '테스트를 위해 아무거나 !', None, None, None, None, None, None, None, None)\n"
     ]
    }
   ],
   "source": [
    "cur.execute('SELECT * FROM Track LEFT JOIN Album on Album.id = Track.album_id')\n",
    "for row in cur.fetchall() :\n",
    "    print(row)"
   ]
  },
  {
   "cell_type": "code",
   "execution_count": 20,
   "metadata": {},
   "outputs": [
    {
     "name": "stdout",
     "output_type": "stream",
     "text": [
      "(1, 'Who Made Who', 1, 3, 'About to Rock', 313, 5, 0, 1, 2)\n",
      "(1, 'Who Made Who', 1, 4, 'Who Made Who', 207, 5, 0, 1, 2)\n",
      "(2, 'IV', 2, 1, 'Black Dog', 297, 5, 0, 2, 1)\n",
      "(2, 'IV', 2, 2, 'Stairway', 482, 5, 0, 2, 1)\n",
      "(3, 'Simon Dominic', 3, 5, 'Simon', 313, 5, 0, 3, 2)\n",
      "(4, 'Simon Dominic', 4, 6, 'Lucy', 207, 5, 0, 4, 2)\n",
      "(5, 'Lucy Dominic', 5, None, None, None, None, None, None, None)\n",
      "(6, 'Lucy Dominic', 6, None, None, None, None, None, None, None)\n"
     ]
    }
   ],
   "source": [
    "cur.execute('SELECT * FROM Album LEFT JOIN Track on Album.id = Track.album_id')\n",
    "for row in cur.fetchall() :\n",
    "    print(row)"
   ]
  },
  {
   "cell_type": "markdown",
   "metadata": {},
   "source": [
    "---"
   ]
  },
  {
   "cell_type": "markdown",
   "metadata": {},
   "source": [
    "## Dump (backup)"
   ]
  },
  {
   "cell_type": "markdown",
   "metadata": {},
   "source": [
    "지금까지의 conn 객체로 작업했던 내용을 파일로 dump 뜰 수 있다."
   ]
  },
  {
   "cell_type": "code",
   "execution_count": 21,
   "metadata": {},
   "outputs": [],
   "source": [
    "with open(\"SQLite_dump_test.dump\",\"w\") as f :\n",
    "    for line in conn.iterdump():\n",
    "        f.write('%s\\n' % line)"
   ]
  },
  {
   "cell_type": "code",
   "execution_count": 22,
   "metadata": {},
   "outputs": [
    {
     "data": {
      "text/plain": [
       "'BEGIN TRANSACTION;\\nCREATE TABLE Album(\\n        id INTEGER NOT NULL PRIMARY KEY AUTOINCREMENT UNIQUE,\\n        title TEXT,\\n        artist_id INTEGER\\n    );\\nINSERT INTO \"Album\" VALUES(1,\\'Who Made Who\\',1);\\nINSERT INTO \"Album\" VALUES(2,\\'IV\\',2);\\nINSERT INTO \"Album\" VALUES(3,\\'Simon Dominic\\',3);\\nINSERT INTO \"Album\" VALUES(4,\\'Simon Dominic\\',4);\\nINSERT INTO \"Album\" VALUES(5,\\'Lucy Dominic\\',5);\\nINSERT INTO \"Album\" VALUES(6,\\'Lucy Dominic\\',6);\\nCREATE TABLE Artist(\\n        id INTEGER NOT NULL PRIMARY KEY AUTOINCREMENT UNIQUE,\\n        name TEXT\\n    );\\nINSERT INTO \"Artist\" VALUES(1,\\'artist01\\');\\nINSERT INTO \"Artist\" VALUES(2,\\'artist02\\');\\nINSERT INTO \"Artist\" VALUES(3,\\'artist03\\');\\nINSERT INTO \"Artist\" VALUES(4,\\'artist04\\');\\nINSERT INTO \"Artist\" VALUES(5,\\'artist05\\');\\nINSERT INTO \"Artist\" VALUES(6,\\'artist06\\');\\nCREATE TABLE Genre(\\n        id INTEGER NOT NULL PRIMARY KEY AUTOINCREMENT UNIQUE,\\n        name TEXT\\n    );\\nINSERT INTO \"Genre\" VALUES(1,\\'Rock\\');\\nINSERT INTO \"Genre\" VALUES(2,\\'Metal\\');\\nCREATE TABLE Track(\\n        id INTEGER NOT NULL PRIMARY KEY AUTOINCREMENT UNIQUE,\\n        title TEXT,\\n        length INTEGER,\\n        rating INTEGER,\\n        count INTEGER,\\n        album_id INTEGER,\\n        genre_id INTEGER\\n    );\\nINSERT INTO \"Track\" VALUES(1,\\'Black Dog\\',297,5,0,2,1);\\nINSERT INTO \"Track\" VALUES(2,\\'Stairway\\',482,5,0,2,1);\\nINSERT INTO \"Track\" VALUES(3,\\'About to Rock\\',313,5,0,1,2);\\nINSERT INTO \"Track\" VALUES(4,\\'Who Made Who\\',207,5,0,1,2);\\nINSERT INTO \"Track\" VALUES(5,\\'Simon\\',313,5,0,3,2);\\nINSERT INTO \"Track\" VALUES(6,\\'Lucy\\',207,5,0,4,2);\\nINSERT INTO \"Track\" VALUES(7,\\'테스트를 위해 아무거나 !\\',NULL,NULL,NULL,NULL,NULL);\\nDELETE FROM \"sqlite_sequence\";\\nINSERT INTO \"sqlite_sequence\" VALUES(\\'Artist\\',6);\\nINSERT INTO \"sqlite_sequence\" VALUES(\\'Genre\\',2);\\nINSERT INTO \"sqlite_sequence\" VALUES(\\'Album\\',6);\\nINSERT INTO \"sqlite_sequence\" VALUES(\\'Track\\',7);\\nCOMMIT;\\n'"
      ]
     },
     "execution_count": 22,
     "metadata": {},
     "output_type": "execute_result"
    }
   ],
   "source": [
    "data = None\n",
    "with open(\"SQLite_dump_test.dump\", \"r\") as f :\n",
    "    data = f.read()\n",
    "data"
   ]
  },
  {
   "cell_type": "code",
   "execution_count": 23,
   "metadata": {},
   "outputs": [],
   "source": [
    "conn = sqlite3.connect(\"만들 덤프 파일.db\")"
   ]
  },
  {
   "cell_type": "code",
   "execution_count": 24,
   "metadata": {},
   "outputs": [
    {
     "ename": "OperationalError",
     "evalue": "table Album already exists",
     "output_type": "error",
     "traceback": [
      "\u001b[0;31m---------------------------------------------------------------------------\u001b[0m",
      "\u001b[0;31mOperationalError\u001b[0m                          Traceback (most recent call last)",
      "\u001b[0;32m<ipython-input-24-834d8e0e3d08>\u001b[0m in \u001b[0;36m<module>\u001b[0;34m()\u001b[0m\n\u001b[1;32m      2\u001b[0m \u001b[0;34m\u001b[0m\u001b[0m\n\u001b[1;32m      3\u001b[0m \u001b[0mcur\u001b[0m \u001b[0;34m=\u001b[0m \u001b[0mconn\u001b[0m\u001b[0;34m.\u001b[0m\u001b[0mcursor\u001b[0m\u001b[0;34m(\u001b[0m\u001b[0;34m)\u001b[0m\u001b[0;34m\u001b[0m\u001b[0m\n\u001b[0;32m----> 4\u001b[0;31m \u001b[0mcur\u001b[0m\u001b[0;34m.\u001b[0m\u001b[0mexecutescript\u001b[0m\u001b[0;34m(\u001b[0m\u001b[0mdata\u001b[0m\u001b[0;34m)\u001b[0m\u001b[0;34m\u001b[0m\u001b[0m\n\u001b[0m",
      "\u001b[0;31mOperationalError\u001b[0m: table Album already exists"
     ]
    }
   ],
   "source": [
    "# data의 덤프를 '만들 덤프 파일'에 입력\n",
    "\n",
    "cur = conn.cursor()\n",
    "cur.executescript(data)"
   ]
  },
  {
   "cell_type": "markdown",
   "metadata": {},
   "source": [
    "이제 '만들 덤프 파일.db'를 메모장이나 편집기, 브라우저 등으로 확인해 볼 수 있다."
   ]
  },
  {
   "cell_type": "markdown",
   "metadata": {},
   "source": [
    "---"
   ]
  },
  {
   "cell_type": "markdown",
   "metadata": {},
   "source": [
    "## SQL Alchemy _ 아나콘다 깔면 있다."
   ]
  },
  {
   "cell_type": "code",
   "execution_count": 25,
   "metadata": {},
   "outputs": [],
   "source": [
    "import sqlalchemy"
   ]
  },
  {
   "cell_type": "code",
   "execution_count": 26,
   "metadata": {},
   "outputs": [
    {
     "data": {
      "text/plain": [
       "'1.2.1'"
      ]
     },
     "execution_count": 26,
     "metadata": {},
     "output_type": "execute_result"
    }
   ],
   "source": [
    "sqlalchemy.__version__"
   ]
  },
  {
   "cell_type": "code",
   "execution_count": 27,
   "metadata": {},
   "outputs": [],
   "source": [
    "from sqlalchemy import create_engine"
   ]
  },
  {
   "cell_type": "code",
   "execution_count": 28,
   "metadata": {},
   "outputs": [
    {
     "name": "stdout",
     "output_type": "stream",
     "text": [
      "Engine(sqlite:///sqlalchemy_test.db)\n"
     ]
    }
   ],
   "source": [
    "engine = create_engine(\"sqlite:///sqlalchemy_test.db\", echo = True) # :memory:로 써도 된다.\n",
    "print(engine)"
   ]
  },
  {
   "cell_type": "markdown",
   "metadata": {},
   "source": [
    "SQLAlchemy가 데이터베이스와 상호작용하기 위해서는 위와 같이 Engine을 만들어야 한다. \n",
    "\n",
    "*Note that, creating an engine does not connect to the database instantly. This process is postponed to when it's needed (like when we submit a query, or when create/update a row in a table)*"
   ]
  },
  {
   "cell_type": "code",
   "execution_count": 29,
   "metadata": {},
   "outputs": [],
   "source": [
    "from sqlalchemy import MetaData\n",
    "metadata = MetaData()"
   ]
  },
  {
   "cell_type": "markdown",
   "metadata": {},
   "source": [
    "MetaData is a container object that keeps together many different features of a database (or multiple databases) being described."
   ]
  },
  {
   "cell_type": "code",
   "execution_count": 30,
   "metadata": {},
   "outputs": [
    {
     "name": "stdout",
     "output_type": "stream",
     "text": [
      "MetaData(bind=None)\n"
     ]
    },
    {
     "data": {
      "text/plain": [
       "MetaData(bind=None)"
      ]
     },
     "execution_count": 30,
     "metadata": {},
     "output_type": "execute_result"
    }
   ],
   "source": [
    "print(metadata)\n",
    "metadata"
   ]
  },
  {
   "cell_type": "markdown",
   "metadata": {},
   "source": [
    "[metadata란 과연 무엇이란 말인가!?]\n",
    "\n",
    "A collection of :class:`.Table` objects and their associated schema\n",
    "constructs.\n",
    "\n",
    "Holds a collection of :class:`.Table` objects as well as\n",
    "an optional binding to an :class:`.Engine` or\n",
    ":class:`.Connection`.  If bound, the :class:`.Table` objects\n",
    "in the collection and their columns may participate in implicit SQL\n",
    "execution."
   ]
  },
  {
   "cell_type": "code",
   "execution_count": 31,
   "metadata": {},
   "outputs": [],
   "source": [
    "from sqlalchemy import Table, Column, Integer, String, ForeignKey"
   ]
  },
  {
   "cell_type": "code",
   "execution_count": 32,
   "metadata": {},
   "outputs": [],
   "source": [
    "users = Table('users', metadata, \n",
    "             Column('id', Integer, primary_key = True),\n",
    "             Column('name', String),\n",
    "             Column('fullname',String))\n"
   ]
  },
  {
   "cell_type": "code",
   "execution_count": 33,
   "metadata": {},
   "outputs": [
    {
     "name": "stdout",
     "output_type": "stream",
     "text": [
      "users\n"
     ]
    }
   ],
   "source": [
    "print(users)"
   ]
  },
  {
   "cell_type": "code",
   "execution_count": 34,
   "metadata": {},
   "outputs": [],
   "source": [
    "address = Table('addresses', metadata, \n",
    "             Column('id', Integer, primary_key = True),\n",
    "             Column('user_id', Integer, ForeignKey('users.id') ), # 누구를 참조하는지, 참조 대상\n",
    "             Column('email', String, nullable = False))"
   ]
  },
  {
   "cell_type": "code",
   "execution_count": 35,
   "metadata": {},
   "outputs": [
    {
     "data": {
      "text/plain": [
       "immutabledict({'users': Table('users', MetaData(bind=None), Column('id', Integer(), table=<users>, primary_key=True, nullable=False), Column('name', String(), table=<users>), Column('fullname', String(), table=<users>), schema=None), 'addresses': Table('addresses', MetaData(bind=None), Column('id', Integer(), table=<addresses>, primary_key=True, nullable=False), Column('user_id', Integer(), ForeignKey('users.id'), table=<addresses>), Column('email', String(), table=<addresses>, nullable=False), schema=None)})"
      ]
     },
     "execution_count": 35,
     "metadata": {},
     "output_type": "execute_result"
    }
   ],
   "source": [
    "metadata.tables"
   ]
  },
  {
   "cell_type": "code",
   "execution_count": 36,
   "metadata": {
    "scrolled": false
   },
   "outputs": [
    {
     "name": "stdout",
     "output_type": "stream",
     "text": [
      "<class 'sqlalchemy.sql.schema.Table'>\n",
      "\n",
      "users\n"
     ]
    },
    {
     "data": {
      "text/plain": [
       "Table('users', MetaData(bind=None), Column('id', Integer(), table=<users>, primary_key=True, nullable=False), Column('name', String(), table=<users>), Column('fullname', String(), table=<users>), schema=None)"
      ]
     },
     "execution_count": 36,
     "metadata": {},
     "output_type": "execute_result"
    }
   ],
   "source": [
    "print(type(metadata.tables['users']))\n",
    "print()\n",
    "print(metadata.tables['users'])\n",
    "metadata.tables['users']"
   ]
  },
  {
   "cell_type": "code",
   "execution_count": 37,
   "metadata": {},
   "outputs": [
    {
     "name": "stdout",
     "output_type": "stream",
     "text": [
      "users\n",
      "addresses\n"
     ]
    }
   ],
   "source": [
    "# metadata 객체에 저장된 테이블들의 이름\n",
    "\n",
    "for t in metadata.sorted_tables :\n",
    "    print(t.name)"
   ]
  },
  {
   "cell_type": "markdown",
   "metadata": {},
   "source": [
    "위와 같이 Table 생성 시 metadata 객체를 파라미터 값에 넣어준 결과로 users 테이블과 address 테이블의 정보가 메타데이터 객체에 immutabledict 형태로 저장되었다. \n",
    "\n",
    "메타데이터 객체에 users 테이블과 address 테이블의 정보가 들어있지만 아직 bind 되지 않은 상태이다. 바인드가 되면 SQL 실행이 가능해진다."
   ]
  },
  {
   "cell_type": "markdown",
   "metadata": {},
   "source": [
    "The usual way to issue CREATE is to use create_all() on the MetaData object. This method will issue queries that first check for the existence of each individual table, and if not found will issue the CREATE statements:"
   ]
  },
  {
   "cell_type": "code",
   "execution_count": 38,
   "metadata": {},
   "outputs": [
    {
     "name": "stdout",
     "output_type": "stream",
     "text": [
      "2018-07-10 23:31:37,889 INFO sqlalchemy.engine.base.Engine SELECT CAST('test plain returns' AS VARCHAR(60)) AS anon_1\n",
      "2018-07-10 23:31:37,890 INFO sqlalchemy.engine.base.Engine ()\n",
      "2018-07-10 23:31:37,893 INFO sqlalchemy.engine.base.Engine SELECT CAST('test unicode returns' AS VARCHAR(60)) AS anon_1\n",
      "2018-07-10 23:31:37,894 INFO sqlalchemy.engine.base.Engine ()\n",
      "2018-07-10 23:31:37,897 INFO sqlalchemy.engine.base.Engine PRAGMA table_info(\"users\")\n",
      "2018-07-10 23:31:37,899 INFO sqlalchemy.engine.base.Engine ()\n",
      "2018-07-10 23:31:37,902 INFO sqlalchemy.engine.base.Engine PRAGMA table_info(\"addresses\")\n",
      "2018-07-10 23:31:37,903 INFO sqlalchemy.engine.base.Engine ()\n"
     ]
    }
   ],
   "source": [
    "metadata.create_all(engine) # 메타데이터에 users, addresses 가 들어 있음"
   ]
  },
  {
   "cell_type": "code",
   "execution_count": 39,
   "metadata": {},
   "outputs": [
    {
     "name": "stdout",
     "output_type": "stream",
     "text": [
      "MetaData(bind=None)\n"
     ]
    }
   ],
   "source": [
    "print(metadata) # 아직 바인딩한게 없음"
   ]
  },
  {
   "cell_type": "code",
   "execution_count": 40,
   "metadata": {},
   "outputs": [
    {
     "name": "stdout",
     "output_type": "stream",
     "text": [
      "users\n",
      "addresses\n"
     ]
    }
   ],
   "source": [
    "for row in metadata.tables :\n",
    "    print(row)"
   ]
  },
  {
   "cell_type": "markdown",
   "metadata": {},
   "source": [
    "SQL을 쓰지 않고도 SQL문이 만들어졌다."
   ]
  },
  {
   "cell_type": "code",
   "execution_count": 41,
   "metadata": {
    "scrolled": false
   },
   "outputs": [
    {
     "name": "stdout",
     "output_type": "stream",
     "text": [
      "INSERT INTO users (id, name, fullname) VALUES (:id, :name, :fullname)\n"
     ]
    }
   ],
   "source": [
    "print(users.insert()) # 이 객체에 뭐라고 설정을 하면 아래 값에 뿅뿅뿅 값을 넣을 것임."
   ]
  },
  {
   "cell_type": "markdown",
   "metadata": {},
   "source": [
    "위와 같이 테이블객체.insert()를 하면 INSERT에 해당하는 SQL문이 만들어진다. 이제 아래와 같이 해당 테이블의 attribute에 들어갈 값들을 파라미터에 넣어주기만 하면 된다."
   ]
  },
  {
   "cell_type": "code",
   "execution_count": 42,
   "metadata": {},
   "outputs": [
    {
     "data": {
      "text/plain": [
       "<sqlalchemy.sql.dml.Insert object at 0x11250a320>"
      ]
     },
     "execution_count": 42,
     "metadata": {},
     "output_type": "execute_result"
    }
   ],
   "source": [
    "users.insert().values(name=\"Simon Lucy\", fullname = \"SanghyeonSimon\") # Users 객체의 attribute들"
   ]
  },
  {
   "cell_type": "code",
   "execution_count": 43,
   "metadata": {},
   "outputs": [
    {
     "name": "stdout",
     "output_type": "stream",
     "text": [
      "INSERT INTO users (name, fullname) VALUES (:name, :fullname)\n"
     ]
    }
   ],
   "source": [
    "print(users.insert().values(name=\"Simon Lucy\", fullname = \"SanghyeonSimon\")) # Users 객체의 attribute들"
   ]
  },
  {
   "cell_type": "code",
   "execution_count": 44,
   "metadata": {},
   "outputs": [
    {
     "data": {
      "text/plain": [
       "{'fullname': 'SanghyeonSimon', 'name': 'Simon Lucy'}"
      ]
     },
     "execution_count": 44,
     "metadata": {},
     "output_type": "execute_result"
    }
   ],
   "source": [
    "insert = users.insert().values(name=\"Simon Lucy\", fullname = \"SanghyeonSimon\") # Users 객체의 attribute들\n",
    "insert.compile().params"
   ]
  },
  {
   "cell_type": "code",
   "execution_count": 45,
   "metadata": {},
   "outputs": [
    {
     "data": {
      "text/plain": [
       "Engine(sqlite:///sqlalchemy_test.db)"
      ]
     },
     "execution_count": 45,
     "metadata": {},
     "output_type": "execute_result"
    }
   ],
   "source": [
    "# insert 테이블을 바인드함 => SQL로 활용 가능해짐\n",
    "insert.bind = engine\n",
    "insert.bind"
   ]
  },
  {
   "cell_type": "code",
   "execution_count": 46,
   "metadata": {},
   "outputs": [],
   "source": [
    "# procure a connection from an engine\n",
    "\n",
    "conn = engine.connect()"
   ]
  },
  {
   "cell_type": "markdown",
   "metadata": {},
   "source": [
    "connect()함수는 Connection 객체를 반환한다. Connection 객체는 데이터베이스에 접근하기 위해서 내부적으로 DBAPI connection을 이용한다. DBAPI에 대한 connection은 connection을 가지고 있는 Pool로부터 얻는다."
   ]
  },
  {
   "cell_type": "code",
   "execution_count": 47,
   "metadata": {},
   "outputs": [
    {
     "name": "stdout",
     "output_type": "stream",
     "text": [
      "2018-07-10 23:31:51,483 INFO sqlalchemy.engine.base.Engine INSERT INTO users (name, fullname) VALUES (?, ?)\n",
      "2018-07-10 23:31:51,485 INFO sqlalchemy.engine.base.Engine ('Simon Lucy', 'SanghyeonSimon')\n",
      "2018-07-10 23:31:51,488 INFO sqlalchemy.engine.base.Engine COMMIT\n"
     ]
    }
   ],
   "source": [
    "result = conn.execute(insert) # insert는 bind 되어있다"
   ]
  },
  {
   "cell_type": "code",
   "execution_count": 48,
   "metadata": {
    "scrolled": false
   },
   "outputs": [
    {
     "data": {
      "text/plain": [
       "[7]"
      ]
     },
     "execution_count": 48,
     "metadata": {},
     "output_type": "execute_result"
    }
   ],
   "source": [
    "result.inserted_primary_key"
   ]
  },
  {
   "cell_type": "code",
   "execution_count": 49,
   "metadata": {
    "scrolled": true
   },
   "outputs": [
    {
     "name": "stdout",
     "output_type": "stream",
     "text": [
      "INSERT INTO users (id, name, fullname) VALUES (:id, :name, :fullname)\n"
     ]
    }
   ],
   "source": [
    "# users.insert()는 users 테이블에서의 INSERT SQL 구문을 의미한다.\n",
    "insert = users.insert()\n",
    "print(insert)"
   ]
  },
  {
   "cell_type": "code",
   "execution_count": 50,
   "metadata": {},
   "outputs": [
    {
     "name": "stdout",
     "output_type": "stream",
     "text": [
      "2018-07-10 23:31:52,162 INFO sqlalchemy.engine.base.Engine INSERT INTO users (name, fullname) VALUES (?, ?)\n",
      "2018-07-10 23:31:52,165 INFO sqlalchemy.engine.base.Engine ('Lee', 'Jinsil')\n",
      "2018-07-10 23:31:52,168 INFO sqlalchemy.engine.base.Engine COMMIT\n"
     ]
    },
    {
     "data": {
      "text/plain": [
       "<sqlalchemy.engine.result.ResultProxy at 0x11250aeb8>"
      ]
     },
     "execution_count": 50,
     "metadata": {},
     "output_type": "execute_result"
    }
   ],
   "source": [
    "# INSERT SQL 구문을 execute 하는 또 다른 방법\n",
    "conn.execute(insert, name = \"Lee\", fullname = \"Jinsil\")"
   ]
  },
  {
   "cell_type": "code",
   "execution_count": 51,
   "metadata": {},
   "outputs": [
    {
     "name": "stdout",
     "output_type": "stream",
     "text": [
      "2018-07-10 23:31:52,586 INFO sqlalchemy.engine.base.Engine INSERT INTO users (name, fullname) VALUES (?, ?)\n",
      "2018-07-10 23:31:52,588 INFO sqlalchemy.engine.base.Engine ('Simon', 'Peter')\n",
      "2018-07-10 23:31:52,590 INFO sqlalchemy.engine.base.Engine COMMIT\n"
     ]
    }
   ],
   "source": [
    "result = conn.execute(insert, name = \"Simon\" , fullname = \"Peter\")"
   ]
  },
  {
   "cell_type": "code",
   "execution_count": 52,
   "metadata": {},
   "outputs": [
    {
     "data": {
      "text/plain": [
       "[9]"
      ]
     },
     "execution_count": 52,
     "metadata": {},
     "output_type": "execute_result"
    }
   ],
   "source": [
    "result.inserted_primary_key"
   ]
  },
  {
   "cell_type": "code",
   "execution_count": 53,
   "metadata": {},
   "outputs": [
    {
     "name": "stdout",
     "output_type": "stream",
     "text": [
      "2018-07-10 23:31:54,844 INFO sqlalchemy.engine.base.Engine INSERT INTO addresses (user_id, email) VALUES (?, ?)\n",
      "2018-07-10 23:31:54,846 INFO sqlalchemy.engine.base.Engine ((1, 'zerojsh00@nate.com'), (2, 'mail@uos.ac.kr'))\n",
      "2018-07-10 23:31:54,849 INFO sqlalchemy.engine.base.Engine COMMIT\n"
     ]
    },
    {
     "data": {
      "text/plain": [
       "<sqlalchemy.engine.result.ResultProxy at 0x1124e0b38>"
      ]
     },
     "execution_count": 53,
     "metadata": {},
     "output_type": "execute_result"
    }
   ],
   "source": [
    "# address table에 insert 하는 기능\n",
    "\n",
    "conn.execute(address.insert(), [\n",
    "    {'user_id' : 1, 'email' : 'zerojsh00@nate.com'},\n",
    "    {'user_id' : 2, 'email' : 'mail@uos.ac.kr'}\n",
    "])"
   ]
  },
  {
   "cell_type": "markdown",
   "metadata": {},
   "source": [
    "위와 같이 여러 개를 동시에 INSERT 하기 위해서는 list 형태로 넣어준다."
   ]
  },
  {
   "cell_type": "markdown",
   "metadata": {},
   "source": [
    "여기까지는 딱히 편하다는 느낌이 안 들수도 있다."
   ]
  },
  {
   "cell_type": "code",
   "execution_count": 54,
   "metadata": {},
   "outputs": [],
   "source": [
    "from sqlalchemy.sql import select"
   ]
  },
  {
   "cell_type": "code",
   "execution_count": 55,
   "metadata": {},
   "outputs": [
    {
     "name": "stdout",
     "output_type": "stream",
     "text": [
      "2018-07-10 23:33:13,524 INFO sqlalchemy.engine.base.Engine SELECT users.id, users.name, users.fullname \n",
      "FROM users\n",
      "2018-07-10 23:33:13,525 INFO sqlalchemy.engine.base.Engine ()\n",
      "result >>>  <sqlalchemy.engine.result.ResultProxy object at 0x11250a400>\n",
      "(1, 'Simon Lucy', 'SanghyeonSimon')\n",
      "(2, 'Lee', 'Jinsil')\n",
      "(3, 'Simon', 'Peter')\n",
      "(4, 'Simon Lucy', 'SanghyeonSimon')\n",
      "(5, 'Lee', 'Jinsil')\n",
      "(6, 'Simon', 'Peter')\n",
      "(7, 'Simon Lucy', 'SanghyeonSimon')\n",
      "(8, 'Lee', 'Jinsil')\n",
      "(9, 'Simon', 'Peter')\n"
     ]
    }
   ],
   "source": [
    "query = select([users]) # 여러 테이블에서 select 해올 수 있으므로 리스트 형태로 넣어준다.\n",
    "result = conn.execute(query)\n",
    "\n",
    "print('result >>> ',result)\n",
    "\n",
    "for row in result :\n",
    "    print(row)"
   ]
  },
  {
   "cell_type": "code",
   "execution_count": 56,
   "metadata": {},
   "outputs": [
    {
     "name": "stdout",
     "output_type": "stream",
     "text": [
      "2018-07-10 23:33:34,554 INFO sqlalchemy.engine.base.Engine SELECT users.id, users.name, users.fullname \n",
      "FROM users\n",
      "2018-07-10 23:33:34,555 INFO sqlalchemy.engine.base.Engine ()\n"
     ]
    }
   ],
   "source": [
    "result = conn.execute(query) # result 를 다시 받아 옴"
   ]
  },
  {
   "cell_type": "code",
   "execution_count": 57,
   "metadata": {},
   "outputs": [],
   "source": [
    "row = result.fetchone()"
   ]
  },
  {
   "cell_type": "code",
   "execution_count": 58,
   "metadata": {},
   "outputs": [
    {
     "name": "stdout",
     "output_type": "stream",
     "text": [
      "(1, 'Simon Lucy', 'SanghyeonSimon')\n"
     ]
    }
   ],
   "source": [
    "print(row)"
   ]
  },
  {
   "cell_type": "code",
   "execution_count": 59,
   "metadata": {},
   "outputs": [
    {
     "name": "stdout",
     "output_type": "stream",
     "text": [
      "(2, 'Lee', 'Jinsil')\n"
     ]
    }
   ],
   "source": [
    "row = result.fetchone()\n",
    "print(row)"
   ]
  },
  {
   "cell_type": "markdown",
   "metadata": {},
   "source": [
    "while문으로 fetchone() 하는 것이 일반적이다."
   ]
  },
  {
   "cell_type": "code",
   "execution_count": 60,
   "metadata": {},
   "outputs": [
    {
     "name": "stdout",
     "output_type": "stream",
     "text": [
      "2018-07-10 23:33:58,243 INFO sqlalchemy.engine.base.Engine SELECT users.name, users.fullname \n",
      "FROM users\n",
      "2018-07-10 23:33:58,245 INFO sqlalchemy.engine.base.Engine ()\n",
      "('Simon Lucy', 'SanghyeonSimon')\n",
      "('Lee', 'Jinsil')\n",
      "('Simon', 'Peter')\n",
      "('Simon Lucy', 'SanghyeonSimon')\n",
      "('Lee', 'Jinsil')\n",
      "('Simon', 'Peter')\n",
      "('Simon Lucy', 'SanghyeonSimon')\n",
      "('Lee', 'Jinsil')\n",
      "('Simon', 'Peter')\n"
     ]
    }
   ],
   "source": [
    "result = conn.execute(select([users.c.name, users.c.fullname])) #'.c. 는 instance 안의 Column을 의미한다.'\n",
    "\n",
    "for row in result :\n",
    "    print(row)"
   ]
  },
  {
   "cell_type": "markdown",
   "metadata": {},
   "source": [
    "### Conjunction"
   ]
  },
  {
   "cell_type": "code",
   "execution_count": 61,
   "metadata": {},
   "outputs": [],
   "source": [
    "from sqlalchemy import and_, or_, not_"
   ]
  },
  {
   "cell_type": "code",
   "execution_count": 63,
   "metadata": {},
   "outputs": [
    {
     "data": {
      "text/plain": [
       "function"
      ]
     },
     "execution_count": 63,
     "metadata": {},
     "output_type": "execute_result"
    }
   ],
   "source": [
    "type(and_)"
   ]
  },
  {
   "cell_type": "code",
   "execution_count": 62,
   "metadata": {},
   "outputs": [
    {
     "name": "stdout",
     "output_type": "stream",
     "text": [
      "users.id = addresses.user_id\n"
     ]
    }
   ],
   "source": [
    "print(users.c.id == address.c.user_id) # 파이썬 문법이 어떻게 SQL 문법으로 바뀌는지 ...."
   ]
  },
  {
   "cell_type": "code",
   "execution_count": 148,
   "metadata": {},
   "outputs": [
    {
     "name": "stdout",
     "output_type": "stream",
     "text": [
      "users.id = addresses.user_id OR users.id = :id_1\n"
     ]
    }
   ],
   "source": [
    "print(or_(users.c.id == address.c.user_id, users.c.id == 1))"
   ]
  },
  {
   "cell_type": "code",
   "execution_count": 152,
   "metadata": {},
   "outputs": [
    {
     "name": "stdout",
     "output_type": "stream",
     "text": [
      "users.id = addresses.user_id OR users.id = :id_1\n"
     ]
    }
   ],
   "source": [
    "print((users.c.id == address.c.user_id) | (users.c.id == 1))"
   ]
  },
  {
   "cell_type": "code",
   "execution_count": 64,
   "metadata": {},
   "outputs": [
    {
     "name": "stdout",
     "output_type": "stream",
     "text": [
      "2018-07-10 23:37:52,307 INFO sqlalchemy.engine.base.Engine SELECT users.id, users.name, users.fullname \n",
      "FROM users \n",
      "WHERE users.id = ?\n",
      "2018-07-10 23:37:52,308 INFO sqlalchemy.engine.base.Engine (1,)\n"
     ]
    }
   ],
   "source": [
    "# Python 문법으로 where 절을 정의하여 SQL로 만들어주기\n",
    "\n",
    "result = conn.execute(select([users]).where(users.c.id == 1))"
   ]
  },
  {
   "cell_type": "code",
   "execution_count": 65,
   "metadata": {},
   "outputs": [
    {
     "name": "stdout",
     "output_type": "stream",
     "text": [
      "(1, 'Simon Lucy', 'SanghyeonSimon')\n"
     ]
    }
   ],
   "source": [
    "for row in result :\n",
    "    print(row)"
   ]
  },
  {
   "cell_type": "code",
   "execution_count": 66,
   "metadata": {},
   "outputs": [
    {
     "name": "stdout",
     "output_type": "stream",
     "text": [
      "2018-07-10 23:38:31,711 INFO sqlalchemy.engine.base.Engine SELECT users.id, users.name, users.fullname, addresses.id, addresses.user_id, addresses.email \n",
      "FROM users, addresses \n",
      "WHERE users.id = addresses.user_id\n",
      "2018-07-10 23:38:31,713 INFO sqlalchemy.engine.base.Engine ()\n",
      "(1, 'Simon Lucy', 'SanghyeonSimon', 1, 1, 'zerojsh00@nate.com')\n",
      "(2, 'Lee', 'Jinsil', 2, 2, 'mail@uos.ac.kr')\n",
      "(1, 'Simon Lucy', 'SanghyeonSimon', 3, 1, 'zerojsh00@nate.com')\n",
      "(2, 'Lee', 'Jinsil', 4, 2, 'mail@uos.ac.kr')\n",
      "(1, 'Simon Lucy', 'SanghyeonSimon', 5, 1, 'zerojsh00@nate.com')\n",
      "(2, 'Lee', 'Jinsil', 6, 2, 'mail@uos.ac.kr')\n"
     ]
    }
   ],
   "source": [
    "# inner join\n",
    "\n",
    "result = conn.execute(select([users, address]).where(users.c.id == address.c.user_id))\n",
    "\n",
    "for row in result :\n",
    "    print(row)"
   ]
  },
  {
   "cell_type": "markdown",
   "metadata": {},
   "source": [
    "이렇게 하면 join을 몰라도 where 절로 join 비슷한 결과를 가져올 수 있다."
   ]
  },
  {
   "cell_type": "code",
   "execution_count": 67,
   "metadata": {},
   "outputs": [
    {
     "name": "stdout",
     "output_type": "stream",
     "text": [
      "2018-07-10 23:39:13,508 INFO sqlalchemy.engine.base.Engine SELECT users.id, users.name, users.fullname \n",
      "FROM users \n",
      "WHERE users.name LIKE ?\n",
      "2018-07-10 23:39:13,510 INFO sqlalchemy.engine.base.Engine ('%S%',)\n",
      "(1, 'Simon Lucy', 'SanghyeonSimon')\n",
      "(3, 'Simon', 'Peter')\n",
      "(4, 'Simon Lucy', 'SanghyeonSimon')\n",
      "(6, 'Simon', 'Peter')\n",
      "(7, 'Simon Lucy', 'SanghyeonSimon')\n",
      "(9, 'Simon', 'Peter')\n"
     ]
    }
   ],
   "source": [
    "result = conn.execute(select([users]).where(users.c.name.like('%S%'))) # %S% => S로 시작하는 모든 것\n",
    "\n",
    "for row in result :\n",
    "    print(row)"
   ]
  },
  {
   "cell_type": "code",
   "execution_count": 68,
   "metadata": {},
   "outputs": [
    {
     "name": "stdout",
     "output_type": "stream",
     "text": [
      "2018-07-10 23:39:19,493 INFO sqlalchemy.engine.base.Engine SELECT users.id, users.name, users.fullname, addresses.id, addresses.user_id, addresses.email \n",
      "FROM users, addresses \n",
      "WHERE users.id = addresses.user_id AND users.name LIKE ?\n",
      "2018-07-10 23:39:19,496 INFO sqlalchemy.engine.base.Engine ('%S%',)\n",
      "(1, 'Simon Lucy', 'SanghyeonSimon', 1, 1, 'zerojsh00@nate.com')\n",
      "(1, 'Simon Lucy', 'SanghyeonSimon', 3, 1, 'zerojsh00@nate.com')\n",
      "(1, 'Simon Lucy', 'SanghyeonSimon', 5, 1, 'zerojsh00@nate.com')\n"
     ]
    }
   ],
   "source": [
    "# where 절을 두번 연달아 쓰기\n",
    "\n",
    "result = conn.execute(select([users, address]).where(users.c.id == address.c.user_id).where(users.c.name.like('%S%')))\n",
    "\n",
    "for row in result:\n",
    "    print(row)"
   ]
  },
  {
   "cell_type": "markdown",
   "metadata": {},
   "source": [
    "### join"
   ]
  },
  {
   "cell_type": "code",
   "execution_count": 69,
   "metadata": {},
   "outputs": [],
   "source": [
    "from sqlalchemy import join"
   ]
  },
  {
   "cell_type": "code",
   "execution_count": 71,
   "metadata": {
    "scrolled": true
   },
   "outputs": [
    {
     "name": "stdout",
     "output_type": "stream",
     "text": [
      "users JOIN addresses ON users.id = addresses.user_id\n"
     ]
    }
   ],
   "source": [
    "# address 테이블에서 user_id가 참조해야 하는 Foreign Key라는 사실을 명시해주었기 때문에 자동으로 Join할 수 있다.\n",
    "\n",
    "print(users.join(address)) "
   ]
  },
  {
   "cell_type": "markdown",
   "metadata": {},
   "source": [
    "ON condition of the join, as it’s called, was automatically generated based on the ForeignKey object"
   ]
  },
  {
   "cell_type": "code",
   "execution_count": 72,
   "metadata": {},
   "outputs": [
    {
     "name": "stdout",
     "output_type": "stream",
     "text": [
      "users JOIN addresses ON users.id = addresses.user_id\n"
     ]
    }
   ],
   "source": [
    "# Foreign Key를 명시해주지 않을 경우 이처럼 직접 써줄 수 있다.\n",
    "\n",
    "print(users.join(address, users.c.id == address.c.user_id))"
   ]
  },
  {
   "cell_type": "code",
   "execution_count": 73,
   "metadata": {},
   "outputs": [
    {
     "name": "stdout",
     "output_type": "stream",
     "text": [
      "2018-07-10 23:46:35,473 INFO sqlalchemy.engine.base.Engine SELECT users.id, users.name, users.fullname \n",
      "FROM users JOIN addresses ON users.id = addresses.user_id\n",
      "2018-07-10 23:46:35,474 INFO sqlalchemy.engine.base.Engine ()\n"
     ]
    }
   ],
   "source": [
    "result = conn.execute(select([users]).select_from(users.join(address)))"
   ]
  },
  {
   "cell_type": "code",
   "execution_count": 74,
   "metadata": {},
   "outputs": [
    {
     "data": {
      "text/plain": [
       "[(1, 'Simon Lucy', 'SanghyeonSimon'),\n",
       " (2, 'Lee', 'Jinsil'),\n",
       " (1, 'Simon Lucy', 'SanghyeonSimon'),\n",
       " (2, 'Lee', 'Jinsil'),\n",
       " (1, 'Simon Lucy', 'SanghyeonSimon'),\n",
       " (2, 'Lee', 'Jinsil')]"
      ]
     },
     "execution_count": 74,
     "metadata": {},
     "output_type": "execute_result"
    }
   ],
   "source": [
    "result.fetchall()"
   ]
  },
  {
   "cell_type": "markdown",
   "metadata": {},
   "source": [
    "PK, FK 설정으로 Join이 엄청나게 간단해진 것이다. Join된 가상의 테이블에서 select를 한 것이라고 보면 된다."
   ]
  },
  {
   "cell_type": "markdown",
   "metadata": {},
   "source": [
    "While join() exclusively deals with the “right” side of the JOIN, we can also control the “left” side, in those cases where it’s needed, using select_from()."
   ]
  },
  {
   "cell_type": "code",
   "execution_count": 75,
   "metadata": {},
   "outputs": [
    {
     "name": "stdout",
     "output_type": "stream",
     "text": [
      "2018-07-10 23:51:30,676 INFO sqlalchemy.engine.base.Engine SELECT users.id, users.name, users.fullname \n",
      "FROM users JOIN addresses ON users.id = addresses.user_id\n",
      "2018-07-10 23:51:30,677 INFO sqlalchemy.engine.base.Engine ()\n",
      "(1, 'Simon Lucy', 'SanghyeonSimon')\n",
      "(2, 'Lee', 'Jinsil')\n",
      "(1, 'Simon Lucy', 'SanghyeonSimon')\n",
      "(2, 'Lee', 'Jinsil')\n",
      "(1, 'Simon Lucy', 'SanghyeonSimon')\n",
      "(2, 'Lee', 'Jinsil')\n"
     ]
    }
   ],
   "source": [
    "result = conn.execute(select([users]).select_from(users.join(address)))\n",
    "\n",
    "for row in result :\n",
    "    print(row)"
   ]
  },
  {
   "cell_type": "code",
   "execution_count": 76,
   "metadata": {},
   "outputs": [
    {
     "name": "stdout",
     "output_type": "stream",
     "text": [
      "2018-07-10 23:52:03,452 INFO sqlalchemy.engine.base.Engine SELECT users.name, addresses.email \n",
      "FROM users JOIN addresses ON users.id = addresses.user_id\n",
      "2018-07-10 23:52:03,455 INFO sqlalchemy.engine.base.Engine ()\n",
      "('Simon Lucy', 'zerojsh00@nate.com')\n",
      "('Lee', 'mail@uos.ac.kr')\n",
      "('Simon Lucy', 'zerojsh00@nate.com')\n",
      "('Lee', 'mail@uos.ac.kr')\n",
      "('Simon Lucy', 'zerojsh00@nate.com')\n",
      "('Lee', 'mail@uos.ac.kr')\n"
     ]
    }
   ],
   "source": [
    "result = conn.execute(select([users.c.name, address.c.email]).select_from(users.join(address)))\n",
    "for row in result :\n",
    "    print(row)"
   ]
  },
  {
   "cell_type": "markdown",
   "metadata": {},
   "source": [
    "---"
   ]
  },
  {
   "cell_type": "markdown",
   "metadata": {},
   "source": [
    "## 예제 : Artist / Album / Genre / Track "
   ]
  },
  {
   "cell_type": "code",
   "execution_count": 89,
   "metadata": {},
   "outputs": [],
   "source": [
    "engine = create_engine(\"sqlite:///SQLalchemystudy.db\", echo = True)"
   ]
  },
  {
   "cell_type": "code",
   "execution_count": 90,
   "metadata": {},
   "outputs": [
    {
     "name": "stdout",
     "output_type": "stream",
     "text": [
      "2018-07-10 23:58:09,336 INFO sqlalchemy.engine.base.Engine SELECT CAST('test plain returns' AS VARCHAR(60)) AS anon_1\n",
      "2018-07-10 23:58:09,337 INFO sqlalchemy.engine.base.Engine ()\n",
      "2018-07-10 23:58:09,341 INFO sqlalchemy.engine.base.Engine SELECT CAST('test unicode returns' AS VARCHAR(60)) AS anon_1\n",
      "2018-07-10 23:58:09,342 INFO sqlalchemy.engine.base.Engine ()\n",
      "2018-07-10 23:58:09,344 INFO sqlalchemy.engine.base.Engine PRAGMA table_info(\"users\")\n",
      "2018-07-10 23:58:09,346 INFO sqlalchemy.engine.base.Engine ()\n",
      "2018-07-10 23:58:09,348 INFO sqlalchemy.engine.base.Engine PRAGMA table_info(\"addresses\")\n",
      "2018-07-10 23:58:09,349 INFO sqlalchemy.engine.base.Engine ()\n",
      "2018-07-10 23:58:09,351 INFO sqlalchemy.engine.base.Engine PRAGMA table_info(\"Artist\")\n",
      "2018-07-10 23:58:09,352 INFO sqlalchemy.engine.base.Engine ()\n",
      "2018-07-10 23:58:09,354 INFO sqlalchemy.engine.base.Engine PRAGMA table_info(\"Album\")\n",
      "2018-07-10 23:58:09,355 INFO sqlalchemy.engine.base.Engine ()\n",
      "2018-07-10 23:58:09,357 INFO sqlalchemy.engine.base.Engine PRAGMA table_info(\"Genre\")\n",
      "2018-07-10 23:58:09,358 INFO sqlalchemy.engine.base.Engine ()\n",
      "2018-07-10 23:58:09,360 INFO sqlalchemy.engine.base.Engine PRAGMA table_info(\"Track\")\n",
      "2018-07-10 23:58:09,361 INFO sqlalchemy.engine.base.Engine ()\n",
      "2018-07-10 23:58:09,363 INFO sqlalchemy.engine.base.Engine \n",
      "CREATE TABLE users (\n",
      "\tid INTEGER NOT NULL, \n",
      "\tname VARCHAR, \n",
      "\tfullname VARCHAR, \n",
      "\tPRIMARY KEY (id)\n",
      ")\n",
      "\n",
      "\n",
      "2018-07-10 23:58:09,365 INFO sqlalchemy.engine.base.Engine ()\n",
      "2018-07-10 23:58:09,369 INFO sqlalchemy.engine.base.Engine COMMIT\n",
      "2018-07-10 23:58:09,370 INFO sqlalchemy.engine.base.Engine \n",
      "CREATE TABLE \"Artist\" (\n",
      "\tid INTEGER NOT NULL, \n",
      "\tname VARCHAR NOT NULL, \n",
      "\tPRIMARY KEY (id)\n",
      ")\n",
      "\n",
      "\n",
      "2018-07-10 23:58:09,372 INFO sqlalchemy.engine.base.Engine ()\n",
      "2018-07-10 23:58:09,375 INFO sqlalchemy.engine.base.Engine COMMIT\n",
      "2018-07-10 23:58:09,376 INFO sqlalchemy.engine.base.Engine \n",
      "CREATE TABLE \"Genre\" (\n",
      "\tid INTEGER NOT NULL, \n",
      "\tname VARCHAR NOT NULL, \n",
      "\tPRIMARY KEY (id)\n",
      ")\n",
      "\n",
      "\n",
      "2018-07-10 23:58:09,378 INFO sqlalchemy.engine.base.Engine ()\n",
      "2018-07-10 23:58:09,382 INFO sqlalchemy.engine.base.Engine COMMIT\n",
      "2018-07-10 23:58:09,384 INFO sqlalchemy.engine.base.Engine \n",
      "CREATE TABLE addresses (\n",
      "\tid INTEGER NOT NULL, \n",
      "\tuser_id INTEGER, \n",
      "\temail VARCHAR NOT NULL, \n",
      "\tPRIMARY KEY (id), \n",
      "\tFOREIGN KEY(user_id) REFERENCES users (id)\n",
      ")\n",
      "\n",
      "\n",
      "2018-07-10 23:58:09,386 INFO sqlalchemy.engine.base.Engine ()\n",
      "2018-07-10 23:58:09,389 INFO sqlalchemy.engine.base.Engine COMMIT\n",
      "2018-07-10 23:58:09,391 INFO sqlalchemy.engine.base.Engine \n",
      "CREATE TABLE \"Album\" (\n",
      "\tid INTEGER NOT NULL, \n",
      "\ttitle VARCHAR NOT NULL, \n",
      "\tartist_id INTEGER, \n",
      "\tPRIMARY KEY (id), \n",
      "\tFOREIGN KEY(artist_id) REFERENCES \"Artist\" (id)\n",
      ")\n",
      "\n",
      "\n",
      "2018-07-10 23:58:09,392 INFO sqlalchemy.engine.base.Engine ()\n",
      "2018-07-10 23:58:09,395 INFO sqlalchemy.engine.base.Engine COMMIT\n",
      "2018-07-10 23:58:09,398 INFO sqlalchemy.engine.base.Engine \n",
      "CREATE TABLE \"Track\" (\n",
      "\tid INTEGER NOT NULL, \n",
      "\ttitle VARCHAR NOT NULL, \n",
      "\tlength INTEGER NOT NULL, \n",
      "\trating INTEGER NOT NULL, \n",
      "\tcount INTEGER NOT NULL, \n",
      "\talbum_id INTEGER, \n",
      "\tgenre_id INTEGER, \n",
      "\tPRIMARY KEY (id), \n",
      "\tFOREIGN KEY(album_id) REFERENCES \"Album\" (id), \n",
      "\tFOREIGN KEY(genre_id) REFERENCES \"Genre\" (id)\n",
      ")\n",
      "\n",
      "\n",
      "2018-07-10 23:58:09,399 INFO sqlalchemy.engine.base.Engine ()\n",
      "2018-07-10 23:58:09,402 INFO sqlalchemy.engine.base.Engine COMMIT\n"
     ]
    }
   ],
   "source": [
    "Artist = Table(\"Artist\", metadata, # 혼자 존재할 수 없고 meta 안에 있어야 한다...?\n",
    "              Column(\"id\", Integer, primary_key = True),\n",
    "              Column(\"name\", String, nullable = False),\n",
    "              extend_existing = True)\n",
    "\n",
    "Album = Table(\"Album\", metadata,\n",
    "             Column(\"id\", Integer, primary_key = True),\n",
    "             Column(\"title\", String, nullable = False),\n",
    "             Column(\"artist_id\", Integer, ForeignKey(\"Artist.id\")),\n",
    "             extend_existing = True) # FK를 명시해준다.\n",
    "\n",
    "Genre = Table(\"Genre\", metadata,\n",
    "             Column(\"id\", Integer, primary_key = True),\n",
    "             Column(\"name\", String, nullable = False),\n",
    "             extend_existing = True)\n",
    "\n",
    "Track = Table(\"Track\", metadata,\n",
    "              Column(\"id\", Integer, primary_key = True),\n",
    "              Column(\"title\", String, nullable = False),\n",
    "              Column(\"length\", Integer, nullable = False),\n",
    "              Column(\"rating\", Integer, nullable = False),\n",
    "              Column(\"count\", Integer, nullable = False),\n",
    "              Column(\"album_id\", Integer, ForeignKey(\"Album.id\")),\n",
    "              Column(\"genre_id\", Integer, ForeignKey(\"Genre.id\")),\n",
    "              extend_existing = True)\n",
    "\n",
    "metadata.create_all(engine)"
   ]
  },
  {
   "cell_type": "markdown",
   "metadata": {},
   "source": [
    "The usual way to issue CREATE is to use create_all() on the MetaData object. This method will issue queries that first check for the existence of each individual table, and if not found will issue the CREATE statements:"
   ]
  },
  {
   "cell_type": "code",
   "execution_count": 91,
   "metadata": {
    "scrolled": true
   },
   "outputs": [
    {
     "name": "stdout",
     "output_type": "stream",
     "text": [
      "2018-07-10 23:58:13,441 INFO sqlalchemy.engine.base.Engine SELECT name FROM sqlite_master WHERE type='table' ORDER BY name\n",
      "2018-07-10 23:58:13,442 INFO sqlalchemy.engine.base.Engine ()\n",
      "Album\n",
      "Artist\n",
      "Genre\n",
      "Track\n",
      "addresses\n",
      "users\n"
     ]
    }
   ],
   "source": [
    "for row in engine.table_names():\n",
    "    print(row)"
   ]
  },
  {
   "cell_type": "code",
   "execution_count": 93,
   "metadata": {},
   "outputs": [
    {
     "name": "stdout",
     "output_type": "stream",
     "text": [
      "2018-07-10 23:59:21,300 INFO sqlalchemy.engine.base.Engine INSERT INTO \"Artist\" (name) VALUES (?)\n",
      "2018-07-10 23:59:21,302 INFO sqlalchemy.engine.base.Engine (('Led Zepplin',), ('AC/DC',))\n",
      "2018-07-10 23:59:21,305 INFO sqlalchemy.engine.base.Engine COMMIT\n",
      "2018-07-10 23:59:21,308 INFO sqlalchemy.engine.base.Engine INSERT INTO \"Album\" (title, artist_id) VALUES (?, ?)\n",
      "2018-07-10 23:59:21,309 INFO sqlalchemy.engine.base.Engine (('IV', 1), ('Who Made Who', 2))\n",
      "2018-07-10 23:59:21,311 INFO sqlalchemy.engine.base.Engine COMMIT\n",
      "2018-07-10 23:59:21,314 INFO sqlalchemy.engine.base.Engine INSERT INTO \"Genre\" (name) VALUES (?)\n",
      "2018-07-10 23:59:21,315 INFO sqlalchemy.engine.base.Engine (('Rock',), ('Metal',))\n",
      "2018-07-10 23:59:21,318 INFO sqlalchemy.engine.base.Engine COMMIT\n",
      "2018-07-10 23:59:21,320 INFO sqlalchemy.engine.base.Engine INSERT INTO \"Track\" (title, length, rating, count, album_id, genre_id) VALUES (?, ?, ?, ?, ?, ?)\n",
      "2018-07-10 23:59:21,321 INFO sqlalchemy.engine.base.Engine (('Black Dog', 123, 5, 0, 1, 1), ('Stairway', 321, 3, 0, 1, 2), ('SimonDominic', 321, 2, 0, 2, 1), ('LucyDominic', 321, 4, 0, 2, 2))\n",
      "2018-07-10 23:59:21,324 INFO sqlalchemy.engine.base.Engine COMMIT\n"
     ]
    },
    {
     "data": {
      "text/plain": [
       "<sqlalchemy.engine.result.ResultProxy at 0x112e506d8>"
      ]
     },
     "execution_count": 93,
     "metadata": {},
     "output_type": "execute_result"
    }
   ],
   "source": [
    "conn.execute(Artist.insert(), [\n",
    "    {\"name\" : \"Led Zepplin\"},\n",
    "    {\"name\" : \"AC/DC\"}\n",
    "])\n",
    "\n",
    "conn.execute(Album.insert(), [\n",
    "    {\"title\" : \"IV\", \"artist_id\" : 1},\n",
    "    {\"title\" : \"Who Made Who\", \"artist_id\" : 2}\n",
    "])\n",
    "\n",
    "conn.execute(Genre.insert(), [\n",
    "    {\"name\" : \"Rock\"},\n",
    "    {\"name\" : \"Metal\"}\n",
    "])\n",
    "\n",
    "conn.execute(Track.insert(), [\n",
    "    {\"title\" : \"Black Dog\", \"rating\" : 5, \"length\" : 123, \"count\" : 0, \"album_id\" : 1, \"genre_id\" : 1},\n",
    "    {\"title\" : \"Stairway\", \"rating\" : 3, \"length\" : 321, \"count\" : 0, \"album_id\" : 1, \"genre_id\" : 2},\n",
    "    {\"title\" : \"SimonDominic\", \"rating\" : 2, \"length\" : 321, \"count\" : 0, \"album_id\" : 2, \"genre_id\" : 1},\n",
    "    {\"title\" : \"LucyDominic\", \"rating\" : 4, \"length\" : 321, \"count\" : 0, \"album_id\" : 2, \"genre_id\" : 2}\n",
    "\n",
    "])"
   ]
  },
  {
   "cell_type": "code",
   "execution_count": 94,
   "metadata": {},
   "outputs": [
    {
     "name": "stdout",
     "output_type": "stream",
     "text": [
      "2018-07-10 23:59:24,909 INFO sqlalchemy.engine.base.Engine SELECT \"Artist\".id, \"Artist\".name \n",
      "FROM \"Artist\"\n",
      "2018-07-10 23:59:24,910 INFO sqlalchemy.engine.base.Engine ()\n",
      "(1, 'Led Zepplin')\n",
      "(2, 'AC/DC')\n",
      "(3, 'Led Zepplin')\n",
      "(4, 'AC/DC')\n",
      "(5, 'Led Zepplin')\n",
      "(6, 'AC/DC')\n",
      "(7, 'Led Zepplin')\n",
      "(8, 'AC/DC')\n"
     ]
    }
   ],
   "source": [
    "result = conn.execute(Artist.select()) # 특정 테이블을 한정해 놓고 SELECT를 실행한다.\n",
    "\n",
    "for row in result :\n",
    "    print(row)"
   ]
  },
  {
   "cell_type": "code",
   "execution_count": 95,
   "metadata": {},
   "outputs": [
    {
     "name": "stdout",
     "output_type": "stream",
     "text": [
      "2018-07-10 23:59:57,166 INFO sqlalchemy.engine.base.Engine SELECT \"Track\".id, \"Track\".title, \"Track\".length, \"Track\".rating, \"Track\".count, \"Track\".album_id, \"Track\".genre_id \n",
      "FROM \"Track\" \n",
      "WHERE \"Track\".album_id = ? AND (\"Track\".genre_id = ? OR \"Track\".genre_id = ?)\n",
      "2018-07-10 23:59:57,167 INFO sqlalchemy.engine.base.Engine (1, 1, 2)\n",
      "(1, 'Black Dog', 123, 5, 0, 1, 1)\n",
      "(2, 'Stairway', 321, 3, 0, 1, 2)\n",
      "(5, 'Black Dog', 123, 5, 0, 1, 1)\n",
      "(6, 'Stairway', 321, 3, 0, 1, 2)\n",
      "(9, 'Black Dog', 123, 5, 0, 1, 1)\n",
      "(10, 'Stairway', 321, 3, 0, 1, 2)\n",
      "(13, 'Black Dog', 123, 5, 0, 1, 1)\n",
      "(14, 'Stairway', 321, 3, 0, 1, 2)\n"
     ]
    }
   ],
   "source": [
    "result = conn.execute(select([Track])\n",
    "                     .where(\n",
    "                         and_(\n",
    "                             Track.c.album_id == 1, \n",
    "                             or_(\n",
    "                                 Track.c.genre_id == 1,\n",
    "                                 Track.c.genre_id == 2\n",
    "                             )\n",
    "                         )\n",
    "                     ))\n",
    "\n",
    "for row in result :\n",
    "    print(row)"
   ]
  },
  {
   "cell_type": "code",
   "execution_count": 96,
   "metadata": {},
   "outputs": [],
   "source": [
    "from sqlalchemy import update"
   ]
  },
  {
   "cell_type": "code",
   "execution_count": 97,
   "metadata": {},
   "outputs": [
    {
     "name": "stdout",
     "output_type": "stream",
     "text": [
      "2018-07-11 00:00:19,364 INFO sqlalchemy.engine.base.Engine UPDATE \"Track\" SET genre_id=? WHERE \"Track\".genre_id = ?\n",
      "2018-07-11 00:00:19,367 INFO sqlalchemy.engine.base.Engine (3, 1)\n",
      "2018-07-11 00:00:19,369 INFO sqlalchemy.engine.base.Engine COMMIT\n"
     ]
    },
    {
     "data": {
      "text/plain": [
       "<sqlalchemy.engine.result.ResultProxy at 0x112e6ca20>"
      ]
     },
     "execution_count": 97,
     "metadata": {},
     "output_type": "execute_result"
    }
   ],
   "source": [
    "conn.execute(Track.update().values(genre_id=3).where(Track.c.genre_id == 1))"
   ]
  },
  {
   "cell_type": "code",
   "execution_count": 98,
   "metadata": {},
   "outputs": [
    {
     "name": "stdout",
     "output_type": "stream",
     "text": [
      "2018-07-11 00:00:27,687 INFO sqlalchemy.engine.base.Engine UPDATE \"Track\" SET genre_id=? WHERE \"Track\".genre_id = ?\n",
      "2018-07-11 00:00:27,690 INFO sqlalchemy.engine.base.Engine (1, 3)\n",
      "2018-07-11 00:00:27,692 INFO sqlalchemy.engine.base.Engine COMMIT\n"
     ]
    },
    {
     "data": {
      "text/plain": [
       "<sqlalchemy.engine.result.ResultProxy at 0x112bdc860>"
      ]
     },
     "execution_count": 98,
     "metadata": {},
     "output_type": "execute_result"
    }
   ],
   "source": [
    "conn.execute(Track.update().values(genre_id=1).where(Track.c.genre_id == 3))"
   ]
  },
  {
   "cell_type": "code",
   "execution_count": 99,
   "metadata": {},
   "outputs": [
    {
     "name": "stdout",
     "output_type": "stream",
     "text": [
      "\"Track\" JOIN \"Album\" ON \"Album\".id = \"Track\".album_id\n"
     ]
    }
   ],
   "source": [
    "print(Track.join(Album))"
   ]
  },
  {
   "cell_type": "code",
   "execution_count": 100,
   "metadata": {},
   "outputs": [
    {
     "name": "stdout",
     "output_type": "stream",
     "text": [
      "2018-07-11 00:00:34,516 INFO sqlalchemy.engine.base.Engine SELECT \"Track\".id, \"Track\".title, \"Track\".length, \"Track\".rating, \"Track\".count, \"Track\".album_id, \"Track\".genre_id \n",
      "FROM \"Track\" JOIN \"Album\" ON \"Album\".id = \"Track\".album_id\n",
      "2018-07-11 00:00:34,521 INFO sqlalchemy.engine.base.Engine ()\n",
      "(1, 'Black Dog', 123, 5, 0, 1, 1)\n",
      "(2, 'Stairway', 321, 3, 0, 1, 2)\n",
      "(3, 'SimonDominic', 321, 2, 0, 2, 1)\n",
      "(4, 'LucyDominic', 321, 4, 0, 2, 2)\n",
      "(5, 'Black Dog', 123, 5, 0, 1, 1)\n",
      "(6, 'Stairway', 321, 3, 0, 1, 2)\n",
      "(7, 'SimonDominic', 321, 2, 0, 2, 1)\n",
      "(8, 'LucyDominic', 321, 4, 0, 2, 2)\n",
      "(9, 'Black Dog', 123, 5, 0, 1, 1)\n",
      "(10, 'Stairway', 321, 3, 0, 1, 2)\n",
      "(11, 'SimonDominic', 321, 2, 0, 2, 1)\n",
      "(12, 'LucyDominic', 321, 4, 0, 2, 2)\n",
      "(13, 'Black Dog', 123, 5, 0, 1, 1)\n",
      "(14, 'Stairway', 321, 3, 0, 1, 2)\n",
      "(15, 'SimonDominic', 321, 2, 0, 2, 1)\n",
      "(16, 'LucyDominic', 321, 4, 0, 2, 2)\n"
     ]
    }
   ],
   "source": [
    "result = conn.execute(Track.select().select_from(Track.join(Album))) # 조인한 애들로부터 Select\n",
    " \n",
    "for row in result :\n",
    "    print(row)"
   ]
  },
  {
   "cell_type": "code",
   "execution_count": 101,
   "metadata": {},
   "outputs": [
    {
     "name": "stdout",
     "output_type": "stream",
     "text": [
      "2018-07-11 00:00:44,559 INFO sqlalchemy.engine.base.Engine SELECT \"Track\".title, \"Album\".title \n",
      "FROM \"Track\" JOIN \"Album\" ON \"Album\".id = \"Track\".album_id\n",
      "2018-07-11 00:00:44,560 INFO sqlalchemy.engine.base.Engine ()\n",
      "('Black Dog', 'IV')\n",
      "('Stairway', 'IV')\n",
      "('SimonDominic', 'Who Made Who')\n",
      "('LucyDominic', 'Who Made Who')\n",
      "('Black Dog', 'IV')\n",
      "('Stairway', 'IV')\n",
      "('SimonDominic', 'Who Made Who')\n",
      "('LucyDominic', 'Who Made Who')\n",
      "('Black Dog', 'IV')\n",
      "('Stairway', 'IV')\n",
      "('SimonDominic', 'Who Made Who')\n",
      "('LucyDominic', 'Who Made Who')\n",
      "('Black Dog', 'IV')\n",
      "('Stairway', 'IV')\n",
      "('SimonDominic', 'Who Made Who')\n",
      "('LucyDominic', 'Who Made Who')\n"
     ]
    }
   ],
   "source": [
    "result = conn.execute(select([Track.c.title, Album.c.title]).select_from(Track.join(Album)))\n",
    "\n",
    "for row in result :\n",
    "    print(row)"
   ]
  },
  {
   "cell_type": "code",
   "execution_count": 102,
   "metadata": {},
   "outputs": [
    {
     "name": "stdout",
     "output_type": "stream",
     "text": [
      "\"Track\" JOIN \"Album\" ON \"Album\".id = \"Track\".album_id\n"
     ]
    }
   ],
   "source": [
    "print(Track.join(Album))"
   ]
  },
  {
   "cell_type": "code",
   "execution_count": 103,
   "metadata": {},
   "outputs": [
    {
     "name": "stdout",
     "output_type": "stream",
     "text": [
      "\"Track\" JOIN \"Album\" ON \"Album\".id = \"Track\".album_id JOIN \"Genre\" ON \"Genre\".id = \"Track\".genre_id\n"
     ]
    }
   ],
   "source": [
    "print(Track.join(Album).join(Genre))"
   ]
  },
  {
   "cell_type": "code",
   "execution_count": 104,
   "metadata": {},
   "outputs": [
    {
     "name": "stdout",
     "output_type": "stream",
     "text": [
      "\"Track\" JOIN \"Album\" ON \"Album\".id = \"Track\".album_id JOIN \"Genre\" ON \"Genre\".id = \"Track\".genre_id JOIN \"Artist\" ON \"Artist\".id = \"Album\".artist_id\n"
     ]
    }
   ],
   "source": [
    "print(Track.join(Album).join(Genre).join(Artist))"
   ]
  },
  {
   "cell_type": "code",
   "execution_count": 105,
   "metadata": {},
   "outputs": [
    {
     "name": "stdout",
     "output_type": "stream",
     "text": [
      "2018-07-11 00:00:56,060 INFO sqlalchemy.engine.base.Engine SELECT \"Track\".title, \"Album\".title, \"Genre\".name, \"Artist\".name \n",
      "FROM \"Track\" JOIN \"Album\" ON \"Album\".id = \"Track\".album_id JOIN \"Genre\" ON \"Genre\".id = \"Track\".genre_id JOIN \"Artist\" ON \"Artist\".id = \"Album\".artist_id\n",
      "2018-07-11 00:00:56,061 INFO sqlalchemy.engine.base.Engine ()\n",
      "('Black Dog', 'IV', 'Rock', 'Led Zepplin')\n",
      "('Stairway', 'IV', 'Metal', 'Led Zepplin')\n",
      "('SimonDominic', 'Who Made Who', 'Rock', 'AC/DC')\n",
      "('LucyDominic', 'Who Made Who', 'Metal', 'AC/DC')\n",
      "('Black Dog', 'IV', 'Rock', 'Led Zepplin')\n",
      "('Stairway', 'IV', 'Metal', 'Led Zepplin')\n",
      "('SimonDominic', 'Who Made Who', 'Rock', 'AC/DC')\n",
      "('LucyDominic', 'Who Made Who', 'Metal', 'AC/DC')\n",
      "('Black Dog', 'IV', 'Rock', 'Led Zepplin')\n",
      "('Stairway', 'IV', 'Metal', 'Led Zepplin')\n",
      "('SimonDominic', 'Who Made Who', 'Rock', 'AC/DC')\n",
      "('LucyDominic', 'Who Made Who', 'Metal', 'AC/DC')\n",
      "('Black Dog', 'IV', 'Rock', 'Led Zepplin')\n",
      "('Stairway', 'IV', 'Metal', 'Led Zepplin')\n",
      "('SimonDominic', 'Who Made Who', 'Rock', 'AC/DC')\n",
      "('LucyDominic', 'Who Made Who', 'Metal', 'AC/DC')\n"
     ]
    }
   ],
   "source": [
    "# 4개의 테이블을 모두 Inner Join\n",
    "\n",
    "result = conn.execute(select([Track.c.title, Album.c.title, Genre.c.name, Artist.c.name])\n",
    "                     .select_from(Track.join(Album).join(Genre).join(Artist)))\n",
    "for row in result :\n",
    "    print(row) # 여기에 UI만 입혀서 올려놓으면 사용자들이 편하게 사용할 수 있다."
   ]
  },
  {
   "cell_type": "code",
   "execution_count": 106,
   "metadata": {},
   "outputs": [
    {
     "name": "stdout",
     "output_type": "stream",
     "text": [
      "2018-07-11 00:01:05,272 INFO sqlalchemy.engine.base.Engine SELECT \"Track\".title, \"Album\".title, \"Genre\".name, \"Artist\".name \n",
      "FROM \"Track\" JOIN \"Album\" ON \"Album\".id = \"Track\".album_id JOIN \"Genre\" ON \"Genre\".id = \"Track\".genre_id JOIN \"Artist\" ON \"Artist\".id = \"Album\".artist_id \n",
      "WHERE \"Genre\".id = ? AND \"Artist\".name LIKE ?\n",
      "2018-07-11 00:01:05,274 INFO sqlalchemy.engine.base.Engine (1, '%pp%')\n",
      "('Black Dog', 'IV', 'Rock', 'Led Zepplin')\n",
      "('Black Dog', 'IV', 'Rock', 'Led Zepplin')\n",
      "('Black Dog', 'IV', 'Rock', 'Led Zepplin')\n",
      "('Black Dog', 'IV', 'Rock', 'Led Zepplin')\n"
     ]
    }
   ],
   "source": [
    "# 4개의 테이블을 모두 Inner Join\n",
    "\n",
    "result = conn.execute(select([Track.c.title, Album.c.title, Genre.c.name, Artist.c.name])\n",
    "                     .select_from(Track.join(Album).join(Genre).join(Artist))\n",
    "                     .where(\n",
    "                         and_(\n",
    "                             Genre.c.id == 1,\n",
    "                             Artist.c.name.like(\"%pp%\")\n",
    "                         )\n",
    "                     ))\n",
    "for row in result :\n",
    "    print(row) # 여기에 UI만 입혀서 올려놓으면 사용자들이 편하게 사용할 수 있다."
   ]
  },
  {
   "cell_type": "code",
   "execution_count": 107,
   "metadata": {},
   "outputs": [],
   "source": [
    "from sqlalchemy import create_engine, MetaData"
   ]
  },
  {
   "cell_type": "code",
   "execution_count": 108,
   "metadata": {},
   "outputs": [],
   "source": [
    "engine = create_engine(\"sqlite:///SQLalchemystudy.db\", echo = True)"
   ]
  },
  {
   "cell_type": "code",
   "execution_count": 109,
   "metadata": {},
   "outputs": [
    {
     "name": "stdout",
     "output_type": "stream",
     "text": [
      "2018-07-11 00:01:14,653 INFO sqlalchemy.engine.base.Engine SELECT CAST('test plain returns' AS VARCHAR(60)) AS anon_1\n",
      "2018-07-11 00:01:14,654 INFO sqlalchemy.engine.base.Engine ()\n",
      "2018-07-11 00:01:14,656 INFO sqlalchemy.engine.base.Engine SELECT CAST('test unicode returns' AS VARCHAR(60)) AS anon_1\n",
      "2018-07-11 00:01:14,657 INFO sqlalchemy.engine.base.Engine ()\n"
     ]
    }
   ],
   "source": [
    "conn = engine.connect()"
   ]
  },
  {
   "cell_type": "code",
   "execution_count": 110,
   "metadata": {},
   "outputs": [
    {
     "name": "stdout",
     "output_type": "stream",
     "text": [
      "2018-07-11 00:01:21,250 INFO sqlalchemy.engine.base.Engine SELECT name FROM sqlite_master WHERE type='table' ORDER BY name\n",
      "2018-07-11 00:01:21,251 INFO sqlalchemy.engine.base.Engine ()\n",
      "2018-07-11 00:01:21,253 INFO sqlalchemy.engine.base.Engine PRAGMA table_info(\"Album\")\n",
      "2018-07-11 00:01:21,255 INFO sqlalchemy.engine.base.Engine ()\n",
      "2018-07-11 00:01:21,258 INFO sqlalchemy.engine.base.Engine SELECT sql FROM  (SELECT * FROM sqlite_master UNION ALL   SELECT * FROM sqlite_temp_master) WHERE name = 'Album' AND type = 'table'\n",
      "2018-07-11 00:01:21,259 INFO sqlalchemy.engine.base.Engine ()\n",
      "2018-07-11 00:01:21,262 INFO sqlalchemy.engine.base.Engine PRAGMA foreign_key_list(\"Album\")\n",
      "2018-07-11 00:01:21,263 INFO sqlalchemy.engine.base.Engine ()\n",
      "2018-07-11 00:01:21,265 INFO sqlalchemy.engine.base.Engine SELECT sql FROM  (SELECT * FROM sqlite_master UNION ALL   SELECT * FROM sqlite_temp_master) WHERE name = 'Album' AND type = 'table'\n",
      "2018-07-11 00:01:21,266 INFO sqlalchemy.engine.base.Engine ()\n",
      "2018-07-11 00:01:21,273 INFO sqlalchemy.engine.base.Engine PRAGMA table_info(\"Artist\")\n",
      "2018-07-11 00:01:21,273 INFO sqlalchemy.engine.base.Engine ()\n",
      "2018-07-11 00:01:21,276 INFO sqlalchemy.engine.base.Engine SELECT sql FROM  (SELECT * FROM sqlite_master UNION ALL   SELECT * FROM sqlite_temp_master) WHERE name = 'Artist' AND type = 'table'\n",
      "2018-07-11 00:01:21,277 INFO sqlalchemy.engine.base.Engine ()\n",
      "2018-07-11 00:01:21,280 INFO sqlalchemy.engine.base.Engine PRAGMA foreign_key_list(\"Artist\")\n",
      "2018-07-11 00:01:21,281 INFO sqlalchemy.engine.base.Engine ()\n",
      "2018-07-11 00:01:21,282 INFO sqlalchemy.engine.base.Engine SELECT sql FROM  (SELECT * FROM sqlite_master UNION ALL   SELECT * FROM sqlite_temp_master) WHERE name = 'Artist' AND type = 'table'\n",
      "2018-07-11 00:01:21,284 INFO sqlalchemy.engine.base.Engine ()\n",
      "2018-07-11 00:01:21,287 INFO sqlalchemy.engine.base.Engine PRAGMA index_list(\"Artist\")\n",
      "2018-07-11 00:01:21,288 INFO sqlalchemy.engine.base.Engine ()\n",
      "2018-07-11 00:01:21,290 INFO sqlalchemy.engine.base.Engine PRAGMA index_list(\"Artist\")\n",
      "2018-07-11 00:01:21,291 INFO sqlalchemy.engine.base.Engine ()\n",
      "2018-07-11 00:01:21,293 INFO sqlalchemy.engine.base.Engine SELECT sql FROM  (SELECT * FROM sqlite_master UNION ALL   SELECT * FROM sqlite_temp_master) WHERE name = 'Artist' AND type = 'table'\n",
      "2018-07-11 00:01:21,294 INFO sqlalchemy.engine.base.Engine ()\n",
      "2018-07-11 00:01:21,302 INFO sqlalchemy.engine.base.Engine PRAGMA index_list(\"Album\")\n",
      "2018-07-11 00:01:21,302 INFO sqlalchemy.engine.base.Engine ()\n",
      "2018-07-11 00:01:21,305 INFO sqlalchemy.engine.base.Engine PRAGMA index_list(\"Album\")\n",
      "2018-07-11 00:01:21,306 INFO sqlalchemy.engine.base.Engine ()\n",
      "2018-07-11 00:01:21,308 INFO sqlalchemy.engine.base.Engine SELECT sql FROM  (SELECT * FROM sqlite_master UNION ALL   SELECT * FROM sqlite_temp_master) WHERE name = 'Album' AND type = 'table'\n",
      "2018-07-11 00:01:21,309 INFO sqlalchemy.engine.base.Engine ()\n",
      "2018-07-11 00:01:21,313 INFO sqlalchemy.engine.base.Engine PRAGMA table_info(\"Genre\")\n",
      "2018-07-11 00:01:21,315 INFO sqlalchemy.engine.base.Engine ()\n",
      "2018-07-11 00:01:21,317 INFO sqlalchemy.engine.base.Engine SELECT sql FROM  (SELECT * FROM sqlite_master UNION ALL   SELECT * FROM sqlite_temp_master) WHERE name = 'Genre' AND type = 'table'\n",
      "2018-07-11 00:01:21,318 INFO sqlalchemy.engine.base.Engine ()\n",
      "2018-07-11 00:01:21,321 INFO sqlalchemy.engine.base.Engine PRAGMA foreign_key_list(\"Genre\")\n",
      "2018-07-11 00:01:21,322 INFO sqlalchemy.engine.base.Engine ()\n",
      "2018-07-11 00:01:21,323 INFO sqlalchemy.engine.base.Engine SELECT sql FROM  (SELECT * FROM sqlite_master UNION ALL   SELECT * FROM sqlite_temp_master) WHERE name = 'Genre' AND type = 'table'\n",
      "2018-07-11 00:01:21,325 INFO sqlalchemy.engine.base.Engine ()\n",
      "2018-07-11 00:01:21,327 INFO sqlalchemy.engine.base.Engine PRAGMA index_list(\"Genre\")\n",
      "2018-07-11 00:01:21,328 INFO sqlalchemy.engine.base.Engine ()\n",
      "2018-07-11 00:01:21,330 INFO sqlalchemy.engine.base.Engine PRAGMA index_list(\"Genre\")\n",
      "2018-07-11 00:01:21,332 INFO sqlalchemy.engine.base.Engine ()\n",
      "2018-07-11 00:01:21,334 INFO sqlalchemy.engine.base.Engine SELECT sql FROM  (SELECT * FROM sqlite_master UNION ALL   SELECT * FROM sqlite_temp_master) WHERE name = 'Genre' AND type = 'table'\n",
      "2018-07-11 00:01:21,335 INFO sqlalchemy.engine.base.Engine ()\n",
      "2018-07-11 00:01:21,338 INFO sqlalchemy.engine.base.Engine PRAGMA table_info(\"Track\")\n",
      "2018-07-11 00:01:21,339 INFO sqlalchemy.engine.base.Engine ()\n",
      "2018-07-11 00:01:21,342 INFO sqlalchemy.engine.base.Engine SELECT sql FROM  (SELECT * FROM sqlite_master UNION ALL   SELECT * FROM sqlite_temp_master) WHERE name = 'Track' AND type = 'table'\n",
      "2018-07-11 00:01:21,343 INFO sqlalchemy.engine.base.Engine ()\n",
      "2018-07-11 00:01:21,346 INFO sqlalchemy.engine.base.Engine PRAGMA foreign_key_list(\"Track\")\n",
      "2018-07-11 00:01:21,347 INFO sqlalchemy.engine.base.Engine ()\n",
      "2018-07-11 00:01:21,349 INFO sqlalchemy.engine.base.Engine SELECT sql FROM  (SELECT * FROM sqlite_master UNION ALL   SELECT * FROM sqlite_temp_master) WHERE name = 'Track' AND type = 'table'\n",
      "2018-07-11 00:01:21,350 INFO sqlalchemy.engine.base.Engine ()\n",
      "2018-07-11 00:01:21,353 INFO sqlalchemy.engine.base.Engine PRAGMA index_list(\"Track\")\n",
      "2018-07-11 00:01:21,354 INFO sqlalchemy.engine.base.Engine ()\n",
      "2018-07-11 00:01:21,356 INFO sqlalchemy.engine.base.Engine PRAGMA index_list(\"Track\")\n",
      "2018-07-11 00:01:21,357 INFO sqlalchemy.engine.base.Engine ()\n",
      "2018-07-11 00:01:21,360 INFO sqlalchemy.engine.base.Engine SELECT sql FROM  (SELECT * FROM sqlite_master UNION ALL   SELECT * FROM sqlite_temp_master) WHERE name = 'Track' AND type = 'table'\n",
      "2018-07-11 00:01:21,361 INFO sqlalchemy.engine.base.Engine ()\n",
      "2018-07-11 00:01:21,364 INFO sqlalchemy.engine.base.Engine PRAGMA table_info(\"addresses\")\n",
      "2018-07-11 00:01:21,365 INFO sqlalchemy.engine.base.Engine ()\n",
      "2018-07-11 00:01:21,368 INFO sqlalchemy.engine.base.Engine SELECT sql FROM  (SELECT * FROM sqlite_master UNION ALL   SELECT * FROM sqlite_temp_master) WHERE name = 'addresses' AND type = 'table'\n",
      "2018-07-11 00:01:21,369 INFO sqlalchemy.engine.base.Engine ()\n",
      "2018-07-11 00:01:21,371 INFO sqlalchemy.engine.base.Engine PRAGMA foreign_key_list(\"addresses\")\n",
      "2018-07-11 00:01:21,372 INFO sqlalchemy.engine.base.Engine ()\n",
      "2018-07-11 00:01:21,375 INFO sqlalchemy.engine.base.Engine SELECT sql FROM  (SELECT * FROM sqlite_master UNION ALL   SELECT * FROM sqlite_temp_master) WHERE name = 'addresses' AND type = 'table'\n",
      "2018-07-11 00:01:21,375 INFO sqlalchemy.engine.base.Engine ()\n",
      "2018-07-11 00:01:21,379 INFO sqlalchemy.engine.base.Engine PRAGMA table_info(\"users\")\n",
      "2018-07-11 00:01:21,380 INFO sqlalchemy.engine.base.Engine ()\n",
      "2018-07-11 00:01:21,383 INFO sqlalchemy.engine.base.Engine SELECT sql FROM  (SELECT * FROM sqlite_master UNION ALL   SELECT * FROM sqlite_temp_master) WHERE name = 'users' AND type = 'table'\n",
      "2018-07-11 00:01:21,384 INFO sqlalchemy.engine.base.Engine ()\n",
      "2018-07-11 00:01:21,386 INFO sqlalchemy.engine.base.Engine PRAGMA foreign_key_list(\"users\")\n",
      "2018-07-11 00:01:21,387 INFO sqlalchemy.engine.base.Engine ()\n",
      "2018-07-11 00:01:21,389 INFO sqlalchemy.engine.base.Engine SELECT sql FROM  (SELECT * FROM sqlite_master UNION ALL   SELECT * FROM sqlite_temp_master) WHERE name = 'users' AND type = 'table'\n",
      "2018-07-11 00:01:21,392 INFO sqlalchemy.engine.base.Engine ()\n",
      "2018-07-11 00:01:21,394 INFO sqlalchemy.engine.base.Engine PRAGMA index_list(\"users\")\n",
      "2018-07-11 00:01:21,396 INFO sqlalchemy.engine.base.Engine ()\n",
      "2018-07-11 00:01:21,399 INFO sqlalchemy.engine.base.Engine PRAGMA index_list(\"users\")\n",
      "2018-07-11 00:01:21,400 INFO sqlalchemy.engine.base.Engine ()\n",
      "2018-07-11 00:01:21,402 INFO sqlalchemy.engine.base.Engine SELECT sql FROM  (SELECT * FROM sqlite_master UNION ALL   SELECT * FROM sqlite_temp_master) WHERE name = 'users' AND type = 'table'\n",
      "2018-07-11 00:01:21,403 INFO sqlalchemy.engine.base.Engine ()\n",
      "2018-07-11 00:01:21,407 INFO sqlalchemy.engine.base.Engine PRAGMA index_list(\"addresses\")\n",
      "2018-07-11 00:01:21,408 INFO sqlalchemy.engine.base.Engine ()\n",
      "2018-07-11 00:01:21,411 INFO sqlalchemy.engine.base.Engine PRAGMA index_list(\"addresses\")\n",
      "2018-07-11 00:01:21,412 INFO sqlalchemy.engine.base.Engine ()\n",
      "2018-07-11 00:01:21,415 INFO sqlalchemy.engine.base.Engine SELECT sql FROM  (SELECT * FROM sqlite_master UNION ALL   SELECT * FROM sqlite_temp_master) WHERE name = 'addresses' AND type = 'table'\n"
     ]
    },
    {
     "name": "stdout",
     "output_type": "stream",
     "text": [
      "2018-07-11 00:01:21,417 INFO sqlalchemy.engine.base.Engine ()\n"
     ]
    },
    {
     "name": "stderr",
     "output_type": "stream",
     "text": [
      "/anaconda3/envs/pythonStudy/lib/python3.6/site-packages/ipykernel_launcher.py:1: SADeprecationWarning: reflect=True is deprecate; please use the reflect() method.\n",
      "  \"\"\"Entry point for launching an IPython kernel.\n"
     ]
    }
   ],
   "source": [
    "metadata = MetaData(bind = engine, reflect = True)"
   ]
  },
  {
   "cell_type": "code",
   "execution_count": 111,
   "metadata": {},
   "outputs": [
    {
     "name": "stdout",
     "output_type": "stream",
     "text": [
      "2018-07-11 00:01:22,657 INFO sqlalchemy.engine.base.Engine SELECT name FROM sqlite_master WHERE type='table' ORDER BY name\n",
      "2018-07-11 00:01:22,658 INFO sqlalchemy.engine.base.Engine ()\n"
     ]
    }
   ],
   "source": [
    "metadata.reflect(bind = engine)"
   ]
  },
  {
   "cell_type": "code",
   "execution_count": 112,
   "metadata": {},
   "outputs": [
    {
     "name": "stdout",
     "output_type": "stream",
     "text": [
      "Album\n",
      "Artist\n",
      "Genre\n",
      "Track\n",
      "addresses\n",
      "users\n"
     ]
    }
   ],
   "source": [
    "for row in metadata.tables :\n",
    "    print(row)"
   ]
  },
  {
   "cell_type": "code",
   "execution_count": 113,
   "metadata": {},
   "outputs": [],
   "source": [
    "album = metadata.tables[\"Album\"]"
   ]
  },
  {
   "cell_type": "code",
   "execution_count": 114,
   "metadata": {},
   "outputs": [
    {
     "name": "stdout",
     "output_type": "stream",
     "text": [
      "2018-07-11 00:01:29,750 INFO sqlalchemy.engine.base.Engine SELECT \"Album\".id, \"Album\".title, \"Album\".artist_id \n",
      "FROM \"Album\"\n",
      "2018-07-11 00:01:29,751 INFO sqlalchemy.engine.base.Engine ()\n"
     ]
    }
   ],
   "source": [
    "result = conn.execute(album.select())\n",
    "for row in result :\n",
    "    print(row)"
   ]
  },
  {
   "cell_type": "markdown",
   "metadata": {},
   "source": [
    "## ORM"
   ]
  },
  {
   "cell_type": "markdown",
   "metadata": {},
   "source": [
    "### ORM - Declare"
   ]
  },
  {
   "cell_type": "code",
   "execution_count": 1,
   "metadata": {},
   "outputs": [],
   "source": [
    "from sqlalchemy import create_engine"
   ]
  },
  {
   "cell_type": "code",
   "execution_count": 2,
   "metadata": {},
   "outputs": [],
   "source": [
    "engine = create_engine(\"sqlite://\", echo = True) # echo는 중간과정을 보는 것"
   ]
  },
  {
   "cell_type": "code",
   "execution_count": 3,
   "metadata": {},
   "outputs": [],
   "source": [
    "from sqlalchemy.ext.declarative import declarative_base # base를 먼저 선언 !!"
   ]
  },
  {
   "cell_type": "code",
   "execution_count": 4,
   "metadata": {},
   "outputs": [],
   "source": [
    "# Construct a base class for declarative class definitions\n",
    "\n",
    "Base = declarative_base() "
   ]
  },
  {
   "cell_type": "code",
   "execution_count": 5,
   "metadata": {
    "scrolled": true
   },
   "outputs": [
    {
     "data": {
      "text/plain": [
       "sqlalchemy.ext.declarative.api.DeclarativeMeta"
      ]
     },
     "execution_count": 5,
     "metadata": {},
     "output_type": "execute_result"
    }
   ],
   "source": [
    "type(Base)"
   ]
  },
  {
   "cell_type": "code",
   "execution_count": 7,
   "metadata": {
    "scrolled": true
   },
   "outputs": [
    {
     "data": {
      "text/plain": [
       "['__class__',\n",
       " '__delattr__',\n",
       " '__dict__',\n",
       " '__dir__',\n",
       " '__doc__',\n",
       " '__eq__',\n",
       " '__format__',\n",
       " '__ge__',\n",
       " '__getattribute__',\n",
       " '__gt__',\n",
       " '__hash__',\n",
       " '__init__',\n",
       " '__init_subclass__',\n",
       " '__le__',\n",
       " '__lt__',\n",
       " '__module__',\n",
       " '__ne__',\n",
       " '__new__',\n",
       " '__reduce__',\n",
       " '__reduce_ex__',\n",
       " '__repr__',\n",
       " '__setattr__',\n",
       " '__sizeof__',\n",
       " '__str__',\n",
       " '__subclasshook__',\n",
       " '__weakref__',\n",
       " '_decl_class_registry',\n",
       " 'metadata']"
      ]
     },
     "execution_count": 7,
     "metadata": {},
     "output_type": "execute_result"
    }
   ],
   "source": [
    "dir(Base) # 와 대박, 이 안에 metadata가 들어있다 !"
   ]
  },
  {
   "cell_type": "markdown",
   "metadata": {},
   "source": [
    "ORM에서는 Metadata()를 직접 하는 것이 아니라, metadata가 안에 들어있는 Base를 상속받아서 클래스를 만든다 !!!"
   ]
  },
  {
   "cell_type": "markdown",
   "metadata": {},
   "source": [
    "### ORM - Create"
   ]
  },
  {
   "cell_type": "code",
   "execution_count": 8,
   "metadata": {},
   "outputs": [],
   "source": [
    "from sqlalchemy import Column, Integer, String, ForeignKey"
   ]
  },
  {
   "cell_type": "code",
   "execution_count": 9,
   "metadata": {},
   "outputs": [],
   "source": [
    "class Artist(Base) :\n",
    "    __tablename__ = \"artist\"\n",
    "    id = Column(Integer, primary_key = True)\n",
    "    name = Column(String)\n",
    "    \n",
    "    # 생성자 등도 여기에 추가할 수 있다.\n",
    "    \n",
    "    def __repr__(self) :\n",
    "        return \"<T'artist(name = '%s')>\" % (self.name)\n",
    "    \n",
    "class Album(Base) :\n",
    "    __tablename__ = \"album\"\n",
    "    id = Column(Integer, primary_key = True)\n",
    "    title = Column(String)\n",
    "    artist_id = Column(Integer, ForeignKey(\"artist.id\"))\n",
    "    \n",
    "class Genre(Base) :\n",
    "    __tablename__ = \"genre\"\n",
    "    \n",
    "    id = Column(Integer, primary_key = True)\n",
    "    name = Column(String)\n",
    "    \n",
    "class Track(Base) :\n",
    "    __tablename__ = \"track\"\n",
    "    \n",
    "    id = Column(Integer, primary_key = True)\n",
    "    title = Column(String)\n",
    "    album_id = Column(Integer, ForeignKey(\"album.id\"))\n",
    "    genre_id = Column(Integer, ForeignKey(\"genre.id\"))"
   ]
  },
  {
   "cell_type": "code",
   "execution_count": 11,
   "metadata": {},
   "outputs": [
    {
     "name": "stdout",
     "output_type": "stream",
     "text": [
      "2018-07-11 00:19:45,362 INFO sqlalchemy.engine.base.Engine PRAGMA table_info(\"artist\")\n",
      "2018-07-11 00:19:45,363 INFO sqlalchemy.engine.base.Engine ()\n",
      "2018-07-11 00:19:45,366 INFO sqlalchemy.engine.base.Engine PRAGMA table_info(\"album\")\n",
      "2018-07-11 00:19:45,367 INFO sqlalchemy.engine.base.Engine ()\n",
      "2018-07-11 00:19:45,370 INFO sqlalchemy.engine.base.Engine PRAGMA table_info(\"genre\")\n",
      "2018-07-11 00:19:45,371 INFO sqlalchemy.engine.base.Engine ()\n",
      "2018-07-11 00:19:45,372 INFO sqlalchemy.engine.base.Engine PRAGMA table_info(\"track\")\n",
      "2018-07-11 00:19:45,374 INFO sqlalchemy.engine.base.Engine ()\n"
     ]
    }
   ],
   "source": [
    "Base.metadata.create_all(engine) # 녹음파일 11:07"
   ]
  },
  {
   "cell_type": "markdown",
   "metadata": {},
   "source": [
    "직접 테이블을 만들어주지 않고 Base = declarative_base()로 만든 Base 클래스를 상속시켜준 것밖에 없는데, 스스로 테이블을 만들어주었다. "
   ]
  },
  {
   "cell_type": "code",
   "execution_count": 12,
   "metadata": {},
   "outputs": [],
   "source": [
    "# 아래는 데이터베이스에 들어간 것이 아니라 메모리 상에 있다.\n",
    "# 이것을 이용해서 일을 시켜야 한다.\n",
    "\n",
    "artist_instance01 = Artist(name = \"Led Zepplin\")\n",
    "artist_instance02 = Artist(name = \"AC/DC\")"
   ]
  },
  {
   "cell_type": "markdown",
   "metadata": {},
   "source": [
    "초기화 함수가 없는데 위와 같이 직접 넣어줄 수 있다....(?)"
   ]
  },
  {
   "cell_type": "markdown",
   "metadata": {},
   "source": [
    "### Session"
   ]
  },
  {
   "cell_type": "markdown",
   "metadata": {},
   "source": [
    "Session(클래스)은 모든 객체들을 대표하여 데이터베이스와의 모든 상호작용을 담당한다."
   ]
  },
  {
   "cell_type": "code",
   "execution_count": 13,
   "metadata": {},
   "outputs": [],
   "source": [
    "from sqlalchemy.orm import sessionmaker"
   ]
  },
  {
   "cell_type": "code",
   "execution_count": 14,
   "metadata": {},
   "outputs": [
    {
     "data": {
      "text/plain": [
       "sqlalchemy.orm.session.sessionmaker"
      ]
     },
     "execution_count": 14,
     "metadata": {},
     "output_type": "execute_result"
    }
   ],
   "source": [
    "Session = sessionmaker(bind = engine)\n",
    "type(Session)"
   ]
  },
  {
   "cell_type": "code",
   "execution_count": 15,
   "metadata": {},
   "outputs": [
    {
     "name": "stdout",
     "output_type": "stream",
     "text": [
      "2018-07-11 00:30:29,501 INFO sqlalchemy.engine.base.Engine BEGIN (implicit)\n",
      "2018-07-11 00:30:29,504 INFO sqlalchemy.engine.base.Engine INSERT INTO artist (name) VALUES (?)\n",
      "2018-07-11 00:30:29,507 INFO sqlalchemy.engine.base.Engine ('Led Zepplin',)\n",
      "2018-07-11 00:30:29,510 INFO sqlalchemy.engine.base.Engine INSERT INTO artist (name) VALUES (?)\n",
      "2018-07-11 00:30:29,512 INFO sqlalchemy.engine.base.Engine ('AC/DC',)\n",
      "2018-07-11 00:30:29,514 INFO sqlalchemy.engine.base.Engine COMMIT\n"
     ]
    }
   ],
   "source": [
    "# Session 인스턴스를 받아준다.\n",
    "session = Session()\n",
    "\n",
    "# session에 일을 시킨다.\n",
    "session.add_all([artist_instance01, artist_instance02])\n",
    "\n",
    "# session을 SQL문으로 바꾸어서 실제로 DB에 반영하도록 한다.\n",
    "session.commit()"
   ]
  },
  {
   "cell_type": "code",
   "execution_count": 16,
   "metadata": {},
   "outputs": [
    {
     "data": {
      "text/plain": [
       "sqlalchemy.orm.session.Session"
      ]
     },
     "execution_count": 16,
     "metadata": {},
     "output_type": "execute_result"
    }
   ],
   "source": [
    "type(session)"
   ]
  },
  {
   "cell_type": "markdown",
   "metadata": {},
   "source": [
    "### Update "
   ]
  },
  {
   "cell_type": "code",
   "execution_count": 17,
   "metadata": {},
   "outputs": [
    {
     "data": {
      "text/plain": [
       "IdentitySet([])"
      ]
     },
     "execution_count": 17,
     "metadata": {},
     "output_type": "execute_result"
    }
   ],
   "source": [
    "# session.dirty 녹음파일 18:40\n",
    "\n",
    "session.dirty"
   ]
  },
  {
   "cell_type": "markdown",
   "metadata": {},
   "source": [
    "dirty\n",
    "- The set of all persistent instances considered dirty.\n",
    "- Instances are considered dirty when they were modified but not deleted.\n",
    "\n",
    "session은 메모리 상에 상주하고 있는 클래스들을 관리한다. 그렇기 때문에 데이터베이스와 싱크가 항상 맞아야 데이터무결성을 지킬 수 있다. session은 session이 관리하고 있는 instance들의 값들이 새로 변경되는 사항들이 있는지 계속 감시하다가 변경되었지만 삭제되지 않은 사항이 있으면 dirty에 기록한다.\n",
    "\n",
    "새로 추가된 사항들은 new라는 곳에 기록한다"
   ]
  },
  {
   "cell_type": "code",
   "execution_count": 18,
   "metadata": {},
   "outputs": [
    {
     "data": {
      "text/plain": [
       "IdentitySet([])"
      ]
     },
     "execution_count": 18,
     "metadata": {},
     "output_type": "execute_result"
    }
   ],
   "source": [
    "session.new"
   ]
  },
  {
   "cell_type": "code",
   "execution_count": 19,
   "metadata": {},
   "outputs": [],
   "source": [
    "# 이렇게 바꾸려하면, DB에 있는 것과 메모리가 다르다. 그러면 반영되지 않은 값이 있다고 알려줄 것이다.\n",
    "artist_instance01.name = \"xyz\""
   ]
  },
  {
   "cell_type": "code",
   "execution_count": 20,
   "metadata": {},
   "outputs": [
    {
     "data": {
      "text/plain": [
       "IdentitySet([<T'artist(name = 'xyz')>])"
      ]
     },
     "execution_count": 20,
     "metadata": {},
     "output_type": "execute_result"
    }
   ],
   "source": [
    "session.dirty"
   ]
  },
  {
   "cell_type": "markdown",
   "metadata": {},
   "source": [
    "값을 바꾸고 session.dirty를 해보면 미반영된 애를 확인할 수 있다. 그러면 commit을 하여 DB에 반영해야 한다. 그러고 나면 session.dirty는 다시 비워지게 될 것이다."
   ]
  },
  {
   "cell_type": "markdown",
   "metadata": {},
   "source": [
    "### Commit"
   ]
  },
  {
   "cell_type": "code",
   "execution_count": 21,
   "metadata": {},
   "outputs": [
    {
     "name": "stdout",
     "output_type": "stream",
     "text": [
      "2018-07-11 00:38:27,360 INFO sqlalchemy.engine.base.Engine BEGIN (implicit)\n",
      "2018-07-11 00:38:27,362 INFO sqlalchemy.engine.base.Engine SELECT artist.id AS artist_id \n",
      "FROM artist \n",
      "WHERE artist.id = ?\n",
      "2018-07-11 00:38:27,364 INFO sqlalchemy.engine.base.Engine (1,)\n",
      "2018-07-11 00:38:27,367 INFO sqlalchemy.engine.base.Engine UPDATE artist SET name=? WHERE artist.id = ?\n",
      "2018-07-11 00:38:27,368 INFO sqlalchemy.engine.base.Engine ('xyz', 1)\n",
      "2018-07-11 00:38:27,369 INFO sqlalchemy.engine.base.Engine COMMIT\n"
     ]
    }
   ],
   "source": [
    "session.commit()"
   ]
  },
  {
   "cell_type": "code",
   "execution_count": 22,
   "metadata": {},
   "outputs": [
    {
     "data": {
      "text/plain": [
       "IdentitySet([])"
      ]
     },
     "execution_count": 22,
     "metadata": {},
     "output_type": "execute_result"
    }
   ],
   "source": [
    "session.dirty"
   ]
  },
  {
   "cell_type": "markdown",
   "metadata": {},
   "source": [
    "미반영된 애들까지 확인 후 반영되었다."
   ]
  },
  {
   "cell_type": "code",
   "execution_count": 23,
   "metadata": {},
   "outputs": [
    {
     "data": {
      "text/plain": [
       "IdentitySet([<__main__.Album object at 0x10bcebf60>, <__main__.Album object at 0x10bcebf98>])"
      ]
     },
     "execution_count": 23,
     "metadata": {},
     "output_type": "execute_result"
    }
   ],
   "source": [
    "# 앨범에 인스턴스를 추가\n",
    "\n",
    "session.add_all([\n",
    "    Album(title = \"1\" , artist_id = 1),\n",
    "    Album(title = \"2\" , artist_id = 2)\n",
    "])\n",
    "\n",
    "# session new 해보면 아직 바뀌지 않은 새로운 애들이 나타난다. 확인 후 커밋 !\n",
    "\n",
    "session.new"
   ]
  },
  {
   "cell_type": "code",
   "execution_count": 24,
   "metadata": {},
   "outputs": [],
   "source": [
    "session.add_all([\n",
    "    Genre(name = \"Rock\"),\n",
    "    Genre(name = \"Metal\")\n",
    "])"
   ]
  },
  {
   "cell_type": "code",
   "execution_count": 25,
   "metadata": {},
   "outputs": [],
   "source": [
    "session.add_all([\n",
    "    Track(title = \"1-1\", album_id = 1 , genre_id = 1),\n",
    "    Track(title = \"1-2\", album_id = 1 , genre_id = 2),\n",
    "    Track(title = \"2-1\", album_id = 2 , genre_id = 1),\n",
    "    Track(title = \"2-2\", album_id = 2 , genre_id = 2),\n",
    "])"
   ]
  },
  {
   "cell_type": "markdown",
   "metadata": {},
   "source": [
    "여기까지 왔으면 엄청난 new들을 기다리고 있을 것이다."
   ]
  },
  {
   "cell_type": "code",
   "execution_count": 26,
   "metadata": {},
   "outputs": [
    {
     "data": {
      "text/plain": [
       "IdentitySet([<__main__.Album object at 0x10bcebf60>, <__main__.Album object at 0x10bcebf98>, <__main__.Genre object at 0x10bcebeb8>, <__main__.Genre object at 0x10bcebdd8>, <__main__.Track object at 0x10bce6860>, <__main__.Track object at 0x10bce6898>, <__main__.Track object at 0x10bce69b0>, <__main__.Track object at 0x10bce6780>])"
      ]
     },
     "execution_count": 26,
     "metadata": {},
     "output_type": "execute_result"
    }
   ],
   "source": [
    "session.new"
   ]
  },
  {
   "cell_type": "code",
   "execution_count": 27,
   "metadata": {},
   "outputs": [
    {
     "name": "stdout",
     "output_type": "stream",
     "text": [
      "2018-07-11 00:40:00,122 INFO sqlalchemy.engine.base.Engine BEGIN (implicit)\n",
      "2018-07-11 00:40:00,125 INFO sqlalchemy.engine.base.Engine INSERT INTO track (title, album_id, genre_id) VALUES (?, ?, ?)\n",
      "2018-07-11 00:40:00,127 INFO sqlalchemy.engine.base.Engine ('1-1', 1, 1)\n",
      "2018-07-11 00:40:00,129 INFO sqlalchemy.engine.base.Engine INSERT INTO track (title, album_id, genre_id) VALUES (?, ?, ?)\n",
      "2018-07-11 00:40:00,131 INFO sqlalchemy.engine.base.Engine ('1-2', 1, 2)\n",
      "2018-07-11 00:40:00,132 INFO sqlalchemy.engine.base.Engine INSERT INTO track (title, album_id, genre_id) VALUES (?, ?, ?)\n",
      "2018-07-11 00:40:00,134 INFO sqlalchemy.engine.base.Engine ('2-1', 2, 1)\n",
      "2018-07-11 00:40:00,136 INFO sqlalchemy.engine.base.Engine INSERT INTO track (title, album_id, genre_id) VALUES (?, ?, ?)\n",
      "2018-07-11 00:40:00,137 INFO sqlalchemy.engine.base.Engine ('2-2', 2, 2)\n",
      "2018-07-11 00:40:00,140 INFO sqlalchemy.engine.base.Engine INSERT INTO genre (name) VALUES (?)\n",
      "2018-07-11 00:40:00,142 INFO sqlalchemy.engine.base.Engine ('Rock',)\n",
      "2018-07-11 00:40:00,149 INFO sqlalchemy.engine.base.Engine INSERT INTO genre (name) VALUES (?)\n",
      "2018-07-11 00:40:00,155 INFO sqlalchemy.engine.base.Engine ('Metal',)\n",
      "2018-07-11 00:40:00,158 INFO sqlalchemy.engine.base.Engine INSERT INTO album (title, artist_id) VALUES (?, ?)\n",
      "2018-07-11 00:40:00,161 INFO sqlalchemy.engine.base.Engine ('1', 1)\n",
      "2018-07-11 00:40:00,164 INFO sqlalchemy.engine.base.Engine INSERT INTO album (title, artist_id) VALUES (?, ?)\n",
      "2018-07-11 00:40:00,167 INFO sqlalchemy.engine.base.Engine ('2', 2)\n",
      "2018-07-11 00:40:00,170 INFO sqlalchemy.engine.base.Engine COMMIT\n"
     ]
    }
   ],
   "source": [
    "session.commit()"
   ]
  },
  {
   "cell_type": "markdown",
   "metadata": {},
   "source": [
    "이러고 나면 각 클래스별로 데이터가 입력된 테이블들이 생성되어 있을 것이다."
   ]
  },
  {
   "cell_type": "code",
   "execution_count": 28,
   "metadata": {},
   "outputs": [],
   "source": [
    "temp = Track(title = \"3-1\", album_id=3, genre_id=3)"
   ]
  },
  {
   "cell_type": "code",
   "execution_count": 29,
   "metadata": {},
   "outputs": [
    {
     "name": "stdout",
     "output_type": "stream",
     "text": [
      "None\n"
     ]
    }
   ],
   "source": [
    "print(temp.id) # memory 상에만 존재할 뿐, 실제 DB에 안 넣었기 때문에 None이 나올 것이다."
   ]
  },
  {
   "cell_type": "code",
   "execution_count": 30,
   "metadata": {},
   "outputs": [
    {
     "data": {
      "text/plain": [
       "IdentitySet([<__main__.Track object at 0x10bceb7b8>])"
      ]
     },
     "execution_count": 30,
     "metadata": {},
     "output_type": "execute_result"
    }
   ],
   "source": [
    "session.add(temp)\n",
    "session.new # new에 새로운 작업이 남아 있다는 것을 확인할 수 있다."
   ]
  },
  {
   "cell_type": "code",
   "execution_count": 31,
   "metadata": {},
   "outputs": [
    {
     "name": "stdout",
     "output_type": "stream",
     "text": [
      "2018-07-11 00:41:05,066 INFO sqlalchemy.engine.base.Engine BEGIN (implicit)\n",
      "2018-07-11 00:41:05,068 INFO sqlalchemy.engine.base.Engine INSERT INTO track (title, album_id, genre_id) VALUES (?, ?, ?)\n",
      "2018-07-11 00:41:05,069 INFO sqlalchemy.engine.base.Engine ('3-1', 3, 3)\n",
      "2018-07-11 00:41:05,070 INFO sqlalchemy.engine.base.Engine COMMIT\n"
     ]
    }
   ],
   "source": [
    "session.commit()"
   ]
  },
  {
   "cell_type": "markdown",
   "metadata": {},
   "source": [
    "*이 과정은 엄청나게 획기적인 것이다 !!!* \n",
    "\n",
    "데이터를 불러오려면 어떻게 해야하는가? session에 우리가 만든 정보들이 다 있고, 커밋했다면 DB와 100% 일치할 것이므로 DB까지 안 가고 메모리까지만 갔다올 수 있다. 그래서 다음과 같이 활용할 수 있다."
   ]
  },
  {
   "cell_type": "markdown",
   "metadata": {},
   "source": [
    "### Select"
   ]
  },
  {
   "cell_type": "markdown",
   "metadata": {},
   "source": [
    "Query is the source of all SELECT statements generated by the ORM"
   ]
  },
  {
   "cell_type": "code",
   "execution_count": 31,
   "metadata": {
    "scrolled": false
   },
   "outputs": [
    {
     "name": "stdout",
     "output_type": "stream",
     "text": [
      "2018-07-10 17:34:05,319 INFO sqlalchemy.engine.base.Engine BEGIN (implicit)\n",
      "2018-07-10 17:34:05,321 INFO sqlalchemy.engine.base.Engine SELECT artist.id AS artist_id, artist.name AS artist_name \n",
      "FROM artist\n",
      "2018-07-10 17:34:05,323 INFO sqlalchemy.engine.base.Engine ()\n",
      "1 xyz\n",
      "2 AC/DC\n"
     ]
    }
   ],
   "source": [
    "for row in session.query(Artist) :\n",
    "    print(row.id, row.name)"
   ]
  },
  {
   "cell_type": "markdown",
   "metadata": {},
   "source": [
    "where 절을 활용하려면 filter라는 것을 활용하면 된다."
   ]
  },
  {
   "cell_type": "code",
   "execution_count": 32,
   "metadata": {},
   "outputs": [
    {
     "name": "stdout",
     "output_type": "stream",
     "text": [
      "2018-07-10 17:35:10,481 INFO sqlalchemy.engine.base.Engine SELECT artist.id AS artist_id, artist.name AS artist_name \n",
      "FROM artist \n",
      "WHERE artist.id = ?\n",
      "2018-07-10 17:35:10,482 INFO sqlalchemy.engine.base.Engine (1,)\n",
      "1 xyz\n"
     ]
    }
   ],
   "source": [
    "for row in session.query(Artist).filter(Artist.id == 1) :\n",
    "    print(row.id, row.name)"
   ]
  },
  {
   "cell_type": "code",
   "execution_count": null,
   "metadata": {},
   "outputs": [],
   "source": []
  }
 ],
 "metadata": {
  "kernelspec": {
   "display_name": "Python 3",
   "language": "python",
   "name": "python3"
  },
  "language_info": {
   "codemirror_mode": {
    "name": "ipython",
    "version": 3
   },
   "file_extension": ".py",
   "mimetype": "text/x-python",
   "name": "python",
   "nbconvert_exporter": "python",
   "pygments_lexer": "ipython3",
   "version": "3.6.4"
  }
 },
 "nbformat": 4,
 "nbformat_minor": 2
}
