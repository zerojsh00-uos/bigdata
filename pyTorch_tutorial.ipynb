{
  "nbformat": 4,
  "nbformat_minor": 0,
  "metadata": {
    "colab": {
      "name": "pyTorch_tutorial",
      "version": "0.3.2",
      "provenance": [],
      "collapsed_sections": [],
      "include_colab_link": true
    },
    "kernelspec": {
      "name": "python3",
      "display_name": "Python 3"
    },
    "accelerator": "GPU"
  },
  "cells": [
    {
      "cell_type": "markdown",
      "metadata": {
        "id": "view-in-github",
        "colab_type": "text"
      },
      "source": [
        "[View in Colaboratory](https://colab.research.google.com/github/zerojsh00/bigdata/blob/master/pyTorch_tutorial.ipynb)"
      ]
    },
    {
      "metadata": {
        "id": "4Yyy3b6oO_43",
        "colab_type": "text"
      },
      "cell_type": "markdown",
      "source": [
        "Colab 에서 pyTorch 를 사용하기 위해 설치하는 과정입니다."
      ]
    },
    {
      "metadata": {
        "id": "44YML9n3Oz-G",
        "colab_type": "code",
        "colab": {}
      },
      "cell_type": "code",
      "source": [
        "import os\n",
        "from wheel.pep425tags import get_abbr_impl, get_impl_ver, get_abi_tag\n",
        "platform = '{}{}-{}'.format(get_abbr_impl(), get_impl_ver(), get_abi_tag())\n",
        "accelerator = 'cu80' if os.path.exists('/opt/bin/nvidia-smi') else 'cpu'\n",
        "!pip install -q http://download.pytorch.org/whl/{accelerator}/torch-0.4.0-{platform}-linux_x86_64.whl torchvision"
      ],
      "execution_count": 0,
      "outputs": []
    },
    {
      "metadata": {
        "id": "d6HKT4JZPj-N",
        "colab_type": "text"
      },
      "cell_type": "markdown",
      "source": [
        "pyTorch 를 비롯해 오늘 실습에 필요한 파이썬 라이브러리를 읽어들입니다.\n",
        "\n",
        "그리고 라이브러리의 버전을 출력합니다."
      ]
    },
    {
      "metadata": {
        "id": "IuzCRF08O_mt",
        "colab_type": "code",
        "colab": {
          "base_uri": "https://localhost:8080/",
          "height": 119
        },
        "outputId": "9bb97cec-e6f3-4c8e-b169-ede8bd42f1e8"
      },
      "cell_type": "code",
      "source": [
        "import os\n",
        "import sys\n",
        "import timeit\n",
        "import torch\n",
        "import torch.nn as nn\n",
        "import torch.nn.functional as F\n",
        "import torchvision\n",
        "import torchvision.transforms as transforms\n",
        "import numpy as np\n",
        "import matplotlib as mpl\n",
        "import matplotlib.pyplot as plt\n",
        "\n",
        "%matplotlib inline\n",
        "\n",
        "#plt.rc('text', usetex = True)\n",
        "mpl.rcParams[\"font.family\"] = \"serif\"\n",
        "mpl.rcParams[\"font.size\"] = \"15\"\n",
        "\n",
        "print('python version : ', sys.version)\n",
        "print('numpy version : ', np.version.version)\n",
        "print('matplotlib version :', mpl.__version__)\n",
        "print('pytorch version : ', torch.__version__)\n",
        "print('Cuda : ', torch.cuda.is_available())"
      ],
      "execution_count": 3,
      "outputs": [
        {
          "output_type": "stream",
          "text": [
            "python version :  3.6.3 (default, Oct  3 2017, 21:45:48) \n",
            "[GCC 7.2.0]\n",
            "numpy version :  1.14.5\n",
            "matplotlib version : 2.1.2\n",
            "pytorch version :  0.4.0\n",
            "Cuda :  True\n"
          ],
          "name": "stdout"
        }
      ]
    },
    {
      "metadata": {
        "id": "QQiWGAjfQekJ",
        "colab_type": "text"
      },
      "cell_type": "markdown",
      "source": [
        "구현할 모델의 하이퍼파라미터를 설정합니다.\n",
        "\n",
        "batchSize\n",
        "\n",
        "GPU 의 메모리 용량에는 한계가 있기 때문에, 모든 데이터를 한 번에 처리하지 못합니다.\n",
        "\n",
        "따라서, GPU 가 데이터를 조금씩 여러 번 처리하도록 설정해주어야 합니다.\n",
        "\n",
        "batchSize 는 GPU 가 처리하는 데이터의 개수를 의미합니다.\n",
        "\n",
        "learningRate\n",
        "\n",
        "Gradient descent  알고리즘에 사용하는 파라미터입니다.\n",
        "\n",
        "epochNum\n",
        "\n",
        "전체 데이터를 몇 번 학습할 것인지를 나타내는 변수입니다.\n",
        "\n",
        "epochNum = 100 이라면, 모델은 전체 데이터를 100 번씩 훑을 것입니다.\n",
        "\n",
        "device\n",
        "\n",
        "pyTorch 가 모델 학습 등 수치 계산을 위해 사용할 장비를 설정합니다.\n",
        "\n",
        "CPU 또는 GPU 를 사용하며, Colab 은 GPU 를 지원합니다."
      ]
    },
    {
      "metadata": {
        "id": "u91X0IPlQecV",
        "colab_type": "code",
        "colab": {}
      },
      "cell_type": "code",
      "source": [
        "batchSize = 512\n",
        "learningRate = 0.01\n",
        "epochNum = 10\n",
        "device = torch.device('cuda' if torch.cuda.is_available() else 'cpu')"
      ],
      "execution_count": 0,
      "outputs": []
    },
    {
      "metadata": {
        "id": "BqiN-bqoQSit",
        "colab_type": "text"
      },
      "cell_type": "markdown",
      "source": [
        "오늘 실습에 사용할 MNIST 데이터를 다운로드 받고, 읽어들입니다."
      ]
    },
    {
      "metadata": {
        "id": "H43uEV-8Sjsy",
        "colab_type": "code",
        "colab": {
          "base_uri": "https://localhost:8080/",
          "height": 170
        },
        "outputId": "ee9e751b-513f-40f9-8d3d-7bd611e07068"
      },
      "cell_type": "code",
      "source": [
        "# 학습 데이터\n",
        "# root      : ./data/mnist 라는 경로에 데이터를 저장\n",
        "# train     : 학습 데이터를 의미\n",
        "# download  : 지정한 경로에 데이터를 다운로드 함\n",
        "# transform : 데이터를 주어진 방법으로 변환함 (28 * 28 사이즈로 잘라내기 -> 텐서로 변환)\n",
        "dataTrain = torchvision.datasets.MNIST(root = './data/mnist',\n",
        "                                         train = True,\n",
        "                                         download = True,\n",
        "                                         transform = transforms.Compose([\n",
        "                                                        transforms.CenterCrop(28),\n",
        "                                                        transforms.ToTensor()]))\n",
        "\n",
        "# 테스트 데이터\n",
        "# root      : ./data/mnist 라는 경로에 데이터를 저장\n",
        "# train     : 테스트 데이터를 의미\n",
        "# download  : 지정한 경로에 데이터를 다운로드 함\n",
        "# transform : 데이터를 주어진 방법으로 변환함 (28 * 28 사이즈로 잘라내기 -> 텐서로 변환)\n",
        "dataTest = torchvision.datasets.MNIST(root = './data/mnist',\n",
        "                                         train = False,\n",
        "                                         download = True,\n",
        "                                         transform = transforms.Compose([\n",
        "                                                        transforms.CenterCrop(28),\n",
        "                                                        transforms.ToTensor()]))\n",
        "\n",
        "# 학습 데이터 로더\n",
        "# dataset    : 학습 데이터를 불러옴\n",
        "# batch_size : 위에서 지정한 batchSize 만큼 데이터를 불러옴\n",
        "# shuffle    : 랜덤한 순서로 데이터를 불러옴\n",
        "trainLoader = torch.utils.data.DataLoader(dataset = dataTrain, \n",
        "                                         batch_size = batchSize, \n",
        "                                         shuffle = True)\n",
        "\n",
        "# 테스트 데이터 로더\n",
        "# dataset    : 테스트 데이터를 불러옴\n",
        "# batch_size : 위에서 지정한 batchSize 만큼 데이터를 불러옴\n",
        "# shuffle    : 일정한 순서로 데이터를 불러옴\n",
        "testLoader = torch.utils.data.DataLoader(dataset = dataTest, \n",
        "                                         batch_size = batchSize, \n",
        "                                         shuffle = False)\n",
        "\n",
        "print('[info] batchSize : ', batchSize)\n",
        "print('[info] # of train batch : ', len(trainLoader))\n",
        "print('[info] # of test batch : ', len(testLoader))"
      ],
      "execution_count": 5,
      "outputs": [
        {
          "output_type": "stream",
          "text": [
            "Downloading http://yann.lecun.com/exdb/mnist/train-images-idx3-ubyte.gz\n",
            "Downloading http://yann.lecun.com/exdb/mnist/train-labels-idx1-ubyte.gz\n",
            "Downloading http://yann.lecun.com/exdb/mnist/t10k-images-idx3-ubyte.gz\n",
            "Downloading http://yann.lecun.com/exdb/mnist/t10k-labels-idx1-ubyte.gz\n",
            "Processing...\n",
            "Done!\n",
            "[info] batchSize :  512\n",
            "[info] # of train batch :  118\n",
            "[info] # of test batch :  20\n"
          ],
          "name": "stdout"
        }
      ]
    },
    {
      "metadata": {
        "id": "671nTv-6VMO9",
        "colab_type": "text"
      },
      "cell_type": "markdown",
      "source": [
        "MNIST 데이터를 화면에 표시하기 위한 함수를 정의하고,\n",
        "\n",
        "임의의 데이터를 출력해봅니다."
      ]
    },
    {
      "metadata": {
        "id": "Dy6uvYhHVMU9",
        "colab_type": "code",
        "colab": {
          "base_uri": "https://localhost:8080/",
          "height": 416
        },
        "outputId": "d72da96e-2e32-469b-f773-c09d14323122"
      },
      "cell_type": "code",
      "source": [
        "def showImages(image, row):\n",
        "  \n",
        "  for _ in range(row):  \n",
        "  \n",
        "    idx = np.random.choice(100, 6)     # 0 ~ 99 의 정수 중 6 개를 임의로 선택\n",
        "    images =image.numpy()[idx]         # 선택된 index 에 해당하는 이미지를 가져옴\n",
        "    \n",
        "    plt.figure(figsize = (15, 90))     # 세로 길이 15, 가로 길이 15 * 6 의 화면 생성\n",
        "    \n",
        "    for i in range(161, 167):    \n",
        "    \n",
        "      plt.subplot(i)\n",
        "      plt.imshow(images[i - 161])\n",
        "      plt.xticks([])\n",
        "      plt.yticks([])    \n",
        "    \n",
        "    plt.show()  \n",
        "\n",
        "for i, (image, labels) in enumerate(trainLoader): \n",
        "  \n",
        "  showImages(image.squeeze(), 3)\n",
        "  break"
      ],
      "execution_count": 6,
      "outputs": [
        {
          "output_type": "display_data",
          "data": {
            "image/png": "[encoded data removed]",
            "text/plain": [
              "<matplotlib.figure.Figure at 0x7fc0e51aa048>"
            ]
          },
          "metadata": {
            "tags": []
          }
        },
        {
          "output_type": "display_data",
          "data": {
            "image/png": "[encoded data removed]",
            "text/plain": [
              "<matplotlib.figure.Figure at 0x7fc094bab470>"
            ]
          },
          "metadata": {
            "tags": []
          }
        },
        {
          "output_type": "display_data",
          "data": {
            "image/png": "[encoded data removed]",
            "text/plain": [
              "<matplotlib.figure.Figure at 0x7fc09210b3c8>"
            ]
          },
          "metadata": {
            "tags": []
          }
        }
      ]
    },
    {
      "metadata": {
        "id": "1UJjaRRRW_sM",
        "colab_type": "text"
      },
      "cell_type": "markdown",
      "source": [
        "모델을 구현합니다.\n",
        "\n",
        "오늘 구현할 모델은 hidden layer 가 2 개인 fully connected neural network 입니다.\n",
        "\n",
        "hidden layer 의 노드 수는 각각 128 개, 64 개 이며, activation function 은 sigmoid 입니다."
      ]
    },
    {
      "metadata": {
        "id": "GhutNHNtW7B_",
        "colab_type": "code",
        "colab": {}
      },
      "cell_type": "code",
      "source": [
        "class NeuralNetwork(nn.Module):                   # 모델 클래스를 선언\n",
        "  \n",
        "  def __init__(self):\n",
        "    \n",
        "    super(NeuralNetwork, self).__init__()        # nn.Module 을 비롯해 상위 클래스의 생성자를 호출 (문법입니다)\n",
        "    \n",
        "    self.hiddenLayer1 = nn.Linear(28 * 28, 128)  # 28 * 28 = 784 픽셀 (차원) 의 데이터를 받아 128 차원 벡터로 출력하는 레이어\n",
        "    self.hiddenLayer2 = nn.Linear(128, 64)       # 128 차원의 데이터를 받아 64 차원 벡터로 출력하는 레이어\n",
        "    self.outputLayer = nn.Linear(64, 10)         # 64 차원의 데이터를 받아 10 차원 벡터로 출력하는 레이어\n",
        "    self.sigmoid = nn.Sigmoid()                  # sigmoid activation function\n",
        "    \n",
        "  def forward(self, x):                          # 데이터를 받아 예측 결과를 출력하는 메소드 \n",
        "    \n",
        "    z2 = self.hiddenLayer1(x)                    # 첫 번째 hidden layer 를 통과한 결과\n",
        "    a2 = self.sigmoid(z2)                        # 위의 값을 sigmoid 에 통과한 결과\n",
        "    \n",
        "    z3 = self.hiddenLayer2(a2)                   # 두 번째 hidden layer 를 통과한 결과\n",
        "    a3 = self.sigmoid(z3)                        # 위의 값을 sigmoid 에 통과한 결과\n",
        "    \n",
        "    z4 = self.outputLayer(a3)                    # 마지막 layer 를 통과한 결과\n",
        "    y = self.sigmoid(z4)                         # 위의 값을 sigmoid 에 통과한 결과 (최종 출력)\n",
        "    \n",
        "    return y"
      ],
      "execution_count": 0,
      "outputs": []
    },
    {
      "metadata": {
        "id": "auX7TQbIY0eB",
        "colab_type": "text"
      },
      "cell_type": "markdown",
      "source": [
        "모델을 생성하고, 학습 전의 성능을 측정해봅니다."
      ]
    },
    {
      "metadata": {
        "id": "5xuYS4mLgiwW",
        "colab_type": "code",
        "colab": {
          "base_uri": "https://localhost:8080/",
          "height": 34
        },
        "outputId": "6e2c4f6c-213c-461b-8683-afe9cf03e8bf"
      },
      "cell_type": "code",
      "source": [
        "model = NeuralNetwork().to(device)                      # 모델을 생성하고 GPU 로 전송\n",
        "\n",
        "model.eval()                                            # 모델을 테스트 모드로 전환 (학습 때와 테스트 때의 forward 기능이 달라야 하는 경우가 존재합니다, 이후에 배울 예정입니다.)\n",
        "\n",
        "with torch.no_grad():                                   # Gradient 계산 x (테스트할 때에는 gradient 가 필요 없으므로 메모리 절약을 위해 gradient 계산을 하지 않습니다.)\n",
        "\n",
        "  correct = 0\n",
        "  total = 0\n",
        "  \n",
        "  for images, labels in testLoader:\n",
        "    \n",
        "    images = images.reshape(-1, 28 * 28).to(device)     # 가로 28, 세로 28 의 2 차원 MNIST 이미지를 784 차원의 1 차원 벡터로 변환하고 GPU 로 전송\n",
        "    labels = labels.to(device)                          # MNIST 데이터의 정답, GPU 로 전송\n",
        "    \n",
        "    outputs = model(images)                             # MNIST 이미지가 모델을 통과하고 나온 결과 (classification 결과입니다.)\n",
        "    _, predicted = torch.max(outputs.data, 1)           # classification 결과와 정답을 비교해 맞은 갯수를 셈 (sigmoid output 의 값이 가장 큰 것이 예측된 class 입니다.)\n",
        "    \n",
        "    total += labels.size(0)\n",
        "    correct += (predicted == labels).sum().item()\n",
        "\n",
        "  print('Test Accuracy of the model on the 10000 test images: {} %'.format(100 * correct / total))"
      ],
      "execution_count": 8,
      "outputs": [
        {
          "output_type": "stream",
          "text": [
            "Test Accuracy of the model on the 10000 test images: 11.35 %\n"
          ],
          "name": "stdout"
        }
      ]
    },
    {
      "metadata": {
        "id": "XsKXvkF9gi2h",
        "colab_type": "text"
      },
      "cell_type": "markdown",
      "source": [
        "본격적으로 학습을 시작합니다.\n",
        "\n",
        "Cost function 은 cross entropy loss 입니다."
      ]
    },
    {
      "metadata": {
        "id": "rTXueqZaY0k1",
        "colab_type": "code",
        "colab": {
          "base_uri": "https://localhost:8080/",
          "height": 187
        },
        "outputId": "67ec0b5e-a64f-4724-d9cf-cbf027e73cf7"
      },
      "cell_type": "code",
      "source": [
        "model.train()                                                          # 모델을 학습 모드로 전환 (학습 때와 테스트 때의 forward 기능이 달라야 하는 경우가 존재합니다, 이후에 배울 예정입니다.)\n",
        "\n",
        "costFunction = nn.CrossEntropyLoss()                                   # Cross entropy 를 cost function 으로 사용\n",
        "optimizer = torch.optim.Adam(model.parameters(), lr = learningRate)    # Adam 이라는 optimizer 를 사용 (이후에 배울 예정)\n",
        "\n",
        "totalStep = len(trainLoader)\n",
        "\n",
        "for epoch in range(epochNum):\n",
        "  \n",
        "    for idx, (images, labels) in enumerate(trainLoader):\n",
        "      \n",
        "        images = images.reshape(-1, 28 * 28).to(device)                 # 가로 28, 세로 28 의 2 차원 MNIST 이미지를 784 차원의 1 차원 벡터로 변환하고 GPU 로 전송\n",
        "        labels = labels.to(device)                                      # MNIST 데이터의 정답, GPU 로 전송\n",
        "        \n",
        "        # Forward pass\n",
        "        outputs = model(images)                                         # MNIST 이미지가 모델을 통과하고 나온 결과 (classification 결과입니다.)\n",
        "        loss = costFunction(outputs, labels)                            # Classification 결과와 실제 정답을 비교해 cost function 값을 계산\n",
        "        \n",
        "        # Backward and optimize\n",
        "        optimizer.zero_grad()                                           # gradient 값을 초기화 (pyTorch 에서는 gradient 를 계산할 때마다 값이 누적됩니다.)\n",
        "        loss.backward()                                                 # cost function 값을 토대로 gradient 를 계산\n",
        "        optimizer.step()                                                # 계산한 gradient 값으로 모델의 파라미터를 업데이트\n",
        "        \n",
        "        if (idx + 1) % 100 == 0:\n",
        "            \n",
        "            print(\"Epoch [{}/{}], Step [{}/{}] Loss: {:.4f}\".format(epoch + 1, epochNum, idx + 1, totalStep, loss.item()))"
      ],
      "execution_count": 9,
      "outputs": [
        {
          "output_type": "stream",
          "text": [
            "Epoch [1/10], Step [100/118] Loss: 1.5699\n",
            "Epoch [2/10], Step [100/118] Loss: 1.5216\n",
            "Epoch [3/10], Step [100/118] Loss: 1.5007\n",
            "Epoch [4/10], Step [100/118] Loss: 1.4932\n",
            "Epoch [5/10], Step [100/118] Loss: 1.4808\n",
            "Epoch [6/10], Step [100/118] Loss: 1.4824\n",
            "Epoch [7/10], Step [100/118] Loss: 1.4760\n",
            "Epoch [8/10], Step [100/118] Loss: 1.4735\n",
            "Epoch [9/10], Step [100/118] Loss: 1.4728\n",
            "Epoch [10/10], Step [100/118] Loss: 1.4731\n"
          ],
          "name": "stdout"
        }
      ]
    },
    {
      "metadata": {
        "id": "IdgLG0wVbH0_",
        "colab_type": "text"
      },
      "cell_type": "markdown",
      "source": [
        "학습한 모델의 성능을 테스트 데이터를 이용해 확인합니다."
      ]
    },
    {
      "metadata": {
        "id": "97K9soU_bHoL",
        "colab_type": "code",
        "colab": {
          "base_uri": "https://localhost:8080/",
          "height": 34
        },
        "outputId": "c9fdb870-df42-454e-e71b-32bbbbf27b7e"
      },
      "cell_type": "code",
      "source": [
        "model.eval()                                            # 모델을 테스트 모드로 전환 (학습 때와 테스트 때의 forward 기능이 달라야 하는 경우가 존재합니다, 이후에 배울 예정입니다.)\n",
        "\n",
        "with torch.no_grad():                                   # Gradient 계산 x (테스트할 때에는 gradient 가 필요 없으므로 메모리 절약을 위해 gradient 계산을 하지 않습니다.)\n",
        "\n",
        "  correct = 0\n",
        "  total = 0\n",
        "  \n",
        "  for images, labels in testLoader:\n",
        "    \n",
        "    images = images.reshape(-1, 28 * 28).to(device)     # 가로 28, 세로 28 의 2 차원 MNIST 이미지를 784 차원의 1 차원 벡터로 변환하고 GPU 로 전송\n",
        "    labels = labels.to(device)                          # MNIST 데이터의 정답, GPU 로 전송\n",
        "    \n",
        "    outputs = model(images)                             # MNIST 이미지가 모델을 통과하고 나온 결과 (classification 결과입니다.)\n",
        "    _, predicted = torch.max(outputs.data, 1)           # classification 결과와 정답을 비교해 맞은 갯수를 셈 (sigmoid output 의 값이 가장 큰 것이 예측된 class 입니다.)\n",
        "    \n",
        "    total += labels.size(0)\n",
        "    correct += (predicted == labels).sum().item()\n",
        "\n",
        "  print('Test Accuracy of the model on the 10000 test images: {} %'.format(100 * correct / total))"
      ],
      "execution_count": 10,
      "outputs": [
        {
          "output_type": "stream",
          "text": [
            "Test Accuracy of the model on the 10000 test images: 97.13 %\n"
          ],
          "name": "stdout"
        }
      ]
    },
    {
      "metadata": {
        "id": "EWn-_a0hhZaJ",
        "colab_type": "text"
      },
      "cell_type": "markdown",
      "source": [
        "이제 새로운 모델을 직접 만들어 봅시다."
      ]
    },
    {
      "metadata": {
        "id": "3yiHn_CicPks",
        "colab_type": "text"
      },
      "cell_type": "markdown",
      "source": [
        ""
      ]
    },
    {
      "metadata": {
        "id": "d71RTGqwhdVn",
        "colab_type": "code",
        "colab": {}
      },
      "cell_type": "code",
      "source": [
        "class NeuralNetwork2(nn.Module):                  # 모델 클래스를 선언\n",
        "  \n",
        "  def __init__(self):\n",
        "    \n",
        "    super(NeuralNetwork2, self).__init__()        # nn.Module 을 비롯해 상위 클래스의 생성자를 호출 (문법입니다)\n",
        "    \n",
        "    # hidden layer 의 노드가 각각 384, 256, 128, 64 인 5-layer model 을 만들어보세요.\n",
        "    ########## 코드를 채워주세요 ##########\n",
        "    \n",
        "    self.hiddenLayer1 = nn.Linear(28 * 28, 384)  # 28 * 28 = 784 픽셀 (차원) 의 데이터를 받아 384 차원 벡터로 출력하는 레이어\n",
        "    self.hiddenLayer2 = nn.Linear(384, 256)      # 384 픽셀 (차원) 의 데이터를 받아 256 차원 벡터로 출력하는 레이어\n",
        "    self.hiddenLayer3 = nn.Linear(256, 128)      # 256 픽셀 (차원) 의 데이터를 받아 128 차원 벡터로 출력하는 레이어\n",
        "    self.hiddenLayer4 = nn.Linear(128, 64)       # 128 차원의 데이터를 받아 64 차원 벡터로 출력하는 레이어\n",
        "    self.outputLayer = nn.Linear(64, 10)         # 64 차원의 데이터를 받아 10 차원 벡터로 출력하는 레이어\n",
        "    self.sigmoid = nn.Sigmoid()                  # sigmoid activation function\n",
        "    \n",
        "    \n",
        "    \n",
        "    \n",
        "    #######################################\n",
        "    \n",
        "    self.sigmoid = nn.Sigmoid()                  # sigmoid activation function\n",
        "    \n",
        "  def forward(self, x):                          # 데이터를 받아 예측 결과를 출력하는 메소드 \n",
        "    \n",
        "    # activation function 은 sigmoid 를 사용해주세요.\n",
        "    ########## 코드를 채워주세요 ##########\n",
        "    \n",
        "    out = x\n",
        "    out = self.sigmoid(self.hiddenLayer1(out))\n",
        "    out = self.sigmoid(self.hiddenLayer2(out))\n",
        "    out = self.sigmoid(self.hiddenLayer3(out))\n",
        "    out = self.sigmoid(self.hiddenLayer4(out))\n",
        "    out = self.sigmoid(self.outputLayer(out))\n",
        "    y = out\n",
        "    \n",
        "    \n",
        "    \n",
        "    \n",
        "    \n",
        "    \n",
        "    #######################################\n",
        "    \n",
        "    return y"
      ],
      "execution_count": 0,
      "outputs": []
    },
    {
      "metadata": {
        "id": "N85oc54Qi4mG",
        "colab_type": "text"
      },
      "cell_type": "markdown",
      "source": [
        "새로운 모델을 학습하고, 테스트 결과를 확인해보세요."
      ]
    },
    {
      "metadata": {
        "id": "GnNs9SL7i2ZY",
        "colab_type": "code",
        "colab": {
          "base_uri": "https://localhost:8080/",
          "height": 204
        },
        "outputId": "79faa157-58ee-4f69-c5d7-e4ec41f1b1bb"
      },
      "cell_type": "code",
      "source": [
        "model2 = NeuralNetwork2().to(device)\n",
        "model2.train()                                                          # 모델을 학습 모드로 전환 (학습 때와 테스트 때의 forward 기능이 달라야 하는 경우가 존재합니다, 이후에 배울 예정입니다.)\n",
        "\n",
        "costFunction = nn.CrossEntropyLoss()                                    # Cross entropy 를 cost function 으로 사용\n",
        "optimizer = torch.optim.Adam(model2.parameters(), lr = learningRate)    # Adam 이라는 optimizer 를 사용 (이후에 배울 예정)\n",
        "\n",
        "totalStep = len(trainLoader)\n",
        "\n",
        "for epoch in range(epochNum):\n",
        "  \n",
        "    for idx, (images, labels) in enumerate(trainLoader):\n",
        "      \n",
        "        images = images.reshape(-1, 28 * 28).to(device)                 # 가로 28, 세로 28 의 2 차원 MNIST 이미지를 784 차원의 1 차원 벡터로 변환하고 GPU 로 전송\n",
        "        labels = labels.to(device)                                      # MNIST 데이터의 정답, GPU 로 전송\n",
        "        \n",
        "        # Forward pass\n",
        "        outputs = model2(images)                                        # MNIST 이미지가 모델을 통과하고 나온 결과 (classification 결과입니다.)\n",
        "        loss = costFunction(outputs, labels)                            # Classification 결과와 실제 정답을 비교해 cost function 값을 계산\n",
        "        \n",
        "        # Backward and optimize\n",
        "        optimizer.zero_grad()                                           # gradient 값을 초기화 (pyTorch 에서는 gradient 를 계산할 때마다 값이 누적됩니다.)\n",
        "        loss.backward()                                                 # cost function 값을 토대로 gradient 를 계산\n",
        "        optimizer.step()                                                # 계산한 gradient 값으로 모델의 파라미터를 업데이트\n",
        "        \n",
        "        if (idx + 1) % 100 == 0:\n",
        "            \n",
        "            print(\"Epoch [{}/{}], Step [{}/{}] Loss: {:.4f}\".format(epoch + 1, epochNum, idx + 1, totalStep, loss.item()))\n",
        "            \n",
        "model2.eval()                                           # 모델을 테스트 모드로 전환 (학습 때와 테스트 때의 forward 기능이 달라야 하는 경우가 존재합니다, 이후에 배울 예정입니다.)\n",
        "\n",
        "with torch.no_grad():                                   # Gradient 계산 x (테스트할 때에는 gradient 가 필요 없으므로 메모리 절약을 위해 gradient 계산을 하지 않습니다.)\n",
        "\n",
        "  correct = 0\n",
        "  total = 0\n",
        "  \n",
        "  for images, labels in testLoader:\n",
        "    \n",
        "    images = images.reshape(-1, 28 * 28).to(device)     # 가로 28, 세로 28 의 2 차원 MNIST 이미지를 784 차원의 1 차원 벡터로 변환하고 GPU 로 전송\n",
        "    labels = labels.to(device)                          # MNIST 데이터의 정답, GPU 로 전송\n",
        "    \n",
        "    outputs = model2(images)                            # MNIST 이미지가 모델을 통과하고 나온 결과 (classification 결과입니다.)\n",
        "    _, predicted = torch.max(outputs.data, 1)           # classification 결과와 정답을 비교해 맞은 갯수를 셈 (sigmoid output 의 값이 가장 큰 것이 예측된 class 입니다.)\n",
        "    \n",
        "    total += labels.size(0)\n",
        "    correct += (predicted == labels).sum().item()\n",
        "\n",
        "  print('Test Accuracy of the model on the 10000 test images: {} %'.format(100 * correct / total))"
      ],
      "execution_count": 15,
      "outputs": [
        {
          "output_type": "stream",
          "text": [
            "Epoch [1/10], Step [100/118] Loss: 1.7874\n",
            "Epoch [2/10], Step [100/118] Loss: 1.7494\n",
            "Epoch [3/10], Step [100/118] Loss: 1.7411\n",
            "Epoch [4/10], Step [100/118] Loss: 1.6149\n",
            "Epoch [5/10], Step [100/118] Loss: 1.6296\n",
            "Epoch [6/10], Step [100/118] Loss: 1.6093\n",
            "Epoch [7/10], Step [100/118] Loss: 1.6062\n",
            "Epoch [8/10], Step [100/118] Loss: 1.5543\n",
            "Epoch [9/10], Step [100/118] Loss: 1.5140\n",
            "Epoch [10/10], Step [100/118] Loss: 1.5068\n",
            "Test Accuracy of the model on the 10000 test images: 88.66 %\n"
          ],
          "name": "stdout"
        }
      ]
    },
    {
      "metadata": {
        "id": "ZTN-RhRJjnNl",
        "colab_type": "text"
      },
      "cell_type": "markdown",
      "source": [
        "왜 레이어를 더 쌓았는데, 결과가 떨어졌을까요?"
      ]
    }
  ]
}