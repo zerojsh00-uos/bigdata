{
 "cells": [
  {
   "cell_type": "code",
   "execution_count": 1,
   "metadata": {},
   "outputs": [],
   "source": [
    "import base64\n",
    "import requests\n",
    "import urllib.request as dw\n",
    "from bs4 import BeautifulSoup\n",
    "from tqdm import tqdm"
   ]
  },
  {
   "cell_type": "code",
   "execution_count": 2,
   "metadata": {},
   "outputs": [],
   "source": [
    "def get_img_url(dom) :\n",
    "    img_url_list = []\n",
    "    for img in dom.find_all('img') :\n",
    "        if img.get('data-src') != None :\n",
    "            print(img.get('data-src'))\n",
    "            img_url_list.append(img.get('data-src'))\n",
    "    return img_url_list"
   ]
  },
  {
   "cell_type": "code",
   "execution_count": 3,
   "metadata": {},
   "outputs": [],
   "source": [
    "def get_img_base64(imgUrl) :\n",
    "    url = imgUrl\n",
    "    f = dw.urlopen(url).read()\n",
    "\n",
    "    savePath = \"/Users/JEONG/Desktop/test/img_data.jpg\"\n",
    "\n",
    "    saveFile = open(savePath,'wb') # w : write , r : read , a : add\n",
    "    saveFile.write(f)\n",
    "    saveFile.close()\n",
    "    \n",
    "    data = open(savePath, 'rb')\n",
    "    encrypted = base64.b64encode(data.read(), altchars=None)\n",
    "    data.close()\n",
    "    \n",
    "    return encrypted"
   ]
  },
  {
   "cell_type": "markdown",
   "metadata": {},
   "source": [
    "## 르누아르 이미지 크롤링"
   ]
  },
  {
   "cell_type": "code",
   "execution_count": 4,
   "metadata": {
    "scrolled": true
   },
   "outputs": [
    {
     "name": "stderr",
     "output_type": "stream",
     "text": [
      "\r",
      "  0%|          | 0/80 [00:00<?, ?it/s]"
     ]
    },
    {
     "name": "stdout",
     "output_type": "stream",
     "text": [
      "https://encrypted-tbn0.gstatic.com/images?q=tbn:ANd9GcRKMs10ImWfPLHeTpmllgqoZn-o48FQewXpN4kfSwubdtWqSbrw\n",
      "https://encrypted-tbn0.gstatic.com/images?q=tbn:ANd9GcT0654pNCt1z5kEHGKs8BALWs_1BgoqbMz8JgrMn187OGeYHJRm\n",
      "https://encrypted-tbn0.gstatic.com/images?q=tbn:ANd9GcQU-xbbGKazZal5KW09ZKKWkMKOIzhp2NJP5ErtaYB2C1xyWhjd\n",
      "https://encrypted-tbn0.gstatic.com/images?q=tbn:ANd9GcQJwe4ZTRtnMIZyjEhSQNJu2XxUpUdR9bJbEKBLqNNooeHY7aNYfg\n",
      "https://encrypted-tbn0.gstatic.com/images?q=tbn:ANd9GcS3lZHcWFgWmMNIUqhZWGdvKO35a1U1euU7GUKNMWALE9njcMliHA\n",
      "https://encrypted-tbn0.gstatic.com/images?q=tbn:ANd9GcTFp5dGAReRVvhHutpvzYrDhhG6AdUaJrixDtpjfiR80BKFH6hFQw\n",
      "https://encrypted-tbn0.gstatic.com/images?q=tbn:ANd9GcREqNWAStPdj4wsAS7N5M5hWcGApOmxZAXS6NFuC7X-cR9zImhGcw\n",
      "https://encrypted-tbn0.gstatic.com/images?q=tbn:ANd9GcSlKm4ZEcxGac3SbzAojBQEMj8Rd596POSvrVAiMOyOGAT1paJqfA\n",
      "https://encrypted-tbn0.gstatic.com/images?q=tbn:ANd9GcT6CP14-AJ7IAeQk2VSTwPadHIcAD_M8TFfG-npabDa2ovaTL7K6g\n",
      "https://encrypted-tbn0.gstatic.com/images?q=tbn:ANd9GcQMuPx6igsduuShKwrJ9j5mHD76oRg327QXNuuIJvi5Lp7Qb_w2\n",
      "https://encrypted-tbn0.gstatic.com/images?q=tbn:ANd9GcRSFcmrX8NUYC1rWW2B35M0ngErmgms7hNLgLAqc0Q-h2N9bf8_\n",
      "https://encrypted-tbn0.gstatic.com/images?q=tbn:ANd9GcSV5sxr46APEq7oCRCxN-30sMxzV5vJ7PlilId4i3ovWh6rM40SeQ\n",
      "https://encrypted-tbn0.gstatic.com/images?q=tbn:ANd9GcRsUnAlYBfG5PpULe-N-ZVCmlMR9fENIpYVKRxw-GjIMJkwZvrIvg\n",
      "https://encrypted-tbn0.gstatic.com/images?q=tbn:ANd9GcTgYwuCdPR8genOQbEZ0RSfPEPLsSBZZq7_l0PJdSuaLSR3lfLewQ\n",
      "https://encrypted-tbn0.gstatic.com/images?q=tbn:ANd9GcRBTcv2w4JScs0XkhXe0AEMk0iWqquS7zLVtoMd6ldG2VyOkNMr\n",
      "https://encrypted-tbn0.gstatic.com/images?q=tbn:ANd9GcS1VskXqC2rf2NMlf_beq-nmWCZZedHcA6_gR1z8u4NEOKTxs0Qjg\n",
      "https://encrypted-tbn0.gstatic.com/images?q=tbn:ANd9GcSYogj_9Y2Ar_sTHVguKeHC5x8mb6VvR6Vf9OmhA2rNgzUnvv3ihw\n",
      "https://encrypted-tbn0.gstatic.com/images?q=tbn:ANd9GcS3VyLm02JHzZbHo6Suckofodn3__Ugcg-ws9u231s7evcveRgaFA\n",
      "https://encrypted-tbn0.gstatic.com/images?q=tbn:ANd9GcTt9MbOq-69IpCX8U1iDgQLUKwdJnTKsSNUx30RMDNMZgfAwFECQQ\n",
      "https://encrypted-tbn0.gstatic.com/images?q=tbn:ANd9GcTemGlGQ1ym3VTo2pbsj6j_bLIzseGrWR9rDJx2jKEWsSBWSBzAcA\n",
      "https://encrypted-tbn0.gstatic.com/images?q=tbn:ANd9GcQXqdPNMmPYUPUTfzD9pT9LeZGMLfO1JL09VgxqYNM6qtOdH_LK\n",
      "https://encrypted-tbn0.gstatic.com/images?q=tbn:ANd9GcRUE7mbOm-yLDPNGxKcTLNogUxUo_BCesPpwGREJGdPutHkvNkW\n",
      "https://encrypted-tbn0.gstatic.com/images?q=tbn:ANd9GcSUHtgBo2LOx64QFqEeYU9zHXM6HkxuawPOO5_x6YuWYDLrhVhGgw\n",
      "https://encrypted-tbn0.gstatic.com/images?q=tbn:ANd9GcRYDq517aGK8aCgZYNOCd5aYd8qIimfPXg8aJyONfl_I6MsbM37\n",
      "https://encrypted-tbn0.gstatic.com/images?q=tbn:ANd9GcRY7ecuFaKKNixdqexFbPWMzpTGjNDsFrZM6pVL-CYPSqZHIJLEYw\n",
      "https://encrypted-tbn0.gstatic.com/images?q=tbn:ANd9GcSQ4x2ADKxvhGNTJr7gTUbjnzN_J2dx7O3e2J1rLnrYr1FDcT4i5Q\n",
      "https://encrypted-tbn0.gstatic.com/images?q=tbn:ANd9GcTh47BKIGzs90mXRVfHH0EyqYX02uyDfzYaBEdZ1yWRUh5Woxqnpg\n",
      "https://encrypted-tbn0.gstatic.com/images?q=tbn:ANd9GcRO-NINfSaAKwZE4wz4rO8YYAyt4bSsqhz2QXFA17iLOeCjr9bD\n",
      "https://encrypted-tbn0.gstatic.com/images?q=tbn:ANd9GcRcwfQY-EyvytpzgPhBS0n0WNRuWXJxPmJ4d9Y4JQJtEKfgXY4z\n",
      "https://encrypted-tbn0.gstatic.com/images?q=tbn:ANd9GcRRrPaBS4eYksgd7Bd7nBK4egxZ1N1N08cdlqJaPH4quxlqbZJXSA\n",
      "https://encrypted-tbn0.gstatic.com/images?q=tbn:ANd9GcTwwUkvpdL0RvIXNkM-ai05KINJt38RAA-BPvgdJ7YSMdxvi1XELg\n",
      "https://encrypted-tbn0.gstatic.com/images?q=tbn:ANd9GcRNP94Oyyl1aSYGM7v7s78HJWfkV6uh-XXOvjdtlKKy5extRQJSDw\n",
      "https://encrypted-tbn0.gstatic.com/images?q=tbn:ANd9GcRqp6rtx-Ysi4Pyo30kfR04q3MEGi1VyCMaNMbzjTjNPMxGMdFY\n",
      "https://encrypted-tbn0.gstatic.com/images?q=tbn:ANd9GcTyeV7MggMA0OfYrR-s9GdLCM3U0WQLuYEMjAxLEo7QriMZRLrt\n",
      "https://encrypted-tbn0.gstatic.com/images?q=tbn:ANd9GcT6JmSgtQOYIwGcARal_K-etHMG-6UZbBeMq_ROjwrMscN9i6IBHA\n",
      "https://encrypted-tbn0.gstatic.com/images?q=tbn:ANd9GcRmVzYRDkIkJOMvH9VLHOy_Xdr-LjCD4-dcUTb9SRHe271ZOqLvx4bj1cU\n",
      "https://encrypted-tbn0.gstatic.com/images?q=tbn:ANd9GcSuIVVylQw_ibdQDiCTQNvqS2LdG07xoDM-pzXz0uYflYIGKage\n",
      "https://encrypted-tbn0.gstatic.com/images?q=tbn:ANd9GcQFlFlk33TJ6hl1WxEp-6dCBXazXug83qUg6RhaSMwzp9idyXTktA\n",
      "https://encrypted-tbn0.gstatic.com/images?q=tbn:ANd9GcTmXwbNwJnea-O0qpu50BVzLUDUEvNU7jsgR5ngj0tOy5Em7BpB\n",
      "https://encrypted-tbn0.gstatic.com/images?q=tbn:ANd9GcQaXLVoUORvlasdh_J19L36xoNLWBJywWcDctZDDBpozS9LnRZA\n",
      "https://encrypted-tbn0.gstatic.com/images?q=tbn:ANd9GcSMaO8rI-kxupKHgRckH6UhHRnS0ohBkR5GZUrUzNF6rEjOWNAX\n",
      "https://encrypted-tbn0.gstatic.com/images?q=tbn:ANd9GcQ1Xzw6ShWuUzoY1UFmLbaiw844MG8GLNpho4kom4ynttZRpCJnzg\n",
      "https://encrypted-tbn0.gstatic.com/images?q=tbn:ANd9GcSIINQKuctAXGKTAmfxXPh7vv4luavFgfmU2xXd78l2JBSRcFCJOA\n",
      "https://encrypted-tbn0.gstatic.com/images?q=tbn:ANd9GcSST1bs4w3hNr4Bqk6aKg9uuX9In59XqFMYUcz9dIgS9fnIRZR_\n",
      "https://encrypted-tbn0.gstatic.com/images?q=tbn:ANd9GcSbwMgl3uqzNM319AT31muDosaF_qHfOrunHE7vS-9xXjWMSkndxw\n",
      "https://encrypted-tbn0.gstatic.com/images?q=tbn:ANd9GcTGbXhbcxb7hQaoW3vzdLGqOPWSH6f41TOriBIIw1RiEypAiZpz\n",
      "https://encrypted-tbn0.gstatic.com/images?q=tbn:ANd9GcRYkAdk2bjizk7vMbnRY4KbXDzScAizVLPUvFPaEcs5qTQLeO1bJg\n",
      "https://encrypted-tbn0.gstatic.com/images?q=tbn:ANd9GcQeX1B3asJqDD4vv19Kc4cAR94JuhbS-b-Nnaj_xCP86epoS-JX\n",
      "https://encrypted-tbn0.gstatic.com/images?q=tbn:ANd9GcQQu_wjjx9skvd_8wRaRJjYf0FsQLmNzUjl80ynFaC7wyrAU8LF\n",
      "https://encrypted-tbn0.gstatic.com/images?q=tbn:ANd9GcQId9Hj94Uy6EDROzksyK5CttHuJU52zgPV6h8vcZyov4-oXjM3Mw\n",
      "https://encrypted-tbn0.gstatic.com/images?q=tbn:ANd9GcQoxIK-jyQeaEXJU5A5TbUvAbM6L1ytgqU1d8os0Rw42zGqbnIp\n",
      "https://encrypted-tbn0.gstatic.com/images?q=tbn:ANd9GcTbxsKOMhrdaTj1nhN2G8AoGdQQPYXTBGtDGfBOTVhHBu-QyT7o6Q\n",
      "https://encrypted-tbn0.gstatic.com/images?q=tbn:ANd9GcQ3YoKAGa22eqy8rdtef5tfsK55NsOZ8NVTrxNft9OFh7h98leD-Q\n",
      "https://encrypted-tbn0.gstatic.com/images?q=tbn:ANd9GcS0pBNV5LSYPqBtItru25de5tZ7uTgk_52MTV68zXFoF17OLH-N0g\n",
      "https://encrypted-tbn0.gstatic.com/images?q=tbn:ANd9GcR9mSXsaPi_j7WLD_OLr1KD-5DvgJ9nI-Qj4_HIJkc7IEPKsF6RzA\n",
      "https://encrypted-tbn0.gstatic.com/images?q=tbn:ANd9GcR18Dhywqs9hFllw-5c66rRtNK6qUjg3LbUbdYhMwyo3PLxAf0O\n",
      "https://encrypted-tbn0.gstatic.com/images?q=tbn:ANd9GcRdN84xsVJF2idsxnSR6RLB18v8m9VJwJbhNWaGdIVL0VHu5O-omg\n",
      "https://encrypted-tbn0.gstatic.com/images?q=tbn:ANd9GcQdpN-CJJaLm2CimM3hRszrFKyG99ZmzKleO5sWfOhE9-jQJA9AdA\n",
      "https://encrypted-tbn0.gstatic.com/images?q=tbn:ANd9GcT2PdHp0QAO5M8ejp--ij9AzivlI23oM7qZLEeZy5SQrLbgJNqD\n",
      "https://encrypted-tbn0.gstatic.com/images?q=tbn:ANd9GcQT5vOWAEEh7g-t8QydhYDqYCpOfFE8eBiyBZman1TXnVHpj0Va\n",
      "https://encrypted-tbn0.gstatic.com/images?q=tbn:ANd9GcR2A4JyqsWafxhBYaPswHhu0YBvEAcmB2LfLxMSqQh3fuKM6135\n",
      "https://encrypted-tbn0.gstatic.com/images?q=tbn:ANd9GcSxv4so0KW61MhqqZgWzCL9UAXroI9IZwd6JQ1VVs1dh82t5ewhmg\n",
      "https://encrypted-tbn0.gstatic.com/images?q=tbn:ANd9GcRQtxBluguNqSRJhzkvXO-yE5uKf94YjlsGdrduXmIL3FPhk8lgXQ\n",
      "https://encrypted-tbn0.gstatic.com/images?q=tbn:ANd9GcR6vcRuTmtYmyy1FkrJzVnV95VgvWptyiXK280G3Q03MSXNhyUC\n",
      "https://encrypted-tbn0.gstatic.com/images?q=tbn:ANd9GcQQ9wwJ73TOBzZ4jcdB0yXU_eUNRKQl6UbcShMWAx-gatY8iVi3qg\n",
      "https://encrypted-tbn0.gstatic.com/images?q=tbn:ANd9GcRUh36-wIZcmbNk5d2rvM82OlZG9FtxMIlVfyjSCG-Ij2RV4t5agA\n",
      "https://encrypted-tbn0.gstatic.com/images?q=tbn:ANd9GcTnCmhJRye7UVcnYbraFag4TsLa7DXEh8PZO3per0Icvok4ufA4ZQ\n",
      "https://encrypted-tbn0.gstatic.com/images?q=tbn:ANd9GcT_dubovJzYBH9ejya2b4dIb9A-QGKtk-TFOSkLeHywfx6Qsgidmg\n",
      "https://encrypted-tbn0.gstatic.com/images?q=tbn:ANd9GcTvyoM3m8e-bv1Fs5r2WmbryCB_9kzCkCh1P9p0BSX4maUuiF_4\n",
      "https://encrypted-tbn0.gstatic.com/images?q=tbn:ANd9GcSBwLw1Qk2kInnWunY6QFd2qCTBfAa0spr2TUbwVoevsDQdppdI\n",
      "https://encrypted-tbn0.gstatic.com/images?q=tbn:ANd9GcTlDROWmsuYRACFzeWFCcYRL3nd-v_emCMt4TDJJKum6Z1qWx66tA\n",
      "https://encrypted-tbn0.gstatic.com/images?q=tbn:ANd9GcRC6iwmsCN3LKyQTKCbIWMyp3mRNmdk66bi7HlKaF8VHhJ3zukt\n",
      "https://encrypted-tbn0.gstatic.com/images?q=tbn:ANd9GcTzhO8FthoAd7KTUPrkKiYz4yJtASWRpqjDAgh2Va9vTpucW4ySXg\n",
      "https://encrypted-tbn0.gstatic.com/images?q=tbn:ANd9GcTkNXZSwgClTdgga9niocspws0GsZ_7idBx3QjEBsgfZXObknE5\n",
      "https://encrypted-tbn0.gstatic.com/images?q=tbn:ANd9GcRZfkz-i4T3iGnrboWVy4I3P7rdel81huk0FxjcGb2I4zKmWCKy\n",
      "https://encrypted-tbn0.gstatic.com/images?q=tbn:ANd9GcQJ_tFVPEsp1fCTTJv8OwLE_AaD5EmI8IsP9Bf4BiubRePjKfm4\n",
      "https://encrypted-tbn0.gstatic.com/images?q=tbn:ANd9GcQJ_Bj1XHrlBaCiRbDX-v00UlPbP15AHYVXuOInNA2aMJfZZZPn\n",
      "https://encrypted-tbn0.gstatic.com/images?q=tbn:ANd9GcQywWAGEVreHUw7nA_Jj09xlHu-0TXM6US13QaA8Oh6vCxpyHZTTA\n",
      "https://encrypted-tbn0.gstatic.com/images?q=tbn:ANd9GcRgtvG_z05S2PWHM1R27R-MzRUgIw0ycrPWc8GEIhvRkdlGSi4hWg\n",
      "https://encrypted-tbn0.gstatic.com/images?q=tbn:ANd9GcTgEb8x_0YQIBuZtpJyhqeJSpThZ0wIHb6uYmpZ2ZN-t1FGtDdlNg\n"
     ]
    },
    {
     "name": "stderr",
     "output_type": "stream",
     "text": [
      "100%|██████████| 80/80 [00:23<00:00,  3.39it/s]\n"
     ]
    }
   ],
   "source": [
    "# 르누아르\n",
    "\n",
    "url = 'https://www.google.co.kr/search?q=%EB%A5%B4%EB%88%84%EC%95%84%EB%A5%B4&source=lnms&tbm=isch&sa=X&ved=0ahUKEwips9fZ7KjcAhVE62EKHWmvAtQQ_AUICigB&biw=1027&bih=983'\n",
    "headers = {\n",
    "    \"user-agent\" : \"Mozilla/5.0 (Macintosh; Intel Mac OS X 10_13_5) AppleWebKit/537.36 (KHTML, like Gecko) Chrome/67.0.3396.99 Safari/537.36\"\n",
    "}\n",
    "html = requests.get(url, headers = headers)\n",
    "dom = BeautifulSoup(html.text, 'html.parser')\n",
    "img_url_list = get_img_url(dom)\n",
    "\n",
    "renoir_list = []\n",
    "\n",
    "for url in tqdm(img_url_list) :\n",
    "    renoir_list.append(get_img_base64(url))\n",
    "    "
   ]
  },
  {
   "cell_type": "markdown",
   "metadata": {},
   "source": [
    "## 샤갈 이미지 크롤링"
   ]
  },
  {
   "cell_type": "code",
   "execution_count": 5,
   "metadata": {},
   "outputs": [
    {
     "name": "stderr",
     "output_type": "stream",
     "text": [
      "\r",
      "  0%|          | 0/80 [00:00<?, ?it/s]"
     ]
    },
    {
     "name": "stdout",
     "output_type": "stream",
     "text": [
      "https://encrypted-tbn0.gstatic.com/images?q=tbn:ANd9GcSlWqHqcceA3wxno15MieAEZutW9s0h8Rd7ooAiHSpAb5GdUFw\n",
      "https://encrypted-tbn0.gstatic.com/images?q=tbn:ANd9GcTC9a5rBi05udMTW5TZKYiiE4z3RxL6XuAAahNRmszFJ_WJ7f-t9A\n",
      "https://encrypted-tbn0.gstatic.com/images?q=tbn:ANd9GcRNLrQbRLpdj3Rpvb8UsHGvjVoinHgJHmTGSFeyP1Jeya5JUG_-DQ\n",
      "https://encrypted-tbn0.gstatic.com/images?q=tbn:ANd9GcQWjn8K9WVptGBjPkJpZhMuje857mXKblQnKb0fvjqUCEvEJYub6Q\n",
      "https://encrypted-tbn0.gstatic.com/images?q=tbn:ANd9GcSUi23E_sYKMq4OHWP_UTcQ8TnBcTYjM29qIHRXcSk1UNNUQw57Iw\n",
      "https://encrypted-tbn0.gstatic.com/images?q=tbn:ANd9GcQttY-mTpHrrAGgOFk9jF1LfvI417EpHyeDmwMsfpARuBjq82UZfA\n",
      "https://encrypted-tbn0.gstatic.com/images?q=tbn:ANd9GcQ66lOLvIOWClrNZONTvZyUiaMvHs74uXyNFpVraWD7XET_bsoA\n",
      "https://encrypted-tbn0.gstatic.com/images?q=tbn:ANd9GcRtdhgQF01DthuggZWByXs05V3vsH8x-zL50mIwX_QYyTD1UeeORg\n",
      "https://encrypted-tbn0.gstatic.com/images?q=tbn:ANd9GcQ1CywKPsYD7cIwm_FgdGscQVk2qAupFf0Aq2nMNOY_Q8BkGDy8fw\n",
      "https://encrypted-tbn0.gstatic.com/images?q=tbn:ANd9GcSN5gqG1O1WKEXVtPOih_-O_2AOcisw7tpFS77eVkUbsGivrCRvqQ\n",
      "https://encrypted-tbn0.gstatic.com/images?q=tbn:ANd9GcTJc5thwm36-ykzgLg9oihqqrs-fI0O4S2OmypsjjFFHEdqDktjQQ\n",
      "https://encrypted-tbn0.gstatic.com/images?q=tbn:ANd9GcRYoZLvy0RW-X8gPRglNtYV1E7iIgBRg6-o90BuLunnxwjJovxEhA\n",
      "https://encrypted-tbn0.gstatic.com/images?q=tbn:ANd9GcTYNlBqYvblnFpFVWYjemZZhPajFRIBOt6s6ewB-zLs3zHa1zT7Pw\n",
      "https://encrypted-tbn0.gstatic.com/images?q=tbn:ANd9GcRKqjKz_K8c4Wq3HORY1joCxLMKDtW4yczXsxx5-BQBtflpbHDwMg\n",
      "https://encrypted-tbn0.gstatic.com/images?q=tbn:ANd9GcR4lQL_ajq7I3CQt9AGRtVDgWSot3xRZ3MHHpuHcKj36LHI7MgD\n",
      "https://encrypted-tbn0.gstatic.com/images?q=tbn:ANd9GcSTOHlOz-6e9WsWHbQ5q3fa-8ddYRClR2vWnoX869LDeZ-ZqbJx\n",
      "https://encrypted-tbn0.gstatic.com/images?q=tbn:ANd9GcRRm5ewa4V4-gy9LdOrlA0e7raNJ8iulFw2fpYOp2zptRvFRkiMJg\n",
      "https://encrypted-tbn0.gstatic.com/images?q=tbn:ANd9GcSfjCLxt48TN5C43R2X3tzxldDqqIXucAybu0anl7Y8hR5AYZGU\n",
      "https://encrypted-tbn0.gstatic.com/images?q=tbn:ANd9GcRpIE07aP_7NeGuWVHaK3uwmoeag7afadqII2yu-V9MpSQRLvTB\n",
      "https://encrypted-tbn0.gstatic.com/images?q=tbn:ANd9GcT_sRivYDQ1M_DNMWslfLf2BFZTFXaYR7CWo2uoyUL-6WrgZki1\n",
      "https://encrypted-tbn0.gstatic.com/images?q=tbn:ANd9GcQtY4uEdfZ5ECCKtLwq5bGdKOiC7Rdf2DEtMJ9iBBPRRpSwdPlkOQ\n",
      "https://encrypted-tbn0.gstatic.com/images?q=tbn:ANd9GcTvV1FhAjcojTJyK6OrYY0CU8opYXp32iJkI-OoCFwhrkWi9Egn\n",
      "https://encrypted-tbn0.gstatic.com/images?q=tbn:ANd9GcTkZKRXTbOaORk9yqxvYfxdIgNXnORqVM3Z5GFepHf22GNzJTRE-w\n",
      "https://encrypted-tbn0.gstatic.com/images?q=tbn:ANd9GcTfJG99LgQAKWZF06h6FJm-PwDA5CkcxLayusKA9rfwuSoqMnGR\n",
      "https://encrypted-tbn0.gstatic.com/images?q=tbn:ANd9GcRWNNowMPH4Os-OlFxxKzgn0vxeX_sN7wCFfWDEnCv-k3OoicAD\n",
      "https://encrypted-tbn0.gstatic.com/images?q=tbn:ANd9GcS4E2gxvP0tN5wJgf3jp-a_i3e3wrOi6ufq61Q_o3HWTi7Pc36iXg\n",
      "https://encrypted-tbn0.gstatic.com/images?q=tbn:ANd9GcRM_fVcnNBFoy57M538bkVDxTQeRdPlXnOItoaq_pZOniM4DnSV\n",
      "https://encrypted-tbn0.gstatic.com/images?q=tbn:ANd9GcSi60OjWlI0-yj_uAt_u-mbHJSHLNp0qYg-Us-S_vvnmJsZ8YIP\n",
      "https://encrypted-tbn0.gstatic.com/images?q=tbn:ANd9GcTWGnaO25GpxiwdkzThyGxSGNU6rT6twAo0JESVY-UL5aB9MQIf\n",
      "https://encrypted-tbn0.gstatic.com/images?q=tbn:ANd9GcSb8vca07MbbEpX-tNp4y8DzLgiUG6ANt9fBD13pZnFtg-3y9ahHA\n",
      "https://encrypted-tbn0.gstatic.com/images?q=tbn:ANd9GcTp1RB3ht2qX0gFxj_4-iHntRgBQmCSHZZSJNcAqzoGsTuZMY07\n",
      "https://encrypted-tbn0.gstatic.com/images?q=tbn:ANd9GcQ9Ho1ZEUoKEEQICMRZmBLsP-Cl0PHiKhjyUJhbXL32g-z2v2w06A\n",
      "https://encrypted-tbn0.gstatic.com/images?q=tbn:ANd9GcTa5ObJ1XK3l4xgux2KvMZqoatJGfy5liOs3LTkKQF7ugsauQlr2w\n",
      "https://encrypted-tbn0.gstatic.com/images?q=tbn:ANd9GcS61anx8IoTtvOHsOzv5Mk-ydcM3Fh8fZqbGK5km3hTYh-5SrWKbg\n",
      "https://encrypted-tbn0.gstatic.com/images?q=tbn:ANd9GcQCK7qq5YDfhl5QT9eZzI5qkamFjBiWX2o-kFTQ2ge2bXGYPTJa\n",
      "https://encrypted-tbn0.gstatic.com/images?q=tbn:ANd9GcTxQUM4uSh4DBNBvjxVbkcJYn-IEdUxSZINVtVPwkaBNBJdfmC9\n",
      "https://encrypted-tbn0.gstatic.com/images?q=tbn:ANd9GcTiiK1mtdHoVOYO6PCIkoDVDGoymuCr7ZSpMjkUI5kGNDvVEY_h6w\n",
      "https://encrypted-tbn0.gstatic.com/images?q=tbn:ANd9GcQPnWzjVcsmYfMNVnySH2KU2f1P65fj0qOE9i1pZl0PXYvPgCKy\n",
      "https://encrypted-tbn0.gstatic.com/images?q=tbn:ANd9GcR0yKVh2kcXsmHFmTkeyYfsTnWH3-SpsuZXhVbImaOglmxA0OJzcQ\n",
      "https://encrypted-tbn0.gstatic.com/images?q=tbn:ANd9GcQOLfbqhBoak2eJ84hvgFsza4jDO-dH1R0Jeh6UykvCm-LQmd0SOQ\n",
      "https://encrypted-tbn0.gstatic.com/images?q=tbn:ANd9GcRIpjSLyYB1DLtO1eF7XuPB_j6RwE5_9hnoa7j2X6YohxjcL-QS\n",
      "https://encrypted-tbn0.gstatic.com/images?q=tbn:ANd9GcQqpS6MF5Ka0EXfwQvUd6JH6mptBxsDRvEu1zEVAJyPDmz2Kz8Y\n",
      "https://encrypted-tbn0.gstatic.com/images?q=tbn:ANd9GcRyM55JAno32TxO31QjdjHq9MXgX88oaBUhbS5cPNPdqe4ycH-kEQ\n",
      "https://encrypted-tbn0.gstatic.com/images?q=tbn:ANd9GcQpMS7OKBgMnZ_hty6HPRTU0wxPuev42uEMs9DKhlH6XZ6vKj47\n",
      "https://encrypted-tbn0.gstatic.com/images?q=tbn:ANd9GcRv6DaVFN4ql0DSWYHnbajdzScnGeFj7yR_2-BTtMGIz_Kd45Tw\n",
      "https://encrypted-tbn0.gstatic.com/images?q=tbn:ANd9GcSiDNGK3uuUuYs4g22Bc_ZsOmd6vWy_uglBseAkNE3q7dujiDcx\n",
      "https://encrypted-tbn0.gstatic.com/images?q=tbn:ANd9GcQEa9W0A5ycc8pVaiUxJyZZT4etccK9m9Zf9SdqKBSF3jF2RbjK\n",
      "https://encrypted-tbn0.gstatic.com/images?q=tbn:ANd9GcR2zDZyFdDdzlR4ptg5O3jVHjACbW1p9QjdLmsDcToMuz06aSppIg\n",
      "https://encrypted-tbn0.gstatic.com/images?q=tbn:ANd9GcRqVtvmYuCsbGriDgWxmGlv7vb21OGQNlawd3_mc7gmaE1JWwHr\n",
      "https://encrypted-tbn0.gstatic.com/images?q=tbn:ANd9GcTIkonlOpklFcF4E0FGX2g1GHn89cx8pLklLy6x5GwmZz2Y-G-m\n",
      "https://encrypted-tbn0.gstatic.com/images?q=tbn:ANd9GcQNBX6uQzxNlE5HeY4RA47cjKehHI0Y5au3ZN5RKC90mQxcJcbP\n",
      "https://encrypted-tbn0.gstatic.com/images?q=tbn:ANd9GcS2FDOYs-O13SxmB0PH57nSEO9cNNwewtNcfB5QBzWGf6JKJSnk\n",
      "https://encrypted-tbn0.gstatic.com/images?q=tbn:ANd9GcQJbeCeW8KHkkODBe9nw7DxPSSowMWXRz07DLAdG-twINZfsMBIIw\n",
      "https://encrypted-tbn0.gstatic.com/images?q=tbn:ANd9GcTJO1hiv9tGJJnEnuAU93GJbUorYdLm2oQAsN478EfxOkereO8lvA\n",
      "https://encrypted-tbn0.gstatic.com/images?q=tbn:ANd9GcQsw98MMA3XgDQWZxTqkPNETyhxrHSG9-1F-lCOFtb8UkYKbTsuIw\n",
      "https://encrypted-tbn0.gstatic.com/images?q=tbn:ANd9GcSijHX53zl-K92qD8WMLtdZPrXl-d3bD425xChwNFPJrPA6ywkYAQ\n",
      "https://encrypted-tbn0.gstatic.com/images?q=tbn:ANd9GcT32f9u_lJ_BGf7YXQ27GFX5GOcQtwPaXAy1G5rdOeoHVysIHEZ\n",
      "https://encrypted-tbn0.gstatic.com/images?q=tbn:ANd9GcSa9N8HxHrTRmpiQi45j6nTjM8a3mJdkuLPgoGdseIlf3Y_kTyn\n",
      "https://encrypted-tbn0.gstatic.com/images?q=tbn:ANd9GcRJfCgPa1-cthQX3fxn08_bgtIBkAERdERK4xwByA3Xd7_d4DTE\n",
      "https://encrypted-tbn0.gstatic.com/images?q=tbn:ANd9GcSAALMLYNO6HTxqDt2ZU2CgddlnTBdDKRUDj6xnJfwJ8KAbYW_hcQ\n",
      "https://encrypted-tbn0.gstatic.com/images?q=tbn:ANd9GcRtM6hq8a1ZoF1-iqWY2qelyzhWk6BsU17udGCwgpwOiynuiK2_\n",
      "https://encrypted-tbn0.gstatic.com/images?q=tbn:ANd9GcSvQKhl2yx-D-FALbTdhHIzGqDAHh1ynKMNaMvU8kIxJ7-ndrVYvg\n",
      "https://encrypted-tbn0.gstatic.com/images?q=tbn:ANd9GcRVWqSMRuMKJ7y9dO0cpln4NbbNG-GqqLEOiUR4qSjZbFeyJW5brw\n",
      "https://encrypted-tbn0.gstatic.com/images?q=tbn:ANd9GcSSJN_sNvmYMuHdiME2hyNGnhZHq7AszzQl-WNMP7vwMPbQj4i1\n",
      "https://encrypted-tbn0.gstatic.com/images?q=tbn:ANd9GcRxDMUfZS-CxNMSlApxN3d53XKwAqS5bX_JLoPqw2TteTZPdV0d2A\n",
      "https://encrypted-tbn0.gstatic.com/images?q=tbn:ANd9GcSzM1kXU_tJRtZqc2-ZtWu0QMzw81cob2xr23jkrFPffa5CivgZ\n",
      "https://encrypted-tbn0.gstatic.com/images?q=tbn:ANd9GcRChVtGAEm_ky8J1LalBIoEC2ELaAqpqYqn128TTplSpxd8DNRhvA\n",
      "https://encrypted-tbn0.gstatic.com/images?q=tbn:ANd9GcSlabRyL2jGnAWHBoiYQP2ppaIz45lryEjjF2O0JVIOFKdq1r6xug\n",
      "https://encrypted-tbn0.gstatic.com/images?q=tbn:ANd9GcRdTrMqwuFOFWcp1yklpA2euleWsXL-yVVFE5Che6J9L60A8NNH\n",
      "https://encrypted-tbn0.gstatic.com/images?q=tbn:ANd9GcQH4aNdrSUig8xmDOKI2m9kksw4LNv7cO_8CtL-4CR8wQBH6vXprg\n",
      "https://encrypted-tbn0.gstatic.com/images?q=tbn:ANd9GcT9NTAnEqmgvmDjNzgjvqLOTCNupdgiYJ82EYrTLGLQgqLG6aMn\n",
      "https://encrypted-tbn0.gstatic.com/images?q=tbn:ANd9GcQBwLzZ7GUKxYnOHoQShtf2BmVrzR1pytWJ4IJn0oWh4qAnh5an\n",
      "https://encrypted-tbn0.gstatic.com/images?q=tbn:ANd9GcRv_mY--G-tZvGY4VXvQtcO25HJ2-9geXz7GAg0uhkRRnafhhIYpg\n",
      "https://encrypted-tbn0.gstatic.com/images?q=tbn:ANd9GcRTW5JPC4Ab_Z9DIpCUfeAIgl82b3enqK5cFYknCQ8z6pthNQnr\n",
      "https://encrypted-tbn0.gstatic.com/images?q=tbn:ANd9GcSK6DGd0my5R9hedYMLNcnSb4_ND7xyk5dfivGFG7WZPxVLUw0Y\n",
      "https://encrypted-tbn0.gstatic.com/images?q=tbn:ANd9GcQ5Pjud5R9v9t9xev39QgUyhvitVWwm2lXrgBgFBIb7Wjq_4mXExw\n",
      "https://encrypted-tbn0.gstatic.com/images?q=tbn:ANd9GcTc6w-ia-1SvJVPfjxlNmPJr9gkY96vWuZM831ODDtn5p4-ORmIqg\n",
      "https://encrypted-tbn0.gstatic.com/images?q=tbn:ANd9GcQbi-n9cTbwZ_FDXXHP7s4KCl2AmEcI1V_gkaIwZuUO3FgLwXgx\n",
      "https://encrypted-tbn0.gstatic.com/images?q=tbn:ANd9GcTx8yB9QmC8qa-XcDCPaZ2f6MoAQSM22cl2SwPl_QZJqmKXOXWD2DaijH63\n",
      "https://encrypted-tbn0.gstatic.com/images?q=tbn:ANd9GcQGZiG7g6dfuOPyYlNJWVdSlJGFXAWMKAPqz3zJzRIGo-vRDQmG\n"
     ]
    },
    {
     "name": "stderr",
     "output_type": "stream",
     "text": [
      "100%|██████████| 80/80 [00:23<00:00,  3.41it/s]\n"
     ]
    }
   ],
   "source": [
    "# 샤갈\n",
    "\n",
    "url = 'https://www.google.co.kr/search?q=%EC%83%A4%EA%B0%88&source=lnms&tbm=isch&sa=X&ved=0ahUKEwjk7vOngancAhWY7WEKHVyZDPUQ_AUICigB&biw=1920&bih=960'\n",
    "headers = {\n",
    "    \"user-agent\" : \"Mozilla/5.0 (Macintosh; Intel Mac OS X 10_13_5) AppleWebKit/537.36 (KHTML, like Gecko) Chrome/67.0.3396.99 Safari/537.36\"\n",
    "}\n",
    "html = requests.get(url, headers = headers)\n",
    "dom = BeautifulSoup(html.text, 'html.parser')\n",
    "img_url_list = get_img_url(dom)\n",
    "\n",
    "chagall_list = []\n",
    "\n",
    "for url in tqdm(img_url_list) :\n",
    "    chagall_list.append(get_img_base64(url))"
   ]
  },
  {
   "cell_type": "markdown",
   "metadata": {},
   "source": [
    "## 모들리아니 이미지 크롤링"
   ]
  },
  {
   "cell_type": "code",
   "execution_count": 6,
   "metadata": {},
   "outputs": [
    {
     "name": "stderr",
     "output_type": "stream",
     "text": [
      "\r",
      "  0%|          | 0/80 [00:00<?, ?it/s]"
     ]
    },
    {
     "name": "stdout",
     "output_type": "stream",
     "text": [
      "https://encrypted-tbn0.gstatic.com/images?q=tbn:ANd9GcQHbcZNzqh3O8BOVo50zdrUKlI5d7pMZ_Qd8MdINIOB0mFqazIa\n",
      "https://encrypted-tbn0.gstatic.com/images?q=tbn:ANd9GcQs3y0icT5TRa6jUzQre9l_wIProoT7AltHn_37QPds3jxeckz3_w\n",
      "https://encrypted-tbn0.gstatic.com/images?q=tbn:ANd9GcSk96oyYyUye2z_2xsJpybneVLse9BUWUqAtEHiRofaiZ3kO-GT\n",
      "https://encrypted-tbn0.gstatic.com/images?q=tbn:ANd9GcQ41VvcYRYW9xKRPvQqCU1NYStkcJbjyEHwUvf0J8K8skGUluRuGA\n",
      "https://encrypted-tbn0.gstatic.com/images?q=tbn:ANd9GcQWWvRPvgoUn8Gn7d7PcqpAd3sn2ox0_kc8c4U2iLuSbnrRb5XZ\n",
      "https://encrypted-tbn0.gstatic.com/images?q=tbn:ANd9GcQJs5Hw1AkcU-fa6o-xHQi_1P1JdwwOS8DnlmzTFvNSQTMUWJvN\n",
      "https://encrypted-tbn0.gstatic.com/images?q=tbn:ANd9GcRlvR8F7Trb5R98O3-OBFsot-EuDkNxyTfjO2rFIdjEZ_KZoIFm\n",
      "https://encrypted-tbn0.gstatic.com/images?q=tbn:ANd9GcTdg_2kIffgtTG2s3aRcDI_zh-uUvW4xJw4ZgGhdaR7C3VWuSEo\n",
      "https://encrypted-tbn0.gstatic.com/images?q=tbn:ANd9GcTikKqcvGQv45X7k_PMMzQdK9I8dab2enleKyWgpoLYWS10Sgm0FQ\n",
      "https://encrypted-tbn0.gstatic.com/images?q=tbn:ANd9GcTyrX6TnCdrMjWH8AILVrn4zqSidtk0tVO7HZs1xTaOIDw7C2276Q\n",
      "https://encrypted-tbn0.gstatic.com/images?q=tbn:ANd9GcQTfEk4kqeGo0shN0r91mAZ_5GHPylqxdycs3Q0AKH25u2hmX3fPg\n",
      "https://encrypted-tbn0.gstatic.com/images?q=tbn:ANd9GcTrSHGmQLdwNy1YlXqM5VZKF1B4f3NE4ehfrZ0vZWymdQslR6EvcA\n",
      "https://encrypted-tbn0.gstatic.com/images?q=tbn:ANd9GcRu9j3sldirpTeYcTdR2QC-aklIdPcRB45Lmgap8ftKXU0tW2WInw\n",
      "https://encrypted-tbn0.gstatic.com/images?q=tbn:ANd9GcTtE_joru36oEdmknQ-jMri2W3xXWOUbl0uflvU8FYE9yD2_HD7gQ\n",
      "https://encrypted-tbn0.gstatic.com/images?q=tbn:ANd9GcQcLzVm3w1z0stF5R6uOWIBInHHKG29PjE_KJQP0wgF4qbM7zIXDA\n",
      "https://encrypted-tbn0.gstatic.com/images?q=tbn:ANd9GcQUV3_-JQ604-WWga96rpofpgKjHBYhl9qa6Ms2uOyx8JBSYnE\n",
      "https://encrypted-tbn0.gstatic.com/images?q=tbn:ANd9GcQc2DAfMrJUnpV9kiLdKBcLnYReeUm6PUQjxo2evVE4426_JUYt6g\n",
      "https://encrypted-tbn0.gstatic.com/images?q=tbn:ANd9GcT6mqKz5WqBFOAuUsbMsPKyveQcnLKVkAjz26McUDKxYbUK6ctG\n",
      "https://encrypted-tbn0.gstatic.com/images?q=tbn:ANd9GcRVcJGQOH-CjkkkkGT0LpjRgA80EYbWvkGuxYO3BsGe2F7jwDQ5Kg\n",
      "https://encrypted-tbn0.gstatic.com/images?q=tbn:ANd9GcTz0FUWdCVljFS0mQNVk71OO8lR-myHpYcT5cUS2TfWVA3gFX1w\n",
      "https://encrypted-tbn0.gstatic.com/images?q=tbn:ANd9GcSzNEDfejdlA-EsCSeZSNtVUFA3T9rYBqiKPeG0alQ-u9uOFU_S\n",
      "https://encrypted-tbn0.gstatic.com/images?q=tbn:ANd9GcT2-2V79BQCZ6WAu_TXabuQeyG_YQrMpQ2UrG8zxHr6irZOTsiS\n",
      "https://encrypted-tbn0.gstatic.com/images?q=tbn:ANd9GcRgoYX1RqO3A0dgPG6W3LPP4NpNq397Oz7JO0R9ZWRcP8vySB8P\n",
      "https://encrypted-tbn0.gstatic.com/images?q=tbn:ANd9GcQVxqd8bxcysfOs4UoJoRmznKVfnbDxUqVRv93pCA3625qDTLto\n",
      "https://encrypted-tbn0.gstatic.com/images?q=tbn:ANd9GcTCX-R3-VIzGsSgmznscCXVNlaRdyLIzjY_9I-Ttp7d5B-5mv7T\n",
      "https://encrypted-tbn0.gstatic.com/images?q=tbn:ANd9GcRrxrySQ-jyjv7rasJRKCEQPaEwVBaQWfV3KiemS8ZwScpqC3XB-A\n",
      "https://encrypted-tbn0.gstatic.com/images?q=tbn:ANd9GcQsg2D9cKRGjSxvkRxAhPcbrDO1BnHRU0KRnu5Dcq2MZi2Pw3u5\n",
      "https://encrypted-tbn0.gstatic.com/images?q=tbn:ANd9GcSI3uUX39KErcfWIwpKI1_cxKSVoRUoluCDeGhBDXyzBXwA7GV3eQ\n",
      "https://encrypted-tbn0.gstatic.com/images?q=tbn:ANd9GcQ7kWY8c4DjZ3TkSKoeoMEFOGfU1HjQvchvbCKWh_CmKIfP-DCmjA\n",
      "https://encrypted-tbn0.gstatic.com/images?q=tbn:ANd9GcSdsVN23C_RkBm0cTSVAW2IfrevRrqt6caZFMulfFc-RVH96LZd\n",
      "https://encrypted-tbn0.gstatic.com/images?q=tbn:ANd9GcQ71tzz6QY1m-A0djWQ_43XU3FZTw3oRcvllU1Gg2XN3yCh2gf6\n",
      "https://encrypted-tbn0.gstatic.com/images?q=tbn:ANd9GcScrH8OPINiwewBH_tOjVfTKxCketuNYyiKNV4wKk2uT35Cr4-i\n",
      "https://encrypted-tbn0.gstatic.com/images?q=tbn:ANd9GcSKWKuNzrUi9inGOUFtoVnwJYGeSZsN94ZWa1E0_0uCN_gsBBfd\n",
      "https://encrypted-tbn0.gstatic.com/images?q=tbn:ANd9GcS-XWy0S4FFsw4tpmWlI2fm7lX5GpnWGG7CFoVHQS4SqQnYw1Mx0Q\n",
      "https://encrypted-tbn0.gstatic.com/images?q=tbn:ANd9GcQNPZpGVCc6ooTgvk-fTaAzZBOPtXe9BUNLqWeMRLzqgGZ_cu1kXg\n",
      "https://encrypted-tbn0.gstatic.com/images?q=tbn:ANd9GcQ99mb9_Mvrt0LCkmSbdXTfddCPVkGhtsrdHpYRTJRbbLI8yfgq\n",
      "https://encrypted-tbn0.gstatic.com/images?q=tbn:ANd9GcSIBrYkLXY1XbfqvFkdlNvjvN6f331IWI8I4_7FtPfCxMFHafB-\n",
      "https://encrypted-tbn0.gstatic.com/images?q=tbn:ANd9GcRY-fdtljjKZkd56mR6Wk4U1cz9KYxbSX-onu3ii_F_QN7VlD5u\n",
      "https://encrypted-tbn0.gstatic.com/images?q=tbn:ANd9GcReoKoqCiFKSj6IsNTbcxEqMvHu6UDHK6GQkdfLuWkote3wvDkM\n",
      "https://encrypted-tbn0.gstatic.com/images?q=tbn:ANd9GcTWtnsN8cMn9GuPndBCM1TtDlmJLmIwziLVf-DS-WUtSxa3qBiR\n",
      "https://encrypted-tbn0.gstatic.com/images?q=tbn:ANd9GcQ9z0MmekCcVzBnk24u0bamFW2eAIJBbUXXEB7F53EdLogNIWJA\n",
      "https://encrypted-tbn0.gstatic.com/images?q=tbn:ANd9GcQPYidDHFqpaAtxqvwI1HY9n8aP_Lgytofi1TS5iMnWPAz1x7dfog\n",
      "https://encrypted-tbn0.gstatic.com/images?q=tbn:ANd9GcSRpGQxZLrskhfvjafTSZTosZlPuxAjMHgUrX5xVFgqssTiblcg\n",
      "https://encrypted-tbn0.gstatic.com/images?q=tbn:ANd9GcT8hopw9wUGwpQvZt24EeHt5dYQbljvPxvkDT8igj1HQaTZ8b3NuA\n",
      "https://encrypted-tbn0.gstatic.com/images?q=tbn:ANd9GcTU_DlkGlLqlcBrnX1u3m6IekQWhQ5AlDifFG2A5zUEIO45SzLCrA\n",
      "https://encrypted-tbn0.gstatic.com/images?q=tbn:ANd9GcS3YzFcBExD9v3AraDzck74vx2OsC-xbBQ21C7Lw2ZXEWpvhcDv\n",
      "https://encrypted-tbn0.gstatic.com/images?q=tbn:ANd9GcQuq-aQTRVjmHryWATuXDlBqzDo59MUhoCN5Fs927dGaZ3rlxK_sw\n",
      "https://encrypted-tbn0.gstatic.com/images?q=tbn:ANd9GcTHz92240bZhTj2zALvnmQD1Cl_VicrhsHlClpQNVltEP1DWSdQ\n",
      "https://encrypted-tbn0.gstatic.com/images?q=tbn:ANd9GcS9zAvKj_B06nIeJg7e-Ggr1_brt9EU0uTH0C0zbkSG0yyZ93aQaQ\n",
      "https://encrypted-tbn0.gstatic.com/images?q=tbn:ANd9GcTH5xqU--SCm7Pebc4o4pF8r6ukB90Ssj9TKsmT7UyqBYJWisOz\n",
      "https://encrypted-tbn0.gstatic.com/images?q=tbn:ANd9GcQpoU48YOwqjFJ2CSzOPdtIYvGRxLXLqdCaNcvKrCZHh7066_D0Zw\n",
      "https://encrypted-tbn0.gstatic.com/images?q=tbn:ANd9GcSZXy3Q-ictNaNaTH3vh9s93J5vqWquLfGHCrxtDLxeouJkhAwqYQ\n",
      "https://encrypted-tbn0.gstatic.com/images?q=tbn:ANd9GcRy3eaGmezQ68ri1Gi03ydrU5-jfEGhQrOcdQsRhYwb8uebwxMz\n",
      "https://encrypted-tbn0.gstatic.com/images?q=tbn:ANd9GcQrsFm5zWbHoDMGc7S1da-pdy_lPiUH6L0j2wAPeLth1CAXaD6V\n",
      "https://encrypted-tbn0.gstatic.com/images?q=tbn:ANd9GcSgbsmP3LxUJl8qinlqMLsxx4HHeeFs-OlRBN4VLNlQFcCwOWtHjg\n",
      "https://encrypted-tbn0.gstatic.com/images?q=tbn:ANd9GcRUxkVYK7TIin1c15dSFlvg2g0rp1XaEalzS8cBuS5ZGDFR04xv\n",
      "https://encrypted-tbn0.gstatic.com/images?q=tbn:ANd9GcTPgEetTX-hJE0BDGAOqQB7ontmp0GXiKmnIUGyBmS2xp55ttB4\n",
      "https://encrypted-tbn0.gstatic.com/images?q=tbn:ANd9GcTNtnjPiY5UXEv-vRiN6YEaE0nukCE9ans8zQksIWlgHe3nqh11sQ\n",
      "https://encrypted-tbn0.gstatic.com/images?q=tbn:ANd9GcS7zwU_Vl0i1LJtvJ4L99cJJeONLO_x2Ji0zOe2ZTgCgDeYF7exlw\n",
      "https://encrypted-tbn0.gstatic.com/images?q=tbn:ANd9GcT46Q1O-2qKRSd027TxSbFNPSeUKyZH1f-zNCHS5680Xy8sHA5o\n",
      "https://encrypted-tbn0.gstatic.com/images?q=tbn:ANd9GcSPYzjf_Nx8GRvFFAIwjoTnB92_76561tq91g_ng-BPq3zH-17tAg\n",
      "https://encrypted-tbn0.gstatic.com/images?q=tbn:ANd9GcT6UKa7tDXIAOAmdQRWzqmi7VpHKijinY5Bri3KUniPl0LSi40H\n",
      "https://encrypted-tbn0.gstatic.com/images?q=tbn:ANd9GcTaGR-fMQvKtz2gRH1jGH6LsXLlHLR_LWgGVkXd6b12inkUoVvU\n",
      "https://encrypted-tbn0.gstatic.com/images?q=tbn:ANd9GcSN-5fuMizmvNfW7XpniUKIuXw_p_IUB9EOZnw3vLplEo8bE8B7\n",
      "https://encrypted-tbn0.gstatic.com/images?q=tbn:ANd9GcSIwDtnx5fcFfxa1T8JFJ3rTjCoa9t-S_iFxRzsfU7S4qXV5b3Lmg\n",
      "https://encrypted-tbn0.gstatic.com/images?q=tbn:ANd9GcSUsPWiOJX6eOCgf22CM87qsvN-XRXd-rW8tysP1VDwzdjK9trD\n",
      "https://encrypted-tbn0.gstatic.com/images?q=tbn:ANd9GcSQQaTcGZEXpmx5-p-VjbqooCd2q8B3z9BA2KvWVygPUHWBu9W-\n",
      "https://encrypted-tbn0.gstatic.com/images?q=tbn:ANd9GcQtSBDK33fyGQBzHPZdkhaEi4nY2auMm0rwhCz8PREBSvskKB80Ug\n",
      "https://encrypted-tbn0.gstatic.com/images?q=tbn:ANd9GcTW4fqfzkchaHPvVMNnBGWaYJq-J_AFzFPXizcu0EGox9XequcoxQ\n",
      "https://encrypted-tbn0.gstatic.com/images?q=tbn:ANd9GcTM5VO8rB8I4-pzOeHLuZk2BiLgBAn2P-m4RhA4nmKYQ6Do2_wm\n",
      "https://encrypted-tbn0.gstatic.com/images?q=tbn:ANd9GcTVgMkChs96N3C6FexUvH29x5FTYY3Z0Aa1UdOkRzucfshpUD1a\n",
      "https://encrypted-tbn0.gstatic.com/images?q=tbn:ANd9GcQ5R1kkq-B6LAGJMbjfsDzxbOtTXqG9Otr-qs1kriL4I3r9FFfclg\n",
      "https://encrypted-tbn0.gstatic.com/images?q=tbn:ANd9GcR6YSfzWb7i1cWsyyVVZuzbJf8ewq0pWqFkhTThLHS_93gzutiOFQ\n",
      "https://encrypted-tbn0.gstatic.com/images?q=tbn:ANd9GcQXOFP9rHpznd7AhX_HCzrmF_1aIWyes4D_ufptx-qol3Div__y\n",
      "https://encrypted-tbn0.gstatic.com/images?q=tbn:ANd9GcSZ9cD_Ra5QmjWSMUsdK9pPb-k8Ha80SSUbSSRFyjDvQXxvAnxw-A\n",
      "https://encrypted-tbn0.gstatic.com/images?q=tbn:ANd9GcTQ5Sboo5XUZvHyYImV-3L46gozAGo3H4rOON2rrT58or56Y7o0\n",
      "https://encrypted-tbn0.gstatic.com/images?q=tbn:ANd9GcSY-hsIq_KDQG1vXfo8PR6fviwidyTguAnpAVZxxDUplqub8IOvQg\n",
      "https://encrypted-tbn0.gstatic.com/images?q=tbn:ANd9GcR8tXl2E7I0BQHLgGH-4uoKEUTeV-TnlexXdq7tqiuVSVU_o98jYA\n",
      "https://encrypted-tbn0.gstatic.com/images?q=tbn:ANd9GcSTmYlHT1UzrxQThD_yKGlkxzmRkmXnO8IkKaCg-dB54Onlh0Y_mQ\n",
      "https://encrypted-tbn0.gstatic.com/images?q=tbn:ANd9GcRdYHMMk-r41waI_KZ56wnvKpehyg-A_sWt9xKUXuYnfY6F0u5K\n"
     ]
    },
    {
     "name": "stderr",
     "output_type": "stream",
     "text": [
      "100%|██████████| 80/80 [00:25<00:00,  3.20it/s]\n"
     ]
    }
   ],
   "source": [
    "# 모들리아니\n",
    "\n",
    "url = 'https://www.google.co.kr/search?biw=1920&bih=960&tbm=isch&sa=1&ei=3WJPW9S3FtDp-QamkKGoDg&q=%EB%AA%A8%EB%93%A4%EB%A6%AC%EC%95%84%EB%8B%88&oq=%EB%AA%A8%EB%93%A4%EB%A6%AC%EC%95%84%EB%8B%88&gs_l=img.3...250543.251576.0.251725.11.11.0.0.0.0.157.972.3j5.8.0....0...1c.1j4.64.img..8.3.309...0.0.-93-_heYrd4'\n",
    "headers = {\n",
    "    \"user-agent\" : \"Mozilla/5.0 (Macintosh; Intel Mac OS X 10_13_5) AppleWebKit/537.36 (KHTML, like Gecko) Chrome/67.0.3396.99 Safari/537.36\"\n",
    "}\n",
    "html = requests.get(url, headers = headers)\n",
    "dom = BeautifulSoup(html.text, 'html.parser')\n",
    "img_url_list = get_img_url(dom)\n",
    "\n",
    "modigliani_list = []\n",
    "\n",
    "for url in tqdm(img_url_list) :\n",
    "    modigliani_list.append(get_img_base64(url))"
   ]
  },
  {
   "cell_type": "code",
   "execution_count": 7,
   "metadata": {},
   "outputs": [
    {
     "name": "stdout",
     "output_type": "stream",
     "text": [
      "80\n",
      "80\n",
      "80\n"
     ]
    }
   ],
   "source": [
    "print(len(renoir_list))\n",
    "print(len(chagall_list))\n",
    "print(len(modigliani_list))"
   ]
  },
  {
   "cell_type": "markdown",
   "metadata": {},
   "source": [
    "## 몽고 DB에 데이터 삽입"
   ]
  },
  {
   "cell_type": "code",
   "execution_count": 8,
   "metadata": {},
   "outputs": [],
   "source": [
    "from pymongo import MongoClient"
   ]
  },
  {
   "cell_type": "code",
   "execution_count": 9,
   "metadata": {},
   "outputs": [],
   "source": [
    "client = MongoClient('localhost') # 127.0.0.1"
   ]
  },
  {
   "cell_type": "code",
   "execution_count": 10,
   "metadata": {},
   "outputs": [
    {
     "data": {
      "text/plain": [
       "{'allocator': 'system',\n",
       " 'bits': 64,\n",
       " 'buildEnvironment': {'cc': 'gcc: Apple LLVM version 8.1.0 (clang-802.0.42)',\n",
       "  'ccflags': '-mmacosx-version-min=10.10 -fno-omit-frame-pointer -fno-strict-aliasing -ggdb -pthread -Wall -Wsign-compare -Wno-unknown-pragmas -Winvalid-pch -Werror -O2 -Wno-unused-local-typedefs -Wno-unused-function -Wno-unused-private-field -Wno-deprecated-declarations -Wno-tautological-constant-out-of-range-compare -Wno-unused-const-variable -Wno-missing-braces -Wno-inconsistent-missing-override -Wno-potentially-evaluated-expression -Wno-exceptions -fstack-protector-strong -fno-builtin-memcmp',\n",
       "  'cxx': 'g++: Apple LLVM version 8.1.0 (clang-802.0.42)',\n",
       "  'cxxflags': '-Woverloaded-virtual -Werror=unused-result -Wpessimizing-move -Wredundant-move -Wno-undefined-var-template -stdlib=libc++ -std=c++14',\n",
       "  'distarch': 'x86_64',\n",
       "  'distmod': '',\n",
       "  'linkflags': '-mmacosx-version-min=10.10 -Wl,-bind_at_load -Wl,-fatal_warnings -fstack-protector-strong -stdlib=libc++',\n",
       "  'target_arch': 'x86_64',\n",
       "  'target_os': 'macOS'},\n",
       " 'debug': False,\n",
       " 'gitVersion': '3b07af3d4f471ae89e8186d33bbb1d5259597d51',\n",
       " 'javascriptEngine': 'mozjs',\n",
       " 'maxBsonObjectSize': 16777216,\n",
       " 'modules': [],\n",
       " 'ok': 1.0,\n",
       " 'openssl': {'running': 'Apple Secure Transport'},\n",
       " 'storageEngines': ['devnull', 'ephemeralForTest', 'mmapv1', 'wiredTiger'],\n",
       " 'sysInfo': 'deprecated',\n",
       " 'version': '4.0.0',\n",
       " 'versionArray': [4, 0, 0, 0]}"
      ]
     },
     "execution_count": 10,
     "metadata": {},
     "output_type": "execute_result"
    }
   ],
   "source": [
    "client.server_info()"
   ]
  },
  {
   "cell_type": "code",
   "execution_count": 11,
   "metadata": {},
   "outputs": [
    {
     "data": {
      "text/plain": [
       "['admin', 'config', 'local']"
      ]
     },
     "execution_count": 11,
     "metadata": {},
     "output_type": "execute_result"
    }
   ],
   "source": [
    "client.list_database_names()"
   ]
  },
  {
   "cell_type": "code",
   "execution_count": 12,
   "metadata": {},
   "outputs": [
    {
     "data": {
      "text/plain": [
       "Database(MongoClient(host=['localhost:27017'], document_class=dict, tz_aware=False, connect=True), 'homework')"
      ]
     },
     "execution_count": 12,
     "metadata": {},
     "output_type": "execute_result"
    }
   ],
   "source": [
    "homework = client.get_database('homework')\n",
    "homework"
   ]
  },
  {
   "cell_type": "code",
   "execution_count": 14,
   "metadata": {},
   "outputs": [
    {
     "data": {
      "text/plain": [
       "Collection(Database(MongoClient(host=['localhost:27017'], document_class=dict, tz_aware=False, connect=True), 'homework'), 'art')"
      ]
     },
     "execution_count": 14,
     "metadata": {},
     "output_type": "execute_result"
    }
   ],
   "source": [
    "art = homework.get_collection('art')\n",
    "art"
   ]
  },
  {
   "cell_type": "code",
   "execution_count": 15,
   "metadata": {},
   "outputs": [],
   "source": [
    "renoir_data = {'name' : 'renoir',\n",
    "          'img_data' : renoir_list}\n",
    "\n",
    "chagall_data = {'name' : 'chagall',\n",
    "          'img_data' : chagall_list}\n",
    "\n",
    "modigliani_data = {'name' : 'modigliani',\n",
    "          'img_data' : modigliani_list}"
   ]
  },
  {
   "cell_type": "code",
   "execution_count": 17,
   "metadata": {},
   "outputs": [
    {
     "data": {
      "text/plain": [
       "<pymongo.results.InsertOneResult at 0x10a514948>"
      ]
     },
     "execution_count": 17,
     "metadata": {},
     "output_type": "execute_result"
    }
   ],
   "source": [
    "art.insert_one(renoir_data)\n",
    "art.insert_one(chagall_data)\n",
    "art.insert_one(modigliani_data)"
   ]
  }
 ],
 "metadata": {
  "kernelspec": {
   "display_name": "Python 3",
   "language": "python",
   "name": "python3"
  },
  "language_info": {
   "codemirror_mode": {
    "name": "ipython",
    "version": 3
   },
   "file_extension": ".py",
   "mimetype": "text/x-python",
   "name": "python",
   "nbconvert_exporter": "python",
   "pygments_lexer": "ipython3",
   "version": "3.6.4"
  }
 },
 "nbformat": 4,
 "nbformat_minor": 2
}
