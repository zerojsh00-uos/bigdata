{
 "cells": [
  {
   "cell_type": "markdown",
   "metadata": {},
   "source": [
    "# 2일차 수업 과제"
   ]
  },
  {
   "cell_type": "markdown",
   "metadata": {},
   "source": [
    "## Exercise 105 : Reverse Order"
   ]
  },
  {
   "cell_type": "code",
   "execution_count": 1,
   "metadata": {},
   "outputs": [
    {
     "name": "stdout",
     "output_type": "stream",
     "text": [
      "숫자 입력 (0 입력시 반복 종료) :1\n",
      "숫자 입력 (0 입력시 반복 종료) :2\n",
      "숫자 입력 (0 입력시 반복 종료) :3\n",
      "숫자 입력 (0 입력시 반복 종료) :4\n",
      "숫자 입력 (0 입력시 반복 종료) :5\n",
      "숫자 입력 (0 입력시 반복 종료) :0\n",
      "\n",
      "거꾸로 출력 시작 !!\n",
      "5\n",
      "4\n",
      "3\n",
      "2\n",
      "1\n"
     ]
    }
   ],
   "source": [
    "my_list = []\n",
    "\n",
    "while(True) :\n",
    "    tmp_num = input('숫자 입력 (0 입력시 반복 종료) :')\n",
    "    if tmp_num == '0' :\n",
    "        break\n",
    "    my_list.append(tmp_num)\n",
    "\n",
    "my_list.reverse()\n",
    "print()\n",
    "print('거꾸로 출력 시작 !!')\n",
    "for num in my_list :\n",
    "    print(num)"
   ]
  },
  {
   "cell_type": "markdown",
   "metadata": {},
   "source": [
    "## Exercise 107 : Avoiding Duplicates"
   ]
  },
  {
   "cell_type": "code",
   "execution_count": 2,
   "metadata": {},
   "outputs": [
    {
     "name": "stdout",
     "output_type": "stream",
     "text": [
      "단어 입력 (반복종료는 빈칸 입력) : first\n",
      "단어 입력 (반복종료는 빈칸 입력) : second\n",
      "단어 입력 (반복종료는 빈칸 입력) : first\n",
      "단어 입력 (반복종료는 빈칸 입력) : third\n",
      "단어 입력 (반복종료는 빈칸 입력) : second\n",
      "단어 입력 (반복종료는 빈칸 입력) :  \n",
      "\n",
      "출력 시작\n",
      "first\n",
      "second\n",
      "third\n"
     ]
    }
   ],
   "source": [
    "word_list = []\n",
    "\n",
    "while(True) :\n",
    "    tmp_word = input('단어 입력 (반복종료는 빈칸 입력) : ')\n",
    "    if tmp_word == ' ' :\n",
    "        break\n",
    "    if tmp_word not in word_list :\n",
    "        word_list.append(tmp_word)\n",
    "\n",
    "print()\n",
    "print('출력 시작')\n",
    "for word in word_list :\n",
    "    print(word)"
   ]
  },
  {
   "cell_type": "markdown",
   "metadata": {},
   "source": [
    "## Exercise 108 : Negatives, Zeros and Positives"
   ]
  },
  {
   "cell_type": "code",
   "execution_count": 3,
   "metadata": {},
   "outputs": [
    {
     "name": "stdout",
     "output_type": "stream",
     "text": [
      "숫자 입력 (반복 종료는 빈칸): 3\n",
      "숫자 입력 (반복 종료는 빈칸): -4\n",
      "숫자 입력 (반복 종료는 빈칸): 1\n",
      "숫자 입력 (반복 종료는 빈칸): 0\n",
      "숫자 입력 (반복 종료는 빈칸): -1\n",
      "숫자 입력 (반복 종료는 빈칸): 0\n",
      "숫자 입력 (반복 종료는 빈칸): -2\n",
      "숫자 입력 (반복 종료는 빈칸):  \n",
      "\n",
      "결과 출력\n",
      "-4\n",
      "-1\n",
      "-2\n",
      "0\n",
      "0\n",
      "3\n",
      "1\n"
     ]
    }
   ],
   "source": [
    "num_list = []\n",
    "nega_list = []\n",
    "zero_list = []\n",
    "posi_list = []\n",
    "\n",
    "while(True) :\n",
    "    tmp_num = input('숫자 입력 (반복 종료는 빈칸): ')\n",
    "    if tmp_num == \" \" :\n",
    "        break\n",
    "    if int(tmp_num) < 0 :\n",
    "        nega_list.append(int(tmp_num))\n",
    "    elif int(tmp_num) == 0 :\n",
    "        zero_list.append(int(tmp_num))\n",
    "    elif int(tmp_num) > 0 :\n",
    "        posi_list.append(int(tmp_num))\n",
    "\n",
    "num_list.append(nega_list)\n",
    "num_list.append(zero_list)\n",
    "num_list.append(posi_list)\n",
    "\n",
    "print()\n",
    "print('결과 출력')\n",
    "for i in num_list :\n",
    "    for j in i :\n",
    "        print(j)"
   ]
  },
  {
   "cell_type": "markdown",
   "metadata": {},
   "source": [
    "## Exercise 110 : Perfect Numbers"
   ]
  },
  {
   "cell_type": "code",
   "execution_count": 4,
   "metadata": {},
   "outputs": [
    {
     "name": "stdout",
     "output_type": "stream",
     "text": [
      "Perfect Numbers => 6  28  496  8128  "
     ]
    }
   ],
   "source": [
    "def is_perfect(n) :\n",
    "    tmp = [] # store devisors\n",
    "    for i in range(1,n) :\n",
    "        if n%i == 0 :\n",
    "            tmp.append(i)\n",
    "    else :\n",
    "        result = sum(tmp)\n",
    "    \n",
    "    if result == n :\n",
    "        return True\n",
    "    else :\n",
    "        return False\n",
    "\n",
    "# main\n",
    "print('Perfect Numbers =>', end = ' ')\n",
    "for num in range(1,10001) :\n",
    "    if is_perfect(num) :\n",
    "        print(num, end=\"  \")\n"
   ]
  },
  {
   "cell_type": "markdown",
   "metadata": {},
   "source": [
    "## Exercise 113 : Formatting a List"
   ]
  },
  {
   "cell_type": "code",
   "execution_count": 5,
   "metadata": {},
   "outputs": [
    {
     "name": "stdout",
     "output_type": "stream",
     "text": [
      "단어 입력 (반복종료는 \"exit\" 입력): apples\n",
      "단어 입력 (반복종료는 \"exit\" 입력): oranges\n",
      "단어 입력 (반복종료는 \"exit\" 입력): bananas\n",
      "단어 입력 (반복종료는 \"exit\" 입력): lemons\n",
      "단어 입력 (반복종료는 \"exit\" 입력): exit\n",
      "\n",
      "apples, oranges, bananas and lemons\n"
     ]
    }
   ],
   "source": [
    "# make a list\n",
    "my_list = []\n",
    "while(True) :\n",
    "    tmp = input('단어 입력 (반복종료는 \"exit\" 입력): ')\n",
    "    if tmp == 'exit' :\n",
    "        break\n",
    "    my_list.append(tmp)\n",
    "\n",
    "# define a function\n",
    "def format_func(l) :\n",
    "    text = str()\n",
    "    for i in range(len(l)) :\n",
    "        text += l[i]\n",
    "        \n",
    "        if len(l) == 1 :\n",
    "            pass\n",
    "        elif i == len(l) -2:\n",
    "            text += ' and '\n",
    "        else :\n",
    "            if i == len(l) -1 :\n",
    "                pass\n",
    "            else :\n",
    "                text += ', '\n",
    "        \n",
    "    return text\n",
    "\n",
    "# main\n",
    "print()\n",
    "print(format_func(my_list))"
   ]
  },
  {
   "cell_type": "markdown",
   "metadata": {},
   "source": [
    "## Exercise 114 : Random Lottery Numbers"
   ]
  },
  {
   "cell_type": "code",
   "execution_count": 6,
   "metadata": {},
   "outputs": [
    {
     "name": "stdout",
     "output_type": "stream",
     "text": [
      "Lottery Tickets >>> 3 8 34 36 38 42 "
     ]
    }
   ],
   "source": [
    "import random\n",
    "\n",
    "num_list = list(range(1,50))\n",
    "random.shuffle(num_list)\n",
    "\n",
    "selected = []\n",
    "for i in range(6) :\n",
    "    selected.append(num_list.pop())\n",
    "\n",
    "selected.sort()      \n",
    "print('Lottery Tickets', end=\" >>> \")\n",
    "for each in selected :\n",
    "    print(each, end=' ')"
   ]
  },
  {
   "cell_type": "markdown",
   "metadata": {},
   "source": [
    "## Exercise 134 : Unique Characters"
   ]
  },
  {
   "cell_type": "code",
   "execution_count": 7,
   "metadata": {},
   "outputs": [
    {
     "name": "stdout",
     "output_type": "stream",
     "text": [
      "Input any stringHello, World!\n",
      ">>> \"Hello, World!\" has 10 unique characters\n"
     ]
    }
   ],
   "source": [
    "c_count = set()\n",
    "\n",
    "text = input('Input any string')\n",
    "\n",
    "for c in text :\n",
    "    c_count.add(c)\n",
    "\n",
    "print('>>> \"{}\" has {} unique characters'.format(text,len(c_count)))"
   ]
  },
  {
   "cell_type": "markdown",
   "metadata": {},
   "source": [
    "## Exercise 135 : Anagrams"
   ]
  },
  {
   "cell_type": "code",
   "execution_count": 8,
   "metadata": {},
   "outputs": [
    {
     "name": "stdout",
     "output_type": "stream",
     "text": [
      "Input first string : evil\n",
      "Input second string : live\n",
      "결과 >>> They are anagrams\n"
     ]
    }
   ],
   "source": [
    "def is_ana(dict1, dict2) :\n",
    "    if dict1 == dict2 :\n",
    "        return True\n",
    "    else :\n",
    "        return False\n",
    "\n",
    "def word_count(word) :\n",
    "    count_word = {}\n",
    "    for c in word :\n",
    "        if c not in count_word :\n",
    "            count_word[c] = 1\n",
    "        else :\n",
    "            count_word[c] += 1\n",
    "    return count_word\n",
    "\n",
    "# main\n",
    "\n",
    "first_string = input('Input first string : ')\n",
    "second_string = input('Input second string : ')\n",
    "\n",
    "first = word_count(first_string)\n",
    "second = word_count(second_string)\n",
    "\n",
    "if is_ana(first, second) :\n",
    "    print(\"결과 >>> They are anagrams\")\n",
    "else :\n",
    "    print(\"결과 >>> They are NOT anagrams\")"
   ]
  },
  {
   "cell_type": "code",
   "execution_count": null,
   "metadata": {},
   "outputs": [],
   "source": []
  }
 ],
 "metadata": {
  "kernelspec": {
   "display_name": "Python 3",
   "language": "python",
   "name": "python3"
  },
  "language_info": {
   "codemirror_mode": {
    "name": "ipython",
    "version": 3
   },
   "file_extension": ".py",
   "mimetype": "text/x-python",
   "name": "python",
   "nbconvert_exporter": "python",
   "pygments_lexer": "ipython3",
   "version": "3.6.4"
  }
 },
 "nbformat": 4,
 "nbformat_minor": 2
}
