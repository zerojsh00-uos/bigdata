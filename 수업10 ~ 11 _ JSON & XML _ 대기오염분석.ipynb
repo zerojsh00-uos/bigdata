{
 "cells": [
  {
   "cell_type": "markdown",
   "metadata": {},
   "source": [
    "## JSON"
   ]
  },
  {
   "cell_type": "code",
   "execution_count": 1,
   "metadata": {},
   "outputs": [],
   "source": [
    "import json"
   ]
  },
  {
   "cell_type": "code",
   "execution_count": 3,
   "metadata": {},
   "outputs": [
    {
     "data": {
      "text/plain": [
       "tuple"
      ]
     },
     "execution_count": 3,
     "metadata": {},
     "output_type": "execute_result"
    }
   ],
   "source": [
    "name = (\"KIM\", \"LEE\", \"JEONG\")\n",
    "type(name)"
   ]
  },
  {
   "cell_type": "code",
   "execution_count": 4,
   "metadata": {},
   "outputs": [
    {
     "data": {
      "text/plain": [
       "list"
      ]
     },
     "execution_count": 4,
     "metadata": {},
     "output_type": "execute_result"
    }
   ],
   "source": [
    "age = [28, 32, 25]\n",
    "type(age)"
   ]
  },
  {
   "cell_type": "code",
   "execution_count": 5,
   "metadata": {},
   "outputs": [
    {
     "data": {
      "text/plain": [
       "dict"
      ]
     },
     "execution_count": 5,
     "metadata": {},
     "output_type": "execute_result"
    }
   ],
   "source": [
    "person = {\"name\" : \"KIM\", \"age\" : 28, \"car\" : False}\n",
    "type(person)"
   ]
  },
  {
   "cell_type": "code",
   "execution_count": 6,
   "metadata": {},
   "outputs": [
    {
     "data": {
      "text/plain": [
       "'[\"KIM\", \"LEE\", \"JEONG\"]'"
      ]
     },
     "execution_count": 6,
     "metadata": {},
     "output_type": "execute_result"
    }
   ],
   "source": [
    "nameStr = json.dumps(name)\n",
    "nameStr"
   ]
  },
  {
   "cell_type": "code",
   "execution_count": 7,
   "metadata": {},
   "outputs": [
    {
     "data": {
      "text/plain": [
       "str"
      ]
     },
     "execution_count": 7,
     "metadata": {},
     "output_type": "execute_result"
    }
   ],
   "source": [
    "type(nameStr)"
   ]
  },
  {
   "cell_type": "markdown",
   "metadata": {},
   "source": [
    "튜플 형태였던 name이 json을 거치고 나니 문자열 형태로 반환되었다."
   ]
  },
  {
   "cell_type": "code",
   "execution_count": 8,
   "metadata": {},
   "outputs": [
    {
     "data": {
      "text/plain": [
       "'{\\n    \"name\": \"KIM\",\\n    \"age\": 28,\\n    \"car\": false\\n}'"
      ]
     },
     "execution_count": 8,
     "metadata": {},
     "output_type": "execute_result"
    }
   ],
   "source": [
    "personStr = json.dumps(person, indent=\"    \")\n",
    "personStr"
   ]
  },
  {
   "cell_type": "code",
   "execution_count": 9,
   "metadata": {},
   "outputs": [
    {
     "name": "stdout",
     "output_type": "stream",
     "text": [
      "{\n",
      "    \"name\": \"KIM\",\n",
      "    \"age\": 28,\n",
      "    \"car\": false\n",
      "}\n"
     ]
    }
   ],
   "source": [
    "print(personStr)"
   ]
  },
  {
   "cell_type": "code",
   "execution_count": 10,
   "metadata": {},
   "outputs": [
    {
     "data": {
      "text/plain": [
       "str"
      ]
     },
     "execution_count": 10,
     "metadata": {},
     "output_type": "execute_result"
    }
   ],
   "source": [
    "type(personStr) # 딕셔너리같이 생겼지만 str타입이다."
   ]
  },
  {
   "cell_type": "code",
   "execution_count": 11,
   "metadata": {},
   "outputs": [],
   "source": [
    "korean = (\"김\", \"이\", \"박\", \"최\", \"정\")\n",
    "koreanStr = json.dumps(korean)"
   ]
  },
  {
   "cell_type": "code",
   "execution_count": 12,
   "metadata": {},
   "outputs": [
    {
     "name": "stdout",
     "output_type": "stream",
     "text": [
      "[\"\\uae40\", \"\\uc774\", \"\\ubc15\", \"\\ucd5c\", \"\\uc815\"]\n"
     ]
    }
   ],
   "source": [
    "print(koreanStr)"
   ]
  },
  {
   "cell_type": "markdown",
   "metadata": {},
   "source": [
    "위와 같이 한글의 경우 코드로 변환되어 나타난다. 보낼 때는 위와 같이 바이트 타입으로 보내주어야 한다. 사람이 읽을 때는 아스키코드 안 쓰고 유니코드로 해석해야 하므로 아래와 같이 옵션을 주어야 한다."
   ]
  },
  {
   "cell_type": "code",
   "execution_count": 13,
   "metadata": {},
   "outputs": [
    {
     "name": "stdout",
     "output_type": "stream",
     "text": [
      "[\"김\", \"이\", \"박\", \"최\", \"정\"]\n"
     ]
    }
   ],
   "source": [
    "koreanStr = json.dumps(korean, ensure_ascii=False)\n",
    "print(koreanStr)"
   ]
  },
  {
   "cell_type": "code",
   "execution_count": 14,
   "metadata": {},
   "outputs": [
    {
     "data": {
      "text/plain": [
       "dict"
      ]
     },
     "execution_count": 14,
     "metadata": {},
     "output_type": "execute_result"
    }
   ],
   "source": [
    "personObj = json.loads(personStr)\n",
    "type(personObj)"
   ]
  },
  {
   "cell_type": "code",
   "execution_count": 15,
   "metadata": {},
   "outputs": [
    {
     "data": {
      "text/plain": [
       "{'age': 28, 'car': False, 'name': 'KIM'}"
      ]
     },
     "execution_count": 15,
     "metadata": {},
     "output_type": "execute_result"
    }
   ],
   "source": [
    "personObj"
   ]
  },
  {
   "cell_type": "markdown",
   "metadata": {},
   "source": [
    "str 객체를 json을 이용하여 파이썬의 dict 객체로 불러올 수 있다."
   ]
  },
  {
   "cell_type": "code",
   "execution_count": 22,
   "metadata": {},
   "outputs": [
    {
     "data": {
      "text/plain": [
       "{'age': 28, 'car': ['레이', '모닝'], 'name': 'KIM'}"
      ]
     },
     "execution_count": 22,
     "metadata": {},
     "output_type": "execute_result"
    }
   ],
   "source": [
    "personObj['car'] = [\"레이\",\"모닝\"]\n",
    "personObj"
   ]
  },
  {
   "cell_type": "code",
   "execution_count": 27,
   "metadata": {},
   "outputs": [],
   "source": [
    "# 파일에 쓰기\n",
    "with open(\"test.json\",\"w\") as fp :\n",
    "    json.dump(personObj, fp) # 파일에 쓸 때는 s 안 붙는 거로 !"
   ]
  },
  {
   "cell_type": "code",
   "execution_count": 28,
   "metadata": {},
   "outputs": [
    {
     "data": {
      "text/plain": [
       "{'age': 28, 'car': ['레이', '모닝'], 'name': 'KIM'}"
      ]
     },
     "execution_count": 28,
     "metadata": {},
     "output_type": "execute_result"
    }
   ],
   "source": [
    "# 저장한 파일 읽어오기\n",
    "with open(\"test.json\",\"r\") as fp :\n",
    "    loadObj = json.load(fp)\n",
    "loadObj"
   ]
  },
  {
   "cell_type": "code",
   "execution_count": 29,
   "metadata": {},
   "outputs": [
    {
     "data": {
      "text/plain": [
       "True"
      ]
     },
     "execution_count": 29,
     "metadata": {},
     "output_type": "execute_result"
    }
   ],
   "source": [
    "personObj == loadObj"
   ]
  },
  {
   "cell_type": "markdown",
   "metadata": {},
   "source": [
    "json은 서로 주고받기 위한 문서 형태이다."
   ]
  },
  {
   "cell_type": "code",
   "execution_count": 30,
   "metadata": {},
   "outputs": [],
   "source": [
    "import urllib.request "
   ]
  },
  {
   "cell_type": "markdown",
   "metadata": {},
   "source": [
    "https://jsonplaceholder.typicode.com/posts/1 은 json으로 되어있는데, 이것을 parsing해보자"
   ]
  },
  {
   "cell_type": "code",
   "execution_count": 35,
   "metadata": {},
   "outputs": [],
   "source": [
    "resp = urllib.request.urlopen(\"https://jsonplaceholder.typicode.com/posts/1\")"
   ]
  },
  {
   "cell_type": "code",
   "execution_count": 36,
   "metadata": {},
   "outputs": [],
   "source": [
    "text = resp.read()"
   ]
  },
  {
   "cell_type": "code",
   "execution_count": 38,
   "metadata": {},
   "outputs": [
    {
     "data": {
      "text/plain": [
       "bytes"
      ]
     },
     "execution_count": 38,
     "metadata": {},
     "output_type": "execute_result"
    }
   ],
   "source": [
    "type(text) # 바이트"
   ]
  },
  {
   "cell_type": "code",
   "execution_count": 41,
   "metadata": {},
   "outputs": [],
   "source": [
    "textStr = text.decode(\"utf-8\") # 바이트 타입인 텍스트를 utf-8로 디코딩"
   ]
  },
  {
   "cell_type": "code",
   "execution_count": 43,
   "metadata": {},
   "outputs": [
    {
     "data": {
      "text/plain": [
       "str"
      ]
     },
     "execution_count": 43,
     "metadata": {},
     "output_type": "execute_result"
    }
   ],
   "source": [
    "type(textStr)"
   ]
  },
  {
   "cell_type": "code",
   "execution_count": 44,
   "metadata": {},
   "outputs": [
    {
     "data": {
      "text/plain": [
       "dict"
      ]
     },
     "execution_count": 44,
     "metadata": {},
     "output_type": "execute_result"
    }
   ],
   "source": [
    "respObj = json.loads(textStr) # Dict 타입으로 변환\n",
    "type(respObj)"
   ]
  },
  {
   "cell_type": "code",
   "execution_count": 45,
   "metadata": {},
   "outputs": [
    {
     "data": {
      "text/plain": [
       "{'body': 'quia et suscipit\\nsuscipit recusandae consequuntur expedita et cum\\nreprehenderit molestiae ut ut quas totam\\nnostrum rerum est autem sunt rem eveniet architecto',\n",
       " 'id': 1,\n",
       " 'title': 'sunt aut facere repellat provident occaecati excepturi optio reprehenderit',\n",
       " 'userId': 1}"
      ]
     },
     "execution_count": 45,
     "metadata": {},
     "output_type": "execute_result"
    }
   ],
   "source": [
    "respObj"
   ]
  },
  {
   "cell_type": "code",
   "execution_count": 46,
   "metadata": {},
   "outputs": [
    {
     "data": {
      "text/plain": [
       "'sunt aut facere repellat provident occaecati excepturi optio reprehenderit'"
      ]
     },
     "execution_count": 46,
     "metadata": {},
     "output_type": "execute_result"
    }
   ],
   "source": [
    "respObj['title']"
   ]
  },
  {
   "cell_type": "code",
   "execution_count": 54,
   "metadata": {},
   "outputs": [
    {
     "name": "stdout",
     "output_type": "stream",
     "text": [
      "Key >>>  userId\n",
      "Value >>> 1\n",
      "<class 'int'>\n",
      "\n",
      "Key >>>  id\n",
      "Value >>> 1\n",
      "<class 'int'>\n",
      "\n",
      "Key >>>  title\n",
      "Value >>> sunt aut facere repellat provident occaecati excepturi optio reprehenderit\n",
      "<class 'str'>\n",
      "\n",
      "Key >>>  body\n",
      "Value >>> quia et suscipit\n",
      "suscipit recusandae consequuntur expedita et cum\n",
      "reprehenderit molestiae ut ut quas totam\n",
      "nostrum rerum est autem sunt rem eveniet architecto\n",
      "<class 'str'>\n",
      "\n"
     ]
    }
   ],
   "source": [
    "for k, v in respObj.items() :\n",
    "    print(\"Key >>> \",k)\n",
    "    print(\"Value >>>\", v)\n",
    "    print(type(v))\n",
    "    print()"
   ]
  },
  {
   "cell_type": "markdown",
   "metadata": {},
   "source": [
    "---"
   ]
  },
  {
   "cell_type": "markdown",
   "metadata": {},
   "source": [
    "## 대기오염 정보조회 서비스"
   ]
  },
  {
   "cell_type": "markdown",
   "metadata": {},
   "source": [
    "[원하는 데이터를 미리보기 하여 얻은 XML 데이터의 URl을 가지고 나의 인증키를 넣은 후 JSON 타입으로 바꾸어준다.]"
   ]
  },
  {
   "cell_type": "code",
   "execution_count": null,
   "metadata": {},
   "outputs": [],
   "source": [
    "http://openapi.airkorea.or.kr/openapi/services/rest/ArpltnInforInqireSvc/getCtprvnRltmMesureDnsty?\n",
    "serviceKey=  *[인증 받은 서비스키]*  \n",
    "&numOfRows=10\n",
    "&pageSize=10\n",
    "&pageNo=1\n",
    "&startPage=1\n",
    "&sidoName=%EC%9D%B8%EC%B2%9C\n",
    "&ver=1.3 \n",
    "[여기 url 끝에 json으로 변환하기 위해서 요거를 넣어준다. =>  &_returnType=json  ]"
   ]
  },
  {
   "cell_type": "markdown",
   "metadata": {},
   "source": [
    "http://openapi.airkorea.or.kr/openapi/services/rest/ArpltnInforInqireSvc/getCtprvnRltmMesureDnsty?serviceKey=ckzCRkQ0HOEcHoV%2BZ5N0fDqDm6Jyp4oTXIZdL5NduqXd%2BbEs%2BZOvsAgOmvuR2YgF5uNI88ARNfA726SEAAAHKA%3D%3D&numOfRows=10&pageSize=10&pageNo=1&startPage=1&sidoName=%EC%9D%B8%EC%B2%9C&ver=1.3&_returnType=json"
   ]
  },
  {
   "cell_type": "markdown",
   "metadata": {},
   "source": [
    "공식 문서의 명세에 따라 파라미터를 다음과 같이 설정"
   ]
  },
  {
   "cell_type": "code",
   "execution_count": 163,
   "metadata": {
    "scrolled": true
   },
   "outputs": [
    {
     "data": {
      "text/plain": [
       "{'_returnType': 'json',\n",
       " 'pageNo': 1,\n",
       " 'serviceKey': 'ckzCRkQ0HOEcHoV%2BZ5N0fDqDm6Jyp4oTXIZdL5NduqXd%2BbEs%2BZOvsAgOmvuR2YgF5uNI88ARNfA726SEAAAHKA%3D%3D',\n",
       " 'sidoName': None,\n",
       " 'startPage': 1,\n",
       " 'ver': 1.3}"
      ]
     },
     "execution_count": 163,
     "metadata": {},
     "output_type": "execute_result"
    }
   ],
   "source": [
    "params = {\n",
    "    \"serviceKey\" : \"ckzCRkQ0HOEcHoV%2BZ5N0fDqDm6Jyp4oTXIZdL5NduqXd%2BbEs%2BZOvsAgOmvuR2YgF5uNI88ARNfA726SEAAAHKA%3D%3D\",\n",
    "    \"pageNo\" : 1,\n",
    "    \"startPage\" : 1,\n",
    "    \"sidoName\" : None,\n",
    "    \"ver\" : 1.3,\n",
    "    \"_returnType\" : \"json\"\n",
    "}\n",
    "\n",
    "params"
   ]
  },
  {
   "cell_type": "code",
   "execution_count": 164,
   "metadata": {},
   "outputs": [],
   "source": [
    "params[\"sidoName\"] = \"서울\" # 시도 이름 (공식문서) >>> (서울, 부산, 대구, 인천, 광주, 대전, 울산, 경기, 강원, 충북, 충남, 전북, 전남, 경북, 경남, 제주, 세종)"
   ]
  },
  {
   "cell_type": "code",
   "execution_count": 165,
   "metadata": {
    "scrolled": true
   },
   "outputs": [
    {
     "data": {
      "text/plain": [
       "{'_returnType': 'json',\n",
       " 'pageNo': 1,\n",
       " 'serviceKey': 'ckzCRkQ0HOEcHoV%2BZ5N0fDqDm6Jyp4oTXIZdL5NduqXd%2BbEs%2BZOvsAgOmvuR2YgF5uNI88ARNfA726SEAAAHKA%3D%3D',\n",
       " 'sidoName': '서울',\n",
       " 'startPage': 1,\n",
       " 'ver': 1.3}"
      ]
     },
     "execution_count": 165,
     "metadata": {},
     "output_type": "execute_result"
    }
   ],
   "source": [
    "params"
   ]
  },
  {
   "cell_type": "code",
   "execution_count": 166,
   "metadata": {},
   "outputs": [],
   "source": [
    "# ? 뒤에 이어지는 파라미터만 뗀 것을 url로 설정\n",
    "url = \"http://openapi.airkorea.or.kr/openapi/services/rest/ArpltnInforInqireSvc/getCtprvnRltmMesureDnsty\""
   ]
  },
  {
   "cell_type": "code",
   "execution_count": 167,
   "metadata": {},
   "outputs": [],
   "source": [
    "from urllib import parse"
   ]
  },
  {
   "cell_type": "code",
   "execution_count": 168,
   "metadata": {},
   "outputs": [
    {
     "data": {
      "text/plain": [
       "'serviceKey=ckzCRkQ0HOEcHoV%252BZ5N0fDqDm6Jyp4oTXIZdL5NduqXd%252BbEs%252BZOvsAgOmvuR2YgF5uNI88ARNfA726SEAAAHKA%253D%253D&pageNo=1&startPage=1&sidoName=%EC%84%9C%EC%9A%B8&ver=1.3&_returnType=json'"
      ]
     },
     "execution_count": 168,
     "metadata": {},
     "output_type": "execute_result"
    }
   ],
   "source": [
    "paramURL = parse.urlencode(params)\n",
    "paramURL"
   ]
  },
  {
   "cell_type": "markdown",
   "metadata": {},
   "source": [
    "paramURL은 str타입인데, 인터넷으로 주고받을 때는 항상 아래처럼 바이트타입으로 바꾸어주어야 한다. 그런데 바이트타입으로 바꾸면 서비스키의 값이 달라진다. 뒤에서 에러가 날건데 일단 진행해보자."
   ]
  },
  {
   "cell_type": "code",
   "execution_count": 169,
   "metadata": {},
   "outputs": [
    {
     "data": {
      "text/plain": [
       "bytes"
      ]
     },
     "execution_count": 169,
     "metadata": {},
     "output_type": "execute_result"
    }
   ],
   "source": [
    "paramBytes = paramURL.encode(\"utf-8\")\n",
    "type(paramBytes)"
   ]
  },
  {
   "cell_type": "code",
   "execution_count": 170,
   "metadata": {},
   "outputs": [
    {
     "name": "stdout",
     "output_type": "stream",
     "text": [
      "b'serviceKey=ckzCRkQ0HOEcHoV%252BZ5N0fDqDm6Jyp4oTXIZdL5NduqXd%252BbEs%252BZOvsAgOmvuR2YgF5uNI88ARNfA726SEAAAHKA%253D%253D&pageNo=1&startPage=1&sidoName=%EC%84%9C%EC%9A%B8&ver=1.3&_returnType=json'\n"
     ]
    }
   ],
   "source": [
    "print(paramBytes)"
   ]
  },
  {
   "cell_type": "code",
   "execution_count": 171,
   "metadata": {},
   "outputs": [],
   "source": [
    "req = urllib.request.Request(url, data = paramBytes)\n",
    "res = urllib.request.urlopen(req)\n",
    "result = res.read()"
   ]
  },
  {
   "cell_type": "code",
   "execution_count": 172,
   "metadata": {},
   "outputs": [
    {
     "data": {
      "text/plain": [
       "b'<?xml version=\"1.0\" encoding=\"UTF-8\"?>\\r\\n\\r\\n\\r\\n\\r\\n\\r\\n<response>\\r\\n\\t<header>\\r\\n\\t\\t<resultCode>30</resultCode>\\r\\n\\t\\t<resultMsg>SERVICE KEY IS NOT REGISTERED ERROR.</resultMsg>\\r\\n\\t</header>\\r\\n</response>\\r\\n'"
      ]
     },
     "execution_count": 172,
     "metadata": {},
     "output_type": "execute_result"
    }
   ],
   "source": [
    "result # 당연히 에러가 발생할 수밖에 없다. \"SERVICE KEY IS NOT REGISTERED ERROR.\""
   ]
  },
  {
   "cell_type": "markdown",
   "metadata": {},
   "source": [
    "에러가 난 이유 => service key 있는 부분을 보면, 바이트단위로 바꾸었다. 그런데 우리가 받은 키는 이미 바이트이므로 바이트를 바이트로 바꾼 꼴이다. 따라서 서비스키 오류의 대안은 바이트로 바꾸지 않거나, 바이트를 바꾼 것을 스트링으로 역변환하거나 둘 중 하나를 써야한다.(?) 바이트를 스트링으로 변환 한 후 다시 바이트로 바꾸는 방법으로 해보자."
   ]
  },
  {
   "cell_type": "code",
   "execution_count": 173,
   "metadata": {},
   "outputs": [
    {
     "data": {
      "text/plain": [
       "'ckzCRkQ0HOEcHoV%2BZ5N0fDqDm6Jyp4oTXIZdL5NduqXd%2BbEs%2BZOvsAgOmvuR2YgF5uNI88ARNfA726SEAAAHKA%3D%3D'"
      ]
     },
     "execution_count": 173,
     "metadata": {},
     "output_type": "execute_result"
    }
   ],
   "source": [
    "params[\"serviceKey\"]"
   ]
  },
  {
   "cell_type": "code",
   "execution_count": 174,
   "metadata": {
    "scrolled": false
   },
   "outputs": [
    {
     "data": {
      "text/plain": [
       "'ckzCRkQ0HOEcHoV+Z5N0fDqDm6Jyp4oTXIZdL5NduqXd+bEs+ZOvsAgOmvuR2YgF5uNI88ARNfA726SEAAAHKA=='"
      ]
     },
     "execution_count": 174,
     "metadata": {},
     "output_type": "execute_result"
    }
   ],
   "source": [
    "params[\"serviceKey\"] = urllib.parse.unquote(params[\"serviceKey\"]) # 바이트를 스트링으로 변환해주는 함수\n",
    "params[\"serviceKey\"]"
   ]
  },
  {
   "cell_type": "code",
   "execution_count": 175,
   "metadata": {},
   "outputs": [],
   "source": [
    "paramURL = parse.urlencode(params)\n",
    "paramBytes = paramURL.encode(\"utf-8\")\n",
    "\n",
    "req = urllib.request.Request(url, data = paramBytes)\n",
    "res = urllib.request.urlopen(req)\n",
    "result = res.read()"
   ]
  },
  {
   "cell_type": "code",
   "execution_count": 176,
   "metadata": {},
   "outputs": [
    {
     "data": {
      "text/plain": [
       "str"
      ]
     },
     "execution_count": 176,
     "metadata": {},
     "output_type": "execute_result"
    }
   ],
   "source": [
    "resultStr = result.decode(\"utf-8\")\n",
    "type(resultStr)"
   ]
  },
  {
   "cell_type": "code",
   "execution_count": 177,
   "metadata": {
    "scrolled": true
   },
   "outputs": [
    {
     "data": {
      "text/plain": [
       "'{\"list\":[{\"_returnType\":\"json\",\"coGrade\":\"1\",\"coValue\":\"0.3\",\"dataTerm\":\"\",\"dataTime\":\"2018-07-13 15:00\",\"khaiGrade\":\"1\",\"khaiValue\":\"43\",\"mangName\":\"도시대기\",\"no2Grade\":\"1\",\"no2Value\":\"0.015\",\"numOfRows\":\"10\",\"o3Grade\":\"1\",\"o3Value\":\"0.024\",\"pageNo\":\"1\",\"pm10Grade\":\"1\",\"pm10Grade1h\":\"1\",\"pm10Value\":\"17\",\"pm10Value24\":\"21\",\"pm25Grade\":\"1\",\"pm25Grade1h\":\"1\",\"pm25Value\":\"10\",\"pm25Value24\":\"13\",\"resultCode\":\"\",\"resultMsg\":\"\",\"rnum\":0,\"serviceKey\":\"\",\"sidoName\":\"\",\"so2Grade\":\"1\",\"so2Value\":\"0.003\",\"stationCode\":\"\",\"stationName\":\"중구\",\"totalCount\":\"\",\"ver\":\"\"},{\"_returnType\":\"json\",\"coGrade\":\"1\",\"coValue\":\"0.5\",\"dataTerm\":\"\",\"dataTime\":\"2018-07-13 15:00\",\"khaiGrade\":\"2\",\"khaiValue\":\"53\",\"mangName\":\"도로변대기\",\"no2Grade\":\"1\",\"no2Value\":\"0.027\",\"numOfRows\":\"10\",\"o3Grade\":\"1\",\"o3Value\":\"0.019\",\"pageNo\":\"1\",\"pm10Grade\":\"2\",\"pm10Grade1h\":\"1\",\"pm10Value\":\"28\",\"pm10Value24\":\"33\",\"pm25Grade\":\"1\",\"pm25Grade1h\":\"1\",\"pm25Value\":\"8\",\"pm25Value24\":\"14\",\"resultCode\":\"\",\"resultMsg\":\"\",\"rnum\":0,\"serviceKey\":\"\",\"sidoName\":\"\",\"so2Grade\":\"1\",\"so2Value\":\"0.005\",\"stationCode\":\"\",\"stationName\":\"한강대로\",\"totalCount\":\"\",\"ver\":\"\"},{\"_returnType\":\"json\",\"coGrade\":\"1\",\"coValue\":\"0.3\",\"dataTerm\":\"\",\"dataTime\":\"2018-07-13 15:00\",\"khaiGrade\":\"2\",\"khaiValue\":\"51\",\"mangName\":\"도시대기\",\"no2Grade\":\"1\",\"no2Value\":\"0.019\",\"numOfRows\":\"10\",\"o3Grade\":\"1\",\"o3Value\":\"0.020\",\"pageNo\":\"1\",\"pm10Grade\":\"1\",\"pm10Grade1h\":\"1\",\"pm10Value\":\"17\",\"pm10Value24\":\"20\",\"pm25Grade\":\"2\",\"pm25Grade1h\":\"1\",\"pm25Value\":\"14\",\"pm25Value24\":\"16\",\"resultCode\":\"\",\"resultMsg\":\"\",\"rnum\":0,\"serviceKey\":\"\",\"sidoName\":\"\",\"so2Grade\":\"\",\"so2Value\":\"-\",\"stationCode\":\"\",\"stationName\":\"종로구\",\"totalCount\":\"\",\"ver\":\"\"},{\"_returnType\":\"json\",\"coGrade\":\"1\",\"coValue\":\"0.5\",\"dataTerm\":\"\",\"dataTime\":\"2018-07-13 15:00\",\"khaiGrade\":\"2\",\"khaiValue\":\"59\",\"mangName\":\"도로변대기\",\"no2Grade\":\"1\",\"no2Value\":\"0.028\",\"numOfRows\":\"10\",\"o3Grade\":\"1\",\"o3Value\":\"0.020\",\"pageNo\":\"1\",\"pm10Grade\":\"1\",\"pm10Grade1h\":\"1\",\"pm10Value\":\"20\",\"pm10Value24\":\"25\",\"pm25Grade\":\"2\",\"pm25Grade1h\":\"2\",\"pm25Value\":\"17\",\"pm25Value24\":\"19\",\"resultCode\":\"\",\"resultMsg\":\"\",\"rnum\":0,\"serviceKey\":\"\",\"sidoName\":\"\",\"so2Grade\":\"1\",\"so2Value\":\"0.005\",\"stationCode\":\"\",\"stationName\":\"청계천로\",\"totalCount\":\"\",\"ver\":\"\"},{\"_returnType\":\"json\",\"coGrade\":\"1\",\"coValue\":\"0.3\",\"dataTerm\":\"\",\"dataTime\":\"2018-07-13 15:00\",\"khaiGrade\":\"1\",\"khaiValue\":\"43\",\"mangName\":\"도로변대기\",\"no2Grade\":\"1\",\"no2Value\":\"0.020\",\"numOfRows\":\"10\",\"o3Grade\":\"1\",\"o3Value\":\"0.019\",\"pageNo\":\"1\",\"pm10Grade\":\"1\",\"pm10Grade1h\":\"1\",\"pm10Value\":\"13\",\"pm10Value24\":\"21\",\"pm25Grade\":\"1\",\"pm25Grade1h\":\"1\",\"pm25Value\":\"11\",\"pm25Value24\":\"13\",\"resultCode\":\"\",\"resultMsg\":\"\",\"rnum\":0,\"serviceKey\":\"\",\"sidoName\":\"\",\"so2Grade\":\"1\",\"so2Value\":\"0.003\",\"stationCode\":\"\",\"stationName\":\"종로\",\"totalCount\":\"\",\"ver\":\"\"},{\"_returnType\":\"json\",\"coGrade\":\"1\",\"coValue\":\"0.2\",\"dataTerm\":\"\",\"dataTime\":\"2018-07-13 15:00\",\"khaiGrade\":\"1\",\"khaiValue\":\"42\",\"mangName\":\"도시대기\",\"no2Grade\":\"1\",\"no2Value\":\"0.017\",\"numOfRows\":\"10\",\"o3Grade\":\"1\",\"o3Value\":\"0.025\",\"pageNo\":\"1\",\"pm10Grade\":\"1\",\"pm10Grade1h\":\"\",\"pm10Value\":\"-\",\"pm10Value24\":\"18\",\"pm25Grade\":\"1\",\"pm25Grade1h\":\"1\",\"pm25Value\":\"12\",\"pm25Value24\":\"12\",\"resultCode\":\"\",\"resultMsg\":\"\",\"rnum\":0,\"serviceKey\":\"\",\"sidoName\":\"\",\"so2Grade\":\"1\",\"so2Value\":\"0.003\",\"stationCode\":\"\",\"stationName\":\"용산구\",\"totalCount\":\"\",\"ver\":\"\"},{\"_returnType\":\"json\",\"coGrade\":\"1\",\"coValue\":\"0.5\",\"dataTerm\":\"\",\"dataTime\":\"2018-07-13 15:00\",\"khaiGrade\":\"1\",\"khaiValue\":\"43\",\"mangName\":\"도시대기\",\"no2Grade\":\"1\",\"no2Value\":\"0.010\",\"numOfRows\":\"10\",\"o3Grade\":\"1\",\"o3Value\":\"0.026\",\"pageNo\":\"1\",\"pm10Grade\":\"1\",\"pm10Grade1h\":\"1\",\"pm10Value\":\"16\",\"pm10Value24\":\"20\",\"pm25Grade\":\"1\",\"pm25Grade1h\":\"1\",\"pm25Value\":\"5\",\"pm25Value24\":\"13\",\"resultCode\":\"\",\"resultMsg\":\"\",\"rnum\":0,\"serviceKey\":\"\",\"sidoName\":\"\",\"so2Grade\":\"1\",\"so2Value\":\"0.006\",\"stationCode\":\"\",\"stationName\":\"광진구\",\"totalCount\":\"\",\"ver\":\"\"},{\"_returnType\":\"json\",\"coGrade\":\"1\",\"coValue\":\"0.3\",\"dataTerm\":\"\",\"dataTime\":\"2018-07-13 15:00\",\"khaiGrade\":\"1\",\"khaiValue\":\"40\",\"mangName\":\"도시대기\",\"no2Grade\":\"1\",\"no2Value\":\"0.011\",\"numOfRows\":\"10\",\"o3Grade\":\"1\",\"o3Value\":\"0.016\",\"pageNo\":\"1\",\"pm10Grade\":\"1\",\"pm10Grade1h\":\"1\",\"pm10Value\":\"19\",\"pm10Value24\":\"20\",\"pm25Grade\":\"1\",\"pm25Grade1h\":\"1\",\"pm25Value\":\"7\",\"pm25Value24\":\"12\",\"resultCode\":\"\",\"resultMsg\":\"\",\"rnum\":0,\"serviceKey\":\"\",\"sidoName\":\"\",\"so2Grade\":\"1\",\"so2Value\":\"0.005\",\"stationCode\":\"\",\"stationName\":\"성동구\",\"totalCount\":\"\",\"ver\":\"\"},{\"_returnType\":\"json\",\"coGrade\":\"1\",\"coValue\":\"0.4\",\"dataTerm\":\"\",\"dataTime\":\"2018-07-13 15:00\",\"khaiGrade\":\"2\",\"khaiValue\":\"98\",\"mangName\":\"도로변대기\",\"no2Grade\":\"2\",\"no2Value\":\"0.059\",\"numOfRows\":\"10\",\"o3Grade\":\"1\",\"o3Value\":\"0.011\",\"pageNo\":\"1\",\"pm10Grade\":\"1\",\"pm10Grade1h\":\"1\",\"pm10Value\":\"17\",\"pm10Value24\":\"22\",\"pm25Grade\":\"1\",\"pm25Grade1h\":\"1\",\"pm25Value\":\"11\",\"pm25Value24\":\"12\",\"resultCode\":\"\",\"resultMsg\":\"\",\"rnum\":0,\"serviceKey\":\"\",\"sidoName\":\"\",\"so2Grade\":\"1\",\"so2Value\":\"0.003\",\"stationCode\":\"\",\"stationName\":\"강변북로\",\"totalCount\":\"\",\"ver\":\"\"},{\"_returnType\":\"json\",\"coGrade\":\"1\",\"coValue\":\"0.3\",\"dataTerm\":\"\",\"dataTime\":\"2018-07-13 15:00\",\"khaiGrade\":\"1\",\"khaiValue\":\"37\",\"mangName\":\"도시대기\",\"no2Grade\":\"1\",\"no2Value\":\"0.014\",\"numOfRows\":\"10\",\"o3Grade\":\"1\",\"o3Value\":\"0.021\",\"pageNo\":\"1\",\"pm10Grade\":\"1\",\"pm10Grade1h\":\"1\",\"pm10Value\":\"12\",\"pm10Value24\":\"14\",\"pm25Grade\":\"1\",\"pm25Grade1h\":\"1\",\"pm25Value\":\"9\",\"pm25Value24\":\"11\",\"resultCode\":\"\",\"resultMsg\":\"\",\"rnum\":0,\"serviceKey\":\"\",\"sidoName\":\"\",\"so2Grade\":\"1\",\"so2Value\":\"0.006\",\"stationCode\":\"\",\"stationName\":\"중랑구\",\"totalCount\":\"\",\"ver\":\"\"}],\"parm\":{\"_returnType\":\"json\",\"coGrade\":\"\",\"coValue\":\"\",\"dataTerm\":\"\",\"dataTime\":\"\",\"khaiGrade\":\"\",\"khaiValue\":\"\",\"mangName\":\"\",\"no2Grade\":\"\",\"no2Value\":\"\",\"numOfRows\":\"10\",\"o3Grade\":\"\",\"o3Value\":\"\",\"pageNo\":\"1\",\"pm10Grade\":\"\",\"pm10Grade1h\":\"\",\"pm10Value\":\"\",\"pm10Value24\":\"\",\"pm25Grade\":\"\",\"pm25Grade1h\":\"\",\"pm25Value\":\"\",\"pm25Value24\":\"\",\"resultCode\":\"\",\"resultMsg\":\"\",\"rnum\":0,\"serviceKey\":\"ckzCRkQ0HOEcHoV+Z5N0fDqDm6Jyp4oTXIZdL5NduqXd+bEs+ZOvsAgOmvuR2YgF5uNI88ARNfA726SEAAAHKA==\",\"sidoName\":\"서울\",\"so2Grade\":\"\",\"so2Value\":\"\",\"stationCode\":\"\",\"stationName\":\"\",\"totalCount\":\"\",\"ver\":\"1.3\"},\"ArpltnInforInqireSvcVo\":{\"_returnType\":\"json\",\"coGrade\":\"\",\"coValue\":\"\",\"dataTerm\":\"\",\"dataTime\":\"\",\"khaiGrade\":\"\",\"khaiValue\":\"\",\"mangName\":\"\",\"no2Grade\":\"\",\"no2Value\":\"\",\"numOfRows\":\"10\",\"o3Grade\":\"\",\"o3Value\":\"\",\"pageNo\":\"1\",\"pm10Grade\":\"\",\"pm10Grade1h\":\"\",\"pm10Value\":\"\",\"pm10Value24\":\"\",\"pm25Grade\":\"\",\"pm25Grade1h\":\"\",\"pm25Value\":\"\",\"pm25Value24\":\"\",\"resultCode\":\"\",\"resultMsg\":\"\",\"rnum\":0,\"serviceKey\":\"ckzCRkQ0HOEcHoV+Z5N0fDqDm6Jyp4oTXIZdL5NduqXd+bEs+ZOvsAgOmvuR2YgF5uNI88ARNfA726SEAAAHKA==\",\"sidoName\":\"서울\",\"so2Grade\":\"\",\"so2Value\":\"\",\"stationCode\":\"\",\"stationName\":\"\",\"totalCount\":\"\",\"ver\":\"1.3\"},\"totalCount\":39}'"
      ]
     },
     "execution_count": 177,
     "metadata": {},
     "output_type": "execute_result"
    }
   ],
   "source": [
    "resultStr"
   ]
  },
  {
   "cell_type": "code",
   "execution_count": 178,
   "metadata": {},
   "outputs": [
    {
     "data": {
      "text/plain": [
       "{'ArpltnInforInqireSvcVo': {'_returnType': 'json',\n",
       "  'coGrade': '',\n",
       "  'coValue': '',\n",
       "  'dataTerm': '',\n",
       "  'dataTime': '',\n",
       "  'khaiGrade': '',\n",
       "  'khaiValue': '',\n",
       "  'mangName': '',\n",
       "  'no2Grade': '',\n",
       "  'no2Value': '',\n",
       "  'numOfRows': '10',\n",
       "  'o3Grade': '',\n",
       "  'o3Value': '',\n",
       "  'pageNo': '1',\n",
       "  'pm10Grade': '',\n",
       "  'pm10Grade1h': '',\n",
       "  'pm10Value': '',\n",
       "  'pm10Value24': '',\n",
       "  'pm25Grade': '',\n",
       "  'pm25Grade1h': '',\n",
       "  'pm25Value': '',\n",
       "  'pm25Value24': '',\n",
       "  'resultCode': '',\n",
       "  'resultMsg': '',\n",
       "  'rnum': 0,\n",
       "  'serviceKey': 'ckzCRkQ0HOEcHoV+Z5N0fDqDm6Jyp4oTXIZdL5NduqXd+bEs+ZOvsAgOmvuR2YgF5uNI88ARNfA726SEAAAHKA==',\n",
       "  'sidoName': '서울',\n",
       "  'so2Grade': '',\n",
       "  'so2Value': '',\n",
       "  'stationCode': '',\n",
       "  'stationName': '',\n",
       "  'totalCount': '',\n",
       "  'ver': '1.3'},\n",
       " 'list': [{'_returnType': 'json',\n",
       "   'coGrade': '1',\n",
       "   'coValue': '0.3',\n",
       "   'dataTerm': '',\n",
       "   'dataTime': '2018-07-13 15:00',\n",
       "   'khaiGrade': '1',\n",
       "   'khaiValue': '43',\n",
       "   'mangName': '도시대기',\n",
       "   'no2Grade': '1',\n",
       "   'no2Value': '0.015',\n",
       "   'numOfRows': '10',\n",
       "   'o3Grade': '1',\n",
       "   'o3Value': '0.024',\n",
       "   'pageNo': '1',\n",
       "   'pm10Grade': '1',\n",
       "   'pm10Grade1h': '1',\n",
       "   'pm10Value': '17',\n",
       "   'pm10Value24': '21',\n",
       "   'pm25Grade': '1',\n",
       "   'pm25Grade1h': '1',\n",
       "   'pm25Value': '10',\n",
       "   'pm25Value24': '13',\n",
       "   'resultCode': '',\n",
       "   'resultMsg': '',\n",
       "   'rnum': 0,\n",
       "   'serviceKey': '',\n",
       "   'sidoName': '',\n",
       "   'so2Grade': '1',\n",
       "   'so2Value': '0.003',\n",
       "   'stationCode': '',\n",
       "   'stationName': '중구',\n",
       "   'totalCount': '',\n",
       "   'ver': ''},\n",
       "  {'_returnType': 'json',\n",
       "   'coGrade': '1',\n",
       "   'coValue': '0.5',\n",
       "   'dataTerm': '',\n",
       "   'dataTime': '2018-07-13 15:00',\n",
       "   'khaiGrade': '2',\n",
       "   'khaiValue': '53',\n",
       "   'mangName': '도로변대기',\n",
       "   'no2Grade': '1',\n",
       "   'no2Value': '0.027',\n",
       "   'numOfRows': '10',\n",
       "   'o3Grade': '1',\n",
       "   'o3Value': '0.019',\n",
       "   'pageNo': '1',\n",
       "   'pm10Grade': '2',\n",
       "   'pm10Grade1h': '1',\n",
       "   'pm10Value': '28',\n",
       "   'pm10Value24': '33',\n",
       "   'pm25Grade': '1',\n",
       "   'pm25Grade1h': '1',\n",
       "   'pm25Value': '8',\n",
       "   'pm25Value24': '14',\n",
       "   'resultCode': '',\n",
       "   'resultMsg': '',\n",
       "   'rnum': 0,\n",
       "   'serviceKey': '',\n",
       "   'sidoName': '',\n",
       "   'so2Grade': '1',\n",
       "   'so2Value': '0.005',\n",
       "   'stationCode': '',\n",
       "   'stationName': '한강대로',\n",
       "   'totalCount': '',\n",
       "   'ver': ''},\n",
       "  {'_returnType': 'json',\n",
       "   'coGrade': '1',\n",
       "   'coValue': '0.3',\n",
       "   'dataTerm': '',\n",
       "   'dataTime': '2018-07-13 15:00',\n",
       "   'khaiGrade': '2',\n",
       "   'khaiValue': '51',\n",
       "   'mangName': '도시대기',\n",
       "   'no2Grade': '1',\n",
       "   'no2Value': '0.019',\n",
       "   'numOfRows': '10',\n",
       "   'o3Grade': '1',\n",
       "   'o3Value': '0.020',\n",
       "   'pageNo': '1',\n",
       "   'pm10Grade': '1',\n",
       "   'pm10Grade1h': '1',\n",
       "   'pm10Value': '17',\n",
       "   'pm10Value24': '20',\n",
       "   'pm25Grade': '2',\n",
       "   'pm25Grade1h': '1',\n",
       "   'pm25Value': '14',\n",
       "   'pm25Value24': '16',\n",
       "   'resultCode': '',\n",
       "   'resultMsg': '',\n",
       "   'rnum': 0,\n",
       "   'serviceKey': '',\n",
       "   'sidoName': '',\n",
       "   'so2Grade': '',\n",
       "   'so2Value': '-',\n",
       "   'stationCode': '',\n",
       "   'stationName': '종로구',\n",
       "   'totalCount': '',\n",
       "   'ver': ''},\n",
       "  {'_returnType': 'json',\n",
       "   'coGrade': '1',\n",
       "   'coValue': '0.5',\n",
       "   'dataTerm': '',\n",
       "   'dataTime': '2018-07-13 15:00',\n",
       "   'khaiGrade': '2',\n",
       "   'khaiValue': '59',\n",
       "   'mangName': '도로변대기',\n",
       "   'no2Grade': '1',\n",
       "   'no2Value': '0.028',\n",
       "   'numOfRows': '10',\n",
       "   'o3Grade': '1',\n",
       "   'o3Value': '0.020',\n",
       "   'pageNo': '1',\n",
       "   'pm10Grade': '1',\n",
       "   'pm10Grade1h': '1',\n",
       "   'pm10Value': '20',\n",
       "   'pm10Value24': '25',\n",
       "   'pm25Grade': '2',\n",
       "   'pm25Grade1h': '2',\n",
       "   'pm25Value': '17',\n",
       "   'pm25Value24': '19',\n",
       "   'resultCode': '',\n",
       "   'resultMsg': '',\n",
       "   'rnum': 0,\n",
       "   'serviceKey': '',\n",
       "   'sidoName': '',\n",
       "   'so2Grade': '1',\n",
       "   'so2Value': '0.005',\n",
       "   'stationCode': '',\n",
       "   'stationName': '청계천로',\n",
       "   'totalCount': '',\n",
       "   'ver': ''},\n",
       "  {'_returnType': 'json',\n",
       "   'coGrade': '1',\n",
       "   'coValue': '0.3',\n",
       "   'dataTerm': '',\n",
       "   'dataTime': '2018-07-13 15:00',\n",
       "   'khaiGrade': '1',\n",
       "   'khaiValue': '43',\n",
       "   'mangName': '도로변대기',\n",
       "   'no2Grade': '1',\n",
       "   'no2Value': '0.020',\n",
       "   'numOfRows': '10',\n",
       "   'o3Grade': '1',\n",
       "   'o3Value': '0.019',\n",
       "   'pageNo': '1',\n",
       "   'pm10Grade': '1',\n",
       "   'pm10Grade1h': '1',\n",
       "   'pm10Value': '13',\n",
       "   'pm10Value24': '21',\n",
       "   'pm25Grade': '1',\n",
       "   'pm25Grade1h': '1',\n",
       "   'pm25Value': '11',\n",
       "   'pm25Value24': '13',\n",
       "   'resultCode': '',\n",
       "   'resultMsg': '',\n",
       "   'rnum': 0,\n",
       "   'serviceKey': '',\n",
       "   'sidoName': '',\n",
       "   'so2Grade': '1',\n",
       "   'so2Value': '0.003',\n",
       "   'stationCode': '',\n",
       "   'stationName': '종로',\n",
       "   'totalCount': '',\n",
       "   'ver': ''},\n",
       "  {'_returnType': 'json',\n",
       "   'coGrade': '1',\n",
       "   'coValue': '0.2',\n",
       "   'dataTerm': '',\n",
       "   'dataTime': '2018-07-13 15:00',\n",
       "   'khaiGrade': '1',\n",
       "   'khaiValue': '42',\n",
       "   'mangName': '도시대기',\n",
       "   'no2Grade': '1',\n",
       "   'no2Value': '0.017',\n",
       "   'numOfRows': '10',\n",
       "   'o3Grade': '1',\n",
       "   'o3Value': '0.025',\n",
       "   'pageNo': '1',\n",
       "   'pm10Grade': '1',\n",
       "   'pm10Grade1h': '',\n",
       "   'pm10Value': '-',\n",
       "   'pm10Value24': '18',\n",
       "   'pm25Grade': '1',\n",
       "   'pm25Grade1h': '1',\n",
       "   'pm25Value': '12',\n",
       "   'pm25Value24': '12',\n",
       "   'resultCode': '',\n",
       "   'resultMsg': '',\n",
       "   'rnum': 0,\n",
       "   'serviceKey': '',\n",
       "   'sidoName': '',\n",
       "   'so2Grade': '1',\n",
       "   'so2Value': '0.003',\n",
       "   'stationCode': '',\n",
       "   'stationName': '용산구',\n",
       "   'totalCount': '',\n",
       "   'ver': ''},\n",
       "  {'_returnType': 'json',\n",
       "   'coGrade': '1',\n",
       "   'coValue': '0.5',\n",
       "   'dataTerm': '',\n",
       "   'dataTime': '2018-07-13 15:00',\n",
       "   'khaiGrade': '1',\n",
       "   'khaiValue': '43',\n",
       "   'mangName': '도시대기',\n",
       "   'no2Grade': '1',\n",
       "   'no2Value': '0.010',\n",
       "   'numOfRows': '10',\n",
       "   'o3Grade': '1',\n",
       "   'o3Value': '0.026',\n",
       "   'pageNo': '1',\n",
       "   'pm10Grade': '1',\n",
       "   'pm10Grade1h': '1',\n",
       "   'pm10Value': '16',\n",
       "   'pm10Value24': '20',\n",
       "   'pm25Grade': '1',\n",
       "   'pm25Grade1h': '1',\n",
       "   'pm25Value': '5',\n",
       "   'pm25Value24': '13',\n",
       "   'resultCode': '',\n",
       "   'resultMsg': '',\n",
       "   'rnum': 0,\n",
       "   'serviceKey': '',\n",
       "   'sidoName': '',\n",
       "   'so2Grade': '1',\n",
       "   'so2Value': '0.006',\n",
       "   'stationCode': '',\n",
       "   'stationName': '광진구',\n",
       "   'totalCount': '',\n",
       "   'ver': ''},\n",
       "  {'_returnType': 'json',\n",
       "   'coGrade': '1',\n",
       "   'coValue': '0.3',\n",
       "   'dataTerm': '',\n",
       "   'dataTime': '2018-07-13 15:00',\n",
       "   'khaiGrade': '1',\n",
       "   'khaiValue': '40',\n",
       "   'mangName': '도시대기',\n",
       "   'no2Grade': '1',\n",
       "   'no2Value': '0.011',\n",
       "   'numOfRows': '10',\n",
       "   'o3Grade': '1',\n",
       "   'o3Value': '0.016',\n",
       "   'pageNo': '1',\n",
       "   'pm10Grade': '1',\n",
       "   'pm10Grade1h': '1',\n",
       "   'pm10Value': '19',\n",
       "   'pm10Value24': '20',\n",
       "   'pm25Grade': '1',\n",
       "   'pm25Grade1h': '1',\n",
       "   'pm25Value': '7',\n",
       "   'pm25Value24': '12',\n",
       "   'resultCode': '',\n",
       "   'resultMsg': '',\n",
       "   'rnum': 0,\n",
       "   'serviceKey': '',\n",
       "   'sidoName': '',\n",
       "   'so2Grade': '1',\n",
       "   'so2Value': '0.005',\n",
       "   'stationCode': '',\n",
       "   'stationName': '성동구',\n",
       "   'totalCount': '',\n",
       "   'ver': ''},\n",
       "  {'_returnType': 'json',\n",
       "   'coGrade': '1',\n",
       "   'coValue': '0.4',\n",
       "   'dataTerm': '',\n",
       "   'dataTime': '2018-07-13 15:00',\n",
       "   'khaiGrade': '2',\n",
       "   'khaiValue': '98',\n",
       "   'mangName': '도로변대기',\n",
       "   'no2Grade': '2',\n",
       "   'no2Value': '0.059',\n",
       "   'numOfRows': '10',\n",
       "   'o3Grade': '1',\n",
       "   'o3Value': '0.011',\n",
       "   'pageNo': '1',\n",
       "   'pm10Grade': '1',\n",
       "   'pm10Grade1h': '1',\n",
       "   'pm10Value': '17',\n",
       "   'pm10Value24': '22',\n",
       "   'pm25Grade': '1',\n",
       "   'pm25Grade1h': '1',\n",
       "   'pm25Value': '11',\n",
       "   'pm25Value24': '12',\n",
       "   'resultCode': '',\n",
       "   'resultMsg': '',\n",
       "   'rnum': 0,\n",
       "   'serviceKey': '',\n",
       "   'sidoName': '',\n",
       "   'so2Grade': '1',\n",
       "   'so2Value': '0.003',\n",
       "   'stationCode': '',\n",
       "   'stationName': '강변북로',\n",
       "   'totalCount': '',\n",
       "   'ver': ''},\n",
       "  {'_returnType': 'json',\n",
       "   'coGrade': '1',\n",
       "   'coValue': '0.3',\n",
       "   'dataTerm': '',\n",
       "   'dataTime': '2018-07-13 15:00',\n",
       "   'khaiGrade': '1',\n",
       "   'khaiValue': '37',\n",
       "   'mangName': '도시대기',\n",
       "   'no2Grade': '1',\n",
       "   'no2Value': '0.014',\n",
       "   'numOfRows': '10',\n",
       "   'o3Grade': '1',\n",
       "   'o3Value': '0.021',\n",
       "   'pageNo': '1',\n",
       "   'pm10Grade': '1',\n",
       "   'pm10Grade1h': '1',\n",
       "   'pm10Value': '12',\n",
       "   'pm10Value24': '14',\n",
       "   'pm25Grade': '1',\n",
       "   'pm25Grade1h': '1',\n",
       "   'pm25Value': '9',\n",
       "   'pm25Value24': '11',\n",
       "   'resultCode': '',\n",
       "   'resultMsg': '',\n",
       "   'rnum': 0,\n",
       "   'serviceKey': '',\n",
       "   'sidoName': '',\n",
       "   'so2Grade': '1',\n",
       "   'so2Value': '0.006',\n",
       "   'stationCode': '',\n",
       "   'stationName': '중랑구',\n",
       "   'totalCount': '',\n",
       "   'ver': ''}],\n",
       " 'parm': {'_returnType': 'json',\n",
       "  'coGrade': '',\n",
       "  'coValue': '',\n",
       "  'dataTerm': '',\n",
       "  'dataTime': '',\n",
       "  'khaiGrade': '',\n",
       "  'khaiValue': '',\n",
       "  'mangName': '',\n",
       "  'no2Grade': '',\n",
       "  'no2Value': '',\n",
       "  'numOfRows': '10',\n",
       "  'o3Grade': '',\n",
       "  'o3Value': '',\n",
       "  'pageNo': '1',\n",
       "  'pm10Grade': '',\n",
       "  'pm10Grade1h': '',\n",
       "  'pm10Value': '',\n",
       "  'pm10Value24': '',\n",
       "  'pm25Grade': '',\n",
       "  'pm25Grade1h': '',\n",
       "  'pm25Value': '',\n",
       "  'pm25Value24': '',\n",
       "  'resultCode': '',\n",
       "  'resultMsg': '',\n",
       "  'rnum': 0,\n",
       "  'serviceKey': 'ckzCRkQ0HOEcHoV+Z5N0fDqDm6Jyp4oTXIZdL5NduqXd+bEs+ZOvsAgOmvuR2YgF5uNI88ARNfA726SEAAAHKA==',\n",
       "  'sidoName': '서울',\n",
       "  'so2Grade': '',\n",
       "  'so2Value': '',\n",
       "  'stationCode': '',\n",
       "  'stationName': '',\n",
       "  'totalCount': '',\n",
       "  'ver': '1.3'},\n",
       " 'totalCount': 39}"
      ]
     },
     "execution_count": 178,
     "metadata": {},
     "output_type": "execute_result"
    }
   ],
   "source": [
    "resultObj = json.loads(resultStr) # 메모리 스트링을 그대로 객체로 변환할 때 쓰는 함수\n",
    "resultObj"
   ]
  },
  {
   "cell_type": "code",
   "execution_count": 179,
   "metadata": {},
   "outputs": [
    {
     "name": "stdout",
     "output_type": "stream",
     "text": [
      "list [{'_returnType': 'json', 'coGrade': '1', 'coValue': '0.3', 'dataTerm': '', 'dataTime': '2018-07-13 15:00', 'khaiGrade': '1', 'khaiValue': '43', 'mangName': '도시대기', 'no2Grade': '1', 'no2Value': '0.015', 'numOfRows': '10', 'o3Grade': '1', 'o3Value': '0.024', 'pageNo': '1', 'pm10Grade': '1', 'pm10Grade1h': '1', 'pm10Value': '17', 'pm10Value24': '21', 'pm25Grade': '1', 'pm25Grade1h': '1', 'pm25Value': '10', 'pm25Value24': '13', 'resultCode': '', 'resultMsg': '', 'rnum': 0, 'serviceKey': '', 'sidoName': '', 'so2Grade': '1', 'so2Value': '0.003', 'stationCode': '', 'stationName': '중구', 'totalCount': '', 'ver': ''}, {'_returnType': 'json', 'coGrade': '1', 'coValue': '0.5', 'dataTerm': '', 'dataTime': '2018-07-13 15:00', 'khaiGrade': '2', 'khaiValue': '53', 'mangName': '도로변대기', 'no2Grade': '1', 'no2Value': '0.027', 'numOfRows': '10', 'o3Grade': '1', 'o3Value': '0.019', 'pageNo': '1', 'pm10Grade': '2', 'pm10Grade1h': '1', 'pm10Value': '28', 'pm10Value24': '33', 'pm25Grade': '1', 'pm25Grade1h': '1', 'pm25Value': '8', 'pm25Value24': '14', 'resultCode': '', 'resultMsg': '', 'rnum': 0, 'serviceKey': '', 'sidoName': '', 'so2Grade': '1', 'so2Value': '0.005', 'stationCode': '', 'stationName': '한강대로', 'totalCount': '', 'ver': ''}, {'_returnType': 'json', 'coGrade': '1', 'coValue': '0.3', 'dataTerm': '', 'dataTime': '2018-07-13 15:00', 'khaiGrade': '2', 'khaiValue': '51', 'mangName': '도시대기', 'no2Grade': '1', 'no2Value': '0.019', 'numOfRows': '10', 'o3Grade': '1', 'o3Value': '0.020', 'pageNo': '1', 'pm10Grade': '1', 'pm10Grade1h': '1', 'pm10Value': '17', 'pm10Value24': '20', 'pm25Grade': '2', 'pm25Grade1h': '1', 'pm25Value': '14', 'pm25Value24': '16', 'resultCode': '', 'resultMsg': '', 'rnum': 0, 'serviceKey': '', 'sidoName': '', 'so2Grade': '', 'so2Value': '-', 'stationCode': '', 'stationName': '종로구', 'totalCount': '', 'ver': ''}, {'_returnType': 'json', 'coGrade': '1', 'coValue': '0.5', 'dataTerm': '', 'dataTime': '2018-07-13 15:00', 'khaiGrade': '2', 'khaiValue': '59', 'mangName': '도로변대기', 'no2Grade': '1', 'no2Value': '0.028', 'numOfRows': '10', 'o3Grade': '1', 'o3Value': '0.020', 'pageNo': '1', 'pm10Grade': '1', 'pm10Grade1h': '1', 'pm10Value': '20', 'pm10Value24': '25', 'pm25Grade': '2', 'pm25Grade1h': '2', 'pm25Value': '17', 'pm25Value24': '19', 'resultCode': '', 'resultMsg': '', 'rnum': 0, 'serviceKey': '', 'sidoName': '', 'so2Grade': '1', 'so2Value': '0.005', 'stationCode': '', 'stationName': '청계천로', 'totalCount': '', 'ver': ''}, {'_returnType': 'json', 'coGrade': '1', 'coValue': '0.3', 'dataTerm': '', 'dataTime': '2018-07-13 15:00', 'khaiGrade': '1', 'khaiValue': '43', 'mangName': '도로변대기', 'no2Grade': '1', 'no2Value': '0.020', 'numOfRows': '10', 'o3Grade': '1', 'o3Value': '0.019', 'pageNo': '1', 'pm10Grade': '1', 'pm10Grade1h': '1', 'pm10Value': '13', 'pm10Value24': '21', 'pm25Grade': '1', 'pm25Grade1h': '1', 'pm25Value': '11', 'pm25Value24': '13', 'resultCode': '', 'resultMsg': '', 'rnum': 0, 'serviceKey': '', 'sidoName': '', 'so2Grade': '1', 'so2Value': '0.003', 'stationCode': '', 'stationName': '종로', 'totalCount': '', 'ver': ''}, {'_returnType': 'json', 'coGrade': '1', 'coValue': '0.2', 'dataTerm': '', 'dataTime': '2018-07-13 15:00', 'khaiGrade': '1', 'khaiValue': '42', 'mangName': '도시대기', 'no2Grade': '1', 'no2Value': '0.017', 'numOfRows': '10', 'o3Grade': '1', 'o3Value': '0.025', 'pageNo': '1', 'pm10Grade': '1', 'pm10Grade1h': '', 'pm10Value': '-', 'pm10Value24': '18', 'pm25Grade': '1', 'pm25Grade1h': '1', 'pm25Value': '12', 'pm25Value24': '12', 'resultCode': '', 'resultMsg': '', 'rnum': 0, 'serviceKey': '', 'sidoName': '', 'so2Grade': '1', 'so2Value': '0.003', 'stationCode': '', 'stationName': '용산구', 'totalCount': '', 'ver': ''}, {'_returnType': 'json', 'coGrade': '1', 'coValue': '0.5', 'dataTerm': '', 'dataTime': '2018-07-13 15:00', 'khaiGrade': '1', 'khaiValue': '43', 'mangName': '도시대기', 'no2Grade': '1', 'no2Value': '0.010', 'numOfRows': '10', 'o3Grade': '1', 'o3Value': '0.026', 'pageNo': '1', 'pm10Grade': '1', 'pm10Grade1h': '1', 'pm10Value': '16', 'pm10Value24': '20', 'pm25Grade': '1', 'pm25Grade1h': '1', 'pm25Value': '5', 'pm25Value24': '13', 'resultCode': '', 'resultMsg': '', 'rnum': 0, 'serviceKey': '', 'sidoName': '', 'so2Grade': '1', 'so2Value': '0.006', 'stationCode': '', 'stationName': '광진구', 'totalCount': '', 'ver': ''}, {'_returnType': 'json', 'coGrade': '1', 'coValue': '0.3', 'dataTerm': '', 'dataTime': '2018-07-13 15:00', 'khaiGrade': '1', 'khaiValue': '40', 'mangName': '도시대기', 'no2Grade': '1', 'no2Value': '0.011', 'numOfRows': '10', 'o3Grade': '1', 'o3Value': '0.016', 'pageNo': '1', 'pm10Grade': '1', 'pm10Grade1h': '1', 'pm10Value': '19', 'pm10Value24': '20', 'pm25Grade': '1', 'pm25Grade1h': '1', 'pm25Value': '7', 'pm25Value24': '12', 'resultCode': '', 'resultMsg': '', 'rnum': 0, 'serviceKey': '', 'sidoName': '', 'so2Grade': '1', 'so2Value': '0.005', 'stationCode': '', 'stationName': '성동구', 'totalCount': '', 'ver': ''}, {'_returnType': 'json', 'coGrade': '1', 'coValue': '0.4', 'dataTerm': '', 'dataTime': '2018-07-13 15:00', 'khaiGrade': '2', 'khaiValue': '98', 'mangName': '도로변대기', 'no2Grade': '2', 'no2Value': '0.059', 'numOfRows': '10', 'o3Grade': '1', 'o3Value': '0.011', 'pageNo': '1', 'pm10Grade': '1', 'pm10Grade1h': '1', 'pm10Value': '17', 'pm10Value24': '22', 'pm25Grade': '1', 'pm25Grade1h': '1', 'pm25Value': '11', 'pm25Value24': '12', 'resultCode': '', 'resultMsg': '', 'rnum': 0, 'serviceKey': '', 'sidoName': '', 'so2Grade': '1', 'so2Value': '0.003', 'stationCode': '', 'stationName': '강변북로', 'totalCount': '', 'ver': ''}, {'_returnType': 'json', 'coGrade': '1', 'coValue': '0.3', 'dataTerm': '', 'dataTime': '2018-07-13 15:00', 'khaiGrade': '1', 'khaiValue': '37', 'mangName': '도시대기', 'no2Grade': '1', 'no2Value': '0.014', 'numOfRows': '10', 'o3Grade': '1', 'o3Value': '0.021', 'pageNo': '1', 'pm10Grade': '1', 'pm10Grade1h': '1', 'pm10Value': '12', 'pm10Value24': '14', 'pm25Grade': '1', 'pm25Grade1h': '1', 'pm25Value': '9', 'pm25Value24': '11', 'resultCode': '', 'resultMsg': '', 'rnum': 0, 'serviceKey': '', 'sidoName': '', 'so2Grade': '1', 'so2Value': '0.006', 'stationCode': '', 'stationName': '중랑구', 'totalCount': '', 'ver': ''}]\n",
      "\n",
      "parm {'_returnType': 'json', 'coGrade': '', 'coValue': '', 'dataTerm': '', 'dataTime': '', 'khaiGrade': '', 'khaiValue': '', 'mangName': '', 'no2Grade': '', 'no2Value': '', 'numOfRows': '10', 'o3Grade': '', 'o3Value': '', 'pageNo': '1', 'pm10Grade': '', 'pm10Grade1h': '', 'pm10Value': '', 'pm10Value24': '', 'pm25Grade': '', 'pm25Grade1h': '', 'pm25Value': '', 'pm25Value24': '', 'resultCode': '', 'resultMsg': '', 'rnum': 0, 'serviceKey': 'ckzCRkQ0HOEcHoV+Z5N0fDqDm6Jyp4oTXIZdL5NduqXd+bEs+ZOvsAgOmvuR2YgF5uNI88ARNfA726SEAAAHKA==', 'sidoName': '서울', 'so2Grade': '', 'so2Value': '', 'stationCode': '', 'stationName': '', 'totalCount': '', 'ver': '1.3'}\n",
      "\n",
      "ArpltnInforInqireSvcVo {'_returnType': 'json', 'coGrade': '', 'coValue': '', 'dataTerm': '', 'dataTime': '', 'khaiGrade': '', 'khaiValue': '', 'mangName': '', 'no2Grade': '', 'no2Value': '', 'numOfRows': '10', 'o3Grade': '', 'o3Value': '', 'pageNo': '1', 'pm10Grade': '', 'pm10Grade1h': '', 'pm10Value': '', 'pm10Value24': '', 'pm25Grade': '', 'pm25Grade1h': '', 'pm25Value': '', 'pm25Value24': '', 'resultCode': '', 'resultMsg': '', 'rnum': 0, 'serviceKey': 'ckzCRkQ0HOEcHoV+Z5N0fDqDm6Jyp4oTXIZdL5NduqXd+bEs+ZOvsAgOmvuR2YgF5uNI88ARNfA726SEAAAHKA==', 'sidoName': '서울', 'so2Grade': '', 'so2Value': '', 'stationCode': '', 'stationName': '', 'totalCount': '', 'ver': '1.3'}\n",
      "\n",
      "totalCount 39\n",
      "\n"
     ]
    }
   ],
   "source": [
    "for k,v in resultObj.items() :\n",
    "    print(k,v)\n",
    "    print()"
   ]
  },
  {
   "cell_type": "markdown",
   "metadata": {},
   "source": [
    "---"
   ]
  },
  {
   "cell_type": "markdown",
   "metadata": {},
   "source": [
    "## 시군구별 실시간 평균정보 조회"
   ]
  },
  {
   "cell_type": "code",
   "execution_count": 263,
   "metadata": {
    "scrolled": true
   },
   "outputs": [
    {
     "data": {
      "text/plain": [
       "{'_returnType': 'json',\n",
       " 'numOfRows': 10,\n",
       " 'pageNo': 1,\n",
       " 'pageSize': 1,\n",
       " 'searchCondition': 'DAILY',\n",
       " 'serviceKey': 'DTemrBfpK5BRlHJV6BO07rWP5lf7venPr%2Bdn44FPqk%2FdjjMXBr6k6%2BIDUo4m4xkIEyAubec%2BTI0pNhNf75vwXQ%3D%3D',\n",
       " 'sidoName': None,\n",
       " 'startPage': 1,\n",
       " 'ver': 1.3}"
      ]
     },
     "execution_count": 263,
     "metadata": {},
     "output_type": "execute_result"
    }
   ],
   "source": [
    "params = {\n",
    "    \"serviceKey\" : \"DTemrBfpK5BRlHJV6BO07rWP5lf7venPr%2Bdn44FPqk%2FdjjMXBr6k6%2BIDUo4m4xkIEyAubec%2BTI0pNhNf75vwXQ%3D%3D\",\n",
    "    \"numOfRows\" : 10,\n",
    "    \"pageSize\" : 1,\n",
    "    \"pageNo\" : 1,\n",
    "    \"startPage\" : 1,\n",
    "    \"searchCondition\" : \"DAILY\",\n",
    "    \"sidoName\" : None,\n",
    "    \"ver\" : 1.3,\n",
    "    \"_returnType\" : \"json\"\n",
    "}\n",
    "\n",
    "params"
   ]
  },
  {
   "cell_type": "code",
   "execution_count": 264,
   "metadata": {},
   "outputs": [
    {
     "data": {
      "text/plain": [
       "str"
      ]
     },
     "execution_count": 264,
     "metadata": {},
     "output_type": "execute_result"
    }
   ],
   "source": [
    "type(params['serviceKey'])"
   ]
  },
  {
   "cell_type": "code",
   "execution_count": 265,
   "metadata": {},
   "outputs": [
    {
     "data": {
      "text/plain": [
       "{'_returnType': 'json',\n",
       " 'numOfRows': 10,\n",
       " 'pageNo': 1,\n",
       " 'pageSize': 1,\n",
       " 'searchCondition': 'DAILY',\n",
       " 'serviceKey': 'DTemrBfpK5BRlHJV6BO07rWP5lf7venPr%2Bdn44FPqk%2FdjjMXBr6k6%2BIDUo4m4xkIEyAubec%2BTI0pNhNf75vwXQ%3D%3D',\n",
       " 'sidoName': '서울',\n",
       " 'startPage': 1,\n",
       " 'ver': 1.3}"
      ]
     },
     "execution_count": 265,
     "metadata": {},
     "output_type": "execute_result"
    }
   ],
   "source": [
    "params[\"sidoName\"] = \"서울\" # 시도 이름 (공식문서) >>> (서울, 부산, 대구, 인천, 광주, 대전, 울산, 경기, 강원, 충북, 충남, 전북, 전남, 경북, 경남, 제주, 세종)\n",
    "params"
   ]
  },
  {
   "cell_type": "code",
   "execution_count": 266,
   "metadata": {},
   "outputs": [],
   "source": [
    "url = \"http://openapi.airkorea.or.kr/openapi/services/rest/ArpltnInforInqireSvc/getCtprvnMesureSidoLIst\""
   ]
  },
  {
   "cell_type": "code",
   "execution_count": 267,
   "metadata": {},
   "outputs": [],
   "source": [
    "from urllib import parse"
   ]
  },
  {
   "cell_type": "code",
   "execution_count": 268,
   "metadata": {
    "scrolled": true
   },
   "outputs": [
    {
     "data": {
      "text/plain": [
       "'serviceKey=DTemrBfpK5BRlHJV6BO07rWP5lf7venPr%252Bdn44FPqk%252FdjjMXBr6k6%252BIDUo4m4xkIEyAubec%252BTI0pNhNf75vwXQ%253D%253D&numOfRows=10&pageSize=1&pageNo=1&startPage=1&searchCondition=DAILY&sidoName=%EC%84%9C%EC%9A%B8&ver=1.3&_returnType=json'"
      ]
     },
     "execution_count": 268,
     "metadata": {},
     "output_type": "execute_result"
    }
   ],
   "source": [
    "# 딕셔너리 형태로 되어있는 파라미터를 url형태로 바꾸어주는 함수\n",
    "paramURL = parse.urlencode(params)\n",
    "paramURL"
   ]
  },
  {
   "cell_type": "code",
   "execution_count": 269,
   "metadata": {},
   "outputs": [
    {
     "data": {
      "text/plain": [
       "str"
      ]
     },
     "execution_count": 269,
     "metadata": {},
     "output_type": "execute_result"
    }
   ],
   "source": [
    "type(paramURL)"
   ]
  },
  {
   "cell_type": "code",
   "execution_count": 270,
   "metadata": {},
   "outputs": [
    {
     "data": {
      "text/plain": [
       "bytes"
      ]
     },
     "execution_count": 270,
     "metadata": {},
     "output_type": "execute_result"
    }
   ],
   "source": [
    "# 파라미터를 바이트타입으로 바꾸어주는 함수\n",
    "\n",
    "paramBytes = paramURL.encode(\"utf-8\")\n",
    "type(paramBytes)\n",
    "\n",
    "# paramURL은 str타입인데, 인터넷으로 주고받을 때는 항상 아래처럼 바이트타입으로 바꾸어주어야 한다. \n",
    "# 그런데 바이트 값으로 변환하는 과정에서 서비스키의 값이 변형되어 뒷부분에서 에러가 나게 될 것이다. 일단 진행해보자."
   ]
  },
  {
   "cell_type": "code",
   "execution_count": 271,
   "metadata": {},
   "outputs": [
    {
     "data": {
      "text/plain": [
       "b'<?xml version=\"1.0\" encoding=\"UTF-8\"?>\\r\\n\\r\\n\\r\\n\\r\\n\\r\\n<response>\\r\\n\\t<header>\\r\\n\\t\\t<resultCode>30</resultCode>\\r\\n\\t\\t<resultMsg>SERVICE KEY IS NOT REGISTERED ERROR.</resultMsg>\\r\\n\\t</header>\\r\\n</response>\\r\\n'"
      ]
     },
     "execution_count": 271,
     "metadata": {},
     "output_type": "execute_result"
    }
   ],
   "source": [
    "req = urllib.request.Request(url, data = paramBytes)\n",
    "res = urllib.request.urlopen(req)\n",
    "result = res.read()\n",
    "result"
   ]
  },
  {
   "cell_type": "markdown",
   "metadata": {},
   "source": [
    "이처럼 키값이 바이트로 변형되는 과정에서 SERVICE KEY IS NOT REGISTERED ERROR 가 발생된다. 다음과 같이 해결해보자."
   ]
  },
  {
   "cell_type": "code",
   "execution_count": 272,
   "metadata": {},
   "outputs": [
    {
     "data": {
      "text/plain": [
       "'DTemrBfpK5BRlHJV6BO07rWP5lf7venPr+dn44FPqk/djjMXBr6k6+IDUo4m4xkIEyAubec+TI0pNhNf75vwXQ=='"
      ]
     },
     "execution_count": 272,
     "metadata": {},
     "output_type": "execute_result"
    }
   ],
   "source": [
    "params[\"serviceKey\"] = urllib.parse.unquote(params[\"serviceKey\"]) # 바이트를 스트링으로 변환해주는 함수\n",
    "params[\"serviceKey\"]"
   ]
  },
  {
   "cell_type": "code",
   "execution_count": 273,
   "metadata": {},
   "outputs": [
    {
     "data": {
      "text/plain": [
       "{'_returnType': 'json',\n",
       " 'numOfRows': 10,\n",
       " 'pageNo': 1,\n",
       " 'pageSize': 1,\n",
       " 'searchCondition': 'DAILY',\n",
       " 'serviceKey': 'DTemrBfpK5BRlHJV6BO07rWP5lf7venPr+dn44FPqk/djjMXBr6k6+IDUo4m4xkIEyAubec+TI0pNhNf75vwXQ==',\n",
       " 'sidoName': '서울',\n",
       " 'startPage': 1,\n",
       " 'ver': 1.3}"
      ]
     },
     "execution_count": 273,
     "metadata": {},
     "output_type": "execute_result"
    }
   ],
   "source": [
    "params"
   ]
  },
  {
   "cell_type": "code",
   "execution_count": 279,
   "metadata": {},
   "outputs": [
    {
     "data": {
      "text/plain": [
       "str"
      ]
     },
     "execution_count": 279,
     "metadata": {},
     "output_type": "execute_result"
    }
   ],
   "source": [
    "paramURL = parse.urlencode(params)\n",
    "paramBytes = paramURL.encode(\"utf-8\")\n",
    "# type(paramBytes)\n",
    "req = urllib.request.Request(url, data = paramBytes)\n",
    "res = urllib.request.urlopen(req)\n",
    "result = res.read()\n",
    "resultStr = result.decode(\"utf-8\")\n",
    "type(resultStr)"
   ]
  },
  {
   "cell_type": "code",
   "execution_count": 280,
   "metadata": {},
   "outputs": [
    {
     "name": "stdout",
     "output_type": "stream",
     "text": [
      "{\"list\":[{\"_returnType\":\"json\",\"cityName\":\"강남구\",\"cityNameEng\":\"Gangnam-gu\",\"coValue\":\"0.3\",\"dataGubun\":\"\",\"dataTime\":\"2018-07-13 16:00\",\"districtCode\":\"02\",\"districtNumSeq\":\"001\",\"itemCode\":\"\",\"khaiValue\":\"\",\"no2Value\":\"0.023\",\"numOfRows\":\"10\",\"o3Value\":\"0.031\",\"pageNo\":\"1\",\"pm10Value\":\"15\",\"pm25Value\":\"13\",\"resultCode\":\"\",\"resultMsg\":\"\",\"searchCondition\":\"\",\"serviceKey\":\"\",\"sidoName\":\"서울\",\"so2Value\":\"0.005\",\"totalCount\":\"\"},{\"_returnType\":\"json\",\"cityName\":\"강동구\",\"cityNameEng\":\"Gangdong-gu\",\"coValue\":\"0.3\",\"dataGubun\":\"\",\"dataTime\":\"2018-07-13 16:00\",\"districtCode\":\"02\",\"districtNumSeq\":\"002\",\"itemCode\":\"\",\"khaiValue\":\"\",\"no2Value\":\"0.019\",\"numOfRows\":\"10\",\"o3Value\":\"0.022\",\"pageNo\":\"1\",\"pm10Value\":\"20\",\"pm25Value\":\"11\",\"resultCode\":\"\",\"resultMsg\":\"\",\"searchCondition\":\"\",\"serviceKey\":\"\",\"sidoName\":\"서울\",\"so2Value\":\"0.004\",\"totalCount\":\"\"},{\"_returnType\":\"json\",\"cityName\":\"강북구\",\"cityNameEng\":\"Gangbuk-gu\",\"coValue\":\"0.3\",\"dataGubun\":\"\",\"dataTime\":\"2018-07-13 16:00\",\"districtCode\":\"02\",\"districtNumSeq\":\"003\",\"itemCode\":\"\",\"khaiValue\":\"\",\"no2Value\":\"0.012\",\"numOfRows\":\"10\",\"o3Value\":\"0.033\",\"pageNo\":\"1\",\"pm10Value\":\"27\",\"pm25Value\":\"17\",\"resultCode\":\"\",\"resultMsg\":\"\",\"searchCondition\":\"\",\"serviceKey\":\"\",\"sidoName\":\"서울\",\"so2Value\":\"0.003\",\"totalCount\":\"\"},{\"_returnType\":\"json\",\"cityName\":\"강서구\",\"cityNameEng\":\"Gangseo-gu\",\"coValue\":\"0.2\",\"dataGubun\":\"\",\"dataTime\":\"2018-07-13 16:00\",\"districtCode\":\"02\",\"districtNumSeq\":\"004\",\"itemCode\":\"\",\"khaiValue\":\"\",\"no2Value\":\"0.017\",\"numOfRows\":\"10\",\"o3Value\":\"0.025\",\"pageNo\":\"1\",\"pm10Value\":\"22\",\"pm25Value\":\"14\",\"resultCode\":\"\",\"resultMsg\":\"\",\"searchCondition\":\"\",\"serviceKey\":\"\",\"sidoName\":\"서울\",\"so2Value\":\"0.002\",\"totalCount\":\"\"},{\"_returnType\":\"json\",\"cityName\":\"관악구\",\"cityNameEng\":\"Gwanak-gu\",\"coValue\":\"0.2\",\"dataGubun\":\"\",\"dataTime\":\"2018-07-13 16:00\",\"districtCode\":\"02\",\"districtNumSeq\":\"005\",\"itemCode\":\"\",\"khaiValue\":\"\",\"no2Value\":\"0.013\",\"numOfRows\":\"10\",\"o3Value\":\"0.041\",\"pageNo\":\"1\",\"pm10Value\":\"29\",\"pm25Value\":\"11\",\"resultCode\":\"\",\"resultMsg\":\"\",\"searchCondition\":\"\",\"serviceKey\":\"\",\"sidoName\":\"서울\",\"so2Value\":\"0.003\",\"totalCount\":\"\"},{\"_returnType\":\"json\",\"cityName\":\"광진구\",\"cityNameEng\":\"Gwangjin-gu\",\"coValue\":\"0.6\",\"dataGubun\":\"\",\"dataTime\":\"2018-07-13 16:00\",\"districtCode\":\"02\",\"districtNumSeq\":\"006\",\"itemCode\":\"\",\"khaiValue\":\"\",\"no2Value\":\"0.013\",\"numOfRows\":\"10\",\"o3Value\":\"0.037\",\"pageNo\":\"1\",\"pm10Value\":\"18\",\"pm25Value\":\"12\",\"resultCode\":\"\",\"resultMsg\":\"\",\"searchCondition\":\"\",\"serviceKey\":\"\",\"sidoName\":\"서울\",\"so2Value\":\"0.006\",\"totalCount\":\"\"},{\"_returnType\":\"json\",\"cityName\":\"구로구\",\"cityNameEng\":\"Guro-gu\",\"coValue\":\"0.1\",\"dataGubun\":\"\",\"dataTime\":\"2018-07-13 16:00\",\"districtCode\":\"02\",\"districtNumSeq\":\"007\",\"itemCode\":\"\",\"khaiValue\":\"\",\"no2Value\":\"0.010\",\"numOfRows\":\"10\",\"o3Value\":\"0.054\",\"pageNo\":\"1\",\"pm10Value\":\"23\",\"pm25Value\":\"14\",\"resultCode\":\"\",\"resultMsg\":\"\",\"searchCondition\":\"\",\"serviceKey\":\"\",\"sidoName\":\"서울\",\"so2Value\":\"0.003\",\"totalCount\":\"\"},{\"_returnType\":\"json\",\"cityName\":\"금천구\",\"cityNameEng\":\"Geumcheon-gu\",\"coValue\":\"0.2\",\"dataGubun\":\"\",\"dataTime\":\"2018-07-13 16:00\",\"districtCode\":\"02\",\"districtNumSeq\":\"008\",\"itemCode\":\"\",\"khaiValue\":\"\",\"no2Value\":\"0.013\",\"numOfRows\":\"10\",\"o3Value\":\"0.036\",\"pageNo\":\"1\",\"pm10Value\":\"23\",\"pm25Value\":\"14\",\"resultCode\":\"\",\"resultMsg\":\"\",\"searchCondition\":\"\",\"serviceKey\":\"\",\"sidoName\":\"서울\",\"so2Value\":\"0.003\",\"totalCount\":\"\"},{\"_returnType\":\"json\",\"cityName\":\"노원구\",\"cityNameEng\":\"Nowon-gu\",\"coValue\":\"0.3\",\"dataGubun\":\"\",\"dataTime\":\"2018-07-13 16:00\",\"districtCode\":\"02\",\"districtNumSeq\":\"009\",\"itemCode\":\"\",\"khaiValue\":\"\",\"no2Value\":\"0.013\",\"numOfRows\":\"10\",\"o3Value\":\"0.029\",\"pageNo\":\"1\",\"pm10Value\":\"22\",\"pm25Value\":\"16\",\"resultCode\":\"\",\"resultMsg\":\"\",\"searchCondition\":\"\",\"serviceKey\":\"\",\"sidoName\":\"서울\",\"so2Value\":\"0.005\",\"totalCount\":\"\"},{\"_returnType\":\"json\",\"cityName\":\"도봉구\",\"cityNameEng\":\"Dobong-gu\",\"coValue\":\"0.6\",\"dataGubun\":\"\",\"dataTime\":\"2018-07-13 16:00\",\"districtCode\":\"02\",\"districtNumSeq\":\"010\",\"itemCode\":\"\",\"khaiValue\":\"\",\"no2Value\":\"0.014\",\"numOfRows\":\"10\",\"o3Value\":\"0.028\",\"pageNo\":\"1\",\"pm10Value\":\"28\",\"pm25Value\":\"14\",\"resultCode\":\"\",\"resultMsg\":\"\",\"searchCondition\":\"\",\"serviceKey\":\"\",\"sidoName\":\"서울\",\"so2Value\":\"0.004\",\"totalCount\":\"\"}],\"parm\":{\"_returnType\":\"json\",\"cityName\":\"\",\"cityNameEng\":\"\",\"coValue\":\"\",\"dataGubun\":\"\",\"dataTime\":\"\",\"districtCode\":\"\",\"districtNumSeq\":\"\",\"itemCode\":\"\",\"khaiValue\":\"\",\"no2Value\":\"\",\"numOfRows\":\"10\",\"o3Value\":\"\",\"pageNo\":\"1\",\"pm10Value\":\"\",\"pm25Value\":\"\",\"resultCode\":\"\",\"resultMsg\":\"\",\"searchCondition\":\"DAILY\",\"serviceKey\":\"DTemrBfpK5BRlHJV6BO07rWP5lf7venPr+dn44FPqk/djjMXBr6k6+IDUo4m4xkIEyAubec+TI0pNhNf75vwXQ==\",\"sidoName\":\"서울\",\"so2Value\":\"\",\"totalCount\":\"\"},\"CtprvnMesureLIstVo2\":{\"_returnType\":\"json\",\"cityName\":\"\",\"cityNameEng\":\"\",\"coValue\":\"\",\"dataGubun\":\"\",\"dataTime\":\"\",\"districtCode\":\"\",\"districtNumSeq\":\"\",\"itemCode\":\"\",\"khaiValue\":\"\",\"no2Value\":\"\",\"numOfRows\":\"10\",\"o3Value\":\"\",\"pageNo\":\"1\",\"pm10Value\":\"\",\"pm25Value\":\"\",\"resultCode\":\"\",\"resultMsg\":\"\",\"searchCondition\":\"DAILY\",\"serviceKey\":\"DTemrBfpK5BRlHJV6BO07rWP5lf7venPr+dn44FPqk/djjMXBr6k6+IDUo4m4xkIEyAubec+TI0pNhNf75vwXQ==\",\"sidoName\":\"서울\",\"so2Value\":\"\",\"totalCount\":\"\"},\"totalCount\":625}\n"
     ]
    }
   ],
   "source": [
    "print(resultStr)"
   ]
  },
  {
   "cell_type": "code",
   "execution_count": 281,
   "metadata": {},
   "outputs": [
    {
     "data": {
      "text/plain": [
       "{'CtprvnMesureLIstVo2': {'_returnType': 'json',\n",
       "  'cityName': '',\n",
       "  'cityNameEng': '',\n",
       "  'coValue': '',\n",
       "  'dataGubun': '',\n",
       "  'dataTime': '',\n",
       "  'districtCode': '',\n",
       "  'districtNumSeq': '',\n",
       "  'itemCode': '',\n",
       "  'khaiValue': '',\n",
       "  'no2Value': '',\n",
       "  'numOfRows': '10',\n",
       "  'o3Value': '',\n",
       "  'pageNo': '1',\n",
       "  'pm10Value': '',\n",
       "  'pm25Value': '',\n",
       "  'resultCode': '',\n",
       "  'resultMsg': '',\n",
       "  'searchCondition': 'DAILY',\n",
       "  'serviceKey': 'DTemrBfpK5BRlHJV6BO07rWP5lf7venPr+dn44FPqk/djjMXBr6k6+IDUo4m4xkIEyAubec+TI0pNhNf75vwXQ==',\n",
       "  'sidoName': '서울',\n",
       "  'so2Value': '',\n",
       "  'totalCount': ''},\n",
       " 'list': [{'_returnType': 'json',\n",
       "   'cityName': '강남구',\n",
       "   'cityNameEng': 'Gangnam-gu',\n",
       "   'coValue': '0.3',\n",
       "   'dataGubun': '',\n",
       "   'dataTime': '2018-07-13 16:00',\n",
       "   'districtCode': '02',\n",
       "   'districtNumSeq': '001',\n",
       "   'itemCode': '',\n",
       "   'khaiValue': '',\n",
       "   'no2Value': '0.023',\n",
       "   'numOfRows': '10',\n",
       "   'o3Value': '0.031',\n",
       "   'pageNo': '1',\n",
       "   'pm10Value': '15',\n",
       "   'pm25Value': '13',\n",
       "   'resultCode': '',\n",
       "   'resultMsg': '',\n",
       "   'searchCondition': '',\n",
       "   'serviceKey': '',\n",
       "   'sidoName': '서울',\n",
       "   'so2Value': '0.005',\n",
       "   'totalCount': ''},\n",
       "  {'_returnType': 'json',\n",
       "   'cityName': '강동구',\n",
       "   'cityNameEng': 'Gangdong-gu',\n",
       "   'coValue': '0.3',\n",
       "   'dataGubun': '',\n",
       "   'dataTime': '2018-07-13 16:00',\n",
       "   'districtCode': '02',\n",
       "   'districtNumSeq': '002',\n",
       "   'itemCode': '',\n",
       "   'khaiValue': '',\n",
       "   'no2Value': '0.019',\n",
       "   'numOfRows': '10',\n",
       "   'o3Value': '0.022',\n",
       "   'pageNo': '1',\n",
       "   'pm10Value': '20',\n",
       "   'pm25Value': '11',\n",
       "   'resultCode': '',\n",
       "   'resultMsg': '',\n",
       "   'searchCondition': '',\n",
       "   'serviceKey': '',\n",
       "   'sidoName': '서울',\n",
       "   'so2Value': '0.004',\n",
       "   'totalCount': ''},\n",
       "  {'_returnType': 'json',\n",
       "   'cityName': '강북구',\n",
       "   'cityNameEng': 'Gangbuk-gu',\n",
       "   'coValue': '0.3',\n",
       "   'dataGubun': '',\n",
       "   'dataTime': '2018-07-13 16:00',\n",
       "   'districtCode': '02',\n",
       "   'districtNumSeq': '003',\n",
       "   'itemCode': '',\n",
       "   'khaiValue': '',\n",
       "   'no2Value': '0.012',\n",
       "   'numOfRows': '10',\n",
       "   'o3Value': '0.033',\n",
       "   'pageNo': '1',\n",
       "   'pm10Value': '27',\n",
       "   'pm25Value': '17',\n",
       "   'resultCode': '',\n",
       "   'resultMsg': '',\n",
       "   'searchCondition': '',\n",
       "   'serviceKey': '',\n",
       "   'sidoName': '서울',\n",
       "   'so2Value': '0.003',\n",
       "   'totalCount': ''},\n",
       "  {'_returnType': 'json',\n",
       "   'cityName': '강서구',\n",
       "   'cityNameEng': 'Gangseo-gu',\n",
       "   'coValue': '0.2',\n",
       "   'dataGubun': '',\n",
       "   'dataTime': '2018-07-13 16:00',\n",
       "   'districtCode': '02',\n",
       "   'districtNumSeq': '004',\n",
       "   'itemCode': '',\n",
       "   'khaiValue': '',\n",
       "   'no2Value': '0.017',\n",
       "   'numOfRows': '10',\n",
       "   'o3Value': '0.025',\n",
       "   'pageNo': '1',\n",
       "   'pm10Value': '22',\n",
       "   'pm25Value': '14',\n",
       "   'resultCode': '',\n",
       "   'resultMsg': '',\n",
       "   'searchCondition': '',\n",
       "   'serviceKey': '',\n",
       "   'sidoName': '서울',\n",
       "   'so2Value': '0.002',\n",
       "   'totalCount': ''},\n",
       "  {'_returnType': 'json',\n",
       "   'cityName': '관악구',\n",
       "   'cityNameEng': 'Gwanak-gu',\n",
       "   'coValue': '0.2',\n",
       "   'dataGubun': '',\n",
       "   'dataTime': '2018-07-13 16:00',\n",
       "   'districtCode': '02',\n",
       "   'districtNumSeq': '005',\n",
       "   'itemCode': '',\n",
       "   'khaiValue': '',\n",
       "   'no2Value': '0.013',\n",
       "   'numOfRows': '10',\n",
       "   'o3Value': '0.041',\n",
       "   'pageNo': '1',\n",
       "   'pm10Value': '29',\n",
       "   'pm25Value': '11',\n",
       "   'resultCode': '',\n",
       "   'resultMsg': '',\n",
       "   'searchCondition': '',\n",
       "   'serviceKey': '',\n",
       "   'sidoName': '서울',\n",
       "   'so2Value': '0.003',\n",
       "   'totalCount': ''},\n",
       "  {'_returnType': 'json',\n",
       "   'cityName': '광진구',\n",
       "   'cityNameEng': 'Gwangjin-gu',\n",
       "   'coValue': '0.6',\n",
       "   'dataGubun': '',\n",
       "   'dataTime': '2018-07-13 16:00',\n",
       "   'districtCode': '02',\n",
       "   'districtNumSeq': '006',\n",
       "   'itemCode': '',\n",
       "   'khaiValue': '',\n",
       "   'no2Value': '0.013',\n",
       "   'numOfRows': '10',\n",
       "   'o3Value': '0.037',\n",
       "   'pageNo': '1',\n",
       "   'pm10Value': '18',\n",
       "   'pm25Value': '12',\n",
       "   'resultCode': '',\n",
       "   'resultMsg': '',\n",
       "   'searchCondition': '',\n",
       "   'serviceKey': '',\n",
       "   'sidoName': '서울',\n",
       "   'so2Value': '0.006',\n",
       "   'totalCount': ''},\n",
       "  {'_returnType': 'json',\n",
       "   'cityName': '구로구',\n",
       "   'cityNameEng': 'Guro-gu',\n",
       "   'coValue': '0.1',\n",
       "   'dataGubun': '',\n",
       "   'dataTime': '2018-07-13 16:00',\n",
       "   'districtCode': '02',\n",
       "   'districtNumSeq': '007',\n",
       "   'itemCode': '',\n",
       "   'khaiValue': '',\n",
       "   'no2Value': '0.010',\n",
       "   'numOfRows': '10',\n",
       "   'o3Value': '0.054',\n",
       "   'pageNo': '1',\n",
       "   'pm10Value': '23',\n",
       "   'pm25Value': '14',\n",
       "   'resultCode': '',\n",
       "   'resultMsg': '',\n",
       "   'searchCondition': '',\n",
       "   'serviceKey': '',\n",
       "   'sidoName': '서울',\n",
       "   'so2Value': '0.003',\n",
       "   'totalCount': ''},\n",
       "  {'_returnType': 'json',\n",
       "   'cityName': '금천구',\n",
       "   'cityNameEng': 'Geumcheon-gu',\n",
       "   'coValue': '0.2',\n",
       "   'dataGubun': '',\n",
       "   'dataTime': '2018-07-13 16:00',\n",
       "   'districtCode': '02',\n",
       "   'districtNumSeq': '008',\n",
       "   'itemCode': '',\n",
       "   'khaiValue': '',\n",
       "   'no2Value': '0.013',\n",
       "   'numOfRows': '10',\n",
       "   'o3Value': '0.036',\n",
       "   'pageNo': '1',\n",
       "   'pm10Value': '23',\n",
       "   'pm25Value': '14',\n",
       "   'resultCode': '',\n",
       "   'resultMsg': '',\n",
       "   'searchCondition': '',\n",
       "   'serviceKey': '',\n",
       "   'sidoName': '서울',\n",
       "   'so2Value': '0.003',\n",
       "   'totalCount': ''},\n",
       "  {'_returnType': 'json',\n",
       "   'cityName': '노원구',\n",
       "   'cityNameEng': 'Nowon-gu',\n",
       "   'coValue': '0.3',\n",
       "   'dataGubun': '',\n",
       "   'dataTime': '2018-07-13 16:00',\n",
       "   'districtCode': '02',\n",
       "   'districtNumSeq': '009',\n",
       "   'itemCode': '',\n",
       "   'khaiValue': '',\n",
       "   'no2Value': '0.013',\n",
       "   'numOfRows': '10',\n",
       "   'o3Value': '0.029',\n",
       "   'pageNo': '1',\n",
       "   'pm10Value': '22',\n",
       "   'pm25Value': '16',\n",
       "   'resultCode': '',\n",
       "   'resultMsg': '',\n",
       "   'searchCondition': '',\n",
       "   'serviceKey': '',\n",
       "   'sidoName': '서울',\n",
       "   'so2Value': '0.005',\n",
       "   'totalCount': ''},\n",
       "  {'_returnType': 'json',\n",
       "   'cityName': '도봉구',\n",
       "   'cityNameEng': 'Dobong-gu',\n",
       "   'coValue': '0.6',\n",
       "   'dataGubun': '',\n",
       "   'dataTime': '2018-07-13 16:00',\n",
       "   'districtCode': '02',\n",
       "   'districtNumSeq': '010',\n",
       "   'itemCode': '',\n",
       "   'khaiValue': '',\n",
       "   'no2Value': '0.014',\n",
       "   'numOfRows': '10',\n",
       "   'o3Value': '0.028',\n",
       "   'pageNo': '1',\n",
       "   'pm10Value': '28',\n",
       "   'pm25Value': '14',\n",
       "   'resultCode': '',\n",
       "   'resultMsg': '',\n",
       "   'searchCondition': '',\n",
       "   'serviceKey': '',\n",
       "   'sidoName': '서울',\n",
       "   'so2Value': '0.004',\n",
       "   'totalCount': ''}],\n",
       " 'parm': {'_returnType': 'json',\n",
       "  'cityName': '',\n",
       "  'cityNameEng': '',\n",
       "  'coValue': '',\n",
       "  'dataGubun': '',\n",
       "  'dataTime': '',\n",
       "  'districtCode': '',\n",
       "  'districtNumSeq': '',\n",
       "  'itemCode': '',\n",
       "  'khaiValue': '',\n",
       "  'no2Value': '',\n",
       "  'numOfRows': '10',\n",
       "  'o3Value': '',\n",
       "  'pageNo': '1',\n",
       "  'pm10Value': '',\n",
       "  'pm25Value': '',\n",
       "  'resultCode': '',\n",
       "  'resultMsg': '',\n",
       "  'searchCondition': 'DAILY',\n",
       "  'serviceKey': 'DTemrBfpK5BRlHJV6BO07rWP5lf7venPr+dn44FPqk/djjMXBr6k6+IDUo4m4xkIEyAubec+TI0pNhNf75vwXQ==',\n",
       "  'sidoName': '서울',\n",
       "  'so2Value': '',\n",
       "  'totalCount': ''},\n",
       " 'totalCount': 625}"
      ]
     },
     "execution_count": 281,
     "metadata": {},
     "output_type": "execute_result"
    }
   ],
   "source": [
    "resultObj = json.loads(resultStr) # 메모리 스트링을 그대로 객체로 변환할 때 쓰는 함수\n",
    "resultObj"
   ]
  },
  {
   "cell_type": "code",
   "execution_count": 348,
   "metadata": {},
   "outputs": [
    {
     "name": "stdout",
     "output_type": "stream",
     "text": [
      "--- 강남구 ---\n",
      "pm10 Value >>> 15\n",
      "pm25 Value >>> 13\n",
      "\n",
      "--- 강동구 ---\n",
      "pm10 Value >>> 20\n",
      "pm25 Value >>> 11\n",
      "\n",
      "--- 강북구 ---\n",
      "pm10 Value >>> 27\n",
      "pm25 Value >>> 17\n",
      "\n",
      "--- 강서구 ---\n",
      "pm10 Value >>> 22\n",
      "pm25 Value >>> 14\n",
      "\n",
      "--- 관악구 ---\n",
      "pm10 Value >>> 29\n",
      "pm25 Value >>> 11\n",
      "\n",
      "--- 광진구 ---\n",
      "pm10 Value >>> 18\n",
      "pm25 Value >>> 12\n",
      "\n",
      "--- 구로구 ---\n",
      "pm10 Value >>> 23\n",
      "pm25 Value >>> 14\n",
      "\n",
      "--- 금천구 ---\n",
      "pm10 Value >>> 23\n",
      "pm25 Value >>> 14\n",
      "\n",
      "--- 노원구 ---\n",
      "pm10 Value >>> 22\n",
      "pm25 Value >>> 16\n",
      "\n",
      "--- 도봉구 ---\n",
      "pm10 Value >>> 28\n",
      "pm25 Value >>> 14\n",
      "\n"
     ]
    }
   ],
   "source": [
    "for gu in resultObj['list'] :\n",
    "    print(\"--- {} ---\".format(gu['cityName']))\n",
    "    print(\"pm10 Value >>> {}\".format(gu['pm10Value']))\n",
    "    print(\"pm25 Value >>> {}\".format(gu['pm25Value']))\n",
    "    print()"
   ]
  },
  {
   "cell_type": "markdown",
   "metadata": {},
   "source": [
    "---"
   ]
  },
  {
   "cell_type": "markdown",
   "metadata": {},
   "source": [
    "## XML"
   ]
  },
  {
   "cell_type": "code",
   "execution_count": 282,
   "metadata": {},
   "outputs": [],
   "source": [
    "import lxml"
   ]
  },
  {
   "cell_type": "code",
   "execution_count": 283,
   "metadata": {},
   "outputs": [
    {
     "data": {
      "text/plain": [
       "['__builtins__',\n",
       " '__cached__',\n",
       " '__doc__',\n",
       " '__file__',\n",
       " '__loader__',\n",
       " '__name__',\n",
       " '__package__',\n",
       " '__path__',\n",
       " '__spec__',\n",
       " 'get_include']"
      ]
     },
     "execution_count": 283,
     "metadata": {},
     "output_type": "execute_result"
    }
   ],
   "source": [
    "dir(lxml)"
   ]
  },
  {
   "cell_type": "code",
   "execution_count": 284,
   "metadata": {},
   "outputs": [],
   "source": [
    "from lxml import etree"
   ]
  },
  {
   "cell_type": "code",
   "execution_count": 286,
   "metadata": {},
   "outputs": [
    {
     "data": {
      "text/plain": [
       "['AncestorsIterator',\n",
       " 'AttributeBasedElementClassLookup',\n",
       " 'C14NError',\n",
       " 'CDATA',\n",
       " 'Comment',\n",
       " 'CommentBase',\n",
       " 'CustomElementClassLookup',\n",
       " 'DEBUG',\n",
       " 'DTD',\n",
       " 'DTDError',\n",
       " 'DTDParseError',\n",
       " 'DTDValidateError',\n",
       " 'DocInfo',\n",
       " 'DocumentInvalid',\n",
       " 'ETCompatXMLParser',\n",
       " 'ETXPath',\n",
       " 'Element',\n",
       " 'ElementBase',\n",
       " 'ElementChildIterator',\n",
       " 'ElementClassLookup',\n",
       " 'ElementDefaultClassLookup',\n",
       " 'ElementDepthFirstIterator',\n",
       " 'ElementNamespaceClassLookup',\n",
       " 'ElementTextIterator',\n",
       " 'ElementTree',\n",
       " 'Entity',\n",
       " 'EntityBase',\n",
       " 'Error',\n",
       " 'ErrorDomains',\n",
       " 'ErrorLevels',\n",
       " 'ErrorTypes',\n",
       " 'Extension',\n",
       " 'FallbackElementClassLookup',\n",
       " 'FunctionNamespace',\n",
       " 'HTML',\n",
       " 'HTMLParser',\n",
       " 'HTMLPullParser',\n",
       " 'LIBXML_COMPILED_VERSION',\n",
       " 'LIBXML_VERSION',\n",
       " 'LIBXSLT_COMPILED_VERSION',\n",
       " 'LIBXSLT_VERSION',\n",
       " 'LXML_VERSION',\n",
       " 'LxmlError',\n",
       " 'LxmlRegistryError',\n",
       " 'LxmlSyntaxError',\n",
       " 'NamespaceRegistryError',\n",
       " 'PI',\n",
       " 'PIBase',\n",
       " 'ParseError',\n",
       " 'ParserBasedElementClassLookup',\n",
       " 'ParserError',\n",
       " 'ProcessingInstruction',\n",
       " 'PyErrorLog',\n",
       " 'PythonElementClassLookup',\n",
       " 'QName',\n",
       " 'RelaxNG',\n",
       " 'RelaxNGError',\n",
       " 'RelaxNGErrorTypes',\n",
       " 'RelaxNGParseError',\n",
       " 'RelaxNGValidateError',\n",
       " 'Resolver',\n",
       " 'Schematron',\n",
       " 'SchematronError',\n",
       " 'SchematronParseError',\n",
       " 'SchematronValidateError',\n",
       " 'SerialisationError',\n",
       " 'SiblingsIterator',\n",
       " 'SubElement',\n",
       " 'TreeBuilder',\n",
       " 'XInclude',\n",
       " 'XIncludeError',\n",
       " 'XML',\n",
       " 'XMLDTDID',\n",
       " 'XMLID',\n",
       " 'XMLParser',\n",
       " 'XMLPullParser',\n",
       " 'XMLSchema',\n",
       " 'XMLSchemaError',\n",
       " 'XMLSchemaParseError',\n",
       " 'XMLSchemaValidateError',\n",
       " 'XMLSyntaxError',\n",
       " 'XMLTreeBuilder',\n",
       " 'XPath',\n",
       " 'XPathDocumentEvaluator',\n",
       " 'XPathElementEvaluator',\n",
       " 'XPathError',\n",
       " 'XPathEvalError',\n",
       " 'XPathEvaluator',\n",
       " 'XPathFunctionError',\n",
       " 'XPathResultError',\n",
       " 'XPathSyntaxError',\n",
       " 'XSLT',\n",
       " 'XSLTAccessControl',\n",
       " 'XSLTApplyError',\n",
       " 'XSLTError',\n",
       " 'XSLTExtension',\n",
       " 'XSLTExtensionError',\n",
       " 'XSLTParseError',\n",
       " 'XSLTSaveError',\n",
       " '_Attrib',\n",
       " '_BaseErrorLog',\n",
       " '_Comment',\n",
       " '_Document',\n",
       " '_DomainErrorLog',\n",
       " '_Element',\n",
       " '_ElementIterator',\n",
       " '_ElementMatchIterator',\n",
       " '_ElementStringResult',\n",
       " '_ElementTagMatcher',\n",
       " '_ElementTree',\n",
       " '_ElementUnicodeResult',\n",
       " '_Entity',\n",
       " '_ErrorLog',\n",
       " '_FeedParser',\n",
       " '_IDDict',\n",
       " '_ListErrorLog',\n",
       " '_LogEntry',\n",
       " '_ProcessingInstruction',\n",
       " '_RotatingErrorLog',\n",
       " '_SaxParserTarget',\n",
       " '_TargetParserResult',\n",
       " '_Validator',\n",
       " '_XPathEvaluatorBase',\n",
       " '_XSLTProcessingInstruction',\n",
       " '_XSLTResultTree',\n",
       " '__all__',\n",
       " '__builtins__',\n",
       " '__doc__',\n",
       " '__docformat__',\n",
       " '__file__',\n",
       " '__loader__',\n",
       " '__name__',\n",
       " '__package__',\n",
       " '__pyx_capi__',\n",
       " '__spec__',\n",
       " '__test__',\n",
       " '__version__',\n",
       " 'adopt_external_document',\n",
       " 'cleanup_namespaces',\n",
       " 'clear_error_log',\n",
       " 'dump',\n",
       " 'fromstring',\n",
       " 'fromstringlist',\n",
       " 'get_default_parser',\n",
       " 'htmlfile',\n",
       " 'iselement',\n",
       " 'iterparse',\n",
       " 'iterwalk',\n",
       " 'memory_debugger',\n",
       " 'parse',\n",
       " 'parseid',\n",
       " 'register_namespace',\n",
       " 'set_default_parser',\n",
       " 'set_element_class_lookup',\n",
       " 'strip_attributes',\n",
       " 'strip_elements',\n",
       " 'strip_tags',\n",
       " 'tostring',\n",
       " 'tostringlist',\n",
       " 'tounicode',\n",
       " 'use_global_python_log',\n",
       " 'xmlfile']"
      ]
     },
     "execution_count": 286,
     "metadata": {},
     "output_type": "execute_result"
    }
   ],
   "source": [
    "dir(etree) # subelement라는 놈들이 있다."
   ]
  },
  {
   "cell_type": "code",
   "execution_count": 287,
   "metadata": {},
   "outputs": [],
   "source": [
    "bookstore = etree.Element(\"bookstore\") "
   ]
  },
  {
   "cell_type": "markdown",
   "metadata": {},
   "source": [
    "xml의 노드가 생성되었다. 이것의 서브노드를 만들어보자."
   ]
  },
  {
   "cell_type": "code",
   "execution_count": 288,
   "metadata": {},
   "outputs": [],
   "source": [
    "book1 = etree.SubElement(bookstore, \"book\")"
   ]
  },
  {
   "cell_type": "code",
   "execution_count": 289,
   "metadata": {},
   "outputs": [],
   "source": [
    "book2 = etree.SubElement(bookstore, \"book\", attrib = {'category' : 'children'})"
   ]
  },
  {
   "cell_type": "markdown",
   "metadata": {},
   "source": [
    "첫번째 child는 attribute 없이, 두번째 child는 attribute 있도록 생성해보았다."
   ]
  },
  {
   "cell_type": "code",
   "execution_count": 290,
   "metadata": {},
   "outputs": [
    {
     "name": "stdout",
     "output_type": "stream",
     "text": [
      "<Element bookstore at 0x1042a7e88>\n"
     ]
    }
   ],
   "source": [
    "book1.attrib[\"category\"] = \"cooking\"\n",
    "print(bookstore)"
   ]
  },
  {
   "cell_type": "markdown",
   "metadata": {},
   "source": [
    "첫번째 child에도 attribute를 추가해주었다."
   ]
  },
  {
   "cell_type": "code",
   "execution_count": 292,
   "metadata": {},
   "outputs": [
    {
     "name": "stdout",
     "output_type": "stream",
     "text": [
      "<bookstore>\n",
      "  <book category=\"cooking\"/>\n",
      "  <book category=\"children\"/>\n",
      "</bookstore>\n"
     ]
    }
   ],
   "source": [
    "etree.dump(bookstore)"
   ]
  },
  {
   "cell_type": "code",
   "execution_count": 293,
   "metadata": {},
   "outputs": [],
   "source": [
    "title1 = etree.Element('title') # title 1 노드 생성"
   ]
  },
  {
   "cell_type": "code",
   "execution_count": 294,
   "metadata": {},
   "outputs": [],
   "source": [
    "title1.text = 'Harry Potter' # tilte 1에다가 값을 써보자"
   ]
  },
  {
   "cell_type": "code",
   "execution_count": 295,
   "metadata": {},
   "outputs": [
    {
     "name": "stdout",
     "output_type": "stream",
     "text": [
      "<title>Harry Potter</title>\n"
     ]
    }
   ],
   "source": [
    "etree.dump(title1)"
   ]
  },
  {
   "cell_type": "code",
   "execution_count": 296,
   "metadata": {},
   "outputs": [
    {
     "name": "stdout",
     "output_type": "stream",
     "text": [
      "<title lang=\"en\">Harry Potter</title>\n"
     ]
    }
   ],
   "source": [
    "title1.attrib[\"lang\"] = \"en\"\n",
    "etree.dump(title1)"
   ]
  },
  {
   "cell_type": "code",
   "execution_count": 297,
   "metadata": {},
   "outputs": [],
   "source": [
    "book2.append(title1)"
   ]
  },
  {
   "cell_type": "code",
   "execution_count": 298,
   "metadata": {},
   "outputs": [
    {
     "name": "stdout",
     "output_type": "stream",
     "text": [
      "<bookstore>\n",
      "  <book category=\"cooking\"/>\n",
      "  <book category=\"children\">\n",
      "    <title lang=\"en\">Harry Potter</title>\n",
      "  </book>\n",
      "</bookstore>\n"
     ]
    }
   ],
   "source": [
    "etree.dump(bookstore)"
   ]
  },
  {
   "cell_type": "code",
   "execution_count": 299,
   "metadata": {},
   "outputs": [
    {
     "name": "stdout",
     "output_type": "stream",
     "text": [
      "<bookstore>\n",
      "  <book category=\"cooking\">\n",
      "    <title lang=\"en\"/>\n",
      "  </book>\n",
      "  <book category=\"children\">\n",
      "    <title lang=\"en\">Harry Potter</title>\n",
      "  </book>\n",
      "</bookstore>\n"
     ]
    }
   ],
   "source": [
    "etree.SubElement(book1, \"title\", attrib = {\"lang\" : title1.get(\"lang\")})\n",
    "etree.dump(bookstore)"
   ]
  },
  {
   "cell_type": "code",
   "execution_count": 304,
   "metadata": {},
   "outputs": [],
   "source": [
    "xmlByte = etree.tostring(bookstore) # 바이트타입(아스키)로 바뀐다."
   ]
  },
  {
   "cell_type": "code",
   "execution_count": 305,
   "metadata": {},
   "outputs": [
    {
     "data": {
      "text/plain": [
       "bytes"
      ]
     },
     "execution_count": 305,
     "metadata": {},
     "output_type": "execute_result"
    }
   ],
   "source": [
    "type(xmlByte)"
   ]
  },
  {
   "cell_type": "code",
   "execution_count": 306,
   "metadata": {},
   "outputs": [
    {
     "data": {
      "text/plain": [
       "b'<bookstore><book category=\"cooking\"><title lang=\"en\"/></book><book category=\"children\"><title lang=\"en\">Harry Potter</title></book></bookstore>'"
      ]
     },
     "execution_count": 306,
     "metadata": {},
     "output_type": "execute_result"
    }
   ],
   "source": [
    "xmlByte"
   ]
  },
  {
   "cell_type": "code",
   "execution_count": 307,
   "metadata": {},
   "outputs": [],
   "source": [
    "xmlByte = etree.tostring(bookstore, xml_declaration = True) # 바이트타입(아스키)로 바뀐다."
   ]
  },
  {
   "cell_type": "code",
   "execution_count": 308,
   "metadata": {},
   "outputs": [
    {
     "data": {
      "text/plain": [
       "b'<?xml version=\\'1.0\\' encoding=\\'ASCII\\'?>\\n<bookstore><book category=\"cooking\"><title lang=\"en\"/></book><book category=\"children\"><title lang=\"en\">Harry Potter</title></book></bookstore>'"
      ]
     },
     "execution_count": 308,
     "metadata": {},
     "output_type": "execute_result"
    }
   ],
   "source": [
    "xmlByte"
   ]
  },
  {
   "cell_type": "code",
   "execution_count": 309,
   "metadata": {},
   "outputs": [],
   "source": [
    "xmlByte = etree.tostring(bookstore, encoding = 'utf-8' ,xml_declaration = True) # 바이트타입(아스키)로 바뀐다."
   ]
  },
  {
   "cell_type": "code",
   "execution_count": 310,
   "metadata": {},
   "outputs": [
    {
     "data": {
      "text/plain": [
       "b'<?xml version=\\'1.0\\' encoding=\\'utf-8\\'?>\\n<bookstore><book category=\"cooking\"><title lang=\"en\"/></book><book category=\"children\"><title lang=\"en\">Harry Potter</title></book></bookstore>'"
      ]
     },
     "execution_count": 310,
     "metadata": {},
     "output_type": "execute_result"
    }
   ],
   "source": [
    "xmlByte"
   ]
  },
  {
   "cell_type": "code",
   "execution_count": 311,
   "metadata": {},
   "outputs": [],
   "source": [
    "temp = etree.fromstring(xmlByte)"
   ]
  },
  {
   "cell_type": "code",
   "execution_count": 312,
   "metadata": {},
   "outputs": [
    {
     "name": "stdout",
     "output_type": "stream",
     "text": [
      "<bookstore>\n",
      "  <book category=\"cooking\">\n",
      "    <title lang=\"en\"/>\n",
      "  </book>\n",
      "  <book category=\"children\">\n",
      "    <title lang=\"en\">Harry Potter</title>\n",
      "  </book>\n",
      "</bookstore>\n"
     ]
    }
   ],
   "source": [
    "etree.dump(temp)"
   ]
  },
  {
   "cell_type": "code",
   "execution_count": 313,
   "metadata": {},
   "outputs": [],
   "source": [
    "tree = etree.ElementTree(temp)"
   ]
  },
  {
   "cell_type": "code",
   "execution_count": 315,
   "metadata": {},
   "outputs": [],
   "source": [
    "root = tree.getroot()"
   ]
  },
  {
   "cell_type": "code",
   "execution_count": 316,
   "metadata": {},
   "outputs": [
    {
     "data": {
      "text/plain": [
       "'bookstore'"
      ]
     },
     "execution_count": 316,
     "metadata": {},
     "output_type": "execute_result"
    }
   ],
   "source": [
    "root.tag"
   ]
  },
  {
   "cell_type": "code",
   "execution_count": 317,
   "metadata": {},
   "outputs": [
    {
     "data": {
      "text/plain": [
       "'1.0'"
      ]
     },
     "execution_count": 317,
     "metadata": {},
     "output_type": "execute_result"
    }
   ],
   "source": [
    "tree.docinfo.xml_version"
   ]
  },
  {
   "cell_type": "code",
   "execution_count": 318,
   "metadata": {},
   "outputs": [
    {
     "data": {
      "text/plain": [
       "'utf-8'"
      ]
     },
     "execution_count": 318,
     "metadata": {},
     "output_type": "execute_result"
    }
   ],
   "source": [
    "tree.docinfo.encoding"
   ]
  },
  {
   "cell_type": "code",
   "execution_count": 320,
   "metadata": {},
   "outputs": [
    {
     "name": "stdout",
     "output_type": "stream",
     "text": [
      "None\n"
     ]
    }
   ],
   "source": [
    "root.getparent() # root는 parent가 당연히 없다.\n",
    "print(root.getparent())"
   ]
  },
  {
   "cell_type": "code",
   "execution_count": 323,
   "metadata": {},
   "outputs": [
    {
     "name": "stdout",
     "output_type": "stream",
     "text": [
      "[<Element book at 0x105050e88>, <Element book at 0x104170b88>]\n",
      "2\n"
     ]
    }
   ],
   "source": [
    "children = root.getchildren()\n",
    "print(children)\n",
    "print(len(children))"
   ]
  },
  {
   "cell_type": "code",
   "execution_count": 325,
   "metadata": {},
   "outputs": [
    {
     "name": "stdout",
     "output_type": "stream",
     "text": [
      "book cooking\n",
      "book children\n"
     ]
    }
   ],
   "source": [
    "for child in children :\n",
    "    print(child.tag, child.get(\"category\"))"
   ]
  },
  {
   "cell_type": "markdown",
   "metadata": {},
   "source": [
    "---"
   ]
  },
  {
   "cell_type": "markdown",
   "metadata": {},
   "source": [
    "# XML로 대기오염 분석"
   ]
  },
  {
   "cell_type": "markdown",
   "metadata": {},
   "source": [
    "## 측정소별 실시간 측정정보 조회"
   ]
  },
  {
   "cell_type": "code",
   "execution_count": 20,
   "metadata": {},
   "outputs": [],
   "source": [
    "import urllib.request\n",
    "from lxml import etree"
   ]
  },
  {
   "cell_type": "code",
   "execution_count": 29,
   "metadata": {},
   "outputs": [
    {
     "data": {
      "text/plain": [
       "{'dataTerm': 'daily',\n",
       " 'numOfRows': 10,\n",
       " 'pageNo': 1,\n",
       " 'serviceKey': 'DTemrBfpK5BRlHJV6BO07rWP5lf7venPr%2Bdn44FPqk%2FdjjMXBr6k6%2BIDUo4m4xkIEyAubec%2BTI0pNhNf75vwXQ%3D%3D',\n",
       " 'stationName': None,\n",
       " 'ver': 1.3}"
      ]
     },
     "execution_count": 29,
     "metadata": {},
     "output_type": "execute_result"
    }
   ],
   "source": [
    "url = \"http://openapi.airkorea.or.kr/openapi/services/rest/ArpltnInforInqireSvc/getMsrstnAcctoRltmMesureDnsty\"\n",
    "\n",
    "# 문서에서 요청변수를 확인할 것\n",
    "params = {\n",
    "    \"serviceKey\" : \"DTemrBfpK5BRlHJV6BO07rWP5lf7venPr%2Bdn44FPqk%2FdjjMXBr6k6%2BIDUo4m4xkIEyAubec%2BTI0pNhNf75vwXQ%3D%3D\",\n",
    "    \"numOfRows\" : 10,\n",
    "    \"pageNo\" : 1,\n",
    "    \"dataTerm\" : \"daily\",\n",
    "    \"stationName\" : None,\n",
    "    \"ver\" :1.3\n",
    "} \n",
    "\n",
    "params"
   ]
  },
  {
   "cell_type": "code",
   "execution_count": 30,
   "metadata": {},
   "outputs": [
    {
     "name": "stdout",
     "output_type": "stream",
     "text": [
      "서비스 키 변환 전 >>>  DTemrBfpK5BRlHJV6BO07rWP5lf7venPr%2Bdn44FPqk%2FdjjMXBr6k6%2BIDUo4m4xkIEyAubec%2BTI0pNhNf75vwXQ%3D%3D\n",
      "서비스 키 변환 후 >>>  DTemrBfpK5BRlHJV6BO07rWP5lf7venPr+dn44FPqk/djjMXBr6k6+IDUo4m4xkIEyAubec+TI0pNhNf75vwXQ==\n"
     ]
    }
   ],
   "source": [
    "print(\"서비스 키 변환 전 >>> \",params['serviceKey'])\n",
    "\n",
    "# 바이트 타입을 스트링 타입으로 변환 _ 서비스키는 이미 바이트 타입이므로 스트링으로 변환 후 바이트로 재변환 해야 한다.\n",
    "\n",
    "from urllib import parse\n",
    "params['serviceKey'] = urllib.parse.unquote(params['serviceKey'])\n",
    "print(\"서비스 키 변환 후 >>> \",params['serviceKey'])"
   ]
  },
  {
   "cell_type": "code",
   "execution_count": 31,
   "metadata": {},
   "outputs": [
    {
     "data": {
      "text/plain": [
       "{'dataTerm': 'daily',\n",
       " 'numOfRows': 10,\n",
       " 'pageNo': 1,\n",
       " 'serviceKey': 'DTemrBfpK5BRlHJV6BO07rWP5lf7venPr+dn44FPqk/djjMXBr6k6+IDUo4m4xkIEyAubec+TI0pNhNf75vwXQ==',\n",
       " 'stationName': '성북구',\n",
       " 'ver': 1.3}"
      ]
     },
     "execution_count": 31,
     "metadata": {},
     "output_type": "execute_result"
    }
   ],
   "source": [
    "params[\"stationName\"] = \"성북구\"\n",
    "params"
   ]
  },
  {
   "cell_type": "code",
   "execution_count": 32,
   "metadata": {},
   "outputs": [
    {
     "name": "stdout",
     "output_type": "stream",
     "text": [
      "str 타입인 parmas >>>  serviceKey=DTemrBfpK5BRlHJV6BO07rWP5lf7venPr%2Bdn44FPqk%2FdjjMXBr6k6%2BIDUo4m4xkIEyAubec%2BTI0pNhNf75vwXQ%3D%3D&numOfRows=10&pageNo=1&dataTerm=daily&stationName=%EC%84%B1%EB%B6%81%EA%B5%AC&ver=1.3\n",
      "\n",
      "현재 parmas의 타입 >>>  <class 'str'>\n",
      "\n",
      "byte 타입으로 변환해주어야 한다.\n",
      "\n",
      "\n",
      "byte 타입인 parmas >>>  b'serviceKey=DTemrBfpK5BRlHJV6BO07rWP5lf7venPr%2Bdn44FPqk%2FdjjMXBr6k6%2BIDUo4m4xkIEyAubec%2BTI0pNhNf75vwXQ%3D%3D&numOfRows=10&pageNo=1&dataTerm=daily&stationName=%EC%84%B1%EB%B6%81%EA%B5%AC&ver=1.3'\n",
      "\n",
      "현재 parmas의 타입 >>>  <class 'bytes'>\n"
     ]
    }
   ],
   "source": [
    "# 파라미터를 url로 인코딩\n",
    "\n",
    "params = urllib.parse.urlencode(params)\n",
    "print(\"str 타입인 parmas >>> \",params)\n",
    "print()\n",
    "print(\"현재 parmas의 타입 >>> \",type(params))\n",
    "print()\n",
    "print(\"byte 타입으로 변환해주어야 한다.\")\n",
    "print()\n",
    "print()\n",
    "\n",
    "# 바이트 타입으로 변환\n",
    "\n",
    "params = params.encode(\"utf-8\")\n",
    "print(\"byte 타입인 parmas >>> \",params)\n",
    "print()\n",
    "\n",
    "print(\"현재 parmas의 타입 >>> \",type(params))"
   ]
  },
  {
   "cell_type": "code",
   "execution_count": 33,
   "metadata": {},
   "outputs": [],
   "source": [
    "req = urllib.request.Request(url, data = params) # request의 객체\n",
    "res = urllib.request.urlopen(req) \n",
    "resResult = res. read()"
   ]
  },
  {
   "cell_type": "code",
   "execution_count": 34,
   "metadata": {
    "scrolled": true
   },
   "outputs": [],
   "source": [
    "xml = etree.fromstring(resResult)"
   ]
  },
  {
   "cell_type": "code",
   "execution_count": 35,
   "metadata": {},
   "outputs": [
    {
     "data": {
      "text/plain": [
       "b'<?xml version=\"1.0\" encoding=\"UTF-8\"?>\\r\\n\\r\\n\\r\\n\\r\\n\\r\\n<response>\\r\\n\\t<header>\\r\\n\\t\\t<resultCode>00</resultCode>\\r\\n\\t\\t<resultMsg>NORMAL SERVICE.</resultMsg>\\r\\n\\t</header>\\r\\n\\t<body>\\r\\n\\t\\t<items>\\r\\n\\t\\t\\t\\r\\n\\t\\t\\t\\t<item>\\r\\n\\t\\t\\t\\t\\t<dataTime>2018-07-16 10:00</dataTime>\\r\\n\\t\\t\\t\\t\\t\\r\\n                        <mangName>\\xeb\\x8f\\x84\\xec\\x8b\\x9c\\xeb\\x8c\\x80\\xea\\xb8\\xb0</mangName>\\r\\n                    \\r\\n\\t\\t\\t\\t\\t<so2Value>0.003</so2Value>\\r\\n\\t\\t\\t\\t\\t<coValue>0.5</coValue>\\r\\n\\t\\t\\t\\t\\t<o3Value>0.009</o3Value>\\r\\n\\t\\t\\t\\t\\t<no2Value>0.024</no2Value>\\r\\n\\t\\t\\t\\t\\t<pm10Value>26</pm10Value>\\r\\n\\t\\t\\t\\t\\t\\r\\n                        <pm10Value24>24</pm10Value24>\\r\\n                    \\r\\n\\t\\t\\t\\t\\t\\r\\n                        <pm25Value>-</pm25Value>\\r\\n                    \\r\\n                    \\r\\n                        <pm25Value24>12</pm25Value24>\\r\\n                    \\r\\n\\t\\t\\t\\t\\t<khaiValue>40</khaiValue>\\r\\n\\t\\t\\t\\t\\t<khaiGrade>1</khaiGrade>\\r\\n\\t\\t\\t\\t\\t<so2Grade>1</so2Grade>\\r\\n\\t\\t\\t\\t\\t<coGrade>1</coGrade>\\r\\n\\t\\t\\t\\t\\t<o3Grade>1</o3Grade>\\r\\n\\t\\t\\t\\t\\t<no2Grade>1</no2Grade>\\r\\n\\t\\t\\t\\t\\t<pm10Grade>1</pm10Grade>\\r\\n\\t\\t\\t\\t\\t\\r\\n                        <pm25Grade>1</pm25Grade>\\r\\n                    \\r\\n                    \\r\\n                        <pm10Grade1h>1</pm10Grade1h>\\r\\n                        <pm25Grade1h></pm25Grade1h>\\r\\n                    \\r\\n\\t\\t\\t\\t</item>\\r\\n\\t\\t\\t\\r\\n\\t\\t\\t\\t<item>\\r\\n\\t\\t\\t\\t\\t<dataTime>2018-07-16 09:00</dataTime>\\r\\n\\t\\t\\t\\t\\t\\r\\n                        <mangName>\\xeb\\x8f\\x84\\xec\\x8b\\x9c\\xeb\\x8c\\x80\\xea\\xb8\\xb0</mangName>\\r\\n                    \\r\\n\\t\\t\\t\\t\\t<so2Value>0.003</so2Value>\\r\\n\\t\\t\\t\\t\\t<coValue>0.5</coValue>\\r\\n\\t\\t\\t\\t\\t<o3Value>0.007</o3Value>\\r\\n\\t\\t\\t\\t\\t<no2Value>0.023</no2Value>\\r\\n\\t\\t\\t\\t\\t<pm10Value>35</pm10Value>\\r\\n\\t\\t\\t\\t\\t\\r\\n                        <pm10Value24>23</pm10Value24>\\r\\n                    \\r\\n\\t\\t\\t\\t\\t\\r\\n                        <pm25Value>11</pm25Value>\\r\\n                    \\r\\n                    \\r\\n                        <pm25Value24>12</pm25Value24>\\r\\n                    \\r\\n\\t\\t\\t\\t\\t<khaiValue>40</khaiValue>\\r\\n\\t\\t\\t\\t\\t<khaiGrade>1</khaiGrade>\\r\\n\\t\\t\\t\\t\\t<so2Grade>1</so2Grade>\\r\\n\\t\\t\\t\\t\\t<coGrade>1</coGrade>\\r\\n\\t\\t\\t\\t\\t<o3Grade>1</o3Grade>\\r\\n\\t\\t\\t\\t\\t<no2Grade>1</no2Grade>\\r\\n\\t\\t\\t\\t\\t<pm10Grade>1</pm10Grade>\\r\\n\\t\\t\\t\\t\\t\\r\\n                        <pm25Grade>1</pm25Grade>\\r\\n                    \\r\\n                    \\r\\n                        <pm10Grade1h>2</pm10Grade1h>\\r\\n                        <pm25Grade1h>1</pm25Grade1h>\\r\\n                    \\r\\n\\t\\t\\t\\t</item>\\r\\n\\t\\t\\t\\r\\n\\t\\t\\t\\t<item>\\r\\n\\t\\t\\t\\t\\t<dataTime>2018-07-16 08:00</dataTime>\\r\\n\\t\\t\\t\\t\\t\\r\\n                        <mangName>\\xeb\\x8f\\x84\\xec\\x8b\\x9c\\xeb\\x8c\\x80\\xea\\xb8\\xb0</mangName>\\r\\n                    \\r\\n\\t\\t\\t\\t\\t<so2Value>0.003</so2Value>\\r\\n\\t\\t\\t\\t\\t<coValue>0.5</coValue>\\r\\n\\t\\t\\t\\t\\t<o3Value>0.004</o3Value>\\r\\n\\t\\t\\t\\t\\t<no2Value>0.019</no2Value>\\r\\n\\t\\t\\t\\t\\t<pm10Value>23</pm10Value>\\r\\n\\t\\t\\t\\t\\t\\r\\n                        <pm10Value24>20</pm10Value24>\\r\\n                    \\r\\n\\t\\t\\t\\t\\t\\r\\n                        <pm25Value>12</pm25Value>\\r\\n                    \\r\\n                    \\r\\n                        <pm25Value24>12</pm25Value24>\\r\\n                    \\r\\n\\t\\t\\t\\t\\t<khaiValue>40</khaiValue>\\r\\n\\t\\t\\t\\t\\t<khaiGrade>1</khaiGrade>\\r\\n\\t\\t\\t\\t\\t<so2Grade>1</so2Grade>\\r\\n\\t\\t\\t\\t\\t<coGrade>1</coGrade>\\r\\n\\t\\t\\t\\t\\t<o3Grade>1</o3Grade>\\r\\n\\t\\t\\t\\t\\t<no2Grade>1</no2Grade>\\r\\n\\t\\t\\t\\t\\t<pm10Grade>1</pm10Grade>\\r\\n\\t\\t\\t\\t\\t\\r\\n                        <pm25Grade>1</pm25Grade>\\r\\n                    \\r\\n                    \\r\\n                        <pm10Grade1h>1</pm10Grade1h>\\r\\n                        <pm25Grade1h>1</pm25Grade1h>\\r\\n                    \\r\\n\\t\\t\\t\\t</item>\\r\\n\\t\\t\\t\\r\\n\\t\\t\\t\\t<item>\\r\\n\\t\\t\\t\\t\\t<dataTime>2018-07-16 07:00</dataTime>\\r\\n\\t\\t\\t\\t\\t\\r\\n                        <mangName>\\xeb\\x8f\\x84\\xec\\x8b\\x9c\\xeb\\x8c\\x80\\xea\\xb8\\xb0</mangName>\\r\\n                    \\r\\n\\t\\t\\t\\t\\t<so2Value>0.002</so2Value>\\r\\n\\t\\t\\t\\t\\t<coValue>0.6</coValue>\\r\\n\\t\\t\\t\\t\\t<o3Value>0.003</o3Value>\\r\\n\\t\\t\\t\\t\\t<no2Value>0.016</no2Value>\\r\\n\\t\\t\\t\\t\\t<pm10Value>17</pm10Value>\\r\\n\\t\\t\\t\\t\\t\\r\\n                        <pm10Value24>20</pm10Value24>\\r\\n                    \\r\\n\\t\\t\\t\\t\\t\\r\\n                        <pm25Value>14</pm25Value>\\r\\n                    \\r\\n                    \\r\\n                        <pm25Value24>12</pm25Value24>\\r\\n                    \\r\\n\\t\\t\\t\\t\\t<khaiValue>40</khaiValue>\\r\\n\\t\\t\\t\\t\\t<khaiGrade>1</khaiGrade>\\r\\n\\t\\t\\t\\t\\t<so2Grade>1</so2Grade>\\r\\n\\t\\t\\t\\t\\t<coGrade>1</coGrade>\\r\\n\\t\\t\\t\\t\\t<o3Grade>1</o3Grade>\\r\\n\\t\\t\\t\\t\\t<no2Grade>1</no2Grade>\\r\\n\\t\\t\\t\\t\\t<pm10Grade>1</pm10Grade>\\r\\n\\t\\t\\t\\t\\t\\r\\n                        <pm25Grade>1</pm25Grade>\\r\\n                    \\r\\n                    \\r\\n                        <pm10Grade1h>1</pm10Grade1h>\\r\\n                        <pm25Grade1h>1</pm25Grade1h>\\r\\n                    \\r\\n\\t\\t\\t\\t</item>\\r\\n\\t\\t\\t\\r\\n\\t\\t\\t\\t<item>\\r\\n\\t\\t\\t\\t\\t<dataTime>2018-07-16 06:00</dataTime>\\r\\n\\t\\t\\t\\t\\t\\r\\n                        <mangName>\\xeb\\x8f\\x84\\xec\\x8b\\x9c\\xeb\\x8c\\x80\\xea\\xb8\\xb0</mangName>\\r\\n                    \\r\\n\\t\\t\\t\\t\\t<so2Value>0.002</so2Value>\\r\\n\\t\\t\\t\\t\\t<coValue>0.4</coValue>\\r\\n\\t\\t\\t\\t\\t<o3Value>0.003</o3Value>\\r\\n\\t\\t\\t\\t\\t<no2Value>0.013</no2Value>\\r\\n\\t\\t\\t\\t\\t<pm10Value>22</pm10Value>\\r\\n\\t\\t\\t\\t\\t\\r\\n                        <pm10Value24>21</pm10Value24>\\r\\n                    \\r\\n\\t\\t\\t\\t\\t\\r\\n                        <pm25Value>8</pm25Value>\\r\\n                    \\r\\n                    \\r\\n                        <pm25Value24>13</pm25Value24>\\r\\n                    \\r\\n\\t\\t\\t\\t\\t<khaiValue>43</khaiValue>\\r\\n\\t\\t\\t\\t\\t<khaiGrade>1</khaiGrade>\\r\\n\\t\\t\\t\\t\\t<so2Grade>1</so2Grade>\\r\\n\\t\\t\\t\\t\\t<coGrade>1</coGrade>\\r\\n\\t\\t\\t\\t\\t<o3Grade>1</o3Grade>\\r\\n\\t\\t\\t\\t\\t<no2Grade>1</no2Grade>\\r\\n\\t\\t\\t\\t\\t<pm10Grade>1</pm10Grade>\\r\\n\\t\\t\\t\\t\\t\\r\\n                        <pm25Grade>1</pm25Grade>\\r\\n                    \\r\\n                    \\r\\n                        <pm10Grade1h>1</pm10Grade1h>\\r\\n                        <pm25Grade1h>1</pm25Grade1h>\\r\\n                    \\r\\n\\t\\t\\t\\t</item>\\r\\n\\t\\t\\t\\r\\n\\t\\t\\t\\t<item>\\r\\n\\t\\t\\t\\t\\t<dataTime>2018-07-16 05:00</dataTime>\\r\\n\\t\\t\\t\\t\\t\\r\\n                        <mangName>\\xeb\\x8f\\x84\\xec\\x8b\\x9c\\xeb\\x8c\\x80\\xea\\xb8\\xb0</mangName>\\r\\n                    \\r\\n\\t\\t\\t\\t\\t<so2Value>0.002</so2Value>\\r\\n\\t\\t\\t\\t\\t<coValue>0.4</coValue>\\r\\n\\t\\t\\t\\t\\t<o3Value>0.006</o3Value>\\r\\n\\t\\t\\t\\t\\t<no2Value>0.008</no2Value>\\r\\n\\t\\t\\t\\t\\t<pm10Value>19</pm10Value>\\r\\n\\t\\t\\t\\t\\t\\r\\n                        <pm10Value24>21</pm10Value24>\\r\\n                    \\r\\n\\t\\t\\t\\t\\t\\r\\n                        <pm25Value>11</pm25Value>\\r\\n                    \\r\\n                    \\r\\n                        <pm25Value24>14</pm25Value24>\\r\\n                    \\r\\n\\t\\t\\t\\t\\t<khaiValue>47</khaiValue>\\r\\n\\t\\t\\t\\t\\t<khaiGrade>1</khaiGrade>\\r\\n\\t\\t\\t\\t\\t<so2Grade>1</so2Grade>\\r\\n\\t\\t\\t\\t\\t<coGrade>1</coGrade>\\r\\n\\t\\t\\t\\t\\t<o3Grade>1</o3Grade>\\r\\n\\t\\t\\t\\t\\t<no2Grade>1</no2Grade>\\r\\n\\t\\t\\t\\t\\t<pm10Grade>1</pm10Grade>\\r\\n\\t\\t\\t\\t\\t\\r\\n                        <pm25Grade>1</pm25Grade>\\r\\n                    \\r\\n                    \\r\\n                        <pm10Grade1h>1</pm10Grade1h>\\r\\n                        <pm25Grade1h>1</pm25Grade1h>\\r\\n                    \\r\\n\\t\\t\\t\\t</item>\\r\\n\\t\\t\\t\\r\\n\\t\\t\\t\\t<item>\\r\\n\\t\\t\\t\\t\\t<dataTime>2018-07-16 04:00</dataTime>\\r\\n\\t\\t\\t\\t\\t\\r\\n                        <mangName>\\xeb\\x8f\\x84\\xec\\x8b\\x9c\\xeb\\x8c\\x80\\xea\\xb8\\xb0</mangName>\\r\\n                    \\r\\n\\t\\t\\t\\t\\t<so2Value>0.002</so2Value>\\r\\n\\t\\t\\t\\t\\t<coValue>0.4</coValue>\\r\\n\\t\\t\\t\\t\\t<o3Value>0.007</o3Value>\\r\\n\\t\\t\\t\\t\\t<no2Value>0.009</no2Value>\\r\\n\\t\\t\\t\\t\\t<pm10Value>16</pm10Value>\\r\\n\\t\\t\\t\\t\\t\\r\\n                        <pm10Value24>23</pm10Value24>\\r\\n                    \\r\\n\\t\\t\\t\\t\\t\\r\\n                        <pm25Value>10</pm25Value>\\r\\n                    \\r\\n                    \\r\\n                        <pm25Value24>14</pm25Value24>\\r\\n                    \\r\\n\\t\\t\\t\\t\\t<khaiValue>47</khaiValue>\\r\\n\\t\\t\\t\\t\\t<khaiGrade>1</khaiGrade>\\r\\n\\t\\t\\t\\t\\t<so2Grade>1</so2Grade>\\r\\n\\t\\t\\t\\t\\t<coGrade>1</coGrade>\\r\\n\\t\\t\\t\\t\\t<o3Grade>1</o3Grade>\\r\\n\\t\\t\\t\\t\\t<no2Grade>1</no2Grade>\\r\\n\\t\\t\\t\\t\\t<pm10Grade>1</pm10Grade>\\r\\n\\t\\t\\t\\t\\t\\r\\n                        <pm25Grade>1</pm25Grade>\\r\\n                    \\r\\n                    \\r\\n                        <pm10Grade1h>1</pm10Grade1h>\\r\\n                        <pm25Grade1h>1</pm25Grade1h>\\r\\n                    \\r\\n\\t\\t\\t\\t</item>\\r\\n\\t\\t\\t\\r\\n\\t\\t\\t\\t<item>\\r\\n\\t\\t\\t\\t\\t<dataTime>2018-07-16 03:00</dataTime>\\r\\n\\t\\t\\t\\t\\t\\r\\n                        <mangName>\\xeb\\x8f\\x84\\xec\\x8b\\x9c\\xeb\\x8c\\x80\\xea\\xb8\\xb0</mangName>\\r\\n                    \\r\\n\\t\\t\\t\\t\\t<so2Value>0.003</so2Value>\\r\\n\\t\\t\\t\\t\\t<coValue>0.4</coValue>\\r\\n\\t\\t\\t\\t\\t<o3Value>0.006</o3Value>\\r\\n\\t\\t\\t\\t\\t<no2Value>0.012</no2Value>\\r\\n\\t\\t\\t\\t\\t<pm10Value>23</pm10Value>\\r\\n\\t\\t\\t\\t\\t\\r\\n                        <pm10Value24>25</pm10Value24>\\r\\n                    \\r\\n\\t\\t\\t\\t\\t\\r\\n                        <pm25Value>15</pm25Value>\\r\\n                    \\r\\n                    \\r\\n                        <pm25Value24>16</pm25Value24>\\r\\n                    \\r\\n\\t\\t\\t\\t\\t<khaiValue>51</khaiValue>\\r\\n\\t\\t\\t\\t\\t<khaiGrade>2</khaiGrade>\\r\\n\\t\\t\\t\\t\\t<so2Grade>1</so2Grade>\\r\\n\\t\\t\\t\\t\\t<coGrade>1</coGrade>\\r\\n\\t\\t\\t\\t\\t<o3Grade>1</o3Grade>\\r\\n\\t\\t\\t\\t\\t<no2Grade>1</no2Grade>\\r\\n\\t\\t\\t\\t\\t<pm10Grade>1</pm10Grade>\\r\\n\\t\\t\\t\\t\\t\\r\\n                        <pm25Grade>2</pm25Grade>\\r\\n                    \\r\\n                    \\r\\n                        <pm10Grade1h>1</pm10Grade1h>\\r\\n                        <pm25Grade1h>1</pm25Grade1h>\\r\\n                    \\r\\n\\t\\t\\t\\t</item>\\r\\n\\t\\t\\t\\r\\n\\t\\t\\t\\t<item>\\r\\n\\t\\t\\t\\t\\t<dataTime>2018-07-16 02:00</dataTime>\\r\\n\\t\\t\\t\\t\\t\\r\\n                        <mangName>\\xeb\\x8f\\x84\\xec\\x8b\\x9c\\xeb\\x8c\\x80\\xea\\xb8\\xb0</mangName>\\r\\n                    \\r\\n\\t\\t\\t\\t\\t<so2Value>0.002</so2Value>\\r\\n\\t\\t\\t\\t\\t<coValue>0.4</coValue>\\r\\n\\t\\t\\t\\t\\t<o3Value>0.006</o3Value>\\r\\n\\t\\t\\t\\t\\t<no2Value>0.014</no2Value>\\r\\n\\t\\t\\t\\t\\t<pm10Value>21</pm10Value>\\r\\n\\t\\t\\t\\t\\t\\r\\n                        <pm10Value24>26</pm10Value24>\\r\\n                    \\r\\n\\t\\t\\t\\t\\t\\r\\n                        <pm25Value>13</pm25Value>\\r\\n                    \\r\\n                    \\r\\n                        <pm25Value24>16</pm25Value24>\\r\\n                    \\r\\n\\t\\t\\t\\t\\t<khaiValue>51</khaiValue>\\r\\n\\t\\t\\t\\t\\t<khaiGrade>2</khaiGrade>\\r\\n\\t\\t\\t\\t\\t<so2Grade>1</so2Grade>\\r\\n\\t\\t\\t\\t\\t<coGrade>1</coGrade>\\r\\n\\t\\t\\t\\t\\t<o3Grade>1</o3Grade>\\r\\n\\t\\t\\t\\t\\t<no2Grade>1</no2Grade>\\r\\n\\t\\t\\t\\t\\t<pm10Grade>1</pm10Grade>\\r\\n\\t\\t\\t\\t\\t\\r\\n                        <pm25Grade>2</pm25Grade>\\r\\n                    \\r\\n                    \\r\\n                        <pm10Grade1h>1</pm10Grade1h>\\r\\n                        <pm25Grade1h>1</pm25Grade1h>\\r\\n                    \\r\\n\\t\\t\\t\\t</item>\\r\\n\\t\\t\\t\\r\\n\\t\\t\\t\\t<item>\\r\\n\\t\\t\\t\\t\\t<dataTime>2018-07-16 01:00</dataTime>\\r\\n\\t\\t\\t\\t\\t\\r\\n                        <mangName>\\xeb\\x8f\\x84\\xec\\x8b\\x9c\\xeb\\x8c\\x80\\xea\\xb8\\xb0</mangName>\\r\\n                    \\r\\n\\t\\t\\t\\t\\t<so2Value>0.003</so2Value>\\r\\n\\t\\t\\t\\t\\t<coValue>0.4</coValue>\\r\\n\\t\\t\\t\\t\\t<o3Value>0.006</o3Value>\\r\\n\\t\\t\\t\\t\\t<no2Value>0.018</no2Value>\\r\\n\\t\\t\\t\\t\\t<pm10Value>27</pm10Value>\\r\\n\\t\\t\\t\\t\\t\\r\\n                        <pm10Value24>25</pm10Value24>\\r\\n                    \\r\\n\\t\\t\\t\\t\\t\\r\\n                        <pm25Value>11</pm25Value>\\r\\n                    \\r\\n                    \\r\\n                        <pm25Value24>16</pm25Value24>\\r\\n                    \\r\\n\\t\\t\\t\\t\\t<khaiValue>51</khaiValue>\\r\\n\\t\\t\\t\\t\\t<khaiGrade>2</khaiGrade>\\r\\n\\t\\t\\t\\t\\t<so2Grade>1</so2Grade>\\r\\n\\t\\t\\t\\t\\t<coGrade>1</coGrade>\\r\\n\\t\\t\\t\\t\\t<o3Grade>1</o3Grade>\\r\\n\\t\\t\\t\\t\\t<no2Grade>1</no2Grade>\\r\\n\\t\\t\\t\\t\\t<pm10Grade>1</pm10Grade>\\r\\n\\t\\t\\t\\t\\t\\r\\n                        <pm25Grade>2</pm25Grade>\\r\\n                    \\r\\n                    \\r\\n                        <pm10Grade1h>1</pm10Grade1h>\\r\\n                        <pm25Grade1h>1</pm25Grade1h>\\r\\n                    \\r\\n\\t\\t\\t\\t</item>\\r\\n\\t\\t\\t\\r\\n\\t\\t</items>\\r\\n\\t\\t\\t<numOfRows>10</numOfRows>\\r\\n\\t\\t\\t<pageNo>1</pageNo>\\r\\n\\t\\t\\t<totalCount>23</totalCount>\\r\\n\\t</body>\\r\\n</response>\\r\\n'"
      ]
     },
     "execution_count": 35,
     "metadata": {},
     "output_type": "execute_result"
    }
   ],
   "source": [
    "resResult"
   ]
  },
  {
   "cell_type": "code",
   "execution_count": 36,
   "metadata": {},
   "outputs": [
    {
     "name": "stdout",
     "output_type": "stream",
     "text": [
      "<response>\n",
      "\t<header>\n",
      "\t\t<resultCode>00</resultCode>\n",
      "\t\t<resultMsg>NORMAL SERVICE.</resultMsg>\n",
      "\t</header>\n",
      "\t<body>\n",
      "\t\t<items>\n",
      "\t\t\t\n",
      "\t\t\t\t<item>\n",
      "\t\t\t\t\t<dataTime>2018-07-16 10:00</dataTime>\n",
      "\t\t\t\t\t\n",
      "                        <mangName>도시대기</mangName>\n",
      "                    \n",
      "\t\t\t\t\t<so2Value>0.003</so2Value>\n",
      "\t\t\t\t\t<coValue>0.5</coValue>\n",
      "\t\t\t\t\t<o3Value>0.009</o3Value>\n",
      "\t\t\t\t\t<no2Value>0.024</no2Value>\n",
      "\t\t\t\t\t<pm10Value>26</pm10Value>\n",
      "\t\t\t\t\t\n",
      "                        <pm10Value24>24</pm10Value24>\n",
      "                    \n",
      "\t\t\t\t\t\n",
      "                        <pm25Value>-</pm25Value>\n",
      "                    \n",
      "                    \n",
      "                        <pm25Value24>12</pm25Value24>\n",
      "                    \n",
      "\t\t\t\t\t<khaiValue>40</khaiValue>\n",
      "\t\t\t\t\t<khaiGrade>1</khaiGrade>\n",
      "\t\t\t\t\t<so2Grade>1</so2Grade>\n",
      "\t\t\t\t\t<coGrade>1</coGrade>\n",
      "\t\t\t\t\t<o3Grade>1</o3Grade>\n",
      "\t\t\t\t\t<no2Grade>1</no2Grade>\n",
      "\t\t\t\t\t<pm10Grade>1</pm10Grade>\n",
      "\t\t\t\t\t\n",
      "                        <pm25Grade>1</pm25Grade>\n",
      "                    \n",
      "                    \n",
      "                        <pm10Grade1h>1</pm10Grade1h>\n",
      "                        <pm25Grade1h/>\n",
      "                    \n",
      "\t\t\t\t</item>\n",
      "\t\t\t\n",
      "\t\t\t\t<item>\n",
      "\t\t\t\t\t<dataTime>2018-07-16 09:00</dataTime>\n",
      "\t\t\t\t\t\n",
      "                        <mangName>도시대기</mangName>\n",
      "                    \n",
      "\t\t\t\t\t<so2Value>0.003</so2Value>\n",
      "\t\t\t\t\t<coValue>0.5</coValue>\n",
      "\t\t\t\t\t<o3Value>0.007</o3Value>\n",
      "\t\t\t\t\t<no2Value>0.023</no2Value>\n",
      "\t\t\t\t\t<pm10Value>35</pm10Value>\n",
      "\t\t\t\t\t\n",
      "                        <pm10Value24>23</pm10Value24>\n",
      "                    \n",
      "\t\t\t\t\t\n",
      "                        <pm25Value>11</pm25Value>\n",
      "                    \n",
      "                    \n",
      "                        <pm25Value24>12</pm25Value24>\n",
      "                    \n",
      "\t\t\t\t\t<khaiValue>40</khaiValue>\n",
      "\t\t\t\t\t<khaiGrade>1</khaiGrade>\n",
      "\t\t\t\t\t<so2Grade>1</so2Grade>\n",
      "\t\t\t\t\t<coGrade>1</coGrade>\n",
      "\t\t\t\t\t<o3Grade>1</o3Grade>\n",
      "\t\t\t\t\t<no2Grade>1</no2Grade>\n",
      "\t\t\t\t\t<pm10Grade>1</pm10Grade>\n",
      "\t\t\t\t\t\n",
      "                        <pm25Grade>1</pm25Grade>\n",
      "                    \n",
      "                    \n",
      "                        <pm10Grade1h>2</pm10Grade1h>\n",
      "                        <pm25Grade1h>1</pm25Grade1h>\n",
      "                    \n",
      "\t\t\t\t</item>\n",
      "\t\t\t\n",
      "\t\t\t\t<item>\n",
      "\t\t\t\t\t<dataTime>2018-07-16 08:00</dataTime>\n",
      "\t\t\t\t\t\n",
      "                        <mangName>도시대기</mangName>\n",
      "                    \n",
      "\t\t\t\t\t<so2Value>0.003</so2Value>\n",
      "\t\t\t\t\t<coValue>0.5</coValue>\n",
      "\t\t\t\t\t<o3Value>0.004</o3Value>\n",
      "\t\t\t\t\t<no2Value>0.019</no2Value>\n",
      "\t\t\t\t\t<pm10Value>23</pm10Value>\n",
      "\t\t\t\t\t\n",
      "                        <pm10Value24>20</pm10Value24>\n",
      "                    \n",
      "\t\t\t\t\t\n",
      "                        <pm25Value>12</pm25Value>\n",
      "                    \n",
      "                    \n",
      "                        <pm25Value24>12</pm25Value24>\n",
      "                    \n",
      "\t\t\t\t\t<khaiValue>40</khaiValue>\n",
      "\t\t\t\t\t<khaiGrade>1</khaiGrade>\n",
      "\t\t\t\t\t<so2Grade>1</so2Grade>\n",
      "\t\t\t\t\t<coGrade>1</coGrade>\n",
      "\t\t\t\t\t<o3Grade>1</o3Grade>\n",
      "\t\t\t\t\t<no2Grade>1</no2Grade>\n",
      "\t\t\t\t\t<pm10Grade>1</pm10Grade>\n",
      "\t\t\t\t\t\n",
      "                        <pm25Grade>1</pm25Grade>\n",
      "                    \n",
      "                    \n",
      "                        <pm10Grade1h>1</pm10Grade1h>\n",
      "                        <pm25Grade1h>1</pm25Grade1h>\n",
      "                    \n",
      "\t\t\t\t</item>\n",
      "\t\t\t\n",
      "\t\t\t\t<item>\n",
      "\t\t\t\t\t<dataTime>2018-07-16 07:00</dataTime>\n",
      "\t\t\t\t\t\n",
      "                        <mangName>도시대기</mangName>\n",
      "                    \n",
      "\t\t\t\t\t<so2Value>0.002</so2Value>\n",
      "\t\t\t\t\t<coValue>0.6</coValue>\n",
      "\t\t\t\t\t<o3Value>0.003</o3Value>\n",
      "\t\t\t\t\t<no2Value>0.016</no2Value>\n",
      "\t\t\t\t\t<pm10Value>17</pm10Value>\n",
      "\t\t\t\t\t\n",
      "                        <pm10Value24>20</pm10Value24>\n",
      "                    \n",
      "\t\t\t\t\t\n",
      "                        <pm25Value>14</pm25Value>\n",
      "                    \n",
      "                    \n",
      "                        <pm25Value24>12</pm25Value24>\n",
      "                    \n",
      "\t\t\t\t\t<khaiValue>40</khaiValue>\n",
      "\t\t\t\t\t<khaiGrade>1</khaiGrade>\n",
      "\t\t\t\t\t<so2Grade>1</so2Grade>\n",
      "\t\t\t\t\t<coGrade>1</coGrade>\n",
      "\t\t\t\t\t<o3Grade>1</o3Grade>\n",
      "\t\t\t\t\t<no2Grade>1</no2Grade>\n",
      "\t\t\t\t\t<pm10Grade>1</pm10Grade>\n",
      "\t\t\t\t\t\n",
      "                        <pm25Grade>1</pm25Grade>\n",
      "                    \n",
      "                    \n",
      "                        <pm10Grade1h>1</pm10Grade1h>\n",
      "                        <pm25Grade1h>1</pm25Grade1h>\n",
      "                    \n",
      "\t\t\t\t</item>\n",
      "\t\t\t\n",
      "\t\t\t\t<item>\n",
      "\t\t\t\t\t<dataTime>2018-07-16 06:00</dataTime>\n",
      "\t\t\t\t\t\n",
      "                        <mangName>도시대기</mangName>\n",
      "                    \n",
      "\t\t\t\t\t<so2Value>0.002</so2Value>\n",
      "\t\t\t\t\t<coValue>0.4</coValue>\n",
      "\t\t\t\t\t<o3Value>0.003</o3Value>\n",
      "\t\t\t\t\t<no2Value>0.013</no2Value>\n",
      "\t\t\t\t\t<pm10Value>22</pm10Value>\n",
      "\t\t\t\t\t\n",
      "                        <pm10Value24>21</pm10Value24>\n",
      "                    \n",
      "\t\t\t\t\t\n",
      "                        <pm25Value>8</pm25Value>\n",
      "                    \n",
      "                    \n",
      "                        <pm25Value24>13</pm25Value24>\n",
      "                    \n",
      "\t\t\t\t\t<khaiValue>43</khaiValue>\n",
      "\t\t\t\t\t<khaiGrade>1</khaiGrade>\n",
      "\t\t\t\t\t<so2Grade>1</so2Grade>\n",
      "\t\t\t\t\t<coGrade>1</coGrade>\n",
      "\t\t\t\t\t<o3Grade>1</o3Grade>\n",
      "\t\t\t\t\t<no2Grade>1</no2Grade>\n",
      "\t\t\t\t\t<pm10Grade>1</pm10Grade>\n",
      "\t\t\t\t\t\n",
      "                        <pm25Grade>1</pm25Grade>\n",
      "                    \n",
      "                    \n",
      "                        <pm10Grade1h>1</pm10Grade1h>\n",
      "                        <pm25Grade1h>1</pm25Grade1h>\n",
      "                    \n",
      "\t\t\t\t</item>\n",
      "\t\t\t\n",
      "\t\t\t\t<item>\n",
      "\t\t\t\t\t<dataTime>2018-07-16 05:00</dataTime>\n",
      "\t\t\t\t\t\n",
      "                        <mangName>도시대기</mangName>\n",
      "                    \n",
      "\t\t\t\t\t<so2Value>0.002</so2Value>\n",
      "\t\t\t\t\t<coValue>0.4</coValue>\n",
      "\t\t\t\t\t<o3Value>0.006</o3Value>\n",
      "\t\t\t\t\t<no2Value>0.008</no2Value>\n",
      "\t\t\t\t\t<pm10Value>19</pm10Value>\n",
      "\t\t\t\t\t\n",
      "                        <pm10Value24>21</pm10Value24>\n",
      "                    \n",
      "\t\t\t\t\t\n",
      "                        <pm25Value>11</pm25Value>\n",
      "                    \n",
      "                    \n",
      "                        <pm25Value24>14</pm25Value24>\n",
      "                    \n",
      "\t\t\t\t\t<khaiValue>47</khaiValue>\n",
      "\t\t\t\t\t<khaiGrade>1</khaiGrade>\n",
      "\t\t\t\t\t<so2Grade>1</so2Grade>\n",
      "\t\t\t\t\t<coGrade>1</coGrade>\n",
      "\t\t\t\t\t<o3Grade>1</o3Grade>\n",
      "\t\t\t\t\t<no2Grade>1</no2Grade>\n",
      "\t\t\t\t\t<pm10Grade>1</pm10Grade>\n",
      "\t\t\t\t\t\n",
      "                        <pm25Grade>1</pm25Grade>\n",
      "                    \n",
      "                    \n",
      "                        <pm10Grade1h>1</pm10Grade1h>\n",
      "                        <pm25Grade1h>1</pm25Grade1h>\n",
      "                    \n",
      "\t\t\t\t</item>\n",
      "\t\t\t\n",
      "\t\t\t\t<item>\n",
      "\t\t\t\t\t<dataTime>2018-07-16 04:00</dataTime>\n",
      "\t\t\t\t\t\n",
      "                        <mangName>도시대기</mangName>\n",
      "                    \n",
      "\t\t\t\t\t<so2Value>0.002</so2Value>\n",
      "\t\t\t\t\t<coValue>0.4</coValue>\n",
      "\t\t\t\t\t<o3Value>0.007</o3Value>\n",
      "\t\t\t\t\t<no2Value>0.009</no2Value>\n",
      "\t\t\t\t\t<pm10Value>16</pm10Value>\n",
      "\t\t\t\t\t\n",
      "                        <pm10Value24>23</pm10Value24>\n",
      "                    \n",
      "\t\t\t\t\t\n",
      "                        <pm25Value>10</pm25Value>\n",
      "                    \n",
      "                    \n",
      "                        <pm25Value24>14</pm25Value24>\n",
      "                    \n",
      "\t\t\t\t\t<khaiValue>47</khaiValue>\n",
      "\t\t\t\t\t<khaiGrade>1</khaiGrade>\n",
      "\t\t\t\t\t<so2Grade>1</so2Grade>\n",
      "\t\t\t\t\t<coGrade>1</coGrade>\n",
      "\t\t\t\t\t<o3Grade>1</o3Grade>\n",
      "\t\t\t\t\t<no2Grade>1</no2Grade>\n",
      "\t\t\t\t\t<pm10Grade>1</pm10Grade>\n",
      "\t\t\t\t\t\n",
      "                        <pm25Grade>1</pm25Grade>\n",
      "                    \n",
      "                    \n",
      "                        <pm10Grade1h>1</pm10Grade1h>\n",
      "                        <pm25Grade1h>1</pm25Grade1h>\n",
      "                    \n",
      "\t\t\t\t</item>\n",
      "\t\t\t\n",
      "\t\t\t\t<item>\n",
      "\t\t\t\t\t<dataTime>2018-07-16 03:00</dataTime>\n",
      "\t\t\t\t\t\n",
      "                        <mangName>도시대기</mangName>\n",
      "                    \n",
      "\t\t\t\t\t<so2Value>0.003</so2Value>\n",
      "\t\t\t\t\t<coValue>0.4</coValue>\n",
      "\t\t\t\t\t<o3Value>0.006</o3Value>\n",
      "\t\t\t\t\t<no2Value>0.012</no2Value>\n",
      "\t\t\t\t\t<pm10Value>23</pm10Value>\n",
      "\t\t\t\t\t\n",
      "                        <pm10Value24>25</pm10Value24>\n",
      "                    \n",
      "\t\t\t\t\t\n",
      "                        <pm25Value>15</pm25Value>\n",
      "                    \n",
      "                    \n",
      "                        <pm25Value24>16</pm25Value24>\n",
      "                    \n",
      "\t\t\t\t\t<khaiValue>51</khaiValue>\n",
      "\t\t\t\t\t<khaiGrade>2</khaiGrade>\n",
      "\t\t\t\t\t<so2Grade>1</so2Grade>\n",
      "\t\t\t\t\t<coGrade>1</coGrade>\n",
      "\t\t\t\t\t<o3Grade>1</o3Grade>\n",
      "\t\t\t\t\t<no2Grade>1</no2Grade>\n",
      "\t\t\t\t\t<pm10Grade>1</pm10Grade>\n",
      "\t\t\t\t\t\n",
      "                        <pm25Grade>2</pm25Grade>\n",
      "                    \n",
      "                    \n",
      "                        <pm10Grade1h>1</pm10Grade1h>\n",
      "                        <pm25Grade1h>1</pm25Grade1h>\n",
      "                    \n",
      "\t\t\t\t</item>\n",
      "\t\t\t\n",
      "\t\t\t\t<item>\n",
      "\t\t\t\t\t<dataTime>2018-07-16 02:00</dataTime>\n",
      "\t\t\t\t\t\n",
      "                        <mangName>도시대기</mangName>\n",
      "                    \n",
      "\t\t\t\t\t<so2Value>0.002</so2Value>\n",
      "\t\t\t\t\t<coValue>0.4</coValue>\n",
      "\t\t\t\t\t<o3Value>0.006</o3Value>\n",
      "\t\t\t\t\t<no2Value>0.014</no2Value>\n",
      "\t\t\t\t\t<pm10Value>21</pm10Value>\n",
      "\t\t\t\t\t\n",
      "                        <pm10Value24>26</pm10Value24>\n",
      "                    \n",
      "\t\t\t\t\t\n",
      "                        <pm25Value>13</pm25Value>\n",
      "                    \n",
      "                    \n",
      "                        <pm25Value24>16</pm25Value24>\n",
      "                    \n",
      "\t\t\t\t\t<khaiValue>51</khaiValue>\n",
      "\t\t\t\t\t<khaiGrade>2</khaiGrade>\n",
      "\t\t\t\t\t<so2Grade>1</so2Grade>\n",
      "\t\t\t\t\t<coGrade>1</coGrade>\n",
      "\t\t\t\t\t<o3Grade>1</o3Grade>\n",
      "\t\t\t\t\t<no2Grade>1</no2Grade>\n",
      "\t\t\t\t\t<pm10Grade>1</pm10Grade>\n",
      "\t\t\t\t\t\n",
      "                        <pm25Grade>2</pm25Grade>\n",
      "                    \n",
      "                    \n",
      "                        <pm10Grade1h>1</pm10Grade1h>\n",
      "                        <pm25Grade1h>1</pm25Grade1h>\n",
      "                    \n",
      "\t\t\t\t</item>\n",
      "\t\t\t\n",
      "\t\t\t\t<item>\n",
      "\t\t\t\t\t<dataTime>2018-07-16 01:00</dataTime>\n",
      "\t\t\t\t\t\n",
      "                        <mangName>도시대기</mangName>\n",
      "                    \n",
      "\t\t\t\t\t<so2Value>0.003</so2Value>\n",
      "\t\t\t\t\t<coValue>0.4</coValue>\n",
      "\t\t\t\t\t<o3Value>0.006</o3Value>\n",
      "\t\t\t\t\t<no2Value>0.018</no2Value>\n",
      "\t\t\t\t\t<pm10Value>27</pm10Value>\n",
      "\t\t\t\t\t\n",
      "                        <pm10Value24>25</pm10Value24>\n",
      "                    \n",
      "\t\t\t\t\t\n",
      "                        <pm25Value>11</pm25Value>\n",
      "                    \n",
      "                    \n",
      "                        <pm25Value24>16</pm25Value24>\n",
      "                    \n",
      "\t\t\t\t\t<khaiValue>51</khaiValue>\n",
      "\t\t\t\t\t<khaiGrade>2</khaiGrade>\n",
      "\t\t\t\t\t<so2Grade>1</so2Grade>\n",
      "\t\t\t\t\t<coGrade>1</coGrade>\n",
      "\t\t\t\t\t<o3Grade>1</o3Grade>\n",
      "\t\t\t\t\t<no2Grade>1</no2Grade>\n",
      "\t\t\t\t\t<pm10Grade>1</pm10Grade>\n",
      "\t\t\t\t\t\n",
      "                        <pm25Grade>2</pm25Grade>\n",
      "                    \n",
      "                    \n",
      "                        <pm10Grade1h>1</pm10Grade1h>\n",
      "                        <pm25Grade1h>1</pm25Grade1h>\n",
      "                    \n",
      "\t\t\t\t</item>\n",
      "\t\t\t\n",
      "\t\t</items>\n",
      "\t\t\t<numOfRows>10</numOfRows>\n",
      "\t\t\t<pageNo>1</pageNo>\n",
      "\t\t\t<totalCount>23</totalCount>\n",
      "\t</body>\n",
      "</response>\n"
     ]
    }
   ],
   "source": [
    "etree.dump(xml)"
   ]
  },
  {
   "cell_type": "code",
   "execution_count": 37,
   "metadata": {},
   "outputs": [],
   "source": [
    "xmlTree = etree.ElementTree(xml)\n",
    "root = xmlTree.getroot()"
   ]
  },
  {
   "cell_type": "code",
   "execution_count": 38,
   "metadata": {},
   "outputs": [
    {
     "name": "stdout",
     "output_type": "stream",
     "text": [
      "10\n"
     ]
    }
   ],
   "source": [
    "# 루트에서 현재 밑에 있는 item으로 시작하는 모든 경우의 수를 가져온다.\n",
    "\n",
    "items = root.findall(\".//item\")  # 요청 변수에 10개를 요청하였으므로 10개가 나올 것이다.\n",
    "print(len(items))"
   ]
  },
  {
   "cell_type": "code",
   "execution_count": 39,
   "metadata": {},
   "outputs": [
    {
     "name": "stdout",
     "output_type": "stream",
     "text": [
      "20\n",
      "dataTime 2018-07-16 10:00\n",
      "mangName 도시대기\n",
      "so2Value 0.003\n",
      "coValue 0.5\n",
      "o3Value 0.009\n",
      "no2Value 0.024\n",
      "pm10Value 26\n",
      "pm10Value24 24\n",
      "pm25Value -\n",
      "pm25Value24 12\n",
      "khaiValue 40\n",
      "khaiGrade 1\n",
      "so2Grade 1\n",
      "coGrade 1\n",
      "o3Grade 1\n",
      "no2Grade 1\n",
      "pm10Grade 1\n",
      "pm25Grade 1\n",
      "pm10Grade1h 1\n",
      "pm25Grade1h None\n",
      "20\n",
      "dataTime 2018-07-16 09:00\n",
      "mangName 도시대기\n",
      "so2Value 0.003\n",
      "coValue 0.5\n",
      "o3Value 0.007\n",
      "no2Value 0.023\n",
      "pm10Value 35\n",
      "pm10Value24 23\n",
      "pm25Value 11\n",
      "pm25Value24 12\n",
      "khaiValue 40\n",
      "khaiGrade 1\n",
      "so2Grade 1\n",
      "coGrade 1\n",
      "o3Grade 1\n",
      "no2Grade 1\n",
      "pm10Grade 1\n",
      "pm25Grade 1\n",
      "pm10Grade1h 2\n",
      "pm25Grade1h 1\n",
      "20\n",
      "dataTime 2018-07-16 08:00\n",
      "mangName 도시대기\n",
      "so2Value 0.003\n",
      "coValue 0.5\n",
      "o3Value 0.004\n",
      "no2Value 0.019\n",
      "pm10Value 23\n",
      "pm10Value24 20\n",
      "pm25Value 12\n",
      "pm25Value24 12\n",
      "khaiValue 40\n",
      "khaiGrade 1\n",
      "so2Grade 1\n",
      "coGrade 1\n",
      "o3Grade 1\n",
      "no2Grade 1\n",
      "pm10Grade 1\n",
      "pm25Grade 1\n",
      "pm10Grade1h 1\n",
      "pm25Grade1h 1\n",
      "20\n",
      "dataTime 2018-07-16 07:00\n",
      "mangName 도시대기\n",
      "so2Value 0.002\n",
      "coValue 0.6\n",
      "o3Value 0.003\n",
      "no2Value 0.016\n",
      "pm10Value 17\n",
      "pm10Value24 20\n",
      "pm25Value 14\n",
      "pm25Value24 12\n",
      "khaiValue 40\n",
      "khaiGrade 1\n",
      "so2Grade 1\n",
      "coGrade 1\n",
      "o3Grade 1\n",
      "no2Grade 1\n",
      "pm10Grade 1\n",
      "pm25Grade 1\n",
      "pm10Grade1h 1\n",
      "pm25Grade1h 1\n",
      "20\n",
      "dataTime 2018-07-16 06:00\n",
      "mangName 도시대기\n",
      "so2Value 0.002\n",
      "coValue 0.4\n",
      "o3Value 0.003\n",
      "no2Value 0.013\n",
      "pm10Value 22\n",
      "pm10Value24 21\n",
      "pm25Value 8\n",
      "pm25Value24 13\n",
      "khaiValue 43\n",
      "khaiGrade 1\n",
      "so2Grade 1\n",
      "coGrade 1\n",
      "o3Grade 1\n",
      "no2Grade 1\n",
      "pm10Grade 1\n",
      "pm25Grade 1\n",
      "pm10Grade1h 1\n",
      "pm25Grade1h 1\n",
      "20\n",
      "dataTime 2018-07-16 05:00\n",
      "mangName 도시대기\n",
      "so2Value 0.002\n",
      "coValue 0.4\n",
      "o3Value 0.006\n",
      "no2Value 0.008\n",
      "pm10Value 19\n",
      "pm10Value24 21\n",
      "pm25Value 11\n",
      "pm25Value24 14\n",
      "khaiValue 47\n",
      "khaiGrade 1\n",
      "so2Grade 1\n",
      "coGrade 1\n",
      "o3Grade 1\n",
      "no2Grade 1\n",
      "pm10Grade 1\n",
      "pm25Grade 1\n",
      "pm10Grade1h 1\n",
      "pm25Grade1h 1\n",
      "20\n",
      "dataTime 2018-07-16 04:00\n",
      "mangName 도시대기\n",
      "so2Value 0.002\n",
      "coValue 0.4\n",
      "o3Value 0.007\n",
      "no2Value 0.009\n",
      "pm10Value 16\n",
      "pm10Value24 23\n",
      "pm25Value 10\n",
      "pm25Value24 14\n",
      "khaiValue 47\n",
      "khaiGrade 1\n",
      "so2Grade 1\n",
      "coGrade 1\n",
      "o3Grade 1\n",
      "no2Grade 1\n",
      "pm10Grade 1\n",
      "pm25Grade 1\n",
      "pm10Grade1h 1\n",
      "pm25Grade1h 1\n",
      "20\n",
      "dataTime 2018-07-16 03:00\n",
      "mangName 도시대기\n",
      "so2Value 0.003\n",
      "coValue 0.4\n",
      "o3Value 0.006\n",
      "no2Value 0.012\n",
      "pm10Value 23\n",
      "pm10Value24 25\n",
      "pm25Value 15\n",
      "pm25Value24 16\n",
      "khaiValue 51\n",
      "khaiGrade 2\n",
      "so2Grade 1\n",
      "coGrade 1\n",
      "o3Grade 1\n",
      "no2Grade 1\n",
      "pm10Grade 1\n",
      "pm25Grade 2\n",
      "pm10Grade1h 1\n",
      "pm25Grade1h 1\n",
      "20\n",
      "dataTime 2018-07-16 02:00\n",
      "mangName 도시대기\n",
      "so2Value 0.002\n",
      "coValue 0.4\n",
      "o3Value 0.006\n",
      "no2Value 0.014\n",
      "pm10Value 21\n",
      "pm10Value24 26\n",
      "pm25Value 13\n",
      "pm25Value24 16\n",
      "khaiValue 51\n",
      "khaiGrade 2\n",
      "so2Grade 1\n",
      "coGrade 1\n",
      "o3Grade 1\n",
      "no2Grade 1\n",
      "pm10Grade 1\n",
      "pm25Grade 2\n",
      "pm10Grade1h 1\n",
      "pm25Grade1h 1\n",
      "20\n",
      "dataTime 2018-07-16 01:00\n",
      "mangName 도시대기\n",
      "so2Value 0.003\n",
      "coValue 0.4\n",
      "o3Value 0.006\n",
      "no2Value 0.018\n",
      "pm10Value 27\n",
      "pm10Value24 25\n",
      "pm25Value 11\n",
      "pm25Value24 16\n",
      "khaiValue 51\n",
      "khaiGrade 2\n",
      "so2Grade 1\n",
      "coGrade 1\n",
      "o3Grade 1\n",
      "no2Grade 1\n",
      "pm10Grade 1\n",
      "pm25Grade 2\n",
      "pm10Grade1h 1\n",
      "pm25Grade1h 1\n"
     ]
    }
   ],
   "source": [
    "for item in items:\n",
    "    print(len(item)) # 각자의 item에는 20개씩 데이터들이 들어있다.\n",
    "    for i in range(len(item)) :\n",
    "        print(item[i].tag, item[i].text) # 키값을 가져올 때는 tag, 값을 가져올 때는 text 라고 해야 한다."
   ]
  },
  {
   "cell_type": "code",
   "execution_count": 40,
   "metadata": {},
   "outputs": [
    {
     "name": "stdout",
     "output_type": "stream",
     "text": [
      "pm10Value 26\n",
      "pm10Value 35\n",
      "pm10Value 23\n",
      "pm10Value 17\n",
      "pm10Value 22\n",
      "pm10Value 19\n",
      "pm10Value 16\n",
      "pm10Value 23\n",
      "pm10Value 21\n",
      "pm10Value 27\n"
     ]
    }
   ],
   "source": [
    "# pm10Value만 가져오는 경우\n",
    "\n",
    "pm10List = root.findall(\".//item/pm10Value\") # 상대 경로 찾을 때는 . 찍고 시작하는 것이 좋다.\n",
    "\n",
    "for row in pm10List :\n",
    "    print(row.tag, row.text)"
   ]
  },
  {
   "cell_type": "markdown",
   "metadata": {},
   "source": [
    "### CSS Selector 이용"
   ]
  },
  {
   "cell_type": "code",
   "execution_count": 43,
   "metadata": {},
   "outputs": [
    {
     "name": "stdout",
     "output_type": "stream",
     "text": [
      "Collecting cssselect\n",
      "  Downloading https://files.pythonhosted.org/packages/7b/44/25b7283e50585f0b4156960691d951b05d061abf4a714078393e51929b30/cssselect-1.0.3-py2.py3-none-any.whl\n",
      "Installing collected packages: cssselect\n",
      "Successfully installed cssselect-1.0.3\n",
      "pm10Value 26\n",
      "pm10Value 35\n",
      "pm10Value 23\n",
      "pm10Value 17\n",
      "pm10Value 22\n",
      "pm10Value 19\n",
      "pm10Value 16\n",
      "pm10Value 23\n",
      "pm10Value 21\n",
      "pm10Value 27\n"
     ]
    }
   ],
   "source": [
    "# cssselector가 깔려있지 않은 경우 아래의 방법으로 install 해준다.\n",
    "# !pip install cssselect\n",
    "\n",
    "xml.cssselect(\"item\") # 태그 이름만 가져오면 끝이다.\n",
    "\n",
    "# 태그로 찾았을 때와 똑같은 결과가 나와야 한다.\n",
    "for row in pm10List :\n",
    "    print(row.tag, row.text)"
   ]
  },
  {
   "cell_type": "code",
   "execution_count": 45,
   "metadata": {},
   "outputs": [
    {
     "name": "stdout",
     "output_type": "stream",
     "text": [
      "pm10Value 26\n",
      "pm10Value 35\n",
      "pm10Value 23\n",
      "pm10Value 17\n",
      "pm10Value 22\n",
      "pm10Value 19\n",
      "pm10Value 16\n",
      "pm10Value 23\n",
      "pm10Value 21\n",
      "pm10Value 27\n"
     ]
    }
   ],
   "source": [
    "# pm10Value만 가져오는 경우\n",
    "\n",
    "pm10ValueList = xml.cssselect(\"item > pm10Value\")\n",
    "for row in pm10List :\n",
    "    print(row.tag, row.text)"
   ]
  },
  {
   "cell_type": "code",
   "execution_count": null,
   "metadata": {},
   "outputs": [],
   "source": []
  },
  {
   "cell_type": "code",
   "execution_count": null,
   "metadata": {},
   "outputs": [],
   "source": []
  },
  {
   "cell_type": "code",
   "execution_count": null,
   "metadata": {},
   "outputs": [],
   "source": []
  }
 ],
 "metadata": {
  "kernelspec": {
   "display_name": "Python 3",
   "language": "python",
   "name": "python3"
  },
  "language_info": {
   "codemirror_mode": {
    "name": "ipython",
    "version": 3
   },
   "file_extension": ".py",
   "mimetype": "text/x-python",
   "name": "python",
   "nbconvert_exporter": "python",
   "pygments_lexer": "ipython3",
   "version": "3.6.4"
  }
 },
 "nbformat": 4,
 "nbformat_minor": 2
}
