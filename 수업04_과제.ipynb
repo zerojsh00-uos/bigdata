{
 "cells": [
  {
   "cell_type": "markdown",
   "metadata": {},
   "source": [
    "# 4일차 과제"
   ]
  },
  {
   "cell_type": "markdown",
   "metadata": {},
   "source": [
    "---\n",
    "## 파란색 하이라이트 문제"
   ]
  },
  {
   "cell_type": "markdown",
   "metadata": {},
   "source": [
    "## Exercise 82 : Taxi Fare"
   ]
  },
  {
   "cell_type": "code",
   "execution_count": 1,
   "metadata": {},
   "outputs": [
    {
     "name": "stdout",
     "output_type": "stream",
     "text": [
      "Enter the distance : 150\n",
      "결과 >>> Total fare : 6.5\n"
     ]
    }
   ],
   "source": [
    "# function\n",
    "def taxi_fare() :\n",
    "\n",
    "    distance = int(input('Enter the distance : '))\n",
    "    base_distance = 140\n",
    "\n",
    "    if distance <= 140 :\n",
    "        over_distance = 0\n",
    "    else :\n",
    "        over_distance = distance - base_distance\n",
    "\n",
    "    fare = 4 + 0.25*over_distance\n",
    "    \n",
    "    return fare\n",
    "\n",
    "# main\n",
    "fare = taxi_fare()\n",
    "print('결과 >>> Total fare : {}'.format(fare))"
   ]
  },
  {
   "cell_type": "markdown",
   "metadata": {},
   "source": [
    "## Exercise 84 : Median of Three Values "
   ]
  },
  {
   "cell_type": "code",
   "execution_count": 8,
   "metadata": {},
   "outputs": [
    {
     "name": "stdout",
     "output_type": "stream",
     "text": [
      "The first number : 123\n",
      "The second number : 321\n",
      "The third number : 659\n",
      "결과 >>> The median value is : 321\n"
     ]
    }
   ],
   "source": [
    "# function\n",
    "def median_value(n1, n2, n3) :\n",
    "    num_list = []\n",
    "    num_list.append(n1)\n",
    "    num_list.append(n2)\n",
    "    num_list.append(n3)\n",
    "    num_list.sort()\n",
    "    return num_list[1]\n",
    "\n",
    "# main\n",
    "\n",
    "num1 = int(input('The first number : '))\n",
    "num2 = int(input('The second number : '))\n",
    "num3 = int(input('The third number : '))\n",
    "median = median_value(num1, num2, num3)\n",
    "\n",
    "print('결과 >>> The median value is : {}'.format(median))"
   ]
  },
  {
   "cell_type": "markdown",
   "metadata": {},
   "source": [
    "## Exercise 85 : Convert an Integer to its Ordinal Number"
   ]
  },
  {
   "cell_type": "code",
   "execution_count": 10,
   "metadata": {},
   "outputs": [
    {
     "name": "stdout",
     "output_type": "stream",
     "text": [
      "결과 >>> (int 1 => ordinal number 1st)\n",
      "결과 >>> (int 2 => ordinal number 2nd)\n",
      "결과 >>> (int 3 => ordinal number 3rd)\n",
      "결과 >>> (int 4 => ordinal number 4th)\n",
      "결과 >>> (int 5 => ordinal number 5th)\n",
      "결과 >>> (int 6 => ordinal number 6th)\n",
      "결과 >>> (int 7 => ordinal number 7th)\n",
      "결과 >>> (int 8 => ordinal number 8th)\n",
      "결과 >>> (int 9 => ordinal number 9th)\n",
      "결과 >>> (int 10 => ordinal number 10th)\n",
      "결과 >>> (int 11 => ordinal number 11th)\n",
      "결과 >>> (int 12 => ordinal number 12th)\n"
     ]
    }
   ],
   "source": [
    "# function\n",
    "\n",
    "def int_to_ord(num) :\n",
    "    if num not in range(1,13) :\n",
    "        return \" \"\n",
    "    if num == 1 :\n",
    "        suffix = 'st'\n",
    "    elif num == 2 :\n",
    "        suffix = 'nd'\n",
    "    elif num == 3 :\n",
    "        suffix = 'rd'\n",
    "    else :\n",
    "        suffix = 'th'\n",
    "    result = str(num)+suffix\n",
    "    return result\n",
    "\n",
    "# main\n",
    "\n",
    "for number in range(1,13) :\n",
    "    ordinal_number = int_to_ord(number)\n",
    "    print('결과 >>> (int {} => ordinal number {})'.format(number, ordinal_number))"
   ]
  },
  {
   "cell_type": "markdown",
   "metadata": {},
   "source": [
    "## Exercise 88 : Is it a Valid Triangle?"
   ]
  },
  {
   "cell_type": "code",
   "execution_count": 12,
   "metadata": {},
   "outputs": [
    {
     "name": "stdout",
     "output_type": "stream",
     "text": [
      "Input the first length : 100\n",
      "Input the second length : 2\n",
      "Input the third length : 3\n",
      "결과 >>> 삼각형이 될 수 없다.\n"
     ]
    }
   ],
   "source": [
    "# function\n",
    "\n",
    "def check_triangle(n1, n2, n3) :\n",
    "    if n1 >= n2 + n3 or n2 >= n1 + n3 or n3 >= n1 + n2 :\n",
    "        return False\n",
    "    else :\n",
    "        return True\n",
    "\n",
    "# main\n",
    "\n",
    "f_len = int(input('Input the first length : '))\n",
    "s_len = int(input('Input the second length : '))\n",
    "t_len = int(input('Input the third length : '))\n",
    "\n",
    "if check_triangle(f_len, s_len, t_len) :\n",
    "    print('결과 >>> 삼각형이 될 수 있다.')\n",
    "else :\n",
    "    print('결과 >>> 삼각형이 될 수 없다.')"
   ]
  },
  {
   "cell_type": "markdown",
   "metadata": {},
   "source": [
    "## Exercise 92 : Is a Number Prime ?"
   ]
  },
  {
   "cell_type": "code",
   "execution_count": 18,
   "metadata": {},
   "outputs": [
    {
     "name": "stdout",
     "output_type": "stream",
     "text": [
      "Enter a number53\n",
      "53 is a prime number\n"
     ]
    }
   ],
   "source": [
    "# function\n",
    "def is_prime(num) :\n",
    "    for i in range(2, num) :\n",
    "        if num % i == 0 :\n",
    "            return False\n",
    "            break\n",
    "    else : \n",
    "        return True\n",
    "\n",
    "\n",
    "# main\n",
    "number = int(input('Enter a number'))\n",
    "if is_prime(number) :\n",
    "    print('{} is a prime number'.format(number))\n",
    "else :\n",
    "    print('{} is a not prime number'.format(number))\n"
   ]
  },
  {
   "cell_type": "markdown",
   "metadata": {},
   "source": [
    "---\n",
    "## 빨간색 하이라이트 문제\n"
   ]
  },
  {
   "cell_type": "markdown",
   "metadata": {},
   "source": [
    "## Exercise 86 : The Twelve Days of Christmas"
   ]
  },
  {
   "cell_type": "code",
   "execution_count": 46,
   "metadata": {},
   "outputs": [],
   "source": [
    "lyric = \"\"\"On the first day of Christmas my true love sent to me\n",
    "A partridge in a pear tree\n",
    "\n",
    "On the second day of Christmas my true love sent to me\n",
    "Two turtle doves\n",
    "And a partridge in a pear tree\n",
    "\n",
    "On the third day of Christmas my true love sent to me\n",
    "Three French hens, two turtle doves\n",
    "And a partridge in a pear tree\n",
    "\n",
    "On the fourth day of Christmas my true love sent to me\n",
    "Four calling birds, three French hens, two turtle doves\n",
    "And a partridge in a pear tree\n",
    "\n",
    "On the fifth day of Christmas my true love sent to me\n",
    "Five gold rings, four calling birds, three French hens, two turtle doves\n",
    "And a partridge in a pear tree\n",
    "\n",
    "On the sixth day of Christmas my true love sent to me\n",
    "Six geese a laying, five gold rings, four calling birds\n",
    "Three French hens, two turtle doves\n",
    "And a partridge in a pear tree\n",
    "\n",
    "On the seventh day of Christmas my true love sent to me\n",
    "Seven swans a swimming, six geese a laying, five gold rings\n",
    "Four calling birds, three French hens, two turtle doves\n",
    "And a partridge in a pear tree\n",
    "\n",
    "On the eighth day of Christmas my true love sent to me\n",
    "Eight maids a milking, seven swans a swimming, six geese a laying\n",
    "Five gold rings, four calling birds, three French hens, two turtle doves\n",
    "And a partridge in a pear tree\n",
    "\n",
    "On the ninth day of Christmas my true love sent to me\n",
    "Nine drummers drumming\n",
    "On the tenth day of Christmas my true love sent to me\n",
    "Ten pipers piping\n",
    "\n",
    "Nine drummers drumming, ten pipers piping\n",
    "Drumming, piping, drumming, piping\n",
    "Eight maids a milking, seven swans a swimming, six geese a laying\n",
    "Five gold rings, four calling birds, three French hens, two turtle doves\n",
    "And a partridge in a pear tree\n",
    "\n",
    "On the eleventh day of Christmas my true love sent to me\n",
    "Eleven ladies dancing, ten pipers piping, nine drummers drumming\n",
    "Eight maids a milking, seven swans a swimming, six geese a laying\n",
    "Five gold rings, four calling birds, three French hens, two turtle doves\n",
    "And a partridge in a pear tree\n",
    "\n",
    "On the twelfth day of Christmas my true love sent to me\n",
    "Twelve Lords a leaping, eleven ladies dancing, ten pipers piping\n",
    "Nine, drummers drumming, eight maids a milking\n",
    "Seven swans a swimming, six geese a laying\n",
    "And five gold rings, four calling birds, three French hens, two turtle doves\n",
    "And a partridge in a pear tree, and a partridge in a pear tree\"\"\""
   ]
  },
  {
   "cell_type": "code",
   "execution_count": 60,
   "metadata": {},
   "outputs": [
    {
     "name": "stdout",
     "output_type": "stream",
     "text": [
      "1~12 중 노래 부를 절 : 12\n",
      "On the twelfth day of Christmas my true love sent to me\n",
      "Twelve Lords a leaping, eleven ladies dancing, ten pipers piping\n",
      "Nine, drummers drumming, eight maids a milking\n",
      "Seven swans a swimming, six geese a laying\n",
      "And five gold rings, four calling birds, three French hens, two turtle doves\n",
      "And a partridge in a pear tree, and a partridge in a pear tree\n",
      "\n",
      "\n",
      "전체 소절 한번씩 부르기\n",
      "On the first day of Christmas my true love sent to me\n",
      "A partridge in a pear tree\n",
      "\n",
      "On the second day of Christmas my true love sent to me\n",
      "Two turtle doves\n",
      "And a partridge in a pear tree\n",
      "\n",
      "On the third day of Christmas my true love sent to me\n",
      "Three French hens, two turtle doves\n",
      "And a partridge in a pear tree\n",
      "\n",
      "On the fourth day of Christmas my true love sent to me\n",
      "Four calling birds, three French hens, two turtle doves\n",
      "And a partridge in a pear tree\n",
      "\n",
      "On the fifth day of Christmas my true love sent to me\n",
      "Five gold rings, four calling birds, three French hens, two turtle doves\n",
      "And a partridge in a pear tree\n",
      "\n",
      "On the sixth day of Christmas my true love sent to me\n",
      "Six geese a laying, five gold rings, four calling birds\n",
      "Three French hens, two turtle doves\n",
      "And a partridge in a pear tree\n",
      "\n",
      "On the seventh day of Christmas my true love sent to me\n",
      "Seven swans a swimming, six geese a laying, five gold rings\n",
      "Four calling birds, three French hens, two turtle doves\n",
      "And a partridge in a pear tree\n",
      "\n",
      "On the eighth day of Christmas my true love sent to me\n",
      "Eight maids a milking, seven swans a swimming, six geese a laying\n",
      "Five gold rings, four calling birds, three French hens, two turtle doves\n",
      "And a partridge in a pear tree\n",
      "\n",
      "On the ninth day of Christmas my true love sent to me\n",
      "Nine drummers drumming\n",
      "On the tenth day of Christmas my true love sent to me\n",
      "Ten pipers piping\n",
      "\n",
      "Nine drummers drumming, ten pipers piping\n",
      "Drumming, piping, drumming, piping\n",
      "Eight maids a milking, seven swans a swimming, six geese a laying\n",
      "Five gold rings, four calling birds, three French hens, two turtle doves\n",
      "And a partridge in a pear tree\n",
      "\n",
      "On the eleventh day of Christmas my true love sent to me\n",
      "Eleven ladies dancing, ten pipers piping, nine drummers drumming\n",
      "Eight maids a milking, seven swans a swimming, six geese a laying\n",
      "Five gold rings, four calling birds, three French hens, two turtle doves\n",
      "And a partridge in a pear tree\n",
      "\n",
      "On the twelfth day of Christmas my true love sent to me\n",
      "Twelve Lords a leaping, eleven ladies dancing, ten pipers piping\n",
      "Nine, drummers drumming, eight maids a milking\n",
      "Seven swans a swimming, six geese a laying\n",
      "And five gold rings, four calling birds, three French hens, two turtle doves\n",
      "And a partridge in a pear tree, and a partridge in a pear tree\n",
      "\n"
     ]
    }
   ],
   "source": [
    "# function\n",
    "def select_verse(verse_num) :\n",
    "    global verse_list\n",
    "    for line in verse_list[verse_num] :\n",
    "        print(line)\n",
    "    print()\n",
    "\n",
    "# 가사 처리\n",
    "tmp_verse_list = lyric.split(\"\\n\")\n",
    "verse_list = []\n",
    "\n",
    "for i in range(len(tmp_verse_list)) :\n",
    "    if i== 0 : \n",
    "        tmp = []\n",
    "    if tmp_verse_list[i] == '' :\n",
    "        verse_list.append(tmp)\n",
    "        tmp = []\n",
    "        continue\n",
    "    tmp.append(tmp_verse_list[i])\n",
    "    if i == len(tmp_verse_list)-1 :\n",
    "        verse_list.append(tmp)\n",
    "\n",
    "\n",
    "# main\n",
    "verse_num = int(input('1~12 중 노래 부를 절 : ')) -1\n",
    "select_verse(verse_num)\n",
    "print()\n",
    "print('전체 소절 한번씩 부르기')\n",
    "for n in range(0,12) :\n",
    "    select_verse(n)"
   ]
  }
 ],
 "metadata": {
  "kernelspec": {
   "display_name": "Python 3",
   "language": "python",
   "name": "python3"
  },
  "language_info": {
   "codemirror_mode": {
    "name": "ipython",
    "version": 3
   },
   "file_extension": ".py",
   "mimetype": "text/x-python",
   "name": "python",
   "nbconvert_exporter": "python",
   "pygments_lexer": "ipython3",
   "version": "3.6.4"
  }
 },
 "nbformat": 4,
 "nbformat_minor": 2
}
