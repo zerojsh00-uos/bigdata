{
 "cells": [
  {
   "cell_type": "markdown",
   "metadata": {},
   "source": [
    "# SQLite"
   ]
  },
  {
   "cell_type": "markdown",
   "metadata": {},
   "source": [
    "## 메모리에서 수행"
   ]
  },
  {
   "cell_type": "code",
   "execution_count": 2,
   "metadata": {},
   "outputs": [],
   "source": [
    "import sqlite3"
   ]
  },
  {
   "cell_type": "code",
   "execution_count": 2,
   "metadata": {
    "scrolled": true
   },
   "outputs": [
    {
     "data": {
      "text/plain": [
       "['Binary',\n",
       " 'Cache',\n",
       " 'Connection',\n",
       " 'Cursor',\n",
       " 'DataError',\n",
       " 'DatabaseError',\n",
       " 'Date',\n",
       " 'DateFromTicks',\n",
       " 'Error',\n",
       " 'IntegrityError',\n",
       " 'InterfaceError',\n",
       " 'InternalError',\n",
       " 'NotSupportedError',\n",
       " 'OperationalError',\n",
       " 'OptimizedUnicode',\n",
       " 'PARSE_COLNAMES',\n",
       " 'PARSE_DECLTYPES',\n",
       " 'PrepareProtocol',\n",
       " 'ProgrammingError',\n",
       " 'Row',\n",
       " 'SQLITE_ALTER_TABLE',\n",
       " 'SQLITE_ANALYZE',\n",
       " 'SQLITE_ATTACH',\n",
       " 'SQLITE_CREATE_INDEX',\n",
       " 'SQLITE_CREATE_TABLE',\n",
       " 'SQLITE_CREATE_TEMP_INDEX',\n",
       " 'SQLITE_CREATE_TEMP_TABLE',\n",
       " 'SQLITE_CREATE_TEMP_TRIGGER',\n",
       " 'SQLITE_CREATE_TEMP_VIEW',\n",
       " 'SQLITE_CREATE_TRIGGER',\n",
       " 'SQLITE_CREATE_VIEW',\n",
       " 'SQLITE_DELETE',\n",
       " 'SQLITE_DENY',\n",
       " 'SQLITE_DETACH',\n",
       " 'SQLITE_DROP_INDEX',\n",
       " 'SQLITE_DROP_TABLE',\n",
       " 'SQLITE_DROP_TEMP_INDEX',\n",
       " 'SQLITE_DROP_TEMP_TABLE',\n",
       " 'SQLITE_DROP_TEMP_TRIGGER',\n",
       " 'SQLITE_DROP_TEMP_VIEW',\n",
       " 'SQLITE_DROP_TRIGGER',\n",
       " 'SQLITE_DROP_VIEW',\n",
       " 'SQLITE_IGNORE',\n",
       " 'SQLITE_INSERT',\n",
       " 'SQLITE_OK',\n",
       " 'SQLITE_PRAGMA',\n",
       " 'SQLITE_READ',\n",
       " 'SQLITE_REINDEX',\n",
       " 'SQLITE_SELECT',\n",
       " 'SQLITE_TRANSACTION',\n",
       " 'SQLITE_UPDATE',\n",
       " 'Statement',\n",
       " 'Time',\n",
       " 'TimeFromTicks',\n",
       " 'Timestamp',\n",
       " 'TimestampFromTicks',\n",
       " 'Warning',\n",
       " '__builtins__',\n",
       " '__cached__',\n",
       " '__doc__',\n",
       " '__file__',\n",
       " '__loader__',\n",
       " '__name__',\n",
       " '__package__',\n",
       " '__path__',\n",
       " '__spec__',\n",
       " 'adapt',\n",
       " 'adapters',\n",
       " 'apilevel',\n",
       " 'collections',\n",
       " 'complete_statement',\n",
       " 'connect',\n",
       " 'converters',\n",
       " 'datetime',\n",
       " 'dbapi2',\n",
       " 'enable_callback_tracebacks',\n",
       " 'enable_shared_cache',\n",
       " 'paramstyle',\n",
       " 'register_adapter',\n",
       " 'register_converter',\n",
       " 'sqlite_version',\n",
       " 'sqlite_version_info',\n",
       " 'threadsafety',\n",
       " 'time',\n",
       " 'version',\n",
       " 'version_info']"
      ]
     },
     "execution_count": 2,
     "metadata": {},
     "output_type": "execute_result"
    }
   ],
   "source": [
    "dir(sqlite3)"
   ]
  },
  {
   "cell_type": "code",
   "execution_count": 14,
   "metadata": {},
   "outputs": [
    {
     "name": "stdout",
     "output_type": "stream",
     "text": [
      "2.6.0\n",
      "(2, 6, 0)\n"
     ]
    }
   ],
   "source": [
    "print(sqlite3.version)\n",
    "print(sqlite3.version_info)"
   ]
  },
  {
   "cell_type": "code",
   "execution_count": 15,
   "metadata": {},
   "outputs": [
    {
     "name": "stdout",
     "output_type": "stream",
     "text": [
      "3.22.0\n",
      "(3, 22, 0)\n"
     ]
    }
   ],
   "source": [
    "print(sqlite3.sqlite_version)\n",
    "print(sqlite3.sqlite_version_info)"
   ]
  },
  {
   "cell_type": "code",
   "execution_count": 20,
   "metadata": {},
   "outputs": [],
   "source": [
    "# RAM으로 데이터베이스를 연결\n",
    "\n",
    "conn = sqlite3.connect(\":memory:\")"
   ]
  },
  {
   "cell_type": "code",
   "execution_count": 21,
   "metadata": {},
   "outputs": [
    {
     "data": {
      "text/plain": [
       "<sqlite3.Connection at 0x10a2121f0>"
      ]
     },
     "execution_count": 21,
     "metadata": {},
     "output_type": "execute_result"
    }
   ],
   "source": [
    "conn"
   ]
  },
  {
   "cell_type": "code",
   "execution_count": 22,
   "metadata": {},
   "outputs": [],
   "source": [
    "# Cursor 생성\n",
    "\n",
    "cur = conn.cursor()"
   ]
  },
  {
   "cell_type": "code",
   "execution_count": 23,
   "metadata": {},
   "outputs": [
    {
     "data": {
      "text/plain": [
       "sqlite3.Cursor"
      ]
     },
     "execution_count": 23,
     "metadata": {},
     "output_type": "execute_result"
    }
   ],
   "source": [
    "type(cur)"
   ]
  },
  {
   "cell_type": "code",
   "execution_count": 24,
   "metadata": {
    "scrolled": true
   },
   "outputs": [
    {
     "data": {
      "text/plain": [
       "['__class__',\n",
       " '__delattr__',\n",
       " '__dir__',\n",
       " '__doc__',\n",
       " '__eq__',\n",
       " '__format__',\n",
       " '__ge__',\n",
       " '__getattribute__',\n",
       " '__gt__',\n",
       " '__hash__',\n",
       " '__init__',\n",
       " '__init_subclass__',\n",
       " '__iter__',\n",
       " '__le__',\n",
       " '__lt__',\n",
       " '__ne__',\n",
       " '__new__',\n",
       " '__next__',\n",
       " '__reduce__',\n",
       " '__reduce_ex__',\n",
       " '__repr__',\n",
       " '__setattr__',\n",
       " '__sizeof__',\n",
       " '__str__',\n",
       " '__subclasshook__',\n",
       " 'arraysize',\n",
       " 'close',\n",
       " 'connection',\n",
       " 'description',\n",
       " 'execute',\n",
       " 'executemany',\n",
       " 'executescript',\n",
       " 'fetchall',\n",
       " 'fetchmany',\n",
       " 'fetchone',\n",
       " 'lastrowid',\n",
       " 'row_factory',\n",
       " 'rowcount',\n",
       " 'setinputsizes',\n",
       " 'setoutputsize']"
      ]
     },
     "execution_count": 24,
     "metadata": {},
     "output_type": "execute_result"
    }
   ],
   "source": [
    "dir(cur)"
   ]
  },
  {
   "cell_type": "code",
   "execution_count": 27,
   "metadata": {},
   "outputs": [
    {
     "ename": "OperationalError",
     "evalue": "table people already exists",
     "output_type": "error",
     "traceback": [
      "\u001b[0;31m---------------------------------------------------------------------------\u001b[0m",
      "\u001b[0;31mOperationalError\u001b[0m                          Traceback (most recent call last)",
      "\u001b[0;32m<ipython-input-27-b7358e56f9af>\u001b[0m in \u001b[0;36m<module>\u001b[0;34m()\u001b[0m\n\u001b[1;32m      1\u001b[0m \u001b[0;31m# cursor를 이용하여 테이블을 만드는 방법\u001b[0m\u001b[0;34m\u001b[0m\u001b[0;34m\u001b[0m\u001b[0m\n\u001b[1;32m      2\u001b[0m \u001b[0;34m\u001b[0m\u001b[0m\n\u001b[0;32m----> 3\u001b[0;31m \u001b[0mcur\u001b[0m\u001b[0;34m.\u001b[0m\u001b[0mexecute\u001b[0m\u001b[0;34m(\u001b[0m\u001b[0;34m'create table people (name_last, age)'\u001b[0m\u001b[0;34m)\u001b[0m  \u001b[0;31m# 데이터 타입은 아직 모름\u001b[0m\u001b[0;34m\u001b[0m\u001b[0m\n\u001b[0m",
      "\u001b[0;31mOperationalError\u001b[0m: table people already exists"
     ]
    }
   ],
   "source": [
    "# cursor를 이용하여 테이블을 만드는 방법\n",
    "\n",
    "cur.execute('create table people (name_last, age)')  # 데이터 타입은 아직 모름"
   ]
  },
  {
   "cell_type": "code",
   "execution_count": 29,
   "metadata": {},
   "outputs": [
    {
     "name": "stdout",
     "output_type": "stream",
     "text": [
      "Yeltsin\n",
      "72\n"
     ]
    }
   ],
   "source": [
    "who = \"Yeltsin\"\n",
    "print(who)\n",
    "\n",
    "age = 72\n",
    "print(age)"
   ]
  },
  {
   "cell_type": "code",
   "execution_count": 30,
   "metadata": {},
   "outputs": [
    {
     "data": {
      "text/plain": [
       "<sqlite3.Cursor at 0x10a365180>"
      ]
     },
     "execution_count": 30,
     "metadata": {},
     "output_type": "execute_result"
    }
   ],
   "source": [
    "# people 테이블에 값을 insert 하기\n",
    "\n",
    "cur.execute(\"insert into people values(?, ?)\", (who, age)) "
   ]
  },
  {
   "cell_type": "markdown",
   "metadata": {},
   "source": [
    "위와 같이 변수로 값을 집어넣을 수 있다."
   ]
  },
  {
   "cell_type": "code",
   "execution_count": 31,
   "metadata": {},
   "outputs": [
    {
     "data": {
      "text/plain": [
       "<sqlite3.Cursor at 0x10a365180>"
      ]
     },
     "execution_count": 31,
     "metadata": {},
     "output_type": "execute_result"
    }
   ],
   "source": [
    "cur.execute(\"select * from people where name_last = :who and age = :age\", {\"who\":who, \"age\":age})"
   ]
  },
  {
   "cell_type": "markdown",
   "metadata": {},
   "source": [
    "위와 같이 딕셔너리로 값을 집어넣을 수도 있다."
   ]
  },
  {
   "cell_type": "code",
   "execution_count": 33,
   "metadata": {},
   "outputs": [
    {
     "name": "stdout",
     "output_type": "stream",
     "text": [
      "None\n"
     ]
    }
   ],
   "source": [
    "# 테이블에서 데이터 가져오기\n",
    "\n",
    "print(cur.fetchone())"
   ]
  },
  {
   "cell_type": "markdown",
   "metadata": {},
   "source": [
    "fetch는 하나씩 데이터를 가져오기 때문에 while문과 함께 사용하곤 한다. *while cur.fetchone() != None*"
   ]
  },
  {
   "cell_type": "markdown",
   "metadata": {},
   "source": [
    "한번에 여러 문장을 실행하고 싶을 때는 executemany라는 함수를 사용할 수 있다."
   ]
  },
  {
   "cell_type": "code",
   "execution_count": 37,
   "metadata": {},
   "outputs": [],
   "source": [
    "# insert 문을 sql이라는 변수에 넣어준다.\n",
    "\n",
    "sql = \"insert into people values(?, ?)\"\n",
    "\n",
    "# 두 개의 question mark에 집어넣을 튜플을 데이터에 넣어준다.\n",
    "\n",
    "data = [(\"data01\",1), (\"data02\",2), (\"data03\",3)]"
   ]
  },
  {
   "cell_type": "code",
   "execution_count": 38,
   "metadata": {},
   "outputs": [
    {
     "data": {
      "text/plain": [
       "<sqlite3.Cursor at 0x10a365180>"
      ]
     },
     "execution_count": 38,
     "metadata": {},
     "output_type": "execute_result"
    }
   ],
   "source": [
    "cur.executemany(sql, data)"
   ]
  },
  {
   "cell_type": "code",
   "execution_count": 39,
   "metadata": {},
   "outputs": [
    {
     "data": {
      "text/plain": [
       "<sqlite3.Cursor at 0x10a365180>"
      ]
     },
     "execution_count": 39,
     "metadata": {},
     "output_type": "execute_result"
    }
   ],
   "source": [
    "cur.executescript(\n",
    "\"\"\"\n",
    "    create table person(\n",
    "        firs_name text primary key,\n",
    "        last_name text not null\n",
    "    );\n",
    "    \n",
    "    insert into person values('Simon', 'JEONG')\n",
    "\"\"\"\n",
    ")"
   ]
  },
  {
   "cell_type": "code",
   "execution_count": 40,
   "metadata": {},
   "outputs": [
    {
     "data": {
      "text/plain": [
       "<sqlite3.Cursor at 0x10a365180>"
      ]
     },
     "execution_count": 40,
     "metadata": {},
     "output_type": "execute_result"
    }
   ],
   "source": [
    "cur.execute(\"select * from person\") # select 문에는 script에 쓰지 말아라."
   ]
  },
  {
   "cell_type": "code",
   "execution_count": 41,
   "metadata": {},
   "outputs": [
    {
     "data": {
      "text/plain": [
       "[('Simon', 'JEONG')]"
      ]
     },
     "execution_count": 41,
     "metadata": {},
     "output_type": "execute_result"
    }
   ],
   "source": [
    "cur.fetchall()"
   ]
  },
  {
   "cell_type": "code",
   "execution_count": 44,
   "metadata": {},
   "outputs": [
    {
     "data": {
      "text/plain": [
       "[('Yeltsin', 72), ('data01', 1), ('data02', 2), ('data03', 3)]"
      ]
     },
     "execution_count": 44,
     "metadata": {},
     "output_type": "execute_result"
    }
   ],
   "source": [
    "cur.execute(\"select * from people\")\n",
    "cur.fetchall()"
   ]
  },
  {
   "cell_type": "code",
   "execution_count": 89,
   "metadata": {},
   "outputs": [],
   "source": [
    "conn.close()"
   ]
  },
  {
   "cell_type": "markdown",
   "metadata": {},
   "source": [
    "---"
   ]
  },
  {
   "cell_type": "markdown",
   "metadata": {},
   "source": [
    "## .db 파일을 만들어서 수행"
   ]
  },
  {
   "cell_type": "code",
   "execution_count": 3,
   "metadata": {
    "scrolled": true
   },
   "outputs": [],
   "source": [
    "import sqlite3\n",
    "\n",
    "# 주피터노트북이 떠있는 현재 경로에 test.db가 만들어진다.\n",
    "conn = sqlite3.connect(\"test.db\")"
   ]
  },
  {
   "cell_type": "code",
   "execution_count": 4,
   "metadata": {},
   "outputs": [
    {
     "data": {
      "text/plain": [
       "<sqlite3.Cursor at 0x112b65dc0>"
      ]
     },
     "execution_count": 4,
     "metadata": {},
     "output_type": "execute_result"
    }
   ],
   "source": [
    "conn.execute(\n",
    "\"\"\"\n",
    "    CREATE TABLE COMPANY(\n",
    "        ID INT PRIMARY KEY NOT NULL,\n",
    "        NAME TEXT NOT NULL,\n",
    "        AGE INT NOT NULL,\n",
    "        ADDRESS CHAR(50),\n",
    "        SALARY REAL\n",
    "    );\n",
    "\"\"\"\n",
    ")"
   ]
  },
  {
   "cell_type": "markdown",
   "metadata": {},
   "source": [
    "참고로 이렇게 만들어진 \"test.db\"를 DB browser for SQLite를 다운받아서 GUI로 관리할 수 있다."
   ]
  },
  {
   "cell_type": "code",
   "execution_count": 5,
   "metadata": {},
   "outputs": [
    {
     "name": "stdout",
     "output_type": "stream",
     "text": [
      "Records created successfully\n"
     ]
    }
   ],
   "source": [
    "# 다양한 방법으로 Insert 하기\n",
    "\n",
    "conn.execute(\"INSERT INTO COMPANY (ID, NAME, AGE, ADDRESS, SALARY) \\\n",
    "             VALUES ( 1, 'Simon', 27, 'Warrensburg MO', 20000.00);\")\n",
    "conn.execute(\"INSERT INTO COMPANY (ID, NAME, AGE, ADDRESS, SALARY) \\\n",
    "             VALUES (:ID, :NAME, :AGE, :ADDRESS, :SALARY)\", \n",
    "            {'ID':2, 'NAME':'Lucy', 'AGE':28, 'ADDRESS':'Kansas City MO', 'SALARY': 25000.00});\n",
    "\n",
    "data = [(3, 'James', 28, 'St.Louis', 18000.00),\n",
    "       (4, 'Erin', 24, 'Chicago', 17000.00)]\n",
    "    \n",
    "conn.executemany(\"INSERT INTO COMPANY (ID, NAME, AGE, ADDRESS, SALARY) \\\n",
    "                  VALUES(?, ?, ?, ?, ?)\", data);\n",
    "\n",
    "conn.executescript(\n",
    "\"\"\"\n",
    "    INSERT INTO COMPANY\n",
    "    VALUES(5, 'Darnell', 29, 'Warrensburg MO', 15000.00);\n",
    "    \n",
    "    INSERT INTO COMPANY\n",
    "    VALUES(6, 'Ali', 24, 'Buffallo NY', 22000.00);\n",
    "\"\"\"\n",
    ")\n",
    "\n",
    "conn.commit()\n",
    "print('Records created successfully')\n"
   ]
  },
  {
   "cell_type": "markdown",
   "metadata": {},
   "source": [
    "레코드를 작성해보면 DB Browser for SQLite에서 GUI로 확인해 볼 수 있다."
   ]
  },
  {
   "cell_type": "code",
   "execution_count": 6,
   "metadata": {},
   "outputs": [
    {
     "data": {
      "text/plain": [
       "sqlite3.Cursor"
      ]
     },
     "execution_count": 6,
     "metadata": {},
     "output_type": "execute_result"
    }
   ],
   "source": [
    "temp = conn.execute('SELECT * FROM COMPANY')\n",
    "type(temp)"
   ]
  },
  {
   "cell_type": "markdown",
   "metadata": {},
   "source": [
    "fetch 함수를 이용하지 않고도 row 단위에 있는 데이터들을 아래와 같이 확인해 볼 수 있다. 그렇지만 fetch처럼 각 단계들이 순차적으로 나타나고, 다시 실행하려면 다시 execute해주어야 한다."
   ]
  },
  {
   "cell_type": "code",
   "execution_count": 7,
   "metadata": {
    "scrolled": true
   },
   "outputs": [
    {
     "name": "stdout",
     "output_type": "stream",
     "text": [
      "데이터 : (1, 'Simon', 27, 'Warrensburg MO', 20000.0)      타입 : <class 'tuple'>\n",
      "데이터 : (2, 'Lucy', 28, 'Kansas City MO', 25000.0)      타입 : <class 'tuple'>\n",
      "데이터 : (3, 'James', 28, 'St.Louis', 18000.0)      타입 : <class 'tuple'>\n",
      "데이터 : (4, 'Erin', 24, 'Chicago', 17000.0)      타입 : <class 'tuple'>\n",
      "데이터 : (5, 'Darnell', 29, 'Warrensburg MO', 15000.0)      타입 : <class 'tuple'>\n",
      "데이터 : (6, 'Ali', 24, 'Buffallo NY', 22000.0)      타입 : <class 'tuple'>\n"
     ]
    }
   ],
   "source": [
    "for row in temp :\n",
    "    print('데이터 :',row, '     타입 :',type(row))"
   ]
  },
  {
   "cell_type": "code",
   "execution_count": 13,
   "metadata": {},
   "outputs": [
    {
     "name": "stdout",
     "output_type": "stream",
     "text": [
      "ID = 1\n",
      "NAME = Simon\n",
      "AGE = 27\n",
      "ADDRESS = Warrensburg MO\n",
      "SALARY = 99999.0\n",
      "\n",
      "ID = 2\n",
      "NAME = Lucy\n",
      "AGE = 28\n",
      "ADDRESS = Kansas City MO\n",
      "SALARY = 25000.0\n",
      "\n",
      "ID = 3\n",
      "NAME = James\n",
      "AGE = 28\n",
      "ADDRESS = St.Louis\n",
      "SALARY = 18000.0\n",
      "\n",
      "ID = 4\n",
      "NAME = Erin\n",
      "AGE = 24\n",
      "ADDRESS = Chicago\n",
      "SALARY = 17000.0\n",
      "\n",
      "ID = 5\n",
      "NAME = Darnell\n",
      "AGE = 29\n",
      "ADDRESS = Warrensburg MO\n",
      "SALARY = 15000.0\n",
      "\n",
      "ID = 6\n",
      "NAME = Ali\n",
      "AGE = 24\n",
      "ADDRESS = Buffallo NY\n",
      "SALARY = 22000.0\n",
      "\n"
     ]
    }
   ],
   "source": [
    "cid = 1\n",
    "conn.execute(\"UPDATE COMPANY SET SALARY = 99999.00 WHERE ID=:ID\", {'ID':cid})\n",
    "conn.commit()\n",
    "\n",
    "cursor = conn.execute(\"SELECT ID, NAME, AGE, ADDRESS, SALARY FROM COMPANY\")\n",
    "for row in cursor :\n",
    "    print(\"ID = {}\".format(row[0]))\n",
    "    print(\"NAME = {}\".format(row[1]))\n",
    "    print(\"AGE = {}\".format(row[2]))\n",
    "    print(\"ADDRESS = {}\".format(row[3]))\n",
    "    print(\"SALARY = {}\".format(row[4]))\n",
    "    print()"
   ]
  },
  {
   "cell_type": "code",
   "execution_count": 16,
   "metadata": {
    "scrolled": true
   },
   "outputs": [
    {
     "name": "stdout",
     "output_type": "stream",
     "text": [
      "ID = 1\n",
      "NAME = Simon\n",
      "AGE = 27\n",
      "ADDRESS = Warrensburg MO\n",
      "SALARY = 99999.0\n",
      "\n",
      "ID = 2\n",
      "NAME = Lucy\n",
      "AGE = 28\n",
      "ADDRESS = Kansas City MO\n",
      "SALARY = 12345.0\n",
      "\n",
      "ID = 3\n",
      "NAME = James\n",
      "AGE = 28\n",
      "ADDRESS = St.Louis\n",
      "SALARY = 18000.0\n",
      "\n",
      "ID = 4\n",
      "NAME = Erin\n",
      "AGE = 24\n",
      "ADDRESS = Chicago\n",
      "SALARY = 17000.0\n",
      "\n",
      "ID = 5\n",
      "NAME = Darnell\n",
      "AGE = 29\n",
      "ADDRESS = Warrensburg MO\n",
      "SALARY = 15000.0\n",
      "\n",
      "ID = 6\n",
      "NAME = Ali\n",
      "AGE = 24\n",
      "ADDRESS = Buffallo NY\n",
      "SALARY = 22000.0\n",
      "\n"
     ]
    }
   ],
   "source": [
    "cid = 2\n",
    "conn.execute(\"UPDATE COMPANY SET SALARY = 12345.00 WHERE ID=:ID\", {'ID':cid})\n",
    "conn.commit()\n",
    "\n",
    "cursor = conn.execute(\"SELECT ID, NAME, AGE, ADDRESS, SALARY FROM COMPANY\")\n",
    "for row in cursor :\n",
    "    print(\"ID = {}\".format(row[0]))\n",
    "    print(\"NAME = {}\".format(row[1]))\n",
    "    print(\"AGE = {}\".format(row[2]))\n",
    "    print(\"ADDRESS = {}\".format(row[3]))\n",
    "    print(\"SALARY = {}\".format(row[4]))\n",
    "    print()"
   ]
  },
  {
   "cell_type": "code",
   "execution_count": 17,
   "metadata": {
    "scrolled": true
   },
   "outputs": [
    {
     "name": "stdout",
     "output_type": "stream",
     "text": [
      "The table has been dropped successfully\n"
     ]
    }
   ],
   "source": [
    "# 테이블 삭제하기\n",
    "\n",
    "conn.execute(\"DROP TABLE COMPANY\")\n",
    "print(\"The table has been dropped successfully\")"
   ]
  },
  {
   "cell_type": "code",
   "execution_count": 18,
   "metadata": {},
   "outputs": [],
   "source": [
    "conn.close()"
   ]
  },
  {
   "cell_type": "markdown",
   "metadata": {},
   "source": [
    "---"
   ]
  },
  {
   "cell_type": "code",
   "execution_count": 19,
   "metadata": {},
   "outputs": [
    {
     "name": "stdout",
     "output_type": "stream",
     "text": [
      "SQLite Version  ('3.22.0',)\n"
     ]
    }
   ],
   "source": [
    "# sqlite에서도 try - except를 할 수 있다.\n",
    "\n",
    "import sqlite3 as sql\n",
    "\n",
    "con = None\n",
    "\n",
    "try :\n",
    "    con = sql.connect('test02.db')\n",
    "    cur = con.cursor()\n",
    "    cur.execute('SELECT SQLITE_VERSION()')\n",
    "    data = cur.fetchone()\n",
    "    print(\"SQLite Version \", data)\n",
    "\n",
    "except Exception as e :\n",
    "    print('Error : ', e)\n",
    "\n",
    "finally :\n",
    "    if con:\n",
    "        con.close()"
   ]
  },
  {
   "cell_type": "code",
   "execution_count": 30,
   "metadata": {},
   "outputs": [
    {
     "name": "stdout",
     "output_type": "stream",
     "text": [
      "The last ID of the inserted row is 4\n"
     ]
    }
   ],
   "source": [
    "con = sql.connect(':memory:')\n",
    "\n",
    "with con: # 자동으로 close를 해준다.\n",
    "    cur = con.cursor()\n",
    "    cur.execute('CREATE TABLE Friends (ID INTEGER PRIMARY KEY, NAME TEXT);')\n",
    "    cur.execute('INSERT INTO Friends(Name) VALUES (\"Tom\");')\n",
    "    cur.execute('INSERT INTO Friends(Name) VALUES (\"Rebecca\");')\n",
    "    cur.execute('INSERT INTO Friends(Name) VALUES (\"Jim\");')\n",
    "    cur.execute('INSERT INTO Friends(Name) VALUES (\"Robert\");')\n",
    "    \n",
    "    lid = cur.lastrowid\n",
    "    print(\"The last ID of the inserted row is\",lid)\n"
   ]
  },
  {
   "cell_type": "code",
   "execution_count": null,
   "metadata": {},
   "outputs": [],
   "source": []
  }
 ],
 "metadata": {
  "kernelspec": {
   "display_name": "Python 3",
   "language": "python",
   "name": "python3"
  },
  "language_info": {
   "codemirror_mode": {
    "name": "ipython",
    "version": 3
   },
   "file_extension": ".py",
   "mimetype": "text/x-python",
   "name": "python",
   "nbconvert_exporter": "python",
   "pygments_lexer": "ipython3",
   "version": "3.6.4"
  }
 },
 "nbformat": 4,
 "nbformat_minor": 2
}
