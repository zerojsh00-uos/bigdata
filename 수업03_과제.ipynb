{
 "cells": [
  {
   "cell_type": "markdown",
   "metadata": {},
   "source": [
    "# 3일차 과제"
   ]
  },
  {
   "cell_type": "markdown",
   "metadata": {},
   "source": [
    "## Exercise 61 : average"
   ]
  },
  {
   "cell_type": "code",
   "execution_count": 6,
   "metadata": {},
   "outputs": [
    {
     "name": "stdout",
     "output_type": "stream",
     "text": [
      "숫자를 입력 (0 입력 시 종료) :3\n",
      "숫자를 입력 (0 입력 시 종료) :5\n",
      "숫자를 입력 (0 입력 시 종료) :7\n",
      "숫자를 입력 (0 입력 시 종료) :9\n",
      "숫자를 입력 (0 입력 시 종료) :0\n",
      "결과 >>> 평균 값 : 6.0\n"
     ]
    }
   ],
   "source": [
    "num_list = []\n",
    "\n",
    "while(True) :\n",
    "    tmp_num = int(input('숫자를 입력 (0 입력 시 종료) :'))\n",
    "    if tmp_num == 0 :\n",
    "        try :\n",
    "            if len(num_list) == 0:\n",
    "                raise Exception\n",
    "        except :\n",
    "            print(\"첫 숫자가 0이 되면 안 된다. 다시 입력 !\")\n",
    "            continue\n",
    "        break\n",
    "    num_list.append(tmp_num)\n",
    "\n",
    "avg = sum(num_list) / len(num_list)\n",
    "print('결과 >>> 평균 값 :' , avg)                \n",
    "        "
   ]
  },
  {
   "cell_type": "markdown",
   "metadata": {},
   "source": [
    "## Exercise 63 : Temperature Conversion Table"
   ]
  },
  {
   "cell_type": "code",
   "execution_count": 7,
   "metadata": {},
   "outputs": [
    {
     "name": "stdout",
     "output_type": "stream",
     "text": [
      "Celsius Table\n",
      "------------------------------\n",
      " 0.00  1.00  2.00  3.00  4.00  5.00  6.00  7.00  8.00  9.00 \n",
      "10.00 11.00 12.00 13.00 14.00 15.00 16.00 17.00 18.00 19.00 \n",
      "20.00 21.00 22.00 23.00 24.00 25.00 26.00 27.00 28.00 29.00 \n",
      "30.00 31.00 32.00 33.00 34.00 35.00 36.00 37.00 38.00 39.00 \n",
      "40.00 41.00 42.00 43.00 44.00 45.00 46.00 47.00 48.00 49.00 \n",
      "50.00 51.00 52.00 53.00 54.00 55.00 56.00 57.00 58.00 59.00 \n",
      "60.00 61.00 62.00 63.00 64.00 65.00 66.00 67.00 68.00 69.00 \n",
      "70.00 71.00 72.00 73.00 74.00 75.00 76.00 77.00 78.00 79.00 \n",
      "80.00 81.00 82.00 83.00 84.00 85.00 86.00 87.00 88.00 89.00 \n",
      "90.00 91.00 92.00 93.00 94.00 95.00 96.00 97.00 98.00 99.00 \n",
      "\n",
      "Fahrenheit Table\n",
      "------------------------------\n",
      " 32.00  33.80  35.60  37.40  39.20  41.00  42.80  44.60  46.40  48.20 \n",
      " 50.00  51.80  53.60  55.40  57.20  59.00  60.80  62.60  64.40  66.20 \n",
      " 68.00  69.80  71.60  73.40  75.20  77.00  78.80  80.60  82.40  84.20 \n",
      " 86.00  87.80  89.60  91.40  93.20  95.00  96.80  98.60 100.40 102.20 \n",
      "104.00 105.80 107.60 109.40 111.20 113.00 114.80 116.60 118.40 120.20 \n",
      "122.00 123.80 125.60 127.40 129.20 131.00 132.80 134.60 136.40 138.20 \n",
      "140.00 141.80 143.60 145.40 147.20 149.00 150.80 152.60 154.40 156.20 \n",
      "158.00 159.80 161.60 163.40 165.20 167.00 168.80 170.60 172.40 174.20 \n",
      "176.00 177.80 179.60 181.40 183.20 185.00 186.80 188.60 190.40 192.20 \n",
      "194.00 195.80 197.60 199.40 201.20 203.00 204.80 206.60 208.40 210.20 \n"
     ]
    }
   ],
   "source": [
    "def CtoF(C) :\n",
    "    F = (9/5 * C) + 32\n",
    "    return F\n",
    "\n",
    "C_degree_list = list(range(0,101))\n",
    "\n",
    "# draw 10 X 10 Celsius table\n",
    "j = 0\n",
    "print('Celsius Table')\n",
    "print('-'*30)\n",
    "for i in range(100) :\n",
    "    j += 1\n",
    "    print('{:5.2f}'.format(C_degree_list[i]), end=' ')\n",
    "    if j %10 ==0 :\n",
    "        print()\n",
    "\n",
    "print()\n",
    "print('Fahrenheit Table')\n",
    "print('-'*30)\n",
    "for i in range(100) :\n",
    "    j += 1\n",
    "    print('{:6.2f}'.format(CtoF(C_degree_list[i])), end=' ')\n",
    "    if j %10 ==0 :\n",
    "        print()\n",
    "\n",
    " "
   ]
  },
  {
   "cell_type": "markdown",
   "metadata": {},
   "source": [
    "## Exercise 66 : Compute a Grade Point Average"
   ]
  },
  {
   "cell_type": "code",
   "execution_count": 8,
   "metadata": {},
   "outputs": [
    {
     "name": "stdout",
     "output_type": "stream",
     "text": [
      "Enter score (종료는 빈칸): A\n",
      "Enter score (종료는 빈칸): C+\n",
      "Enter score (종료는 빈칸): B\n",
      "Enter score (종료는 빈칸):  \n",
      "결과 >>> GPA : 3.1\n"
     ]
    }
   ],
   "source": [
    "grade = {'A+':4.0, 'A':4.0,'A-':3.7,'B+':3.3,'B':3.0,'B-':2.7,\n",
    "       'C+':2.3, 'C':2.0, 'C-':1.7,'D+':1.3,'D':1.0,'F':0\n",
    "      }\n",
    "\n",
    "score = []\n",
    "while(True):\n",
    "    try :\n",
    "        subject_score = input('Enter score (종료는 빈칸): ')\n",
    "        if subject_score == \" \" :\n",
    "            break\n",
    "        score.append(grade[subject_score])\n",
    "        \n",
    "    except : \n",
    "        print('오류 발생, 다시 입력')\n",
    "        continue\n",
    "\n",
    "print('결과 >>> GPA : {}'.format(sum(score)/len(score)))"
   ]
  },
  {
   "cell_type": "markdown",
   "metadata": {},
   "source": [
    "## Exercise 67 : Admission Price"
   ]
  },
  {
   "cell_type": "code",
   "execution_count": 9,
   "metadata": {},
   "outputs": [
    {
     "name": "stdout",
     "output_type": "stream",
     "text": [
      "Enter age (종료는 빈칸):10\n",
      "Enter age (종료는 빈칸):20\n",
      "Enter age (종료는 빈칸):30\n",
      "Enter age (종료는 빈칸):40\n",
      "Enter age (종료는 빈칸):50\n",
      "Enter age (종료는 빈칸):60\n",
      "Enter age (종료는 빈칸):70\n",
      "Enter age (종료는 빈칸): \n",
      "결과 >>> Total price : 280.00\n"
     ]
    }
   ],
   "source": [
    "def adm_price(age) :\n",
    "    if age <3 :\n",
    "        price = 0\n",
    "    elif age >= 3 and age <=12 :\n",
    "        price = 14\n",
    "    elif age >= 65 :\n",
    "        price = 18\n",
    "    else : \n",
    "        price = 23\n",
    "    \n",
    "group = []\n",
    "while(True) :\n",
    "    try :\n",
    "        person_age = input('Enter age (종료는 빈칸):')\n",
    "        if person_age == ' ' :\n",
    "            break\n",
    "        if int(person_age) < 0 :\n",
    "            raise Exception\n",
    "    except :\n",
    "        print('에러 ! 다시 !')\n",
    "        continue\n",
    "    group.append(float(person_age))\n",
    "\n",
    "print('결과 >>> Total price : {:.2f}'.format(sum(group)))"
   ]
  },
  {
   "cell_type": "markdown",
   "metadata": {},
   "source": [
    "## Exercise 72 : Is a String a Palindrome?"
   ]
  },
  {
   "cell_type": "code",
   "execution_count": 10,
   "metadata": {},
   "outputs": [
    {
     "name": "stdout",
     "output_type": "stream",
     "text": [
      "Enter a word : 소주만병만주소\n",
      "결과 >>> The word 소주만병만주소 is an example of palindrome\n"
     ]
    }
   ],
   "source": [
    "word = input('Enter a word : ')\n",
    "reveresed_word = word[::-1]\n",
    "\n",
    "for i in range(len(word)) :\n",
    "    if word[i] != reveresed_word[i] :\n",
    "        print('결과 >>> The word {} is not an example of palindrome'.format(word))\n",
    "        break\n",
    "else :\n",
    "    print('결과 >>> The word {} is an example of palindrome'.format(word))\n"
   ]
  },
  {
   "cell_type": "markdown",
   "metadata": {},
   "source": [
    "## Exercise 74 : Multiplication Table"
   ]
  },
  {
   "cell_type": "code",
   "execution_count": 11,
   "metadata": {},
   "outputs": [
    {
     "name": "stdout",
     "output_type": "stream",
     "text": [
      "        1    2    3    4    5    6    7    8    9   10 \n",
      "   1    1    2    3    4    5    6    7    8    9   10 \n",
      "   2    2    4    6    8   10   12   14   16   18   20 \n",
      "   3    3    6    9   12   15   18   21   24   27   30 \n",
      "   4    4    8   12   16   20   24   28   32   36   40 \n",
      "   5    5   10   15   20   25   30   35   40   45   50 \n",
      "   6    6   12   18   24   30   36   42   48   54   60 \n",
      "   7    7   14   21   28   35   42   49   56   63   70 \n",
      "   8    8   16   24   32   40   48   56   64   72   80 \n",
      "   9    9   18   27   36   45   54   63   72   81   90 \n",
      "  10   10   20   30   40   50   60   70   80   90  100 \n"
     ]
    }
   ],
   "source": [
    "col_name = list(range(0,11))\n",
    "row_name = list(range(1,11))\n",
    "\n",
    "for col_i in col_name :\n",
    "    if col_i == 0 :\n",
    "        print(\"    \", end=\" \")\n",
    "    else :\n",
    "        print(\"{:4d}\".format(col_i), end=\" \")\n",
    "else :\n",
    "    print()\n",
    "\n",
    "for row in row_name :\n",
    "    print('{:4d}'.format(row),end= \" \")\n",
    "    for j in range(1, 11) :\n",
    "        print('{:4d}'.format(row*j), end = \" \")\n",
    "    else :\n",
    "        print()"
   ]
  },
  {
   "cell_type": "markdown",
   "metadata": {},
   "source": [
    "## Exercise 75 : Greatest Common Divisor"
   ]
  },
  {
   "cell_type": "code",
   "execution_count": 9,
   "metadata": {},
   "outputs": [
    {
     "name": "stdout",
     "output_type": "stream",
     "text": [
      "Enter the first postivie integer : 15\n",
      "Enter the second postivie integer : 20\n",
      "결과 >>> GCD = 5\n"
     ]
    }
   ],
   "source": [
    "n = int(input('Enter the first postivie integer : '))\n",
    "m = int(input('Enter the second postivie integer : '))\n",
    "\n",
    "if n <= m :\n",
    "    d = n\n",
    "else :\n",
    "    d = m\n",
    "\n",
    "while m % d != 0 or n % d != 0 :\n",
    "    d -= 1\n",
    "\n",
    "print('결과 >>> GCD = {}'.format(d))"
   ]
  },
  {
   "cell_type": "markdown",
   "metadata": {},
   "source": [
    "## Exercise 77 : Binary to Decimal"
   ]
  },
  {
   "cell_type": "code",
   "execution_count": 12,
   "metadata": {},
   "outputs": [
    {
     "name": "stdout",
     "output_type": "stream",
     "text": [
      "변환하고자 하는 이진수를 입력하라.1101\n",
      "결과 >>>  13\n"
     ]
    }
   ],
   "source": [
    "import math\n",
    "\n",
    "binary_str = input('변환하고자 하는 이진수를 입력하라.')\n",
    "binary_num = binary_str[::-1]\n",
    "decimal = 0\n",
    "for e in range(len(binary_num)) :\n",
    "    decimal += int(int(binary_num[e])*math.pow(2,e))\n",
    "print('결과 >>> ', decimal)"
   ]
  },
  {
   "cell_type": "markdown",
   "metadata": {},
   "source": [
    "## Exercise 78 : Decimal to Binary"
   ]
  },
  {
   "cell_type": "code",
   "execution_count": 13,
   "metadata": {},
   "outputs": [
    {
     "name": "stdout",
     "output_type": "stream",
     "text": [
      "변환하고자 하는 10진수를 입력하라.123\n",
      "결과 >>>  1111011(2)\n"
     ]
    }
   ],
   "source": [
    "decimal_num = int(input('변환하고자 하는 10진수를 입력하라.'))\n",
    "result = str()\n",
    "\n",
    "q = decimal_num \n",
    "tmp_result = str()\n",
    "\n",
    "while q != 0 :\n",
    "    r = q%2 \n",
    "    tmp_result += str(r)\n",
    "    q = q // 2\n",
    "\n",
    "result = tmp_result[::-1]\n",
    "print('결과 >>> ', result+'(2)')"
   ]
  },
  {
   "cell_type": "code",
   "execution_count": null,
   "metadata": {},
   "outputs": [],
   "source": []
  }
 ],
 "metadata": {
  "kernelspec": {
   "display_name": "Python 3",
   "language": "python",
   "name": "python3"
  },
  "language_info": {
   "codemirror_mode": {
    "name": "ipython",
    "version": 3
   },
   "file_extension": ".py",
   "mimetype": "text/x-python",
   "name": "python",
   "nbconvert_exporter": "python",
   "pygments_lexer": "ipython3",
   "version": "3.6.4"
  }
 },
 "nbformat": 4,
 "nbformat_minor": 2
}
