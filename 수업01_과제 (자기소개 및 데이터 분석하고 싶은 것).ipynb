{
 "cells": [
  {
   "cell_type": "markdown",
   "metadata": {},
   "source": [
    "# 1일차 과제"
   ]
  },
  {
   "cell_type": "markdown",
   "metadata": {},
   "source": [
    "___"
   ]
  },
  {
   "cell_type": "markdown",
   "metadata": {},
   "source": [
    "## 자기소개"
   ]
  },
  {
   "cell_type": "markdown",
   "metadata": {},
   "source": [
    "- <b>이름</b> : 정상현\n",
    "- <b>생년월일</b> : 1992.10.28\n",
    "- <b>출신학교</b> : 서울시립대학교\n",
    "- <b>전공</b> : 경영학(주), 전자전기컴퓨터공학(부)"
   ]
  },
  {
   "cell_type": "markdown",
   "metadata": {},
   "source": [
    "---"
   ]
  },
  {
   "cell_type": "markdown",
   "metadata": {},
   "source": [
    "## 분석 또는 활용해보고 싶은 데이터"
   ]
  },
  {
   "cell_type": "markdown",
   "metadata": {},
   "source": [
    "### 1. 서울시 공공데이터\n",
    "\n",
    "- 학부 시절 <b>'서울시립대 경영정보 연구회'</b>에서 서울시 공공데이터를 분석하여 학술제에 참여한 적이 있습니다. 당시에는 서울시 대중교통 이용 고객 데이터를 활용하여 지하철 및 버스정류장의 광고 수익을 극대화하는 방안을 모색했습니다. 이러한 경험들을 토대로 <u>서울시 공공데이터</u>를 잘 활용할 수 있다면 공공서비스나 비즈니스를 개혁할만한 정보들을 발굴할 수 있을 것이라고 생각했습니다.\n",
    "\n",
    "### 2. 실시간 웹 데이터\n",
    "\n",
    "- 웹에는 실시간 리뷰와 같은 정보들이 많이 있습니다. 본 과정을 수료하기 전에 이러한 웹 데이터들을 수집하여 가공하는 것을 독학하려 하였지만, 기술적인 한계에 봉착하여 개인적으로 진행했던 프로젝트를 완성하지 못하였습니다. 따라서 본 과정을 통해 데이터 처리 기술을 익히고 <u>실시간 영화 리뷰와 같은 웹 데이터</u>들을 수집 및 활용함으로써 고객의 평을 분석해보고 싶습니다."
   ]
  },
  {
   "cell_type": "code",
   "execution_count": null,
   "metadata": {},
   "outputs": [],
   "source": []
  }
 ],
 "metadata": {
  "kernelspec": {
   "display_name": "Python 3",
   "language": "python",
   "name": "python3"
  },
  "language_info": {
   "codemirror_mode": {
    "name": "ipython",
    "version": 3
   },
   "file_extension": ".py",
   "mimetype": "text/x-python",
   "name": "python",
   "nbconvert_exporter": "python",
   "pygments_lexer": "ipython3",
   "version": "3.6.4"
  }
 },
 "nbformat": 4,
 "nbformat_minor": 2
}
