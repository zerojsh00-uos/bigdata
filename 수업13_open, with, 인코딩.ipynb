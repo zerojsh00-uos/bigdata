{
 "cells": [
  {
   "cell_type": "markdown",
   "metadata": {},
   "source": [
    "# Persistant"
   ]
  },
  {
   "cell_type": "markdown",
   "metadata": {},
   "source": [
    "## flat file "
   ]
  },
  {
   "cell_type": "markdown",
   "metadata": {},
   "source": [
    "data files that contain records with no structured relationships between the records and there's also no structure for indexing. (txt, csv, tsv)\n",
    "- text\n",
    "  - the new line character (\\n) is default EOL terminator.\n",
    "- binary\n",
    "  - no EOL character"
   ]
  },
  {
   "cell_type": "markdown",
   "metadata": {},
   "source": [
    "## open(file, mode='r', buffering=-1, encoding=None, errors=None, newline=None, closefd=True, opener=None) "
   ]
  },
  {
   "cell_type": "code",
   "execution_count": 2,
   "metadata": {},
   "outputs": [],
   "source": [
    "file = open('hello.txt', 'w')    \n",
    "file.write('Hello, world!')\n",
    "file.write('Hello, 문근영!')\n",
    "file.close()               "
   ]
  },
  {
   "cell_type": "markdown",
   "metadata": {},
   "source": [
    "#### 주의 ! 문제가 되지 않으려면 \\n을 꼭 써주어야 한다.\n",
    "\n",
    "File is either <u>a text or byte string</u> giving the name (and the path if the file isn't in the current working directory) of the file to be opened or an integer file descriptor of the file to be wrapped.\n",
    "\n",
    "- file : 경로를 안 쓰면 현재 폴더에 씀\n",
    "- mode : 읽기모드 / 쓰기모드 ...\n",
    "- error : 에러를 무시할 수도 있다.\n",
    "\n",
    "- 바이트 타입 : 컴퓨터를 위한 것, 통신과 저장을 위한 기본 포맷\n",
    "- 인코딩, 디코딩 : 사람을 위한 것, 바이트 타입을 인코딩, 디코딩하여 사용"
   ]
  },
  {
   "cell_type": "code",
   "execution_count": 3,
   "metadata": {
    "scrolled": true
   },
   "outputs": [
    {
     "name": "stdout",
     "output_type": "stream",
     "text": [
      "total 11328\r\n",
      "drwxrwxrwx  49 JEONG  staff     1568  7 18 16:17 \u001b[30m\u001b[43m.\u001b[m\u001b[m\r\n",
      "drwxr-xr-x  12 JEONG  staff      384  7 18 10:26 \u001b[34m..\u001b[m\u001b[m\r\n",
      "-rw-r--r--@  1 JEONG  staff     6148  7 10 11:23 .DS_Store\r\n",
      "drwxr-xr-x  16 JEONG  staff      512  7 18 02:15 \u001b[34m.git\u001b[m\u001b[m\r\n",
      "drwxr-xr-x  18 JEONG  staff      576  7 18 16:13 \u001b[34m.ipynb_checkpoints\u001b[m\u001b[m\r\n",
      "-rw-r--r--   1 JEONG  staff        0  7 12 10:25 0712.db\r\n",
      "-rw-r--r--   1 JEONG  staff       10  7  4 18:20 README.md\r\n",
      "-rw-r--r--   1 JEONG  staff    28672  7 12 10:29 SQLalchemystudy.db\r\n",
      "-rw-r--r--@  1 JEONG  staff     1871  7 10 23:31 SQLite_dump_test.dump\r\n",
      "-rw-r--r--   1 JEONG  staff    28878  7  9 01:11 Week01 _ Python Note.ipynb\r\n",
      "drwxr-xr-x   3 JEONG  staff       96  7  6 16:15 \u001b[34m__pycache__\u001b[m\u001b[m\r\n",
      "-rw-r--r--   1 JEONG  staff        0  7 10 16:28 alchemytest.db\r\n",
      "-rw-r--r--   1 JEONG  staff       30  7 18 16:18 hello.txt\r\n",
      "-rw-r--r--@  1 JEONG  staff       51  7  6 16:12 importtest.py\r\n",
      "-rw-r--r--@  1 JEONG  staff       28  7 17 18:03 moon.txt\r\n",
      "-rw-r--r--@  1 JEONG  staff    56276  7 17 16:18 requests.ipynb\r\n",
      "-rw-r--r--@  1 JEONG  staff    28672  7 11 00:00 sqlalchemy_test.db\r\n",
      "-rw-r--r--   1 JEONG  staff    12288  7  9 15:54 test.db\r\n",
      "-rw-r--r--@  1 JEONG  staff       67  7 13 14:17 test.json\r\n",
      "-rw-r--r--   1 JEONG  staff        0  7  9 16:40 test02.db\r\n",
      "-rw-r--r--@  1 JEONG  staff    40960  7 10 11:24 만들 덤프 파일.db\r\n",
      "-rw-r--r--   1 JEONG  staff     2604  7  2 17:40 수업01_과제 (자기소개 및 데이터 분석하고 싶은 것).ipynb\r\n",
      "-rw-r--r--   1 JEONG  staff    87764  7  2 17:40 수업01_파이썬 기초.ipynb\r\n",
      "-rw-r--r--   1 JEONG  staff     9777  7  3 17:41 수업02_과제.ipynb\r\n",
      "-rw-r--r--   1 JEONG  staff  1160244  7  3 15:55 수업02_파이썬기초.ipynb\r\n",
      "-rw-r--r--   1 JEONG  staff    12003  7  4 18:02 수업03_과제.ipynb\r\n",
      "-rw-r--r--   1 JEONG  staff    13938  7  5 17:45 수업04_과제.ipynb\r\n",
      "-rw-r--r--   1 JEONG  staff    70333  7  5 15:27 수업04_파이썬기초.ipynb\r\n",
      "-rw-r--r--   1 JEONG  staff      604  7  6 16:12 수업05 _  test.ipynb\r\n",
      "-rw-r--r--   1 JEONG  staff    40538  7  6 18:02 수업05 _ import & namedtuple & OrderedDict.ipynb\r\n",
      "-rw-r--r--   1 JEONG  staff    17619  7  6 16:41 수업05_파이썬 Class & Object ... etc.ipynb\r\n",
      "-rw-r--r--   1 JEONG  staff    22796  7  9 16:57 수업06_SQLite.ipynb\r\n",
      "-rw-r--r--   1 JEONG  staff     8446  7  9 21:26 수업06_과제.ipynb\r\n",
      "-rw-r--r--   1 JEONG  staff   108674  7 11 00:53 수업07_SQLite, SQLAlchemy, ORM.ipynb\r\n",
      "-rw-r--r--   1 JEONG  staff   446041  7 12 11:04 수업08_mongoDB.zip\r\n",
      "-rw-r--r--   1 JEONG  staff      946  7 12 17:50 수업09_02_html.html\r\n",
      "-rw-r--r--   1 JEONG  staff     6381  7 12 12:39 수업09_ORM.ipynb\r\n",
      "-rw-r--r--   1 JEONG  staff   136111  7 16 10:48 수업10 ~ 11 _ JSON & XML _ 대기오염분석.ipynb\r\n",
      "-rw-r--r--   1 JEONG  staff      698  7 13 10:44 수업10_CSS_02.html\r\n",
      "-rw-r--r--   1 JEONG  staff     4076  7 13 11:48 수업10_CSS_03.html\r\n",
      "-rw-r--r--   1 JEONG  staff  1524091  7 17 23:52 수업12_Crawling.ipynb\r\n",
      "-rw-r--r--   1 JEONG  staff   120573  7 18 02:11 수업12_과제.ipynb\r\n",
      "-rw-r--r--@  1 JEONG  staff    77824  7 18 02:09 수업12_과제_대기오염분석.db\r\n",
      "-rw-r--r--   1 JEONG  staff    35127  7 18 14:01 수업13_MongoDB & pymongo.ipynb\r\n",
      "-rw-r--r--@  1 JEONG  staff    24206  7 18 16:17 수업13_open, with.ipynb\r\n",
      "-rw-r--r--@  1 JEONG  staff   280192  7  6 16:00 수업05_class.ipynb\r\n",
      "-rw-r--r--@  1 JEONG  staff     2381  7 12 16:46 수업09_01_html.html\r\n",
      "-rw-r--r--@  1 JEONG  staff     1004  7 13 10:21 수업10_CSS_01.html\r\n",
      "-rw-r--r--   1 JEONG  staff  1237227  7 17 23:55 수업11_스크래핑, 크롤링.ipynb\r\n"
     ]
    }
   ],
   "source": [
    "!ls -al"
   ]
  },
  {
   "cell_type": "code",
   "execution_count": 6,
   "metadata": {
    "scrolled": true
   },
   "outputs": [
    {
     "name": "stdout",
     "output_type": "stream",
     "text": [
      "타입 >>> <class '_io.TextIOWrapper'>\n",
      "dir >>>  ['_CHUNK_SIZE', '__class__', '__del__', '__delattr__', '__dict__', '__dir__', '__doc__', '__enter__', '__eq__', '__exit__', '__format__', '__ge__', '__getattribute__', '__getstate__', '__gt__', '__hash__', '__init__', '__init_subclass__', '__iter__', '__le__', '__lt__', '__ne__', '__new__', '__next__', '__reduce__', '__reduce_ex__', '__repr__', '__setattr__', '__sizeof__', '__str__', '__subclasshook__', '_checkClosed', '_checkReadable', '_checkSeekable', '_checkWritable', '_finalizing', 'buffer', 'close', 'closed', 'detach', 'encoding', 'errors', 'fileno', 'flush', 'isatty', 'line_buffering', 'mode', 'name', 'newlines', 'read', 'readable', 'readline', 'readlines', 'seek', 'seekable', 'tell', 'truncate', 'writable', 'write', 'writelines']\n"
     ]
    }
   ],
   "source": [
    "file = open('hello.txt','r')\n",
    "print('타입 >>>',type(file))\n",
    "print('dir >>> ',dir(file)) # Enter, Exit가 있으면 with 구문을 쓸 수 있고, __iter__가 있으면 순회할 수 있다."
   ]
  },
  {
   "cell_type": "code",
   "execution_count": 7,
   "metadata": {
    "scrolled": false
   },
   "outputs": [
    {
     "data": {
      "text/plain": [
       "'Hello, world!Hello, 문근영!'"
      ]
     },
     "execution_count": 7,
     "metadata": {},
     "output_type": "execute_result"
    }
   ],
   "source": [
    "next(file) "
   ]
  },
  {
   "cell_type": "code",
   "execution_count": 9,
   "metadata": {},
   "outputs": [
    {
     "name": "stdout",
     "output_type": "stream",
     "text": [
      "UTF-8\n",
      "UTF-8\n"
     ]
    }
   ],
   "source": [
    "# 자신의 인코딩 환경에 따라 파일을 못 읽어들일 수 있다.\n",
    "\n",
    "import sys\n",
    "print(sys.stdin.encoding)\n",
    "print(sys.stdout.encoding)"
   ]
  },
  {
   "cell_type": "markdown",
   "metadata": {},
   "source": [
    "인코딩 환경에 따라서 파일을 못 읽어들일 땐, 다음과 같이 한다.\n",
    "open('hello.txt', 'r', encoding='utf-8')"
   ]
  },
  {
   "cell_type": "markdown",
   "metadata": {},
   "source": [
    "next가 줄 단위로 돌기 때문에 \\n이 중요하다."
   ]
  },
  {
   "cell_type": "markdown",
   "metadata": {},
   "source": [
    "| 파일 모드 \t| 기능 \t| 설명 \t|\n",
    "|-----------\t|------------------------\t|-------------------------------------------------------------------------------------------------------------------------------------------\t|\n",
    "| r \t| 읽기 전용 \t| 파일을 읽기 전용으로 열기. 단, 파일이 반드시 있어야 하며 파일이 없으면 에러 발생 \t|\n",
    "| w \t| 쓰기 전용 \t| 쓰기 전용으로 새 파일을 생성. 만약 파일이 있으면 내용을 덮어씀 \t|\n",
    "| a \t| 추가 \t| 파일을 열어 파일 끝에 값을 이어 씀. 만약 파일이 없으면 파일을 생성 \t|\n",
    "| x \t| 배타적 생성(쓰기) \t| 파일을 쓰기 모드로 생성. 파일이 이미 있으면 에러 발생 \t|\n",
    "| r+ \t| 읽기/쓰기 \t| 파일을 읽기/쓰기용으로 열기. 단, 파일이 반드시 있어야 하며 파일이 없으면 에러 발생 \t|\n",
    "| w+ \t| 읽기/쓰기 \t| 파일을 읽기/쓰기용으로 열기. 파일이 없으면 파일을 생성하고, 파일이 있으면 내용을 덮어씀 \t|\n",
    "| a+ \t| 추가(읽기/쓰기) \t| 파일을 열어 파일 끝에 값을 이어 씀. 만약 파일이 없으면 파일을 생성. 읽기는 파일의 모든 구간에서 가능하지만, 쓰기는 파일의 끝에서만 가능함 \t|\n",
    "| x+ \t| 배타적 생성(읽기/쓰기) \t| 파일을 읽기/쓰기 모드로 생성. 파일이 이미 있으면 에러 발생 \t|\n",
    "| t \t| 텍스트 모드 \t| 파일을 읽거나 쓸 때 개행 문자 \\n과 \\r\\n을 서로 변환 \t|\n",
    "| b \t| 바이너리 모드 \t| 파일의 내용을 그대로 읽고, 값을 그대로 씀 \t|"
   ]
  },
  {
   "cell_type": "markdown",
   "metadata": {},
   "source": [
    "---"
   ]
  },
  {
   "cell_type": "markdown",
   "metadata": {},
   "source": [
    "## 인코딩 처리 기법"
   ]
  },
  {
   "cell_type": "code",
   "execution_count": 16,
   "metadata": {
    "scrolled": true
   },
   "outputs": [
    {
     "data": {
      "text/plain": [
       "'<!DOCTYPE html PUBLIC \"-//W3C//DTD XHTML 1.0 Transitional//EN\" \"http://www.w3.org/TR/xhtml1/DTD/xhtml1-transitional.dtd\">\\n<html>\\n<head>\\n<meta http-equiv=\"Content-Type\" content=\"text/html; charset=euc-kr\" />\\n<meta http-equiv=\"Content-Script-Type\" content=\"text/javascript\" />\\n<meta http-equiv=\"Content-Style-Type\" content=\"text/css\" />\\n<meta http-equiv=\"X-UA-Compatible\" content=\"IE=edge\">\\n<meta name=\"author\" content=\"PPOMPPU CO.\">\\n<meta name=\"description\" content=\"뽐뿌\">\\n<meta name=\"keywords\" content=\"\">\\n\\n\\n<!--\\n<meta name=\"viewport\" content=\"width=device-width, initial-scale=1.0, minimum-scale=1.0, user-scalable=yes, target-densitydpi=device-dpi\" />\\n-->\\n\\n\\n<meta property=\"og:image\" content=\"http://www.ppomppu.co.kr/images/icon_app_20160427.png\" />\\n\\n<meta property=\"og:site_name\" content=\"뽐뿌\" />\\n<meta property=\"og:type\" content=\"website\" />\\n\\n<title>뽐뿌 - 사람이 좋아 함께하는 곳</title><!--<link href=\\'http://fonts.googleapis.com/css?family=Noto+Sans\\' rel=\\'stylesheet\\' type=\\'text/css\\'>-->\\n\\n<link rel=\"stylesheet\" type=\"text/css\" href=\"//www.ppomppu.co.kr/css/style.css?v=2018070218\" />\\n<link rel=\"stylesheet\" type=\"text/css\" href=\"//www.ppomppu.co.kr/css/stylesheet.css?v=2018070218\" />\\n\\n<!--[if IE]>\\n<link rel=\"stylesheet\" type=\"text/css\" href=\"//www.ppomppu.co.kr/css/stylesheet_ms.css?v=2018070218\" />\\n<![endif]-->\\n\\n\\n\\n\\n\\n<!--<link type=\"text/css\" rel=\"stylesheet\" href=\"//www.ppomppu.co.kr/thickbox/thickbox20130718.css\" />-->\\n\\n\\n<link rel=\"stylesheet\" type=\"text/css\" href=\"//www.ppomppu.co.kr/zboard/dq_css/cate_tab_201303042.css\" />\\n<link rel=\"shortcut icon\" href=\"//img.ppomppu.co.kr/favicon.ico\" />\\n<link rel=\"apple-touch-icon\" href=\"//img.ppomppu.co.kr/images/nn128.jpeg\" />\\n\\n<script>\\nvar G_HOME_URL    = \"http://www.ppomppu.co.kr\";\\nvar G_WWW_URL     = \"http://www.ppomppu.co.kr\";\\nvar G_WWW_REL_URL = \"//www.ppomppu.co.kr\";\\nvar G_MOB_URL     = \"http://m.ppomppu.co.kr\";\\nvar G_MOB_REL_URL = \"//m.ppomppu.co.kr\";\\nvar G_NIC_URL     = \"//nic.ppomppu.co.kr\";\\nvar G_MEMO_URL    = \"http://memo.ppomppu.co.kr\";\\nvar G_S_URL       = \"http://s.ppomppu.co.kr\";\\nvar G_HOME_SSL_URL= \"https://www.ppomppu.co.kr\";\\nvar G_WWW_SSL_URL = \"https://www.ppomppu.co.kr\";\\nvar G_MOB_SSL_URL = \"https://m.ppomppu.co.kr\";\\nvar G_MEMO_SSL_URL= \"https://memo.ppomppu.co.kr\";\\nvar G_S_SSL_URL   = \"https://s.ppomppu.co.kr\";\\nvar G_STATIC_URL  = \"//static.ppomppu.co.kr\";\\nvar G_IMG_URL     = \"//img.ppomppu.co.kr\";\\n</script>\\n<script type=\"text/javascript\" src=\"//www.ppomppu.co.kr/js/default3.js\"></script>\\n<script type=\"text/javascript\" src=\"//www.ppomppu.co.kr/js/jquery-1.11.2.min.js\"></script>\\n<script type=\"text/javascript\" src=\"//www.ppomppu.co.kr/js/jquery-migrate-1.2.1.min.js\"></script>\\n<script type=\"text/javascript\" src=\"//www.ppomppu.co.kr/js/jquery.rolling.js\"></script>\\n<!--<script type=\"text/javascript\" src=\"//www.ppomppu.co.kr/thickbox/thickbox.patch.20100708.js\"></script>-->\\n<script type=\"text/javascript\" src=\"//www.ppomppu.co.kr/js/writeCapture.js\"></script>\\n<script type=\"text/javascript\" src=\"//www.ppomppu.co.kr/js/jquery.writeCapture.js\"></script>\\n\\n<script type=\"text/javascript\">\\n  (function(i,s,o,g,r,a,m){i[\\'GoogleAnalyticsObject\\']=r;i[r]=i[r]||function(){\\n  (i[r].q=i[r].q||[]).push(arguments)},i[r].l=1*new Date();a=s.createElement(o),\\n  m=s.getElementsByTagName(o)[0];a.async=1;a.src=g;m.parentNode.insertBefore(a,m)\\n  })(window,document,\\'script\\',\\'//www.google-analytics.com/analytics.js\\',\\'ga\\');\\n  ga(\\'create\\', \\'UA-1778193-1\\', {\\'cookieDomain\\': \\'ppomppu.co.kr\\'});\\n  ga(\\'require\\', \\'linkid\\', \\'linkid.js\\');\\n  ga(\\'send\\', \\'pageview\\');\\n</script>\\n<script type=\"text/javascript\" src=\"//www.ppomppu.co.kr/js/jquery.hotkeys-0.7.8.js\"></script>\\n<script type=\"text/javascript\" src=\"//www.ppomppu.co.kr/js/load-hotkey.min.js\"></script>\\n\\n\\n</head>\\n\\n\\n<body>\\n\\n<script type=\"text/javascript\">\\nvar hotKeyVar = new function() { this.enable = true; this.keys = [\\'a\\',\\'f\\',\\'z\\',\\'h\\',\\'0\\',\\'1\\',\\'2\\',\\'3\\',\\'4\\',\\'5\\',\\'6\\',\\'7\\',\\'8\\',\\'9\\']; this.links = [\\'http://www.ppomppu.co.kr\\',\\'http://www.ppomppu.co.kr/recent_forum_article.php\\',\\'http://www.google.co.kr\\',\\'http://www.ppomppu.co.kr/hot.php\\',\\'http://www.ppomppu.co.kr/recent_main_article.php?type=market\\',\\'http://www.ppomppu.co.kr/zboard/zboard.php?id=ppomppu\\',\\'http://www.ppomppu.co.kr/zboard/zboard.php?id=event\\',\\'http://www.ppomppu.co.kr/zboard/zboard.php?id=buy\\',\\'http://www.ppomppu.co.kr/zboard/zboard.php?id=help\\',\\'http://www.ppomppu.co.kr/zboard/zboard.php?id=freeboard\\',\\'http://www.ppomppu.co.kr/zboard/zboard.php?id=etc_info\\',\\'http://www.ppomppu.co.kr/zboard/zboard.php?id=free_picture\\',\\'http://www.ppomppu.co.kr/zboard/zboard.php?id=news2\\',\\'http://www.ppomppu.co.kr/zboard/zboard.php?id=review\\']; };\\n</script>\\n\\n    <div class=\"wrapper\">\\n        <div class=\"sidebar\">\\n            <div class=\"floating-banner\">\\n                <div id=\"pp_ban_right\" class=\"ad-banner\" style=\"width: 120px; height: 600px;\">\\n                    <ins class=\\'adsbygoogle\\' style=\\'display:inline-block;width:120px;height:600px;\\' data-ad-client=\\'ca-pub-8847360974221676\\' data-ad-slot=\\'9491063972\\'></ins><script>(adsbygoogle = window.adsbygoogle || []).push({});</script>                </div>\\n                                <div class=\"personal-ui\" id=\"tabs-container\">\\n                    <ul class=\"tabs\">\\n                        <li class=\"active\"><a rel=\"#tab1-contents\" class=\"tab\">단축키</a></li>\\n                        <li><a rel=\"#tab2-contents\" class=\"tab\">북마크</a></li>\\n                    </ul>\\n\\n                    <div class=\"tab-contents-container\">\\n                        <div class=\"tab-contents\" id=\"tab1-contents\">\\n                            <ul class=\"hotkey\">\\n                                                                <li><a href=\"http://www.ppomppu.co.kr/zboard/zboard.php?id=ppomppu\">뽐뿌게시판 </a></li>\\n                                <li><a href=\"http://www.ppomppu.co.kr/zboard/zboard.php?id=event\">이벤트게시판 </a></li>\\n                                <li><a href=\"http://www.ppomppu.co.kr/zboard/zboard.php?id=buy\">구매게시판 </a></li>\\n                                <li><a href=\"http://www.ppomppu.co.kr/zboard/zboard.php?id=help\">질문/요청 </a></li>\\n                                <li><a href=\"http://www.ppomppu.co.kr/zboard/zboard.php?id=freeboard\">자유게시판 </a></li>\\n                                <li><a href=\"http://www.ppomppu.co.kr/zboard/zboard.php?id=etc_info\">생활정보 </a></li>\\n                                <li><a href=\"http://www.ppomppu.co.kr/zboard/zboard.php?id=free_picture\">자유갤러리 </a></li>\\n                                <li><a href=\"http://www.ppomppu.co.kr/zboard/zboard.php?id=news2\">IT/취업 </a></li>\\n                                <li><a href=\"http://www.ppomppu.co.kr/zboard/zboard.php?id=review\">사용기 </a></li>\\n                                <li><a href=\"http://www.ppomppu.co.kr/recent_main_article.php?type=market\">장터 리스트</a></li>\\n                                                            </ul>\\n                            <!--/.hotkey-->\\n                            <div class=\"setup\">\\n                                <a href=\"http://www.ppomppu.co.kr/myinfo/env.php?cmd=env\" target=\"_blank\"><img src=\"//img.ppomppu.co.kr/images/main/setting_icon.png\" />설정하기</a>\\n                            </div>\\n                        </div>\\n                        <!--/.tab-contents-->\\n\\n                        <div class=\"tab-contents\" id=\"tab2-contents\">\\n                            <ul class=\"bookmark\">\\n                            </ul>\\n                            <div class=\"setup\">\\n                                <a href=\"http://www.ppomppu.co.kr/myinfo/member_bookmark.php\" target=\"_blank\"><img src=\"//img.ppomppu.co.kr/images/main/setting_icon.png\" />설정하기</a>\\n                            </div>\\n                        </div>\\n                        <!--/.tab-contents-->\\n                    </div>\\n                    <!--/.tab-contents-container-->\\n\\n                </div>\\n                <!--/#tab-container-->\\n\\n                                \\n            </div>\\n            <!--/.floating-banner-->\\n        </div>\\n        <!--/.aside-->\\n\\n        <div class=\"contents\">\\n                                                <div class=\"header\">\\n                <div class=\"wrap\">\\n\\n                    \\t                        \\t\\t<a href=\"http://www.ppomppu.co.kr/index.php\" class=\"logo\"><img src=\"//img.ppomppu.co.kr/images/logo.png\" /></a>\\n    \\t\\t\\t\\t\\t\\t\\t<span class=\"slogan\">사람이 좋아 함께하는 곳.. 뽐뿌!</span>\\n\\t\\t\\t\\t\\t\\t\\n                    <div class=\"ad-banner header-banner main\" id=\"pp_ban_top\">\\n                        <ins class=\\'adsbygoogle\\' style=\\'display:inline-block;width:320px;height:50px;\\' data-ad-client=\\'ca-pub-8847360974221676\\' data-ad-slot=\\'8186204132\\'></ins><script>(adsbygoogle = window.adsbygoogle || []).push({});</script>                    </div>\\n                </div>\\n            </div>\\n            \\n\\n\\n\\n            <!-- Top navigation -->\\n            <div class=\"top-nav\">\\n                <ul>\\n                    <li class=\"menu01 \"><a href=\"http://www.ppomppu.co.kr/zboard/zboard.php?id=ppomppu\" class=\"menu\">뽐뿌</a>\\n                                                        <div class=\"sub-menu\">\\n                                    \\n                                    <ul>\\n                                        <li class=\"strong\"><i class=\"caret\"></i><a href=\"http://www.ppomppu.co.kr/zboard/zboard.php?id=ppomppu\">뽐뿌게시판</a></li>\\n                                        <li><a href=\"http://www.ppomppu.co.kr/zboard/zboard.php?id=ppomppu2\">휴대폰뽐뿌</a></li>\\n                                        <li><a href=\"http://www.ppomppu.co.kr/zboard/zboard.php?id=ppomppu4\">해외뽐뿌</a></li>\\n                                        <li><a href=\"http://www.ppomppu.co.kr/zboard/zboard.php?id=ppomppu3\">MD뽐뿌</a></li>\\n                                        <li><a href=\"http://www.ppomppu.co.kr/zboard/zboard.php?id=ppomppu5\">오프라인뽐뿌</a></li>\\n                                        <li><a href=\"http://www.ppomppu.co.kr/zboard/zboard.php?id=ppomppu7\">뷰티뽐뿌</a></li>\\n                                        <li><a href=\"http://www.ppomppu.co.kr/zboard/zboard.php?id=ppomppu6\">업체뽐뿌</a></li>\\n                                        <li class=\"divider\"><a href=\"http://www.ppomppu.co.kr/zboard/zboard.php?id=pmarket\">업체게시판</a></li>\\n                                        <li><a href=\"http://www.ppomppu.co.kr/zboard/zboard.php?id=pmarket2\">휴대폰업체</a></li>\\n                                        <li><a href=\"http://www.ppomppu.co.kr/zboard/zboard.php?id=pmarket3\">통신업체</a></li>\\n                                        <li><a href=\"http://www.ppomppu.co.kr/zboard/zboard.php?id=card_market\">카드업체</a></li>\\n                                        <li><a href=\"http://www.ppomppu.co.kr/zboard/zboard.php?id=pmarket7\">렌탈업체</a></li>\\n                                        <li><a href=\"http://www.ppomppu.co.kr/books/index.php\">책가격비교</a></li>\\n                                        \\n                                        \\n                                        \\n                                                                                \\n\\t\\t\\t\\t\\t\\t\\t\\t\\t\\t                                        <li class=\"divider strong\"><a href=\"http://www.ppomppu.co.kr/hot.php\">HOT게시글</a></li>\\n                                        <li><a href=\"http://www.ppomppu.co.kr/hot_comment.php\">HOT코멘트</a></li>\\n                                    </ul>\\n                                </div>\\n\\n                    </li>\\n                    <li class=\"menu02 \"><a href=\"http://www.ppomppu.co.kr/recent_main_article.php?type=event\"\\n                        class=\"menu\">이벤트</a>\\n                        <div class=\"sub-menu\">\\n                            <ul>\\n                                <li class=\"strong\"><i class=\"caret\"></i><a href=\"http://www.ppomppu.co.kr/zboard/zboard.php?id=event\">이벤트게시판</a></li>\\n                                <li><a href=\"http://www.ppomppu.co.kr/zboard/zboard.php?id=coupon\">쿠폰게시판</a></li>\\n                                <li><a href=\"http://www.ppomppu.co.kr/zboard/zboard.php?id=mobile\">모바일이벤트</a></li>\\n                                <li><a href=\"http://www.ppomppu.co.kr/zboard/zboard.php?id=experience\">체험단모집</a></li>\\n                                <li><a href=\"http://www.ppomppu.co.kr/zboard/zboard.php?id=wcoupon\">다운로드 쿠폰</a></li>\\n                                <li class=\"divider\"><a href=\"http://www.ppomppu.co.kr/zboard/zboard.php?id=wow\">참여/리뷰</a></li>\\n                                <li class=\"divider strong\"><a href=\"http://www.ppomppu.co.kr/zboard/zboard.php?id=event_ppomppu\">뽐뿌이벤트</a></li>\\n                                <!--<li class=\"\"><a href=\"http://www.ppomppu.co.kr/zboard/zboard.php?id=event_jr\">뽐뿌이벤트 응모</a></li>-->\\n                            </ul>\\n                        </div>\\n                    </li>\\n                    <li class=\"menu03 \"><a href=\"http://www.ppomppu.co.kr/recent_main_article.php?type=info\" class=\"menu\">정보</a>\\n                        <div class=\"sub-menu\">\\n                            <ul>\\n                                <li class=\"strong\"><i class=\"caret\"></i><a href=\"http://www.ppomppu.co.kr/zboard/zboard.php?id=etc_info\">생활정보</a></li>\\n                                <li><a href=\"http://www.ppomppu.co.kr/zboard/zboard.php?id=ppomapp\">앱정보</a></li>\\n                                <li class=\"divider strong\"><a href=\"http://www.ppomppu.co.kr/zboard/zboard.php?id=review\">사용기</a></li>\\n                                <li><a href=\"http://www.ppomppu.co.kr/zboard/zboard.php?id=agentnews\">체험단사용기</a></li>\\n                                <li><a href=\"http://www.ppomppu.co.kr/zboard/zboard.php?id=receive\">수령기</a></li>\\n                                <li><a href=\"http://www.ppomppu.co.kr/zboard/zboard.php?id=buy\">구매게시판</a></li>\\n                                <li class=\"divider strong\"><a href=\"/fortune/index.html\">무료운세</a></li>\\n                                <li><a href=\"http://www.ppomppu.co.kr/zboard/zboard.php?id=flash_game\">플래시게임</a></li>\\n                            </ul>\\n                        </div>\\n                    </li>\\n                    <li class=\"menu04 \"><a href=\"http://www.ppomppu.co.kr/zboard/zboard.php?id=freeboard\" class=\"menu\">커뮤니티</a>\\n                        <div class=\"sub-menu\">\\n                            <ul>\\n                                <li class=\"strong\"><i class=\"caret\"></i><a href=\"http://www.ppomppu.co.kr/zboard/zboard.php?id=freeboard\">자유게시판</a></li>\\n                                <li><a href=\"http://www.ppomppu.co.kr/zboard/zboard.php?id=issue\">이슈/정치/토론</a></li>\\n                                <li><a href=\"http://www.ppomppu.co.kr/zboard/zboard.php?id=humor\">유머/감동</a></li>\\n                                <li class=\"strong\"><a href=\"http://www.ppomppu.co.kr/zboard/zboard.php?id=help\">질문/요청</a></li>\\n                                <li><a href=\"http://www.ppomppu.co.kr/zboard/zboard.php?id=grade\">자기소개</a></li>\\n                                                                <li class=\"divider strong\"><a href=\"http://www.ppomppu.co.kr/chat\">실시간채팅</a></li>\\n                                \\n                                <li class=\"strong divider\"><a href=\"http://www.ppomppu.co.kr/zboard/zboard.php?id=campaign\">뽐뿌캠페인</a></li>\\n                                                            </ul>\\n                        </div>\\n                    </li>\\n                    <li class=\"menu05 \"><a href=\"http://www.ppomppu.co.kr/zboard/zboard.php?id=free_picture\" class=\"menu\">갤러리</a>\\n                        <div class=\"sub-menu\">\\n                            <ul>\\n                                <li class=\"strong\"><i class=\"caret\"></i><a href=\"http://www.ppomppu.co.kr/zboard/zboard.php?id=free_picture\">자유갤러리</a></li>\\n                                <li><a href=\"http://www.ppomppu.co.kr/zboard/zboard.php?id=mobile_gallery\">모바일갤러리</a></li>\\n                                <li><a href=\"http://www.ppomppu.co.kr/zboard/zboard.php?id=star\">연예인갤러리</a></li>\\n                                <li class=\"divider\"><a href=\"http://www.ppomppu.co.kr/zboard/zboard.php?id=sketch_gallery\">그림갤러리</a></li>\\n                                <li><a href=\"http://www.ppomppu.co.kr/zboard/zboard.php?id=bg_gallery\">바탕화면갤러리</a></li>\\n                                <li class=\"new\"><a href=\"http://www.ppomppu.co.kr/zboard/zboard.php?id=jjalbang\">짤방갤러리</a></li>\\n                                <li><a href=\"http://www.ppomppu.co.kr/zboard/zboard.php?id=picture\">링크갤러리</a></li>\\n                                <li><a href=\"http://www.ppomppu.co.kr/zboard/zboard.php?id=review_gallery\">닉콘신청갤러리</a></li>\\n                            </ul>\\n                        </div>\\n                    </li>\\n                    <li class=\"menu06 \"><a href=\"http://www.ppomppu.co.kr/recent_main_article.php?type=market\"\\n                        class=\"menu\">장터</a>\\n                        <div class=\"sub-menu\">\\n                            <ul>\\n                                <li class=\"strong\"><i class=\"caret\"></i><a href=\"http://www.ppomppu.co.kr/zboard/zboard.php?id=market\">뽐뿌장터</a></li>\\n                                <li><a href=\"http://www.ppomppu.co.kr/zboard/zboard.php?id=market_phone\">휴대폰장터</a></li>\\n                                <li class=\"new\"><a href=\"http://www.ppomppu.co.kr/zboard/zboard.php?id=market_data\">데이터장터</a></li>\\n                                <li><a href=\"http://www.ppomppu.co.kr/zboard/zboard.php?id=cmarket\">쿠폰장터</a></li>\\n                                <li><a href=\"http://www.ppomppu.co.kr/zboard/zboard.php?id=onmarket\">온라인장터</a></li>\\n                                <li><a href=\"http://www.ppomppu.co.kr/zboard/zboard.php?id=market_social\">소셜쿠폰장터</a></li>\\n                                <li><a href=\"http://www.ppomppu.co.kr/zboard/zboard.php?id=market_oversea\">해외구매장터</a></li>\\n                                <li><a href=\"http://www.ppomppu.co.kr/zboard/zboard.php?id=market_item\">아이템장터</a></li>\\n                                <li><a href=\"http://www.ppomppu.co.kr/zboard/zboard.php?id=market_talent\">재능장터</a></li>\\n                                <li class=\"divider strong\"><a href=\"http://www.ppomppu.co.kr/zboard/zboard.php?id=market_bike\">자전거장터</a></li>\\n                                <li><a href=\"http://www.ppomppu.co.kr/zboard/zboard.php?id=market_ecig\">전자담배장터</a></li>\\n                                <li><a href=\"http://www.ppomppu.co.kr/zboard/zboard.php?id=market_car\">중고차장터</a></li>\\n                                <li><a href=\"http://www.ppomppu.co.kr/zboard/zboard.php?id=market_camping\">캠핑장터</a></li>\\n                                <li class=\"divider strong\"><a href=\"http://www.ppomppu.co.kr/zboard/zboard.php?id=gonggu\">공동구매</a></li>\\n                                <li><a href=\"http://www.ppomppu.co.kr/zboard/zboard.php?id=gonggu_request\">공동구매요청</a></li>\\n                                <li><a href=\"http://www.ppomppu.co.kr/zboard/zboard.php?id=market_agent\">해외구매대행</a></li>\\n                                <li class=\"divider\"><a href=\"http://www.ppomppu.co.kr/zboard/zboard.php?id=guin\">구인게시판</a></li>\\n                                <li class=\"divider strong\"><a href=\"http://www.ppomppu.co.kr/zboard/zboard.php?id=market_story\">장터이야기</a></li>\\n                                <li><a href=\"http://www.ppomppu.co.kr/zboard/zboard.php?id=relay\">추천릴레이</a></li>\\n                                <li class=\"divider strong\"><a href=\"http://www.ppomppu.co.kr/zboard/zboard.php?id=love\">사랑공간</a></li>\\n                            </ul>\\n                        </div>\\n                    </li>\\n                    <li class=\"menu07 extand \"><a href=\"http://www.ppomppu.co.kr/recent_forum_article.php\" class=\"menu\">포럼</a>\\n                        <i class=\"caret\"></i>\\n                        <div class=\"sub-menu\">\\n                            <ul>\\n                                <li class=\"title\">휴대폰/가전</li>\\n                                <li class=\"strong\"><a href=\"http://www.ppomppu.co.kr/zboard/zboard.php?id=phone\">휴대폰포럼</a></li>\\n                                <li><a href=\"http://www.ppomppu.co.kr/zboard/zboard.php?id=phone3\">구입개통수령</a></li>\\n                                <li><a href=\"http://www.ppomppu.co.kr/zboard/zboard.php?id=phone2\">휴대폰질문</a></li>\\n                                <li><a href=\"http://www.ppomppu.co.kr/zboard/zboard.php?id=iphone\">아이폰포럼</a></li>\\n                                <li><a href=\"http://www.ppomppu.co.kr/zboard/zboard.php?id=tablet\">아이패드포럼</a></li>\\n                                <li><a href=\"http://www.ppomppu.co.kr/zboard/zboard.php?id=android\">안드로이드</a></li>\\n                                <li><a href=\"http://www.ppomppu.co.kr/zboard/zboard.php?id=androidtab\">안드로이드탭</a></li>\\n                                <li><a href=\"http://www.ppomppu.co.kr/zboard/zboard.php?id=wintab\">윈도우태블릿</a></li>\\n                                <li><a href=\"http://www.ppomppu.co.kr/zboard/zboard.php?id=smartphone\">기타스마트폰</a></li>\\n                                <li class=\"divider strong\"><a href=\"http://www.ppomppu.co.kr/zboard/zboard.php?id=av\">가전포럼</a></li>\\n                                <li><a href=\"http://www.ppomppu.co.kr/zboard/zboard.php?id=mini\">음향기기</a></li>\\n                                <li class=\"divider strong\"><a href=\"http://www.ppomppu.co.kr/zboard/zboard.php?id=computer\">컴퓨터포럼</a></li>\\n                                <li><a href=\"http://www.ppomppu.co.kr/zboard/zboard.php?id=nas\">NAS포럼</a></li>\\n                                <li><a href=\"http://www.ppomppu.co.kr/zboard/zboard.php?id=macintosh\">맥포럼</a></li>\\n                            </ul>\\n                            <ul>\\n                                <li class=\"title\">스포츠/레저</li>\\n                                <li class=\"strong\"><a href=\"http://www.ppomppu.co.kr/zboard/zboard.php?id=golf\">골프포럼</a></li>\\n                                <li><a href=\"http://www.ppomppu.co.kr/zboard/zboard.php?id=fishing\">낚시포럼</a></li>\\n                                <li><a href=\"http://www.ppomppu.co.kr/zboard/zboard.php?id=basketball\">농구포럼</a></li>\\n                                <li><a href=\"http://www.ppomppu.co.kr/zboard/zboard.php?id=climb\">등산포럼</a></li>\\n                                <li><a href=\"http://www.ppomppu.co.kr/zboard/zboard.php?id=motorbike\">바이크포럼</a></li>\\n                                <li><a href=\"http://www.ppomppu.co.kr/zboard/zboard.php?id=lifesports\">생활스포츠</a></li>\\n                                <li><a href=\"http://www.ppomppu.co.kr/zboard/zboard.php?id=swim\">수영포럼</a></li>\\n                                <li><a href=\"http://www.ppomppu.co.kr/zboard/zboard.php?id=ski\">스키/보드</a></li>\\n                                <li><a href=\"http://www.ppomppu.co.kr/zboard/zboard.php?id=scuba\">스킨/스쿠버</a></li>\\n                                <li><a href=\"http://www.ppomppu.co.kr/zboard/zboard.php?id=sports\">스포츠포럼</a></li>\\n                                <li><a href=\"http://www.ppomppu.co.kr/zboard/zboard.php?id=baseball\">야구포럼</a></li>\\n                                <li><a href=\"http://www.ppomppu.co.kr/zboard/zboard.php?id=ppom_baseball_team\">사회인야구</a></li>\\n                                <li><a href=\"http://www.ppomppu.co.kr/zboard/zboard.php?id=car\">자동차포럼</a></li>\\n                                <li><a href=\"http://www.ppomppu.co.kr/zboard/zboard.php?id=bike\">자전거포럼</a></li>\\n                                <li><a href=\"http://www.ppomppu.co.kr/zboard/zboard.php?id=soccer\">축구포럼</a></li>\\n                                <li><a href=\"http://www.ppomppu.co.kr/zboard/zboard.php?id=camping\">캠핑포럼</a></li>\\n                                <li><a href=\"http://www.ppomppu.co.kr/zboard/zboard.php?id=tennis\">테니스포럼</a></li>\\n                                <li class=\"divider strong\"><a href=\"http://www.ppomppu.co.kr/zboard/zboard.php?id=health\">건강/헬스</a></li>\\n                            </ul>\\n                            <ul>\\n                                <li class=\"title\">경제/지역</li>\\n                                <li class=\"strong\"><a href=\"http://www.ppomppu.co.kr/zboard/zboard.php?id=money\">재테크포럼</a></li>\\n                                <li><a href=\"http://www.ppomppu.co.kr/zboard/zboard.php?id=social\">소셜포럼</a></li>\\n                                <li><a href=\"http://www.ppomppu.co.kr/zboard/zboard.php?id=insurance\">보험포럼</a></li>\\n                                <li><a href=\"http://www.ppomppu.co.kr/zboard/zboard.php?id=stock\">증권포럼</a></li>\\n                                <li><a href=\"http://www.ppomppu.co.kr/zboard/zboard.php?id=soho\">창업/자영업</a></li>\\n                                <li class=\"divider strong\"><a href=\"http://www.ppomppu.co.kr/zboard/zboard.php?id=bitcoin\">가상화폐</a></li>\\n                                <li class=\"beta\"><a href=\"http://www.ppomppu.co.kr/zboard/zboard.php?id=info_ico\">코인정보/ICO</a></li>\\n                                <li class=\"beta\"><a href=\"http://www.ppomppu.co.kr/zboard/zboard.php?id=recommend\">코인추천링크</a></li>\\n                                <li class=\"divider strong\"><a href=\"http://www.ppomppu.co.kr/zboard/zboard.php?id=lotto\">로또포럼</a></li>\\n                                <li><a href=\"http://www.ppomppu.co.kr/zboard/zboard.php?id=toto\">토토/프로토</a></li>\\n                                <li class=\"divider strong\"><a href=\"http://www.ppomppu.co.kr/zboard/zboard.php?id=house\">부동산포럼</a></li>\\n                                <li><a href=\"http://www.ppomppu.co.kr/zboard/zboard.php?id=offline\">지역별포럼</a></li>\\n                                <li class=\"beta\"><a href=\"http://www.ppomppu.co.kr/zboard/zboard.php?id=country\">국가별포럼</a></li>\\n                                <li class=\"divider strong\"><a href=\"http://www.ppomppu.co.kr/zboard/zboard.php?id=oversea\">해외포럼</a></li>\\n                                <li><a href=\"http://www.ppomppu.co.kr/zboard/zboard.php?id=china\">중국포럼</a></li>\\n                            </ul>\\n                            <ul>\\n                                <li class=\"title\">생활</li>\\n                                <li class=\"strong\"><a href=\"http://www.ppomppu.co.kr/zboard/zboard.php?id=wedding\">결혼포럼</a></li>\\n                                <li><a href=\"http://www.ppomppu.co.kr/zboard/zboard.php?id=problem\">고민포럼</a></li>\\n                                <li class=\"beta\"><a href=\"http://www.ppomppu.co.kr/zboard/zboard.php?id=publictransport\">대중교통</a></li>\\n                                <li><a href=\"http://www.ppomppu.co.kr/zboard/zboard.php?id=nonsmoking\">금연포럼</a></li>\\n                                <li><a href=\"http://www.ppomppu.co.kr/zboard/zboard.php?id=e_cig\">전자담배포럼</a></li>\\n                                <li><a href=\"http://www.ppomppu.co.kr/zboard/zboard.php?id=pet\">동식물포럼</a></li>\\n                                <li><a href=\"http://www.ppomppu.co.kr/zboard/zboard.php?id=mart\">마트/편의점</a></li>\\n                                <li><a href=\"http://www.ppomppu.co.kr/zboard/zboard.php?id=restaurant\">맛집포럼</a></li>\\n                                <li><a href=\"http://www.ppomppu.co.kr/zboard/zboard.php?id=medical\">메디컬포럼</a></li>\\n                                <li><a href=\"http://www.ppomppu.co.kr/zboard/zboard.php?id=delivery_food\">배달음식</a></li>\\n                                <li><a href=\"http://www.ppomppu.co.kr/zboard/zboard.php?id=tour\">여행포럼</a></li>\\n                                <li><a href=\"http://www.ppomppu.co.kr/zboard/zboard.php?id=couple\">연애포럼</a></li>\\n                                <li><a href=\"http://www.ppomppu.co.kr/zboard/zboard.php?id=recipe\">요리/레시피</a></li>\\n                                <li><a href=\"http://www.ppomppu.co.kr/zboard/zboard.php?id=fortune\">운세포럼</a></li>\\n                                <li><a href=\"http://www.ppomppu.co.kr/zboard/zboard.php?id=baby\">육아포럼</a></li>\\n                                <li><a href=\"http://www.ppomppu.co.kr/zboard/zboard.php?id=alone\">자취포럼</a></li>\\n                                <li><a href=\"http://www.ppomppu.co.kr/zboard/zboard.php?id=religion\">종교포럼</a></li>\\n                            </ul>\\n                            <ul>\\n                                <li class=\"title\">게임</li>\\n                                <li class=\"strong\"><a href=\"http://www.ppomppu.co.kr/zboard/zboard.php?id=game\">게임/오락</a></li>\\n                                <li><a href=\"http://www.ppomppu.co.kr/zboard/zboard.php?id=gamer\">게임기포럼</a></li>\\n                                <li><a href=\"http://www.ppomppu.co.kr/zboard/zboard.php?id=boardgame\">보드게임</a></li>\\n                                <li><a href=\"http://www.ppomppu.co.kr/zboard/zboard.php?id=kakao_game\">모바일게임</a></li>\\n                                <li class=\"divider strong\"><a href=\"http://www.ppomppu.co.kr/zboard/zboard.php?id=gta\">GTA포럼</a></li>\\n                                <li><a href=\"http://www.ppomppu.co.kr/zboard/zboard.php?id=LOL\">LOL포럼</a></li>\\n                                <li><a href=\"http://www.ppomppu.co.kr/zboard/zboard.php?id=diablo\">디아블로포럼</a></li>\\n                                <li><a href=\"http://www.ppomppu.co.kr/zboard/zboard.php?id=lineagem\">리니지m</a></li>\\n                                <li class=\"beta\"><a href=\"http://www.ppomppu.co.kr/zboard/zboard.php?id=pubg\">배틀그라운드</a></li>\\n                                <li><a href=\"http://www.ppomppu.co.kr/zboard/zboard.php?id=overwatch\">오버워치</a></li>\\n                                <li><a href=\"http://www.ppomppu.co.kr/zboard/zboard.php?id=clashroyale\">클래시로얄</a></li>\\n                                <li><a href=\"http://www.ppomppu.co.kr/zboard/zboard.php?id=pokemongo\">포켓몬GO</a></li>\\n                                <li><a href=\"http://www.ppomppu.co.kr/zboard/zboard.php?id=fifaonline\">피파온라인</a></li>\\n                            </ul>\\n                            <ul>\\n                                <li class=\"title\">문화</li>\\n                                <li class=\"strong\"><a href=\"http://www.ppomppu.co.kr/zboard/zboard.php?id=drama\">TV/드라마</a></li>\\n                                <li><a href=\"http://www.ppomppu.co.kr/zboard/zboard.php?id=book\">독서/e-book</a></li>\\n                                <li><a href=\"http://www.ppomppu.co.kr/zboard/zboard.php?id=animation\">만화/애니</a></li>\\n                                <li><a href=\"http://www.ppomppu.co.kr/zboard/zboard.php?id=munwha\">문화포럼</a></li>\\n                                <li><a href=\"http://www.ppomppu.co.kr/zboard/zboard.php?id=announcer\">아나운서</a></li>\\n                                <li><a href=\"http://www.ppomppu.co.kr/zboard/zboard.php?id=star\">연예인포럼</a></li>\\n                                <li><a href=\"http://www.ppomppu.co.kr/zboard/zboard.php?id=movie\">영화포럼</a></li>\\n                                <li><a href=\"http://www.ppomppu.co.kr/zboard/zboard.php?id=music\">음악/악기</a></li>\\n                            </ul>\\n                            <ul>\\n                                <li class=\"title\">취미</li>\\n                                <li class=\"strong\"><a href=\"http://www.ppomppu.co.kr/zboard/zboard.php?id=diy\">DIY포럼</a></li>\\n                                <li><a href=\"http://www.ppomppu.co.kr/zboard/zboard.php?id=rc\">드론포럼</a></li>\\n                                <li><a href=\"http://www.ppomppu.co.kr/zboard/zboard.php?id=camera\">사진/카메라</a></li>\\n                                <li><a href=\"http://www.ppomppu.co.kr/zboard/zboard.php?id=watch\">시계포럼</a></li>\\n                                <li><a href=\"http://www.ppomppu.co.kr/zboard/zboard.php?id=interior\">인테리어</a></li>\\n                                <li class=\"beta\"><a href=\"http://www.ppomppu.co.kr/zboard/zboard.php?id=e_unicycle\">전동휠포럼</a></li>\\n                                <li><a href=\"http://www.ppomppu.co.kr/zboard/zboard.php?id=alcohol\">주류포럼</a></li>\\n                                <li><a href=\"http://www.ppomppu.co.kr/zboard/zboard.php?id=hobby\">취미포럼</a></li>\\n                                <li><a href=\"http://www.ppomppu.co.kr/zboard/zboard.php?id=coffee\">커피포럼</a></li>\\n                            </ul>\\n                            <ul>\\n                                <li class=\"title\">그룹</li>\\n                                <li class=\"strong\"><a href=\"http://www.ppomppu.co.kr/zboard/zboard.php?id=f7080\">30+포럼</a></li>\\n                                <li><a href=\"http://www.ppomppu.co.kr/zboard/zboard.php?id=morethan40\">40+포럼</a></li>\\n                                <li><a href=\"http://www.ppomppu.co.kr/zboard/zboard.php?id=developer\">개발자포럼</a></li>\\n                                <li><a href=\"http://www.ppomppu.co.kr/zboard/zboard.php?id=army\">군대포럼</a></li>\\n                                <li class=\"beta\"><a href=\"http://www.ppomppu.co.kr/zboard/zboard.php?id=univ_student\">대학생포럼</a></li>\\n                                <li><a href=\"http://www.ppomppu.co.kr/zboard/zboard.php?id=miz\">미즈포럼</a></li>\\n                                <li><a href=\"http://www.ppomppu.co.kr/zboard/zboard.php?id=volunteer\">봉사포럼</a></li>\\n                                <li><a href=\"http://www.ppomppu.co.kr/zboard/zboard.php?id=adult\">성인포럼</a></li>\\n                                <li><a href=\"http://www.ppomppu.co.kr/zboard/zboard.php?id=worker\">직장인포럼</a></li>\\n                                <li class=\"beta\"><a href=\"http://www.ppomppu.co.kr/zboard/zboard.php?id=honjok\">혼족포럼</a></li>\\n                            </ul>\\n                            <ul>\\n                                <li class=\"title\">기타</li>\\n                                <li class=\"strong\"><a href=\"http://www.ppomppu.co.kr/zboard/zboard.php?id=fear\">공포포럼</a></li>\\n                                <li class=\"beta\"><a href=\"http://www.ppomppu.co.kr/zboard/zboard.php?id=science\">과학포럼</a></li>\\n                                <li><a href=\"http://www.ppomppu.co.kr/zboard/zboard.php?id=mungu\">문구포럼</a></li>\\n                                <li><a href=\"http://www.ppomppu.co.kr/zboard/zboard.php?id=stylesheet\">문서/서식</a></li>\\n                                <li><a href=\"http://www.ppomppu.co.kr/zboard/zboard.php?id=beauty\">뷰티/케어</a></li>\\n                                <li><a href=\"http://www.ppomppu.co.kr/zboard/zboard.php?id=history\">역사포럼</a></li>\\n                                <li><a href=\"http://www.ppomppu.co.kr/zboard/zboard.php?id=style\">스타일포럼</a></li>\\n                                <li><a href=\"http://www.ppomppu.co.kr/zboard/zboard.php?id=whatever\">전/현/무포럼</a></li>\\n                                <li class=\"divider strong\"><a href=\"http://www.ppomppu.co.kr/zboard/zboard.php?id=alba\">알바포럼</a></li>\\n                                <li><a href=\"http://www.ppomppu.co.kr/zboard/zboard.php?id=employment\">취업포럼</a></li>\\n                                <li><a href=\"http://www.ppomppu.co.kr/zboard/zboard.php?id=study\">학습포럼</a></li>\\n                                <li class=\"addon\">\\n                                    <ul>\\n                                        <li class=\"divider\">(<img src=\"//img.ppomppu.co.kr/images/icon_beta.gif\" />: 베타포럼)\\n                                        </li>\\n                                        <li>(<img src=\"//img.ppomppu.co.kr/images/icon_renewal.gif\" />: 리뉴얼)\\n                                        </li>\\n                                        <li><a href=\"/recent_forum_article.php\"><img src=\"//img.ppomppu.co.kr/images/icon_search.png\" class=\"icon-search\" />포럼검색</a></li>\\n                                    </ul>\\n                                </li>\\n                            </ul>\\n                        </div>\\n                    </li>\\n                    <li class=\"menu08 \"><a href=\"http://www.ppomppu.co.kr/recent_main_article.php?type=news\" class=\"menu\">뉴스</a>\\n                        <div class=\"sub-menu\">\\n                            <ul>\\n                                <li><i class=\"caret\"></i><a href=\"http://www.ppomppu.co.kr/zboard/zboard.php?id=news_broadcast\">방송/연예</a></li>\\n                                <li><a href=\"http://www.ppomppu.co.kr/zboard/zboard.php?id=news_sports\">스포츠</a></li>\\n                                <li><a href=\"http://www.ppomppu.co.kr/zboard/zboard.php?id=news_life\">라이프/여행</a></li>\\n                                <li><a href=\"http://www.ppomppu.co.kr/zboard/zboard.php?id=news_pol_eco\">정치/경제</a></li>\\n                                <li><a href=\"http://www.ppomppu.co.kr/zboard/zboard.php?id=news2\">IT/취업</a></li>\\n                                <li><a href=\"http://www.ppomppu.co.kr/zboard/zboard.php?id=news\">뉴스참여</a></li>\\n                            </ul>\\n                        </div>\\n                    </li>\\n                    <li class=\"menu09 \"><a href=\"http://www.ppomppu.co.kr/recent_main_article.php?type=consult\" class=\"menu\">상담실</a>\\n                        <div class=\"sub-menu\">\\n                            <ul>\\n                                <li><i class=\"caret\"></i><a href=\"http://www.ppomppu.co.kr/zboard/zboard.php?id=consulting\">보험상담</a></li>\\n                                <li class=\"\" style=\"letter-spacing:-2px !important;\"><a href=\"http://www.ppomppu.co.kr/zboard/zboard.php?id=loan_consult\">담보대출상담</a></li>\\n                                <li class=\"divider\"><a href=\"http://www.ppomppu.co.kr/zboard/zboard.php?id=wedding_consult\">웨딩상담</a></li>\\n                                <li><a href=\"http://www.ppomppu.co.kr/zboard/zboard.php?id=move_consult\">이사/청소상담</a></li>\\n                                <li><a href=\"http://www.ppomppu.co.kr/zboard/zboard.php?id=tour_consult\">여행레저상담</a></li>\\n                                <li class=\"\" style=\"letter-spacing:-2px !important;\"><a href=\"http://www.ppomppu.co.kr/zboard/zboard.php?id=interior_consult\">인테리어상담</a></li>\\n                                <li class=\"\" style=\"letter-spacing:-2px !important;\"><a href=\"http://www.ppomppu.co.kr/zboard/zboard.php?id=bus_consult\">버스대절상담</a></li>\\n                                <li class=\"\" style=\"letter-spacing:-2px !important;\"><a href=\"http://www.ppomppu.co.kr/zboard/zboard.php?id=security_guard_consult\">보안경비상담</a></li>\\n                                <li class=\"divider renewal\"><a href=\"/zboard/zboard.php?id=phone_consult\">휴대폰상담</a></li>\\n                                <li><a class=\"\" href=\"http://www.ppomppu.co.kr/zboard/zboard.php?id=tele_consult\">통신상담</a></li>\\n                                <li><a href=\"http://www.ppomppu.co.kr/zboard/zboard.php?id=card_consult\">카드상담</a></li>\\n                                <li><a href=\"http://www.ppomppu.co.kr/zboard/zboard.php?id=rental_consult\">렌탈상담</a></li>\\n                                <li class=\"divider\"><a href=\"http://www.ppomppu.co.kr/zboard/zboard.php?id=law_consult\">법률상담</a></li>\\n                                <li><a href=\"http://www.ppomppu.co.kr/zboard/zboard.php?id=tax_consult\">세무상담</a></li>\\n                                <li class=\"new\" style=\"letter-spacing:-2px !important;\"><a href=\"http://www.ppomppu.co.kr/zboard/zboard.php?id=uhak_consult\">유학상담</a></li>\\n                            </ul>\\n                            <ul>\\n                                <li class=\"divider\"><a href=\"http://www.ppomppu.co.kr/zboard/zboard.php?id=car_service\">신차견적상담</a></li>\\n                                <li><a href=\"http://www.ppomppu.co.kr/zboard/zboard.php?id=car_consult\">중고차상담</a></li>\\n                                <li><a href=\"/zboard/zboard.php?id=pc_consult\">PC견적상담</a></li>\\n                            </ul>\\n                            <ul>\\n                                <li class=\"divider new\"><a href=\"http://www.ppomppu.co.kr/zboard/zboard.php?id=ad_consult\">광고/홍보상담</a></li>\\n                            </ul>\\n                        </div>\\n                    </li>\\n                </ul>\\n            </div>\\n\\n\\n            <div class=\"sub-nav\">\\n                <form method=\"get\" name=\"search1\" action=\"http://www.ppomppu.co.kr/search_bbs.php\">\\n                    <div class=\"input-search\">\\n                                                    <input type=\"text\" name=\"keyword\" value=\"유영진\" />\\n                                            </div>\\n                    <button type=\"submit\" class=\"btn btn-search\"></button>\\n                </form>\\n\\n                                <div class=\"hot-keyword\">\\n                    <h4>인기검색어</h4>\\n                    : <a href=\"#\"><img src=\"//img.ppomppu.co.kr/images/header/keyword01.gif\" /> <span>\\n                            만석닭강정                        </span> </a>\\n                    <div class=\"hot-keyword-wrapper\">\\n                                                <a href=\"search_bbs.php?order_type=date&keyword=%B8%B8%BC%AE%B4%DF%B0%AD%C1%A4\"><img src=\"//img.ppomppu.co.kr/images/header/keyword01.gif\" /> <span>\\n                                만석닭강정                            </span> </a>\\n                                                <a href=\"search_bbs.php?order_type=date&keyword=%B3%D7%C0%CC%C3%B3%BC%BF\"><img src=\"//img.ppomppu.co.kr/images/header/keyword02.gif\" /> <span>\\n                                네이처셀                            </span> </a>\\n                                                <a href=\"search_bbs.php?order_type=date&keyword=%BC%D5%C5%C2%BF%B5\"><img src=\"//img.ppomppu.co.kr/images/header/keyword03.gif\" /> <span>\\n                                손태영                            </span> </a>\\n                                                <a href=\"search_bbs.php?order_type=date&keyword=%BC%D3%C3%CA+%B8%B8%BC%AE%B4%DF%B0%AD%C1%A4\"><img src=\"//img.ppomppu.co.kr/images/header/keyword04.gif\" /> <span>\\n                                속초 만석닭강정                            </span> </a>\\n                                                <a href=\"search_bbs.php?order_type=date&keyword=%BF%A9%BF%ED%C8%AF\"><img src=\"//img.ppomppu.co.kr/images/header/keyword05.gif\" /> <span>\\n                                여욱환                            </span> </a>\\n                                                <a href=\"search_bbs.php?order_type=date&keyword=%B1%E8%C1%A4%B9%CE\"><img src=\"//img.ppomppu.co.kr/images/header/keyword06.gif\" /> <span>\\n                                김정민                            </span> </a>\\n                                                <a href=\"search_bbs.php?order_type=date&keyword=%C0%AF%BF%B5%C1%F8\"><img src=\"//img.ppomppu.co.kr/images/header/keyword07.gif\" /> <span>\\n                                유영진                            </span> </a>\\n                                                <a href=\"search_bbs.php?order_type=date&keyword=%C0%DA%B5%BF%C2%F7+%B0%B3%BA%B0%BC%D2%BA%F1%BC%BC\"><img src=\"//img.ppomppu.co.kr/images/header/keyword08.gif\" /> <span>\\n                                자동차 개별소비세                            </span> </a>\\n                                                <a href=\"search_bbs.php?order_type=date&keyword=%B4%BA%C7%C1%B6%F3%C0%CC%B5%E5\"><img src=\"//img.ppomppu.co.kr/images/header/keyword09.gif\" /> <span>\\n                                뉴프라이드                            </span> </a>\\n                                                <a href=\"search_bbs.php?order_type=date&keyword=%B1%D9%B7%CE%C0%E5%B7%C1%B1%DD\"><img src=\"//img.ppomppu.co.kr/images/header/keyword10.gif\" /> <span>\\n                                근로장려금                            </span> </a>\\n                                            </div>\\n                </div>\\n                \\n                                <div class=\"counter\">\\n                    <span>\\n                        <strong>[접속]</strong> 회원:\\n                    </span>\\n                    <span class=\"member\">\\n                        7178                    </span>\\n                    <span>/ 비회원: </span>\\n                    <span class=\"guest\">\\n                        6786                    </span>\\n                </div>\\n                            </div>\\n\\n            <!-- ST container ST -->\\n            <div class=\"container\">\\n\\n                \\n<link rel=\"stylesheet\" type=\"text/css\" href=\"/css/popup_layer.css\">\\n<script type=\"text/javascript\">\\nfunction setNoticeLayers(name,value,expiredays){\\n\\tvar todayDate = new Date();\\n\\ttodayDate.setDate(todayDate.getDate() + expiredays);\\n\\tdocument.cookie = name + \"=\" + escape( value ) + \"; path=/; expires=\" + todayDate.toGMTString() + \";\"\\n}\\nfunction closeNoticeLayers(cookiename,layername,closename,expiredays) {\\n\\tif (document.getElementById(closename).checked == true) {\\n\\t\\tsetNoticeLayers(cookiename, \"done\" ,expiredays);\\n\\t}\\n\\tdocument.getElementById(layername).style.display = \"none\";\\n}\\n</script>\\n\\t<!-- ST Left Section ST -->\\n\\t<div class=\"left\">\\n\\n\\t\\t<div><p class=\\'banner_553\\' style=\\'border: 0;\\'><a href=\"http://s.ppomppu.co.kr/?idno=ad&ppomno=&ad_no=10303&target=aHR0cDovL3d3dy5wcG9tcHB1LmNvLmtyL3pib2FyZC96Ym9hcmQucGhwP2lkPXVoYWtfY29uc3VsdA==&encode=on\" target=\"_self\"><img src=\"//img.ppomppu.co.kr/zboard/data3/banner/main/180628162232.jpg\" height=\"100\" /></a></p></div>\\n\\n\\n\\t    <!-- Shopping hot deals -->\\n    \\t\\r\\n\\r\\n<div class=\"shopping\">\\r\\n\\t<div class=\"title\">\\r\\n\\t\\t<a href=\"/zboard/zboard.php?id=shopping\"><i class=\"icon icon-shopping\"></i><span>쇼핑몰특가모음</span></a>\\r\\n        <div class=\"list-controls\" style=\"\"><span class=\"shopping-prev btn-prev\"></span><span class=\"shopping-next btn-next\"></span></div>\\r\\n\\t\\t<div class=\"quick-link\"><a href=\"/zboard/zboard.php?id=pmarket\"><i class=\"icon icon-company\"></i>업체게시판</a><a href=\"/zboard/zboard.php?id=ppomppu3\"><i class=\"icon icon-md\"></i>MD뽐뿌</a></div>\\r\\n\\t</div>\\r\\n\\t<div class=\"wrap\">\\r\\n        <div class=\"shopping-list\">\\r\\n        <ul><li><a href=\\'/zboard/view.php?id=shopping&no=9798&search_type=name&keyword=\\'> <b>[탑텐몰] [오늘이마지막] [5% 추가 할인] 카카오플러스친구 전용 쿠폰 / 신규가입 10% 쿠폰 + 플러스친구 5% =15% 할인 ~ 세일상품 적용까지?!</b></a></li>\\n<li><a href=\\'/zboard/view.php?id=shopping&no=9797&search_type=name&keyword=\\'> [G9]신선지구 게살 가득 칠리크랩  2인세트 쿠킹박스 11900원 무배 (동남아 BEST 쿠킹박스)+할인쿠폰증정</a></li>\\n<li><a href=\\'/zboard/view.php?id=shopping&no=9787&search_type=name&keyword=\\'> [Qoo10] 샤오미 무선선풍기 초특가! 9만원대/ 샤오미 침대 쿨매트 3만원 특가/ 샤오미 태블릿4 최신형 20만원대/ 에어팟 15만원대! 페이코포인트결제시/ 밥블레스* 미니그릴, 튀김냄비 특가!/ 샤오미 무선스마트스탠드 선풍기 9만8천원대!/ 外 다수</a></li>\\n<li><a href=\\'/zboard/view.php?id=shopping&no=9780&search_type=name&keyword=\\'> [뽐뿌PC몰] 여름은 치킨이닭! 배그 조립PC 모음전</a></li>\\n<li><a href=\\'/zboard/view.php?id=shopping&no=9765&search_type=name&keyword=\\'> [CJmall] 매일매일 GIFT? 매일드리는 생일선물 받아가세요! 쿠폰에 특가딜 까지!</a></li>\\n<li><a href=\\'/zboard/view.php?id=shopping&no=9761&search_type=name&keyword=\\'> [석공의꿈] 유에스베드 매트리스 패밀리세일(7/20~22)- 씰리, 스턴즈&포스터, 템퍼페딕 등</a></li>\\n<li><a href=\\'/zboard/view.php?id=shopping&no=9753&search_type=name&keyword=\\'> [이마트몰] 앱푸시 4가지 혜택!!! 5만원이상 구매시 5천원 할인쿠폰!!!+할인상품 실시간 알림!!</a></li>\\n<li><a href=\\'/zboard/view.php?id=shopping&no=9700&search_type=name&keyword=\\'> [신세계몰] 오이쇼! 버쉬카! SALE ~50%! 인기있는 품목들은 금방 사라지니 얼른 클릭하세요!</a></li>\\n<li><a href=\\'/zboard/view.php?id=shopping&no=9051&search_type=name&keyword=\\'> [티몬]단 하루! 글로 디바이스 + 리스테린 초특가! 45% 할인</a></li>\\n<li><a href=\\'/zboard/view.php?id=pmarket&no=238622&search_type=name&keyword=\\'><img src=\"//img.ppomppu.co.kr/images/ppomcoupon_event_04.png\"  />  [구스통 호박인절미] 이 미친 쫀득함에 반할걸??? 2차 시작한다구~ 빨리 먹자구!!! 여름에 차갑게 먹으면 최고에요~</a></li>\\n</ul>\\\\n<ul><li><a href=\\'/zboard/view.php?id=shopping&no=9809&search_type=name&keyword=\\'> <b>[11번가] 초슬림 게이밍 노트북 ! LG울트라 PC 7% 할인쿠폰 증정 !</b></a></li>\\n<li><a href=\\'/zboard/view.php?id=shopping&no=9808&search_type=name&keyword=\\'> [다나와] 아기바람 선풍기 8만원대 / 에어프라이어 7만원대 / 던롭 아이언 34%할인 / 샤오미 무선청소기 20만원대 / 지크 엔진오일 1만원대</a></li>\\n<li><a href=\\'/zboard/view.php?id=shopping&no=9807&search_type=name&keyword=\\'> [신한카드 올댓여행] 코타키나발루 르메르디앙 특급 5일 419,000원~</a></li>\\n<li><a href=\\'/zboard/view.php?id=shopping&no=9805&search_type=name&keyword=\\'> [싱글888] 날씨가 더워질수록, 우리의 가격은 내려간다! (초복맞이 핫딜)</a></li>\\n<li><a href=\\'/zboard/view.php?id=shopping&no=9804&search_type=name&keyword=\\'> [삼성카드쇼핑몰] 일화 탄산수 250ml x 60캔 = 12,900원 무배 최저가</a></li>\\n<li><a href=\"http://click.linkprice.com/click.php?m=tmon&a=A100211316&l=9999&l_cd1=3&l_cd2=0&s=mpage&tu=http%3A%2F%2Fwww.ticketmonster.co.kr%2Fentry%2F%3Fjp%3D80028%26ln%3D236329%26p_no%3D555339194&u_id=main_hotdeal\" target=\"_blank\">[HOTDEAL] SNS핫!타조/양모 먼지털이개 먼지제거~  7,900원 </b></a></li>\\n<li>&nbsp;</li>\\n<li>&nbsp;</li>\\n<li>&nbsp;</li>\\n<li>&nbsp;</li>\\n</ul>\\n\\r\\n        </div>\\r\\n\\t</div>\\r\\n</div>\\r\\n\\n\\t    <!-- Gallery -->\\n        <div class=\"gallery\">\\n                <!--자유갤러리-->\\r\\n           <div class=\"gallery-free\">\\r\\n                           \\t\\t<a href=\"/zboard/zboard.php?id=free_picture\"><h3>자유갤러리</h3></a>\\r\\n\\r\\n\\t\\t\\t\\t<a href=\"http://www.ppomppu.co.kr/zboard/view.php?id=free_picture&no=192814\" class=\"thumbnail\" style=\"background-image:url(//img.ppomppu.co.kr/zboard/data/_thumb/free_picture/4/small_192814.jpg)\"></a>\\r\\n                       \\r\\n\\t\\t\\t\\t<a href=\"http://www.ppomppu.co.kr/zboard/view.php?id=free_picture&no=192813\" class=\"thumbnail\" style=\"background-image:url(//img.ppomppu.co.kr/zboard/data/_thumb/free_picture/3/small_192813.jpg)\"></a>\\r\\n                       \\r\\n\\t\\t\\t\\t<a href=\"http://www.ppomppu.co.kr/zboard/view.php?id=free_picture&no=192812\" class=\"thumbnail\" style=\"background-image:url(//img.ppomppu.co.kr/zboard/data/_thumb/free_picture/2/small_192812.jpg)\"></a>\\r\\n                       \\r\\n\\t\\t\\t</div>\\r\\n        <div class=\"gallery-mobile\">\\r\\n    \\t<a href=\"/zboard/zboard.php?id=mobile_gallery\"><h3>모바일갤러리</h3></a>\\r\\n\\r\\n\\t<a href=\"http://www.ppomppu.co.kr/zboard/view.php?id=mobile_gallery&no=75057\" class=\"thumbnail\" style=\"background-image:url(//img.ppomppu.co.kr/zboard/data/_thumb/mobile_gallery/7/small_75057.jpg)\"></a>\\r\\n\\t<a href=\"http://www.ppomppu.co.kr/zboard/view.php?id=mobile_gallery&no=75056\" class=\"thumbnail\" style=\"background-image:url(//img.ppomppu.co.kr/zboard/data/_thumb/mobile_gallery/6/small_75056.jpg)\"></a>\\r\\n</div>\\r\\n        </div>\\n        \\n        <!-- Latest post -->\\n        <div class=\"latest\">\\r\\n\\t<div class=\"title\">\\r\\n\\t\\t<h3>전체 최신글<small>NEW</small></h3>\\r\\n\\t\\t<div class=\"quick-link\">\\r\\n\\t\\t\\t<a href=\"/recent_main_article.php\" class=\"menu\">메뉴별 최신글 &#10010;</a><a href=\"/recent_forum_article.php\" class=\"forum\">포럼별 최신글 &#10010;</a>\\r\\n         </div>\\r\\n    </div>\\r\\n\\t<ul>\\r\\n<li><a href=\\'/zboard/zboard.php?id=bus_consult\\' class=\\'category\\'><strong>[버스대절상담]</strong></a>\\r\\n        <a href=\\'/zboard/zboard.php?id=bus_consult\\' class=\\'title\\'><span style=\\'color:#1264b1;\\'>결혼식, 워크샵, 단체여행 관광버스 대절도 뽐뿌에서 가능합니다!</span></a></span></li><li><a href=\"/zboard/zboard.php?id=freeboard\" class=\"category\">[자유게시판]</a><a href=\"/zboard/view.php?id=freeboard&no=5953520\" class=\"title\">52시간 근무제 시작해서 저희 회사는 많은 변화가 있네요</a><span class=\"comment-count\">&nbsp;</span><span class=\"name\">/산삼이당</span></li><li><a href=\"/zboard/zboard.php?id=phone\" class=\"category\">[휴대폰포럼]</a><a href=\"/zboard/view.php?id=phone&no=3445357\" class=\"title\">T플랜 요금제 정리????</a><span class=\"comment-count\">&nbsp;</span><span class=\"name\">/조그만한빛</span></li><li><a href=\"/zboard/zboard.php?id=androidtab\" class=\"category\">[안드로이드탭]</a><a href=\"/zboard/view.php?id=androidtab&no=141381\" class=\"title\">hdx 8.9 유튜브가 1080p까지밖에 안되네요?</a><span class=\"comment-count\">&nbsp;</span><span class=\"name\">/수�纛�</span></li><li><a href=\"/zboard/zboard.php?id=phone2\" class=\"category\">[휴대폰질문]</a><a href=\"/zboard/view.php?id=phone2&no=1676383\" class=\"title\">인천 아이폰x</a><span class=\"comment-count\">&nbsp;</span><span class=\"name\">/Ab93</span></li><li><a href=\"/zboard/zboard.php?id=phone\" class=\"category\">[휴대폰포럼]</a><a href=\"/zboard/view.php?id=phone&no=3445355\" class=\"title\">sk신요금제때문에 gs25 5+ 해지할지 고민이네요</a><span class=\"comment-count\">&nbsp;</span><span class=\"name\">/한보신</span></li><li><a href=\"/zboard/zboard.php?id=phone\" class=\"category\">[휴대폰포럼]</a><a href=\"/zboard/view.php?id=phone&no=3445354\" class=\"title\">플레이스토어)File Explorer 프로 - 무료할인</a><span class=\"comment-count\">&nbsp;</span><span class=\"name\">/두두뮴</span></li><li><a href=\"/zboard/zboard.php?id=phone\" class=\"category\">[휴대폰포럼]</a><a href=\"/zboard/view.php?id=phone&no=3445353\" class=\"title\">SKT 주요 요금제 정리본 (온가족할인, 선택약정, 복지할인) ver.20180718</a><span class=\"comment-count\">4</span><span class=\"name\">/조그만한빛</span></li><li><a href=\"/zboard/zboard.php?id=freeboard\" class=\"category\">[자유게시판]</a><a href=\"/zboard/view.php?id=freeboard&no=5953519\" class=\"title\">문재인 귀한 줄 알아야 한다.jpg</a><span class=\"comment-count\">3</span><span class=\"name\">/코미더이</span></li><li><a href=\"/zboard/zboard.php?id=freeboard\" class=\"category\">[자유게시판]</a><a href=\"/zboard/view.php?id=freeboard&no=5953518\" class=\"title\">오늘은 더워서 못 나가겠네요</a><span class=\"comment-count\">&nbsp;</span><span class=\"name\">/간꼬등어_for_Ita...</span></li><li class=\"ad\"><a href=\"/zboard/zboard.php?id=camping\" class=\"category\">[캠핑포럼]</a><a href=\"/zboard/view.php?id=camping&no=209637\" class=\"title\">선유도 해수욕장에 그늘진 곳 있는가요?</a><span class=\"comment-count\">&nbsp;</span><span class=\"name\">/남도지기</span></li><li><a href=\"/zboard/zboard.php?id=phone2\" class=\"category\">[휴대폰질문]</a><a href=\"/zboard/view.php?id=phone2&no=1676382\" class=\"title\">홍미노트5 동영상 재생 해보신 분 계신가요?</a><span class=\"comment-count\">&nbsp;</span><span class=\"name\">/ehdrbs500</span></li><li><a href=\"/zboard/zboard.php?id=freeboard\" class=\"category\">[자유게시판]</a><a href=\"/zboard/view.php?id=freeboard&no=5953517\" class=\"title\">오늘은 세븐표 카페라떼</a><span class=\"comment-count\">2</span><span class=\"name\">/참좋은날이에요</span></li><li><a href=\"/zboard/zboard.php?id=freeboard\" class=\"category\">[자유게시판]</a><a href=\"/zboard/view.php?id=freeboard&no=5953516\" class=\"title\">WWE 써머슬램 2018 유니버셜 타이틀전 특별심판 헐크 호건?</a><span class=\"comment-count\">&nbsp;</span><span class=\"name\">/글로벌포스</span></li><li><a href=\"/zboard/zboard.php?id=money\" class=\"category\">[재테크포럼]</a><a href=\"/zboard/view.php?id=money&no=279589\" class=\"title\">페이코 우리체크카드 1원 이상 결제.. 최초사용건을 취소하면.</a><span class=\"comment-count\">&nbsp;</span><span class=\"name\">/로티셔리</span></li><li><a href=\"/zboard/zboard.php?id=phone\" class=\"category\">[휴대폰포럼]</a><a href=\"/zboard/view.php?id=phone&no=3445352\" class=\"title\">s8기변ㅜ</a><span class=\"comment-count\">&nbsp;</span><span class=\"name\">/미쇼닝ㅎ</span></li><li><a href=\"/zboard/zboard.php?id=money\" class=\"category\">[재테크포럼]</a><a href=\"/zboard/view.php?id=money&no=279588\" class=\"title\">하나 lg전자 렌탈플러스나 롯데 lg전자스페셜 발급받고싶어요~</a><span class=\"comment-count\">&nbsp;</span><span class=\"name\">/안내면</span></li><li><a href=\"/zboard/zboard.php?id=phone2\" class=\"category\">[휴대폰질문]</a><a href=\"/zboard/view.php?id=phone2&no=1676381\" class=\"title\">q7, g7 차이가 많이 나려나요?</a><span class=\"comment-count\">1</span><span class=\"name\">/Providence@</span></li><li><a href=\"/zboard/zboard.php?id=stock\" class=\"category\">[증권포럼]</a><a href=\"/zboard/view.php?id=stock&no=125768\" class=\"title\">제일제강 뭐에요?? 궁금</a><span class=\"comment-count\">&nbsp;</span><span class=\"name\">/세상의중심에서다</span></li><li><a href=\"/zboard/zboard.php?id=movie\" class=\"category\">[영화포럼]</a><a href=\"/zboard/view.php?id=movie&no=52994\" class=\"title\">데드풀 1편의 유머, 패러디, 팝컬쳐, 레퍼런스 분석 | 7, 8편 (완결)</a><span class=\"comment-count\">&nbsp;</span><span class=\"name\">/Frank.Castle...</span></li></ul>\\r\\n\\r\\n</div>\\r\\n\\r\\n\\r\\n<div class=\"advice_room\" style=\"margin-top:2px;\">\\r\\n     <p> <a href=\"/recent_main_article.php?type=consult\" target=\"_self\"><strong>뽐뿌상담실 </strong><img class=\"notice_ico\" src=\"/images/puls_icon.gif\" alt=\"뽐뿌상담실 아이콘\"></a></p>\\r\\n\\r\\n         <a href=\"/zboard/zboard.php?id=interior_consult\" target=\"_self\">\\r\\n\\t    <div class=\"view\" style=\"background:url(\\'/images/main/consult/banner_interior_consult.jpg\\')\">\\r\\n\\t       <div class=\"cover\">\\r\\n\\t             <p>[인테리어상담]</p>\\r\\n\\t             <span class=\"tx\" style=\"color:#d7d7d7; max-width:100px; display:inline-block; text-overflow:ellipsis;\\r\\n\\t             overflow:hidden; white-space:nowrap; margin-left:8px;\">붙박이장 문의</span>\\r\\n\\t       </div>\\r\\n\\t    </div>\\r\\n    </a>\\r\\n    <ul>         <li>\\r\\n            <a href=\"/zboard/zboard.php?id=tax_consult\" class=\"category2\" target=\"_self\">[세무상담]</a>\\r\\n            <a href=\"/zboard/zboard.php?id=tax_consult\" class=\"title2\" target=\"_self\">토지 증여 문의</a>\\r\\n            <span class=\"comment-count\">1</span><span class=\"name\">/[* 익명 *]</span>\\r\\n         </li>\\r\\n\\r\\n             <li>\\r\\n            <a href=\"/zboard/zboard.php?id=law_consult\" class=\"category2\" target=\"_self\">[법률상담]</a>\\r\\n            <a href=\"/zboard/zboard.php?id=law_consult\" class=\"title2\" target=\"_self\">음식점에서 마리카락이 나왔다고 하면서.. 조언 좀 부탁드립니다.</a>\\r\\n            <span class=\"comment-count\">0</span><span class=\"name\">/[* 익명 *]</span>\\r\\n         </li>\\r\\n\\r\\n             <li>\\r\\n            <a href=\"/zboard/zboard.php?id=tele_consult\" class=\"category2\" target=\"_self\">[통신상담]</a>\\r\\n            <a href=\"/zboard/zboard.php?id=tele_consult\" class=\"title2\" target=\"_self\">lg U+ 인터넷 전화 신규 문의</a>\\r\\n            <span class=\"comment-count\">0</span><span class=\"name\">/[* 익명 *]</span>\\r\\n         </li>\\r\\n\\r\\n             <li>\\r\\n            <a href=\"/zboard/zboard.php?id=car_consult\" class=\"category2\" target=\"_self\">[중고차상담]</a>\\r\\n            <a href=\"/zboard/zboard.php?id=car_consult\" class=\"title2\" target=\"_self\">09년 라세티프리미어 디젤 2.0 판매</a>\\r\\n            <span class=\"comment-count\">0</span><span class=\"name\">/[* 익명 *]</span>\\r\\n         </li>\\r\\n\\r\\n             <li>\\r\\n            <a href=\"/zboard/zboard.php?id=move_consult\" class=\"category2\" target=\"_self\">[이사/청소상담]</a>\\r\\n            <a href=\"/zboard/zboard.php?id=move_consult\" class=\"title2\" target=\"_self\">이사견적 문의드립니다.</a>\\r\\n            <span class=\"comment-count\">1</span><span class=\"name\">/[* 익명 *]</span>\\r\\n         </li>\\r\\n\\r\\n    </ul>\\r\\n</div>\\r\\n\\r\\n\\r\\n    </div>\\n    <!-- ED Left Section ED -->\\n\\n    <!-- ST Right Section ST -->\\n    <div class=\"right\">\\n        <!-- Login -->\\n        <script type=\"text/javascript\">\\n//<![CDATA[\\n    function zb_login_check_submit() {\\n        var $user_id = $(\"form[name=\\'zb_login\\'] input[id=\\'user_id\\']\");\\n        var $password = $(\"form[name=\\'zb_login\\'] input[name=\\'password\\']\");\\n        if ($user_id.val() === \"\") {\\n            alert(\"아이디를 입력하여 주십시요\");\\n            $user_id.focus();\\n            return false;\\n        }\\n        if ($password.val() === \"\") {\\n            alert(\"비밀번호를 입력하여 주십시요\");\\n            $password.focus();\\n            return false;\\n        }\\n        return true;\\n    }\\n    function check_autologin() {\\n        var $auto_login = $(\"form[name=\\'zb_login\\'] input[name=\\'auto_login\\']\");\\n        if ($auto_login.attr(\\'checked\\')) {\\n            var check;\\n            check = confirm(\"자동 로그인 기능을 사용하시겠습니까?\\\\n\\\\n자동 로그인 사용시 다음 접속부터는 로그인을 하실필요가 없습니다.\\\\n\\\\n단, 게임방, 학교등 공공장소에서 이용시 개인정보가 유출될수 있으니 주의해주세요\");\\n            if (check === false) {\\n                $auto_login.attr(\\'checked\\', false);\\n            }\\n        }\\n    }\\n//]]>\\n</script>\\n\\n<!-- ST 로그인 ST -->\\n<div class=\"login_box\" style=\"height:100%; float: inherit;\">\\n    <p><a href=\"/zboard/login.php\"><img src=\"/images/main/btn_login.jpg\"></a></p>\\n</div>\\n\\n<div class=\"login_box\" style=\"border-bottom:0px;height:100%;\">\\n    <ul>\\n        <li class=\"user_info_04\" style=\"clear: both;\">\\n            <ul class=\"login_bottom_ch\">\\n              <li class=\"join\"><a href=\"https://www.ppomppu.co.kr/zboard/join.php?group_no=1\"><b>회원가입</b></a></li>\\n              <li>\\n                 <ul class=\"find_ch\">\\n                   <li><a href=\"https://www.ppomppu.co.kr/auth/auth.php?tab=id\" target=\"_blank\">아이디찾기</a></li>\\n                   <li class=\"line_sun\">|</li>\\n                   <li><a href=\"https://www.ppomppu.co.kr/auth/auth.php?tab=pwd\" target=\"_blank\">비밀번호찾기</a></li>\\n                 </ul>\\n             </li>\\n            </ul>\\n       </li>\\n       <li class=\"user_info_03 user_out\">\\n            <a href=\"javascript:;\" id=\"user_box_article\" class=\"on\"><img src=\"/images/tab_ico.png\" alt=\"말풍선\">커뮤니티<span class=\"color\">인기</span>글</a>\\n            <a href=\"javascript:;\" id=\"user_box_comment\"><img src=\"/images/tab_ico.png\" alt=\"말풍선\">포럼<span class=\"color\">인기</span>글</a>\\n       </li>\\n\\n       <!-- <li class=\"user_info_03\">\\n            <a href=\"/zboard/login.php\" id=\"user_box_article\"><span class=\"user_menu01 \"></span></a>\\n            <a href=\"/zboard/login.php\" id=\"user_box_comment\"><span class=\"user_menu02\"></span></a>\\n            <a href=\"/zboard/login.php\" id=\"user_box_ip\"><span class=\"user_menu03\"></span></a>\\n            <a href=\"/zboard/zboard.php?id=notice\" id=\"user_box_notice\"><span class=\"user_menu04 user_menu04_on\"><img src=\"images/ico_new.gif\" id=\"user_box_notice_new_icon\" style=\"display:none;margin:10px 0 0 65px;\"></span></a>\\n        </li>-->\\n    </ul>\\n</div>\\n\\n\\n<!-- ED 로그인 ED -->\\n\\n        <!-- Notice -->\\n        <div id=\"user_box_content4\" class=\"list_pop_menu01 user_box_out user_box_out1\" style=\"\">\\n    <ul class=\"imgbox\">\\n        <li><a href=\"http://www.ppomppu.co.kr/zboard/view.php?id=freeboard&no=5953491\"\\n            style=\"background-image: url(\\'//cdn.ppomppu.co.kr/zboard/data3/2018/0718/m_20180718160810_qxofeeal.jpg\\');background-size: cover;\"></a></li>\\n        <li>\\n            <a href=\"http://www.ppomppu.co.kr/zboard/view.php?id=freeboard&no=5953491\">\\n            <h3>[사건 사진 포함] 현재 난리난 초등학교 사건.jpg</h3><span class=\"countNum\">48</span>\\n            <p>\\r\\n\\r\\n   \\r\\n\\r\\n\\r\\n본문글 원문 링크\\r\\n\\r\\n   https://cafe.naver.com/twozone/141076?viewType=pc\\r\\n\\r\\n\\r\\n\\r\\n\\r\\n\\r\\n   \\r\\n\\r\\n본문글 올라온 뒤 가해학생 아버지가 올린 글 링크\\r\\n\\r\\n   https://cafe.naver.com/twozone/141165?viewType=pc\\r\\n\\r\\n\\r\\n\\r\\n</p></a>\\n        </li>\\n    </ul>\\n    <ul>\\n                <li class=\"\">\\n            <a href=\"http://www.ppomppu.co.kr/zboard/view.php?id=freeboard&no=5953455\"><span style=\"float: left; max-width: 231px; display: inline-block; text-overflow: ellipsis; overflow: hidden; white-space: nowrap;\">도지사가 공관 좀 쓰겠다는데 뭐가 문제냐고?.twit</span><span class=\"countNum\">47</span></a>\\n        </li>\\n                <li class=\"\">\\n            <a href=\"http://www.ppomppu.co.kr/zboard/view.php?id=freeboard&no=5953140\"><span style=\"float: left; max-width: 231px; display: inline-block; text-overflow: ellipsis; overflow: hidden; white-space: nowrap;\">투썸 빙수 기프티콘 쓴사람 x된건가요 ㄷㄷ</span><span class=\"countNum\">61</span></a>\\n        </li>\\n                <li class=\"\">\\n            <a href=\"http://www.ppomppu.co.kr/zboard/view.php?id=freeboard&no=5953370\"><span style=\"float: left; max-width: 231px; display: inline-block; text-overflow: ellipsis; overflow: hidden; white-space: nowrap;\">최저임금으로 나라 망한다는 망무새들 뼈 때리는 팩폭.twit</span><span class=\"countNum\">59</span></a>\\n        </li>\\n                <li class=\"\">\\n            <a href=\"http://www.ppomppu.co.kr/zboard/view.php?id=freeboard&no=5953131\"><span style=\"float: left; max-width: 231px; display: inline-block; text-overflow: ellipsis; overflow: hidden; white-space: nowrap;\">부모님이 삼성 무풍에어컨을 샀다하시는데요</span><span class=\"countNum\">116</span></a>\\n        </li>\\n                <li class=\"\">\\n            <a href=\"http://www.ppomppu.co.kr/zboard/view.php?id=freeboard&no=5953249\"><span style=\"float: left; max-width: 231px; display: inline-block; text-overflow: ellipsis; overflow: hidden; white-space: nowrap;\">편의점 알바가 쉬운 게 아닌 이유</span><span class=\"countNum\">106</span></a>\\n        </li>\\n                <li class=\"\">\\n            <a href=\"http://www.ppomppu.co.kr/zboard/view.php?id=freeboard&no=5953272\"><span style=\"float: left; max-width: 231px; display: inline-block; text-overflow: ellipsis; overflow: hidden; white-space: nowrap;\">고속도로 분노조절장애</span><span class=\"countNum\">67</span></a>\\n        </li>\\n                <li class=\"\">\\n            <a href=\"http://www.ppomppu.co.kr/zboard/view.php?id=freeboard&no=5953266\"><span style=\"float: left; max-width: 231px; display: inline-block; text-overflow: ellipsis; overflow: hidden; white-space: nowrap;\">아기 낳는거 많이 아플까요?</span><span class=\"countNum\">120</span></a>\\n        </li>\\n                <li class=\"\">\\n            <a href=\"http://www.ppomppu.co.kr/zboard/view.php?id=freeboard&no=5953259\"><span style=\"float: left; max-width: 231px; display: inline-block; text-overflow: ellipsis; overflow: hidden; white-space: nowrap;\">수박 썰다 손가락끝 잘라먹어서 봉합하고 왔슈...</span><span class=\"countNum\">102</span></a>\\n        </li>\\n                <li class=\"\">\\n            <a href=\"http://www.ppomppu.co.kr/zboard/view.php?id=freeboard&no=5953233\"><span style=\"float: left; max-width: 231px; display: inline-block; text-overflow: ellipsis; overflow: hidden; white-space: nowrap;\">24세 청년 원룸에서 자살 백골로 발견</span><span class=\"countNum\">86</span></a>\\n        </li>\\n        </ul>\\n</div>\\n\\n\\n<div id=\"user_box_content4\" class=\"list_pop_menu01 user_box_out user_box_out2\" style=\"\">\\n    <ul class=\"imgbox\">\\n        <li><a href=\"http://www.ppomppu.co.kr/zboard/view.php?id=phone&no=3445323\"\\n            style=\"background-image: url(\\'//cdn.ppomppu.co.kr/zboard/data3/2018/0718/m_20180718153026_ybnnsnql.jpg\\');background-size: cover;\"></a></li>\\n        <li>\\n            <a href=\"http://www.ppomppu.co.kr/zboard/view.php?id=phone&no=3445323\">\\n            <h3>T가족모아 제도 설명 (데이터 공유)</h3><span class=\"countNum\">72</span>\\n            <p>1. 기본적으로는 인피니티/패밀리 1개 이상의 회선이 있어야되고, 이외의 최대 4개 회선은 다음 요금제 중 하나여야 합니다.- T플랜(패밀리/인피니티/스몰/미디엄/라지)/주말엔 팅 3 종/쿠키즈 스마트\\r\\n\\r\\n2. 결합이 완료되면, 기본적으로 인피니티/패밀리 고객의 데이터 중 T가족모아 데이터로 설정된 부분만큼 공유가 가능합니다.즉 제도 결합이 완료되었다고 끝이 아니고, 인피니티/패밀리 고객이 T가족모아 데이터로 설정해야 그만큼만 공유가 됩니다. (설정 방법은 하단 참고)\\r\\n(공유 한도는 패밀리 20기가, 인피니티 40기가이고 이 한도는 테더링을 제외하고 데이터 선물하기+함께쓰기+태블릿/스마트워치 공유+P2P 통합입니다)\\r\\n\\r\\n3. 2번의 유의사항 때문에, 20기가 혹은 40기가를 T가족모아 데이터로 몰빵하면 데이터 선물하기 (가족/가족 외 모두), 함께쓰기, 태블릿/스마트워치 공유 등이 모두 동작하지 않습니다.데이터 선물하기나 함께쓰기 등을 쓰시는 경우 감안해서 남겨두시고 T가족모아 데이터를 설정하세요.\\r\\n\\r\\n4. 그룹 내 패밀리 회선당 20기가, 인피니티 회선당 40기가까지 끌어올 수 있습니다.예를 들어 그룹에 인피니티 1회선+패밀리 1회선이 있다면 60기가까지 T가족모아 데이터로 끌어올 수 있습니다.\\r\\n\\r\\n5. 스몰과 미디엄 고객의 경우, T가족모아 제도에 가입되어 있으면 기본데이터 및 공유 데이터를 모두 사용한 후에 400kbps 수준의 QoS (안심옵션)을 무료로 이용 가능합니다.\\r\\n\\r\\n6. 기본 데이터를 다 쓰고 나서, T가족모아 데이터가 활용됩니다.\\r\\n\\r\\n7. T가족모아 데이터는 즉시 공유, 자동 공유 설정이 있습니다. 앱에서 됩니다.즉시 공유는 바로, 자동 공유는 다음달 공유할 양을 설정하는 기능입니다.현재까지 회선별로 얼만큼 공유할지는 없고, 그냥 공유된 만큼 모든 구성원이 사용합니다.\\r\\n한 번 공유하면 취소가 안되니까, 처음부터 너무 다 몰빵하는건 자제하세요.\\r\\n\\r\\n   \\r\\n\\r\\n8. 안드로이드도 될 건데, 아이폰에서 T가족모아 데이터를 위젯에 넣을 수 있습니다.인피니티나 패밀리 멤버는 공유 데이터가 얼만큼 쓰였는지 확인 용도로 쓸 수 있습니다. (추가 공유가 필요한 경우 공유할 수 있도록)\\r\\n\\r\\n\\r\\n\\r\\n\\r\\n유의사항)\\r\\n1. 온가족 할인/플랜/무료 등과 중복 가능\\r\\n\\r\\n2. 착한가족 결합과 중복 가능\\r\\n3. 1/2번의 제도와 구성 멤버가 달라도 됨(현재까지는 본인 명의 회선이 한 그룹에 있어야 한다는 제약은 못 봄 -&gt; 해보면 답이 나오겠죠?)\\r\\n4. 최대 5회선 제한 있음. 1/2번과 달리, 5회선 모두 본인 명의로 채워도 됨\\r\\n</p></a>\\n            <span class=\"forumName\">[휴대폰포럼]</span>\\n        </li>\\n    </ul>\\n    <ul>\\n                <li class=\"\">\\n            <a href=\"http://www.ppomppu.co.kr/zboard/view.php?id=camping&no=209632\"><span style=\"float: left; max-width: 231px; display: inline-block; text-overflow: ellipsis; overflow: hidden; white-space: nowrap;\">[고찰] 에어박스 구매 예정자를 위한 글</span><span class=\"countNum\">53</span><span class=\"forumName\">[캠핑포럼]</span></a>\\n        </li>\\n                <li class=\"\">\\n            <a href=\"http://www.ppomppu.co.kr/zboard/view.php?id=house&no=107540\"><span style=\"float: left; max-width: 231px; display: inline-block; text-overflow: ellipsis; overflow: hidden; white-space: nowrap;\">갭투자는 적폐인데 전세제도는 있어야 한다구요?</span><span class=\"countNum\">107</span><span class=\"forumName\">[부동산포럼]</span></a>\\n        </li>\\n                <li class=\"\">\\n            <a href=\"http://www.ppomppu.co.kr/zboard/view.php?id=camping&no=209608\"><span style=\"float: left; max-width: 231px; display: inline-block; text-overflow: ellipsis; overflow: hidden; white-space: nowrap;\">많은분들이 캠핑일정과 휴가계획, 캠핑용품 지름 등으로 즐거운 하루를 보내고 있을 때, 이런글을 올리게 됨을 이해해 주세요.</span><span class=\"countNum\">56</span><span class=\"forumName\">[캠핑포럼]</span></a>\\n        </li>\\n                <li class=\"\">\\n            <a href=\"http://www.ppomppu.co.kr/zboard/view.php?id=camping&no=209598\"><span style=\"float: left; max-width: 231px; display: inline-block; text-overflow: ellipsis; overflow: hidden; white-space: nowrap;\">뽐쿠폰 4장 나눔합니다</span><span class=\"countNum\">58</span><span class=\"forumName\">[캠핑포럼]</span></a>\\n        </li>\\n                <li class=\"\">\\n            <a href=\"http://www.ppomppu.co.kr/zboard/view.php?id=camping&no=209599\"><span style=\"float: left; max-width: 231px; display: inline-block; text-overflow: ellipsis; overflow: hidden; white-space: nowrap;\">제목을 머라할지 모르겟네요..</span><span class=\"countNum\">56</span><span class=\"forumName\">[캠핑포럼]</span></a>\\n        </li>\\n                <li class=\"\">\\n            <a href=\"http://www.ppomppu.co.kr/zboard/view.php?id=camping&no=209581\"><span style=\"float: left; max-width: 231px; display: inline-block; text-overflow: ellipsis; overflow: hidden; white-space: nowrap;\">자동차 뒷자석 커버 새거 나눔할게요</span><span class=\"countNum\">44</span><span class=\"forumName\">[캠핑포럼]</span></a>\\n        </li>\\n                <li class=\"\">\\n            <a href=\"http://www.ppomppu.co.kr/zboard/view.php?id=phone&no=3445080\"><span style=\"float: left; max-width: 231px; display: inline-block; text-overflow: ellipsis; overflow: hidden; white-space: nowrap;\">왜 온할이 30프로죠? 당연히50프로입니다.</span><span class=\"countNum\">49</span><span class=\"forumName\">[휴대폰포럼]</span></a>\\n        </li>\\n                <li class=\"\">\\n            <a href=\"http://www.ppomppu.co.kr/zboard/view.php?id=money&no=279509\"><span style=\"float: left; max-width: 231px; display: inline-block; text-overflow: ellipsis; overflow: hidden; white-space: nowrap;\">지식은 공유해야한다. 각종세금 포인트 내는법 공유합시다.</span><span class=\"countNum\">47</span><span class=\"forumName\">[재테크포럼]</span></a>\\n        </li>\\n                <li class=\"\">\\n            <a href=\"http://www.ppomppu.co.kr/zboard/view.php?id=camping&no=209567\"><span style=\"float: left; max-width: 231px; display: inline-block; text-overflow: ellipsis; overflow: hidden; white-space: nowrap;\">좀 찌그러지면...안쓰시나...</span><span class=\"countNum\">202</span><span class=\"forumName\">[캠핑포럼]</span></a>\\n        </li>\\n        </ul>\\n</div>\\n\\n\\n\\n<script> <!-- 비회원 공지탭 스크립트 -->\\n\\n$(\\'.login_box .user_out a\\').on(\\'click\\',function(){\\n    var num = $(this).index();\\n\\n    $(\\'.login_box .user_out a\\').removeClass(\\'on\\');\\n    $(this).addClass(\\'on\\');\\n\\n    if(num==0)\\n    {\\n        $(\\'.user_box_out\\').css(\\'display\\',\\'block\\');\\n        $(\\'.user_box_out2\\').css(\\'display\\',\\'none\\');\\n    }\\n    else if(num==1)\\n    {\\n        $(\\'.user_box_out\\').css(\\'display\\',\\'none\\');\\n        $(\\'.user_box_out2\\').css(\\'display\\',\\'block\\');\\n    }\\n});\\n</script>\\n\\n        <!-- Consulting -->\\n        \\n        <!--banner336-->\\n                <div class=\"ad-banner middle-banner\">\\n        \\t<ins class=\\'adsbygoogle\\' style=\\'display:inline-block;width:336px;height:280px;\\' data-ad-client=\\'ca-pub-8847360974221676\\' data-ad-slot=\\'8219265143\\'></ins><script>(adsbygoogle = window.adsbygoogle || []).push({});</script>        </div>\\n        \\n\\t\\t\\t\\t<!-- Cellphone ppomppu -->\\n\\t\\t<div class=\"board-preview board-ppomppu\" style=\"margin-top: 15px;\">\\n\\t        <div class=\"quick-link\">\\n\\t\\t\\t\\t<a href=\"/zboard/zboard.php?id=ppomppu\">뽐뿌게시판</a>\\n\\t\\t\\t\\t<a href=\"/zboard/zboard.php?id=ppomppu2\">휴대폰뽐뿌</a>\\n\\t\\t\\t\\t<a href=\"/zboard/zboard.php?id=ppomppu4\">해외뽐뿌</a>\\n\\t\\t\\t\\t<a href=\"/zboard/zboard.php?id=ppomppu3\">MD뽐뿌</a>\\n\\t\\t\\t\\t<a href=\"/zboard/zboard.php?id=ppomppu7\">뷰티뽐뿌</a>\\n\\t\\t\\t\\t<!-- <a href=\"/zboard/zboard.php?id=saramin\">취업뽐뿌</a> -->\\n\\t\\t\\t</div>\\n\\t\\t\\t        <ul>\\n        <li><a href=\"/zboard/zboard.php?id=ppomppu\">[카카오톡 이모티콘] 찰떡이와 탱탱이의 슬로우한 일상 이모티콘 (무료/무료)</a></li>\\n<li><a href=\"/zboard/zboard.php?id=ppomppu2\">[SK,KT,U+,알뜰/무료퀵,내방가능] #공시UP-갤S9,노트8,G7# [꽁짜-A7,Q6][아이폰X,8-기변도에어팟증정][NEW-A8스타,V35,Q7+,A6][특가-V30,갤8,...</a></li>\\n<li><a href=\"/zboard/zboard.php?id=ppomppu4\">[aliexpress] Bluedio TN Active Noise Cancelling Sports Bluetooth Earphone ($9.12/무료)</a></li>\\n<li><a href=\"/zboard/zboard.php?id=ppomppu3\">[ebay]마샬 스톡웰 ($119.99/ 미국 내 무료배송)</a></li>\\n<li><a href=\"/zboard/zboard.php?id=ppomppu7\">[라식/라섹] 뽐뿌와 함께하는 하.늘.안.과 여름 특별혜택</a></li>\\n        </ul>\\n\\t\\t</div>\\n\\n\\t\\t<div class=\"board-preview board-partners\" style=\"margin-top:10px;\">\\n\\t\\t\\t<div class=\"quick-link\">\\n\\t        \\t<a href=\"/zboard/zboard.php?id=pmarket2\">휴대폰업체</a>\\n\\t            <a href=\"/zboard/zboard.php?id=pmarket3\">통신업체</a>\\n\\t            <a href=\"/zboard/zboard.php?id=card_market\">카드업체</a>\\n\\t            <a href=\"/zboard/zboard.php?id=pmarket7\">렌탈업체</a>\\n\\t            <a href=\"/zboard/zboard.php?id=pmarket\">업체게시판</a>\\n\\t        </div>\\n\\t                <ul>\\n        <li><a href=\"/zboard/zboard.php?id=pmarket2\">[SK,KT,U+,알뜰/무료퀵,내방가능] #공시UP-갤S9,노트8,G7# [꽁짜-A7,Q6][아이폰X,8-기변도에어팟증정][NEW-A8스타,V35,Q7+,A6][특가-V30,갤8,...</a></li>\\n<li><a href=\"/zboard/zboard.php?id=pmarket3\">\"네? 인터넷 가입했는데 77만원을 받았다규요? 인터넷 가입 최고조건 / 당일 현금지급\"</a></li>\\n<li><a href=\"/zboard/zboard.php?id=card_market\">[ 국민카드 ] \" 7월 스 팟 정 책 공 개 \" * * 역 대 최 고 스 팟 정 책 * * 최대지원이 아닐시 무조건 +@@ 해드립니다~~!!</a></li>\\n<li><a href=\"/zboard/zboard.php?id=pmarket7\"># 렌탈다나와 전국 최강지원지급혜택 # [쿠쿠][코웨이][SK매직][현대][루헨스][청호][웅진][엘지] #비교불가#본사직영다이렉트접수#네이버까페 렌탈다나...</a></li>\\n<li><a href=\"/zboard/zboard.php?id=pmarket\">[아낌없이 주는 보험] 보장분석 - 맞춤설계 - 사후관리 - 보험스페셜리스트 [7월개정]</a></li>\\n        </ul>\\n\\t\\t</div>\\n\\t\\t\\n\\n\\t\\t<div class=\"board-preview board-news\">\\n\\t\\t\\t<div class=\"quick-link\" style=\"margin:20px 0 4px 0;\">\\n\\t\\t\\t\\t<a href=\"/zboard/zboard.php?id=news_broadcast\">방송연예</a>\\n\\t\\t\\t\\t<a href=\"/zboard/zboard.php?id=news_sports\">스포츠</a>\\n\\t\\t\\t\\t<a href=\"/zboard/zboard.php?id=news_life\">라이프</a>\\n\\t\\t\\t\\t<a href=\"/zboard/zboard.php?id=news_pol_eco\">정치경제</a>\\n\\t\\t\\t\\t<a href=\"/zboard/zboard.php?id=news2\">IT</a>\\n\\t\\t\\t</div>\\n\\t        \\r\\n<ul>\\r\\n                <li>\\r\\n                <a href=\"http://www.ppomppu.co.kr/zboard/view.php?id=news_sports&no=11190\"><div class=\"thumbnail\" style=\"background-image:url(\\'//img.ppomppu.co.kr/zboard/data/_thumb/news_sports/0/small_11190.jpg\\');\"></div><p> 하원미, 추신수 첫 올스타전 ...</p></a>\\r\\n            </li>\\r\\n                <li>\\r\\n                <a href=\"http://www.ppomppu.co.kr/zboard/view.php?id=news_sports&no=11189\"><div class=\"thumbnail\" style=\"background-image:url(\\'//img.ppomppu.co.kr/zboard/data/_thumb/news_sports/9/small_11189.jpg\\');\"></div><p> KIA 김기태 감독, 비디오판...</p></a>\\r\\n            </li>\\r\\n                <li>\\r\\n                <a href=\"http://www.ppomppu.co.kr/zboard/view.php?id=news_sports&no=11188\"><div class=\"thumbnail\" style=\"background-image:url(\\'//img.ppomppu.co.kr/zboard/data/_thumb/news_sports/8/small_11188.jpg\\');\"></div><p> 이원희♥윤지혜, 결혼 5개월 만...</p></a>\\r\\n            </li>\\r\\n    </ul>\\r\\n\\t\\t</div>\\n\\n\\n\\n\\t</div>\\n\\n\\n    <!-- ED Right Section ED -->\\n\\n\\n\\t<!-- ST Bottom Section ST -->\\n\\t<div class=\"bottom\">\\n\\t\\t\\n\\n\\t\\n\\t\\n<div class=\"img_forum\">\\n\\t<ul>\\n\\t\\t\\t\\t                            <li ><a href=\"http://www.ppomppu.co.kr/zboard/view.php?id=phone2&no=1676376\" style=\"background-image:url(\\'//cdn.ppomppu.co.kr/zboard/data3/2018/0718/m_1531898837_6722_77958632_8238_4BF3_9FDA_6BA40C91052E.jpeg\\'); \" >\\n                <span class=\"forum_text\">휴대폰질문</span></a></li>\\n            \\t\\t\\t\\t                            <li ><a href=\"http://www.ppomppu.co.kr/zboard/view.php?id=phone&no=3445345\" style=\"background-image:url(\\'//cdn.ppomppu.co.kr/zboard/data3/2018/0718/m_1531898589_6730_20180718_162037.jpg\\'); \" >\\n                <span class=\"forum_text\">휴대폰포럼</span></a></li>\\n            \\t\\t\\t\\t                            <li ><a href=\"http://www.ppomppu.co.kr/zboard/view.php?id=camping&no=209636\" style=\"background-image:url(\\'//cdn.ppomppu.co.kr/zboard/data3/2018/0718/m_1531898411_6033_1531896988344.jpg\\'); \" >\\n                <span class=\"forum_text\">캠핑포럼</span></a></li>\\n            \\t\\t\\t\\t                            <li ><a href=\"http://www.ppomppu.co.kr/zboard/view.php?id=oversea&no=691455\" style=\"background-image:url(\\'//cdn.ppomppu.co.kr/zboard/data3/2018/0718/m_20180718161702_tngfmyok.jpg\\'); \" >\\n                <span class=\"forum_text\">해외포럼</span></a></li>\\n            \\t\\t\\t\\t                            <li ><a href=\"http://www.ppomppu.co.kr/zboard/view.php?id=pet&no=43811\" style=\"background-image:url(\\'//cdn.ppomppu.co.kr/zboard/data3/2018/0718/m_1531898034_7347_20180718_160829.jpg\\'); \" >\\n                <span class=\"forum_text\">동식물포럼</span></a></li>\\n            \\t\\t\\t\\t                            <li ><a href=\"http://www.ppomppu.co.kr/zboard/view.php?id=money&no=279585\" style=\"background-image:url(\\'//cdn.ppomppu.co.kr/zboard/data3/2018/0718/m_1531897835_8911_F8393CF2_02CE_4067_99DA_F8D656A6D155.jpeg\\'); \" >\\n                <span class=\"forum_text\">재테크포럼</span></a></li>\\n            \\t\\t\\t\\t\\n\\t\\t\\t\\t<li>\\n\\t\\t\\t<a href=\"http://www.ppomppu.co.kr/myinfo/coupon/ppom_coupon.php\">\\n\\t\\t\\t<img src=\"//cdn.ppomppu.co.kr/zboard/data3/event_products/S0015889.jpg\" alt=\"포럼이미지들\">\\n\\t\\t\\t<span class=\"forum_text\"><b class=\"top_b\">[커피빈] 캐러멜 마끼아또(S)</b>뽐쿠폰 <b class=\"color\">6</b> 매</span>\\n\\t\\t\\t</a>\\n\\t\\t</li>\\n\\t\\t\\t\\t\\t\\n\\t</ul>\\n</div>\\n\\n\\n        \\n<!-- 핫게시글 -->\\n<div class=\"post-preview\" id=\"tabs-container\">\\n    <ul class=\"tabs\">\\n        <li><a rel=\"#post-tab1\" class=\"tab\" href=\"/hot.php?category=2\"><strong>HOT</strong>게시글</a><a href=\"/hot.php?category=2\"><img\\n                src=\"/images/puls_icon.gif\" alt=\"\"> </a></li>\\n        <li><a rel=\"#post-tab2\" class=\"tab\" href=\"/hot.php?category=1\">인기글</a><a href=\"/hot.php?category=1\"><img src=\"/images/puls_icon.gif\" alt=\"\"> </a>\\n        </li>\\n    </ul>\\n    <div class=\"tab-contents-container\">\\n        <div class=\"tab-contents\" id=\"post-tab1\">\\n            <div class=\"list-controls\" style=\"\">\\n                <div class=\"hot-post-pager\"></div>\\n                <span class=\"hot-post-prev btn-prev\"></span>\\n                <span class=\"hot-post-next btn-next\"></span>\\n            </div>\\n            <div class=\"wrap\">\\n                <div class=\"hot-post-list\">\\n\\n\\n                    <ul>\\n                    <li> <a href=\"/zboard/zboard.php?id=free_picture\" class=\"category\">자유갤러리 </a>\\n                        <a href=\"/zboard/view.php?id=free_picture&no=192808\" class=\"title \">황령산 아깽이4                    </a> <span class=\"comment-count\">\\n                            9                        </span> <span class=\"name\">\\n                            일기당만                        </span>\\n                    </li>\\n                                        <li> <a href=\"/zboard/zboard.php?id=camping\" class=\"category\">캠핑포럼 </a>\\n                        <a href=\"/zboard/view.php?id=camping&no=209632\" class=\"title \">[고찰] 에어박스 구매 예정자를 위한 글                    </a> <span class=\"comment-count\">\\n                            53                        </span> <span class=\"name\">\\n                            라기만쉐                        </span>\\n                    </li>\\n                                        <li> <a href=\"/zboard/zboard.php?id=stock\" class=\"category\">증권포럼 </a>\\n                        <a href=\"/zboard/view.php?id=stock&no=125754\" class=\"title \">반등의 구간이 끝나가고 있습니다                    </a> <span class=\"comment-count\">\\n                            27                        </span> <span class=\"name\">\\n                            하데베                        </span>\\n                    </li>\\n                                        <li> <a href=\"/zboard/zboard.php?id=freeboard\" class=\"category\">자유게시판 </a>\\n                        <a href=\"/zboard/view.php?id=freeboard&no=5953455\" class=\"title \">도지사가 공관 좀 쓰겠다는데 뭐가 문제냐고?.twit                    </a> <span class=\"comment-count\">\\n                            47                        </span> <span class=\"name\">\\n                            바람불면그대                        </span>\\n                    </li>\\n                                        <li> <a href=\"/zboard/zboard.php?id=phone\" class=\"category\">휴대폰포럼 </a>\\n                        <a href=\"/zboard/view.php?id=phone&no=3445323\" class=\"title \">T가족모아 제도 설명 (데이터 공유)                    </a> <span class=\"comment-count\">\\n                            72                        </span> <span class=\"name\">\\n                            GoMaybee                        </span>\\n                    </li>\\n                                        <li> <a href=\"/zboard/zboard.php?id=freeboard\" class=\"category\">자유게시판 </a>\\n                        <a href=\"/zboard/view.php?id=freeboard&no=5953139\" class=\"title \">더드림나무 나눔 입니다.                    </a> <span class=\"comment-count\">\\n                            23                        </span> <span class=\"name\">\\n                            더드림나무                        </span>\\n                    </li>\\n                                        <li> <a href=\"/zboard/zboard.php?id=freeboard\" class=\"category\">자유게시판 </a>\\n                        <a href=\"/zboard/view.php?id=freeboard&no=5953370\" class=\"title \">최저임금으로 나라 망한다는 망무새들 뼈 때리는 팩폭.twit                    </a> <span class=\"comment-count\">\\n                            59                        </span> <span class=\"name\">\\n                            바람불면그대                        </span>\\n                    </li>\\n                                        <li> <a href=\"/zboard/zboard.php?id=camping\" class=\"category\">캠핑포럼 </a>\\n                        <a href=\"/zboard/view.php?id=camping&no=209608\" class=\"title \">많은분들이 캠핑일정과 휴가계획, 캠핑용품 지름 등으로 즐거운 하루를 보내고 있을 때, 이런글을 올리게 됨을 이해해 주세요.                    </a> <span class=\"comment-count\">\\n                            56                        </span> <span class=\"name\">\\n                            성품                        </span>\\n                    </li>\\n                                        <li> <a href=\"/zboard/zboard.php?id=ppomppu4\" class=\"category\">해외뽐뿌 </a>\\n                        <a href=\"/zboard/view.php?id=ppomppu4&no=96356\" class=\"title \">[Amazon] 마샬 메이저2 블루투스 헤드폰 프라임 한정 ($48.5/미국내 무료)                    </a> <span class=\"comment-count\">\\n                            62                        </span> <span class=\"name\">\\n                            nutella                        </span>\\n                    </li>\\n                                        <li> <a href=\"/zboard/zboard.php?id=house\" class=\"category\">부동산포럼 </a>\\n                        <a href=\"/zboard/view.php?id=house&no=107540\" class=\"title \">갭투자는 적폐인데 전세제도는 있어야 한다구요?                    </a> <span class=\"comment-count\">\\n                            107                        </span> <span class=\"name\">\\n                            해맑은그르누이                        </span>\\n                    </li>\\n                    </ul>\\n<ul>\\n                    <li> <a href=\"/zboard/zboard.php?id=camping\" class=\"category\">캠핑포럼 </a>\\n                        <a href=\"/zboard/view.php?id=camping&no=209505\" class=\"title \">추첨했습니다.                    </a> <span class=\"comment-count\">\\n                            31                        </span> <span class=\"name\">\\n                            고길동v                        </span>\\n                    </li>\\n                                        <li> <a href=\"/zboard/zboard.php?id=freeboard\" class=\"category\">자유게시판 </a>\\n                        <a href=\"/zboard/view.php?id=freeboard&no=5953259\" class=\"title \">수박 썰다 손가락끝 잘라먹어서 봉합하고 왔슈...                    </a> <span class=\"comment-count\">\\n                            102                        </span> <span class=\"name\">\\n                            마이소울                        </span>\\n                    </li>\\n                                        <li> <a href=\"/zboard/zboard.php?id=ppomppu\" class=\"category\">뽐뿌게시판 </a>\\n                        <a href=\"/zboard/view.php?id=ppomppu&no=290468\" class=\"title \">[동원몰] 동원참치100g 18캔 14,630원, 샘물 2L* 18팩 6,930원 외 다수(쿠폰적용) (30,000/무료)                    </a> <span class=\"comment-count\">\\n                            56                        </span> <span class=\"name\">\\n                            뽐뿌러왔다                        </span>\\n                    </li>\\n                                        <li> <a href=\"/zboard/zboard.php?id=free_picture\" class=\"category\">자유갤러리 </a>\\n                        <a href=\"/zboard/view.php?id=free_picture&no=192796\" class=\"title \">호주 길고양이 ㅎㅎ                    </a> <span class=\"comment-count\">\\n                            9                        </span> <span class=\"name\">\\n                            낙법전수                        </span>\\n                    </li>\\n                                        <li> <a href=\"/zboard/zboard.php?id=ppomppu\" class=\"category\">뽐뿌게시판 </a>\\n                        <a href=\"/zboard/view.php?id=ppomppu&no=290478\" class=\"title \">[밴드 앱] 쥬씨 파인애플 M 1+1 (1,500 / 무료 )                    </a> <span class=\"comment-count\">\\n                            64                        </span> <span class=\"name\">\\n                            rasberry11                        </span>\\n                    </li>\\n                                        <li> <a href=\"/zboard/zboard.php?id=ppomppu4\" class=\"category\">해외뽐뿌 </a>\\n                        <a href=\"/zboard/view.php?id=ppomppu4&no=96312\" class=\"title \">[ebay] DEWALT DCK283D2 20V 20 Volt Li-Ion Brushless Drill & Impact Driver Set New NIP($154/미국내무료)                    </a> <span class=\"comment-count\">\\n                            89                        </span> <span class=\"name\">\\n                            팩트폭격기                        </span>\\n                    </li>\\n                                        <li> <a href=\"/zboard/zboard.php?id=camping\" class=\"category\">캠핑포럼 </a>\\n                        <a href=\"/zboard/view.php?id=camping&no=209598\" class=\"title \">뽐쿠폰 4장 나눔합니다                    </a> <span class=\"comment-count\">\\n                            58                        </span> <span class=\"name\">\\n                            훈정서우                        </span>\\n                    </li>\\n                                        <li> <a href=\"/zboard/zboard.php?id=freeboard\" class=\"category\">자유게시판 </a>\\n                        <a href=\"/zboard/view.php?id=freeboard&no=5953126\" class=\"title \">식물인간 병사 2년 만에 깨어나 구타 폭로.jpg                    </a> <span class=\"comment-count\">\\n                            55                        </span> <span class=\"name\">\\n                            첫코의중성요                        </span>\\n                    </li>\\n                                        <li> <a href=\"/zboard/zboard.php?id=camping\" class=\"category\">캠핑포럼 </a>\\n                        <a href=\"/zboard/view.php?id=camping&no=209599\" class=\"title \">제목을 머라할지 모르겟네요..                    </a> <span class=\"comment-count\">\\n                            56                        </span> <span class=\"name\">\\n                            날아라탱자                        </span>\\n                    </li>\\n                                        <li> <a href=\"/zboard/zboard.php?id=phone\" class=\"category\">휴대폰포럼 </a>\\n                        <a href=\"/zboard/view.php?id=phone&no=3445080\" class=\"title \">왜 온할이 30프로죠? 당연히50프로입니다.                    </a> <span class=\"comment-count\">\\n                            49                        </span> <span class=\"name\">\\n                            LineageOS                        </span>\\n                    </li>\\n                    </ul>\\n<ul>\\n                    <li> <a href=\"/zboard/zboard.php?id=ppomppu\" class=\"category\">뽐뿌게시판 </a>\\n                        <a href=\"/zboard/view.php?id=ppomppu&no=290471\" class=\"title \">[메가박스] 영화 \\'인랑\\' 1+1 예매권 (9000원/인터넷예매)                    </a> <span class=\"comment-count\">\\n                            45                        </span> <span class=\"name\">\\n                            소심돌이                        </span>\\n                    </li>\\n                                        <li> <a href=\"/zboard/zboard.php?id=humor\" class=\"category\">유머/감동 </a>\\n                        <a href=\"/zboard/view.php?id=humor&no=311613\" class=\"title \">[펌] 딸 같아서 그랬다 레전드...                    </a> <span class=\"comment-count\">\\n                            39                        </span> <span class=\"name\">\\n                            하이쿰                        </span>\\n                    </li>\\n                                        <li> <a href=\"/zboard/zboard.php?id=ppomppu\" class=\"category\">뽐뿌게시판 </a>\\n                        <a href=\"/zboard/view.php?id=ppomppu&no=290462\" class=\"title \">[위메프] 배달의민족 초복맞이 랜덤쿠폰 [100원/무료]                    </a> <span class=\"comment-count\">\\n                            232                        </span> <span class=\"name\">\\n                            컹스실화냐                        </span>\\n                    </li>\\n                                        <li> <a href=\"/zboard/zboard.php?id=camping\" class=\"category\">캠핑포럼 </a>\\n                        <a href=\"/zboard/view.php?id=camping&no=209581\" class=\"title \">자동차 뒷자석 커버 새거 나눔할게요                    </a> <span class=\"comment-count\">\\n                            44                        </span> <span class=\"name\">\\n                            꿀바가지                        </span>\\n                    </li>\\n                                        <li> <a href=\"/zboard/zboard.php?id=ppomppu4\" class=\"category\">해외뽐뿌 </a>\\n                        <a href=\"/zboard/view.php?id=ppomppu4&no=96361\" class=\"title \">[Amazon] 12-Count Gillette Fusion Men\\'s Razor Blade+12-Count Gillette Fusion5 ProGlide (25.35/미국fs)                    </a> <span class=\"comment-count\">\\n                            42                        </span> <span class=\"name\">\\n                            아리아리악수                        </span>\\n                    </li>\\n                                        <li> <a href=\"/zboard/zboard.php?id=ppomppu\" class=\"category\">뽐뿌게시판 </a>\\n                        <a href=\"/zboard/view.php?id=ppomppu&no=290450\" class=\"title \">[G마켓] 아식스 젤 케눈 라이트 남녀 런닝화 (35,600/배송비) &lt;- 쿠폰 할인 최종가 27,240                    </a> <span class=\"comment-count\">\\n                            109                        </span> <span class=\"name\">\\n                            오렌지칩                        </span>\\n                    </li>\\n                                        <li> <a href=\"/zboard/zboard.php?id=ppomppu\" class=\"category\">뽐뿌게시판 </a>\\n                        <a href=\"/zboard/view.php?id=ppomppu&no=290452\" class=\"title \">[일화몰] [1+1]초정탄산수 355ml 2종 총 48캔 13,900원                    </a> <span class=\"comment-count\">\\n                            47                        </span> <span class=\"name\">\\n                            멜러이                        </span>\\n                    </li>\\n                                        <li> <a href=\"/zboard/zboard.php?id=free_picture\" class=\"category\">자유갤러리 </a>\\n                        <a href=\"/zboard/view.php?id=free_picture&no=192791\" class=\"title \">23일차 12꼬물이들 해떨어진뒤 반상회                    </a> <span class=\"comment-count\">\\n                            26                        </span> <span class=\"name\">\\n                            맥가이버다                        </span>\\n                    </li>\\n                                        <li> <a href=\"/zboard/zboard.php?id=ppomppu\" class=\"category\">뽐뿌게시판 </a>\\n                        <a href=\"/zboard/view.php?id=ppomppu&no=290430\" class=\"title \">[옥션] 경복궁 야간 개장 3,000원 (3,000/무배)                    </a> <span class=\"comment-count\">\\n                            50                        </span> <span class=\"name\">\\n                            직면하라                        </span>\\n                    </li>\\n                                        <li> <a href=\"/zboard/zboard.php?id=ppomppu4\" class=\"category\">해외뽐뿌 </a>\\n                        <a href=\"/zboard/view.php?id=ppomppu4&no=96317\" class=\"title \">[Amazon] logitech Driving Force G920 or G29 Racing Wheel(프라임만 199.99/미국내 free)                    </a> <span class=\"comment-count\">\\n                            78                        </span> <span class=\"name\">\\n                            뿡밥                        </span>\\n                    </li>\\n                    </ul>\\n                </div>\\n            </div>\\n        </div>\\n\\n\\n                <!-- 인기글 -->\\n        <div>\\n            <div class=\"tab-contents\" id=\"post-tab2\">\\n                <div class=\"list-controls\" style=\"\">\\n                    <div class=\"pop-post-pager\"></div>\\n                    <span class=\"pop-post-prev btn-prev\"></span>\\n                    <span class=\"pop-post-next btn-next\"></span>\\n                </div>\\n                <div class=\"wrap\">\\n                    <div class=\"pop-post-list\">\\n\\n                        <ul>\\n                        <li>                                                                 <a href=\"/zboard/zboard.php?id=freeboard\" class=\"category\">자유게시판                        </a> <a href=\"/zboard/view.php?id=freeboard&no=5953450\" class=\"title \">남자분들 샤워할 때 수건 몇장 쓰세요                        </a> <span class=\"comment-count\">\\n                                58                            </span> <span class=\"name\">\\n                                알럽퀴티                            </span>\\n                        </li>\\n\\n                                                <li>                                                                 <a href=\"/zboard/zboard.php?id=freeboard\" class=\"category\">자유게시판                        </a> <a href=\"/zboard/view.php?id=freeboard&no=5953491\" class=\"title \">[사건 사진 포함] 현재 난리난 초등학교 사건.jpg                        </a> <span class=\"comment-count\">\\n                                53                            </span> <span class=\"name\">\\n                                소울소울                            </span>\\n                        </li>\\n\\n                                                <li>                                                                 <a href=\"/zboard/zboard.php?id=stock\" class=\"category\">증권포럼                        </a> <a href=\"/zboard/view.php?id=stock&no=125763\" class=\"title \">분위기 다시 싸함                        </a> <span class=\"comment-count\">\\n                                1                            </span> <span class=\"name\">\\n                                파생고수                            </span>\\n                        </li>\\n\\n                                                <li>                                                                 <a href=\"/zboard/zboard.php?id=stock\" class=\"category\">증권포럼                        </a> <a href=\"/zboard/view.php?id=stock&no=125758\" class=\"title \">챠트로 추천하는 SK텔레콤(017670)                        </a> <span class=\"comment-count\">\\n                                14                            </span> <span class=\"name\">\\n                                TwoThirds                            </span>\\n                        </li>\\n\\n                                                <li>                                                                 <a href=\"/zboard/zboard.php?id=ppomppu\" class=\"category\">뽐뿌게시판                        </a> <a href=\"/zboard/view.php?id=ppomppu&no=290485\" class=\"title \">[G마켓] 케즈 타이브레이크 신발  (34,500/0) 스마일클럽 시 (29800 무배 )                        </a> <span class=\"comment-count\">\\n                                23                            </span> <span class=\"name\">\\n                                ifyouare                            </span>\\n                        </li>\\n\\n                                                <li>                                                                 <a href=\"/zboard/zboard.php?id=computer\" class=\"category\">컴퓨터포럼                        </a> <a href=\"/zboard/view.php?id=computer&no=515489\" class=\"title \">컴퓨터수리 눈탱이 맞은거같네요...                        </a> <span class=\"comment-count\">\\n                                12                            </span> <span class=\"name\">\\n                                Rudah9                            </span>\\n                        </li>\\n\\n                                                <li>                                                                 <a href=\"/zboard/zboard.php?id=humor\" class=\"category\">유머/감동                        </a> <a href=\"/zboard/view.php?id=humor&no=311653\" class=\"title \">41년 된 에어컨..jpg                        </a> <span class=\"comment-count\">\\n                                26                            </span> <span class=\"name\">\\n                                Mr@muscle                            </span>\\n                        </li>\\n\\n                                                <li>                                                                 <a href=\"/zboard/zboard.php?id=free_picture\" class=\"category\">자유갤러리                        </a> <a href=\"/zboard/view.php?id=free_picture&no=192813\" class=\"title \">항저우 상가 나들이                        </a> <span class=\"comment-count\">\\n                                8                            </span> <span class=\"name\">\\n                                오하이오_고자_이마쓰                            </span>\\n                        </li>\\n\\n                                                <li>                                                                 <a href=\"/zboard/zboard.php?id=free_picture\" class=\"category\">자유갤러리                        </a> <a href=\"/zboard/view.php?id=free_picture&no=192814\" class=\"title \">넥센 치어리더 안지현, 김한나 -                        </a> <span class=\"comment-count\">\\n                                9                            </span> <span class=\"name\">\\n                                시리안                            </span>\\n                        </li>\\n\\n                                                <li>                                                                 <a href=\"/zboard/zboard.php?id=humor\" class=\"category\">유머/감동                        </a> <a href=\"/zboard/view.php?id=humor&no=311619\" class=\"title \">핸드백 백                        </a> <span class=\"comment-count\">\\n                                19                            </span> <span class=\"name\">\\n                                관개돌이                            </span>\\n                        </li>\\n\\n                        </ul>\\n<ul>\\n                        <li>                                                                 <a href=\"/zboard/zboard.php?id=ppomppu4\" class=\"category\">해외뽐뿌                        </a> <a href=\"/zboard/view.php?id=ppomppu4&no=96378\" class=\"title \">끌올 [Amazon] Tempur-Pedic TEMPUR-Topper Supreme, Twin XL ($ 157.48 / 미국내 무료)                        </a> <span class=\"comment-count\">\\n                                28                            </span> <span class=\"name\">\\n                                취달선                            </span>\\n                        </li>\\n\\n                                                <li>                                                                 <a href=\"/zboard/zboard.php?id=ppomppu\" class=\"category\">뽐뿌게시판                        </a> <a href=\"/zboard/view.php?id=ppomppu&no=290469\" class=\"title \">[옥션] 로지텍 Mk330 키보드마우스(28,800/무배)                        </a> <span class=\"comment-count\">\\n                                31                            </span> <span class=\"name\">\\n                                seahiyo                            </span>\\n                        </li>\\n\\n                                                <li>                                                                 <a href=\"/zboard/zboard.php?id=humor\" class=\"category\">유머/감동                        </a> <a href=\"/zboard/view.php?id=humor&no=311634\" class=\"title \">홍진호와 양세형의 숏터뷰                        </a> <span class=\"comment-count\">\\n                                27                            </span> <span class=\"name\">\\n                                해커스한승태                            </span>\\n                        </li>\\n\\n                                                <li>                                                                 <a href=\"/zboard/zboard.php?id=pmarket\" class=\"category\">업체게시판                        </a> <a href=\"/zboard/view.php?id=pmarket&no=238622\" class=\"title \">[구스통 호박인절미] 이 미친 쫀득함에 반할걸??? 2차 시작한다구~ 빨리 먹자구!!! 여름에 차갑게 먹으면 최고에요~                        </a> <span class=\"comment-count\">\\n                                86                            </span> <span class=\"name\">\\n                                구스통                            </span>\\n                        </li>\\n\\n                                                <li>                                                                 <a href=\"/zboard/zboard.php?id=mini\" class=\"category\">음향기기포럼                        </a> <a href=\"/zboard/view.php?id=mini&no=43115\" class=\"title \">ELAC Uni-fi UB5 엘락 스피커 단순개봉기입니다                        </a> <span class=\"comment-count\">\\n                                18                            </span> <span class=\"name\">\\n                                블루먼즈                            </span>\\n                        </li>\\n\\n                                                <li>                                                                 <a href=\"/zboard/zboard.php?id=ppomppu\" class=\"category\">뽐뿌게시판                        </a> <a href=\"/zboard/view.php?id=ppomppu&no=290487\" class=\"title \">[위메프] 해피머니 온라인상품권10만원권 (92,000원/무료),네이버경유700원쿠폰 적용가능                        </a> <span class=\"comment-count\">\\n                                25                            </span> <span class=\"name\">\\n                                샤프1004                            </span>\\n                        </li>\\n\\n                                                <li>                                                                 <a href=\"/zboard/zboard.php?id=camping\" class=\"category\">캠핑포럼                        </a> <a href=\"/zboard/view.php?id=camping&no=209606\" class=\"title \">챠콜위의햇반님의 스뎅 워터저그 나눔 대리추첨입니다.                        </a> <span class=\"comment-count\">\\n                                29                            </span> <span class=\"name\">\\n                                작은알리                            </span>\\n                        </li>\\n\\n                                                <li>                                                                 <a href=\"/zboard/zboard.php?id=ppomppu\" class=\"category\">뽐뿌게시판                        </a> <a href=\"/zboard/view.php?id=ppomppu&no=290491\" class=\"title \">[팔라고]핫딜 데이 해피머니 10,000원 -&gt; 5,000원                        </a> <span class=\"comment-count\">\\n                                39                            </span> <span class=\"name\">\\n                                jjang79                            </span>\\n                        </li>\\n\\n                                                <li>                                                                 <a href=\"/zboard/zboard.php?id=ppomppu\" class=\"category\">뽐뿌게시판                        </a> <a href=\"/zboard/view.php?id=ppomppu&no=290488\" class=\"title \">[위메프] 남녀 무지 반팔티 (1900/무배)                        </a> <span class=\"comment-count\">\\n                                21                            </span> <span class=\"name\">\\n                                찬스카드_                            </span>\\n                        </li>\\n\\n                                                <li>                                                                 <a href=\"/zboard/zboard.php?id=ppomppu\" class=\"category\">뽐뿌게시판                        </a> <a href=\"/zboard/view.php?id=ppomppu&no=290455\" class=\"title \">(끌올)[하이마트몰] lenovo 레노버 idea pad 330S-14-dos  신한카드 결제 시 (354,670/무료)                        </a> <span class=\"comment-count\">\\n                                73                            </span> <span class=\"name\">\\n                                이니스트                            </span>\\n                        </li>\\n\\n                        </ul>\\n<ul>\\n                        <li>                                                                 <a href=\"/zboard/zboard.php?id=freeboard\" class=\"category\">자유게시판                        </a> <a href=\"/zboard/view.php?id=freeboard&no=5953140\" class=\"title \">투썸 빙수 기프티콘 쓴사람 x된건가요 ㄷㄷ                        </a> <span class=\"comment-count\">\\n                                61                            </span> <span class=\"name\">\\n                                밤은짧아걸어아가씨야                            </span>\\n                        </li>\\n\\n                                                <li>                                                                 <a href=\"/zboard/zboard.php?id=ppomppu\" class=\"category\">뽐뿌게시판                        </a> <a href=\"/zboard/view.php?id=ppomppu&no=290460\" class=\"title \">[위메프] 훼르자 3부 반바지(7500원/무료)                        </a> <span class=\"comment-count\">\\n                                52                            </span> <span class=\"name\">\\n                                후나~                            </span>\\n                        </li>\\n\\n                                                <li>                                                                 <a href=\"/zboard/zboard.php?id=money\" class=\"category\">재테크포럼                        </a> <a href=\"/zboard/view.php?id=money&no=279571\" class=\"title \">신한 sk 행복카드 캐시백 적립예정같은건 미리알수없나요?                        </a> <span class=\"comment-count\">\\n                                12                            </span> <span class=\"name\">\\n                                도리뱅                            </span>\\n                        </li>\\n\\n                                                <li>                                                                 <a href=\"/zboard/zboard.php?id=ppomppu\" class=\"category\">뽐뿌게시판                        </a> <a href=\"/zboard/view.php?id=ppomppu&no=290441\" class=\"title \">(끌올) [G9] 장순필 핫도그 x 10 외 (13,900 / 무배)                        </a> <span class=\"comment-count\">\\n                                56                            </span> <span class=\"name\">\\n                                참치김밥장인                            </span>\\n                        </li>\\n\\n                                                <li>                                                                 <a href=\"/zboard/zboard.php?id=humor\" class=\"category\">유머/감동                        </a> <a href=\"/zboard/view.php?id=humor&no=311635\" class=\"title \">정신이 혼미해지는 첫 경험                        </a> <span class=\"comment-count\">\\n                                58                            </span> <span class=\"name\">\\n                                쿠빵                            </span>\\n                        </li>\\n\\n                                                <li>                                                                 <a href=\"/zboard/zboard.php?id=phone\" class=\"category\">휴대폰포럼                        </a> <a href=\"/zboard/view.php?id=phone&no=3445298\" class=\"title \">티플랜 교육자료 받으신분 정보공유 부탁드립니다.                        </a> <span class=\"comment-count\">\\n                                37                            </span> <span class=\"name\">\\n                                조그만한빛                            </span>\\n                        </li>\\n\\n                                                <li>                                                                 <a href=\"/zboard/zboard.php?id=phone\" class=\"category\">휴대폰포럼                        </a> <a href=\"/zboard/view.php?id=phone&no=3445273\" class=\"title \">10SK 보편 요금제 같은 소리하네!!!                        </a> <span class=\"comment-count\">\\n                                17                            </span> <span class=\"name\">\\n                                조그만한빛                            </span>\\n                        </li>\\n\\n                                                <li>                                                                 <a href=\"/zboard/zboard.php?id=humor\" class=\"category\">유머/감동                        </a> <a href=\"/zboard/view.php?id=humor&no=311639\" class=\"title \">우크라이나의 3점짜리 외모                        </a> <span class=\"comment-count\">\\n                                42                            </span> <span class=\"name\">\\n                                미파랑                            </span>\\n                        </li>\\n\\n                                                <li>                                                                 <a href=\"/zboard/zboard.php?id=freeboard\" class=\"category\">자유게시판                        </a> <a href=\"/zboard/view.php?id=freeboard&no=5953131\" class=\"title \">부모님이 삼성 무풍에어컨을 샀다하시는데요                        </a> <span class=\"comment-count\">\\n                                117                            </span> <span class=\"name\">\\n                                백미터마라톤                            </span>\\n                        </li>\\n\\n                                                <li>                                                                 <a href=\"/zboard/zboard.php?id=freeboard\" class=\"category\">자유게시판                        </a> <a href=\"/zboard/view.php?id=freeboard&no=5953249\" class=\"title \">편의점 알바가 쉬운 게 아닌 이유                        </a> <span class=\"comment-count\">\\n                                106                            </span> <span class=\"name\">\\n                                워라밸2                            </span>\\n                        </li>\\n\\n                        </ul>\\n\\n                    </div>\\n                </div>\\n            </div>\\n        </div>\\n        \\n        \\n        \\n    </div>\\n</div>\\n        <!--핫코멘트-->\\n\\n\\n\\n<div class=\"comment-preview list-container\">\\n\\t<div class=\"title\">\\n        <a href=\"http://www.ppomppu.co.kr/hot_comment.php\"><span><strong>HOT</strong>코멘트</span><img src=\"/images/puls_icon.gif\" /></a>\\n\\t</div>\\n\\t<div class=\"list-controls\" style=\"\"><div class=\"hot-comment-pager\"></div><span class=\"hot-comment-prev btn-prev\"></span><span class=\"hot-comment-next btn-next\"></span></div>\\n    <div class=\"wrap\">\\n        <div class=\"hot-comment-list\">\\n\\n<ul>\\n            <li>\\n                \\t\\n                <a href=\"/zboard/view.php?id=ppomppu&no=290450\" title=\\'뽐뿌게시판\\' alt=\\'뽐뿌게시판\\' \\n                   class=\"title \" style=\"float:left;\"> 엄마 : 니가 무슨 지네 새끼냐..</a>\\n                <div class=\"comment-count likes\">\\n                    <span class=\"label label-like\">\\n                        <img src=\"/images/thumbsup.png\" style=\"width:12px\" alt=\"추천\" title=\"추천\"><span>8</span>\\n                    </span>                    \\n                    <span class=\"label label-dislike\">\\n                        <img src=\"/images/thumbsdown.png\" style=\"width:12px\" alt=\"다른의견\" title=\"다른의견\"><span>0</span>\\n                    </span>\\n                </div>\\n            </li>\\n            <li>\\n                \\t\\n                <a href=\"/zboard/view.php?id=freeboard&no=5953455\" title=\\'자유게시판\\' alt=\\'자유게시판\\' \\n                   class=\"title \" style=\"float:left;\"> \\r\\n\\r\\n역시나..</a>\\n                <div class=\"comment-count likes\">\\n                    <span class=\"label label-like\">\\n                        <img src=\"/images/thumbsup.png\" style=\"width:12px\" alt=\"추천\" title=\"추천\"><span>9</span>\\n                    </span>                    \\n                    <span class=\"label label-dislike\">\\n                        <img src=\"/images/thumbsdown.png\" style=\"width:12px\" alt=\"다른의견\" title=\"다른의견\"><span>0</span>\\n                    </span>\\n                </div>\\n            </li>\\n            <li>\\n                \\t\\n                <a href=\"/zboard/view.php?id=freeboard&no=5953228\" title=\\'자유게시판\\' alt=\\'자유게시판\\' \\n                   class=\"title \" style=\"float:left;\"> 저런 행동이 문제지 성별이 왜 문제인가요? 남자가 진상짓하면 남혐하실겁니까? 진상짓에 초점 맞추면 되지 굳이 여혐까지 들고오는것보니 수준이 보이네요</a>\\n                <div class=\"comment-count likes\">\\n                    <span class=\"label label-like\">\\n                        <img src=\"/images/thumbsup.png\" style=\"width:12px\" alt=\"추천\" title=\"추천\"><span>8</span>\\n                    </span>                    \\n                    <span class=\"label label-dislike\">\\n                        <img src=\"/images/thumbsdown.png\" style=\"width:12px\" alt=\"다른의견\" title=\"다른의견\"><span>0</span>\\n                    </span>\\n                </div>\\n            </li>\\n            <li>\\n                \\t\\n                <a href=\"/zboard/view.php?id=freeboard&no=5953228\" title=\\'자유게시판\\' alt=\\'자유게시판\\' \\n                   class=\"title \" style=\"float:left;\"> 그 아줌마가 이상한거지 왜 그걸로 여혐지수가 상승합니까...난폭운전하는 아저씨 보고 남혐 하실꺼 아니잖아요</a>\\n                <div class=\"comment-count likes\">\\n                    <span class=\"label label-like\">\\n                        <img src=\"/images/thumbsup.png\" style=\"width:12px\" alt=\"추천\" title=\"추천\"><span>8</span>\\n                    </span>                    \\n                    <span class=\"label label-dislike\">\\n                        <img src=\"/images/thumbsdown.png\" style=\"width:12px\" alt=\"다른의견\" title=\"다른의견\"><span>1</span>\\n                    </span>\\n                </div>\\n            </li>\\n            <li>\\n                \\t\\n                <a href=\"/zboard/view.php?id=freeboard&no=5953228\" title=\\'자유게시판\\' alt=\\'자유게시판\\' \\n                   class=\"title \" style=\"float:left;\"> 여혐지수가 왜 올라가나요.\\r\\n저런 사람은 남자도 많습니다.  물론 여자가 훨 많긴 하죠.</a>\\n                <div class=\"comment-count likes\">\\n                    <span class=\"label label-like\">\\n                        <img src=\"/images/thumbsup.png\" style=\"width:12px\" alt=\"추천\" title=\"추천\"><span>9</span>\\n                    </span>                    \\n                    <span class=\"label label-dislike\">\\n                        <img src=\"/images/thumbsdown.png\" style=\"width:12px\" alt=\"다른의견\" title=\"다른의견\"><span>3</span>\\n                    </span>\\n                </div>\\n            </li>\\n            <li>\\n                \\t\\n                <a href=\"/zboard/view.php?id=freeboard&no=5953455\" title=\\'자유게시판\\' alt=\\'자유게시판\\' \\n                   class=\"title \" style=\"float:left;\"> 본인 집은 팔아먹었나요? 아니면 근처에 숙소를 하나 잡아서 이용하면 되죠\\r\\n\\r\\n권위주의 시대에 빠져사는 것도 아니고 도지사한테까지 공관을 줘야 되나요?</a>\\n                <div class=\"comment-count likes\">\\n                    <span class=\"label label-like\">\\n                        <img src=\"/images/thumbsup.png\" style=\"width:12px\" alt=\"추천\" title=\"추천\"><span>10</span>\\n                    </span>                    \\n                    <span class=\"label label-dislike\">\\n                        <img src=\"/images/thumbsdown.png\" style=\"width:12px\" alt=\"다른의견\" title=\"다른의견\"><span>0</span>\\n                    </span>\\n                </div>\\n            </li>\\n            <li>\\n                \\t\\n                <a href=\"/zboard/view.php?id=freeboard&no=5953473\" title=\\'자유게시판\\' alt=\\'자유게시판\\' \\n                   class=\"title \" style=\"float:left;\"> 그게 개가 맛을 알면 그순간 밥투정 쩌려요\\r\\n갈비급 아님 안쳐먹어요\\r\\n이거 돼지 뒤타릿사리자나 �X�X해 너나쳐머거 이럼</a>\\n                <div class=\"comment-count likes\">\\n                    <span class=\"label label-like\">\\n                        <img src=\"/images/thumbsup.png\" style=\"width:12px\" alt=\"추천\" title=\"추천\"><span>10</span>\\n                    </span>                    \\n                    <span class=\"label label-dislike\">\\n                        <img src=\"/images/thumbsdown.png\" style=\"width:12px\" alt=\"다른의견\" title=\"다른의견\"><span>0</span>\\n                    </span>\\n                </div>\\n            </li>\\n            <li>\\n                \\t\\n                <a href=\"/zboard/view.php?id=freeboard&no=5953370\" title=\\'자유게시판\\' alt=\\'자유게시판\\' \\n                   class=\"title \" style=\"float:left;\"> \"지금은 안해먹을까요?\" 이 한마디로 이명박근혜 정부랑 문재인 정부를 동일선상에 놓고 보시는군요. </a>\\n                <div class=\"comment-count likes\">\\n                    <span class=\"label label-like\">\\n                        <img src=\"/images/thumbsup.png\" style=\"width:12px\" alt=\"추천\" title=\"추천\"><span>11</span>\\n                    </span>                    \\n                    <span class=\"label label-dislike\">\\n                        <img src=\"/images/thumbsdown.png\" style=\"width:12px\" alt=\"다른의견\" title=\"다른의견\"><span>0</span>\\n                    </span>\\n                </div>\\n            </li>\\n            <li>\\n                \\t\\n                <a href=\"/zboard/view.php?id=humor&no=311619\" title=\\'유머/감동\\' alt=\\'유머/감동\\' \\n                   class=\"title \" style=\"float:left;\"> 저도  ㅋㅋ</a>\\n                <div class=\"comment-count likes\">\\n                    <span class=\"label label-like\">\\n                        <img src=\"/images/thumbsup.png\" style=\"width:12px\" alt=\"추천\" title=\"추천\"><span>12</span>\\n                    </span>                    \\n                    <span class=\"label label-dislike\">\\n                        <img src=\"/images/thumbsdown.png\" style=\"width:12px\" alt=\"다른의견\" title=\"다른의견\"><span>0</span>\\n                    </span>\\n                </div>\\n            </li>\\n            <li>\\n                \\t\\n                <a href=\"/zboard/view.php?id=freeboard&no=5953455\" title=\\'자유게시판\\' alt=\\'자유게시판\\' \\n                   class=\"title \" style=\"float:left;\"> 남경필보다 더 한 새끼였어 ㅋㅋㅋㅋ</a>\\n                <div class=\"comment-count likes\">\\n                    <span class=\"label label-like\">\\n                        <img src=\"/images/thumbsup.png\" style=\"width:12px\" alt=\"추천\" title=\"추천\"><span>24</span>\\n                    </span>                    \\n                    <span class=\"label label-dislike\">\\n                        <img src=\"/images/thumbsdown.png\" style=\"width:12px\" alt=\"다른의견\" title=\"다른의견\"><span>0</span>\\n                    </span>\\n                </div>\\n            </li>\\n</ul>\\n<ul>\\n            <li>\\n                \\t\\n                <a href=\"/zboard/view.php?id=humor&no=311621\" title=\\'유머/감동\\' alt=\\'유머/감동\\' \\n                   class=\"title \" style=\"float:left;\"> 워마드,메갈충들 때리는것 같아서 사이다이군요.</a>\\n                <div class=\"comment-count likes\">\\n                    <span class=\"label label-like\">\\n                        <img src=\"/images/thumbsup.png\" style=\"width:12px\" alt=\"추천\" title=\"추천\"><span>9</span>\\n                    </span>                    \\n                    <span class=\"label label-dislike\">\\n                        <img src=\"/images/thumbsdown.png\" style=\"width:12px\" alt=\"다른의견\" title=\"다른의견\"><span>0</span>\\n                    </span>\\n                </div>\\n            </li>\\n            <li>\\n                \\t\\n                <a href=\"/zboard/view.php?id=phone&no=3445257\" title=\\'휴대폰포럼\\' alt=\\'휴대폰포럼\\' \\n                   class=\"title \" style=\"float:left;\"> 될리가 없죠.\\r\\n개인적으로 온가족할인 할인율 관련된거 자료 어느정도 준비좀 해서 국회 방통위에 넘겨볼까 생각중입니다.\\r\\n\\r\\n선할인이라는 그 말도 안되는게 무슨 기준이 있어서 (일단 약정할인에 동급 요금제가 없는데?) 선할인해줘서 30%로 깎는다는건지도 이해안되고, 정부와 정치권의 가계통신비 절감이라는 정책에 반하는 것이니까요.</a>\\n                <div class=\"comment-count likes\">\\n                    <span class=\"label label-like\">\\n                        <img src=\"/images/thumbsup.png\" style=\"width:12px\" alt=\"추천\" title=\"추천\"><span>8</span>\\n                    </span>                    \\n                    <span class=\"label label-dislike\">\\n                        <img src=\"/images/thumbsdown.png\" style=\"width:12px\" alt=\"다른의견\" title=\"다른의견\"><span>0</span>\\n                    </span>\\n                </div>\\n            </li>\\n            <li>\\n                \\t\\n                <a href=\"/zboard/view.php?id=freeboard&no=5953389\" title=\\'자유게시판\\' alt=\\'자유게시판\\' \\n                   class=\"title \" style=\"float:left;\"> 입진보하는 짓거리는 노무현정권때와 판박이네요.\\r\\n</a>\\n                <div class=\"comment-count likes\">\\n                    <span class=\"label label-like\">\\n                        <img src=\"/images/thumbsup.png\" style=\"width:12px\" alt=\"추천\" title=\"추천\"><span>10</span>\\n                    </span>                    \\n                    <span class=\"label label-dislike\">\\n                        <img src=\"/images/thumbsdown.png\" style=\"width:12px\" alt=\"다른의견\" title=\"다른의견\"><span>0</span>\\n                    </span>\\n                </div>\\n            </li>\\n            <li>\\n                \\t\\n                <a href=\"/zboard/view.php?id=freeboard&no=5953393\" title=\\'자유게시판\\' alt=\\'자유게시판\\' \\n                   class=\"title \" style=\"float:left;\"> 이걸 알아야 되는게...\\r\\n민주당도 문재인 대통령 인기에 편승하는 사람들이지\\r\\n엄밀히 말해서 문재인 대통령 편이 아닙니다.\\r\\n그냥 자기자리 보존하기 위해서 문재인 대통령의 인기만 이용할 뿐...</a>\\n                <div class=\"comment-count likes\">\\n                    <span class=\"label label-like\">\\n                        <img src=\"/images/thumbsup.png\" style=\"width:12px\" alt=\"추천\" title=\"추천\"><span>12</span>\\n                    </span>                    \\n                    <span class=\"label label-dislike\">\\n                        <img src=\"/images/thumbsdown.png\" style=\"width:12px\" alt=\"다른의견\" title=\"다른의견\"><span>0</span>\\n                    </span>\\n                </div>\\n            </li>\\n            <li>\\n                \\t\\n                <a href=\"/zboard/view.php?id=freeboard&no=5953140\" title=\\'자유게시판\\' alt=\\'자유게시판\\' \\n                   class=\"title \" style=\"float:left;\"> 뽐춘이고 나발이고 사실이면 좋겠네요 ^^</a>\\n                <div class=\"comment-count likes\">\\n                    <span class=\"label label-like\">\\n                        <img src=\"/images/thumbsup.png\" style=\"width:12px\" alt=\"추천\" title=\"추천\"><span>16</span>\\n                    </span>                    \\n                    <span class=\"label label-dislike\">\\n                        <img src=\"/images/thumbsdown.png\" style=\"width:12px\" alt=\"다른의견\" title=\"다른의견\"><span>4</span>\\n                    </span>\\n                </div>\\n            </li>\\n            <li>\\n                \\t\\n                <a href=\"/zboard/view.php?id=freeboard&no=5953450\" title=\\'자유게시판\\' alt=\\'자유게시판\\' \\n                   class=\"title \" style=\"float:left;\"> 내집은 1장  \\r\\n\\r\\n목욕탕은 2장</a>\\n                <div class=\"comment-count likes\">\\n                    <span class=\"label label-like\">\\n                        <img src=\"/images/thumbsup.png\" style=\"width:12px\" alt=\"추천\" title=\"추천\"><span>21</span>\\n                    </span>                    \\n                    <span class=\"label label-dislike\">\\n                        <img src=\"/images/thumbsdown.png\" style=\"width:12px\" alt=\"다른의견\" title=\"다른의견\"><span>0</span>\\n                    </span>\\n                </div>\\n            </li>\\n            <li>\\n                \\t\\n                <a href=\"/zboard/view.php?id=freeboard&no=5953131\" title=\\'자유게시판\\' alt=\\'자유게시판\\' \\n                   class=\"title \" style=\"float:left;\"> 오지랍 안부리시면 이런 댓글도 안다셔야죠. ㅎㅎ</a>\\n                <div class=\"comment-count likes\">\\n                    <span class=\"label label-like\">\\n                        <img src=\"/images/thumbsup.png\" style=\"width:12px\" alt=\"추천\" title=\"추천\"><span>9</span>\\n                    </span>                    \\n                    <span class=\"label label-dislike\">\\n                        <img src=\"/images/thumbsdown.png\" style=\"width:12px\" alt=\"다른의견\" title=\"다른의견\"><span>3</span>\\n                    </span>\\n                </div>\\n            </li>\\n            <li>\\n                \\t\\n                <a href=\"/zboard/view.php?id=soho&no=18580\" title=\\'창업/자영업\\' alt=\\'창업/자영업\\' \\n                   class=\"title \" style=\"float:left;\"> 능력좋아서 대기업 가는 사람들은 그런말 안해요.\\r\\n\\r\\n능력도 없으면서 남들처럼 돈쓰고 싶으니깐 저딴소리 하는거죠.</a>\\n                <div class=\"comment-count likes\">\\n                    <span class=\"label label-like\">\\n                        <img src=\"/images/thumbsup.png\" style=\"width:12px\" alt=\"추천\" title=\"추천\"><span>9</span>\\n                    </span>                    \\n                    <span class=\"label label-dislike\">\\n                        <img src=\"/images/thumbsdown.png\" style=\"width:12px\" alt=\"다른의견\" title=\"다른의견\"><span>1</span>\\n                    </span>\\n                </div>\\n            </li>\\n            <li>\\n                \\t\\n                <a href=\"/zboard/view.php?id=freeboard&no=5953140\" title=\\'자유게시판\\' alt=\\'자유게시판\\' \\n                   class=\"title \" style=\"float:left;\"> 님도 쿠폰으로 팥빙수 안 드시고 다른 메뉴 드시지 않으셨나요?\\r\\n\\r\\n첫 문장 보면, 팥빙수 쿠폰 금액권인거 알고가신 것 같은데요.\\r\\n님이 쓰신 글로 보면 케이크 드시고, 현금영수증에, cj 적립까지 하셨던데...\\r\\n자게에 투썸 관련 후기글이 안 올라오니깐... 불안해서 글 올리신 것 처럼 보이시네요.\\r\\n\\r\\n당연히 잘못된 거 인지하시고 재 결제 하신 거죠?\\r\\n재 결제 하셨으리라 믿습니다.\\r\\n\\r\\n글 제목이 썰이라고 하셔서...\\r\\n혹시라도 글로만 쿠폰 썼다고</a>\\n                <div class=\"comment-count likes\">\\n                    <span class=\"label label-like\">\\n                        <img src=\"/images/thumbsup.png\" style=\"width:12px\" alt=\"추천\" title=\"추천\"><span>15</span>\\n                    </span>                    \\n                    <span class=\"label label-dislike\">\\n                        <img src=\"/images/thumbsdown.png\" style=\"width:12px\" alt=\"다른의견\" title=\"다른의견\"><span>0</span>\\n                    </span>\\n                </div>\\n            </li>\\n            <li>\\n                \\t\\n                <a href=\"/zboard/view.php?id=freeboard&no=5953370\" title=\\'자유게시판\\' alt=\\'자유게시판\\' \\n                   class=\"title \" style=\"float:left;\"> 사대강이나 군비리는 이미 낸 세금에서 해먹는거고 \\r\\n임금인상은 자영업자들 주머니에서 직접 나가는거니 비교 대상이 아니죠. 당장 대기업 빨대 꽂혀서 피빨리는데 아래에 돈 더 풀라고 쥐어짜면 죽는소리 나는게 당연하지\\r\\n이걸 나라망하라고 기도하는 놈들이라고 매도하면 쓰것습니까?</a>\\n                <div class=\"comment-count likes\">\\n                    <span class=\"label label-like\">\\n                        <img src=\"/images/thumbsup.png\" style=\"width:12px\" alt=\"추천\" title=\"추천\"><span>9</span>\\n                    </span>                    \\n                    <span class=\"label label-dislike\">\\n                        <img src=\"/images/thumbsdown.png\" style=\"width:12px\" alt=\"다른의견\" title=\"다른의견\"><span>32</span>\\n                    </span>\\n                </div>\\n            </li>\\n</ul>\\n<ul>\\n            <li>\\n                \\t\\n                <a href=\"/zboard/view.php?id=house&no=107540\" title=\\'부동산포럼\\' alt=\\'부동산포럼\\' \\n                   class=\"title \" style=\"float:left;\"> 본인이 전세를 살고있는것 자체가 이미 전세를 이용한 갭투자 적폐 세력에 동조한것임을 절대 인정 안함.....-_-:::</a>\\n                <div class=\"comment-count likes\">\\n                    <span class=\"label label-like\">\\n                        <img src=\"/images/thumbsup.png\" style=\"width:12px\" alt=\"추천\" title=\"추천\"><span>12</span>\\n                    </span>                    \\n                    <span class=\"label label-dislike\">\\n                        <img src=\"/images/thumbsdown.png\" style=\"width:12px\" alt=\"다른의견\" title=\"다른의견\"><span>2</span>\\n                    </span>\\n                </div>\\n            </li>\\n            <li>\\n                \\t\\n                <a href=\"/zboard/view.php?id=freeboard&no=5953249\" title=\\'자유게시판\\' alt=\\'자유게시판\\' \\n                   class=\"title \" style=\"float:left;\"> 저 정도면 시급 1만원이상 줘야 할듯   .</a>\\n                <div class=\"comment-count likes\">\\n                    <span class=\"label label-like\">\\n                        <img src=\"/images/thumbsup.png\" style=\"width:12px\" alt=\"추천\" title=\"추천\"><span>11</span>\\n                    </span>                    \\n                    <span class=\"label label-dislike\">\\n                        <img src=\"/images/thumbsdown.png\" style=\"width:12px\" alt=\"다른의견\" title=\"다른의견\"><span>1</span>\\n                    </span>\\n                </div>\\n            </li>\\n            <li>\\n                \\t\\n                <a href=\"/zboard/view.php?id=freeboard&no=5953370\" title=\\'자유게시판\\' alt=\\'자유게시판\\' \\n                   class=\"title \" style=\"float:left;\"> 세금은 하늘에서 떨어진겁니까? 지금까지 자영업자들 세금 안내고 장사했나봐요? 논리가 영...</a>\\n                <div class=\"comment-count likes\">\\n                    <span class=\"label label-like\">\\n                        <img src=\"/images/thumbsup.png\" style=\"width:12px\" alt=\"추천\" title=\"추천\"><span>21</span>\\n                    </span>                    \\n                    <span class=\"label label-dislike\">\\n                        <img src=\"/images/thumbsdown.png\" style=\"width:12px\" alt=\"다른의견\" title=\"다른의견\"><span>2</span>\\n                    </span>\\n                </div>\\n            </li>\\n            <li>\\n                \\t\\n                <a href=\"/zboard/view.php?id=humor&no=311639\" title=\\'유머/감동\\' alt=\\'유머/감동\\' \\n                   class=\"title \" style=\"float:left;\"> 난민받지말고 외국신부들 받아들입시다 \\r\\n메갈 워마드는 갓양남 제발 찾아서 나가시고</a>\\n                <div class=\"comment-count likes\">\\n                    <span class=\"label label-like\">\\n                        <img src=\"/images/thumbsup.png\" style=\"width:12px\" alt=\"추천\" title=\"추천\"><span>13</span>\\n                    </span>                    \\n                    <span class=\"label label-dislike\">\\n                        <img src=\"/images/thumbsdown.png\" style=\"width:12px\" alt=\"다른의견\" title=\"다른의견\"><span>2</span>\\n                    </span>\\n                </div>\\n            </li>\\n            <li>\\n                \\t\\n                <a href=\"/zboard/view.php?id=freeboard&no=5953324\" title=\\'자유게시판\\' alt=\\'자유게시판\\' \\n                   class=\"title \" style=\"float:left;\"> 귀엽죠</a>\\n                <div class=\"comment-count likes\">\\n                    <span class=\"label label-like\">\\n                        <img src=\"/images/thumbsup.png\" style=\"width:12px\" alt=\"추천\" title=\"추천\"><span>8</span>\\n                    </span>                    \\n                    <span class=\"label label-dislike\">\\n                        <img src=\"/images/thumbsdown.png\" style=\"width:12px\" alt=\"다른의견\" title=\"다른의견\"><span>0</span>\\n                    </span>\\n                </div>\\n            </li>\\n            <li>\\n                \\t\\n                <a href=\"/zboard/view.php?id=soho&no=18580\" title=\\'창업/자영업\\' alt=\\'창업/자영업\\' \\n                   class=\"title \" style=\"float:left;\"> 대기업 못들어가면 자살하는것도 냉정하게 사회에 좋습니다. 약자코스프레나. 해대니ㅋ. 이게 본인들 논리임. </a>\\n                <div class=\"comment-count likes\">\\n                    <span class=\"label label-like\">\\n                        <img src=\"/images/thumbsup.png\" style=\"width:12px\" alt=\"추천\" title=\"추천\"><span>10</span>\\n                    </span>                    \\n                    <span class=\"label label-dislike\">\\n                        <img src=\"/images/thumbsdown.png\" style=\"width:12px\" alt=\"다른의견\" title=\"다른의견\"><span>8</span>\\n                    </span>\\n                </div>\\n            </li>\\n            <li>\\n                \\t\\n                <a href=\"/zboard/view.php?id=soho&no=18580\" title=\\'창업/자영업\\' alt=\\'창업/자영업\\' \\n                   class=\"title \" style=\"float:left;\"> 너무 말을 쉽게 막하는 사람들이 많은것 같습니다 ㅠ</a>\\n                <div class=\"comment-count likes\">\\n                    <span class=\"label label-like\">\\n                        <img src=\"/images/thumbsup.png\" style=\"width:12px\" alt=\"추천\" title=\"추천\"><span>10</span>\\n                    </span>                    \\n                    <span class=\"label label-dislike\">\\n                        <img src=\"/images/thumbsdown.png\" style=\"width:12px\" alt=\"다른의견\" title=\"다른의견\"><span>0</span>\\n                    </span>\\n                </div>\\n            </li>\\n            <li>\\n                \\t\\n                <a href=\"/zboard/view.php?id=freeboard&no=5953035\" title=\\'자유게시판\\' alt=\\'자유게시판\\' \\n                   class=\"title \" style=\"float:left;\"> 솔직히 10억정도 아파트 사는 사람 보면 배아프니까 그까짓 세금 더내라. 더내기 싫으면 이사가라. 역모기지 해라. 라는거죠.\\r\\n자기 주머니 1000원은 소중하고 기프티콘 사기쳐서 몇천원 부당이득 보는곳에서\\r\\n저 집주인이 세금 불평해도 안낼것도 아니고요.</a>\\n                <div class=\"comment-count likes\">\\n                    <span class=\"label label-like\">\\n                        <img src=\"/images/thumbsup.png\" style=\"width:12px\" alt=\"추천\" title=\"추천\"><span>8</span>\\n                    </span>                    \\n                    <span class=\"label label-dislike\">\\n                        <img src=\"/images/thumbsdown.png\" style=\"width:12px\" alt=\"다른의견\" title=\"다른의견\"><span>0</span>\\n                    </span>\\n                </div>\\n            </li>\\n            <li>\\n                \\t\\n                <a href=\"/zboard/view.php?id=freeboard&no=5953313\" title=\\'자유게시판\\' alt=\\'자유게시판\\' \\n                   class=\"title \" style=\"float:left;\"> 그냥 무서워서 푸념하신것 같은데 그게 파생글까지 써가며 비꼴일인지 잘 모르겠네요</a>\\n                <div class=\"comment-count likes\">\\n                    <span class=\"label label-like\">\\n                        <img src=\"/images/thumbsup.png\" style=\"width:12px\" alt=\"추천\" title=\"추천\"><span>9</span>\\n                    </span>                    \\n                    <span class=\"label label-dislike\">\\n                        <img src=\"/images/thumbsdown.png\" style=\"width:12px\" alt=\"다른의견\" title=\"다른의견\"><span>0</span>\\n                    </span>\\n                </div>\\n            </li>\\n            <li>\\n                \\t\\n                <a href=\"/zboard/view.php?id=humor&no=311639\" title=\\'유머/감동\\' alt=\\'유머/감동\\' \\n                   class=\"title \" style=\"float:left;\"> ...</a>\\n                <div class=\"comment-count likes\">\\n                    <span class=\"label label-like\">\\n                        <img src=\"/images/thumbsup.png\" style=\"width:12px\" alt=\"추천\" title=\"추천\"><span>13</span>\\n                    </span>                    \\n                    <span class=\"label label-dislike\">\\n                        <img src=\"/images/thumbsdown.png\" style=\"width:12px\" alt=\"다른의견\" title=\"다른의견\"><span>0</span>\\n                    </span>\\n                </div>\\n            </li>\\n</ul>\\n    \\t\\n\\n        </div>\\n    </div>\\n</div>\\n    </div>\\n    <!-- ED Bottom Section ED -->\\n\\n</div>\\n<!-- ED container ED -->\\n\\n<script type=\"text/javascript\" src=\"/assets/bxslider/jquery.bxslider.min.js?v=2018070413\"></script>\\n<script src=\"/js/main.js?v=2018070413\"></script>\\n\\n\\n\\n\\n<!-- Right small banner -->\\n<div class=\"floating-banner-sm\">\\n    </div>\\n\\n<!-- Footer -->\\n<div class=\"footer\">\\n    <div class=\"nav\">\\n    \\n        <a href=\"http://www.ppomppu.co.kr/zboard/zboard.php?id=faq\">사이트소개</a>\\n        <a href=\"http://www.ppomppu.co.kr/zboard/zboard.php?id=propose\">운영참여</a>\\n\\n                    <a href=\"http://www.ppomppu.co.kr/zboard/zboard.php?id=apply\">포럼지원센터</a>\\n        \\n                <a href=\"http://www.ppomppu.co.kr/myinfo/member_my_write_list.php\">마이페이지</a>\\n\\n\\n        \\n                    <a href=\"http://www.ppomppu.co.kr/service/request.php\">게시중단요청</a>\\n        \\n        <a href=\"http://www.ppomppu.co.kr/zboard/view.php?id=regulation&page=2&divpage=1&no=4\">이용약관</a>\\n\\n        \\n                        <a href=\"http://www.ppomppu.co.kr/zboard/view.php?id=regulation&no=34\"><strong>개인정보처리방침</strong></a>\\n            <a href=\"http://www.ppomppu.co.kr/zboard/view.php?id=regulation&page=2&divpage=1&no=5\">청소년보호정책</a>\\n\\n            \\n            <a href=\"http://www.ppomppu.co.kr/zboard/view.php?id=faq&no=17\">광고/제휴</a>\\n            <a href=\"mailto:webmaster@ppomppu.co.kr\">메일문의</a>\\n            </div>\\n\\n    <div class=\"info\">\\n        <div class=\"wrap\">\\n                \\n            <span>Copyright 2005-2018 <strong>ppomppu</strong>. All rights reserved</span>\\n                    </div>\\n\\n    </div>\\n</div>\\n\\n\\n<script type=\"text/javascript\">\\n    \\n</script>\\n\\n\\n\\n\\n\\n\\n        </div>  <!--/.contents-->\\n    </div> <!--/.wrapper-->\\n\\n<script src=\"//www.ppomppu.co.kr/js/common.js?v=2017062115\"></script>\\n\\n\\n<script async src=\"//pagead2.googlesyndication.com/pagead/js/adsbygoogle.js\"></script>\\n<script type=\"text/javascript\" src=\"//wcs.naver.net/wcslog.js\"></script>\\n<script type=\"text/javascript\">\\nif(!wcs_add) var wcs_add = {};\\nwcs_add[\"wa\"] = \"179d32fb63a6c\";\\nwcs_do();\\n</script>\\n\\n</body>\\n</html>\\n'"
      ]
     },
     "execution_count": 16,
     "metadata": {},
     "output_type": "execute_result"
    }
   ],
   "source": [
    "# 뽐뿌\n",
    "\n",
    "import requests\n",
    "data = requests.get('http://ppomppu.com', headers = {\"accept-encoding\" : \"false\"})\n",
    "data.text"
   ]
  },
  {
   "cell_type": "code",
   "execution_count": 18,
   "metadata": {},
   "outputs": [
    {
     "data": {
      "text/plain": [
       "'euc-kr'"
      ]
     },
     "execution_count": 18,
     "metadata": {},
     "output_type": "execute_result"
    }
   ],
   "source": [
    "data.encoding"
   ]
  },
  {
   "cell_type": "markdown",
   "metadata": {},
   "source": [
    "인코딩이 어떻게 되었는지는 아래의 기술로 확인할 수 있다."
   ]
  },
  {
   "cell_type": "code",
   "execution_count": 14,
   "metadata": {},
   "outputs": [
    {
     "name": "stdout",
     "output_type": "stream",
     "text": [
      "Requirement already satisfied: chardet in /anaconda3/envs/pythonStudy/lib/python3.6/site-packages (3.0.4)\r\n"
     ]
    }
   ],
   "source": [
    "!pip install chardet"
   ]
  },
  {
   "cell_type": "code",
   "execution_count": 90,
   "metadata": {},
   "outputs": [
    {
     "data": {
      "text/plain": [
       "{'confidence': 0.99, 'encoding': 'EUC-KR', 'language': 'Korean'}"
      ]
     },
     "execution_count": 90,
     "metadata": {},
     "output_type": "execute_result"
    }
   ],
   "source": [
    "import chardet\n",
    "chardet.detect(data.content)"
   ]
  },
  {
   "cell_type": "markdown",
   "metadata": {},
   "source": [
    "위와 같은 기법으로 뽐뿌는 encoding이 CP949로 되어있음을 확인하였으므로, 이에 맞게 처리한다."
   ]
  },
  {
   "cell_type": "code",
   "execution_count": 23,
   "metadata": {},
   "outputs": [
    {
     "data": {
      "text/plain": [
       "{'confidence': 0.99, 'encoding': 'EUC-KR', 'language': 'Korean'}"
      ]
     },
     "execution_count": 23,
     "metadata": {},
     "output_type": "execute_result"
    }
   ],
   "source": [
    "data = requests.get('http://www.aistudy.co.kr/')\n",
    "chardet.detect(data.content)"
   ]
  },
  {
   "cell_type": "code",
   "execution_count": 26,
   "metadata": {},
   "outputs": [
    {
     "data": {
      "text/plain": [
       "b'<html>\\r\\n<head>\\r\\n<meta http-equiv=\"content-type\" content=\"text/html; charset=euc-kr\">\\r\\n<meta name=\"viewport\" content=\"width=device-width,initial-scale=1\">\\r\\n<title>AI Study</title>\\r\\n<meta name=\"generator\" content=\"Namo WebEditor\">\\r\\n<style><!--\\r\\n.leading200 { line-height:200%; }\\r\\n.leading180 { line-height:180%; }\\r\\n.leading150 { line-height:150%; }\\r\\n.leading100 { line-height:100%; }\\r\\na:link { text-decoration:none; }\\r\\na:hover { color:red; }\\r\\na:visited { text-decoration:none; }\\r\\na:active { text-decoration:none; }\\r\\n-->\\r\\n</style>\\r\\n\\r\\n<meta name=\"namo_guide\" content=\"h456\">\\r\\n</head>\\r\\n\\r\\n<body bgcolor=\"#FFFFDF\" text=\"black\" link=\"blue\" vlink=\"purple\" alink=\"red\">\\r\\n<p style=\"line-height:150%;\"><font\\r\\n             face=\"Times New Roman\"><b><span style=\"font-size:12pt;\">&nbsp;&nbsp;&nbsp;&nbsp;&nbsp;&nbsp;&nbsp;&nbsp;&nbsp;&nbsp;&nbsp;&nbsp;&nbsp;&nbsp;&nbsp;&nbsp;&nbsp;&nbsp;&nbsp;&nbsp;&nbsp;&nbsp;&nbsp;&nbsp;&nbsp;&nbsp;&nbsp;&nbsp;&nbsp;&nbsp;&nbsp;&nbsp;&nbsp;&nbsp;&nbsp;&nbsp;&nbsp;&nbsp;&nbsp;</span></b></font><span style=\"font-size:12pt;\"><b><font face=\"Times New Roman\">&nbsp;&nbsp;</font></b></span><a href=\"http://www.aistudy.com\"><b><span style=\"font-size:12pt;\"><img src=\"images/STUDY.gif\" width=\"342\"\\r\\nheight=\"65\" border=\"0\" align=\"texttop\"></span></b></a><span style=\"font-size:12pt;\"><b><font face=\"Times New Roman\"><a href=\"about.htm\">about</a> \\r\\n&nbsp;</font></b></span></p>\\r\\n<p style=\"line-height:150%;\" align=\"left\"><b><span style=\"font-size:12pt; letter-spacing:-0.38pt;\"><font face=\"Times New Roman\">AI \\r\\n\\xb0\\xf8\\xba\\xce\\xb8\\xa6 \\xc0\\xa7\\xc7\\xd8\\xbc\\xad\\xb4\\xc2 </font></span><font face=\"Times New Roman\"><a href=\"math/mathematics.htm\"><span style=\"font-size:12pt;\">\\xbc\\xf6\\xc7\\xd0</span></a></font><span style=\"font-size:12pt; letter-spacing:-0.38pt;\"><font face=\"Times New Roman\">, \\r\\n\\xc6\\xaf\\xc8\\xf7 </font></span><a href=\"logic/logic.htm\"><font face=\"Times New Roman\"><span style=\"font-size:12pt;\">\\xbc\\xf6\\xb8\\xae\\xb3\\xed\\xb8\\xae\\xc7\\xd0</span></font></a><span style=\"font-size:12pt; letter-spacing:-0.38pt;\"><font face=\"Times New Roman\">&nbsp;\\xbf\\xa1 \\r\\n\\xb4\\xeb\\xc7\\xd1 \\xb1\\xed\\xc0\\xcc\\xc0\\xd6\\xb4\\xc2 \\xc1\\xf6\\xbd\\xc4\\xc0\\xcc \\xc7\\xca\\xbf\\xe4\\xc7\\xcf\\xb4\\xd9. &nbsp;\\xb0\\xfa\\xc7\\xd0 \\xb0\\xf8\\xba\\xce\\xb4\\xc2 \\xb8\\xb9\\xc0\\xcc \\xc7\\xd2\\xbc\\xf6\\xb7\\xcf \\xc1\\xc1\\xc0\\xba\\xb5\\xa5 &nbsp;\\xc6\\xaf\\xc8\\xf7 \\xbb\\xfd\\xb9\\xb0\\xc7\\xd0\\xc0\\xfb &nbsp;\\xc1\\xa2\\xb1\\xd9\\xc0\\xbb\\xc0\\xa7\\xc7\\xd8 </font></span><a href=\"psychology/psychology.htm\"><span style=\"font-size:12pt; letter-spacing:-0.38pt;\"><font face=\"Times New Roman\">\\xbd\\xc9\\xb8\\xae\\xc7\\xd0</font></span></a><span style=\"font-size:12pt; letter-spacing:-0.38pt;\"><font face=\"Times New Roman\">&nbsp;\\xb0\\xfa \\r\\n\\xbd\\xc5\\xb0\\xe6\\xb0\\xe8\\xc5\\xeb\\xc0\\xc7 </font></span><a href=\"physiology/physiology.htm\"><span style=\"font-size:12pt; letter-spacing:-0.38pt;\"><font face=\"Times New Roman\">\\xbb\\xfd\\xb8\\xae\\xc7\\xd0</font></span></a><span style=\"font-size:12pt; letter-spacing:-0.38pt;\"><font face=\"Times New Roman\">&nbsp;\\xc0\\xcc \\r\\n\\xb0\\xf8\\xba\\xce\\xb5\\xc7\\xbe\\xee\\xbe\\xdf \\xc7\\xd1\\xb4\\xd9. &nbsp;\\xc3\\xd6\\xbc\\xd2\\xc7\\xd1<a href=\"program/c.htm\"> C</a>, <a href=\"program/lisp/lisp.htm\">Lisp</a>, <a href=\"program/prolog/prolog.htm\">Prolog</a> \\r\\n\\xbf\\xcd \\xb1\\xe2\\xba\\xbb\\xc0\\xfb\\xc0\\xce \\xb1\\xe2\\xb0\\xe8\\xbe\\xee\\xb8\\xa6 \\xb9\\xe8\\xbf\\xf6\\xbe\\xdf \\xc7\\xcf\\xb8\\xe7, \\xc3\\xd6\\xb1\\xd9\\xbf\\xa1\\xb4\\xc2 <a href=\"program/cpp.htm\">C++</a>, <a href=\"program/java.htm\">Java</a> \\xb8\\xa6 \\xc6\\xf7\\xc7\\xd4\\xbd\\xc3\\xc4\\xd1\\xbe\\xdf \\xc7\\xd2\\xb0\\xcd\\xc0\\xcc\\xb4\\xd9. \\r\\n( <a href=\"pioneer/McCarthy.J.htm\">\\xc1\\xb8 \\xb8\\xc5\\xc4\\xab\\xbd\\xc3</a>)</font></span></b></p>\\r\\n<p align=\"left\" style=\"line-height:150%;\"><B><FONT \\r\\nface=\"Times New Roman\"><span style=\"font-size:12pt;\">Mission \\r\\n&nbsp;&nbsp;&nbsp;&nbsp;&nbsp;&nbsp;&nbsp;</span></font></b><a href=\"ai/ai.htm\"><b><font face=\"Times New Roman\"><span style=\"font-size:12pt;\">&nbsp;&nbsp;&nbsp;&nbsp;AI \\xb6\\xf5 \\r\\n            \\xb9\\xab\\xbe\\xf9\\xc0\\xce\\xb0\\xa1</span></font></b></a><b><a href=\"terms/glossary.htm\"><font face=\"Times New Roman\"><span style=\"font-size:12pt;\">&nbsp;&nbsp;&nbsp;&nbsp;&nbsp;&nbsp;&nbsp;</span></font><span style=\"font-size:12pt;\"><font face=\"Times New Roman\" color=\"red\">Glossary(\\xbf\\xeb\\xbe\\xee)</font></span><font face=\"Times New Roman\"><span style=\"font-size:12pt;\">\\r\\n            </span></font></a><FONT \\r\\nface=\"Times New Roman\"><span style=\"font-size:12pt;\"> &nbsp;&nbsp;&nbsp;&nbsp;&nbsp;</span></font></b><a href=\"history/history.htm\"><b><font face=\"Times New Roman\"><span style=\"font-size:12pt;\">&nbsp;history</span></font></b></a><b><font face=\"Times New Roman\"><a href=\"\\xc0\\xce\\xb0\\xf8\\xc1\\xf6\\xb4\\xc9\\xc0\\xc7%20\\xbf\\xaa\\xbb\\xe7.htm\"><span style=\"font-size:12pt;\"> </span></a><span style=\"font-size:12pt;\">&nbsp;&nbsp;&nbsp;&nbsp;&nbsp;&nbsp;&nbsp;</span></font></b><a href=\"pioneer/pioneers.htm\"><b><font face=\"Times New Roman\"><span style=\"font-size:12pt;\">pioneer(world</span></font></b></a><B><FONT\\r\\n\\r\\nface=\"Times New Roman\"><span style=\"font-size:12pt;\">            , &nbsp;&nbsp; </span><a href=\"pioneer/pioneers_kor.htm\"><span style=\"font-size:12pt;\">korea)</span></a><span style=\"font-size:12pt;\"> &nbsp;&nbsp;&nbsp;&nbsp;&nbsp;</span></font></b>&nbsp;&nbsp;<font\\r\\n             face=\"Times New Roman\"><b><a href=\"lab/lab.htm\"><span style=\"font-size:12pt;\">lab</span></a><span style=\"font-size:12pt;\"> &nbsp;&nbsp;&nbsp;&nbsp;</span><a href=\"life/life.htm\"><span style=\"font-size:12pt;\">&nbsp;life</span></a><span style=\"font-size:12pt;\"> &nbsp;&nbsp;</span><a href=\"ai/branch.htm\"><span style=\"font-size:12pt;\">&nbsp;&nbsp;branch</span></a><span style=\"font-size:12pt;\"> &nbsp;&nbsp;</span></b></font><B><FONT \\r\\nface=\"Times New Roman\"><span style=\"font-size:12pt;\"> &nbsp;&nbsp;</span></font></b><font\\r\\n             face=\"Times New Roman\"><b><a href=\"demo/demo.htm\"><span style=\"font-size:12pt;\">&nbsp;&nbsp;demo</span></a><span style=\"font-size:12pt;\"> &nbsp;&nbsp;</span></b></font><font\\r\\n             face=\"Times New Roman\"><b><span style=\"font-size:12pt;\"> &nbsp;&nbsp;&nbsp;</span></b></font><b><span style=\"font-size:12pt;\"><font face=\"Times New Roman\"><a href=\"default_e.htm\">English</a></font></span></b></p>\\r\\n<p align=\"left\" style=\"line-height:150%;\"><B><FONT \\r\\nface=\"Times New Roman\"><span style=\"font-size:12pt;\">Key word &nbsp;</span></font></b><font\\r\\n             face=\"Times New Roman\"><b><a href=\"philosophy/philosophy.htm\"><span style=\"font-size:12pt;\"> &nbsp;&nbsp;&nbsp;&nbsp;&nbsp;&nbsp;\\xc3\\xb6\\xc7\\xd0</span></a><span style=\"font-size:12pt;\">&nbsp;&nbsp;&nbsp;</span></b></font><a href=\"linguistics/linguistics.htm\"><b><font face=\"Times New Roman\"><span style=\"font-size:12pt;\">\\xbe\\xf0\\xbe\\xee\\xc7\\xd0</span></font></b></a><B><FONT \\r\\nface=\"Times New Roman\"><span style=\"font-size:12pt;\"> &nbsp;&nbsp;</span></font></b><a href=\"robot/robot.htm\"><font face=\"Times New Roman\"><b><span style=\"font-size:12pt;\">\\xb7\\xce\\xba\\xbf</span></b></font></a><font\\r\\n             face=\"Times New Roman\"><b><span style=\"font-size:12pt;\"> &nbsp;&nbsp;</span></b></font><a href=\"game/game.htm\"><b><font face=\"Times New Roman\"><span style=\"font-size:12pt;\">\\xb0\\xd4\\xc0\\xd3</span></font></b></a><B><FONT \\r\\nface=\"Times New Roman\"><span style=\"font-size:12pt;\">   &nbsp;&nbsp;</span><a href=\"neural/neural_network.htm\"><span style=\"font-size:12pt;\">\\xbd\\xc5\\xb0\\xe6\\xb8\\xc1</span></a><span style=\"font-size:12pt;\"> &nbsp;&nbsp;</span><a href=\"fuzzy/fuzzy.htm\"><span style=\"font-size:12pt;\">\\xc6\\xdb\\xc1\\xf6</span></a><span style=\"font-size:12pt;\"> &nbsp;&nbsp;</span><a href=\"pattern/pattern_recognition.htm\"><span style=\"font-size:12pt;\">\\xc6\\xd0\\xc5\\xcf\\xc0\\xce\\xbd\\xc4</span></a><span style=\"font-size:12pt;\"> &nbsp;&nbsp;</span><a href=\"expert/expert_system.htm\"><span style=\"font-size:12pt;\">\\xc0\\xfc\\xb9\\xae\\xb0\\xa1\\xbd\\xc3\\xbd\\xba\\xc5\\xdb</span></a><span\\r\\nstyle=\"font-size:12pt;\">&nbsp;&nbsp;&nbsp;&nbsp;&nbsp;</span><a href=\"reasoning/reasoning.htm\"><span style=\"font-size:12pt;\">\\xc3\\xdf\\xb7\\xd0</span></a><span style=\"font-size:12pt;\"> \\r\\n            &nbsp;&nbsp;</span></font></b><a href=\"problem/problem_solving.htm\"><b><font face=\"Times New Roman\"><span style=\"font-size:12pt;\">\\xb9\\xae\\xc1\\xa6\\xc7\\xd8\\xb0\\xe1</span></font></b></a><B><FONT \\r\\nface=\"Times New Roman\"><span style=\"font-size:12pt;\"> &nbsp;&nbsp;&nbsp;</span></font><a href=\"algorithm/algorithm.htm\"><font face=\"Times New Roman\">\\xbe\\xcb\\xb0\\xed\\xb8\\xae\\xc1\\xf2</font></a><FONT \\r\\nface=\"Times New Roman\"><span style=\"font-size:12pt;\">&nbsp;</span><a href=\"heuristic/heuristic.htm\"><span style=\"font-size:12pt;\">&nbsp;&nbsp;\\xc8\\xde\\xb8\\xae\\xbd\\xba\\xc6\\xbd</span></a><span style=\"font-size:12pt;\"> \\r\\n            &nbsp;<a href=\"computer/computer.htm\">&nbsp;\\xc4\\xc4\\xc7\\xbb\\xc5\\xcd</a> &nbsp;<a href=\"physiology/brain/brain.htm\">\\xb5\\xce\\xb3\\xfa</a> \\r\\n            &nbsp;</span></font></b></p>\\r\\n<p align=\"left\" style=\"line-height:150%;\"><B><span style=\"font-size:12pt;\"><font face=\"Times New Roman\" color=\"red\">Hot Keyword </font></span><a href=\"http://bci.korea.ac.kr/\"><font face=\"Times New Roman\">&nbsp;&nbsp;</font></a><a href=\"demo/alphago.htm\"><font face=\"Times New Roman\">AlphaGo</font></a><span style=\"font-size:12pt;\"><font face=\"Times New Roman\">&nbsp;&nbsp;&nbsp;&nbsp;</font></span><a href=\"learning/machine_learning.htm\"><font face=\"Times New Roman\">\\xb8\\xd3\\xbd\\xc5\\xb7\\xaf\\xb4\\xd7&nbsp;&nbsp;&nbsp;&nbsp;</font></a><a href=\"learning/deep_learning.htm\"><font face=\"Times New Roman\" color=\"blue\">\\xb5\\xf6 \\xb7\\xaf\\xb4\\xd7</font></a><font color=\"blue\"><a href=\"learning/deep_learning.htm\">&nbsp;&nbsp;&nbsp;</a></font></b><SPAN \\r\\nlang=EN-US><b><a href=\"learning/mining/big_data.htm\"><font face=\"Times New Roman\">\\xba\\xf2\\xb5\\xa5\\xc0\\xcc\\xc5\\xcd</font></a></b></SPAN><B><font color=\"blue\"><a href=\"learning/deep_learning.htm\">&nbsp;</a></font><a href=\"learning/machine_learning.htm\"><font face=\"Times New Roman\">&nbsp;&nbsp;</font></a><span style=\"font-size:12pt;\"><font face=\"Times New Roman\">&nbsp;</font></span><a href=\"thought/fourth_industrial_revoluiton.htm\"><font face=\"Times New Roman\">4\\xc2\\xf7 \\xbb\\xea\\xbe\\xf7\\xc7\\xf5\\xb8\\xed</font></a><span style=\"font-size:12pt;\"><font face=\"Times New Roman\">&nbsp;&nbsp;&nbsp;</font></span><a href=\"program/tensorflow.htm\"><font face=\"Times New Roman\">TensorFlow</font></a><font face=\"Times New Roman\"> </font><span style=\"font-size:12pt;\"><font face=\"Times New Roman\">&nbsp;&nbsp;</font></span><a href=\"linguistics/natural/chatbot.htm\"><font face=\"Times New Roman\">&nbsp;Chatbot &nbsp;&nbsp;&nbsp;</font></a><a href=\"program/programming.htm\"><font face=\"Times New Roman\">\\xc7\\xc1\\xb7\\xce\\xb1\\xd7\\xb7\\xa1\\xb9\\xd6</font></a></b></p>\\r\\n<p align=\"left\" style=\"line-height:150%;\"><B><FONT \\r\\nface=\"Times New Roman\"><span style=\"font-size:12pt;\">Site &nbsp;&nbsp;&nbsp;&nbsp;&nbsp;&nbsp;&nbsp;&nbsp;&nbsp;&nbsp;&nbsp;&nbsp;&nbsp;&nbsp;&nbsp;</span></font></b><a href=\"http://aitopics.net/A-ZIndex\"><b><font face=\"Times New Roman\"><span style=\"font-size:12pt;\">&nbsp;&nbsp;&nbsp;</span></font></b></a><b><font face=\"Times New Roman\"><span style=\"font-size:12pt;\"><a href=\"http://www.aaai.org\">AAAI</a></span></font></b><a href=\"http://aitopics.net/A-ZIndex\"><b><font face=\"Times New Roman\"><span style=\"font-size:12pt;\"> &nbsp;&nbsp;&nbsp;&nbsp;            </span></font></b></a><b><font face=\"Times New Roman\"><span style=\"font-size:12pt;\"><a href=\"http://aitopics.org/\">AI \\r\\n            Topics</a> &nbsp;&nbsp;&nbsp;</span></font></b><a href=\"lab/best5.htm\"><b><font face=\"Times New Roman\"><span style=\"font-size:12pt;\">&nbsp;                        </span></font></b></a><B><A \\r\\nhref=\"ai/ai_resource.htm\"><FONT \\r\\nface=\"Times New Roman\"><span style=\"font-size:12pt;\">            \\xbf\\xdc\\xb1\\xb9\\xc7\\xd0\\xc8\\xb8</span></FONT></A><FONT \\r\\nface=\"Times New Roman\"><span style=\"font-size:12pt;\"> \\r\\n            &nbsp;&nbsp;&nbsp;<a href=\"help/society.htm\">\\xc7\\xd0\\xc8\\xb8&nbsp;&nbsp;&nbsp;&nbsp;</a><a href=\"help/event.htm\">event</a></span></font><font color=\"#C00000\"> &nbsp;</font><FONT \\r\\nface=\"Times New Roman\"><span style=\"font-size:12pt;\">&nbsp;.... </span></font></b></p>\\r\\n<p align=\"left\" style=\"line-height:150%;\"><B><FONT \\r\\nface=\"Times New Roman\"><span style=\"font-size:12pt;\">Reference \\r\\n            &nbsp;&nbsp;&nbsp;&nbsp;&nbsp;&nbsp;&nbsp;</span><a href=\"paper/ai_book.htm\"><span style=\"font-size:12pt;\">book</span></a></font></b><B><FONT \\r\\nface=\"Times New Roman\"><span style=\"font-size:12pt;\"> &nbsp;&nbsp;</span></font></b><a href=\"news/news.htm\"><b><font face=\"Times New Roman\"><span style=\"font-size:12pt;\"> &nbsp;&nbsp;news</span></font></b></a><B><FONT \\r\\nface=\"Times New Roman\"><span style=\"font-size:12pt;\"> &nbsp;&nbsp;</span></font><a href=\"art/art.htm\"><font face=\"Times New Roman\"><span style=\"font-size:12pt;\"> \\r\\n            &nbsp;fiction</span></font></a><FONT \\r\\nface=\"Times New Roman\"><span style=\"font-size:12pt;\"> &nbsp;&nbsp;&nbsp;</span></font><a href=\"art/ai_movie.htm\"><font face=\"Times New Roman\">movie</font></a> \\r\\n<FONT \\r\\nface=\"Times New Roman\"><span style=\"font-size:12pt;\">&nbsp;<a href=\"video/ai_video.htm\">&nbsp;video</a>&nbsp;&nbsp;</span></font></b><a href=\"paper/biblio.htm\"><b><font face=\"Times New Roman\"><span style=\"font-size:12pt;\">&nbsp;&nbsp;bibliography</span></font></b></a><a href=\"humor/humor.htm\"><b><font face=\"Times New Roman\"><span style=\"font-size:12pt;\"> \\r\\n            &nbsp;</span></font></b></a><B><FONT \\r\\nface=\"Times New Roman\"><span style=\"font-size:12pt;\"> &nbsp;\\r\\n            ......</span></font></b>            </p>\\r\\n<p style=\"line-height:150%;\"><a href=\"help/help.htm\"><font face=\"Times New Roman\"><b><span style=\"font-size:12pt;\">Help</span></b></font></a><font\\r\\n             face=\"Times New Roman\"><b><span style=\"font-size:12pt;\"> &nbsp;&nbsp;&nbsp;&nbsp;&nbsp;&nbsp;&nbsp;&nbsp;&nbsp;&nbsp;&nbsp;&nbsp;&nbsp;</span></b></font><B><FONT \\r\\nface=\"Times New Roman\"><span style=\"font-size:12pt;\">&nbsp;&nbsp;&nbsp;<a href=\"https://en.wikipedia.org/wiki/Main_Page\">Wikipedia &nbsp;&nbsp;&nbsp;</a><a href=\"https://ko.wikipedia.org/wiki/%EC%9C%84%ED%82%A4%EB%B0%B1%EA%B3%BC:%EB%8C%80%EB%AC%B8\">\\xc0\\xa7\\xc5\\xb0\\xb9\\xe9\\xb0\\xfa</a><a href=\"https://en.wikipedia.org/wiki/Main_Page\">&nbsp;</a></span></font></b><b><font face=\"Times New Roman\"><span style=\"font-size:12pt;\">\\r\\n            </span></font></b><B><FONT \\r\\nface=\"Times New Roman\"><span style=\"font-size:12pt;\">&nbsp;&nbsp;<a href=\"http://www.youtube.com\">&nbsp;YouTube</a> &nbsp;&nbsp;&nbsp;</span></font>\\r\\n<a href=\"http://www.etnews.co.kr\">\\xc0\\xfc\\xc0\\xda\\xbd\\xc5\\xb9\\xae</a> &nbsp;&nbsp;&nbsp;</b><A href=\"http://www.kyobobook.co.kr/\" target=_top><b>\\xb1\\xb3\\xba\\xb8\\xb9\\xae\\xb0\\xed</b></A><B>&nbsp;<FONT \\r\\nface=\"Times New Roman\"><span style=\"font-size:12pt;\">&nbsp;</span></font><span style=\"font-size:12pt;\"> \\r\\n            &nbsp;<a href=\"help/book_store.htm\">\\xbc\\xad\\xc1\\xa1</a> &nbsp;&nbsp;</span><a href=\"help/press.htm\">\\xbe\\xf0\\xb7\\xd0</a><span style=\"font-size:12pt;\"> \\r\\n            &nbsp;&nbsp;&nbsp;</span><FONT \\r\\nface=\"Times New Roman\"><span style=\"font-size:12pt;\"><a href=\"http://dl.nanet.go.kr/index.do\">\\xb1\\xb9\\xc8\\xb8\\xb5\\xb5\\xbc\\xad\\xb0\\xfc\\xb0\\xcb\\xbb\\xf6</a> \\r\\n            &nbsp;..... </span></font></b></p>\\r\\n<center>\\r\\n<FORM method=GET action=\"http://www.google.co.kr/search\">\\r\\n<TABLE bgcolor=\"#DDFFDD\" style=\"line-height:150%;\"><tr><td height=\"41\">\\r\\n\\r\\n                    <p align=\"center\" style=\"line-height:150%;\">\\r\\n<b><span style=\"font-size:12pt;\"><INPUT TYPE=text name=q size=31 maxlength=255 value=\"\">\\r\\n<INPUT TYPE=hidden name=hl value=ko>\\r\\n<INPUT TYPE=hidden name=ie value=euc-kr>\\r\\n<INPUT type=submit name=btnG VALUE=\"\\xb1\\xb8\\xb1\\xdb \\xb0\\xcb\\xbb\\xf6\"></span></b><span style=\"font-size:12pt;\">\\r\\n\\r\\n                    </span><b><span style=\"font-size:12pt;\"><input type=radio name=sitesearch value=\"\" checked>\\r\\n</span><span style=\"font-size:10pt;\"><font face=\"Times New Roman\">www </font>\\xb0\\xcb\\xbb\\xf6\\r\\n<input type=radio name=sitesearch value=\"www.aistudy.com\">\\r\\n                    <font face=\"Times New Roman\">www.aistudy.com</font> \\xb0\\xcb\\xbb\\xf6</span></b>\\r\\n\\r\\n</td></tr></TABLE>\\r\\n</FORM>\\r\\n</center>\\r\\n<p style=\"line-height:150%;\">&nbsp;</p>\\r\\n<p style=\"line-height:150%;\"><b><span style=\"font-size:12pt;\"><font color=\"red\">\\xa1\\xda\\xa1\\xda\\xa1\\xda</font></span><a href=\"http://bci.korea.ac.kr/\">&nbsp;</a><a href=\"http://nacsi.kr/tutorial/tutorial17.html\">&nbsp;</a><a href=\"http://nacsi.kr/tutorial/tutorial20.html\">\\xbd\\xc9\\xc3\\xfe \\xb0\\xad\\xc8\\xad\\xc7\\xd0\\xbd\\xc0\\xc0\\xbb \\xc5\\xeb\\xc7\\xd1 \\xc3\\xaa\\xba\\xbf \\xb1\\xb8\\xc7\\xf6\\xb0\\xfa \\xc0\\xc0\\xbf\\xeb : \\xc7\\xd1\\xb1\\xb9\\xc0\\xce\\xc1\\xf6\\xb0\\xfa\\xc7\\xd0\\xbb\\xea\\xbe\\xf7\\xc7\\xf9\\xc8\\xb8 \\xc0\\xce\\xc1\\xf6\\xb1\\xe2\\xbc\\xfa \\xc6\\xa9\\xc5\\xe4\\xb8\\xae\\xbe\\xf3 20</a> : 2018/03/31, \\xbc\\xad\\xbf\\xef\\xb4\\xeb<span style=\"font-size:12pt;\"> &nbsp;<font color=\"red\">\\xa1\\xda\\xa1\\xda\\xa1\\xda</font></span></b></p>\\r\\n<p style=\"line-height:150%;\"><b><span style=\"font-size:12pt;\"><font color=\"red\">\\xa1\\xda\\xa1\\xda\\xa1\\xda</font></span><a href=\"http://bci.korea.ac.kr/\">&nbsp;</a><a href=\"http://nacsi.kr/tutorial/tutorial17.html\">&nbsp;</a><a href=\"http://mhpark.or.kr/index.php?document_srl=286927\">\\'\\xb9\\xda\\xb9\\xae\\xc8\\xa3 \\xb9\\xda\\xbb\\xe7\\xc0\\xc7 \\xb3\\xfa\\xb0\\xfa\\xc7\\xd0 \\xb0\\xf8\\xba\\xce\\' \\xc3\\xe2\\xb0\\xa3&nbsp;- \\xb9\\xda\\xb9\\xae\\xc8\\xa3\\xc0\\xc7 \\xc0\\xda\\xbf\\xac\\xb0\\xfa\\xc7\\xd0\\xbc\\xbc\\xbb\\xf3</a> <span style=\"font-size:12pt;\">&nbsp;<font color=\"red\">\\xa1\\xda\\xa1\\xda\\xa1\\xda</font></span></b></p>\\r\\n<p style=\"line-height:150%;\">&nbsp;</p>\\r\\n<p style=\"line-height:150%;\"><b><a href=\"http://tv.naver.com/v/1878677\">\\xc6\\xf9 \\xb3\\xeb\\xc0\\xcc\\xb8\\xb8 - \\xc1\\xa4\\xba\\xb8\\xc8\\xad\\xbd\\xc3\\xb4\\xeb 1\\xba\\xce : \\xb0\\xad\\xbf\\xac</a> : <a href=\"http://openlectures.naver.com/contents?contentsId=132102&rid=2934&lectureType=paradigm\">\\xbf\\xad\\xb8\\xb0\\xbf\\xac\\xb4\\xdc</a> : <font face=\"\\xbb\\xf5\\xb1\\xbc\\xb8\\xb2\"><span style=\"font-size:12pt;\"><A \\r\\nhref=\"pioneer/Zhang.BT.htm\">\\xc0\\xe5\\xba\\xb4\\xc5\\xb9</a></span></font>&nbsp;: 2017/07/21</b></p>\\r\\n<p style=\"line-height:150%;\">&nbsp;<iframe src=\\'http://serviceapi.rmcnmv.naver.com/flash/outKeyPlayer.nhn?vid=A759FD74B07D7FECC63DB9F35E9BB7398AFC&outKey=V12407c24b6fba7d69b570911b1a8bfa391d43ecdf82f98b2082e0911b1a8bfa391d4&controlBarMovable=true&jsCallable=true&isAutoPlay=true&skinName=tvcast_white\\' frameborder=\\'no\\' scrolling=\\'no\\' marginwidth=\\'0\\' marginheight=\\'0\\' WIDTH=\\'300\\' HEIGHT=\\'169\\' allowfullscreen></iframe></p>\\r\\n<p style=\"line-height:150%;\"><b><a href=\"https://www.youtube.com/watch?v=8Z2eLTSCuBk&t=2079s\">\\xc0\\xce\\xb0\\xf8\\xc1\\xf6\\xb4\\xc9\\xb0\\xfa \\xb9\\xcc\\xb7\\xa1 - KAIST \\xb0\\xad\\xbf\\xac</a> : <a href=\"https://www.youtube.com/channel/UCEQTSbZJvgkWKiFHirszYZA\">spark</a> : <a href=\"pioneer/Hassabis.D.htm\">Demis Hassabis</a>, 2017/05/27</b></p>\\r\\n<p style=\"line-height:150%;\">&nbsp;<iframe width=\"300\" height=\"169\" src=\"https://www.youtube.com/embed/8Z2eLTSCuBk?rel=0\" frameborder=\"0\" allowfullscreen></iframe></p>\\r\\n<H1 class=\"text-center\"><A title=\"\\xbb\\xf5\\xc3\\xa2\\xc0\\xb8\\xb7\\xce \\xb8\\xde\\xc0\\xcf \\xba\\xb8\\xb1\\xe2\" class=\"newWindow _ccr(rdh.new) _c1(mrCore|popupRead|11667) _stopDefault\" href=\"https://mail.naver.com/?n=1445866174255&amp;v=f#\"></A></H1>\\r\\n<p style=\"line-height:150%;\"><b><a href=\"https://www.youtube.com/watch?v=efWSbITntR0&t=5090s\">\\xb3\\xfa\\xb0\\xfa\\xc7\\xd0\\xc0\\xb8\\xb7\\xce \\xba\\xbb \\xc0\\xce\\xb0\\xf8\\xc1\\xf6\\xb4\\xc9\\xc0\\xc7 \\xc7\\xf6\\xc1\\xd6\\xbc\\xd2\\xbf\\xcd \\xb9\\xcc\\xb7\\xa1 - 1\\xba\\xce</a> : <a href=\"https://www.youtube.com/channel/UCpwh4yRadX0nnGQVqCLdskg\">afoofa Jung</a> : </b><a href=\"pioneer/Park.MH.htm\"><b>\\xb9\\xda\\xb9\\xae\\xc8\\xa3</b></a><b> : 2016/04/07</b></p>\\r\\n<p style=\"line-height:150%;\">&nbsp;<iframe width=\"300\" height=\"169\" src=\"https://www.youtube.com/embed/efWSbITntR0?rel=0\" frameborder=\"0\" allowfullscreen></iframe></p>\\r\\n<DIV class=\"text\">\\r\\n    <P align=\"justify\" style=\"line-height:150%;\">&nbsp;</p>\\r\\n</DIV>\\r\\n<p style=\"line-height:150%;\">\\r\\n\\r\\n\\r\\n&nbsp;</body>\\r\\n\\r\\n</html>'"
      ]
     },
     "execution_count": 26,
     "metadata": {},
     "output_type": "execute_result"
    }
   ],
   "source": [
    "data.content"
   ]
  },
  {
   "cell_type": "markdown",
   "metadata": {},
   "source": [
    "우리가 쓰는 파일은 바이트코드 방식이 기본이다. 이것을 .encode .decode로 처리하는 것이다."
   ]
  },
  {
   "cell_type": "code",
   "execution_count": 32,
   "metadata": {
    "scrolled": true
   },
   "outputs": [
    {
     "data": {
      "text/plain": [
       "str"
      ]
     },
     "execution_count": 32,
     "metadata": {},
     "output_type": "execute_result"
    }
   ],
   "source": [
    "en = data.content # euc-kr로 인코딩된 바이트 타입\n",
    "en2 = en.decode('euc-kr')\n",
    "type(en2) # str은 유니코드이다."
   ]
  },
  {
   "cell_type": "markdown",
   "metadata": {},
   "source": [
    "# 과제\n",
    "- 유니코드가 무엇인가? \n",
    "- 인코딩과 디코딩이 무엇인가?\n",
    "- BASE64는 무엇인가?\n",
    "\n",
    ": 유니코드를 특정 방식으로 처리하는게 인코딩, 디코딩이다. 인코딩 된 것을 다시 바이트 타입으로 바꾸는 것을 디코딩 한다고 말한다. 파이썬 3는 유니코드가 기본이다.\n",
    "\n",
    "[이미지 크롤링 과제]\n",
    "- 르누와르, 샤갈, 모들리아니, .. 유명한 화가 작품\n",
    "- SQLlite로 관련된 데이터들을 만들어라. 이미지 저장을 base64로 "
   ]
  },
  {
   "cell_type": "markdown",
   "metadata": {},
   "source": [
    "Base64 사이트에서 이미지를 인코딩하면 바이트들의 텍스트들이 나온다. 그것을 아래와 같이 다루어보자."
   ]
  },
  {
   "cell_type": "code",
   "execution_count": null,
   "metadata": {},
   "outputs": [],
   "source": [
    "# %%html\n",
    "# <img src = 'data:image/jpg;base64'"
   ]
  },
  {
   "cell_type": "markdown",
   "metadata": {},
   "source": [
    "파이썬3는 유니코드 체계다. 인코딩은 자신의 운영체제에 따라서 다르게 될 수 있다. 인코딩은 특정 방식으로 할 수 있는데, 그것을 표준화된 방식으로 하는 것이 디코딩이다. 즉 바이트 방식은 아스키코드로, Base64는 아스키코드보다 더 작은 방식으로 인코딩하는 방식이다..(?) "
   ]
  },
  {
   "cell_type": "markdown",
   "metadata": {},
   "source": [
    "---"
   ]
  },
  {
   "cell_type": "code",
   "execution_count": 35,
   "metadata": {},
   "outputs": [
    {
     "name": "stdout",
     "output_type": "stream",
     "text": [
      "Hello, world!Hello, 문근영!\n"
     ]
    }
   ],
   "source": [
    "file = open('hello.txt','r',encoding = 'utf-8')\n",
    "s = file.read()\n",
    "print(s)\n",
    "file.close()"
   ]
  },
  {
   "cell_type": "markdown",
   "metadata": {},
   "source": [
    "파일을 open 했으면 반드시 close 해주어야 한다."
   ]
  },
  {
   "cell_type": "code",
   "execution_count": 48,
   "metadata": {},
   "outputs": [
    {
     "ename": "AttributeError",
     "evalue": "'list' object has no attribute 'close'",
     "output_type": "error",
     "traceback": [
      "\u001b[0;31m---------------------------------------------------------------------------\u001b[0m",
      "\u001b[0;31mAttributeError\u001b[0m                            Traceback (most recent call last)",
      "\u001b[0;32m<ipython-input-48-33ea01e1138e>\u001b[0m in \u001b[0;36m<module>\u001b[0;34m()\u001b[0m\n\u001b[1;32m      2\u001b[0m \u001b[0;32mfor\u001b[0m \u001b[0m_\u001b[0m \u001b[0;32min\u001b[0m \u001b[0mrange\u001b[0m\u001b[0;34m(\u001b[0m\u001b[0;36m1000000\u001b[0m\u001b[0;34m)\u001b[0m \u001b[0;34m:\u001b[0m\u001b[0;34m\u001b[0m\u001b[0m\n\u001b[1;32m      3\u001b[0m     \u001b[0mfiles\u001b[0m\u001b[0;34m.\u001b[0m\u001b[0mappend\u001b[0m\u001b[0;34m(\u001b[0m\u001b[0mopen\u001b[0m\u001b[0;34m(\u001b[0m\u001b[0;34m'hello.txt'\u001b[0m\u001b[0;34m)\u001b[0m\u001b[0;34m)\u001b[0m\u001b[0;34m\u001b[0m\u001b[0m\n\u001b[0;32m----> 4\u001b[0;31m     \u001b[0mfiles\u001b[0m\u001b[0;34m.\u001b[0m\u001b[0mclose\u001b[0m\u001b[0;34m(\u001b[0m\u001b[0;34m)\u001b[0m\u001b[0;34m\u001b[0m\u001b[0m\n\u001b[0m",
      "\u001b[0;31mAttributeError\u001b[0m: 'list' object has no attribute 'close'"
     ]
    }
   ],
   "source": [
    "# files = []\n",
    "# for _ in range(1000000) :\n",
    "#     files.append(open('hello.txt'))\n",
    "#     files.close()"
   ]
  },
  {
   "cell_type": "markdown",
   "metadata": {},
   "source": [
    "파이썬에는 사용이 끝난 메모리를 정리해주는 가비지 컬렉터가 있어서 파일을 닫지 않아도 가비지 컬렉터가 파일을 닫아줍니다. 하지만 프로그래머가 파일을 직접 닫아야 하는 이유는 다음과 같습니다.\n",
    "\n",
    "- 너무 많은 파일을 열어 두면 그만큼 메모리 공간을 차지하므로 성능에 영향을 줄 수 있습니다.\n",
    "- 파일을 닫지 않으면 데이터가 쓰기가 완료되지 않을 수도 있습니다. 운영체제는 파일을 처리할 때 성능을 위해서 데이터를 버퍼(임시 공간)에 저장한 뒤 파일에 씁니다. 때에 따라서는 파일이 닫히는 시점에 버퍼의 내용이 파일에 저장됩니다.\n",
    "- 이론적으로 운영체제에서 열 수 있는 파일의 개수는 한계가 있습니다.\n",
    "- 운영체제에 따라 파일을 열었을 때 파일을 잠금 상태로 처리하는 경우가 있습니다. 실질적으로 파일 처리가 끝났더라도 파일을 닫지 않으면 다른 프로그램에서 파일을 사용할 수 없는 상태가 됩니다.\n",
    "\n",
    "보통은 파일을 닫지 않아도 큰 문제가 없습니다. 하지만 실무에서는 사소한 실수로도 큰 문제가 발생하는 경우가 있으므로 파일을 정확히 닫는 습관을 기르는 것이 좋습니다."
   ]
  },
  {
   "cell_type": "code",
   "execution_count": 63,
   "metadata": {},
   "outputs": [
    {
     "name": "stdout",
     "output_type": "stream",
     "text": [
      "Overwriting sun.txt\n"
     ]
    }
   ],
   "source": [
    "%%writefile sun.txt\n",
    "When, in disgrace with fortune and men's eyes,\n",
    "I all alone beweep my outcast state,\n",
    "And trouble deaf heaven with my bootless cries,\n",
    "And look upon myself and curse my fate,"
   ]
  },
  {
   "cell_type": "code",
   "execution_count": 67,
   "metadata": {},
   "outputs": [],
   "source": [
    "a = open('sun.txt') # generator"
   ]
  },
  {
   "cell_type": "code",
   "execution_count": 68,
   "metadata": {},
   "outputs": [
    {
     "data": {
      "text/plain": [
       "\"When, in disgrace with fortune and men's eyes,\\nI all alone beweep my outcast state,\\nAnd trouble deaf heaven with my bootless cries,\\nAnd look upon myself and curse my fate,\""
      ]
     },
     "execution_count": 68,
     "metadata": {},
     "output_type": "execute_result"
    }
   ],
   "source": [
    "a.read()    "
   ]
  },
  {
   "cell_type": "code",
   "execution_count": 69,
   "metadata": {},
   "outputs": [
    {
     "data": {
      "text/plain": [
       "''"
      ]
     },
     "execution_count": 69,
     "metadata": {},
     "output_type": "execute_result"
    }
   ],
   "source": [
    "a.readline()"
   ]
  },
  {
   "cell_type": "code",
   "execution_count": 70,
   "metadata": {},
   "outputs": [
    {
     "data": {
      "text/plain": [
       "[]"
      ]
     },
     "execution_count": 70,
     "metadata": {},
     "output_type": "execute_result"
    }
   ],
   "source": [
    "a.readlines()"
   ]
  },
  {
   "cell_type": "code",
   "execution_count": 71,
   "metadata": {},
   "outputs": [],
   "source": [
    "b = open('sun.txt')"
   ]
  },
  {
   "cell_type": "code",
   "execution_count": 72,
   "metadata": {
    "scrolled": true
   },
   "outputs": [
    {
     "data": {
      "text/plain": [
       "\"When, in disgrace with fortune and men's eyes,\\n\""
      ]
     },
     "execution_count": 72,
     "metadata": {},
     "output_type": "execute_result"
    }
   ],
   "source": [
    "b.readline()"
   ]
  },
  {
   "cell_type": "code",
   "execution_count": 73,
   "metadata": {},
   "outputs": [],
   "source": [
    "class File:\n",
    "    def __init__(self, filename, mode):\n",
    "        self.filename = filename\n",
    "        self.mode = mode\n",
    "\n",
    "    def __enter__(self):\n",
    "        self.open_file = open(self.filename, self.mode)\n",
    "        return self.open_file\n",
    "\n",
    "    def __exit__(self, *args):\n",
    "        self.open_file.close()\n",
    "\n",
    "files = []\n",
    "for _ in range(10000):\n",
    "    with File('foo.txt', 'w') as infile:\n",
    "        infile.write('foo')\n",
    "        files.append(infile)"
   ]
  },
  {
   "cell_type": "markdown",
   "metadata": {},
   "source": [
    "## pickle"
   ]
  },
  {
   "cell_type": "markdown",
   "metadata": {},
   "source": [
    "open을 이용하여 파일을 열려면 dict와 같은 자료구조들을 저장할 수가 없다. \n",
    "#### pickle은 자료구조를 저장해준다."
   ]
  },
  {
   "cell_type": "code",
   "execution_count": 78,
   "metadata": {},
   "outputs": [
    {
     "name": "stdout",
     "output_type": "stream",
     "text": [
      "{\n",
      "\n",
      " \"cells\": [\n",
      "\n",
      "  {\n",
      "\n",
      "   \"cell_type\": \"markdown\",\n",
      "\n",
      "   \"metadata\": {},\n",
      "\n",
      "   \"source\": [\n",
      "\n",
      "    \"# urllib \"\n",
      "\n",
      "   ]\n",
      "\n",
      "  },\n",
      "\n",
      "  {\n",
      "\n",
      "   \"cell_type\": \"markdown\",\n",
      "\n",
      "   \"metadata\": {},\n",
      "\n",
      "   \"source\": [\n",
      "\n",
      "    \"urllib is a package that collects several modules for working with URLs namely:\\n\",\n",
      "\n",
      "    \"\\n\",\n",
      "\n",
      "    \"- urllib.request for opening and reading URLs.\\n\",\n",
      "\n",
      "    \"- urllib.error containing the exceptions raised by urllib.request\\n\",\n",
      "\n",
      "    \"- urllib.parse for parsing URLs.\\n\",\n",
      "\n",
      "    \"- urllib.robotparser for parsing robots.txt files.\"\n",
      "\n",
      "   ]\n",
      "\n",
      "  },\n",
      "\n",
      "  {\n",
      "\n",
      "   \"cell_type\": \"code\",\n",
      "\n",
      "   \"execution_count\": 27,\n",
      "\n",
      "   \"metadata\": {},\n",
      "\n",
      "   \"outputs\": [],\n",
      "\n",
      "   \"source\": [\n",
      "\n",
      "    \"url = 'https://s-i.huffpost.com/gen/5071754/thumbs/o-THE-570.jpg?6'\"\n",
      "\n",
      "   ]\n",
      "\n",
      "  },\n",
      "\n",
      "  {\n",
      "\n",
      "   \"cell_type\": \"code\",\n",
      "\n",
      "   \"execution_count\": 14,\n",
      "\n",
      "   \"metadata\": {},\n",
      "\n",
      "   \"outputs\": [],\n",
      "\n",
      "   \"source\": [\n",
      "\n",
      "    \"import urllib.request\\n\",\n",
      "\n",
      "    \"with urllib.request.urlopen('http://python.org/') as response:\\n\",\n",
      "\n",
      "    \"    html = response.read()\"\n",
      "\n",
      "   ]\n",
      "\n",
      "  },\n",
      "\n",
      "  {\n",
      "\n",
      "   \"cell_type\": \"code\",\n",
      "\n",
      "   \"execution_count\": 34,\n",
      "\n",
      "   \"metadata\": {},\n",
      "\n",
      "   \"outputs\": [],\n",
      "\n",
      "   \"source\": [\n",
      "\n",
      "    \"import urllib.request\\n\",\n",
      "\n",
      "    \"filename, headers = urllib.request.urlretrieve('http://python.org/')\\n\",\n",
      "\n",
      "    \"html = open(filename)\"\n",
      "\n",
      "   ]\n",
      "\n",
      "  },\n",
      "\n",
      "  {\n",
      "\n",
      "   \"cell_type\": \"code\",\n",
      "\n",
      "   \"execution_count\": 35,\n",
      "\n",
      "   \"metadata\": {},\n",
      "\n",
      "   \"outputs\": [\n",
      "\n",
      "    {\n",
      "\n",
      "     \"data\": {\n",
      "\n",
      "      \"text/plain\": [\n",
      "\n",
      "       \"'<!doctype html>\\\\n<!--[if lt IE 7]>   <html class=\\\"no-js ie6 lt-ie7 lt-ie8 lt-ie9\\\">   <![endif]-->\\\\n<!--[if IE 7]>      <html class=\\\"no-js ie7 lt-ie8 lt-ie9\\\">          <![endif]-->\\\\n<!--[if IE 8]>      <html class=\\\"no-js ie8 lt-ie9\\\">                 <![endif]-->\\\\n<!--[if gt IE 8]><!--><html class=\\\"no-js\\\" lang=\\\"en\\\" dir=\\\"ltr\\\">  <!--<![endif]-->\\\\n\\\\n<head>\\\\n    <meta charset=\\\"utf-8\\\">\\\\n    <meta http-equiv=\\\"X-UA-Compatible\\\" content=\\\"IE=edge\\\">\\\\n\\\\n    <link rel=\\\"prefetch\\\" href=\\\"//ajax.googleapis.com/ajax/libs/jquery/1.8.2/jquery.min.js\\\">\\\\n\\\\n    <meta name=\\\"application-name\\\" content=\\\"Python.org\\\">\\\\n    <meta name=\\\"msapplication-tooltip\\\" content=\\\"The official home of the Python Programming Language\\\">\\\\n    <meta name=\\\"apple-mobile-web-app-title\\\" content=\\\"Python.org\\\">\\\\n    <meta name=\\\"apple-mobile-web-app-capable\\\" content=\\\"yes\\\">\\\\n    <meta name=\\\"apple-mobile-web-app-status-bar-style\\\" content=\\\"black\\\">\\\\n\\\\n    <meta name=\\\"viewport\\\" content=\\\"width=device-width, initial-scale=1.0\\\">\\\\n    <meta name=\\\"HandheldFriendly\\\" content=\\\"True\\\">\\\\n    <meta name=\\\"format-detection\\\" content=\\\"telephone=no\\\">\\\\n    <meta http-equiv=\\\"cleartype\\\" content=\\\"on\\\">\\\\n    <meta http-equiv=\\\"imagetoolbar\\\" content=\\\"false\\\">\\\\n\\\\n    <script src=\\\"/static/js/libs/modernizr.js\\\"></script>\\\\n\\\\n    <link href=\\\"/static/stylesheets/style.css\\\" rel=\\\"stylesheet\\\" type=\\\"text/css\\\" title=\\\"default\\\" />\\\\n    <link href=\\\"/static/stylesheets/mq.css\\\" rel=\\\"stylesheet\\\" type=\\\"text/css\\\" media=\\\"not print, braille, embossed, speech, tty\\\" />\\\\n    \\\\n\\\\n    <!--[if (lte IE 8)&(!IEMobile)]>\\\\n    <link href=\\\"/static/stylesheets/no-mq.css\\\" rel=\\\"stylesheet\\\" type=\\\"text/css\\\" media=\\\"screen\\\" />\\\\n    \\\\n    \\\\n    <![endif]-->\\\\n\\\\n    \\\\n    <link rel=\\\"icon\\\" type=\\\"image/x-icon\\\" href=\\\"/static/favicon.ico\\\">\\\\n    <link rel=\\\"apple-touch-icon-precomposed\\\" sizes=\\\"144x144\\\" href=\\\"/static/apple-touch-icon-144x144-precomposed.png\\\">\\\\n    <link rel=\\\"apple-touch-icon-precomposed\\\" sizes=\\\"114x114\\\" href=\\\"/static/apple-touch-icon-114x114-precomposed.png\\\">\\\\n    <link rel=\\\"apple-touch-icon-precomposed\\\" sizes=\\\"72x72\\\" href=\\\"/static/apple-touch-icon-72x72-precomposed.png\\\">\\\\n    <link rel=\\\"apple-touch-icon-precomposed\\\" href=\\\"/static/apple-touch-icon-precomposed.png\\\">\\\\n    <link rel=\\\"apple-touch-icon\\\" href=\\\"/static/apple-touch-icon-precomposed.png\\\">\\\\n\\\\n    \\\\n    <meta name=\\\"msapplication-TileImage\\\" content=\\\"/static/metro-icon-144x144-precomposed.png\\\"><!-- white shape -->\\\\n    <meta name=\\\"msapplication-TileColor\\\" content=\\\"#3673a5\\\"><!-- python blue -->\\\\n    <meta name=\\\"msapplication-navbutton-color\\\" content=\\\"#3673a5\\\">\\\\n\\\\n    <title>Welcome to Python.org</title>\\\\n\\\\n    <meta name=\\\"description\\\" content=\\\"The official home of the Python Programming Language\\\">\\\\n    <meta name=\\\"keywords\\\" content=\\\"Python programming language object oriented web free open source software license documentation download community\\\">\\\\n\\\\n    \\\\n    <meta property=\\\"og:type\\\" content=\\\"website\\\">\\\\n    <meta property=\\\"og:site_name\\\" content=\\\"Python.org\\\">\\\\n    <meta property=\\\"og:title\\\" content=\\\"Welcome to Python.org\\\">\\\\n    <meta property=\\\"og:description\\\" content=\\\"The official home of the Python Programming Language\\\">\\\\n    \\\\n    <meta property=\\\"og:image\\\" content=\\\"https://www.python.org/static/opengraph-icon-200x200.png\\\">\\\\n    <meta property=\\\"og:image:secure_url\\\" content=\\\"https://www.python.org/static/opengraph-icon-200x200.png\\\">\\\\n    \\\\n    <meta property=\\\"og:url\\\" content=\\\"https://www.python.org/\\\">\\\\n\\\\n    <link rel=\\\"author\\\" href=\\\"/static/humans.txt\\\">\\\\n\\\\n    <link rel=\\\"alternate\\\" type=\\\"application/rss+xml\\\" title=\\\"Python Enhancement Proposals\\\"\\\\n          href=\\\"https://www.python.org/dev/peps/peps.rss/\\\">\\\\n    <link rel=\\\"alternate\\\" type=\\\"application/rss+xml\\\" title=\\\"Python Job Opportunities\\\"\\\\n          href=\\\"https://www.python.org/jobs/feed/rss/\\\">\\\\n    <link rel=\\\"alternate\\\" type=\\\"application/rss+xml\\\" title=\\\"Python Software Foundation News\\\"\\\\n          href=\\\"https://feeds.feedburner.com/PythonSoftwareFoundationNews\\\">\\\\n    <link rel=\\\"alternate\\\" type=\\\"application/rss+xml\\\" title=\\\"Python Insider\\\"\\\\n          href=\\\"https://feeds.feedburner.com/PythonInsider\\\">\\\\n\\\\n    \\\\n\\\\n    \\\\n    <script type=\\\"application/ld+json\\\">\\\\n     {\\\\n       \\\"@context\\\": \\\"http://schema.org\\\",\\\\n       \\\"@type\\\": \\\"WebSite\\\",\\\\n       \\\"url\\\": \\\"https://www.python.org/\\\",\\\\n       \\\"potentialAction\\\": {\\\\n         \\\"@type\\\": \\\"SearchAction\\\",\\\\n         \\\"target\\\": \\\"https://www.python.org/search/?q={search_term_string}\\\",\\\\n         \\\"query-input\\\": \\\"required name=search_term_string\\\"\\\\n       }\\\\n     }\\\\n    </script>\\\\n\\\\n    \\\\n    <script type=\\\"text/javascript\\\">\\\\n    var _gaq = _gaq || [];\\\\n    _gaq.push([\\\\'_setAccount\\\\', \\\\'UA-39055973-1\\\\']);\\\\n    _gaq.push([\\\\'_trackPageview\\\\']);\\\\n\\\\n    (function() {\\\\n        var ga = document.createElement(\\\\'script\\\\'); ga.type = \\\\'text/javascript\\\\'; ga.async = true;\\\\n        ga.src = (\\\\'https:\\\\' == document.location.protocol ? \\\\'https://ssl\\\\' : \\\\'http://www\\\\') + \\\\'.google-analytics.com/ga.js\\\\';\\\\n        var s = document.getElementsByTagName(\\\\'script\\\\')[0]; s.parentNode.insertBefore(ga, s);\\\\n    })();\\\\n    </script>\\\\n    \\\\n</head>\\\\n\\\\n<body class=\\\"python home\\\" id=\\\"homepage\\\">\\\\n\\\\n    <div id=\\\"touchnav-wrapper\\\">\\\\n\\\\n        <div id=\\\"nojs\\\" class=\\\"do-not-print\\\">\\\\n            <p><strong>Notice:</strong> While Javascript is not essential for this website, your interaction with the content will be limited. Please turn Javascript on for the full experience. </p>\\\\n        </div>\\\\n\\\\n        <!--[if lt IE 8]>\\\\n        <div id=\\\"oldie-warning\\\" class=\\\"do-not-print\\\">\\\\n            <p><strong>Notice:</strong> Your browser is <em>ancient</em> and <a href=\\\"http://www.ie6countdown.com/\\\">Microsoft agrees</a>. <a href=\\\"http://browsehappy.com/\\\">Upgrade to a different browser</a> or <a href=\\\"http://www.google.com/chromeframe/?redirect=true\\\">install Google Chrome Frame</a> to experience a better web.</p>\\\\n        </div>\\\\n        <![endif]-->\\\\n\\\\n        <!-- Sister Site Links -->\\\\n        <div id=\\\"top\\\" class=\\\"top-bar do-not-print\\\">\\\\n\\\\n            <nav class=\\\"meta-navigation container\\\" role=\\\"navigation\\\">\\\\n\\\\n                \\\\n                <div class=\\\"skip-link screen-reader-text\\\">\\\\n                    <a href=\\\"#content\\\" title=\\\"Skip to content\\\">Skip to content</a>\\\\n                </div>\\\\n\\\\n                \\\\n                <a id=\\\"close-python-network\\\" class=\\\"jump-link\\\" href=\\\"#python-network\\\" aria-hidden=\\\"true\\\">\\\\n                    <span aria-hidden=\\\"true\\\" class=\\\"icon-arrow-down\\\"><span>&#9660;</span></span> Close\\\\n                </a>\\\\n\\\\n                \\\\n\\\\n<ul class=\\\"menu\\\" role=\\\"tree\\\">\\\\n    \\\\n    <li class=\\\"python-meta current_item selectedcurrent_branch selected\\\">\\\\n        <a href=\\\"/\\\" title=\\\"The Python Programming Language\\\" class=\\\"current_item selectedcurrent_branch selected\\\">Python</a>\\\\n    </li>\\\\n    \\\\n    <li class=\\\"psf-meta \\\">\\\\n        <a href=\\\"/psf-landing/\\\" title=\\\"The Python Software Foundation\\\" >PSF</a>\\\\n    </li>\\\\n    \\\\n    <li class=\\\"docs-meta \\\">\\\\n        <a href=\\\"https://docs.python.org\\\" title=\\\"Python Documentation\\\" >Docs</a>\\\\n    </li>\\\\n    \\\\n    <li class=\\\"pypi-meta \\\">\\\\n        <a href=\\\"https://pypi.python.org/\\\" title=\\\"Python Package Index\\\" >PyPI</a>\\\\n    </li>\\\\n    \\\\n    <li class=\\\"jobs-meta \\\">\\\\n        <a href=\\\"/jobs/\\\" title=\\\"Python Job Board\\\" >Jobs</a>\\\\n    </li>\\\\n    \\\\n    <li class=\\\"shop-meta \\\">\\\\n        <a href=\\\"/community/\\\" title=\\\"Python Community\\\" >Community</a>\\\\n    </li>\\\\n    \\\\n</ul>\\\\n\\\\n\\\\n                <a id=\\\"python-network\\\" class=\\\"jump-link\\\" href=\\\"#top\\\" aria-hidden=\\\"true\\\">\\\\n                    <span aria-hidden=\\\"true\\\" class=\\\"icon-arrow-up\\\"><span>&#9650;</span></span> The Python Network\\\\n                </a>\\\\n\\\\n            </nav>\\\\n\\\\n        </div>\\\\n\\\\n        <!-- Header elements -->\\\\n        <header class=\\\"main-header\\\" role=\\\"banner\\\">\\\\n            <div class=\\\"container\\\">\\\\n\\\\n                <h1 class=\\\"site-headline\\\">\\\\n                    <a href=\\\"/\\\"><img class=\\\"python-logo\\\" src=\\\"/static/img/python-logo.png\\\" alt=\\\"python&trade;\\\"></a>\\\\n                </h1>\\\\n\\\\n                <div class=\\\"options-bar do-not-print\\\">\\\\n\\\\n                    \\\\n                    <a id=\\\"site-map-link\\\" class=\\\"jump-to-menu\\\" href=\\\"#site-map\\\"><span class=\\\"menu-icon\\\">&equiv;</span> Menu</a><form class=\\\"search-the-site\\\" action=\\\"/search/\\\" method=\\\"get\\\">\\\\n                        <fieldset title=\\\"Search Python.org\\\">\\\\n\\\\n                            <span aria-hidden=\\\"true\\\" class=\\\"icon-search\\\"></span>\\\\n\\\\n                            <label class=\\\"screen-reader-text\\\" for=\\\"id-search-field\\\">Search This Site</label>\\\\n                            <input id=\\\"id-search-field\\\" name=\\\"q\\\" type=\\\"search\\\" role=\\\"textbox\\\" class=\\\"search-field\\\" placeholder=\\\"Search\\\" value=\\\"\\\" tabindex=\\\"1\\\">\\\\n\\\\n                            <button type=\\\"submit\\\" name=\\\"submit\\\" id=\\\"submit\\\" class=\\\"search-button\\\" title=\\\"Submit this Search\\\" tabindex=\\\"3\\\">\\\\n                                GO\\\\n                            </button>\\\\n\\\\n                            \\\\n                            <!--[if IE]><input type=\\\"text\\\" style=\\\"display: none;\\\" disabled=\\\"disabled\\\" size=\\\"1\\\" tabindex=\\\"4\\\"><![endif]-->\\\\n\\\\n                        </fieldset>\\\\n                    </form><span class=\\\"breaker\\\"></span><div class=\\\"adjust-font-size\\\" aria-hidden=\\\"true\\\">\\\\n                        <ul class=\\\"navigation menu\\\" aria-label=\\\"Adjust Text Size on Page\\\">\\\\n                            <li class=\\\"tier-1 last\\\" aria-haspopup=\\\"true\\\">\\\\n                                <a href=\\\"#\\\" class=\\\"action-trigger\\\"><strong><small>A</small> A</strong></a>\\\\n                                <ul class=\\\"subnav menu\\\">\\\\n                                    <li class=\\\"tier-2 element-1\\\" role=\\\"treeitem\\\"><a class=\\\"text-shrink\\\" title=\\\"Make Text Smaller\\\" href=\\\"javascript:;\\\">Smaller</a></li>\\\\n                                    <li class=\\\"tier-2 element-2\\\" role=\\\"treeitem\\\"><a class=\\\"text-grow\\\" title=\\\"Make Text Larger\\\" href=\\\"javascript:;\\\">Larger</a></li>\\\\n                                    <li class=\\\"tier-2 element-3\\\" role=\\\"treeitem\\\"><a class=\\\"text-reset\\\" title=\\\"Reset any font size changes I have made\\\" href=\\\"javascript:;\\\">Reset</a></li>\\\\n                                </ul>\\\\n                            </li>\\\\n                        </ul>\\\\n                    </div><div class=\\\"winkwink-nudgenudge\\\">\\\\n                        <ul class=\\\"navigation menu\\\" aria-label=\\\"Social Media Navigation\\\">\\\\n                            <li class=\\\"tier-1 last\\\" aria-haspopup=\\\"true\\\">\\\\n                                <a href=\\\"#\\\" class=\\\"action-trigger\\\">Socialize</a>\\\\n                                <ul class=\\\"subnav menu\\\">\\\\n                                    <li class=\\\"tier-2 element-1\\\" role=\\\"treeitem\\\"><a href=\\\"http://plus.google.com/+Python\\\"><span aria-hidden=\\\"true\\\" class=\\\"icon-google-plus\\\"></span>Google+</a></li>\\\\n                                    <li class=\\\"tier-2 element-2\\\" role=\\\"treeitem\\\"><a href=\\\"http://www.facebook.com/pythonlang?fref=ts\\\"><span aria-hidden=\\\"true\\\" class=\\\"icon-facebook\\\"></span>Facebook</a></li>\\\\n                                    <li class=\\\"tier-2 element-3\\\" role=\\\"treeitem\\\"><a href=\\\"http://twitter.com/ThePSF\\\"><span aria-hidden=\\\"true\\\" class=\\\"icon-twitter\\\"></span>Twitter</a></li>\\\\n                                    <li class=\\\"tier-2 element-4\\\" role=\\\"treeitem\\\"><a href=\\\"/community/irc/\\\"><span aria-hidden=\\\"true\\\" class=\\\"icon-freenode\\\"></span>Chat on IRC</a></li>\\\\n                                </ul>\\\\n                            </li>\\\\n                        </ul>\\\\n                    </div><div class=\\\"account-signin\\\">\\\\n                        <ul class=\\\"navigation menu\\\" aria-label=\\\"Social Media Navigation\\\">\\\\n                            <li class=\\\"tier-1 last\\\" aria-haspopup=\\\"true\\\">\\\\n                                \\\\n                                <a href=\\\"/accounts/login/\\\" title=\\\"Sign Up or Sign In to Python.org\\\">Sign In</a>\\\\n                                <ul class=\\\"subnav menu\\\">\\\\n                                    <li class=\\\"tier-2 element-1\\\" role=\\\"treeitem\\\"><a href=\\\"/accounts/signup/\\\">Sign Up / Register</a></li>\\\\n                                    <li class=\\\"tier-2 element-2\\\" role=\\\"treeitem\\\"><a href=\\\"/accounts/login/\\\">Sign In</a></li>\\\\n                                </ul>\\\\n                                \\\\n                            </li>\\\\n                        </ul>\\\\n                    </div>\\\\n\\\\n                </div><!-- end options-bar -->\\\\n\\\\n                <nav id=\\\"mainnav\\\" class=\\\"python-navigation main-navigation do-not-print\\\" role=\\\"navigation\\\">\\\\n                    \\\\n                        \\\\n<ul class=\\\"navigation menu\\\" role=\\\"menubar\\\" aria-label=\\\"Main Navigation\\\">\\\\n  \\\\n    \\\\n    \\\\n    <li id=\\\"about\\\" class=\\\"tier-1 element-1  \\\" aria-haspopup=\\\"true\\\">\\\\n        <a href=\\\"/about/\\\" title=\\\"\\\" class=\\\"\\\">About</a>\\\\n        \\\\n            \\\\n\\\\n<ul class=\\\"subnav menu\\\" role=\\\"menu\\\" aria-hidden=\\\"true\\\">\\\\n    \\\\n        <li class=\\\"tier-2 element-1\\\" role=\\\"treeitem\\\"><a href=\\\"/about/apps/\\\" title=\\\"\\\">Applications</a></li>\\\\n    \\\\n        <li class=\\\"tier-2 element-2\\\" role=\\\"treeitem\\\"><a href=\\\"/about/quotes/\\\" title=\\\"\\\">Quotes</a></li>\\\\n    \\\\n        <li class=\\\"tier-2 element-3\\\" role=\\\"treeitem\\\"><a href=\\\"/about/gettingstarted/\\\" title=\\\"\\\">Getting Started</a></li>\\\\n    \\\\n        <li class=\\\"tier-2 element-4\\\" role=\\\"treeitem\\\"><a href=\\\"/about/help/\\\" title=\\\"\\\">Help</a></li>\\\\n    \\\\n        <li class=\\\"tier-2 element-5\\\" role=\\\"treeitem\\\"><a href=\\\"http://brochure.getpython.info/\\\" title=\\\"\\\">Python Brochure</a></li>\\\\n    \\\\n</ul>\\\\n\\\\n        \\\\n    </li>\\\\n    \\\\n    \\\\n    \\\\n    <li id=\\\"downloads\\\" class=\\\"tier-1 element-2  \\\" aria-haspopup=\\\"true\\\">\\\\n        <a href=\\\"/downloads/\\\" title=\\\"\\\" class=\\\"\\\">Downloads</a>\\\\n        \\\\n            \\\\n\\\\n<ul class=\\\"subnav menu\\\" role=\\\"menu\\\" aria-hidden=\\\"true\\\">\\\\n    \\\\n        <li class=\\\"tier-2 element-1\\\" role=\\\"treeitem\\\"><a href=\\\"/downloads/\\\" title=\\\"\\\">All releases</a></li>\\\\n    \\\\n        <li class=\\\"tier-2 element-2\\\" role=\\\"treeitem\\\"><a href=\\\"/downloads/source/\\\" title=\\\"\\\">Source code</a></li>\\\\n    \\\\n        <li class=\\\"tier-2 element-3\\\" role=\\\"treeitem\\\"><a href=\\\"/downloads/windows/\\\" title=\\\"\\\">Windows</a></li>\\\\n    \\\\n        <li class=\\\"tier-2 element-4\\\" role=\\\"treeitem\\\"><a href=\\\"/downloads/mac-osx/\\\" title=\\\"\\\">Mac OS X</a></li>\\\\n    \\\\n        <li class=\\\"tier-2 element-5\\\" role=\\\"treeitem\\\"><a href=\\\"/download/other/\\\" title=\\\"\\\">Other Platforms</a></li>\\\\n    \\\\n        <li class=\\\"tier-2 element-6\\\" role=\\\"treeitem\\\"><a href=\\\"https://docs.python.org/3/license.html\\\" title=\\\"\\\">License</a></li>\\\\n    \\\\n        <li class=\\\"tier-2 element-7\\\" role=\\\"treeitem\\\"><a href=\\\"/download/alternatives\\\" title=\\\"\\\">Alternative Implementations</a></li>\\\\n    \\\\n</ul>\\\\n\\\\n        \\\\n    </li>\\\\n    \\\\n    \\\\n    \\\\n    <li id=\\\"documentation\\\" class=\\\"tier-1 element-3  \\\" aria-haspopup=\\\"true\\\">\\\\n        <a href=\\\"/doc/\\\" title=\\\"\\\" class=\\\"\\\">Documentation</a>\\\\n        \\\\n            \\\\n\\\\n<ul class=\\\"subnav menu\\\" role=\\\"menu\\\" aria-hidden=\\\"true\\\">\\\\n    \\\\n        <li class=\\\"tier-2 element-1\\\" role=\\\"treeitem\\\"><a href=\\\"/doc/\\\" title=\\\"\\\">Docs</a></li>\\\\n    \\\\n        <li class=\\\"tier-2 element-2\\\" role=\\\"treeitem\\\"><a href=\\\"/doc/av\\\" title=\\\"\\\">Audio/Visual Talks</a></li>\\\\n    \\\\n        <li class=\\\"tier-2 element-3\\\" role=\\\"treeitem\\\"><a href=\\\"https://wiki.python.org/moin/BeginnersGuide\\\" title=\\\"\\\">Beginner&#39;s Guide</a></li>\\\\n    \\\\n        <li class=\\\"tier-2 element-4\\\" role=\\\"treeitem\\\"><a href=\\\"https://devguide.python.org/\\\" title=\\\"\\\">Developer&#39;s Guide</a></li>\\\\n    \\\\n        <li class=\\\"tier-2 element-5\\\" role=\\\"treeitem\\\"><a href=\\\"https://docs.python.org/faq/\\\" title=\\\"\\\">FAQ</a></li>\\\\n    \\\\n        <li class=\\\"tier-2 element-6\\\" role=\\\"treeitem\\\"><a href=\\\"http://wiki.python.org/moin/Languages\\\" title=\\\"\\\">Non-English Docs</a></li>\\\\n    \\\\n        <li class=\\\"tier-2 element-7\\\" role=\\\"treeitem\\\"><a href=\\\"http://python.org/dev/peps/\\\" title=\\\"\\\">PEP Index</a></li>\\\\n    \\\\n        <li class=\\\"tier-2 element-8\\\" role=\\\"treeitem\\\"><a href=\\\"https://wiki.python.org/moin/PythonBooks\\\" title=\\\"\\\">Python Books</a></li>\\\\n    \\\\n        <li class=\\\"tier-2 element-9\\\" role=\\\"treeitem\\\"><a href=\\\"/doc/essays/\\\" title=\\\"\\\">Python Essays</a></li>\\\\n    \\\\n</ul>\\\\n\\\\n        \\\\n    </li>\\\\n    \\\\n    \\\\n    \\\\n    <li id=\\\"community\\\" class=\\\"tier-1 element-4  \\\" aria-haspopup=\\\"true\\\">\\\\n        <a href=\\\"/community/\\\" title=\\\"\\\" class=\\\"\\\">Community</a>\\\\n        \\\\n            \\\\n\\\\n<ul class=\\\"subnav menu\\\" role=\\\"menu\\\" aria-hidden=\\\"true\\\">\\\\n    \\\\n        <li class=\\\"tier-2 element-1\\\" role=\\\"treeitem\\\"><a href=\\\"/community/diversity/\\\" title=\\\"\\\">Diversity</a></li>\\\\n    \\\\n        <li class=\\\"tier-2 element-2\\\" role=\\\"treeitem\\\"><a href=\\\"/community/lists/\\\" title=\\\"\\\">Mailing Lists</a></li>\\\\n    \\\\n        <li class=\\\"tier-2 element-3\\\" role=\\\"treeitem\\\"><a href=\\\"/community/irc/\\\" title=\\\"\\\">IRC</a></li>\\\\n    \\\\n        <li class=\\\"tier-2 element-4\\\" role=\\\"treeitem\\\"><a href=\\\"/community/forums/\\\" title=\\\"\\\">Forums</a></li>\\\\n    \\\\n        <li class=\\\"tier-2 element-5\\\" role=\\\"treeitem\\\"><a href=\\\"/community/workshops/\\\" title=\\\"\\\">Python Conferences</a></li>\\\\n    \\\\n        <li class=\\\"tier-2 element-6\\\" role=\\\"treeitem\\\"><a href=\\\"/community/sigs/\\\" title=\\\"\\\">Special Interest Groups</a></li>\\\\n    \\\\n        <li class=\\\"tier-2 element-7\\\" role=\\\"treeitem\\\"><a href=\\\"https://wiki.python.org/moin/\\\" title=\\\"\\\">Python Wiki</a></li>\\\\n    \\\\n        <li class=\\\"tier-2 element-8\\\" role=\\\"treeitem\\\"><a href=\\\"/community/logos/\\\" title=\\\"\\\">Python Logo</a></li>\\\\n    \\\\n        <li class=\\\"tier-2 element-9\\\" role=\\\"treeitem\\\"><a href=\\\"/community/merchandise/\\\" title=\\\"\\\">Merchandise</a></li>\\\\n    \\\\n        <li class=\\\"tier-2 element-10\\\" role=\\\"treeitem\\\"><a href=\\\"/community/awards\\\" title=\\\"\\\">Community Awards</a></li>\\\\n    \\\\n        <li class=\\\"tier-2 element-11\\\" role=\\\"treeitem\\\"><a href=\\\"https://www.python.org/psf/codeofconduct/\\\" title=\\\"\\\">Code of Conduct</a></li>\\\\n    \\\\n</ul>\\\\n\\\\n        \\\\n    </li>\\\\n    \\\\n    \\\\n    \\\\n    <li id=\\\"success-stories\\\" class=\\\"tier-1 element-5  \\\" aria-haspopup=\\\"true\\\">\\\\n        <a href=\\\"/about/success/\\\" title=\\\"success-stories\\\" class=\\\"\\\">Success Stories</a>\\\\n        \\\\n            \\\\n\\\\n<ul class=\\\"subnav menu\\\" role=\\\"menu\\\" aria-hidden=\\\"true\\\">\\\\n    \\\\n        <li class=\\\"tier-2 element-1\\\" role=\\\"treeitem\\\"><a href=\\\"/about/success/#arts\\\" title=\\\"\\\">Arts</a></li>\\\\n    \\\\n        <li class=\\\"tier-2 element-2\\\" role=\\\"treeitem\\\"><a href=\\\"/about/success/#business\\\" title=\\\"\\\">Business</a></li>\\\\n    \\\\n        <li class=\\\"tier-2 element-3\\\" role=\\\"treeitem\\\"><a href=\\\"/about/success/#education\\\" title=\\\"\\\">Education</a></li>\\\\n    \\\\n        <li class=\\\"tier-2 element-4\\\" role=\\\"treeitem\\\"><a href=\\\"/about/success/#engineering\\\" title=\\\"\\\">Engineering</a></li>\\\\n    \\\\n        <li class=\\\"tier-2 element-5\\\" role=\\\"treeitem\\\"><a href=\\\"/about/success/#government\\\" title=\\\"\\\">Government</a></li>\\\\n    \\\\n        <li class=\\\"tier-2 element-6\\\" role=\\\"treeitem\\\"><a href=\\\"/about/success/#scientific\\\" title=\\\"\\\">Scientific</a></li>\\\\n    \\\\n        <li class=\\\"tier-2 element-7\\\" role=\\\"treeitem\\\"><a href=\\\"/about/success/#software-development\\\" title=\\\"\\\">Software Development</a></li>\\\\n    \\\\n</ul>\\\\n\\\\n        \\\\n    </li>\\\\n    \\\\n    \\\\n    \\\\n    <li id=\\\"news\\\" class=\\\"tier-1 element-6  \\\" aria-haspopup=\\\"true\\\">\\\\n        <a href=\\\"/blogs/\\\" title=\\\"News from around the Python world\\\" class=\\\"\\\">News</a>\\\\n        \\\\n            \\\\n\\\\n<ul class=\\\"subnav menu\\\" role=\\\"menu\\\" aria-hidden=\\\"true\\\">\\\\n    \\\\n        <li class=\\\"tier-2 element-1\\\" role=\\\"treeitem\\\"><a href=\\\"/blogs/\\\" title=\\\"Python Insider Blog Posts\\\">Python News</a></li>\\\\n    \\\\n        <li class=\\\"tier-2 element-2\\\" role=\\\"treeitem\\\"><a href=\\\"http://planetpython.org/\\\" title=\\\"Planet Python\\\">Community News</a></li>\\\\n    \\\\n        <li class=\\\"tier-2 element-3\\\" role=\\\"treeitem\\\"><a href=\\\"http://pyfound.blogspot.com/\\\" title=\\\"PSF Blog\\\">PSF News</a></li>\\\\n    \\\\n        <li class=\\\"tier-2 element-4\\\" role=\\\"treeitem\\\"><a href=\\\"http://pycon.blogspot.com/\\\" title=\\\"PyCon Blog\\\">PyCon News</a></li>\\\\n    \\\\n</ul>\\\\n\\\\n        \\\\n    </li>\\\\n    \\\\n    \\\\n    \\\\n    <li id=\\\"events\\\" class=\\\"tier-1 element-7  \\\" aria-haspopup=\\\"true\\\">\\\\n        <a href=\\\"/events/\\\" title=\\\"\\\" class=\\\"\\\">Events</a>\\\\n        \\\\n            \\\\n\\\\n<ul class=\\\"subnav menu\\\" role=\\\"menu\\\" aria-hidden=\\\"true\\\">\\\\n    \\\\n        <li class=\\\"tier-2 element-1\\\" role=\\\"treeitem\\\"><a href=\\\"/events/python-events\\\" title=\\\"\\\">Python Events</a></li>\\\\n    \\\\n        <li class=\\\"tier-2 element-2\\\" role=\\\"treeitem\\\"><a href=\\\"/events/python-user-group/\\\" title=\\\"\\\">User Group Events</a></li>\\\\n    \\\\n        <li class=\\\"tier-2 element-3\\\" role=\\\"treeitem\\\"><a href=\\\"/events/python-events/past/\\\" title=\\\"\\\">Python Events Archive</a></li>\\\\n    \\\\n        <li class=\\\"tier-2 element-4\\\" role=\\\"treeitem\\\"><a href=\\\"/events/python-user-group/past/\\\" title=\\\"\\\">User Group Events Archive</a></li>\\\\n    \\\\n        <li class=\\\"tier-2 element-5\\\" role=\\\"treeitem\\\"><a href=\\\"https://wiki.python.org/moin/PythonEventsCalendar#Submitting_an_Event\\\" title=\\\"\\\">Submit an Event</a></li>\\\\n    \\\\n</ul>\\\\n\\\\n        \\\\n    </li>\\\\n    \\\\n    \\\\n    \\\\n    \\\\n  \\\\n</ul>\\\\n\\\\n                    \\\\n                </nav>\\\\n\\\\n                <div class=\\\"header-banner \\\"> <!-- for optional \\\"do-not-print\\\" class -->\\\\n                    \\\\n        <div id=\\\"dive-into-python\\\" class=\\\"flex-slideshow slideshow\\\">\\\\n\\\\n            <ul class=\\\"launch-shell menu\\\" id=\\\"launch-shell\\\">\\\\n                <li>\\\\n                    <a class=\\\"button prompt\\\" id=\\\"start-shell\\\" data-shell-container=\\\"#dive-into-python\\\" href=\\\"/shell/\\\">&gt;_\\\\n                        <span class=\\\"message\\\">Launch Interactive Shell</span>\\\\n                    </a>\\\\n                </li>\\\\n            </ul>\\\\n\\\\n            <ul class=\\\"slides menu\\\">\\\\n                \\\\n                <li>\\\\n                    <div class=\\\"slide-code\\\"><pre><code><span class=\\\"comment\\\"># Python 3: Fibonacci series up to n</span>\\\\n>>> def fib(n):\\\\n>>>     a, b = 0, 1\\\\n>>>     while a &lt; n:\\\\n>>>         print(a, end=\\\\' \\\\')\\\\n>>>         a, b = b, a+b\\\\n>>>     print()\\\\n>>> fib(1000)\\\\n<span class=\\\"output\\\">0 1 1 2 3 5 8 13 21 34 55 89 144 233 377 610 987</span></code></pre></div>\\\\n                    <div class=\\\"slide-copy\\\"><h1>Functions Defined</h1>\\\\n<p>The core of extensible programming is defining functions. Python allows mandatory and optional arguments, keyword arguments, and even arbitrary argument lists. <a href=\\\"//docs.python.org/3/tutorial/controlflow.html#defining-functions\\\">More about defining functions in Python&nbsp;3</a></p></div>\\\\n                </li>\\\\n                \\\\n                <li>\\\\n                    <div class=\\\"slide-code\\\"><pre><code><span class=\\\"comment\\\"># Python 3: List comprehensions</span>\\\\n>>> fruits = [\\\\'Banana\\\\', \\\\'Apple\\\\', \\\\'Lime\\\\']\\\\n>>> loud_fruits = [fruit.upper() for fruit in fruits]\\\\n>>> print(loud_fruits)\\\\n<span class=\\\"output\\\">[\\\\'BANANA\\\\', \\\\'APPLE\\\\', \\\\'LIME\\\\']</span>\\\\n\\\\n<span class=\\\"comment\\\"># List and the enumerate function</span>\\\\n>>> list(enumerate(fruits))\\\\n<span class=\\\"output\\\">[(0, \\\\'Banana\\\\'), (1, \\\\'Apple\\\\'), (2, \\\\'Lime\\\\')]</span></code></pre></div>\\\\n                    <div class=\\\"slide-copy\\\"><h1>Compound Data Types</h1>\\\\n<p>Lists (known as arrays in other languages) are one of the compound data types that Python understands. Lists can be indexed, sliced and manipulated with other built-in functions. <a href=\\\"//docs.python.org/3/tutorial/introduction.html#lists\\\">More about lists in Python&nbsp;3</a></p></div>\\\\n                </li>\\\\n                \\\\n                <li>\\\\n                    <div class=\\\"slide-code\\\"><pre><code><span class=\\\"comment\\\"># Python 3: Simple arithmetic</span>\\\\n>>> 1 / 2\\\\n<span class=\\\"output\\\">0.5</span>\\\\n>>> 2 ** 3\\\\n<span class=\\\"output\\\">8</span>\\\\n>>> 17 / 3  <span class=\\\"comment\\\"># classic division returns a float</span>\\\\n<span class=\\\"output\\\">5.666666666666667</span>\\\\n>>> 17 // 3  <span class=\\\"comment\\\"># floor division</span>\\\\n<span class=\\\"output\\\">5</span></code></pre></div>\\\\n                    <div class=\\\"slide-copy\\\"><h1>Intuitive Interpretation</h1>\\\\n<p>Calculations are simple with Python, and expression syntax is straightforward: the operators <code>+</code>, <code>-</code>, <code>*</code> and <code>/</code> work as expected; parentheses <code>()</code> can be used for grouping. <a href=\\\"http://docs.python.org/3/tutorial/introduction.html#using-python-as-a-calculator\\\">More about simple math functions in Python&nbsp;3</a>.</p></div>\\\\n                </li>\\\\n                \\\\n                <li>\\\\n                    <div class=\\\"slide-code\\\"><pre><code><span class=\\\"comment\\\"># Python 3: Simple output (with Unicode)</span>\\\\n>>> print(\\\"Hello, I\\\\'m Python!\\\")\\\\n<span class=\\\"output\\\">Hello, I\\\\'m Python!</span>\\\\n\\\\n<span class=\\\"comment\\\"># Input, assignment</span>\\\\n>>> name = input(\\\\'What is your name?\\\\\\\\n\\\\')\\\\n>>> print(\\\\'Hi, %s.\\\\' % name)\\\\n<span class=\\\"output\\\">What is your name?\\\\nPython\\\\nHi, Python.</span></code></pre></div>\\\\n                    <div class=\\\"slide-copy\\\"><h1>Quick &amp; Easy to Learn</h1>\\\\n<p>Experienced programmers in any other language can pick up Python very quickly, and beginners find the clean syntax and indentation structure easy to learn. <a href=\\\"//docs.python.org/3/tutorial/\\\">Whet your appetite</a> with our Python&nbsp;3 overview.</p>\\\\n                   </div>\\\\n                </li>\\\\n                \\\\n                <li>\\\\n                    <div class=\\\"slide-code\\\"><pre><code><span class=\\\"comment\\\"># For loop on a list</span>\\\\n>>> numbers = [2, 4, 6, 8]\\\\n>>> product = 1\\\\n>>> for number in numbers:\\\\n...    product = product * number\\\\n... \\\\n>>> print(\\\\'The product is:\\\\', product)\\\\n<span class=\\\"output\\\">The product is: 384</span></code></pre></div>\\\\n                    <div class=\\\"slide-copy\\\"><h1>All the Flow You&rsquo;d Expect</h1>\\\\n<p>Python knows the usual control flow statements that other languages speak &mdash; <code>if</code>, <code>for</code>, <code>while</code> and <code>range</code> &mdash; with some of its own twists, of course. <a href=\\\"//docs.python.org/3/tutorial/controlflow.html\\\">More control flow tools in Python&nbsp;3</a></p></div>\\\\n                </li>\\\\n                \\\\n            </ul>\\\\n        </div>\\\\n\\\\n\\\\n                </div>\\\\n\\\\n                \\\\n        <div class=\\\"introduction\\\">\\\\n            <p>Python is a programming language that lets you work quickly <span class=\\\"breaker\\\"></span>and integrate systems more effectively. <a class=\\\"readmore\\\" href=\\\"/doc/\\\">Learn More</a></p>\\\\n        </div>\\\\n\\\\n\\\\n             </div><!-- end .container -->\\\\n        </header>\\\\n\\\\n        <div id=\\\"content\\\" class=\\\"content-wrapper\\\">\\\\n            <!-- Main Content Column -->\\\\n            <div class=\\\"container\\\">\\\\n\\\\n                <section class=\\\"main-content \\\" role=\\\"main\\\">\\\\n\\\\n                    \\\\n                    \\\\n\\\\n                    \\\\n\\\\n                    \\\\n\\\\n                <div class=\\\"row\\\">\\\\n\\\\n                    <div class=\\\"small-widget get-started-widget\\\">\\\\n                        <h2 class=\\\"widget-title\\\"><span aria-hidden=\\\"true\\\" class=\\\"icon-get-started\\\"></span>Get Started</h2>\\\\n<p>Whether you\\\\'re new to programming or an experienced developer, it\\\\'s easy to learn and use Python.</p>\\\\n<p><a href=\\\"/about/gettingstarted/\\\">Start with our Beginner&rsquo;s Guide</a></p>\\\\n                    </div>\\\\n\\\\n                    <div class=\\\"small-widget download-widget\\\">\\\\n                        <h2 class=\\\"widget-title\\\"><span aria-hidden=\\\"true\\\" class=\\\"icon-download\\\"></span>Download</h2>\\\\n<p>Python source code and installers are available for download for all versions!</p>\\\\n<p>Latest: <a href=\\\"/downloads/release/python-370/\\\">Python 3.7.0</a></p>\\\\n                    </div>\\\\n\\\\n                    <div class=\\\"small-widget documentation-widget\\\">\\\\n                        <h2 class=\\\"widget-title\\\"><span aria-hidden=\\\"true\\\" class=\\\"icon-documentation\\\"></span>Docs</h2>\\\\n<p>Documentation for Python\\\\'s standard library, along with tutorials and guides, are available online.</p>\\\\n<p><a href=\\\"https://docs.python.org\\\">docs.python.org</a></p>\\\\n                    </div>\\\\n\\\\n                    <div class=\\\"small-widget jobs-widget last\\\">\\\\n                        <h2 class=\\\"widget-title\\\"><span aria-hidden=\\\"true\\\" class=\\\"icon-jobs\\\"></span>Jobs</h2>\\\\n<p>Looking for work or have a Python related position that you\\\\'re trying to hire for? Our <strong>relaunched community-run job board</strong> is the place to go.</p>\\\\n<p><a href=\\\"//jobs.python.org\\\">jobs.python.org</a></p>\\\\n                    </div>\\\\n\\\\n                </div>\\\\n\\\\n                <div class=\\\"list-widgets row\\\">\\\\n\\\\n                    <div class=\\\"medium-widget blog-widget\\\">\\\\n                        \\\\n                        <div class=\\\"shrubbery\\\">\\\\n                        \\\\n                            <h2 class=\\\"widget-title\\\"><span aria-hidden=\\\"true\\\" class=\\\"icon-news\\\"></span>Latest News</h2>\\\\n                            <p class=\\\"give-me-more\\\"><a href=\\\"http://blog.python.org\\\" title=\\\"More News\\\">More</a></p>\\\\n                            \\\\n                            <ul class=\\\"menu\\\">\\\\n                                \\\\n                                \\\\n                                <li>\\\\n<time datetime=\\\"2018-06-28T00:00:00.000003+00:00\\\"><span class=\\\"say-no-more\\\">2018-</span>06-28</time>\\\\n <a href=\\\"http://feedproxy.google.com/~r/PythonInsider/~3/RMqgTQsV720/python-3.html\\\">Python&nbsp;3.7.0&nbsp;is now available (and so is 3.6.6)! On behalf of ...</a></li>\\\\n                                \\\\n                                <li>\\\\n<time datetime=\\\"2018-06-12T20:26:00.000001+00:00\\\"><span class=\\\"say-no-more\\\">2018-</span>06-12</time>\\\\n <a href=\\\"http://feedproxy.google.com/~r/PythonInsider/~3/PuHgTVhNAAE/python-370rc1-and-366rc1-now-available.html\\\">Python&nbsp;3.7.0rc1&nbsp;and&nbsp;3.6.6rc1&nbsp;are now available. 3.7.0rc1 is the&nbsp;final planned release preview&nbsp;of&nbsp;Python 3.7, ...</a></li>\\\\n                                \\\\n                                <li>\\\\n<time datetime=\\\"2018-05-31T04:30:00.000003+00:00\\\"><span class=\\\"say-no-more\\\">2018-</span>05-31</time>\\\\n <a href=\\\"http://feedproxy.google.com/~r/PythonInsider/~3/rPQiRIs2Qhg/python-370b5-bonus-beta-is-now.html\\\">A 3.7 update: Python&nbsp;3.7.0b5&nbsp;is now the&nbsp;final beta preview&nbsp;of&nbsp;Python 3.7, the ...</a></li>\\\\n                                \\\\n                                <li>\\\\n<time datetime=\\\"2018-05-03T00:18:00.000003+00:00\\\"><span class=\\\"say-no-more\\\">2018-</span>05-03</time>\\\\n <a href=\\\"http://feedproxy.google.com/~r/PythonInsider/~3/vo7OgsISIdQ/python-370b4-final-37-beta-now.html\\\">Python&nbsp;3.7.0b4&nbsp;is the&nbsp;final beta preview&nbsp;of&nbsp;Python 3.7, the next feature release of ...</a></li>\\\\n                                \\\\n                                <li>\\\\n<time datetime=\\\"2018-05-01T04:28:00.000001+00:00\\\"><span class=\\\"say-no-more\\\">2018-</span>05-01</time>\\\\n <a href=\\\"http://feedproxy.google.com/~r/PythonInsider/~3/BMstxEjkOt0/python-2715-released.html\\\">The bugfix release Python 2.7.15 is now available for download.</a></li>\\\\n                                \\\\n                            </ul>\\\\n                        </div><!-- end .shrubbery -->\\\\n\\\\n                    </div>\\\\n\\\\n                    <div class=\\\"medium-widget event-widget last\\\">\\\\n                        \\\\n                        <div class=\\\"shrubbery\\\">\\\\n                        \\\\n                            <h2 class=\\\"widget-title\\\"><span aria-hidden=\\\"true\\\" class=\\\"icon-calendar\\\"></span>Upcoming Events</h2>\\\\n                            <p class=\\\"give-me-more\\\"><a href=\\\"/events/calendars/\\\" title=\\\"More Events\\\">More</a></p>\\\\n                            \\\\n                            <ul class=\\\"menu\\\">\\\\n                                \\\\n                                \\\\n                                \\\\n                                <li>\\\\n<time datetime=\\\"2018-07-17T17:00:00+00:00\\\"><span class=\\\"say-no-more\\\">2018-</span>07-17</time>\\\\n <a href=\\\"/events/python-user-group/740/\\\">Python Meetup Ljubljana</a></li>\\\\n                                \\\\n                                \\\\n                                \\\\n                                <li>\\\\n<time datetime=\\\"2018-07-21T00:00:00+00:00\\\"><span class=\\\"say-no-more\\\">2018-</span>07-21</time>\\\\n <a href=\\\"/events/python-user-group/735/\\\">Django Girls Kampala</a></li>\\\\n                                \\\\n                                \\\\n                                \\\\n                                <li>\\\\n<time datetime=\\\"2018-07-21T00:00:00+00:00\\\"><span class=\\\"say-no-more\\\">2018-</span>07-21</time>\\\\n <a href=\\\"/events/python-user-group/741/\\\">How to get better your life with Bash, organized by Python Ecuador</a></li>\\\\n                                \\\\n                                \\\\n                                \\\\n                                <li>\\\\n<time datetime=\\\"2018-07-21T00:00:00+00:00\\\"><span class=\\\"say-no-more\\\">2018-</span>07-21</time>\\\\n <a href=\\\"/events/python-user-group/742/\\\">Django Girls Seoul Workshop</a></li>\\\\n                                \\\\n                                \\\\n                                \\\\n                                <li>\\\\n<time datetime=\\\"2018-07-22T00:00:00+00:00\\\"><span class=\\\"say-no-more\\\">2018-</span>07-22</time>\\\\n <a href=\\\"/events/python-events/730/\\\">PyCon Russia</a></li>\\\\n                                \\\\n                                \\\\n                            </ul>\\\\n                        </div>\\\\n\\\\n                    </div>\\\\n\\\\n                </div>\\\\n\\\\n                <div class=\\\"row\\\">\\\\n\\\\n                    <div class=\\\"medium-widget success-stories-widget\\\">\\\\n                        \\\\n\\\\n\\\\n\\\\n                        <div class=\\\"shrubbery\\\">\\\\n                            \\\\n\\\\n                            <h2 class=\\\"widget-title\\\"><span aria-hidden=\\\"true\\\" class=\\\"icon-success-stories\\\"></span>Success Stories</h2>\\\\n                            <p class=\\\"give-me-more\\\"><a href=\\\"/success-stories/\\\" title=\\\"More Success Stories\\\">More</a></p>\\\\n\\\\n                            \\\\n                            <div class=\\\"success-story-item\\\" id=\\\"success-story-2\\\">\\\\n\\\\n                            <blockquote>\\\\n                                <a href=\\\"/success-stories/industrial-light-magic-runs-python/\\\">ILM runs a batch processing environment capable of modeling, rendering and compositing tens of thousands of motion picture frames per day. Thousands of machines running Linux, IRIX, Compaq Tru64, OS X, Solaris, and Windows join together to provide a production pipeline used by ~800 users daily. Speed of development is key, and Python was a faster way to code (and re-code) the programs that control this production pipeline.</a>\\\\n                            </blockquote>\\\\n\\\\n                            <table cellpadding=\\\"0\\\" cellspacing=\\\"0\\\" border=\\\"0\\\" width=\\\"100%\\\" class=\\\"quote-from\\\">\\\\n                                <tbody>\\\\n                                    <tr>\\\\n                                        \\\\n                                        <td><p><a href=\\\"/success-stories/industrial-light-magic-runs-python/\\\">Industrial Light &amp; Magic Runs on Python</a> <em>by Tim Fortenberry</em></p></td>\\\\n                                    </tr>\\\\n                                </tbody>\\\\n                            </table>\\\\n                            </div>\\\\n                            \\\\n\\\\n                        </div><!-- end .shrubbery -->\\\\n\\\\n                    </div>\\\\n\\\\n                    <div class=\\\"medium-widget applications-widget last\\\">\\\\n                        <div class=\\\"shrubbery\\\">\\\\n                            <h2 class=\\\"widget-title\\\"><span aria-hidden=\\\"true\\\" class=\\\"icon-python\\\"></span>Use Python for&hellip;</h2>\\\\n<p class=\\\"give-me-more\\\"><a href=\\\"/about/apps\\\" title=\\\"More Applications\\\">More</a></p>\\\\n\\\\n<ul class=\\\"menu\\\">\\\\n    <li><b>Web Development</b>:\\\\n        <span class=\\\"tag-wrapper\\\"><a class=\\\"tag\\\" href=\\\"http://www.djangoproject.com/\\\">Django</a>, <a class=\\\"tag\\\" href=\\\"http://www.pylonsproject.org/\\\">Pyramid</a>, <a class=\\\"tag\\\" href=\\\"http://bottlepy.org\\\">Bottle</a>, <a class=\\\"tag\\\" href=\\\"http://tornadoweb.org\\\">Tornado</a>, <a href=\\\"http://flask.pocoo.org/\\\" class=\\\"tag\\\">Flask</a>, <a class=\\\"tag\\\" href=\\\"http://www.web2py.com/\\\">web2py</a></span></li>\\\\n    <li><b>GUI Development</b>:\\\\n        <span class=\\\"tag-wrapper\\\"><a class=\\\"tag\\\" href=\\\"http://wiki.python.org/moin/TkInter\\\">tkInter</a>, <a class=\\\"tag\\\" href=\\\"https://wiki.gnome.org/Projects/PyGObject\\\">PyGObject</a>, <a class=\\\"tag\\\" href=\\\"http://www.riverbankcomputing.co.uk/software/pyqt/intro\\\">PyQt</a>, <a class=\\\"tag\\\" href=\\\"https://wiki.qt.io/PySide\\\">PySide</a>, <a class=\\\"tag\\\" href=\\\"https://kivy.org/\\\">Kivy</a>, <a class=\\\"tag\\\" href=\\\"http://www.wxpython.org/\\\">wxPython</a></span></li>\\\\n    <li><b>Scientific and Numeric</b>:\\\\n        <span class=\\\"tag-wrapper\\\">\\\\n<a class=\\\"tag\\\" href=\\\"http://www.scipy.org\\\">SciPy</a>, <a class=\\\"tag\\\" href=\\\"http://pandas.pydata.org/\\\">Pandas</a>, <a href=\\\"http://ipython.org\\\" class=\\\"tag\\\">IPython</a></span></li>\\\\n    <li><b>Software Development</b>:\\\\n        <span class=\\\"tag-wrapper\\\"><a class=\\\"tag\\\" href=\\\"http://buildbot.net/\\\">Buildbot</a>, <a class=\\\"tag\\\" href=\\\"http://trac.edgewall.org/\\\">Trac</a>, <a class=\\\"tag\\\" href=\\\"http://roundup.sourceforge.net/\\\">Roundup</a></span></li>\\\\n    <li><b>System Administration</b>:\\\\n        <span class=\\\"tag-wrapper\\\"><a class=\\\"tag\\\" href=\\\"http://www.ansible.com\\\">Ansible</a>, <a class=\\\"tag\\\" href=\\\"http://www.saltstack.com\\\">Salt</a>, <a class=\\\"tag\\\" href=\\\"https://www.openstack.org\\\">OpenStack</a></span></li>\\\\n</ul>\\\\n\\\\n                        </div><!-- end .shrubbery -->\\\\n                    </div>\\\\n\\\\n                </div>\\\\n\\\\n                \\\\n                <div class=\\\"pep-widget\\\">\\\\n\\\\n                    <h2 class=\\\"widget-title\\\">\\\\n                        <span class=\\\"prompt\\\">&gt;&gt;&gt;</span> <a href=\\\"/dev/peps/\\\">Python Enhancement Proposals<span class=\\\"say-no-more\\\"> (PEPs)</span></a>: The future of Python<span class=\\\"say-no-more\\\"> is discussed here.</span>\\\\n                        <a aria-hidden=\\\"true\\\" class=\\\"rss-link\\\" href=\\\"/dev/peps/peps.rss\\\"><span class=\\\"icon-feed\\\"></span> RSS</a>\\\\n                    </h2>\\\\n\\\\n\\\\n                    \\\\n                    \\\\n                </div>\\\\n\\\\n                                <div class=\\\"psf-widget\\\">\\\\n\\\\n                    <div class=\\\"python-logo\\\"></div>\\\\n                    \\\\n                    <h2 class=\\\"widget-title\\\">\\\\n    <span class=\\\"prompt\\\">&gt;&gt;&gt;</span> <a href=\\\"/psf/\\\">Python Software Foundation</a>\\\\n</h2>\\\\n<p>The mission of the Python Software Foundation is to promote, protect, and advance the Python programming language, and to support and facilitate the growth of a diverse and international community of Python programmers. <a class=\\\"readmore\\\" href=\\\"/psf/\\\">Learn more</a> </p>\\\\n<p class=\\\"click-these\\\">\\\\n    <a class=\\\"button\\\" href=\\\"/users/membership/\\\">Become a Member</a>\\\\n    <a class=\\\"button\\\" href=\\\"/psf/donations/\\\">Donate to the PSF</a>\\\\n</p>\\\\n                </div>\\\\n\\\\n\\\\n\\\\n\\\\n                </section>\\\\n\\\\n                \\\\n                \\\\n\\\\n                \\\\n                \\\\n\\\\n\\\\n            </div><!-- end .container -->\\\\n        </div><!-- end #content .content-wrapper -->\\\\n\\\\n        <!-- Footer and social media list -->\\\\n        <footer id=\\\"site-map\\\" class=\\\"main-footer\\\" role=\\\"contentinfo\\\">\\\\n            <div class=\\\"main-footer-links\\\">\\\\n                <div class=\\\"container\\\">\\\\n\\\\n                    \\\\n                    <a id=\\\"back-to-top-1\\\" class=\\\"jump-link\\\" href=\\\"#python-network\\\"><span aria-hidden=\\\"true\\\" class=\\\"icon-arrow-up\\\"><span>&#9650;</span></span> Back to Top</a>\\\\n\\\\n                    \\\\n\\\\n<ul class=\\\"sitemap navigation menu do-not-print\\\" role=\\\"tree\\\" id=\\\"container\\\">\\\\n    \\\\n    <li class=\\\"tier-1 element-1\\\">\\\\n        <a href=\\\"/about/\\\" >About</a>\\\\n        \\\\n            \\\\n\\\\n<ul class=\\\"subnav menu\\\">\\\\n    \\\\n        <li class=\\\"tier-2 element-1\\\" role=\\\"treeitem\\\"><a href=\\\"/about/apps/\\\" title=\\\"\\\">Applications</a></li>\\\\n    \\\\n        <li class=\\\"tier-2 element-2\\\" role=\\\"treeitem\\\"><a href=\\\"/about/quotes/\\\" title=\\\"\\\">Quotes</a></li>\\\\n    \\\\n        <li class=\\\"tier-2 element-3\\\" role=\\\"treeitem\\\"><a href=\\\"/about/gettingstarted/\\\" title=\\\"\\\">Getting Started</a></li>\\\\n    \\\\n        <li class=\\\"tier-2 element-4\\\" role=\\\"treeitem\\\"><a href=\\\"/about/help/\\\" title=\\\"\\\">Help</a></li>\\\\n    \\\\n        <li class=\\\"tier-2 element-5\\\" role=\\\"treeitem\\\"><a href=\\\"http://brochure.getpython.info/\\\" title=\\\"\\\">Python Brochure</a></li>\\\\n    \\\\n</ul>\\\\n\\\\n        \\\\n    </li>\\\\n    \\\\n    <li class=\\\"tier-1 element-2\\\">\\\\n        <a href=\\\"/downloads/\\\" >Downloads</a>\\\\n        \\\\n            \\\\n\\\\n<ul class=\\\"subnav menu\\\">\\\\n    \\\\n        <li class=\\\"tier-2 element-1\\\" role=\\\"treeitem\\\"><a href=\\\"/downloads/\\\" title=\\\"\\\">All releases</a></li>\\\\n    \\\\n        <li class=\\\"tier-2 element-2\\\" role=\\\"treeitem\\\"><a href=\\\"/downloads/source/\\\" title=\\\"\\\">Source code</a></li>\\\\n    \\\\n        <li class=\\\"tier-2 element-3\\\" role=\\\"treeitem\\\"><a href=\\\"/downloads/windows/\\\" title=\\\"\\\">Windows</a></li>\\\\n    \\\\n        <li class=\\\"tier-2 element-4\\\" role=\\\"treeitem\\\"><a href=\\\"/downloads/mac-osx/\\\" title=\\\"\\\">Mac OS X</a></li>\\\\n    \\\\n        <li class=\\\"tier-2 element-5\\\" role=\\\"treeitem\\\"><a href=\\\"/download/other/\\\" title=\\\"\\\">Other Platforms</a></li>\\\\n    \\\\n        <li class=\\\"tier-2 element-6\\\" role=\\\"treeitem\\\"><a href=\\\"https://docs.python.org/3/license.html\\\" title=\\\"\\\">License</a></li>\\\\n    \\\\n        <li class=\\\"tier-2 element-7\\\" role=\\\"treeitem\\\"><a href=\\\"/download/alternatives\\\" title=\\\"\\\">Alternative Implementations</a></li>\\\\n    \\\\n</ul>\\\\n\\\\n        \\\\n    </li>\\\\n    \\\\n    <li class=\\\"tier-1 element-3\\\">\\\\n        <a href=\\\"/doc/\\\" >Documentation</a>\\\\n        \\\\n            \\\\n\\\\n<ul class=\\\"subnav menu\\\">\\\\n    \\\\n        <li class=\\\"tier-2 element-1\\\" role=\\\"treeitem\\\"><a href=\\\"/doc/\\\" title=\\\"\\\">Docs</a></li>\\\\n    \\\\n        <li class=\\\"tier-2 element-2\\\" role=\\\"treeitem\\\"><a href=\\\"/doc/av\\\" title=\\\"\\\">Audio/Visual Talks</a></li>\\\\n    \\\\n        <li class=\\\"tier-2 element-3\\\" role=\\\"treeitem\\\"><a href=\\\"https://wiki.python.org/moin/BeginnersGuide\\\" title=\\\"\\\">Beginner&#39;s Guide</a></li>\\\\n    \\\\n        <li class=\\\"tier-2 element-4\\\" role=\\\"treeitem\\\"><a href=\\\"https://devguide.python.org/\\\" title=\\\"\\\">Developer&#39;s Guide</a></li>\\\\n    \\\\n        <li class=\\\"tier-2 element-5\\\" role=\\\"treeitem\\\"><a href=\\\"https://docs.python.org/faq/\\\" title=\\\"\\\">FAQ</a></li>\\\\n    \\\\n        <li class=\\\"tier-2 element-6\\\" role=\\\"treeitem\\\"><a href=\\\"http://wiki.python.org/moin/Languages\\\" title=\\\"\\\">Non-English Docs</a></li>\\\\n    \\\\n        <li class=\\\"tier-2 element-7\\\" role=\\\"treeitem\\\"><a href=\\\"http://python.org/dev/peps/\\\" title=\\\"\\\">PEP Index</a></li>\\\\n    \\\\n        <li class=\\\"tier-2 element-8\\\" role=\\\"treeitem\\\"><a href=\\\"https://wiki.python.org/moin/PythonBooks\\\" title=\\\"\\\">Python Books</a></li>\\\\n    \\\\n        <li class=\\\"tier-2 element-9\\\" role=\\\"treeitem\\\"><a href=\\\"/doc/essays/\\\" title=\\\"\\\">Python Essays</a></li>\\\\n    \\\\n</ul>\\\\n\\\\n        \\\\n    </li>\\\\n    \\\\n    <li class=\\\"tier-1 element-4\\\">\\\\n        <a href=\\\"/community/\\\" >Community</a>\\\\n        \\\\n            \\\\n\\\\n<ul class=\\\"subnav menu\\\">\\\\n    \\\\n        <li class=\\\"tier-2 element-1\\\" role=\\\"treeitem\\\"><a href=\\\"/community/diversity/\\\" title=\\\"\\\">Diversity</a></li>\\\\n    \\\\n        <li class=\\\"tier-2 element-2\\\" role=\\\"treeitem\\\"><a href=\\\"/community/lists/\\\" title=\\\"\\\">Mailing Lists</a></li>\\\\n    \\\\n        <li class=\\\"tier-2 element-3\\\" role=\\\"treeitem\\\"><a href=\\\"/community/irc/\\\" title=\\\"\\\">IRC</a></li>\\\\n    \\\\n        <li class=\\\"tier-2 element-4\\\" role=\\\"treeitem\\\"><a href=\\\"/community/forums/\\\" title=\\\"\\\">Forums</a></li>\\\\n    \\\\n        <li class=\\\"tier-2 element-5\\\" role=\\\"treeitem\\\"><a href=\\\"/community/workshops/\\\" title=\\\"\\\">Python Conferences</a></li>\\\\n    \\\\n        <li class=\\\"tier-2 element-6\\\" role=\\\"treeitem\\\"><a href=\\\"/community/sigs/\\\" title=\\\"\\\">Special Interest Groups</a></li>\\\\n    \\\\n        <li class=\\\"tier-2 element-7\\\" role=\\\"treeitem\\\"><a href=\\\"https://wiki.python.org/moin/\\\" title=\\\"\\\">Python Wiki</a></li>\\\\n    \\\\n        <li class=\\\"tier-2 element-8\\\" role=\\\"treeitem\\\"><a href=\\\"/community/logos/\\\" title=\\\"\\\">Python Logo</a></li>\\\\n    \\\\n        <li class=\\\"tier-2 element-9\\\" role=\\\"treeitem\\\"><a href=\\\"/community/merchandise/\\\" title=\\\"\\\">Merchandise</a></li>\\\\n    \\\\n        <li class=\\\"tier-2 element-10\\\" role=\\\"treeitem\\\"><a href=\\\"/community/awards\\\" title=\\\"\\\">Community Awards</a></li>\\\\n    \\\\n        <li class=\\\"tier-2 element-11\\\" role=\\\"treeitem\\\"><a href=\\\"https://www.python.org/psf/codeofconduct/\\\" title=\\\"\\\">Code of Conduct</a></li>\\\\n    \\\\n</ul>\\\\n\\\\n        \\\\n    </li>\\\\n    \\\\n    <li class=\\\"tier-1 element-5\\\">\\\\n        <a href=\\\"/about/success/\\\" title=\\\"success-stories\\\">Success Stories</a>\\\\n        \\\\n            \\\\n\\\\n<ul class=\\\"subnav menu\\\">\\\\n    \\\\n        <li class=\\\"tier-2 element-1\\\" role=\\\"treeitem\\\"><a href=\\\"/about/success/#arts\\\" title=\\\"\\\">Arts</a></li>\\\\n    \\\\n        <li class=\\\"tier-2 element-2\\\" role=\\\"treeitem\\\"><a href=\\\"/about/success/#business\\\" title=\\\"\\\">Business</a></li>\\\\n    \\\\n        <li class=\\\"tier-2 element-3\\\" role=\\\"treeitem\\\"><a href=\\\"/about/success/#education\\\" title=\\\"\\\">Education</a></li>\\\\n    \\\\n        <li class=\\\"tier-2 element-4\\\" role=\\\"treeitem\\\"><a href=\\\"/about/success/#engineering\\\" title=\\\"\\\">Engineering</a></li>\\\\n    \\\\n        <li class=\\\"tier-2 element-5\\\" role=\\\"treeitem\\\"><a href=\\\"/about/success/#government\\\" title=\\\"\\\">Government</a></li>\\\\n    \\\\n        <li class=\\\"tier-2 element-6\\\" role=\\\"treeitem\\\"><a href=\\\"/about/success/#scientific\\\" title=\\\"\\\">Scientific</a></li>\\\\n    \\\\n        <li class=\\\"tier-2 element-7\\\" role=\\\"treeitem\\\"><a href=\\\"/about/success/#software-development\\\" title=\\\"\\\">Software Development</a></li>\\\\n    \\\\n</ul>\\\\n\\\\n        \\\\n    </li>\\\\n    \\\\n    <li class=\\\"tier-1 element-6\\\">\\\\n        <a href=\\\"/blogs/\\\" title=\\\"News from around the Python world\\\">News</a>\\\\n        \\\\n            \\\\n\\\\n<ul class=\\\"subnav menu\\\">\\\\n    \\\\n        <li class=\\\"tier-2 element-1\\\" role=\\\"treeitem\\\"><a href=\\\"/blogs/\\\" title=\\\"Python Insider Blog Posts\\\">Python News</a></li>\\\\n    \\\\n        <li class=\\\"tier-2 element-2\\\" role=\\\"treeitem\\\"><a href=\\\"http://planetpython.org/\\\" title=\\\"Planet Python\\\">Community News</a></li>\\\\n    \\\\n        <li class=\\\"tier-2 element-3\\\" role=\\\"treeitem\\\"><a href=\\\"http://pyfound.blogspot.com/\\\" title=\\\"PSF Blog\\\">PSF News</a></li>\\\\n    \\\\n        <li class=\\\"tier-2 element-4\\\" role=\\\"treeitem\\\"><a href=\\\"http://pycon.blogspot.com/\\\" title=\\\"PyCon Blog\\\">PyCon News</a></li>\\\\n    \\\\n</ul>\\\\n\\\\n        \\\\n    </li>\\\\n    \\\\n    <li class=\\\"tier-1 element-7\\\">\\\\n        <a href=\\\"/events/\\\" >Events</a>\\\\n        \\\\n            \\\\n\\\\n<ul class=\\\"subnav menu\\\">\\\\n    \\\\n        <li class=\\\"tier-2 element-1\\\" role=\\\"treeitem\\\"><a href=\\\"/events/python-events\\\" title=\\\"\\\">Python Events</a></li>\\\\n    \\\\n        <li class=\\\"tier-2 element-2\\\" role=\\\"treeitem\\\"><a href=\\\"/events/python-user-group/\\\" title=\\\"\\\">User Group Events</a></li>\\\\n    \\\\n        <li class=\\\"tier-2 element-3\\\" role=\\\"treeitem\\\"><a href=\\\"/events/python-events/past/\\\" title=\\\"\\\">Python Events Archive</a></li>\\\\n    \\\\n        <li class=\\\"tier-2 element-4\\\" role=\\\"treeitem\\\"><a href=\\\"/events/python-user-group/past/\\\" title=\\\"\\\">User Group Events Archive</a></li>\\\\n    \\\\n        <li class=\\\"tier-2 element-5\\\" role=\\\"treeitem\\\"><a href=\\\"https://wiki.python.org/moin/PythonEventsCalendar#Submitting_an_Event\\\" title=\\\"\\\">Submit an Event</a></li>\\\\n    \\\\n</ul>\\\\n\\\\n        \\\\n    </li>\\\\n    \\\\n    <li class=\\\"tier-1 element-8\\\">\\\\n        <a href=\\\"/dev/\\\" >Contributing</a>\\\\n        \\\\n            \\\\n\\\\n<ul class=\\\"subnav menu\\\">\\\\n    \\\\n        <li class=\\\"tier-2 element-1\\\" role=\\\"treeitem\\\"><a href=\\\"https://devguide.python.org/\\\" title=\\\"\\\">Developer&#39;s Guide</a></li>\\\\n    \\\\n        <li class=\\\"tier-2 element-2\\\" role=\\\"treeitem\\\"><a href=\\\"https://bugs.python.org/\\\" title=\\\"\\\">Issue Tracker</a></li>\\\\n    \\\\n        <li class=\\\"tier-2 element-3\\\" role=\\\"treeitem\\\"><a href=\\\"https://mail.python.org/mailman/listinfo/python-dev\\\" title=\\\"\\\">python-dev list</a></li>\\\\n    \\\\n        <li class=\\\"tier-2 element-4\\\" role=\\\"treeitem\\\"><a href=\\\"/dev/core-mentorship/\\\" title=\\\"\\\">Core Mentorship</a></li>\\\\n    \\\\n</ul>\\\\n\\\\n        \\\\n    </li>\\\\n    \\\\n</ul>\\\\n\\\\n\\\\n                    <a id=\\\"back-to-top-2\\\" class=\\\"jump-link\\\" href=\\\"#python-network\\\"><span aria-hidden=\\\"true\\\" class=\\\"icon-arrow-up\\\"><span>&#9650;</span></span> Back to Top</a>\\\\n                    \\\\n\\\\n                </div><!-- end .container -->\\\\n            </div> <!-- end .main-footer-links -->\\\\n\\\\n            <div class=\\\"site-base\\\">\\\\n                <div class=\\\"container\\\">\\\\n                    \\\\n                    <ul class=\\\"footer-links navigation menu do-not-print\\\" role=\\\"tree\\\">\\\\n                        <li class=\\\"tier-1 element-1\\\"><a href=\\\"/about/help/\\\">Help &amp; <span class=\\\"say-no-more\\\">General</span> Contact</a></li>\\\\n                        <li class=\\\"tier-1 element-2\\\"><a href=\\\"/community/diversity/\\\">Diversity <span class=\\\"say-no-more\\\">Initiatives</span></a></li>\\\\n                        <li class=\\\"tier-1 element-3\\\"><a href=\\\"https://github.com/python/pythondotorg/issues\\\">Submit Website Bug</a></li>\\\\n                        <li class=\\\"tier-1 element-4\\\">\\\\n                            <a href=\\\"https://status.python.org/\\\">Status <span class=\\\"python-status-indicator-default\\\" id=\\\"python-status-indicator\\\"></span></a>\\\\n                        </li>\\\\n                    </ul>\\\\n\\\\n                    <div class=\\\"copyright\\\">\\\\n                        <p><small>\\\\n                            <span class=\\\"pre\\\">Copyright &copy;2001-2018.</span>\\\\n                            &nbsp;<span class=\\\"pre\\\"><a href=\\\"/psf-landing/\\\">Python Software Foundation</a></span>\\\\n                            &nbsp;<span class=\\\"pre\\\"><a href=\\\"/about/legal/\\\">Legal Statements</a></span>\\\\n                            &nbsp;<span class=\\\"pre\\\"><a href=\\\"/privacy/\\\">Privacy Policy</a></span>\\\\n                            &nbsp;<span class=\\\"pre\\\"><a href=\\\"/psf/sponsorship/sponsors/\\\">Powered by Rackspace</a></span>\\\\n                        </small></p>\\\\n                    </div>\\\\n\\\\n                </div><!-- end .container -->\\\\n            </div><!-- end .site-base -->\\\\n\\\\n        </footer>\\\\n\\\\n    </div><!-- end #touchnav-wrapper -->\\\\n\\\\n    \\\\n    <script src=\\\"//ajax.googleapis.com/ajax/libs/jquery/1.8.2/jquery.min.js\\\"></script>\\\\n    <script>window.jQuery || document.write(\\\\'<script src=\\\"/static/js/libs/jquery-1.8.2.min.js\\\"><\\\\\\\\/script>\\\\')</script>\\\\n\\\\n    <script src=\\\"/static/js/libs/masonry.pkgd.min.js\\\"></script>\\\\n\\\\n    <script type=\\\"text/javascript\\\" src=\\\"/static/js/main-min.js\\\" charset=\\\"utf-8\\\"></script>\\\\n    \\\\n\\\\n    <!--[if lte IE 7]>\\\\n    <script type=\\\"text/javascript\\\" src=\\\"/static/js/plugins/IE8-min.js\\\" charset=\\\"utf-8\\\"></script>\\\\n    \\\\n    \\\\n    <![endif]-->\\\\n\\\\n    <!--[if lte IE 8]>\\\\n    <script type=\\\"text/javascript\\\" src=\\\"/static/js/plugins/getComputedStyle-min.js\\\" charset=\\\"utf-8\\\"></script>\\\\n    \\\\n    \\\\n    <![endif]-->\\\\n\\\\n    \\\\n\\\\n    \\\\n    \\\\n\\\\n</body>\\\\n</html>\\\\n'\"\n",
      "\n",
      "      ]\n",
      "\n",
      "     },\n",
      "\n",
      "     \"execution_count\": 35,\n",
      "\n",
      "     \"metadata\": {},\n",
      "\n",
      "     \"output_type\": \"execute_result\"\n",
      "\n",
      "    }\n",
      "\n",
      "   ],\n",
      "\n",
      "   \"source\": [\n",
      "\n",
      "    \"html.read()\"\n",
      "\n",
      "   ]\n",
      "\n",
      "  },\n",
      "\n",
      "  {\n",
      "\n",
      "   \"cell_type\": \"code\",\n",
      "\n",
      "   \"execution_count\": 32,\n",
      "\n",
      "   \"metadata\": {},\n",
      "\n",
      "   \"outputs\": [\n",
      "\n",
      "    {\n",
      "\n",
      "     \"data\": {\n",
      "\n",
      "      \"text/plain\": [\n",
      "\n",
      "       \"('moon111.png', <http.client.HTTPMessage at 0x108c83860>)\"\n",
      "\n",
      "      ]\n",
      "\n",
      "     },\n",
      "\n",
      "     \"execution_count\": 32,\n",
      "\n",
      "     \"metadata\": {},\n",
      "\n",
      "     \"output_type\": \"execute_result\"\n",
      "\n",
      "    }\n",
      "\n",
      "   ],\n",
      "\n",
      "   \"source\": [\n",
      "\n",
      "    \"import urllib\\n\",\n",
      "\n",
      "    \"urllib.request.urlretrieve(url, \\\"moon111.png\\\")\"\n",
      "\n",
      "   ]\n",
      "\n",
      "  },\n",
      "\n",
      "  {\n",
      "\n",
      "   \"cell_type\": \"markdown\",\n",
      "\n",
      "   \"metadata\": {},\n",
      "\n",
      "   \"source\": [\n",
      "\n",
      "    \"# requests \"\n",
      "\n",
      "   ]\n",
      "\n",
      "  },\n",
      "\n",
      "  {\n",
      "\n",
      "   \"cell_type\": \"markdown\",\n",
      "\n",
      "   \"metadata\": {},\n",
      "\n",
      "   \"source\": [\n",
      "\n",
      "    \"- Keep-Alive & Connection Pooling\\n\",\n",
      "\n",
      "    \"- International Domains and URLs\\n\",\n",
      "\n",
      "    \"- Sessions with Cookie Persistence\\n\",\n",
      "\n",
      "    \"- Browser-style SSL Verification\\n\",\n",
      "\n",
      "    \"- Automatic Content Decoding\\n\",\n",
      "\n",
      "    \"- Basic/Digest Authentication\\n\",\n",
      "\n",
      "    \"- Elegant Key/Value Cookies\\n\",\n",
      "\n",
      "    \"- Automatic Decompression\\n\",\n",
      "\n",
      "    \"- Unicode Response Bodies\\n\",\n",
      "\n",
      "    \"- HTTP(S) Proxy Support\\n\",\n",
      "\n",
      "    \"- Multipart File Uploads\\n\",\n",
      "\n",
      "    \"- Streaming Downloads\\n\",\n",
      "\n",
      "    \"- Connection Timeouts\\n\",\n",
      "\n",
      "    \"- Chunked Requests\\n\",\n",
      "\n",
      "    \"- .netrc Support\"\n",
      "\n",
      "   ]\n",
      "\n",
      "  },\n",
      "\n",
      "  {\n",
      "\n",
      "   \"cell_type\": \"code\",\n",
      "\n",
      "   \"execution_count\": null,\n",
      "\n",
      "   \"metadata\": {},\n",
      "\n",
      "   \"outputs\": [],\n",
      "\n",
      "   \"source\": []\n",
      "\n",
      "  }\n",
      "\n",
      " ],\n",
      "\n",
      " \"metadata\": {\n",
      "\n",
      "  \"kernelspec\": {\n",
      "\n",
      "   \"display_name\": \"Python 3\",\n",
      "\n",
      "   \"language\": \"python\",\n",
      "\n",
      "   \"name\": \"python3\"\n",
      "\n",
      "  },\n",
      "\n",
      "  \"language_info\": {\n",
      "\n",
      "   \"codemirror_mode\": {\n",
      "\n",
      "    \"name\": \"ipython\",\n",
      "\n",
      "    \"version\": 3\n",
      "\n",
      "   },\n",
      "\n",
      "   \"file_extension\": \".py\",\n",
      "\n",
      "   \"mimetype\": \"text/x-python\",\n",
      "\n",
      "   \"name\": \"python\",\n",
      "\n",
      "   \"nbconvert_exporter\": \"python\",\n",
      "\n",
      "   \"pygments_lexer\": \"ipython3\",\n",
      "\n",
      "   \"version\": \"3.6.5\"\n",
      "\n",
      "  }\n",
      "\n",
      " },\n",
      "\n",
      " \"nbformat\": 4,\n",
      "\n",
      " \"nbformat_minor\": 2\n",
      "\n",
      "}\n",
      "\n"
     ]
    }
   ],
   "source": [
    "f = open('requests.ipynb','r')\n",
    "for line in f :\n",
    "    print(line)\n",
    "f.close()"
   ]
  },
  {
   "cell_type": "markdown",
   "metadata": {},
   "source": [
    "파일로 저장된 ipynb도 텍스트로 open 할 수 있다. ipynb도 json 타입으로 가져올 수 있다."
   ]
  },
  {
   "cell_type": "code",
   "execution_count": 79,
   "metadata": {},
   "outputs": [],
   "source": [
    "name = '문근영'\n",
    "scores = {'korean': 90, 'english': 95, 'mathematics': 85, 'science': 82}"
   ]
  },
  {
   "cell_type": "code",
   "execution_count": 80,
   "metadata": {},
   "outputs": [],
   "source": [
    "# pickle은 JSON과 비슷하다고 생각하면 된다.\n",
    "# dump와 load를 이용한다.\n",
    "\n",
    "import pickle"
   ]
  },
  {
   "cell_type": "code",
   "execution_count": 81,
   "metadata": {},
   "outputs": [],
   "source": [
    "with open('moon.pickle', 'wb') as file:    # 확장자 마음대로, b는 binary의 뜻인데 pickle은 바이너리 타입이므로 꼭 붙여주어야 한다.\n",
    "    pickle.dump(name, file)\n",
    "    pickle.dump(scores, file)"
   ]
  },
  {
   "cell_type": "markdown",
   "metadata": {},
   "source": [
    "위의 코드를 실행하면 moon.pickle이 생긴다. 그러나 디코딩이 제대로 안 되어서 깨진다."
   ]
  },
  {
   "cell_type": "code",
   "execution_count": 82,
   "metadata": {
    "scrolled": false
   },
   "outputs": [
    {
     "name": "stdout",
     "output_type": "stream",
     "text": [
      "문근영\n",
      "{'korean': 90, 'english': 95, 'mathematics': 85, 'science': 82}\n",
      "<class 'dict'>\n"
     ]
    }
   ],
   "source": [
    "with open('moon.pickle', 'rb') as file:    \n",
    "    name = pickle.load(file)\n",
    "    scores = pickle.load(file)\n",
    "    print(name)\n",
    "    print(scores)\n",
    "    print(type(scores))"
   ]
  },
  {
   "cell_type": "markdown",
   "metadata": {},
   "source": [
    "객체직렬화 : pickle은 위처럼 객체의 타입까지 그대로 저장해준다. "
   ]
  },
  {
   "cell_type": "code",
   "execution_count": 83,
   "metadata": {
    "scrolled": true
   },
   "outputs": [
    {
     "name": "stdout",
     "output_type": "stream",
     "text": [
      "{'korean': 90, 'english': 95, 'mathematics': 85, 'science': 82}\n",
      "문근영\n"
     ]
    }
   ],
   "source": [
    "with open('moon.pickle', 'rb') as file:    \n",
    "    scores = pickle.load(file)\n",
    "    name = pickle.load(file)\n",
    "    print(name)\n",
    "    print(scores)"
   ]
  },
  {
   "cell_type": "markdown",
   "metadata": {},
   "source": [
    "예전에는 dump 순서대로 load 하지 않으면 안 되는 버그도 있었었다."
   ]
  },
  {
   "cell_type": "code",
   "execution_count": 48,
   "metadata": {},
   "outputs": [
    {
     "name": "stdout",
     "output_type": "stream",
     "text": [
      "{'korean': 90, 'english': 95, 'mathematics': 85, 'science': 82}\n"
     ]
    }
   ],
   "source": [
    "with open('moon.pickle', 'rb') as file:    \n",
    "    scores = pickle.load(file)\n",
    "    print(name)"
   ]
  },
  {
   "cell_type": "markdown",
   "metadata": {},
   "source": [
    "| 메서드 \t| 설명 \t|\n",
    "|-----------------------------\t|-----------------------------\t|\n",
    "| pickle.load(파일객체) \t| 파일에서 파이썬 객체를 읽음 \t|\n",
    "| pickle.dump(객체, 파일객체) \t| 파일에 파이썬 객체를 저장 \t|"
   ]
  },
  {
   "cell_type": "code",
   "execution_count": 84,
   "metadata": {},
   "outputs": [
    {
     "name": "stdout",
     "output_type": "stream",
     "text": [
      "b'\\x80\\x03]q\\x00(X\\x0f\\x00\\x00\\x00write blog postq\\x01X\\x0e\\x00\\x00\\x00reply to emailq\\x02X\\x0e\\x00\\x00\\x00read in a bookq\\x03e.'\n"
     ]
    }
   ],
   "source": [
    "todo = ['write blog post', 'reply to email', 'read in a book']\n",
    "pickled_data = pickle.dumps(todo) # dump에 s가 있으면 이것은 string의 s를 의미한다. 따라서 사람이 읽어들일 수 있게된다.\n",
    "print(pickled_data)"
   ]
  },
  {
   "cell_type": "code",
   "execution_count": 93,
   "metadata": {},
   "outputs": [
    {
     "data": {
      "text/plain": [
       "{'confidence': 0.73, 'encoding': 'Windows-1252', 'language': ''}"
      ]
     },
     "execution_count": 93,
     "metadata": {},
     "output_type": "execute_result"
    }
   ],
   "source": [
    "chardet.detect(pickled_data)"
   ]
  },
  {
   "cell_type": "code",
   "execution_count": 94,
   "metadata": {},
   "outputs": [],
   "source": [
    "restored_data = pickle.loads(pickled_data) # load 또한 s가 string 의미의 s이다."
   ]
  },
  {
   "cell_type": "code",
   "execution_count": 95,
   "metadata": {},
   "outputs": [
    {
     "data": {
      "text/plain": [
       "['write blog post', 'reply to email', 'read in a book']"
      ]
     },
     "execution_count": 95,
     "metadata": {},
     "output_type": "execute_result"
    }
   ],
   "source": [
    "restored_data"
   ]
  },
  {
   "cell_type": "markdown",
   "metadata": {},
   "source": [
    "---\n",
    "같은 방식"
   ]
  },
  {
   "cell_type": "code",
   "execution_count": 100,
   "metadata": {},
   "outputs": [],
   "source": [
    "import pickle\n",
    " \n",
    "name = 'Abder'\n",
    "website = 'http://abder.io'\n",
    "english_french = {'paper':'papier', 'pen':'stylo', 'car':'voiture'} # dictionary\n",
    "tup = (31,'abder',4.0) # tuple\n",
    " \n",
    "pickled_file = open('pickled_file.pickle', 'wb') # close를 해주어야 한다. 되긴 되지만, 연속으로 하면 문제를 일으킨다.\n",
    "pickle.dump(name, pickled_file)\n",
    "pickle.dump(website, pickled_file)\n",
    "pickle.dump(english_french, pickled_file)\n",
    "pickle.dump(tup, pickled_file)\n",
    "# pickled_file.close()"
   ]
  },
  {
   "cell_type": "code",
   "execution_count": 98,
   "metadata": {},
   "outputs": [],
   "source": [
    "from pickle import Pickler\n",
    " \n",
    "name = 'Abder'\n",
    "website = 'http://abder.io'\n",
    "english_french = {'paper':'papier', 'pen':'stylo', 'car':'voiture'} # dictionary\n",
    "tup = (31,'abder',4.0) # tuple\n",
    " \n",
    "pickled_file = open('pickled_file.pickle', 'wb')\n",
    "p = Pickler(pickled_file)\n",
    "p.dump(name); p.dump(website); p.dump(english_french); p.dump(tup)\n",
    "pickled_file.close()"
   ]
  },
  {
   "cell_type": "markdown",
   "metadata": {},
   "source": [
    "---\n",
    "같은 방식"
   ]
  },
  {
   "cell_type": "code",
   "execution_count": 101,
   "metadata": {},
   "outputs": [
    {
     "name": "stdout",
     "output_type": "stream",
     "text": [
      "Name: \n",
      "Abder\n",
      "Website:\n",
      "http://abder.io\n",
      "Englsh to French:\n",
      "{'paper': 'papier', 'pen': 'stylo', 'car': 'voiture'}\n",
      "Tuple data:\n",
      "(31, 'abder', 4.0)\n"
     ]
    }
   ],
   "source": [
    "import pickle\n",
    " \n",
    "pickled_file = open('pickled_file.pickle', 'rb') # close를 해주어야 한다. 되긴 되지만, 연속으로 하면 문제를 일으킨다.\n",
    " \n",
    "name = pickle.load(pickled_file)\n",
    "website = pickle.load(pickled_file)\n",
    "english_french = pickle.load(pickled_file)\n",
    "tup = pickle.load(pickled_file)\n",
    " \n",
    "print('Name: ')\n",
    "print(name)\n",
    "print('Website:')\n",
    "print(website)\n",
    "print('Englsh to French:')\n",
    "print(english_french)\n",
    "print('Tuple data:')\n",
    "print(tup)\n",
    "\n",
    "# pickled_file.close()"
   ]
  },
  {
   "cell_type": "code",
   "execution_count": 99,
   "metadata": {
    "scrolled": false
   },
   "outputs": [
    {
     "name": "stdout",
     "output_type": "stream",
     "text": [
      "Name: \n",
      "Abder\n",
      "Website:\n",
      "http://abder.io\n",
      "English to French:\n",
      "{'paper': 'papier', 'pen': 'stylo', 'car': 'voiture'}\n",
      "Tuple data:\n",
      "(31, 'abder', 4.0)\n"
     ]
    }
   ],
   "source": [
    "from pickle import Unpickler\n",
    " \n",
    "pickled_file = open('pickled_file.pickle', 'rb')\n",
    "u = Unpickler(pickled_file)\n",
    "name = u.load(); website = u.load(); english_french = u.load(); tup = u.load()\n",
    " \n",
    "print('Name: ')\n",
    "print(name)\n",
    "print('Website:')\n",
    "print(website)\n",
    "print('English to French:')\n",
    "print(english_french)\n",
    "print('Tuple data:')\n",
    "print(tup)"
   ]
  },
  {
   "cell_type": "markdown",
   "metadata": {},
   "source": [
    "---\n",
    "## Base64 처리"
   ]
  },
  {
   "cell_type": "code",
   "execution_count": 102,
   "metadata": {},
   "outputs": [],
   "source": [
    "import base64"
   ]
  },
  {
   "cell_type": "code",
   "execution_count": null,
   "metadata": {},
   "outputs": [],
   "source": [
    "data = open('moon111.png', 'rb') # 바이트 타입으로 ..\n",
    "# open은 "
   ]
  },
  {
   "cell_type": "code",
   "execution_count": null,
   "metadata": {},
   "outputs": [],
   "source": [
    "data = base64.encodebytes('moon111.png')"
   ]
  },
  {
   "cell_type": "code",
   "execution_count": null,
   "metadata": {},
   "outputs": [],
   "source": []
  }
 ],
 "metadata": {
  "kernelspec": {
   "display_name": "Python 3",
   "language": "python",
   "name": "python3"
  },
  "language_info": {
   "codemirror_mode": {
    "name": "ipython",
    "version": 3
   },
   "file_extension": ".py",
   "mimetype": "text/x-python",
   "name": "python",
   "nbconvert_exporter": "python",
   "pygments_lexer": "ipython3",
   "version": "3.6.4"
  }
 },
 "nbformat": 4,
 "nbformat_minor": 2
}
