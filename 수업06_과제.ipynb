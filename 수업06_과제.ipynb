{
 "cells": [
  {
   "cell_type": "markdown",
   "metadata": {},
   "source": [
    "# 수업06_과제"
   ]
  },
  {
   "cell_type": "markdown",
   "metadata": {},
   "source": [
    "## Exercise 129 : Two Dice Simulation"
   ]
  },
  {
   "cell_type": "code",
   "execution_count": 1,
   "metadata": {},
   "outputs": [
    {
     "name": "stdout",
     "output_type": "stream",
     "text": [
      "Total  Simulated   Expected\n",
      "         Percent    Percent\n",
      "    2       3.40       2.78\n",
      "    3       5.60       5.56\n",
      "    4       6.50       8.33\n",
      "    5      12.60      11.11\n",
      "    6      14.00      13.89\n",
      "    7      16.20      16.67\n",
      "    8      13.60      13.89\n",
      "    9      10.00      11.11\n",
      "   10       8.40       8.33\n",
      "   11       6.90       5.56\n",
      "   12       2.80       2.78\n"
     ]
    }
   ],
   "source": [
    "import random\n",
    "\n",
    "# function\n",
    "def simulate() :\n",
    "    key = list(range(2,13))\n",
    "    \n",
    "    simulated_dict = dict.fromkeys(key,0)\n",
    "    expected_dict = dict.fromkeys(key,0)\n",
    "    result_dict = dict.fromkeys(key,tuple())\n",
    "  \n",
    "    # simulated percent\n",
    "    i = 0\n",
    "    while i < 1000 :\n",
    "        key_tmp = (random.randint(1,6), random.randint(1,6))\n",
    "        key = sum(key_tmp)\n",
    "        \n",
    "        if key in simulated_dict :\n",
    "            simulated_dict[key] += 1\n",
    "            \n",
    "        i += 1\n",
    "        \n",
    "    for key in simulated_dict :\n",
    "        simulated_dict[key] = (simulated_dict[key] / 1000) * 100\n",
    "    \n",
    "    # expected percent\n",
    "    for a in range(1,7) :\n",
    "        for b in range(1,7) :\n",
    "            expected_dict[a+b] += 1\n",
    "    for key in expected_dict :\n",
    "        expected_dict[key] = (expected_dict[key] / 36) * 100\n",
    "    \n",
    "    \n",
    "    # result\n",
    "    for key in result_dict :\n",
    "        result_dict[key] = ((simulated_dict[key], expected_dict[key],))\n",
    "    return result_dict\n",
    "        \n",
    "# main\n",
    "\n",
    "result = simulate()\n",
    "print('{:>5s} {:>10s} {:>10s}'.format('Total', 'Simulated', 'Expected'))\n",
    "print('{:>5s} {:>10s} {:>10s}'.format('', 'Percent', 'Percent'))\n",
    "\n",
    "result\n",
    "\n",
    "for k,v in result.items() :\n",
    "    print('{:>5d} {:>10.2f} {:>10.2f}'.format(k,v[0],v[1]))"
   ]
  },
  {
   "cell_type": "markdown",
   "metadata": {},
   "source": [
    "## Exercise 130 : Text Messaging"
   ]
  },
  {
   "cell_type": "code",
   "execution_count": 2,
   "metadata": {},
   "outputs": [],
   "source": [
    "def key_pad(text) :\n",
    "    key_dict = {1 : ['.', ',' ,'?', '!', ':'],\n",
    "                2 : ['A', 'B', 'C'],\n",
    "                3 : ['D', 'E', 'F'],\n",
    "                4 : ['G', 'H', 'I'],\n",
    "                5 : ['J', 'K', 'L'],\n",
    "                6 : ['M', 'N', 'O'],\n",
    "                7 : ['P', 'Q', 'R', 'S'],\n",
    "                8 : ['T', 'U', 'V'],\n",
    "                9 : ['W', 'X', 'Y', 'Z'],\n",
    "                0 : [' ']}\n",
    "    result = str()\n",
    "    for c in text : \n",
    "        for key in key_dict :\n",
    "            if c.upper() in key_dict[key] :\n",
    "                tmp = key_dict[key].index(c.upper()) + 1\n",
    "                tmp_str = (str(key) + \"\") * tmp\n",
    "                result += tmp_str\n",
    "    return result"
   ]
  },
  {
   "cell_type": "code",
   "execution_count": 3,
   "metadata": {},
   "outputs": [
    {
     "name": "stdout",
     "output_type": "stream",
     "text": [
      "문장을 입력하시오 : Hello, World!\n",
      "결과 출력 >>>  4433555555666110966677755531111\n"
     ]
    }
   ],
   "source": [
    "text = input('문장을 입력하시오 : ')\n",
    "result = key_pad(text)\n",
    "print('결과 출력 >>> ',result)"
   ]
  },
  {
   "cell_type": "markdown",
   "metadata": {},
   "source": [
    "## Exercise 131 : Morse Code"
   ]
  },
  {
   "cell_type": "code",
   "execution_count": 4,
   "metadata": {},
   "outputs": [],
   "source": [
    "morse = {\n",
    "    'A' : '.-' ,\n",
    "    'B' : '-...',\n",
    "    'C' : '-.-.',\n",
    "    'D' : '-..',\n",
    "    'E' : '.',\n",
    "    'F' : '..-.',\n",
    "    'G' : '--.',\n",
    "    'H' : '....',\n",
    "    'I' : '..',\n",
    "    'J' : '.---',\n",
    "    'K' : '-.-',\n",
    "    'L' : '.-..',\n",
    "    'M' : '--',\n",
    "    'N' : '-.',\n",
    "    'O' : '---',\n",
    "    'P' : '.--.',\n",
    "    'Q' : '--.-',\n",
    "    'R' : '.-.',\n",
    "    'S' : '...',\n",
    "    'T' : '-',\n",
    "    'U' : '..-',\n",
    "    'V' : '...-',\n",
    "    'W' : '.--',\n",
    "    'X' : '-..-',\n",
    "    'Y' : '-.--',\n",
    "    'Z' : '--..',\n",
    "    '0' : '-----',\n",
    "    '1' : '.----',\n",
    "    '2' : '..---',\n",
    "    '3' : '...--',\n",
    "    '4' : '....-',\n",
    "    '5' : '.....',\n",
    "    '6' : '-....',\n",
    "    '7' : '--...',\n",
    "    '8' : '---..',\n",
    "    '9' : '----.'\n",
    "}"
   ]
  },
  {
   "cell_type": "code",
   "execution_count": 5,
   "metadata": {},
   "outputs": [
    {
     "name": "stdout",
     "output_type": "stream",
     "text": [
      "문장을 입력하시오 : Hello, World!\n",
      "결과 출력 >>>  .... . .-.. .-.. --- .-- --- .-. .-.. -.. \n"
     ]
    }
   ],
   "source": [
    "def translate(text) :\n",
    "    result = str()\n",
    "    for c in text :\n",
    "        if c.upper() not in morse:\n",
    "            continue\n",
    "        elif c.upper() in morse:\n",
    "            result += morse[c.upper()]\n",
    "            result += \" \"\n",
    "    return result\n",
    "\n",
    "word_to_translate = input('문장을 입력하시오 : ')\n",
    "print('결과 출력 >>> ', translate(word_to_translate))"
   ]
  },
  {
   "cell_type": "markdown",
   "metadata": {},
   "source": [
    "## Exercise 132 : Postal Codes"
   ]
  },
  {
   "cell_type": "code",
   "execution_count": 6,
   "metadata": {},
   "outputs": [],
   "source": [
    "post_dict = {\n",
    "    'A' : ['Newfoundland'], \n",
    "    'B' : ['Nova Scotia'],\n",
    "    'C' : ['Prince Edward Island'],\n",
    "    'E' : ['New Brunswick'],\n",
    "    'G' : ['Quebec'],\n",
    "    'H' : ['Quebec'],\n",
    "    'J' : ['Quebec'],\n",
    "    'K' : ['Ontario'],\n",
    "    'L' : ['Ontario'],\n",
    "    'M' : ['Ontario'],\n",
    "    'N' : ['Ontario'],\n",
    "    'P' : ['Ontario'],\n",
    "    'R' : ['Manitoba'],\n",
    "    'S' : ['Saskatchewan'],\n",
    "    'T' : ['Alberta'],\n",
    "    'V' : ['British Columbia'],\n",
    "    'X' : ['Nunavut', 'Northwest Territories'],\n",
    "    'Y' : ['Yukon']\n",
    "}"
   ]
  },
  {
   "cell_type": "code",
   "execution_count": 7,
   "metadata": {},
   "outputs": [
    {
     "name": "stdout",
     "output_type": "stream",
     "text": [
      "Enter the code :T2N 1N4\n",
      "결과 출력 >>> city : Alberta  \n",
      "결과 출력 >>> address :  urban\n"
     ]
    }
   ],
   "source": [
    "def post_func(code) :\n",
    "    if code[0].upper() in post_dict :\n",
    "        city = post_dict[code[0]]\n",
    "    if int(code[1]) == 0 :\n",
    "        address = 'rural'\n",
    "    else :\n",
    "        address = 'urban'\n",
    "        \n",
    "    print('결과 출력 >>> city : ', end =\"\")\n",
    "    for i in range(len(city)) :\n",
    "        print(city[i], end=\"  \")\n",
    "    print()\n",
    "    print('결과 출력 >>> address : ', address)\n",
    "\n",
    "# main\n",
    "postal_code = input('Enter the code :')\n",
    "post_func(postal_code)"
   ]
  },
  {
   "cell_type": "code",
   "execution_count": null,
   "metadata": {},
   "outputs": [],
   "source": []
  }
 ],
 "metadata": {
  "kernelspec": {
   "display_name": "Python 3",
   "language": "python",
   "name": "python3"
  },
  "language_info": {
   "codemirror_mode": {
    "name": "ipython",
    "version": 3
   },
   "file_extension": ".py",
   "mimetype": "text/x-python",
   "name": "python",
   "nbconvert_exporter": "python",
   "pygments_lexer": "ipython3",
   "version": "3.6.4"
  }
 },
 "nbformat": 4,
 "nbformat_minor": 2
}
