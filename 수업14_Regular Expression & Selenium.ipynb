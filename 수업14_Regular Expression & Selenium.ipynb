{
 "cells": [
  {
   "cell_type": "markdown",
   "metadata": {},
   "source": [
    "## Regular Expression"
   ]
  },
  {
   "cell_type": "code",
   "execution_count": 2,
   "metadata": {},
   "outputs": [],
   "source": [
    "import re"
   ]
  },
  {
   "cell_type": "code",
   "execution_count": 3,
   "metadata": {},
   "outputs": [],
   "source": [
    "content = \"Hello World\"\n",
    "dot = re.compile(\"(H..).(o..)\")"
   ]
  },
  {
   "cell_type": "code",
   "execution_count": 4,
   "metadata": {
    "scrolled": true
   },
   "outputs": [
    {
     "data": {
      "text/plain": [
       "<_sre.SRE_Match object; span=(0, 7), match='Hello W'>"
      ]
     },
     "execution_count": 4,
     "metadata": {},
     "output_type": "execute_result"
    }
   ],
   "source": [
    "re.search(dot, content) # 0부터 7까지의 위치를 반환한다."
   ]
  },
  {
   "cell_type": "code",
   "execution_count": 5,
   "metadata": {
    "scrolled": true
   },
   "outputs": [
    {
     "name": "stdout",
     "output_type": "stream",
     "text": [
      "None\n",
      "None\n"
     ]
    }
   ],
   "source": [
    "print(re.search(\"w\", content)) # find something anywhere in the string and return a match object\n",
    "print(re.match(\"w\", content)) # find something at the beginning of the string and return a match object\n",
    "\n",
    "# 왜 None이 뜨는거지 ..?"
   ]
  },
  {
   "cell_type": "markdown",
   "metadata": {},
   "source": [
    "그러나 현실에 잘 안 맞아서 search와 match는 잘 안 쓰고, 많은 경우에 findall 메소드를 쓴다."
   ]
  },
  {
   "cell_type": "code",
   "execution_count": 6,
   "metadata": {},
   "outputs": [],
   "source": [
    "data = \"\"\"\n",
    "park 800905-1111111\n",
    "kim 900719-2111111\n",
    "\"\"\""
   ]
  },
  {
   "cell_type": "code",
   "execution_count": 7,
   "metadata": {},
   "outputs": [
    {
     "data": {
      "text/plain": [
       "['800905-1111111', '900719-2111111']"
      ]
     },
     "execution_count": 7,
     "metadata": {},
     "output_type": "execute_result"
    }
   ],
   "source": [
    "pattern = re.compile(\"\\d{6}[-]\\d{7}\")\n",
    "re.findall(pattern, data)"
   ]
  },
  {
   "cell_type": "code",
   "execution_count": 8,
   "metadata": {},
   "outputs": [
    {
     "data": {
      "text/plain": [
       "('800905', '1111111')"
      ]
     },
     "execution_count": 8,
     "metadata": {},
     "output_type": "execute_result"
    }
   ],
   "source": [
    "pattern = re.compile(\"(\\d{6})[-](\\d{7})\")\n",
    "re.findall(pattern, data)[0]"
   ]
  },
  {
   "cell_type": "code",
   "execution_count": 9,
   "metadata": {},
   "outputs": [
    {
     "name": "stdout",
     "output_type": "stream",
     "text": [
      "\n",
      "park 800905-*******\n",
      "kim 900719-*******\n",
      "\n"
     ]
    }
   ],
   "source": [
    "print(pattern.sub(\"\\g<1>-*******\", data)) # \\g<1>은 1번 그룹을 뜻한다."
   ]
  },
  {
   "cell_type": "code",
   "execution_count": 10,
   "metadata": {
    "scrolled": true
   },
   "outputs": [
    {
     "data": {
      "text/plain": [
       "<_sre.SRE_Match object; span=(0, 4), match='crow'>"
      ]
     },
     "execution_count": 10,
     "metadata": {},
     "output_type": "execute_result"
    }
   ],
   "source": [
    "p = re.compile(\"crow|servo\")\n",
    "re.match(p, \"crowhello\") # 0번째부터 4번째까지 매칭됨"
   ]
  },
  {
   "cell_type": "code",
   "execution_count": 11,
   "metadata": {},
   "outputs": [
    {
     "name": "stdout",
     "output_type": "stream",
     "text": [
      "<_sre.SRE_Match object; span=(12, 17), match='short'>\n",
      "None\n"
     ]
    }
   ],
   "source": [
    "print(re.search(\"short$\",\"Life is too short\"))\n",
    "print(re.search(\"short$\",\"Life is too short, you need python\"))"
   ]
  },
  {
   "cell_type": "code",
   "execution_count": 12,
   "metadata": {},
   "outputs": [
    {
     "name": "stdout",
     "output_type": "stream",
     "text": [
      "ABCABCABC\n"
     ]
    }
   ],
   "source": [
    "p = re.compile(\"(ABC)+\")\n",
    "m = re.search(p, \"ABCABCABCA OK?\").group()\n",
    "print(m)"
   ]
  },
  {
   "cell_type": "code",
   "execution_count": 13,
   "metadata": {},
   "outputs": [
    {
     "data": {
      "text/plain": [
       "<_sre.SRE_Match object; span=(3, 8), match='class'>"
      ]
     },
     "execution_count": 13,
     "metadata": {},
     "output_type": "execute_result"
    }
   ],
   "source": [
    "p = re.compile(r\"\\bclass\\b\")\n",
    "re.search(p, \"no class at all\")"
   ]
  },
  {
   "cell_type": "code",
   "execution_count": 14,
   "metadata": {},
   "outputs": [
    {
     "name": "stdout",
     "output_type": "stream",
     "text": [
      "None\n",
      "<_sre.SRE_Match object; span=(6, 11), match='class'>\n"
     ]
    }
   ],
   "source": [
    "p = re.compile(r\"\\Bclass\\B\")\n",
    "print(re.search(p, \"no class at all\"))\n",
    "print(re.search(p, \"no subclasses at all\"))"
   ]
  },
  {
   "cell_type": "code",
   "execution_count": 15,
   "metadata": {},
   "outputs": [
    {
     "data": {
      "text/plain": [
       "'1111111'"
      ]
     },
     "execution_count": 15,
     "metadata": {},
     "output_type": "execute_result"
    }
   ],
   "source": [
    "result = re.search(pattern, data)\n",
    "result.group(2)"
   ]
  },
  {
   "cell_type": "code",
   "execution_count": 16,
   "metadata": {},
   "outputs": [
    {
     "name": "stdout",
     "output_type": "stream",
     "text": [
      "park\n",
      "010-1234-5678\n",
      "park 010-1234-5678\n"
     ]
    }
   ],
   "source": [
    "p = re.compile(r\"(\\w+)\\s+(\\d+[-]\\d+[-]\\d+)\")\n",
    "result = re.search(p, \"park 010-1234-5678\")\n",
    "\n",
    "print(result.group(1))\n",
    "print(result.group(2))\n",
    "print(result.group(0))"
   ]
  },
  {
   "cell_type": "code",
   "execution_count": 17,
   "metadata": {},
   "outputs": [
    {
     "name": "stdout",
     "output_type": "stream",
     "text": [
      "Isaac Newton\n",
      "Isaac\n",
      "Newton\n",
      "('Isaac', 'Newton')\n"
     ]
    }
   ],
   "source": [
    "p = re.compile(r\"(\\w+) (\\w+)\")\n",
    "result = re.search(p, \"Isaac Newton, Pysicist\")\n",
    "\n",
    "print(result.group(0))\n",
    "print(result.group(1))\n",
    "print(result.group(2))\n",
    "print(result.group(1,2))"
   ]
  },
  {
   "cell_type": "code",
   "execution_count": 18,
   "metadata": {},
   "outputs": [],
   "source": [
    "data = \"정규식 너무 싫다\""
   ]
  },
  {
   "cell_type": "code",
   "execution_count": 19,
   "metadata": {},
   "outputs": [
    {
     "data": {
      "text/plain": [
       "['정규식', '너무', '싫다']"
      ]
     },
     "execution_count": 19,
     "metadata": {},
     "output_type": "execute_result"
    }
   ],
   "source": [
    "p = re.compile(r\"\\W\")\n",
    "re.split(p, data)"
   ]
  },
  {
   "cell_type": "markdown",
   "metadata": {},
   "source": [
    "---\n",
    "## Scrapping"
   ]
  },
  {
   "cell_type": "code",
   "execution_count": 20,
   "metadata": {},
   "outputs": [],
   "source": [
    "import requests"
   ]
  },
  {
   "cell_type": "code",
   "execution_count": 21,
   "metadata": {},
   "outputs": [],
   "source": [
    "resp = requests.get(\"http://example.webscraping.com/places/default/search\")"
   ]
  },
  {
   "cell_type": "code",
   "execution_count": 41,
   "metadata": {},
   "outputs": [],
   "source": [
    "from bs4 import BeautifulSoup\n",
    "dom = BeautifulSoup(resp.content, 'lxml')\n",
    "result = dom.select(\"#results\") # id = results인 것을 검색"
   ]
  },
  {
   "cell_type": "code",
   "execution_count": 42,
   "metadata": {},
   "outputs": [
    {
     "data": {
      "text/plain": [
       "[<div id=\"results\">\n",
       " </div>]"
      ]
     },
     "execution_count": 42,
     "metadata": {},
     "output_type": "execute_result"
    }
   ],
   "source": [
    "result"
   ]
  },
  {
   "cell_type": "markdown",
   "metadata": {},
   "source": [
    "위의 예처럼 비동기식 사이트의 경우 원래 받은 html에서 해당 id의 데이터가 비어있으므로 가져올 수 없다. 이럴 경우 사용하는 것이 <b>Selenium</b>이다. Selenium을 사용하면 ajax가 반영된 html 문서를 가져올 수 있다."
   ]
  },
  {
   "cell_type": "code",
   "execution_count": 43,
   "metadata": {},
   "outputs": [],
   "source": [
    "from selenium import webdriver"
   ]
  },
  {
   "cell_type": "code",
   "execution_count": 60,
   "metadata": {},
   "outputs": [],
   "source": [
    "driver = webdriver.Chrome('./chromedriver')\n",
    "driver.get(\"http://example.webscraping.com/places/default/search\")"
   ]
  },
  {
   "cell_type": "code",
   "execution_count": 45,
   "metadata": {},
   "outputs": [],
   "source": [
    "# !brew cask install chromedriver\n",
    "\n",
    "# service = service.Service('./chromedriver')\n",
    "# service.start()"
   ]
  },
  {
   "cell_type": "code",
   "execution_count": 61,
   "metadata": {},
   "outputs": [],
   "source": [
    "driver.find_element_by_id(\"search_term\").send_keys(\"korea\")"
   ]
  },
  {
   "cell_type": "code",
   "execution_count": 62,
   "metadata": {},
   "outputs": [],
   "source": [
    "driver.find_element_by_id(\"search\").click()"
   ]
  },
  {
   "cell_type": "code",
   "execution_count": 63,
   "metadata": {},
   "outputs": [],
   "source": [
    "driver.implicitly_wait(1)"
   ]
  },
  {
   "cell_type": "code",
   "execution_count": 74,
   "metadata": {},
   "outputs": [
    {
     "data": {
      "text/plain": [
       "[<selenium.webdriver.remote.webelement.WebElement (session=\"ddb6e2d4c4b93c310dd9c01141923a05\", element=\"0.27252554085497804-3\")>,\n",
       " <selenium.webdriver.remote.webelement.WebElement (session=\"ddb6e2d4c4b93c310dd9c01141923a05\", element=\"0.27252554085497804-4\")>]"
      ]
     },
     "execution_count": 74,
     "metadata": {},
     "output_type": "execute_result"
    }
   ],
   "source": [
    "links = driver.find_elements_by_css_selector(\"#results a\")\n",
    "links"
   ]
  },
  {
   "cell_type": "code",
   "execution_count": 80,
   "metadata": {},
   "outputs": [
    {
     "data": {
      "text/plain": [
       "['North Korea', 'South Korea']"
      ]
     },
     "execution_count": 80,
     "metadata": {},
     "output_type": "execute_result"
    }
   ],
   "source": [
    "[link.text for link in links]    "
   ]
  },
  {
   "cell_type": "markdown",
   "metadata": {},
   "source": [
    "#### 네이버에서 제목만 가져오기"
   ]
  },
  {
   "cell_type": "code",
   "execution_count": 81,
   "metadata": {},
   "outputs": [
    {
     "name": "stdout",
     "output_type": "stream",
     "text": [
      "Writing account.json\n"
     ]
    }
   ],
   "source": [
    "# %%writefile account.json\n",
    "# {\"id\" : \"내 네이버 ID\", \"pw\" : \"내 네이버 PW\"}"
   ]
  },
  {
   "cell_type": "code",
   "execution_count": 82,
   "metadata": {},
   "outputs": [
    {
     "name": "stdout",
     "output_type": "stream",
     "text": [
      "total 35648\r\n",
      "drwxrwxrwx  58 JEONG  staff      1856  7 19 15:08 \u001b[30m\u001b[43m.\u001b[m\u001b[m\r\n",
      "drwxr-xr-x  13 JEONG  staff       416  7 19 02:06 \u001b[34m..\u001b[m\u001b[m\r\n",
      "-rw-r--r--@  1 JEONG  staff      6148  7 19 14:47 .DS_Store\r\n",
      "drwxr-xr-x  16 JEONG  staff       512  7 19 02:00 \u001b[34m.git\u001b[m\u001b[m\r\n",
      "drwxr-xr-x  23 JEONG  staff       736  7 19 14:08 \u001b[34m.ipynb_checkpoints\u001b[m\u001b[m\r\n",
      "-rw-r--r--   1 JEONG  staff         0  7 12 10:25 0712.db\r\n",
      "-rw-r--r--   1 JEONG  staff        10  7  4 18:20 README.md\r\n",
      "-rw-r--r--   1 JEONG  staff     28672  7 12 10:29 SQLalchemystudy.db\r\n",
      "-rw-r--r--@  1 JEONG  staff      1871  7 10 23:31 SQLite_dump_test.dump\r\n",
      "-rw-r--r--   1 JEONG  staff     28878  7  9 01:11 Week01 _ Python Note.ipynb\r\n",
      "drwxr-xr-x   3 JEONG  staff        96  7  6 16:15 \u001b[34m__pycache__\u001b[m\u001b[m\r\n",
      "-rw-r--r--   1 JEONG  staff        45  7 19 15:08 account.json\r\n",
      "-rw-r--r--   1 JEONG  staff         0  7 10 16:28 alchemytest.db\r\n",
      "-rwxr-xr-x@  1 JEONG  staff  12093844  6  7 13:25 \u001b[31mchromedriver\u001b[m\u001b[m\r\n",
      "-rw-r--r--   1 JEONG  staff         3  7 18 17:20 foo.txt\r\n",
      "-rw-r--r--   1 JEONG  staff        30  7 18 16:18 hello.txt\r\n",
      "-rw-r--r--@  1 JEONG  staff        51  7  6 16:12 importtest.py\r\n",
      "-rw-r--r--@  1 JEONG  staff        94  7 18 17:29 moon.pickle\r\n",
      "-rw-r--r--@  1 JEONG  staff        28  7 17 18:03 moon.txt\r\n",
      "-rw-r--r--@  1 JEONG  staff     24869  7 18 18:03 open, with.ipynb\r\n",
      "-rw-r--r--   1 JEONG  staff       148  7 18 17:42 pickled_file.pickle\r\n",
      "-rw-r--r--@  1 JEONG  staff     56338  7 18 17:56 requests.ipynb\r\n",
      "-rw-r--r--@  1 JEONG  staff     28672  7 11 00:00 sqlalchemy_test.db\r\n",
      "-rw-r--r--@  1 JEONG  staff       171  7 18 17:17 sun.txt\r\n",
      "-rw-r--r--   1 JEONG  staff     12288  7  9 15:54 test.db\r\n",
      "-rw-r--r--@  1 JEONG  staff        67  7 13 14:17 test.json\r\n",
      "-rw-r--r--   1 JEONG  staff         0  7  9 16:40 test02.db\r\n",
      "-rw-r--r--@  1 JEONG  staff     40960  7 10 11:24 만들 덤프 파일.db\r\n",
      "-rw-r--r--   1 JEONG  staff      2604  7  2 17:40 수업01_과제 (자기소개 및 데이터 분석하고 싶은 것).ipynb\r\n",
      "-rw-r--r--   1 JEONG  staff     87764  7  2 17:40 수업01_파이썬 기초.ipynb\r\n",
      "-rw-r--r--   1 JEONG  staff      9777  7  3 17:41 수업02_과제.ipynb\r\n",
      "-rw-r--r--   1 JEONG  staff   1160244  7  3 15:55 수업02_파이썬기초.ipynb\r\n",
      "-rw-r--r--   1 JEONG  staff     12003  7  4 18:02 수업03_과제.ipynb\r\n",
      "-rw-r--r--   1 JEONG  staff     13938  7  5 17:45 수업04_과제.ipynb\r\n",
      "-rw-r--r--   1 JEONG  staff     70333  7  5 15:27 수업04_파이썬기초.ipynb\r\n",
      "-rw-r--r--   1 JEONG  staff       604  7  6 16:12 수업05 _  test.ipynb\r\n",
      "-rw-r--r--   1 JEONG  staff     40538  7  6 18:02 수업05 _ import & namedtuple & OrderedDict.ipynb\r\n",
      "-rw-r--r--   1 JEONG  staff     17619  7  6 16:41 수업05_파이썬 Class & Object ... etc.ipynb\r\n",
      "-rw-r--r--   1 JEONG  staff     22796  7  9 16:57 수업06_SQLite.ipynb\r\n",
      "-rw-r--r--   1 JEONG  staff      8446  7  9 21:26 수업06_과제.ipynb\r\n",
      "-rw-r--r--   1 JEONG  staff    108674  7 11 00:53 수업07_SQLite, SQLAlchemy, ORM.ipynb\r\n",
      "-rw-r--r--   1 JEONG  staff    446041  7 12 11:04 수업08_mongoDB.zip\r\n",
      "-rw-r--r--   1 JEONG  staff       946  7 12 17:50 수업09_02_html.html\r\n",
      "-rw-r--r--   1 JEONG  staff      6381  7 12 12:39 수업09_ORM.ipynb\r\n",
      "-rw-r--r--   1 JEONG  staff    136111  7 16 10:48 수업10 ~ 11 _ JSON & XML _ 대기오염분석.ipynb\r\n",
      "-rw-r--r--   1 JEONG  staff       698  7 13 10:44 수업10_CSS_02.html\r\n",
      "-rw-r--r--   1 JEONG  staff      4076  7 13 11:48 수업10_CSS_03.html\r\n",
      "-rw-r--r--   1 JEONG  staff   1524091  7 17 23:52 수업12_Crawling.ipynb\r\n",
      "-rw-r--r--   1 JEONG  staff    120573  7 18 02:11 수업12_과제.ipynb\r\n",
      "-rw-r--r--@  1 JEONG  staff     77824  7 18 02:09 수업12_과제_대기오염분석.db\r\n",
      "-rw-r--r--   1 JEONG  staff     35127  7 19 01:17 수업13_MongoDB & pymongo.ipynb\r\n",
      "-rw-r--r--@  1 JEONG  staff    276869  7 18 18:06 수업13_open, with, 인코딩.ipynb\r\n",
      "-rw-r--r--   1 JEONG  staff     11189  7 19 15:06 수업14_Regular Expression & Scrapping.ipynb\r\n",
      "-rw-r--r--@  1 JEONG  staff    280192  7  6 16:00 수업05_class.ipynb\r\n",
      "-rw-r--r--@  1 JEONG  staff      2381  7 12 16:46 수업09_01_html.html\r",
      "\r\n",
      "-rw-r--r--@  1 JEONG  staff      1004  7 13 10:21 수업10_CSS_01.html\r\n",
      "-rw-r--r--   1 JEONG  staff   1237229  7 19 00:38 수업11_스크래핑, 크롤링.ipynb\r\n",
      "-rw-r--r--   1 JEONG  staff     38854  7 19 01:39 수업13_과제_이미지 크롤링 및 db 저장.ipynb\r\n"
     ]
    }
   ],
   "source": [
    "!ls -al"
   ]
  },
  {
   "cell_type": "code",
   "execution_count": 83,
   "metadata": {},
   "outputs": [],
   "source": [
    "import json"
   ]
  },
  {
   "cell_type": "code",
   "execution_count": 91,
   "metadata": {},
   "outputs": [
    {
     "data": {
      "text/plain": [
       "'livewire_j'"
      ]
     },
     "execution_count": 91,
     "metadata": {},
     "output_type": "execute_result"
    }
   ],
   "source": [
    "with open('account.json','r') as f :\n",
    "    account = json.load(f)\n",
    "\n",
    "account['id']"
   ]
  },
  {
   "cell_type": "code",
   "execution_count": 110,
   "metadata": {},
   "outputs": [],
   "source": [
    "driver = webdriver.Chrome('./chromedriver')\n",
    "driver.get(\"https://www.naver.com\")"
   ]
  },
  {
   "cell_type": "code",
   "execution_count": 99,
   "metadata": {},
   "outputs": [],
   "source": [
    "from selenium.common.exceptions import NoSuchElementException"
   ]
  },
  {
   "cell_type": "code",
   "execution_count": 126,
   "metadata": {},
   "outputs": [],
   "source": [
    "driver.find_element_by_id(\"id\").send_keys(account['id'])\n",
    "driver.find_element_by_id(\"pw\").send_keys(account['pw'])\n",
    "driver.find_element_by_css_selector(\".btn_login > input\").click()"
   ]
  },
  {
   "cell_type": "code",
   "execution_count": 130,
   "metadata": {},
   "outputs": [
    {
     "name": "stdout",
     "output_type": "stream",
     "text": [
      "메일까지 가기 성공\n"
     ]
    }
   ],
   "source": [
    "try :\n",
    "    driver.find_element_by_xpath('//*[@id=\"PM_ID_ct\"]/div[1]/div[2]/div[1]/ul[1]/li[1]/a').click()\n",
    "except NoSuchElementException as e : \n",
    "    print(e)\n",
    "finally :\n",
    "    print('메일까지 가기 성공')"
   ]
  },
  {
   "cell_type": "code",
   "execution_count": 135,
   "metadata": {},
   "outputs": [],
   "source": [
    "html = driver.page_source\n",
    "mail_html = BeautifulSoup(html,'lxml')"
   ]
  },
  {
   "cell_type": "code",
   "execution_count": 148,
   "metadata": {},
   "outputs": [
    {
     "name": "stdout",
     "output_type": "stream",
     "text": [
      "메일 제목:#크라운제과 #우리은행 #귀뚜라미 #가장빠른 #채용속보\n",
      "메일 제목:(광고) 프라우드비뇨기과, 남성수술 49%양심할인 혜택 선착순 100명 무료 신청\n",
      "메일 제목:★우리은행 200명 정규직 채용★ 외 오늘 뜬 공고& 이번주 마감리스트\n",
      "메일 제목:#LG #SK #삼성 #현대 #대기업 #채용 #취업 #화이팅 \n",
      "메일 제목:#속보 #인천국제공항  #CJ #채용 #취업 \n",
      "메일 제목:인천국제공항공사 채용형 인턴 드디어 떴다!! 이외의 인턴/대외활동/회원글/콘텐츠 리스트!\n",
      "메일 제목:(광고)(무료)\"실제 대기업 합격자들의 81%는 대기업 채용 시즌에 앞서 '이 것'을 미리 준비했습니다!\" 채용 시작 전 미리 준비해야 할 \"이 것\"은?\n",
      "메일 제목:#SK #LG #현대 #꿀공고 #꼭 #보고가요 #취업 #화이팅\n",
      "메일 제목:★총 400명 대규모 채용★ 롯데쇼핑 외 오늘 뜬 공고 & 뉴스\n",
      "메일 제목: (광고) 외교부 서포터스 FRIENDS OF MOFA 13기 모집 (~7/26)\n",
      "메일 제목:#네오플 #꿀공고 #연봉 #스펙 #고민\n",
      "메일 제목:(광고)★전원무료★ 합격하는 자소서에는 7가지 비밀이 있다? 19년 경력 前공기업 채용담당자가 알려주는 합격자소서 작성법을 무료로 확인하세요!\n",
      "메일 제목:★00명 채용★ 주택도시보증공사 외 오늘 뜬 공고& 이번주 마감리스트\n",
      "메일 제목:(광고) ♨코레일♨ 국제철도협력기구(OSJD)부터 알고 지원하자!\n",
      "메일 제목:#한국기상산업기술원 #꿀공고 #채용 #인턴 #면접 #막장회사\n"
     ]
    }
   ],
   "source": [
    "for each in mail_html.select('.subject strong') :\n",
    "    print(each.text)"
   ]
  },
  {
   "cell_type": "markdown",
   "metadata": {},
   "source": [
    "해볼 것"
   ]
  },
  {
   "cell_type": "markdown",
   "metadata": {},
   "source": [
    "---\n",
    "## 실습"
   ]
  },
  {
   "cell_type": "code",
   "execution_count": 149,
   "metadata": {},
   "outputs": [],
   "source": [
    "driver = webdriver.Chrome('./chromedriver')\n",
    "driver.get(\"https://www.naver.com\")\n",
    "driver.find_element_by_id(\"id\").send_keys(account['id'])\n",
    "driver.find_element_by_id(\"pw\").send_keys(account['pw'])\n",
    "driver.find_element_by_css_selector(\".btn_login > input\").click()"
   ]
  },
  {
   "cell_type": "code",
   "execution_count": 157,
   "metadata": {},
   "outputs": [],
   "source": [
    "driver.find_element_by_css_selector(\".an_a.mn_news\").click()"
   ]
  },
  {
   "cell_type": "code",
   "execution_count": 161,
   "metadata": {},
   "outputs": [],
   "source": [
    "driver.find_element_by_css_selector(\"#text_today_main_news_428288 > li:nth-child(4) > div > a > strong\").click()"
   ]
  },
  {
   "cell_type": "code",
   "execution_count": 162,
   "metadata": {},
   "outputs": [],
   "source": [
    "driver.find_element_by_css_selector(\"#cbox_module__write_textarea\").send_keys('ㅋㅋㅋㅋㅋㅋㅋ')"
   ]
  },
  {
   "cell_type": "code",
   "execution_count": 165,
   "metadata": {},
   "outputs": [],
   "source": [
    "driver.find_element_by_xpath(\"\"\"//*[@id=\"cbox_module\"]/div/div[7]/div[1]/div/ul/li[3]/a/span[2]\"\"\").click()"
   ]
  },
  {
   "cell_type": "code",
   "execution_count": 166,
   "metadata": {},
   "outputs": [],
   "source": [
    "html = driver.page_source\n",
    "current_html = BeautifulSoup(html,'lxml')"
   ]
  },
  {
   "cell_type": "code",
   "execution_count": 204,
   "metadata": {},
   "outputs": [
    {
     "name": "stdout",
     "output_type": "stream",
     "text": [
      "lool****  >>>  미국에선 통하는 얼굴인가?\n",
      "dong****  >>>  부티나의 동생 싼티나도 즉각 검거해야한다.\n",
      "nina****  >>>  미인계가 안통할거 같은데...흠\n",
      "cach****  >>>  ‘미인계를 쓴 20대 여자’ 라는 문장에서 ‘미인’과 ‘20대’  가장 중요한 두개의 단어가 틀렸다\n",
      "airo****  >>>  저게 어딜봐서 미인이냐 설명 좀\n",
      "moon****  >>>  저 얼굴이 20대라고? 50대가 아니고?\n",
      "xbox****  >>>  더 놀라운 사실은 저얼굴이 29세...\n",
      "kun9****  >>>  저게 20대??일단 20대만 맞자\n",
      "qwer****  >>>  아주 이뻣으면 절대 안잡히는데   안이뻐서  먹고  버렸군\n",
      "swzo****  >>>  오케이. 알았으니까. 이제 미녀를 보여줘.\n"
     ]
    }
   ],
   "source": [
    "for each in current_html.select('div.u_cbox_comment_box > div') :\n",
    "    print(each.select_one('span > span > span > span > span').text+\"  >>>  \", end=\"\")\n",
    "    print(each.select_one('div.u_cbox_text_wrap > span').text)"
   ]
  },
  {
   "cell_type": "markdown",
   "metadata": {},
   "source": [
    "---"
   ]
  },
  {
   "cell_type": "code",
   "execution_count": 206,
   "metadata": {},
   "outputs": [
    {
     "name": "stdout",
     "output_type": "stream",
     "text": [
      "alabaster==0.7.10\r\n",
      "anaconda-client==1.6.9\r\n",
      "anaconda-project==0.8.2\r\n",
      "appnope==0.1.0\r\n",
      "appscript==1.0.1\r\n",
      "asn1crypto==0.24.0\r\n",
      "astroid==1.6.1\r\n",
      "astropy==2.0.3\r\n",
      "attrs==17.4.0\r\n",
      "Babel==2.5.3\r\n",
      "backports.shutil-get-terminal-size==1.0.0\r\n",
      "basemap==1.0.7\r\n",
      "beautifulsoup4==4.6.0\r\n",
      "bitarray==0.8.1\r\n",
      "bkcharts==0.2\r\n",
      "blaze==0.11.3\r\n",
      "bleach==2.1.2\r\n",
      "bokeh==0.12.13\r\n",
      "boto==2.48.0\r\n",
      "boto3==1.7.30\r\n",
      "botocore==1.10.30\r\n",
      "Bottleneck==1.2.1\r\n",
      "branca==0.3.0\r\n",
      "builtwith==1.3.3\r\n",
      "bz2file==0.98\r\n",
      "certifi==2018.4.16\r\n",
      "cffi==1.11.4\r\n",
      "chardet==3.0.4\r\n",
      "click==6.7\r\n",
      "cloudpickle==0.5.2\r\n",
      "clyent==1.2.2\r\n",
      "colorama==0.3.9\r\n",
      "contextlib2==0.5.5\r\n",
      "cryptography==2.1.4\r\n",
      "cssselect==1.0.3\r\n",
      "cycler==0.10.0\r\n",
      "Cython==0.27.3\r\n",
      "cytoolz==0.9.0\r\n",
      "dask==0.16.1\r\n",
      "datashape==0.5.4\r\n",
      "decorator==4.2.1\r\n",
      "distributed==1.20.2\r\n",
      "docutils==0.14\r\n",
      "entrypoints==0.2.3\r\n",
      "et-xmlfile==1.0.1\r\n",
      "fastcache==1.0.2\r\n",
      "fbprophet==0.2.1\r\n",
      "filelock==2.0.13\r\n",
      "Flask==0.12.2\r\n",
      "Flask-Cors==3.0.3\r\n",
      "folium==0.5.0\r\n",
      "future==0.16.0\r\n",
      "gensim==3.4.0\r\n",
      "gevent==1.2.2\r\n",
      "glob2==0.6\r\n",
      "gmpy2==2.0.8\r\n",
      "googlemaps==2.5.1\r\n",
      "greenlet==0.4.12\r\n",
      "h5py==2.7.1\r\n",
      "heapdict==1.0.0\r\n",
      "html5lib==1.0.1\r\n",
      "idna==2.6\r\n",
      "imageio==2.2.0\r\n",
      "imagesize==0.7.1\r\n",
      "ipykernel==4.8.0\r\n",
      "ipython==6.2.1\r\n",
      "ipython-genutils==0.2.0\r\n",
      "ipywidgets==7.2.1\r\n",
      "isort==4.2.15\r\n",
      "itsdangerous==0.24\r\n",
      "jdcal==1.3\r\n",
      "jedi==0.11.1\r\n",
      "Jinja2==2.10\r\n",
      "jmespath==0.9.3\r\n",
      "JPype1-py3==0.5.5.2\r\n",
      "jsonschema==2.6.0\r\n",
      "jupyter==1.0.0\r\n",
      "jupyter-client==5.2.2\r\n",
      "jupyter-console==5.2.0\r\n",
      "jupyter-core==4.4.0\r\n",
      "jupyterlab==0.31.5\r\n",
      "jupyterlab-launcher==0.10.2\r\n",
      "konlpy==0.4.4\r\n",
      "lazy-object-proxy==1.3.1\r\n",
      "llvmlite==0.21.0\r\n",
      "locket==0.2.0\r\n",
      "lxml==4.2.1\r\n",
      "MarkupSafe==1.0\r\n",
      "matplotlib==2.1.2\r\n",
      "mccabe==0.6.1\r\n",
      "mistune==0.8.3\r\n",
      "mpmath==1.0.0\r\n",
      "msgpack-python==0.5.1\r\n",
      "multipledispatch==0.4.9\r\n",
      "nbconvert==5.3.1\r\n",
      "nbformat==4.4.0\r\n",
      "networkx==2.1\r\n",
      "nltk==3.2.5\r\n",
      "nose==1.3.7\r\n",
      "notebook==5.5.0\r\n",
      "numba==0.36.2\r\n",
      "numexpr==2.6.4\r\n",
      "numpy==1.13.3\r\n",
      "numpydoc==0.7.0\r\n",
      "odo==0.5.1\r\n",
      "olefile==0.45.1\r\n",
      "openpyxl==2.4.10\r\n",
      "packaging==16.8\r\n",
      "pandas==0.22.0\r\n",
      "pandas-datareader==0.6.0\r\n",
      "pandocfilters==1.4.2\r\n",
      "parso==0.1.1\r\n",
      "partd==0.3.8\r\n",
      "path.py==10.5\r\n",
      "pathlib2==2.3.0\r\n",
      "patsy==0.5.0\r\n",
      "pep8==1.7.1\r\n",
      "pexpect==4.3.1\r\n",
      "pickleshare==0.7.4\r\n",
      "Pillow==5.0.0\r\n",
      "pkginfo==1.4.1\r\n",
      "pluggy==0.6.0\r\n",
      "ply==3.10\r\n",
      "prompt-toolkit==1.0.15\r\n",
      "prophet==0.1.1\r\n",
      "psutil==5.4.3\r\n",
      "ptyprocess==0.5.2\r\n",
      "py==1.5.2\r\n",
      "pycodestyle==2.3.1\r\n",
      "pycosat==0.6.3\r\n",
      "pycparser==2.18\r\n",
      "pycrypto==2.6.1\r\n",
      "pycurl==7.43.0.1\r\n",
      "pyflakes==1.6.0\r\n",
      "Pygments==2.2.0\r\n",
      "pylint==1.8.2\r\n",
      "pymongo==3.7.1\r\n",
      "pyodbc==4.0.22\r\n",
      "pyOpenSSL==17.5.0\r\n",
      "pyparsing==2.2.0\r\n",
      "PySocks==1.6.7\r\n",
      "pystan==2.17.1.0\r\n",
      "pytest==3.3.2\r\n",
      "python-dateutil==2.6.1\r\n",
      "python-whois==0.7.0\r\n",
      "pytz==2017.3\r\n",
      "PyWavelets==0.5.2\r\n",
      "PyYAML==3.12\r\n",
      "pyzmq==17.0.0\r\n",
      "QtAwesome==0.4.4\r\n",
      "qtconsole==4.3.1\r\n",
      "QtPy==1.3.1\r\n",
      "requests==2.18.4\r\n",
      "requests-file==1.4.3\r\n",
      "requests-ftp==0.3.1\r\n",
      "rope==0.10.7\r\n",
      "ruamel-yaml==0.15.35\r\n",
      "s3transfer==0.1.13\r\n",
      "scikit-image==0.13.1\r\n",
      "scikit-learn==0.19.1\r\n",
      "scipy==1.0.0\r\n",
      "seaborn==0.8.1\r\n",
      "selenium==3.12.0\r\n",
      "Send2Trash==1.4.2\r\n",
      "simplegeneric==0.8.1\r\n",
      "singledispatch==3.4.0.3\r\n",
      "six==1.11.0\r\n",
      "smart-open==1.5.7\r\n",
      "snowballstemmer==1.2.1\r\n",
      "sortedcollections==0.5.3\r\n",
      "sortedcontainers==1.5.9\r\n",
      "Sphinx==1.6.6\r\n",
      "sphinxcontrib-websupport==1.0.1\r\n",
      "spyder==3.2.6\r\n",
      "SQLAlchemy==1.2.1\r\n",
      "statsmodels==0.8.0\r\n",
      "sympy==1.1.1\r\n",
      "tables==3.4.2\r\n",
      "tblib==1.3.2\r\n",
      "terminado==0.8.1\r\n",
      "testpath==0.3.1\r\n",
      "toolz==0.9.0\r\n",
      "tornado==4.5.3\r\n",
      "tqdm==4.23.3\r\n",
      "traitlets==4.3.2\r\n",
      "typing==3.6.2\r\n",
      "ujson==1.35\r\n",
      "unicodecsv==0.14.1\r\n",
      "urllib3==1.22\r\n",
      "wcwidth==0.1.7\r\n",
      "webencodings==0.5.1\r\n",
      "Werkzeug==0.14.1\r\n",
      "whois==0.7\r\n",
      "widgetsnbextension==3.2.1\r\n",
      "wordcloud==1.4.1\r\n",
      "wrapt==1.10.11\r\n",
      "xlrd==1.1.0\r\n",
      "XlsxWriter==1.0.2\r\n",
      "xlwings==0.11.5\r\n",
      "xlwt==1.2.0\r\n",
      "zict==0.1.3\r\n"
     ]
    }
   ],
   "source": [
    "!pip freeze # 내 컴퓨터에 설치되어 있는 모든 모듈들"
   ]
  },
  {
   "cell_type": "code",
   "execution_count": null,
   "metadata": {},
   "outputs": [],
   "source": []
  }
 ],
 "metadata": {
  "kernelspec": {
   "display_name": "Python 3",
   "language": "python",
   "name": "python3"
  },
  "language_info": {
   "codemirror_mode": {
    "name": "ipython",
    "version": 3
   },
   "file_extension": ".py",
   "mimetype": "text/x-python",
   "name": "python",
   "nbconvert_exporter": "python",
   "pygments_lexer": "ipython3",
   "version": "3.6.4"
  }
 },
 "nbformat": 4,
 "nbformat_minor": 2
}
